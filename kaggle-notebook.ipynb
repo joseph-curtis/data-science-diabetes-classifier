{
 "cells": [
  {
   "cell_type": "markdown",
   "id": "eac9a77c",
   "metadata": {
    "papermill": {
     "duration": 0.011956,
     "end_time": "2024-03-13T11:31:12.650557",
     "exception": false,
     "start_time": "2024-03-13T11:31:12.638601",
     "status": "completed"
    },
    "tags": []
   },
   "source": [
    "<a href=\"https://www.kaggle.com/code/josephcurtis/at-risk-diabetes-classifier\" target=\"_blank\"><img align=\"left\" alt=\"Kaggle\" title=\"Open in Kaggle\" width=\"167\" height=\"30\" src=\"https://kaggle.com/static/images/open-in-kaggle.svg\" /></a>"
   ]
  },
  {
   "cell_type": "markdown",
   "id": "07ecbc75",
   "metadata": {
    "papermill": {
     "duration": 0.011193,
     "end_time": "2024-03-13T11:31:12.673494",
     "exception": false,
     "start_time": "2024-03-13T11:31:12.662301",
     "status": "completed"
    },
    "tags": []
   },
   "source": [
    "# At-Risk Diabetes Classifier\n",
    "\n",
    "**Author:** Joseph Curtis\n",
    "\n",
    "# Overview\n",
    "\n",
    "This notebook presents the At-Risk Diabetes Classifier, a machine learning project aimed at identifying individuals at risk of diabetes based on a variety of health indicators. By analyzing a dataset with features such as BMI, age, smoking status, physical activity, and more, we develop and train a supervised model to predict the likelihood of diabetes.\n",
    "\n",
    "The project demonstrates:\n",
    "- Data preprocessing and cleaning techniques.\n",
    "- Exploratory data analysis (EDA) to understand the relationships within the data.\n",
    "- Feature selection and engineering to prepare the data for modeling.\n",
    "- Evaluation and comparison of different machine learning models, including Logistic Regression and Random Forest, to find the most effective predictor of diabetes risk.\n",
    "\n",
    "This work is part of an ongoing exploration into how data science can be applied to healthcare data to predict disease risk and support early intervention strategies.\n",
    "\n",
    "For more information, source code, and related resources, please visit the project's GitHub repository at [github.com/joseph-curtis](https://github.com/joseph-curtis/data-science-diabetes-classifier)\n",
    "\n",
    "- <a href=\"https://github.com/joseph-curtis/data-science-diabetes-classifier\" target=\"_blank\"><img align=\"left\" alt=\"Github\" title=\"Open in Github\" width=\"144\" height=\"42\" src=\"https://img.shields.io/badge/GitHub-372a4a?style=for-the-badge&logo=github&logoColor=white\" /></a>"
   ]
  },
  {
   "cell_type": "markdown",
   "id": "2fa83ebb",
   "metadata": {
    "papermill": {
     "duration": 0.011244,
     "end_time": "2024-03-13T11:31:12.696945",
     "exception": false,
     "start_time": "2024-03-13T11:31:12.685701",
     "status": "completed"
    },
    "tags": []
   },
   "source": [
    "# Data Preparation and Initial Analysis\n",
    "\n",
    "Here we focus on preparing and analyzing health indicator data for diabetes from the years 2015 and 2021. The goal is to combine these datasets to form a comprehensive view of the data, which can later be used for machine learning modeling. The following steps are taken:\n",
    "\n",
    "1. Import Libraries\n",
    "2. Load the Data\n",
    "3. Combine the DataFrames\n",
    "4. Rename the column 'Diabetes_binary' for brevity"
   ]
  },
  {
   "cell_type": "code",
   "execution_count": 1,
   "id": "64155cde",
   "metadata": {
    "execution": {
     "iopub.execute_input": "2024-03-13T11:31:12.723275Z",
     "iopub.status.busy": "2024-03-13T11:31:12.721948Z",
     "iopub.status.idle": "2024-03-13T11:31:17.052448Z",
     "shell.execute_reply": "2024-03-13T11:31:17.051263Z"
    },
    "jupyter": {
     "source_hidden": true
    },
    "papermill": {
     "duration": 4.346047,
     "end_time": "2024-03-13T11:31:17.055075",
     "exception": false,
     "start_time": "2024-03-13T11:31:12.709028",
     "status": "completed"
    },
    "tags": []
   },
   "outputs": [
    {
     "data": {
      "text/plain": [
       "(   Diabetes  HighBP  HighChol  CholCheck   BMI  Smoker  Stroke  \\\n",
       " 0       0.0     1.0       0.0        1.0  26.0     0.0     0.0   \n",
       " 1       0.0     1.0       1.0        1.0  26.0     1.0     1.0   \n",
       " 2       0.0     0.0       0.0        1.0  26.0     0.0     0.0   \n",
       " 3       0.0     1.0       1.0        1.0  28.0     1.0     0.0   \n",
       " 4       0.0     0.0       0.0        1.0  29.0     1.0     0.0   \n",
       " \n",
       "    HeartDiseaseorAttack  PhysActivity  Fruits  ...  AnyHealthcare  \\\n",
       " 0                   0.0           1.0     0.0  ...            1.0   \n",
       " 1                   0.0           0.0     1.0  ...            1.0   \n",
       " 2                   0.0           1.0     1.0  ...            1.0   \n",
       " 3                   0.0           1.0     1.0  ...            1.0   \n",
       " 4                   0.0           1.0     1.0  ...            1.0   \n",
       " \n",
       "    NoDocbcCost  GenHlth  MentHlth  PhysHlth  DiffWalk  Sex   Age  Education  \\\n",
       " 0          0.0      3.0       5.0      30.0       0.0  1.0   4.0        6.0   \n",
       " 1          0.0      3.0       0.0       0.0       0.0  1.0  12.0        6.0   \n",
       " 2          0.0      1.0       0.0      10.0       0.0  1.0  13.0        6.0   \n",
       " 3          0.0      3.0       0.0       3.0       0.0  1.0  11.0        6.0   \n",
       " 4          0.0      2.0       0.0       0.0       0.0  0.0   8.0        5.0   \n",
       " \n",
       "    Income  \n",
       " 0     8.0  \n",
       " 1     8.0  \n",
       " 2     8.0  \n",
       " 3     8.0  \n",
       " 4     8.0  \n",
       " \n",
       " [5 rows x 22 columns],\n",
       " (137828, 22))"
      ]
     },
     "execution_count": 1,
     "metadata": {},
     "output_type": "execute_result"
    }
   ],
   "source": [
    "# import Libraries\n",
    "import matplotlib.pyplot as plt\n",
    "import numpy as np\n",
    "import pandas as pd\n",
    "import seaborn as sns\n",
    "from IPython.display import display\n",
    "from matplotlib import pyplot\n",
    "from pandas.plotting import scatter_matrix\n",
    "from sklearn import linear_model, metrics, model_selection\n",
    "from sklearn.ensemble import RandomForestClassifier\n",
    "from sklearn.linear_model import LogisticRegression\n",
    "from sklearn.metrics import (\n",
    "    ConfusionMatrixDisplay,\n",
    "    accuracy_score,\n",
    "    classification_report,\n",
    "    confusion_matrix,\n",
    ")\n",
    "from sklearn.model_selection import KFold, cross_val_score, train_test_split\n",
    "from sklearn.preprocessing import MinMaxScaler\n",
    "\n",
    "# file names and urls\n",
    "filepath_2015 = \"/kaggle/input/diabetes-health-indicators-dataset\\\n",
    "/diabetes_binary_5050split_health_indicators_BRFSS2015.csv\"\n",
    "filepath_2021 = \"/kaggle/input/d/julnazz/diabetes-health-indicators-dataset\\\n",
    "/diabetes_binary_5050split_health_indicators_BRFSS2021.csv\"\n",
    "df1 = pd.read_csv(filepath_2015)\n",
    "df2 = pd.read_csv(filepath_2021)\n",
    "\n",
    "# Combine the two DataFrames\n",
    "combined_df = pd.concat([df1, df2], axis=0).reset_index(drop=True)\n",
    "\n",
    "# Rename the 'Diabetes_binary' column to 'Diabetes'\n",
    "combined_df.rename(columns={\"Diabetes_binary\": \"Diabetes\"}, inplace=True)\n",
    "\n",
    "# Display the first few rows of the combined dataframe\n",
    "# and its shape to verify the combination\n",
    "combined_df_info = combined_df.head(), combined_df.shape\n",
    "\n",
    "combined_df_info  # output"
   ]
  },
  {
   "cell_type": "markdown",
   "id": "a1ca9533",
   "metadata": {
    "papermill": {
     "duration": 0.011744,
     "end_time": "2024-03-13T11:31:17.079090",
     "exception": false,
     "start_time": "2024-03-13T11:31:17.067346",
     "status": "completed"
    },
    "tags": []
   },
   "source": [
    "# Removing Features\n",
    "\n",
    "Here we remove features deemed irrelevant for modeling purposes. We specify a list of columns to be removed and then drop these columns from the combined DataFrame.\n",
    "\n",
    "We reverse the values of the \"General Health\" feature to make it more clear to the audience when graphed. This makes a value of 5 = \"excellent\" and value of 1 = \"poor\"."
   ]
  },
  {
   "cell_type": "code",
   "execution_count": 2,
   "id": "fe178d1f",
   "metadata": {
    "execution": {
     "iopub.execute_input": "2024-03-13T11:31:17.105586Z",
     "iopub.status.busy": "2024-03-13T11:31:17.104448Z",
     "iopub.status.idle": "2024-03-13T11:31:17.150920Z",
     "shell.execute_reply": "2024-03-13T11:31:17.149705Z"
    },
    "papermill": {
     "duration": 0.06276,
     "end_time": "2024-03-13T11:31:17.153769",
     "exception": false,
     "start_time": "2024-03-13T11:31:17.091009",
     "status": "completed"
    },
    "tags": []
   },
   "outputs": [
    {
     "data": {
      "text/html": [
       "<div>\n",
       "<style scoped>\n",
       "    .dataframe tbody tr th:only-of-type {\n",
       "        vertical-align: middle;\n",
       "    }\n",
       "\n",
       "    .dataframe tbody tr th {\n",
       "        vertical-align: top;\n",
       "    }\n",
       "\n",
       "    .dataframe thead th {\n",
       "        text-align: right;\n",
       "    }\n",
       "</style>\n",
       "<table border=\"1\" class=\"dataframe\">\n",
       "  <thead>\n",
       "    <tr style=\"text-align: right;\">\n",
       "      <th></th>\n",
       "      <th>Diabetes</th>\n",
       "      <th>HighBP</th>\n",
       "      <th>HighChol</th>\n",
       "      <th>BMI</th>\n",
       "      <th>Smoker</th>\n",
       "      <th>Stroke</th>\n",
       "      <th>HeartDiseaseorAttack</th>\n",
       "      <th>PhysActivity</th>\n",
       "      <th>Fruits</th>\n",
       "      <th>Veggies</th>\n",
       "      <th>HvyAlcoholConsump</th>\n",
       "      <th>GenHlth</th>\n",
       "      <th>MentHlth</th>\n",
       "      <th>PhysHlth</th>\n",
       "      <th>DiffWalk</th>\n",
       "      <th>Sex</th>\n",
       "      <th>Age</th>\n",
       "    </tr>\n",
       "  </thead>\n",
       "  <tbody>\n",
       "    <tr>\n",
       "      <th>0</th>\n",
       "      <td>0.0</td>\n",
       "      <td>1.0</td>\n",
       "      <td>0.0</td>\n",
       "      <td>26.0</td>\n",
       "      <td>0.0</td>\n",
       "      <td>0.0</td>\n",
       "      <td>0.0</td>\n",
       "      <td>1.0</td>\n",
       "      <td>0.0</td>\n",
       "      <td>1.0</td>\n",
       "      <td>0.0</td>\n",
       "      <td>3.0</td>\n",
       "      <td>5.0</td>\n",
       "      <td>30.0</td>\n",
       "      <td>0.0</td>\n",
       "      <td>1.0</td>\n",
       "      <td>4.0</td>\n",
       "    </tr>\n",
       "    <tr>\n",
       "      <th>1</th>\n",
       "      <td>0.0</td>\n",
       "      <td>1.0</td>\n",
       "      <td>1.0</td>\n",
       "      <td>26.0</td>\n",
       "      <td>1.0</td>\n",
       "      <td>1.0</td>\n",
       "      <td>0.0</td>\n",
       "      <td>0.0</td>\n",
       "      <td>1.0</td>\n",
       "      <td>0.0</td>\n",
       "      <td>0.0</td>\n",
       "      <td>3.0</td>\n",
       "      <td>0.0</td>\n",
       "      <td>0.0</td>\n",
       "      <td>0.0</td>\n",
       "      <td>1.0</td>\n",
       "      <td>12.0</td>\n",
       "    </tr>\n",
       "    <tr>\n",
       "      <th>2</th>\n",
       "      <td>0.0</td>\n",
       "      <td>0.0</td>\n",
       "      <td>0.0</td>\n",
       "      <td>26.0</td>\n",
       "      <td>0.0</td>\n",
       "      <td>0.0</td>\n",
       "      <td>0.0</td>\n",
       "      <td>1.0</td>\n",
       "      <td>1.0</td>\n",
       "      <td>1.0</td>\n",
       "      <td>0.0</td>\n",
       "      <td>5.0</td>\n",
       "      <td>0.0</td>\n",
       "      <td>10.0</td>\n",
       "      <td>0.0</td>\n",
       "      <td>1.0</td>\n",
       "      <td>13.0</td>\n",
       "    </tr>\n",
       "    <tr>\n",
       "      <th>3</th>\n",
       "      <td>0.0</td>\n",
       "      <td>1.0</td>\n",
       "      <td>1.0</td>\n",
       "      <td>28.0</td>\n",
       "      <td>1.0</td>\n",
       "      <td>0.0</td>\n",
       "      <td>0.0</td>\n",
       "      <td>1.0</td>\n",
       "      <td>1.0</td>\n",
       "      <td>1.0</td>\n",
       "      <td>0.0</td>\n",
       "      <td>3.0</td>\n",
       "      <td>0.0</td>\n",
       "      <td>3.0</td>\n",
       "      <td>0.0</td>\n",
       "      <td>1.0</td>\n",
       "      <td>11.0</td>\n",
       "    </tr>\n",
       "    <tr>\n",
       "      <th>4</th>\n",
       "      <td>0.0</td>\n",
       "      <td>0.0</td>\n",
       "      <td>0.0</td>\n",
       "      <td>29.0</td>\n",
       "      <td>1.0</td>\n",
       "      <td>0.0</td>\n",
       "      <td>0.0</td>\n",
       "      <td>1.0</td>\n",
       "      <td>1.0</td>\n",
       "      <td>1.0</td>\n",
       "      <td>0.0</td>\n",
       "      <td>4.0</td>\n",
       "      <td>0.0</td>\n",
       "      <td>0.0</td>\n",
       "      <td>0.0</td>\n",
       "      <td>0.0</td>\n",
       "      <td>8.0</td>\n",
       "    </tr>\n",
       "  </tbody>\n",
       "</table>\n",
       "</div>"
      ],
      "text/plain": [
       "   Diabetes  HighBP  HighChol   BMI  Smoker  Stroke  HeartDiseaseorAttack  \\\n",
       "0       0.0     1.0       0.0  26.0     0.0     0.0                   0.0   \n",
       "1       0.0     1.0       1.0  26.0     1.0     1.0                   0.0   \n",
       "2       0.0     0.0       0.0  26.0     0.0     0.0                   0.0   \n",
       "3       0.0     1.0       1.0  28.0     1.0     0.0                   0.0   \n",
       "4       0.0     0.0       0.0  29.0     1.0     0.0                   0.0   \n",
       "\n",
       "   PhysActivity  Fruits  Veggies  HvyAlcoholConsump  GenHlth  MentHlth  \\\n",
       "0           1.0     0.0      1.0                0.0      3.0       5.0   \n",
       "1           0.0     1.0      0.0                0.0      3.0       0.0   \n",
       "2           1.0     1.0      1.0                0.0      5.0       0.0   \n",
       "3           1.0     1.0      1.0                0.0      3.0       0.0   \n",
       "4           1.0     1.0      1.0                0.0      4.0       0.0   \n",
       "\n",
       "   PhysHlth  DiffWalk  Sex   Age  \n",
       "0      30.0       0.0  1.0   4.0  \n",
       "1       0.0       0.0  1.0  12.0  \n",
       "2      10.0       0.0  1.0  13.0  \n",
       "3       3.0       0.0  1.0  11.0  \n",
       "4       0.0       0.0  0.0   8.0  "
      ]
     },
     "execution_count": 2,
     "metadata": {},
     "output_type": "execute_result"
    }
   ],
   "source": [
    "# Remove irrelevant features from the combined dataset\n",
    "columns_to_remove = [\"CholCheck\", \"AnyHealthcare\", \"NoDocbcCost\", \"Education\", \"Income\"]\n",
    "reduced_df = combined_df.drop(columns=columns_to_remove)\n",
    "\n",
    "# Reverse the values of 'GenHlth'\n",
    "reduced_df[\"GenHlth\"] = 6 - reduced_df[\"GenHlth\"]\n",
    "\n",
    "# Display the first few rows of the reduced dataframe to verify the removal\n",
    "reduced_df.head()"
   ]
  },
  {
   "cell_type": "markdown",
   "id": "2a828ca8",
   "metadata": {
    "papermill": {
     "duration": 0.011924,
     "end_time": "2024-03-13T11:31:17.178712",
     "exception": false,
     "start_time": "2024-03-13T11:31:17.166788",
     "status": "completed"
    },
    "tags": []
   },
   "source": [
    "# Check for Missing Values\n",
    "\n",
    "Here we check for missing values in the combined dataset. Note there are *NO* missing values found."
   ]
  },
  {
   "cell_type": "code",
   "execution_count": 3,
   "id": "7ecdcf99",
   "metadata": {
    "execution": {
     "iopub.execute_input": "2024-03-13T11:31:17.206877Z",
     "iopub.status.busy": "2024-03-13T11:31:17.206440Z",
     "iopub.status.idle": "2024-03-13T11:31:17.222472Z",
     "shell.execute_reply": "2024-03-13T11:31:17.221136Z"
    },
    "papermill": {
     "duration": 0.033409,
     "end_time": "2024-03-13T11:31:17.225417",
     "exception": false,
     "start_time": "2024-03-13T11:31:17.192008",
     "status": "completed"
    },
    "tags": []
   },
   "outputs": [
    {
     "data": {
      "text/plain": [
       "Diabetes                0\n",
       "HighBP                  0\n",
       "HighChol                0\n",
       "BMI                     0\n",
       "Smoker                  0\n",
       "Stroke                  0\n",
       "HeartDiseaseorAttack    0\n",
       "PhysActivity            0\n",
       "Fruits                  0\n",
       "Veggies                 0\n",
       "HvyAlcoholConsump       0\n",
       "GenHlth                 0\n",
       "MentHlth                0\n",
       "PhysHlth                0\n",
       "DiffWalk                0\n",
       "Sex                     0\n",
       "Age                     0\n",
       "dtype: int64"
      ]
     },
     "execution_count": 3,
     "metadata": {},
     "output_type": "execute_result"
    }
   ],
   "source": [
    "# Check for missing values in the reduced dataset\n",
    "missing_values = reduced_df.isnull().sum()\n",
    "\n",
    "missing_values  ## no missing values found"
   ]
  },
  {
   "cell_type": "markdown",
   "id": "683d7ad4",
   "metadata": {
    "papermill": {
     "duration": 0.01218,
     "end_time": "2024-03-13T11:31:17.250307",
     "exception": false,
     "start_time": "2024-03-13T11:31:17.238127",
     "status": "completed"
    },
    "tags": []
   },
   "source": [
    "# Data Type Optimization Analysis\n",
    "\n",
    "Here we perform a preliminary analysis aimed at optimizing data storage and processing efficiency by examining the range of values for selected features within the reduced dataset. Here we see that all numerical values are well within the range of an 8-bit integer (this dataset has no numbers with decimal values).\n",
    "\n",
    "We also calculate the memory used before we adjust the data types-- this is our baseline for memory usage."
   ]
  },
  {
   "cell_type": "code",
   "execution_count": 4,
   "id": "564eda15",
   "metadata": {
    "execution": {
     "iopub.execute_input": "2024-03-13T11:31:17.279198Z",
     "iopub.status.busy": "2024-03-13T11:31:17.278718Z",
     "iopub.status.idle": "2024-03-13T11:31:17.347602Z",
     "shell.execute_reply": "2024-03-13T11:31:17.346193Z"
    },
    "papermill": {
     "duration": 0.086827,
     "end_time": "2024-03-13T11:31:17.350242",
     "exception": false,
     "start_time": "2024-03-13T11:31:17.263415",
     "status": "completed"
    },
    "tags": []
   },
   "outputs": [
    {
     "data": {
      "text/html": [
       "<div>\n",
       "<style scoped>\n",
       "    .dataframe tbody tr th:only-of-type {\n",
       "        vertical-align: middle;\n",
       "    }\n",
       "\n",
       "    .dataframe tbody tr th {\n",
       "        vertical-align: top;\n",
       "    }\n",
       "\n",
       "    .dataframe thead th {\n",
       "        text-align: right;\n",
       "    }\n",
       "</style>\n",
       "<table border=\"1\" class=\"dataframe\">\n",
       "  <thead>\n",
       "    <tr style=\"text-align: right;\">\n",
       "      <th></th>\n",
       "      <th>BMI</th>\n",
       "      <th>GenHlth</th>\n",
       "      <th>MentHlth</th>\n",
       "      <th>PhysHlth</th>\n",
       "      <th>Age</th>\n",
       "    </tr>\n",
       "  </thead>\n",
       "  <tbody>\n",
       "    <tr>\n",
       "      <th>min</th>\n",
       "      <td>12.0</td>\n",
       "      <td>1.0</td>\n",
       "      <td>0.0</td>\n",
       "      <td>0.0</td>\n",
       "      <td>1.0</td>\n",
       "    </tr>\n",
       "    <tr>\n",
       "      <th>max</th>\n",
       "      <td>99.0</td>\n",
       "      <td>5.0</td>\n",
       "      <td>30.0</td>\n",
       "      <td>30.0</td>\n",
       "      <td>13.0</td>\n",
       "    </tr>\n",
       "  </tbody>\n",
       "</table>\n",
       "</div>"
      ],
      "text/plain": [
       "      BMI  GenHlth  MentHlth  PhysHlth   Age\n",
       "min  12.0      1.0       0.0       0.0   1.0\n",
       "max  99.0      5.0      30.0      30.0  13.0"
      ]
     },
     "execution_count": 4,
     "metadata": {},
     "output_type": "execute_result"
    }
   ],
   "source": [
    "# Check range of values of specified features to determine suitable data types\n",
    "features_to_optimize = [\"BMI\", \"GenHlth\", \"MentHlth\", \"PhysHlth\", \"Age\"]\n",
    "data_types_optimization = (\n",
    "    reduced_df[features_to_optimize].describe().loc[[\"min\", \"max\"]]\n",
    ")\n",
    "\n",
    "# Memory used before reducing data types\n",
    "memory_before = reduced_df.memory_usage(index=True).sum()\n",
    "\n",
    "data_types_optimization"
   ]
  },
  {
   "cell_type": "markdown",
   "id": "5e376259",
   "metadata": {
    "papermill": {
     "duration": 0.012313,
     "end_time": "2024-03-13T11:31:17.375591",
     "exception": false,
     "start_time": "2024-03-13T11:31:17.363278",
     "status": "completed"
    },
    "tags": []
   },
   "source": [
    "# Data Type Conversion for Efficiency\n",
    "\n",
    "We enhance the dataset's memory efficiency by converting specified binary columns to boolean data types. We print the memory usage before and after the operation to demonstrate the effectiveness of this optimization in reducing the dataset's memory consumption."
   ]
  },
  {
   "cell_type": "code",
   "execution_count": 5,
   "id": "43a2ab8c",
   "metadata": {
    "execution": {
     "iopub.execute_input": "2024-03-13T11:31:17.403455Z",
     "iopub.status.busy": "2024-03-13T11:31:17.403048Z",
     "iopub.status.idle": "2024-03-13T11:31:17.427858Z",
     "shell.execute_reply": "2024-03-13T11:31:17.426624Z"
    },
    "jupyter": {
     "source_hidden": true
    },
    "papermill": {
     "duration": 0.042024,
     "end_time": "2024-03-13T11:31:17.430643",
     "exception": false,
     "start_time": "2024-03-13T11:31:17.388619",
     "status": "completed"
    },
    "tags": []
   },
   "outputs": [
    {
     "name": "stdout",
     "output_type": "stream",
     "text": [
      "Dataframe memory used before: 18744736\n",
      "Dataframe memory used after:   2756688\n"
     ]
    }
   ],
   "source": [
    "# scale data types down to reduce memory footprint\n",
    "reduced_df[\"BMI\"] = reduced_df[\"BMI\"].astype(\"float32\")\n",
    "reduced_df[\"GenHlth\"] = reduced_df[\"GenHlth\"].astype(\"int8\")\n",
    "reduced_df[\"MentHlth\"] = reduced_df[\"MentHlth\"].astype(\"int8\")\n",
    "reduced_df[\"PhysHlth\"] = reduced_df[\"PhysHlth\"].astype(\"int8\")\n",
    "reduced_df[\"Age\"] = reduced_df[\"Age\"].astype(\"int8\")\n",
    "\n",
    "# convert 1/0 binary columns to boolean values\n",
    "binary_columns = [\n",
    "    \"Diabetes\",\n",
    "    \"HighBP\",\n",
    "    \"HighChol\",\n",
    "    \"Smoker\",\n",
    "    \"Stroke\",\n",
    "    \"HeartDiseaseorAttack\",\n",
    "    \"PhysActivity\",\n",
    "    \"Fruits\",\n",
    "    \"Veggies\",\n",
    "    \"HvyAlcoholConsump\",\n",
    "    \"DiffWalk\",\n",
    "    \"Sex\",\n",
    "]\n",
    "for column in binary_columns:\n",
    "    reduced_df[column] = reduced_df[column].astype(\"bool\")\n",
    "\n",
    "# memory size after data type reduction\n",
    "memory_after = reduced_df.memory_usage(index=True).sum()\n",
    "\n",
    "print(\"Dataframe memory used before:\", memory_before)\n",
    "print(\"Dataframe memory used after:  \", memory_after)"
   ]
  },
  {
   "cell_type": "markdown",
   "id": "ad6b1adf",
   "metadata": {
    "papermill": {
     "duration": 0.012391,
     "end_time": "2024-03-13T11:31:17.455870",
     "exception": false,
     "start_time": "2024-03-13T11:31:17.443479",
     "status": "completed"
    },
    "tags": []
   },
   "source": [
    "# Logistic Regression Model for Diabetes Prediction\n",
    "\n",
    "Here we prepare data for machine learning, specifically using a logistic regression model to predict diabetes. First, numerical columns are identified and scaled using MinMaxScaler to ensure all features contribute equally to the model without bias from varying scales. A logistic regression model is then initialized with specific parameters. The dataset is split into features (X_log) and the target variable (y_log). The data is further divided into training and test sets to evaluate the model's performance on unseen data.\n",
    "\n",
    "After training the logistic regression model, predictions are made on the test set. The model's effectiveness is assessed using accuracy, confusion matrix, and classification report, providing a comprehensive overview of its predictive capabilities in distinguishing between diabetic and non-diabetic individuals."
   ]
  },
  {
   "cell_type": "code",
   "execution_count": 6,
   "id": "6d52f5fa",
   "metadata": {
    "execution": {
     "iopub.execute_input": "2024-03-13T11:31:17.483163Z",
     "iopub.status.busy": "2024-03-13T11:31:17.482737Z",
     "iopub.status.idle": "2024-03-13T11:31:18.787540Z",
     "shell.execute_reply": "2024-03-13T11:31:18.786346Z"
    },
    "papermill": {
     "duration": 1.32228,
     "end_time": "2024-03-13T11:31:18.790866",
     "exception": false,
     "start_time": "2024-03-13T11:31:17.468586",
     "status": "completed"
    },
    "tags": []
   },
   "outputs": [
    {
     "name": "stdout",
     "output_type": "stream",
     "text": [
      "\n",
      "Logistic Regression (single) prediction results: \n",
      "\n",
      "Accuracy: 74.58 % \n",
      "\n",
      "Confusion Matrix:\n",
      "[[12557  4656]\n",
      " [ 4102 13142]] \n",
      "\n",
      "Classification Report:\n",
      "              precision    recall  f1-score   support\n",
      "\n",
      "       False       0.75      0.73      0.74     17213\n",
      "        True       0.74      0.76      0.75     17244\n",
      "\n",
      "    accuracy                           0.75     34457\n",
      "   macro avg       0.75      0.75      0.75     34457\n",
      "weighted avg       0.75      0.75      0.75     34457\n",
      "\n"
     ]
    }
   ],
   "source": [
    "# copy Dataframe for Logistic model\n",
    "log_df = reduced_df.copy(deep=True)\n",
    "\n",
    "# Selecting numerical columns (excluding binary/boolean columns)\n",
    "numerical_columns = [\"BMI\", \"GenHlth\", \"MentHlth\", \"PhysHlth\", \"Age\"]\n",
    "\n",
    "# Initialize the MinMaxScaler\n",
    "scaler = MinMaxScaler()\n",
    "\n",
    "# Fit and transform the numerical features\n",
    "log_df[numerical_columns] = scaler.fit_transform(log_df[numerical_columns])\n",
    "\n",
    "mylog_model = linear_model.LogisticRegression(solver=\"saga\", max_iter=1000)\n",
    "\n",
    "# 'X' is the feature set and 'y' is the target variable\n",
    "X_log = log_df.drop(\"Diabetes\", axis=1)\n",
    "y_log = log_df[\"Diabetes\"].astype(\"bool\")  # Ensuring the target is boolean\n",
    "\n",
    "# Splitting the dataset into the Training set and Test set\n",
    "X_log_train, X_log_test, y_log_train, y_log_test = model_selection.train_test_split(\n",
    "    X_log, y_log, test_size=0.25, random_state=42\n",
    ")\n",
    "\n",
    "# Train the model and output prediction of test data\n",
    "mylog_model.fit(X_log_train, y_log_train)\n",
    "y_pred_log = mylog_model.predict(X_log_test)\n",
    "\n",
    "# Evaluate the model\n",
    "accuracy_log = accuracy_score(y_log_test, y_pred_log)\n",
    "conf_matrix_log = confusion_matrix(y_log_test, y_pred_log)\n",
    "class_report_log = classification_report(y_log_test, y_pred_log)\n",
    "\n",
    "print(\"\\nLogistic Regression (single) prediction results:\", \"\\n\")\n",
    "print(f\"Accuracy: {round(accuracy_log*100,2)} %\", \"\\n\")\n",
    "print(\"Confusion Matrix:\")\n",
    "print(conf_matrix_log, \"\\n\")\n",
    "print(\"Classification Report:\")\n",
    "print(class_report_log)"
   ]
  },
  {
   "cell_type": "markdown",
   "id": "b08ebd8e",
   "metadata": {
    "papermill": {
     "duration": 0.013179,
     "end_time": "2024-03-13T11:31:18.817689",
     "exception": false,
     "start_time": "2024-03-13T11:31:18.804510",
     "status": "completed"
    },
    "tags": []
   },
   "source": [
    "# Exporting the Model\n",
    "\n",
    "To save the trained model, we can use the joblib library. Here we show how to save and load the model."
   ]
  },
  {
   "cell_type": "code",
   "execution_count": 7,
   "id": "c3d9ad92",
   "metadata": {
    "execution": {
     "iopub.execute_input": "2024-03-13T11:31:18.846431Z",
     "iopub.status.busy": "2024-03-13T11:31:18.845653Z",
     "iopub.status.idle": "2024-03-13T11:31:18.855470Z",
     "shell.execute_reply": "2024-03-13T11:31:18.854425Z"
    },
    "papermill": {
     "duration": 0.027138,
     "end_time": "2024-03-13T11:31:18.857986",
     "exception": false,
     "start_time": "2024-03-13T11:31:18.830848",
     "status": "completed"
    },
    "tags": []
   },
   "outputs": [
    {
     "data": {
      "text/plain": [
       "['diabetes-classifier-log_model.pkl']"
      ]
     },
     "execution_count": 7,
     "metadata": {},
     "output_type": "execute_result"
    }
   ],
   "source": [
    "import joblib\n",
    "\n",
    "# Save the model to a file\n",
    "joblib.dump(mylog_model, 'diabetes-classifier-log_model.pkl')\n",
    "\n",
    "# Later, load the model from the file with the following:\n",
    "# mylog_model = joblib.load('my_model_filename.pkl')"
   ]
  },
  {
   "cell_type": "markdown",
   "id": "f6e14519",
   "metadata": {
    "papermill": {
     "duration": 0.016266,
     "end_time": "2024-03-13T11:31:18.887429",
     "exception": false,
     "start_time": "2024-03-13T11:31:18.871163",
     "status": "completed"
    },
    "tags": []
   },
   "source": [
    "# Patient Outcome Prediction\n",
    "\n",
    "This here is the objective of this project: to predict whether or not a patient is at risk of diabetes. The user enters the various health indicators, clicks the button and gets a prediction printed below."
   ]
  },
  {
   "cell_type": "code",
   "execution_count": 8,
   "id": "f987321f",
   "metadata": {
    "execution": {
     "iopub.execute_input": "2024-03-13T11:31:18.918967Z",
     "iopub.status.busy": "2024-03-13T11:31:18.917998Z",
     "iopub.status.idle": "2024-03-13T11:31:19.060639Z",
     "shell.execute_reply": "2024-03-13T11:31:19.059600Z"
    },
    "jupyter": {
     "source_hidden": true
    },
    "papermill": {
     "duration": 0.196571,
     "end_time": "2024-03-13T11:31:19.099413",
     "exception": false,
     "start_time": "2024-03-13T11:31:18.902842",
     "status": "completed"
    },
    "tags": []
   },
   "outputs": [
    {
     "data": {
      "application/vnd.jupyter.widget-view+json": {
       "model_id": "e6f89ff33b444c23b250f2d971b63182",
       "version_major": 2,
       "version_minor": 0
      },
      "text/plain": [
       "RadioButtons(description='Sex : ', options={'Female': 0, 'Male': 1}, value=0)"
      ]
     },
     "metadata": {},
     "output_type": "display_data"
    },
    {
     "data": {
      "application/vnd.jupyter.widget-view+json": {
       "model_id": "106b34b590e140268915f0aa2839d247",
       "version_major": 2,
       "version_minor": 0
      },
      "text/plain": [
       "Label(value='Age category (1 = 18-24, 4 = 35-39, 8 = 55-59, 13 = 80 or older) :')"
      ]
     },
     "metadata": {},
     "output_type": "display_data"
    },
    {
     "data": {
      "application/vnd.jupyter.widget-view+json": {
       "model_id": "f64c7e20d0c34c29a60cbcb03b37d785",
       "version_major": 2,
       "version_minor": 0
      },
      "text/plain": [
       "FloatSlider(value=8.0, max=13.0, min=1.0, step=1.0)"
      ]
     },
     "metadata": {},
     "output_type": "display_data"
    },
    {
     "data": {
      "application/vnd.jupyter.widget-view+json": {
       "model_id": "335f2ca93e0c493ba03b4693d4b95288",
       "version_major": 2,
       "version_minor": 0
      },
      "text/plain": [
       "Label(value='Body Mass Index :')"
      ]
     },
     "metadata": {},
     "output_type": "display_data"
    },
    {
     "data": {
      "application/vnd.jupyter.widget-view+json": {
       "model_id": "850e86195b1e453382eab07967d70465",
       "version_major": 2,
       "version_minor": 0
      },
      "text/plain": [
       "FloatSlider(value=20.0, max=50.0, min=10.0)"
      ]
     },
     "metadata": {},
     "output_type": "display_data"
    },
    {
     "data": {
      "application/vnd.jupyter.widget-view+json": {
       "model_id": "4c629a8be4144d2abf1ee0c45ebe0fb7",
       "version_major": 2,
       "version_minor": 0
      },
      "text/plain": [
       "RadioButtons(description='High Blood Pressure : ', options={'No': 0, 'Yes': 1}, value=0)"
      ]
     },
     "metadata": {},
     "output_type": "display_data"
    },
    {
     "data": {
      "application/vnd.jupyter.widget-view+json": {
       "model_id": "615465b8ecf8429488804d9e0f85f3d8",
       "version_major": 2,
       "version_minor": 0
      },
      "text/plain": [
       "RadioButtons(description='High Cholesterol : ', options={'No': 0, 'Yes': 1}, value=0)"
      ]
     },
     "metadata": {},
     "output_type": "display_data"
    },
    {
     "data": {
      "application/vnd.jupyter.widget-view+json": {
       "model_id": "a92b8e01ba234d8081fdd59469018bb2",
       "version_major": 2,
       "version_minor": 0
      },
      "text/plain": [
       "RadioButtons(description='Have you smoked at least 100 cigarettes in your life? : ', options={'No': 0, 'Yes': …"
      ]
     },
     "metadata": {},
     "output_type": "display_data"
    },
    {
     "data": {
      "application/vnd.jupyter.widget-view+json": {
       "model_id": "9624fdb71636464aae3d7e679b9f9347",
       "version_major": 2,
       "version_minor": 0
      },
      "text/plain": [
       "RadioButtons(description='Heavy drinkers (drinks <14 for men, <7 for women per week : ', options={'No': 0, 'Ye…"
      ]
     },
     "metadata": {},
     "output_type": "display_data"
    },
    {
     "data": {
      "application/vnd.jupyter.widget-view+json": {
       "model_id": "50e14ba5b82e44c294b199faaf15d0b4",
       "version_major": 2,
       "version_minor": 0
      },
      "text/plain": [
       "RadioButtons(description='(Ever told) you had a Stroke? : ', options={'No': 0, 'Yes': 1}, value=0)"
      ]
     },
     "metadata": {},
     "output_type": "display_data"
    },
    {
     "data": {
      "application/vnd.jupyter.widget-view+json": {
       "model_id": "1b03155881f7429eb96d82af4be51515",
       "version_major": 2,
       "version_minor": 0
      },
      "text/plain": [
       "RadioButtons(description='Heart Disease or Attack (CHD or MI) : ', options={'No': 0, 'Yes': 1}, value=0)"
      ]
     },
     "metadata": {},
     "output_type": "display_data"
    },
    {
     "data": {
      "application/vnd.jupyter.widget-view+json": {
       "model_id": "0352e0f0f79e4a4eb56ce127b1ccefe6",
       "version_major": 2,
       "version_minor": 0
      },
      "text/plain": [
       "Label(value='General Health scale :')"
      ]
     },
     "metadata": {},
     "output_type": "display_data"
    },
    {
     "data": {
      "application/vnd.jupyter.widget-view+json": {
       "model_id": "817c2161d19144c09119d1a4392cd435",
       "version_major": 2,
       "version_minor": 0
      },
      "text/plain": [
       "FloatSlider(value=3.0, max=5.0, min=1.0, step=1.0)"
      ]
     },
     "metadata": {},
     "output_type": "display_data"
    },
    {
     "data": {
      "application/vnd.jupyter.widget-view+json": {
       "model_id": "42a9c30609c74133aead6b462aafbef2",
       "version_major": 2,
       "version_minor": 0
      },
      "text/plain": [
       "Label(value='How many past days was your Mental Health not good?')"
      ]
     },
     "metadata": {},
     "output_type": "display_data"
    },
    {
     "data": {
      "application/vnd.jupyter.widget-view+json": {
       "model_id": "6fff8b74e7bd41548f651942b319657c",
       "version_major": 2,
       "version_minor": 0
      },
      "text/plain": [
       "FloatSlider(value=0.0, max=30.0, step=1.0)"
      ]
     },
     "metadata": {},
     "output_type": "display_data"
    },
    {
     "data": {
      "application/vnd.jupyter.widget-view+json": {
       "model_id": "50b29b2dc1264d0dbfd511ce5ad44a54",
       "version_major": 2,
       "version_minor": 0
      },
      "text/plain": [
       "Label(value='How many past days was your Physical Health not good?')"
      ]
     },
     "metadata": {},
     "output_type": "display_data"
    },
    {
     "data": {
      "application/vnd.jupyter.widget-view+json": {
       "model_id": "feda60b259cd4fc488c01636d9b24477",
       "version_major": 2,
       "version_minor": 0
      },
      "text/plain": [
       "FloatSlider(value=0.0, max=30.0, step=1.0)"
      ]
     },
     "metadata": {},
     "output_type": "display_data"
    },
    {
     "data": {
      "application/vnd.jupyter.widget-view+json": {
       "model_id": "981eec0cd7dd4560b6452d75427957fb",
       "version_major": 2,
       "version_minor": 0
      },
      "text/plain": [
       "RadioButtons(description='Do you have Difficulty Walking or climbing stairs? : ', options={'No': 0, 'Yes': 1},…"
      ]
     },
     "metadata": {},
     "output_type": "display_data"
    },
    {
     "data": {
      "application/vnd.jupyter.widget-view+json": {
       "model_id": "6b2e74e8c887445985f05016518408f4",
       "version_major": 2,
       "version_minor": 0
      },
      "text/plain": [
       "RadioButtons(description='Physical Activity in past 30 days, not incl job : ', options={'No': 0, 'Yes': 1}, va…"
      ]
     },
     "metadata": {},
     "output_type": "display_data"
    },
    {
     "data": {
      "application/vnd.jupyter.widget-view+json": {
       "model_id": "d7a4d4f8f26446cda781ab342b95aa88",
       "version_major": 2,
       "version_minor": 0
      },
      "text/plain": [
       "RadioButtons(description='Eat 1 Fruit or more per day : ', options={'No': 0, 'Yes': 1}, value=0)"
      ]
     },
     "metadata": {},
     "output_type": "display_data"
    },
    {
     "data": {
      "application/vnd.jupyter.widget-view+json": {
       "model_id": "160bcfe3c90a499a8a1a3a4ea80674aa",
       "version_major": 2,
       "version_minor": 0
      },
      "text/plain": [
       "RadioButtons(description='Eat Veggies 1 or more per day : ', options={'No': 0, 'Yes': 1}, value=0)"
      ]
     },
     "metadata": {},
     "output_type": "display_data"
    },
    {
     "data": {
      "application/vnd.jupyter.widget-view+json": {
       "model_id": "eb99637d47464fbe9fc9c46bdbb4d07b",
       "version_major": 2,
       "version_minor": 0
      },
      "text/plain": [
       "Button(description='Predict Patient Risk', style=ButtonStyle())"
      ]
     },
     "metadata": {},
     "output_type": "display_data"
    },
    {
     "data": {
      "application/vnd.jupyter.widget-view+json": {
       "model_id": "65d70074d85a4558aef7fa3e5679d8e5",
       "version_major": 2,
       "version_minor": 0
      },
      "text/plain": [
       "Output()"
      ]
     },
     "metadata": {},
     "output_type": "display_data"
    }
   ],
   "source": [
    "# USER INTERFACE: form for input for patient prediction\n",
    "import ipywidgets as widgets\n",
    "\n",
    "# Map string labels to numerical values\n",
    "yesno_options_dict = {\"No\": 0, \"Yes\": 1}\n",
    "mf_options_dict = {\"Female\": 0, \"Male\": 1}\n",
    "\n",
    "# 'features' is the list of features used by your model.\n",
    "features = [\n",
    "    \"HighBP\",\n",
    "    \"HighChol\",\n",
    "    \"BMI\",\n",
    "    \"Smoker\",\n",
    "    \"Stroke\",\n",
    "    \"HeartDiseaseorAttack\",\n",
    "    \"PhysActivity\",\n",
    "    \"Fruits\",\n",
    "    \"Veggies\",\n",
    "    \"HvyAlcoholConsump\",\n",
    "    \"GenHlth\",\n",
    "    \"MentHlth\",\n",
    "    \"PhysHlth\",\n",
    "    \"DiffWalk\",\n",
    "    \"Sex\",\n",
    "    \"Age\",\n",
    "]\n",
    "\n",
    "# 'widget_items' is a dictionary mapping feature to description\n",
    "widget_items = {\n",
    "    \"Sex\": \"Sex\",\n",
    "    \"Age_label\": \"Age category (1 = 18-24, 4 = 35-39, 8 = 55-59, 13 = 80 or older) :\",\n",
    "    \"Age\": \"\",\n",
    "    \"BMI_label\": \"Body Mass Index :\",\n",
    "    \"BMI\": \"\",\n",
    "    \"HighBP\": \"High Blood Pressure\",\n",
    "    \"HighChol\": \"High Cholesterol\",\n",
    "    \"Smoker\": \"Have you smoked at least 100 cigarettes in your life?\",\n",
    "    \"HvyAlcoholConsump\": \"Heavy drinkers (drinks <14 for men, <7 for women per week\",\n",
    "    \"Stroke\": \"(Ever told) you had a Stroke?\",\n",
    "    \"HeartDiseaseorAttack\": \"Heart Disease or Attack (CHD or MI)\",\n",
    "    \"GenHlth_label\": \"General Health scale :\",\n",
    "    \"GenHlth\": \"\",\n",
    "    \"MentHlth_label\": \"How many past days was your Mental Health not good?\",\n",
    "    \"MentHlth\": \"\",\n",
    "    \"PhysHlth_label\": \"How many past days was your Physical Health not good?\",\n",
    "    \"PhysHlth\": \"\",\n",
    "    \"DiffWalk\": \"Do you have Difficulty Walking or climbing stairs?\",\n",
    "    \"PhysActivity\": \"Physical Activity in past 30 days, not incl job\",\n",
    "    \"Fruits\": \"Eat 1 Fruit or more per day\",\n",
    "    \"Veggies\": \"Eat Veggies 1 or more per day\",\n",
    "}\n",
    "widgets_dict = {}\n",
    "\n",
    "# Create widgets for each feature\n",
    "for item in widget_items.keys():\n",
    "    if item in [\n",
    "        \"HighBP\",\n",
    "        \"HighChol\",\n",
    "        \"Smoker\",\n",
    "        \"Stroke\",\n",
    "        \"HeartDiseaseorAttack\",\n",
    "        \"PhysActivity\",\n",
    "        \"Fruits\",\n",
    "        \"Veggies\",\n",
    "        \"HvyAlcoholConsump\",\n",
    "        \"DiffWalk\",\n",
    "    ]:\n",
    "        # Binary features: create a dropdown with options 'Yes' and 'No'\n",
    "        widgets_dict[item] = widgets.RadioButtons(\n",
    "            options=yesno_options_dict,\n",
    "            value=0,\n",
    "            description=widget_items.get(item) + \" : \",\n",
    "        )\n",
    "    if item in [\"Sex\"]:\n",
    "        # Create a dropdown with options 'Male' and 'Female'\n",
    "        widgets_dict[item] = widgets.RadioButtons(\n",
    "            options=mf_options_dict,\n",
    "            value=0,\n",
    "            description=widget_items.get(item) + \" : \",\n",
    "        )\n",
    "    # Numerical features: create float sliders\n",
    "    if item in [\"BMI\"]:\n",
    "        widgets_dict[item] = widgets.FloatSlider(\n",
    "            value=20.0,\n",
    "            min=10,\n",
    "            max=50.0,\n",
    "            step=0.1,\n",
    "            description=widget_items.get(item),\n",
    "        )\n",
    "    if item in [\"GenHlth\"]:\n",
    "        widgets_dict[item] = widgets.FloatSlider(\n",
    "            value=3,\n",
    "            min=1,\n",
    "            max=5,\n",
    "            step=1,\n",
    "            description=widget_items.get(item),\n",
    "        )\n",
    "    if item in [\"MentHlth\", \"PhysHlth\"]:\n",
    "        widgets_dict[item] = widgets.FloatSlider(\n",
    "            value=0,\n",
    "            min=0,\n",
    "            max=30,\n",
    "            step=1,\n",
    "            description=widget_items.get(item),\n",
    "        )\n",
    "    if item in [\"Age\"]:\n",
    "        widgets_dict[item] = widgets.FloatSlider(\n",
    "            value=8,\n",
    "            min=1,\n",
    "            max=13,\n",
    "            step=1,\n",
    "            description=widget_items.get(item),\n",
    "        )\n",
    "    if item in [\n",
    "        \"Age_label\",\n",
    "        \"BMI_label\",\n",
    "        \"GenHlth_label\",\n",
    "        \"MentHlth_label\",\n",
    "        \"PhysHlth_label\",\n",
    "    ]:\n",
    "        widgets_dict[item] = widgets.Label(widget_items.get(item))\n",
    "\n",
    "# Button to make prediction\n",
    "predict_btn = widgets.Button(description=\"Predict Patient Risk\")\n",
    "\n",
    "# Output widget to display prediction result\n",
    "output = widgets.Output()\n",
    "\n",
    "\n",
    "def on_predict_btn_clicked(b):\n",
    "    # Prepare the input for the model\n",
    "    input_data = [widgets_dict[feature].value for feature in features]\n",
    "    input_data = np.array(input_data).reshape(1, -1)\n",
    "\n",
    "    # Create a DataFrame with input_data and assign column names using features\n",
    "    input_df = pd.DataFrame(input_data, columns=features)\n",
    "\n",
    "    # Ensure the DataFrame columns are in the correct order\n",
    "    input_df = input_df[X_log.columns]\n",
    "\n",
    "    # Apply the same scaling to the input as was done to the training data\n",
    "    input_df[numerical_columns] = scaler.transform(input_df[numerical_columns])\n",
    "\n",
    "    #### Make prediction ####\n",
    "    prediction = mylog_model.predict(input_df)\n",
    "\n",
    "    # Display prediction\n",
    "    with output:\n",
    "        output.clear_output()\n",
    "        if prediction[0] == 0:\n",
    "            print(\"Prediction: Not at risk of diabetes\")\n",
    "        else:\n",
    "            print(\"Prediction: At risk of diabetes\")\n",
    "\n",
    "\n",
    "predict_btn.on_click(on_predict_btn_clicked)\n",
    "\n",
    "# Display widgets\n",
    "for widget in widgets_dict.values():\n",
    "    display(widget)\n",
    "display(predict_btn, output)"
   ]
  },
  {
   "cell_type": "markdown",
   "id": "176ba2ce",
   "metadata": {
    "papermill": {
     "duration": 0.018413,
     "end_time": "2024-03-13T11:31:19.135516",
     "exception": false,
     "start_time": "2024-03-13T11:31:19.117103",
     "status": "completed"
    },
    "tags": []
   },
   "source": [
    "# Data Exploration\n",
    "\n",
    "Next we generate some visuals to explore some possible relationships in the data. We will look at Histograms and Scatterplots.\n",
    "\n",
    "## Histogram Figure 1.a\n",
    "\n",
    "Here we generate a histogram that compares the distribution of general health ratings (GenHlth) between individuals with and without diabetes (Diabetes status) in the dataset. For each group, we display the frequency of respondents across five health rating categories, ranging from poor to excellent health, after these ratings have been reversed so that higher numbers indicate better health. The histogram for individuals without diabetes is shown in blue, while the histogram for those with diabetes is in orange, allowing for a visual comparison of how general health perceptions differ between these two groups. This visualization aids in understanding whether there's a noticeable difference in self-reported general health status among individuals based on their diabetes condition."
   ]
  },
  {
   "cell_type": "code",
   "execution_count": 9,
   "id": "9b16b3fa",
   "metadata": {
    "execution": {
     "iopub.execute_input": "2024-03-13T11:31:19.185596Z",
     "iopub.status.busy": "2024-03-13T11:31:19.185195Z",
     "iopub.status.idle": "2024-03-13T11:31:19.577009Z",
     "shell.execute_reply": "2024-03-13T11:31:19.575890Z"
    },
    "jupyter": {
     "source_hidden": true
    },
    "papermill": {
     "duration": 0.421382,
     "end_time": "2024-03-13T11:31:19.579739",
     "exception": false,
     "start_time": "2024-03-13T11:31:19.158357",
     "status": "completed"
    },
    "tags": []
   },
   "outputs": [
    {
     "data": {
      "image/png": "[encoded data removed]",
      "text/plain": [
       "<Figure size 640x480 with 1 Axes>"
      ]
     },
     "metadata": {},
     "output_type": "display_data"
    }
   ],
   "source": [
    "# Filter the dataset by Diabetes status\n",
    "gen_health_no_diabetes = reduced_df[reduced_df[\"Diabetes\"] == False][\"GenHlth\"]\n",
    "gen_health_with_diabetes = reduced_df[reduced_df[\"Diabetes\"] == True][\"GenHlth\"]\n",
    "\n",
    "# Plot histograms\n",
    "plt.hist(\n",
    "    gen_health_no_diabetes, bins=5, alpha=0.5, label=\"No Diabetes\", edgecolor=\"black\"\n",
    ")\n",
    "plt.hist(\n",
    "    gen_health_with_diabetes, bins=5, alpha=0.5, label=\"Diabetes\", edgecolor=\"black\"\n",
    ")\n",
    "\n",
    "# Add legend\n",
    "plt.legend()\n",
    "\n",
    "# Add titles and labels as needed\n",
    "plt.title(\"General Health by Diabetes Status\")\n",
    "plt.xlabel(\"General Health Rating\")\n",
    "plt.ylabel(\"Frequency\")\n",
    "\n",
    "# Set x-axis to display integer values from 1 to 5\n",
    "plt.xticks(range(1, 6))\n",
    "\n",
    "# Show the plot\n",
    "plt.show()"
   ]
  },
  {
   "cell_type": "markdown",
   "id": "7ae99bf7",
   "metadata": {
    "papermill": {
     "duration": 0.01773,
     "end_time": "2024-03-13T11:31:19.615624",
     "exception": false,
     "start_time": "2024-03-13T11:31:19.597894",
     "status": "completed"
    },
    "tags": []
   },
   "source": [
    "## Histogram Figure 1.b\n",
    "\n",
    "Analysis of physical health comparing diabetics to non-diabetics. "
   ]
  },
  {
   "cell_type": "code",
   "execution_count": 10,
   "id": "20251ef4",
   "metadata": {
    "execution": {
     "iopub.execute_input": "2024-03-13T11:31:19.655405Z",
     "iopub.status.busy": "2024-03-13T11:31:19.654700Z",
     "iopub.status.idle": "2024-03-13T11:31:20.015494Z",
     "shell.execute_reply": "2024-03-13T11:31:20.014168Z"
    },
    "jupyter": {
     "source_hidden": true
    },
    "papermill": {
     "duration": 0.383695,
     "end_time": "2024-03-13T11:31:20.018040",
     "exception": false,
     "start_time": "2024-03-13T11:31:19.634345",
     "status": "completed"
    },
    "tags": []
   },
   "outputs": [
    {
     "data": {
      "image/png": "[encoded data removed]",
      "text/plain": [
       "<Figure size 640x480 with 1 Axes>"
      ]
     },
     "metadata": {},
     "output_type": "display_data"
    }
   ],
   "source": [
    "# Filter the dataset by Diabetes status\n",
    "phys_health_no_diabetes = reduced_df[reduced_df[\"Diabetes\"] == False][\"PhysHlth\"]\n",
    "phys_health_with_diabetes = reduced_df[reduced_df[\"Diabetes\"] == True][\"PhysHlth\"]\n",
    "\n",
    "# Plot histograms\n",
    "plt.hist(\n",
    "    phys_health_no_diabetes, alpha=0.5, label=\"No Diabetes\", bins=6, edgecolor=\"black\"\n",
    ")\n",
    "plt.hist(\n",
    "    phys_health_with_diabetes, alpha=0.5, label=\"Diabetes\", bins=6, edgecolor=\"black\"\n",
    ")\n",
    "\n",
    "# Add legend\n",
    "plt.legend()\n",
    "\n",
    "# Add titles and labels as needed\n",
    "plt.title(\"Physical Health by Diabetes Status\")\n",
    "plt.xlabel(\"Poor Physical Health Days\")\n",
    "plt.ylabel(\"Frequency\")\n",
    "\n",
    "# Show the plot\n",
    "plt.show()"
   ]
  },
  {
   "cell_type": "markdown",
   "id": "51e09ba6",
   "metadata": {
    "papermill": {
     "duration": 0.019218,
     "end_time": "2024-03-13T11:31:20.056590",
     "exception": false,
     "start_time": "2024-03-13T11:31:20.037372",
     "status": "completed"
    },
    "tags": []
   },
   "source": [
    "## Histogram Figure 1.c\n",
    "\n",
    "Analysis of mental health comparing diabetics to non-diabetics. "
   ]
  },
  {
   "cell_type": "code",
   "execution_count": 11,
   "id": "489cd99e",
   "metadata": {
    "execution": {
     "iopub.execute_input": "2024-03-13T11:31:20.097532Z",
     "iopub.status.busy": "2024-03-13T11:31:20.096875Z",
     "iopub.status.idle": "2024-03-13T11:31:20.458669Z",
     "shell.execute_reply": "2024-03-13T11:31:20.457350Z"
    },
    "jupyter": {
     "source_hidden": true
    },
    "papermill": {
     "duration": 0.385008,
     "end_time": "2024-03-13T11:31:20.461438",
     "exception": false,
     "start_time": "2024-03-13T11:31:20.076430",
     "status": "completed"
    },
    "tags": []
   },
   "outputs": [
    {
     "data": {
      "image/png": "[encoded data removed]",
      "text/plain": [
       "<Figure size 640x480 with 1 Axes>"
      ]
     },
     "metadata": {},
     "output_type": "display_data"
    }
   ],
   "source": [
    "# Filter the dataset by Diabetes status\n",
    "phys_health_no_diabetes = reduced_df[reduced_df[\"Diabetes\"] == False][\"MentHlth\"]\n",
    "phys_health_with_diabetes = reduced_df[reduced_df[\"Diabetes\"] == True][\"MentHlth\"]\n",
    "\n",
    "# Plot histograms\n",
    "plt.hist(\n",
    "    phys_health_no_diabetes, alpha=0.5, label=\"No Diabetes\", bins=6, edgecolor=\"black\"\n",
    ")\n",
    "plt.hist(\n",
    "    phys_health_with_diabetes, alpha=0.5, label=\"Diabetes\", bins=6, edgecolor=\"black\"\n",
    ")\n",
    "\n",
    "# Add legend\n",
    "plt.legend()\n",
    "\n",
    "# Add titles and labels as needed\n",
    "plt.title(\"Mental Health by Diabetes Status\")\n",
    "plt.xlabel(\"Poor Mental Health Days\")\n",
    "plt.ylabel(\"Frequency\")\n",
    "\n",
    "# Show the plot\n",
    "plt.show()"
   ]
  },
  {
   "cell_type": "markdown",
   "id": "8e1c530e",
   "metadata": {
    "papermill": {
     "duration": 0.01889,
     "end_time": "2024-03-13T11:31:20.499579",
     "exception": false,
     "start_time": "2024-03-13T11:31:20.480689",
     "status": "completed"
    },
    "tags": []
   },
   "source": [
    "## Histogram Figure 1.d\n",
    "\n",
    "### Age distribution\n",
    "\n",
    "Here we provide a visual distribution analysis of the Age feature. Of note, the data was collected using a 13-level age category where 1 = 18-24, 9 = 60-64, and 13 = 80 or older."
   ]
  },
  {
   "cell_type": "code",
   "execution_count": 12,
   "id": "1122e51f",
   "metadata": {
    "execution": {
     "iopub.execute_input": "2024-03-13T11:31:20.540387Z",
     "iopub.status.busy": "2024-03-13T11:31:20.539848Z",
     "iopub.status.idle": "2024-03-13T11:31:20.918055Z",
     "shell.execute_reply": "2024-03-13T11:31:20.916797Z"
    },
    "jupyter": {
     "source_hidden": true
    },
    "papermill": {
     "duration": 0.401971,
     "end_time": "2024-03-13T11:31:20.920922",
     "exception": false,
     "start_time": "2024-03-13T11:31:20.518951",
     "status": "completed"
    },
    "tags": []
   },
   "outputs": [
    {
     "data": {
      "image/png": "[encoded data removed]",
      "text/plain": [
       "<Figure size 640x480 with 1 Axes>"
      ]
     },
     "metadata": {},
     "output_type": "display_data"
    }
   ],
   "source": [
    "# Plot Age histogram\n",
    "graph_histograms = reduced_df.hist(column=\"Age\", grid=True, bins=13)\n",
    "\n",
    "# Calculate the tick positions for 13 bins\n",
    "tick_positions = range(1, 14)\n",
    "\n",
    "# Set the x-axis ticks\n",
    "plt.xticks(tick_positions)\n",
    "\n",
    "# Optionally, set x-axis and y-axis labels\n",
    "plt.xlabel(\"Age Category\")\n",
    "plt.ylabel(\"Frequency\")\n",
    "\n",
    "# Show the plot\n",
    "plt.show()"
   ]
  },
  {
   "cell_type": "markdown",
   "id": "2077917a",
   "metadata": {
    "papermill": {
     "duration": 0.019838,
     "end_time": "2024-03-13T11:31:20.961419",
     "exception": false,
     "start_time": "2024-03-13T11:31:20.941581",
     "status": "completed"
    },
    "tags": []
   },
   "source": [
    "## Scatterplot figure 2.a\n",
    "\n",
    "### BMI over Age\n",
    "\n",
    "Here we see that diabetics have a higher BMI on average."
   ]
  },
  {
   "cell_type": "code",
   "execution_count": 13,
   "id": "1209e7b6",
   "metadata": {
    "execution": {
     "iopub.execute_input": "2024-03-13T11:31:21.004841Z",
     "iopub.status.busy": "2024-03-13T11:31:21.003524Z",
     "iopub.status.idle": "2024-03-13T11:31:26.419798Z",
     "shell.execute_reply": "2024-03-13T11:31:26.417937Z"
    },
    "jupyter": {
     "source_hidden": true
    },
    "papermill": {
     "duration": 5.440583,
     "end_time": "2024-03-13T11:31:26.422669",
     "exception": false,
     "start_time": "2024-03-13T11:31:20.982086",
     "status": "completed"
    },
    "tags": []
   },
   "outputs": [
    {
     "data": {
      "text/plain": [
       "<seaborn.axisgrid.FacetGrid at 0x7dec07950220>"
      ]
     },
     "execution_count": 13,
     "metadata": {},
     "output_type": "execute_result"
    },
    {
     "data": {
      "image/png": "[encoded data removed]",
      "text/plain": [
       "<Figure size 1084.88x500 with 2 Axes>"
      ]
     },
     "metadata": {},
     "output_type": "display_data"
    }
   ],
   "source": [
    "# Copy the DataFrame to avoid modifying the original data\n",
    "plot_df = reduced_df.copy()\n",
    "\n",
    "# Map True/False to Male/Female\n",
    "plot_df[\"Sex\"] = plot_df[\"Sex\"].map({True: \"Male\", False: \"Female\"})\n",
    "\n",
    "# Age/BMI Scatterplot\n",
    "sns.lmplot(\n",
    "    data=plot_df,\n",
    "    x=\"Age\",\n",
    "    y=\"BMI\",\n",
    "    col=\"Sex\",\n",
    "    hue=\"Diabetes\",\n",
    "    x_bins=1000,\n",
    "    fit_reg=False,\n",
    ")"
   ]
  },
  {
   "cell_type": "markdown",
   "id": "a04d5ae2",
   "metadata": {
    "papermill": {
     "duration": 0.022403,
     "end_time": "2024-03-13T11:31:26.467589",
     "exception": false,
     "start_time": "2024-03-13T11:31:26.445186",
     "status": "completed"
    },
    "tags": []
   },
   "source": [
    "## Scatterplot figure 2.b\n",
    "\n",
    "### General Health over Age\n",
    "\n",
    "The general health indicator is on a scale of 1 to 5, with a score of 5 as excellent. Here we see that diabetics have poorer general health. We also see a trend in healthy people where the older one gets, the poorer their overall health. Diabetics do not show this trend."
   ]
  },
  {
   "cell_type": "code",
   "execution_count": 14,
   "id": "32f9ad05",
   "metadata": {
    "execution": {
     "iopub.execute_input": "2024-03-13T11:31:26.514074Z",
     "iopub.status.busy": "2024-03-13T11:31:26.513285Z",
     "iopub.status.idle": "2024-03-13T11:31:45.727366Z",
     "shell.execute_reply": "2024-03-13T11:31:45.726028Z"
    },
    "jupyter": {
     "source_hidden": true
    },
    "papermill": {
     "duration": 19.239659,
     "end_time": "2024-03-13T11:31:45.729937",
     "exception": false,
     "start_time": "2024-03-13T11:31:26.490278",
     "status": "completed"
    },
    "tags": []
   },
   "outputs": [
    {
     "data": {
      "text/plain": [
       "<seaborn.axisgrid.FacetGrid at 0x7dec077a9ba0>"
      ]
     },
     "execution_count": 14,
     "metadata": {},
     "output_type": "execute_result"
    },
    {
     "data": {
      "image/png": "[encoded data removed]",
      "text/plain": [
       "<Figure size 584.875x500 with 1 Axes>"
      ]
     },
     "metadata": {},
     "output_type": "display_data"
    }
   ],
   "source": [
    "# Age/General-Health Scatterplot\n",
    "sns.lmplot(data=reduced_df, x=\"Age\", y=\"GenHlth\", hue=\"Diabetes\", x_bins=1000)"
   ]
  },
  {
   "cell_type": "markdown",
   "id": "b7e4f264",
   "metadata": {
    "papermill": {
     "duration": 0.021284,
     "end_time": "2024-03-13T11:31:45.773649",
     "exception": false,
     "start_time": "2024-03-13T11:31:45.752365",
     "status": "completed"
    },
    "tags": []
   },
   "source": [
    "## Scatterplot figure 2.c\n",
    "\n",
    "### Physical Health as compared to Mental health\n",
    "\n",
    "Here we see a trend that the more days per month of poor mental health an individual has, the more days on average of physical health they will experience. Of note is diabetics have a similar distribution of poor mental health days, but significantly more days per month of poor physical health."
   ]
  },
  {
   "cell_type": "code",
   "execution_count": 15,
   "id": "8fcbad1b",
   "metadata": {
    "execution": {
     "iopub.execute_input": "2024-03-13T11:31:45.885501Z",
     "iopub.status.busy": "2024-03-13T11:31:45.885030Z",
     "iopub.status.idle": "2024-03-13T11:32:06.594489Z",
     "shell.execute_reply": "2024-03-13T11:32:06.593193Z"
    },
    "jupyter": {
     "source_hidden": true
    },
    "papermill": {
     "duration": 20.735266,
     "end_time": "2024-03-13T11:32:06.597111",
     "exception": false,
     "start_time": "2024-03-13T11:31:45.861845",
     "status": "completed"
    },
    "tags": []
   },
   "outputs": [
    {
     "data": {
      "text/plain": [
       "<seaborn.axisgrid.FacetGrid at 0x7dec076fdf30>"
      ]
     },
     "execution_count": 15,
     "metadata": {},
     "output_type": "execute_result"
    },
    {
     "data": {
      "image/png": "[encoded data removed]",
      "text/plain": [
       "<Figure size 584.875x500 with 1 Axes>"
      ]
     },
     "metadata": {},
     "output_type": "display_data"
    }
   ],
   "source": [
    "# Health Scatterplot\n",
    "sns.lmplot(data=reduced_df, x=\"MentHlth\", y=\"PhysHlth\", hue=\"Diabetes\", x_bins=1000)"
   ]
  },
  {
   "cell_type": "markdown",
   "id": "935a634b",
   "metadata": {
    "papermill": {
     "duration": 0.022141,
     "end_time": "2024-03-13T11:32:06.641845",
     "exception": false,
     "start_time": "2024-03-13T11:32:06.619704",
     "status": "completed"
    },
    "tags": []
   },
   "source": [
    "# Random Forest Model for Comparison\n",
    "\n",
    "Here we set up a second model using the Random Forest algorithm to compare with our Logistic Regression model. The steps are much the same as before, however we do not need to scale the numerical data."
   ]
  },
  {
   "cell_type": "code",
   "execution_count": 16,
   "id": "c339c234",
   "metadata": {
    "execution": {
     "iopub.execute_input": "2024-03-13T11:32:06.691305Z",
     "iopub.status.busy": "2024-03-13T11:32:06.690216Z",
     "iopub.status.idle": "2024-03-13T11:32:25.759458Z",
     "shell.execute_reply": "2024-03-13T11:32:25.758220Z"
    },
    "papermill": {
     "duration": 19.097606,
     "end_time": "2024-03-13T11:32:25.762302",
     "exception": false,
     "start_time": "2024-03-13T11:32:06.664696",
     "status": "completed"
    },
    "tags": []
   },
   "outputs": [
    {
     "name": "stdout",
     "output_type": "stream",
     "text": [
      "\n",
      "Random Forest (single) prediction results: \n",
      "\n",
      "Accuracy: 72.13 % \n",
      "\n",
      "Confusion Matrix:\n",
      "[[11906  5307]\n",
      " [ 4297 12947]] \n",
      "\n",
      "Classification Report:\n",
      "              precision    recall  f1-score   support\n",
      "\n",
      "       False       0.73      0.69      0.71     17213\n",
      "        True       0.71      0.75      0.73     17244\n",
      "\n",
      "    accuracy                           0.72     34457\n",
      "   macro avg       0.72      0.72      0.72     34457\n",
      "weighted avg       0.72      0.72      0.72     34457\n",
      "\n"
     ]
    }
   ],
   "source": [
    "# 'X' is the set of features and 'y' is the target variable\n",
    "X_rf = reduced_df.drop(\"Diabetes\", axis=1)\n",
    "y_rf = reduced_df[\"Diabetes\"].astype(\"bool\")  # Ensuring the target is boolean\n",
    "\n",
    "# Splitting the dataset into the Training set and Test set\n",
    "X_rf_train, X_rf_test, y_rf_train, y_rf_test = train_test_split(\n",
    "    X_rf, y_rf, test_size=0.25, random_state=42\n",
    ")\n",
    "\n",
    "# Creating a Random Forest Classifier -- You can adjust parameters\n",
    "rf_classifier = RandomForestClassifier(n_estimators=100, random_state=42)\n",
    "\n",
    "# Fitting Random Forest to the Training set\n",
    "rf_classifier.fit(X_rf_train, y_rf_train)\n",
    "\n",
    "# Predicting the Test set results\n",
    "y_pred_rf = rf_classifier.predict(X_rf_test)\n",
    "\n",
    "accuracy_rf = accuracy_score(y_rf_test, y_pred_rf)\n",
    "conf_matrix_rf = confusion_matrix(y_rf_test, y_pred_rf)\n",
    "class_report_rf = classification_report(y_rf_test, y_pred_rf)\n",
    "\n",
    "# Evaluate the model\n",
    "print(\"\\nRandom Forest (single) prediction results:\", \"\\n\")\n",
    "print(f\"Accuracy: {round(accuracy_rf*100,2)} %\", \"\\n\")\n",
    "print(\"Confusion Matrix:\")\n",
    "print(conf_matrix_rf, \"\\n\")\n",
    "print(\"Classification Report:\")\n",
    "print(class_report_rf)"
   ]
  },
  {
   "cell_type": "markdown",
   "id": "4a967634",
   "metadata": {
    "papermill": {
     "duration": 0.023428,
     "end_time": "2024-03-13T11:32:25.809355",
     "exception": false,
     "start_time": "2024-03-13T11:32:25.785927",
     "status": "completed"
    },
    "tags": []
   },
   "source": [
    "# Cross-Validation of Models\n",
    "\n",
    "Next we perform a cross-validation process on the logistic regression and Random Forest models to verify their reliability across different subsets of the dataset. By utilizing the KFold method with 5 splits and shuffling enabled, the dataset is divided into distinct subsets to conduct multiple training and testing cycles. The average of these scores is calculated and displayed, offering a robust measure of the model's overall performance. This approach helps to ensure that the model's predictive accuracy is not overly dependent on any particular partition of the data, thereby increasing confidence in its generalizability."
   ]
  },
  {
   "cell_type": "code",
   "execution_count": 17,
   "id": "26349751",
   "metadata": {
    "execution": {
     "iopub.execute_input": "2024-03-13T11:32:25.863998Z",
     "iopub.status.busy": "2024-03-13T11:32:25.863150Z",
     "iopub.status.idle": "2024-03-13T11:34:05.615313Z",
     "shell.execute_reply": "2024-03-13T11:34:05.614120Z"
    },
    "jupyter": {
     "source_hidden": true
    },
    "papermill": {
     "duration": 99.802339,
     "end_time": "2024-03-13T11:34:05.639934",
     "exception": false,
     "start_time": "2024-03-13T11:32:25.837595",
     "status": "completed"
    },
    "tags": []
   },
   "outputs": [
    {
     "name": "stdout",
     "output_type": "stream",
     "text": [
      "Logistic Regression Average Prediction Score:  74.25 %\n",
      "Random Forest Average Prediction Score:  71.89 %\n"
     ]
    }
   ],
   "source": [
    "# Verify model by averaging different test/train splits\n",
    "k_folds = KFold(n_splits=5, shuffle=True)\n",
    "# The number of folds determines the test/train split for each iteration.\n",
    "# So 5 folds has 5 different mutually exclusive training sets.\n",
    "# That's a 1 to 4 (or .20 to .80) testing/training split for each of the 5 iterations.\n",
    "\n",
    "# This is the average score. Print 'scores' to see array of individual iteration scores.\n",
    "log_scores = cross_val_score(mylog_model, X_log, y_log)\n",
    "rf_scores = cross_val_score(rf_classifier, X_rf, y_rf)\n",
    "\n",
    "# Output average scores\n",
    "print(\n",
    "    \"Logistic Regression Average Prediction Score: \",\n",
    "    round(log_scores.mean() * 100, 2),\n",
    "    \"%\",\n",
    ")\n",
    "print(\"Random Forest Average Prediction Score: \", round(rf_scores.mean() * 100, 2), \"%\")"
   ]
  },
  {
   "cell_type": "markdown",
   "id": "86c0aea5",
   "metadata": {
    "papermill": {
     "duration": 0.022442,
     "end_time": "2024-03-13T11:34:05.685440",
     "exception": false,
     "start_time": "2024-03-13T11:34:05.662998",
     "status": "completed"
    },
    "tags": []
   },
   "source": [
    "# Confusion Matrix Visual\n",
    "\n",
    "Confusion matrixes are used to evaluate the performance in classifying diabetic and non-diabetic individuals. Here we look at the Logistic Regression model, because it proved to be more accurate. More importantly, it had less false-negative outcomes compared to the random forest model (4101 vs 4297)."
   ]
  },
  {
   "cell_type": "code",
   "execution_count": 18,
   "id": "d3defb66",
   "metadata": {
    "execution": {
     "iopub.execute_input": "2024-03-13T11:34:05.733193Z",
     "iopub.status.busy": "2024-03-13T11:34:05.732789Z",
     "iopub.status.idle": "2024-03-13T11:34:06.143021Z",
     "shell.execute_reply": "2024-03-13T11:34:06.141627Z"
    },
    "jupyter": {
     "source_hidden": true
    },
    "papermill": {
     "duration": 0.437433,
     "end_time": "2024-03-13T11:34:06.145643",
     "exception": false,
     "start_time": "2024-03-13T11:34:05.708210",
     "status": "completed"
    },
    "tags": []
   },
   "outputs": [
    {
     "data": {
      "image/png": "[encoded data removed]",
      "text/plain": [
       "<Figure size 640x480 with 2 Axes>"
      ]
     },
     "metadata": {},
     "output_type": "display_data"
    }
   ],
   "source": [
    "# Plot confusion matrix\n",
    "graph_confusion_matrix = ConfusionMatrixDisplay.from_predictions(y_log_test, y_pred_log)"
   ]
  }
 ],
 "metadata": {
  "kaggle": {
   "accelerator": "none",
   "dataSources": [
    {
     "datasetId": 1703281,
     "sourceId": 2789260,
     "sourceType": "datasetVersion"
    },
    {
     "datasetId": 4066291,
     "sourceId": 7062872,
     "sourceType": "datasetVersion"
    }
   ],
   "dockerImageVersionId": 30664,
   "isGpuEnabled": false,
   "isInternetEnabled": false,
   "language": "python",
   "sourceType": "notebook"
  },
  "kernelspec": {
   "display_name": "Python 3",
   "language": "python",
   "name": "python3"
  },
  "language_info": {
   "codemirror_mode": {
    "name": "ipython",
    "version": 3
   },
   "file_extension": ".py",
   "mimetype": "text/x-python",
   "name": "python",
   "nbconvert_exporter": "python",
   "pygments_lexer": "ipython3",
   "version": "3.10.13"
  },
  "papermill": {
   "default_parameters": {},
   "duration": 177.680121,
   "end_time": "2024-03-13T11:34:06.996843",
   "environment_variables": {},
   "exception": null,
   "input_path": "__notebook__.ipynb",
   "output_path": "__notebook__.ipynb",
   "parameters": {},
   "start_time": "2024-03-13T11:31:09.316722",
   "version": "2.5.0"
  },
  "widgets": {
   "application/vnd.jupyter.widget-state+json": {
    "state": {
     "0352e0f0f79e4a4eb56ce127b1ccefe6": {
      "model_module": "@jupyter-widgets/controls",
      "model_module_version": "1.5.0",
      "model_name": "LabelModel",
      "state": {
       "_dom_classes": [],
       "_model_module": "@jupyter-widgets/controls",
       "_model_module_version": "1.5.0",
       "_model_name": "LabelModel",
       "_view_count": null,
       "_view_module": "@jupyter-widgets/controls",
       "_view_module_version": "1.5.0",
       "_view_name": "LabelView",
       "description": "",
       "description_tooltip": null,
       "layout": "IPY_MODEL_55490e4e164943e29676c8f72c56fc00",
       "placeholder": "​",
       "style": "IPY_MODEL_9730683127bf444da508e3479d60306f",
       "value": "General Health scale :"
      }
     },
     "0a2d3534be8f4d94a0ae4da40e88832c": {
      "model_module": "@jupyter-widgets/base",
      "model_module_version": "1.2.0",
      "model_name": "LayoutModel",
      "state": {
       "_model_module": "@jupyter-widgets/base",
       "_model_module_version": "1.2.0",
       "_model_name": "LayoutModel",
       "_view_count": null,
       "_view_module": "@jupyter-widgets/base",
       "_view_module_version": "1.2.0",
       "_view_name": "LayoutView",
       "align_content": null,
       "align_items": null,
       "align_self": null,
       "border": null,
       "bottom": null,
       "display": null,
       "flex": null,
       "flex_flow": null,
       "grid_area": null,
       "grid_auto_columns": null,
       "grid_auto_flow": null,
       "grid_auto_rows": null,
       "grid_column": null,
       "grid_gap": null,
       "grid_row": null,
       "grid_template_areas": null,
       "grid_template_columns": null,
       "grid_template_rows": null,
       "height": null,
       "justify_content": null,
       "justify_items": null,
       "left": null,
       "margin": null,
       "max_height": null,
       "max_width": null,
       "min_height": null,
       "min_width": null,
       "object_fit": null,
       "object_position": null,
       "order": null,
       "overflow": null,
       "overflow_x": null,
       "overflow_y": null,
       "padding": null,
       "right": null,
       "top": null,
       "visibility": null,
       "width": null
      }
     },
     "0cf2b099f0b94e6eb3e30f21324b1e53": {
      "model_module": "@jupyter-widgets/base",
      "model_module_version": "1.2.0",
      "model_name": "LayoutModel",
      "state": {
       "_model_module": "@jupyter-widgets/base",
       "_model_module_version": "1.2.0",
       "_model_name": "LayoutModel",
       "_view_count": null,
       "_view_module": "@jupyter-widgets/base",
       "_view_module_version": "1.2.0",
       "_view_name": "LayoutView",
       "align_content": null,
       "align_items": null,
       "align_self": null,
       "border": null,
       "bottom": null,
       "display": null,
       "flex": null,
       "flex_flow": null,
       "grid_area": null,
       "grid_auto_columns": null,
       "grid_auto_flow": null,
       "grid_auto_rows": null,
       "grid_column": null,
       "grid_gap": null,
       "grid_row": null,
       "grid_template_areas": null,
       "grid_template_columns": null,
       "grid_template_rows": null,
       "height": null,
       "justify_content": null,
       "justify_items": null,
       "left": null,
       "margin": null,
       "max_height": null,
       "max_width": null,
       "min_height": null,
       "min_width": null,
       "object_fit": null,
       "object_position": null,
       "order": null,
       "overflow": null,
       "overflow_x": null,
       "overflow_y": null,
       "padding": null,
       "right": null,
       "top": null,
       "visibility": null,
       "width": null
      }
     },
     "106b34b590e140268915f0aa2839d247": {
      "model_module": "@jupyter-widgets/controls",
      "model_module_version": "1.5.0",
      "model_name": "LabelModel",
      "state": {
       "_dom_classes": [],
       "_model_module": "@jupyter-widgets/controls",
       "_model_module_version": "1.5.0",
       "_model_name": "LabelModel",
       "_view_count": null,
       "_view_module": "@jupyter-widgets/controls",
       "_view_module_version": "1.5.0",
       "_view_name": "LabelView",
       "description": "",
       "description_tooltip": null,
       "layout": "IPY_MODEL_2d1c648a2cc14eeb94a527a3779d65ed",
       "placeholder": "​",
       "style": "IPY_MODEL_636b9591a9f84715a6fa677fd01fd16a",
       "value": "Age category (1 = 18-24, 4 = 35-39, 8 = 55-59, 13 = 80 or older) :"
      }
     },
     "160bcfe3c90a499a8a1a3a4ea80674aa": {
      "model_module": "@jupyter-widgets/controls",
      "model_module_version": "1.5.0",
      "model_name": "RadioButtonsModel",
      "state": {
       "_dom_classes": [],
       "_model_module": "@jupyter-widgets/controls",
       "_model_module_version": "1.5.0",
       "_model_name": "RadioButtonsModel",
       "_options_labels": [
        "No",
        "Yes"
       ],
       "_view_count": null,
       "_view_module": "@jupyter-widgets/controls",
       "_view_module_version": "1.5.0",
       "_view_name": "RadioButtonsView",
       "description": "Eat Veggies 1 or more per day : ",
       "description_tooltip": null,
       "disabled": false,
       "index": 0,
       "layout": "IPY_MODEL_9cd74ced016847098351fddbc48beb4b",
       "style": "IPY_MODEL_fde63a66c4a247c6a2027279d628ef05"
      }
     },
     "1a35c70eb5ca4a6dbee03e3a783e270e": {
      "model_module": "@jupyter-widgets/base",
      "model_module_version": "1.2.0",
      "model_name": "LayoutModel",
      "state": {
       "_model_module": "@jupyter-widgets/base",
       "_model_module_version": "1.2.0",
       "_model_name": "LayoutModel",
       "_view_count": null,
       "_view_module": "@jupyter-widgets/base",
       "_view_module_version": "1.2.0",
       "_view_name": "LayoutView",
       "align_content": null,
       "align_items": null,
       "align_self": null,
       "border": null,
       "bottom": null,
       "display": null,
       "flex": null,
       "flex_flow": null,
       "grid_area": null,
       "grid_auto_columns": null,
       "grid_auto_flow": null,
       "grid_auto_rows": null,
       "grid_column": null,
       "grid_gap": null,
       "grid_row": null,
       "grid_template_areas": null,
       "grid_template_columns": null,
       "grid_template_rows": null,
       "height": null,
       "justify_content": null,
       "justify_items": null,
       "left": null,
       "margin": null,
       "max_height": null,
       "max_width": null,
       "min_height": null,
       "min_width": null,
       "object_fit": null,
       "object_position": null,
       "order": null,
       "overflow": null,
       "overflow_x": null,
       "overflow_y": null,
       "padding": null,
       "right": null,
       "top": null,
       "visibility": null,
       "width": null
      }
     },
     "1b03155881f7429eb96d82af4be51515": {
      "model_module": "@jupyter-widgets/controls",
      "model_module_version": "1.5.0",
      "model_name": "RadioButtonsModel",
      "state": {
       "_dom_classes": [],
       "_model_module": "@jupyter-widgets/controls",
       "_model_module_version": "1.5.0",
       "_model_name": "RadioButtonsModel",
       "_options_labels": [
        "No",
        "Yes"
       ],
       "_view_count": null,
       "_view_module": "@jupyter-widgets/controls",
       "_view_module_version": "1.5.0",
       "_view_name": "RadioButtonsView",
       "description": "Heart Disease or Attack (CHD or MI) : ",
       "description_tooltip": null,
       "disabled": false,
       "index": 0,
       "layout": "IPY_MODEL_3301bd6c24d54118b7a9665cb82b0ba6",
       "style": "IPY_MODEL_3e8f7e31541d422e87b2f230998ab3e2"
      }
     },
     "280cd0978fc0434185e5cef8fd88b3e3": {
      "model_module": "@jupyter-widgets/controls",
      "model_module_version": "1.5.0",
      "model_name": "DescriptionStyleModel",
      "state": {
       "_model_module": "@jupyter-widgets/controls",
       "_model_module_version": "1.5.0",
       "_model_name": "DescriptionStyleModel",
       "_view_count": null,
       "_view_module": "@jupyter-widgets/base",
       "_view_module_version": "1.2.0",
       "_view_name": "StyleView",
       "description_width": ""
      }
     },
     "2d1c648a2cc14eeb94a527a3779d65ed": {
      "model_module": "@jupyter-widgets/base",
      "model_module_version": "1.2.0",
      "model_name": "LayoutModel",
      "state": {
       "_model_module": "@jupyter-widgets/base",
       "_model_module_version": "1.2.0",
       "_model_name": "LayoutModel",
       "_view_count": null,
       "_view_module": "@jupyter-widgets/base",
       "_view_module_version": "1.2.0",
       "_view_name": "LayoutView",
       "align_content": null,
       "align_items": null,
       "align_self": null,
       "border": null,
       "bottom": null,
       "display": null,
       "flex": null,
       "flex_flow": null,
       "grid_area": null,
       "grid_auto_columns": null,
       "grid_auto_flow": null,
       "grid_auto_rows": null,
       "grid_column": null,
       "grid_gap": null,
       "grid_row": null,
       "grid_template_areas": null,
       "grid_template_columns": null,
       "grid_template_rows": null,
       "height": null,
       "justify_content": null,
       "justify_items": null,
       "left": null,
       "margin": null,
       "max_height": null,
       "max_width": null,
       "min_height": null,
       "min_width": null,
       "object_fit": null,
       "object_position": null,
       "order": null,
       "overflow": null,
       "overflow_x": null,
       "overflow_y": null,
       "padding": null,
       "right": null,
       "top": null,
       "visibility": null,
       "width": null
      }
     },
     "3186f279a3c745ba83fad4924151b5dc": {
      "model_module": "@jupyter-widgets/controls",
      "model_module_version": "1.5.0",
      "model_name": "SliderStyleModel",
      "state": {
       "_model_module": "@jupyter-widgets/controls",
       "_model_module_version": "1.5.0",
       "_model_name": "SliderStyleModel",
       "_view_count": null,
       "_view_module": "@jupyter-widgets/base",
       "_view_module_version": "1.2.0",
       "_view_name": "StyleView",
       "description_width": "",
       "handle_color": null
      }
     },
     "31b1a100d9bd45a98ea6cd3ab1db1574": {
      "model_module": "@jupyter-widgets/controls",
      "model_module_version": "1.5.0",
      "model_name": "DescriptionStyleModel",
      "state": {
       "_model_module": "@jupyter-widgets/controls",
       "_model_module_version": "1.5.0",
       "_model_name": "DescriptionStyleModel",
       "_view_count": null,
       "_view_module": "@jupyter-widgets/base",
       "_view_module_version": "1.2.0",
       "_view_name": "StyleView",
       "description_width": ""
      }
     },
     "3301bd6c24d54118b7a9665cb82b0ba6": {
      "model_module": "@jupyter-widgets/base",
      "model_module_version": "1.2.0",
      "model_name": "LayoutModel",
      "state": {
       "_model_module": "@jupyter-widgets/base",
       "_model_module_version": "1.2.0",
       "_model_name": "LayoutModel",
       "_view_count": null,
       "_view_module": "@jupyter-widgets/base",
       "_view_module_version": "1.2.0",
       "_view_name": "LayoutView",
       "align_content": null,
       "align_items": null,
       "align_self": null,
       "border": null,
       "bottom": null,
       "display": null,
       "flex": null,
       "flex_flow": null,
       "grid_area": null,
       "grid_auto_columns": null,
       "grid_auto_flow": null,
       "grid_auto_rows": null,
       "grid_column": null,
       "grid_gap": null,
       "grid_row": null,
       "grid_template_areas": null,
       "grid_template_columns": null,
       "grid_template_rows": null,
       "height": null,
       "justify_content": null,
       "justify_items": null,
       "left": null,
       "margin": null,
       "max_height": null,
       "max_width": null,
       "min_height": null,
       "min_width": null,
       "object_fit": null,
       "object_position": null,
       "order": null,
       "overflow": null,
       "overflow_x": null,
       "overflow_y": null,
       "padding": null,
       "right": null,
       "top": null,
       "visibility": null,
       "width": null
      }
     },
     "335f2ca93e0c493ba03b4693d4b95288": {
      "model_module": "@jupyter-widgets/controls",
      "model_module_version": "1.5.0",
      "model_name": "LabelModel",
      "state": {
       "_dom_classes": [],
       "_model_module": "@jupyter-widgets/controls",
       "_model_module_version": "1.5.0",
       "_model_name": "LabelModel",
       "_view_count": null,
       "_view_module": "@jupyter-widgets/controls",
       "_view_module_version": "1.5.0",
       "_view_name": "LabelView",
       "description": "",
       "description_tooltip": null,
       "layout": "IPY_MODEL_0cf2b099f0b94e6eb3e30f21324b1e53",
       "placeholder": "​",
       "style": "IPY_MODEL_ea05d53dd47e4fe79c6b7a17cfdd09c4",
       "value": "Body Mass Index :"
      }
     },
     "3e8f7e31541d422e87b2f230998ab3e2": {
      "model_module": "@jupyter-widgets/controls",
      "model_module_version": "1.5.0",
      "model_name": "DescriptionStyleModel",
      "state": {
       "_model_module": "@jupyter-widgets/controls",
       "_model_module_version": "1.5.0",
       "_model_name": "DescriptionStyleModel",
       "_view_count": null,
       "_view_module": "@jupyter-widgets/base",
       "_view_module_version": "1.2.0",
       "_view_name": "StyleView",
       "description_width": ""
      }
     },
     "42a9c30609c74133aead6b462aafbef2": {
      "model_module": "@jupyter-widgets/controls",
      "model_module_version": "1.5.0",
      "model_name": "LabelModel",
      "state": {
       "_dom_classes": [],
       "_model_module": "@jupyter-widgets/controls",
       "_model_module_version": "1.5.0",
       "_model_name": "LabelModel",
       "_view_count": null,
       "_view_module": "@jupyter-widgets/controls",
       "_view_module_version": "1.5.0",
       "_view_name": "LabelView",
       "description": "",
       "description_tooltip": null,
       "layout": "IPY_MODEL_b74fba10b3a841d5a9f468ad642a75eb",
       "placeholder": "​",
       "style": "IPY_MODEL_728652dd1ec742b6b4394d1b54c1a6d0",
       "value": "How many past days was your Mental Health not good?"
      }
     },
     "4975a32f517a48fcbef61b06cee3c15c": {
      "model_module": "@jupyter-widgets/base",
      "model_module_version": "1.2.0",
      "model_name": "LayoutModel",
      "state": {
       "_model_module": "@jupyter-widgets/base",
       "_model_module_version": "1.2.0",
       "_model_name": "LayoutModel",
       "_view_count": null,
       "_view_module": "@jupyter-widgets/base",
       "_view_module_version": "1.2.0",
       "_view_name": "LayoutView",
       "align_content": null,
       "align_items": null,
       "align_self": null,
       "border": null,
       "bottom": null,
       "display": null,
       "flex": null,
       "flex_flow": null,
       "grid_area": null,
       "grid_auto_columns": null,
       "grid_auto_flow": null,
       "grid_auto_rows": null,
       "grid_column": null,
       "grid_gap": null,
       "grid_row": null,
       "grid_template_areas": null,
       "grid_template_columns": null,
       "grid_template_rows": null,
       "height": null,
       "justify_content": null,
       "justify_items": null,
       "left": null,
       "margin": null,
       "max_height": null,
       "max_width": null,
       "min_height": null,
       "min_width": null,
       "object_fit": null,
       "object_position": null,
       "order": null,
       "overflow": null,
       "overflow_x": null,
       "overflow_y": null,
       "padding": null,
       "right": null,
       "top": null,
       "visibility": null,
       "width": null
      }
     },
     "4c629a8be4144d2abf1ee0c45ebe0fb7": {
      "model_module": "@jupyter-widgets/controls",
      "model_module_version": "1.5.0",
      "model_name": "RadioButtonsModel",
      "state": {
       "_dom_classes": [],
       "_model_module": "@jupyter-widgets/controls",
       "_model_module_version": "1.5.0",
       "_model_name": "RadioButtonsModel",
       "_options_labels": [
        "No",
        "Yes"
       ],
       "_view_count": null,
       "_view_module": "@jupyter-widgets/controls",
       "_view_module_version": "1.5.0",
       "_view_name": "RadioButtonsView",
       "description": "High Blood Pressure : ",
       "description_tooltip": null,
       "disabled": false,
       "index": 0,
       "layout": "IPY_MODEL_99ce767e94344ab38f378c9e6c733a5a",
       "style": "IPY_MODEL_5b090047f97448e0be7c194833ec7538"
      }
     },
     "4e2be7c468f742a7902f70fd3a000a03": {
      "model_module": "@jupyter-widgets/base",
      "model_module_version": "1.2.0",
      "model_name": "LayoutModel",
      "state": {
       "_model_module": "@jupyter-widgets/base",
       "_model_module_version": "1.2.0",
       "_model_name": "LayoutModel",
       "_view_count": null,
       "_view_module": "@jupyter-widgets/base",
       "_view_module_version": "1.2.0",
       "_view_name": "LayoutView",
       "align_content": null,
       "align_items": null,
       "align_self": null,
       "border": null,
       "bottom": null,
       "display": null,
       "flex": null,
       "flex_flow": null,
       "grid_area": null,
       "grid_auto_columns": null,
       "grid_auto_flow": null,
       "grid_auto_rows": null,
       "grid_column": null,
       "grid_gap": null,
       "grid_row": null,
       "grid_template_areas": null,
       "grid_template_columns": null,
       "grid_template_rows": null,
       "height": null,
       "justify_content": null,
       "justify_items": null,
       "left": null,
       "margin": null,
       "max_height": null,
       "max_width": null,
       "min_height": null,
       "min_width": null,
       "object_fit": null,
       "object_position": null,
       "order": null,
       "overflow": null,
       "overflow_x": null,
       "overflow_y": null,
       "padding": null,
       "right": null,
       "top": null,
       "visibility": null,
       "width": null
      }
     },
     "50b29b2dc1264d0dbfd511ce5ad44a54": {
      "model_module": "@jupyter-widgets/controls",
      "model_module_version": "1.5.0",
      "model_name": "LabelModel",
      "state": {
       "_dom_classes": [],
       "_model_module": "@jupyter-widgets/controls",
       "_model_module_version": "1.5.0",
       "_model_name": "LabelModel",
       "_view_count": null,
       "_view_module": "@jupyter-widgets/controls",
       "_view_module_version": "1.5.0",
       "_view_name": "LabelView",
       "description": "",
       "description_tooltip": null,
       "layout": "IPY_MODEL_4975a32f517a48fcbef61b06cee3c15c",
       "placeholder": "​",
       "style": "IPY_MODEL_31b1a100d9bd45a98ea6cd3ab1db1574",
       "value": "How many past days was your Physical Health not good?"
      }
     },
     "50e14ba5b82e44c294b199faaf15d0b4": {
      "model_module": "@jupyter-widgets/controls",
      "model_module_version": "1.5.0",
      "model_name": "RadioButtonsModel",
      "state": {
       "_dom_classes": [],
       "_model_module": "@jupyter-widgets/controls",
       "_model_module_version": "1.5.0",
       "_model_name": "RadioButtonsModel",
       "_options_labels": [
        "No",
        "Yes"
       ],
       "_view_count": null,
       "_view_module": "@jupyter-widgets/controls",
       "_view_module_version": "1.5.0",
       "_view_name": "RadioButtonsView",
       "description": "(Ever told) you had a Stroke? : ",
       "description_tooltip": null,
       "disabled": false,
       "index": 0,
       "layout": "IPY_MODEL_d8a646d8921c45c8ad12cfff87ff4188",
       "style": "IPY_MODEL_280cd0978fc0434185e5cef8fd88b3e3"
      }
     },
     "55490e4e164943e29676c8f72c56fc00": {
      "model_module": "@jupyter-widgets/base",
      "model_module_version": "1.2.0",
      "model_name": "LayoutModel",
      "state": {
       "_model_module": "@jupyter-widgets/base",
       "_model_module_version": "1.2.0",
       "_model_name": "LayoutModel",
       "_view_count": null,
       "_view_module": "@jupyter-widgets/base",
       "_view_module_version": "1.2.0",
       "_view_name": "LayoutView",
       "align_content": null,
       "align_items": null,
       "align_self": null,
       "border": null,
       "bottom": null,
       "display": null,
       "flex": null,
       "flex_flow": null,
       "grid_area": null,
       "grid_auto_columns": null,
       "grid_auto_flow": null,
       "grid_auto_rows": null,
       "grid_column": null,
       "grid_gap": null,
       "grid_row": null,
       "grid_template_areas": null,
       "grid_template_columns": null,
       "grid_template_rows": null,
       "height": null,
       "justify_content": null,
       "justify_items": null,
       "left": null,
       "margin": null,
       "max_height": null,
       "max_width": null,
       "min_height": null,
       "min_width": null,
       "object_fit": null,
       "object_position": null,
       "order": null,
       "overflow": null,
       "overflow_x": null,
       "overflow_y": null,
       "padding": null,
       "right": null,
       "top": null,
       "visibility": null,
       "width": null
      }
     },
     "5b090047f97448e0be7c194833ec7538": {
      "model_module": "@jupyter-widgets/controls",
      "model_module_version": "1.5.0",
      "model_name": "DescriptionStyleModel",
      "state": {
       "_model_module": "@jupyter-widgets/controls",
       "_model_module_version": "1.5.0",
       "_model_name": "DescriptionStyleModel",
       "_view_count": null,
       "_view_module": "@jupyter-widgets/base",
       "_view_module_version": "1.2.0",
       "_view_name": "StyleView",
       "description_width": ""
      }
     },
     "5e1e32adcebc4bdc84f08a3351bd9ca6": {
      "model_module": "@jupyter-widgets/base",
      "model_module_version": "1.2.0",
      "model_name": "LayoutModel",
      "state": {
       "_model_module": "@jupyter-widgets/base",
       "_model_module_version": "1.2.0",
       "_model_name": "LayoutModel",
       "_view_count": null,
       "_view_module": "@jupyter-widgets/base",
       "_view_module_version": "1.2.0",
       "_view_name": "LayoutView",
       "align_content": null,
       "align_items": null,
       "align_self": null,
       "border": null,
       "bottom": null,
       "display": null,
       "flex": null,
       "flex_flow": null,
       "grid_area": null,
       "grid_auto_columns": null,
       "grid_auto_flow": null,
       "grid_auto_rows": null,
       "grid_column": null,
       "grid_gap": null,
       "grid_row": null,
       "grid_template_areas": null,
       "grid_template_columns": null,
       "grid_template_rows": null,
       "height": null,
       "justify_content": null,
       "justify_items": null,
       "left": null,
       "margin": null,
       "max_height": null,
       "max_width": null,
       "min_height": null,
       "min_width": null,
       "object_fit": null,
       "object_position": null,
       "order": null,
       "overflow": null,
       "overflow_x": null,
       "overflow_y": null,
       "padding": null,
       "right": null,
       "top": null,
       "visibility": null,
       "width": null
      }
     },
     "606f19eb230a4769bcc4dc71257ed518": {
      "model_module": "@jupyter-widgets/controls",
      "model_module_version": "1.5.0",
      "model_name": "ButtonStyleModel",
      "state": {
       "_model_module": "@jupyter-widgets/controls",
       "_model_module_version": "1.5.0",
       "_model_name": "ButtonStyleModel",
       "_view_count": null,
       "_view_module": "@jupyter-widgets/base",
       "_view_module_version": "1.2.0",
       "_view_name": "StyleView",
       "button_color": null,
       "font_weight": ""
      }
     },
     "615465b8ecf8429488804d9e0f85f3d8": {
      "model_module": "@jupyter-widgets/controls",
      "model_module_version": "1.5.0",
      "model_name": "RadioButtonsModel",
      "state": {
       "_dom_classes": [],
       "_model_module": "@jupyter-widgets/controls",
       "_model_module_version": "1.5.0",
       "_model_name": "RadioButtonsModel",
       "_options_labels": [
        "No",
        "Yes"
       ],
       "_view_count": null,
       "_view_module": "@jupyter-widgets/controls",
       "_view_module_version": "1.5.0",
       "_view_name": "RadioButtonsView",
       "description": "High Cholesterol : ",
       "description_tooltip": null,
       "disabled": false,
       "index": 0,
       "layout": "IPY_MODEL_7474f98847a447bd9fa21c1883be62de",
       "style": "IPY_MODEL_bc7e8f6b11744dc59d8893b06790f76a"
      }
     },
     "636b9591a9f84715a6fa677fd01fd16a": {
      "model_module": "@jupyter-widgets/controls",
      "model_module_version": "1.5.0",
      "model_name": "DescriptionStyleModel",
      "state": {
       "_model_module": "@jupyter-widgets/controls",
       "_model_module_version": "1.5.0",
       "_model_name": "DescriptionStyleModel",
       "_view_count": null,
       "_view_module": "@jupyter-widgets/base",
       "_view_module_version": "1.2.0",
       "_view_name": "StyleView",
       "description_width": ""
      }
     },
     "65d70074d85a4558aef7fa3e5679d8e5": {
      "model_module": "@jupyter-widgets/output",
      "model_module_version": "1.0.0",
      "model_name": "OutputModel",
      "state": {
       "_dom_classes": [],
       "_model_module": "@jupyter-widgets/output",
       "_model_module_version": "1.0.0",
       "_model_name": "OutputModel",
       "_view_count": null,
       "_view_module": "@jupyter-widgets/output",
       "_view_module_version": "1.0.0",
       "_view_name": "OutputView",
       "layout": "IPY_MODEL_67b826f0887e448382bf59a8f9cccae9",
       "msg_id": "",
       "outputs": []
      }
     },
     "67b826f0887e448382bf59a8f9cccae9": {
      "model_module": "@jupyter-widgets/base",
      "model_module_version": "1.2.0",
      "model_name": "LayoutModel",
      "state": {
       "_model_module": "@jupyter-widgets/base",
       "_model_module_version": "1.2.0",
       "_model_name": "LayoutModel",
       "_view_count": null,
       "_view_module": "@jupyter-widgets/base",
       "_view_module_version": "1.2.0",
       "_view_name": "LayoutView",
       "align_content": null,
       "align_items": null,
       "align_self": null,
       "border": null,
       "bottom": null,
       "display": null,
       "flex": null,
       "flex_flow": null,
       "grid_area": null,
       "grid_auto_columns": null,
       "grid_auto_flow": null,
       "grid_auto_rows": null,
       "grid_column": null,
       "grid_gap": null,
       "grid_row": null,
       "grid_template_areas": null,
       "grid_template_columns": null,
       "grid_template_rows": null,
       "height": null,
       "justify_content": null,
       "justify_items": null,
       "left": null,
       "margin": null,
       "max_height": null,
       "max_width": null,
       "min_height": null,
       "min_width": null,
       "object_fit": null,
       "object_position": null,
       "order": null,
       "overflow": null,
       "overflow_x": null,
       "overflow_y": null,
       "padding": null,
       "right": null,
       "top": null,
       "visibility": null,
       "width": null
      }
     },
     "69ce046ede4445f881fd769b2207e425": {
      "model_module": "@jupyter-widgets/controls",
      "model_module_version": "1.5.0",
      "model_name": "DescriptionStyleModel",
      "state": {
       "_model_module": "@jupyter-widgets/controls",
       "_model_module_version": "1.5.0",
       "_model_name": "DescriptionStyleModel",
       "_view_count": null,
       "_view_module": "@jupyter-widgets/base",
       "_view_module_version": "1.2.0",
       "_view_name": "StyleView",
       "description_width": ""
      }
     },
     "6b2e74e8c887445985f05016518408f4": {
      "model_module": "@jupyter-widgets/controls",
      "model_module_version": "1.5.0",
      "model_name": "RadioButtonsModel",
      "state": {
       "_dom_classes": [],
       "_model_module": "@jupyter-widgets/controls",
       "_model_module_version": "1.5.0",
       "_model_name": "RadioButtonsModel",
       "_options_labels": [
        "No",
        "Yes"
       ],
       "_view_count": null,
       "_view_module": "@jupyter-widgets/controls",
       "_view_module_version": "1.5.0",
       "_view_name": "RadioButtonsView",
       "description": "Physical Activity in past 30 days, not incl job : ",
       "description_tooltip": null,
       "disabled": false,
       "index": 0,
       "layout": "IPY_MODEL_4e2be7c468f742a7902f70fd3a000a03",
       "style": "IPY_MODEL_765e0dff73b04c908f6f375165914082"
      }
     },
     "6f0dbeec80c045888a44ab3f82cccd1a": {
      "model_module": "@jupyter-widgets/base",
      "model_module_version": "1.2.0",
      "model_name": "LayoutModel",
      "state": {
       "_model_module": "@jupyter-widgets/base",
       "_model_module_version": "1.2.0",
       "_model_name": "LayoutModel",
       "_view_count": null,
       "_view_module": "@jupyter-widgets/base",
       "_view_module_version": "1.2.0",
       "_view_name": "LayoutView",
       "align_content": null,
       "align_items": null,
       "align_self": null,
       "border": null,
       "bottom": null,
       "display": null,
       "flex": null,
       "flex_flow": null,
       "grid_area": null,
       "grid_auto_columns": null,
       "grid_auto_flow": null,
       "grid_auto_rows": null,
       "grid_column": null,
       "grid_gap": null,
       "grid_row": null,
       "grid_template_areas": null,
       "grid_template_columns": null,
       "grid_template_rows": null,
       "height": null,
       "justify_content": null,
       "justify_items": null,
       "left": null,
       "margin": null,
       "max_height": null,
       "max_width": null,
       "min_height": null,
       "min_width": null,
       "object_fit": null,
       "object_position": null,
       "order": null,
       "overflow": null,
       "overflow_x": null,
       "overflow_y": null,
       "padding": null,
       "right": null,
       "top": null,
       "visibility": null,
       "width": null
      }
     },
     "6fff8b74e7bd41548f651942b319657c": {
      "model_module": "@jupyter-widgets/controls",
      "model_module_version": "1.5.0",
      "model_name": "FloatSliderModel",
      "state": {
       "_dom_classes": [],
       "_model_module": "@jupyter-widgets/controls",
       "_model_module_version": "1.5.0",
       "_model_name": "FloatSliderModel",
       "_view_count": null,
       "_view_module": "@jupyter-widgets/controls",
       "_view_module_version": "1.5.0",
       "_view_name": "FloatSliderView",
       "continuous_update": true,
       "description": "",
       "description_tooltip": null,
       "disabled": false,
       "layout": "IPY_MODEL_96a6b79fd1df4e259e42d441dd9a0e3a",
       "max": 30.0,
       "min": 0.0,
       "orientation": "horizontal",
       "readout": true,
       "readout_format": ".2f",
       "step": 1.0,
       "style": "IPY_MODEL_3186f279a3c745ba83fad4924151b5dc",
       "value": 0.0
      }
     },
     "71160d929e5b467a8c99ea1cdced616e": {
      "model_module": "@jupyter-widgets/controls",
      "model_module_version": "1.5.0",
      "model_name": "DescriptionStyleModel",
      "state": {
       "_model_module": "@jupyter-widgets/controls",
       "_model_module_version": "1.5.0",
       "_model_name": "DescriptionStyleModel",
       "_view_count": null,
       "_view_module": "@jupyter-widgets/base",
       "_view_module_version": "1.2.0",
       "_view_name": "StyleView",
       "description_width": ""
      }
     },
     "728652dd1ec742b6b4394d1b54c1a6d0": {
      "model_module": "@jupyter-widgets/controls",
      "model_module_version": "1.5.0",
      "model_name": "DescriptionStyleModel",
      "state": {
       "_model_module": "@jupyter-widgets/controls",
       "_model_module_version": "1.5.0",
       "_model_name": "DescriptionStyleModel",
       "_view_count": null,
       "_view_module": "@jupyter-widgets/base",
       "_view_module_version": "1.2.0",
       "_view_name": "StyleView",
       "description_width": ""
      }
     },
     "7474f98847a447bd9fa21c1883be62de": {
      "model_module": "@jupyter-widgets/base",
      "model_module_version": "1.2.0",
      "model_name": "LayoutModel",
      "state": {
       "_model_module": "@jupyter-widgets/base",
       "_model_module_version": "1.2.0",
       "_model_name": "LayoutModel",
       "_view_count": null,
       "_view_module": "@jupyter-widgets/base",
       "_view_module_version": "1.2.0",
       "_view_name": "LayoutView",
       "align_content": null,
       "align_items": null,
       "align_self": null,
       "border": null,
       "bottom": null,
       "display": null,
       "flex": null,
       "flex_flow": null,
       "grid_area": null,
       "grid_auto_columns": null,
       "grid_auto_flow": null,
       "grid_auto_rows": null,
       "grid_column": null,
       "grid_gap": null,
       "grid_row": null,
       "grid_template_areas": null,
       "grid_template_columns": null,
       "grid_template_rows": null,
       "height": null,
       "justify_content": null,
       "justify_items": null,
       "left": null,
       "margin": null,
       "max_height": null,
       "max_width": null,
       "min_height": null,
       "min_width": null,
       "object_fit": null,
       "object_position": null,
       "order": null,
       "overflow": null,
       "overflow_x": null,
       "overflow_y": null,
       "padding": null,
       "right": null,
       "top": null,
       "visibility": null,
       "width": null
      }
     },
     "765e0dff73b04c908f6f375165914082": {
      "model_module": "@jupyter-widgets/controls",
      "model_module_version": "1.5.0",
      "model_name": "DescriptionStyleModel",
      "state": {
       "_model_module": "@jupyter-widgets/controls",
       "_model_module_version": "1.5.0",
       "_model_name": "DescriptionStyleModel",
       "_view_count": null,
       "_view_module": "@jupyter-widgets/base",
       "_view_module_version": "1.2.0",
       "_view_name": "StyleView",
       "description_width": ""
      }
     },
     "817c2161d19144c09119d1a4392cd435": {
      "model_module": "@jupyter-widgets/controls",
      "model_module_version": "1.5.0",
      "model_name": "FloatSliderModel",
      "state": {
       "_dom_classes": [],
       "_model_module": "@jupyter-widgets/controls",
       "_model_module_version": "1.5.0",
       "_model_name": "FloatSliderModel",
       "_view_count": null,
       "_view_module": "@jupyter-widgets/controls",
       "_view_module_version": "1.5.0",
       "_view_name": "FloatSliderView",
       "continuous_update": true,
       "description": "",
       "description_tooltip": null,
       "disabled": false,
       "layout": "IPY_MODEL_d0622daa13b14ae4a40448bcdced8494",
       "max": 5.0,
       "min": 1.0,
       "orientation": "horizontal",
       "readout": true,
       "readout_format": ".2f",
       "step": 1.0,
       "style": "IPY_MODEL_95cd5a3623a9471c9cdb3b59dd70f91b",
       "value": 3.0
      }
     },
     "850e86195b1e453382eab07967d70465": {
      "model_module": "@jupyter-widgets/controls",
      "model_module_version": "1.5.0",
      "model_name": "FloatSliderModel",
      "state": {
       "_dom_classes": [],
       "_model_module": "@jupyter-widgets/controls",
       "_model_module_version": "1.5.0",
       "_model_name": "FloatSliderModel",
       "_view_count": null,
       "_view_module": "@jupyter-widgets/controls",
       "_view_module_version": "1.5.0",
       "_view_name": "FloatSliderView",
       "continuous_update": true,
       "description": "",
       "description_tooltip": null,
       "disabled": false,
       "layout": "IPY_MODEL_6f0dbeec80c045888a44ab3f82cccd1a",
       "max": 50.0,
       "min": 10.0,
       "orientation": "horizontal",
       "readout": true,
       "readout_format": ".2f",
       "step": 0.1,
       "style": "IPY_MODEL_c4c332938487445596864dbf789b59fa",
       "value": 20.0
      }
     },
     "91eb66b342cb4511be27466b325d14d3": {
      "model_module": "@jupyter-widgets/controls",
      "model_module_version": "1.5.0",
      "model_name": "SliderStyleModel",
      "state": {
       "_model_module": "@jupyter-widgets/controls",
       "_model_module_version": "1.5.0",
       "_model_name": "SliderStyleModel",
       "_view_count": null,
       "_view_module": "@jupyter-widgets/base",
       "_view_module_version": "1.2.0",
       "_view_name": "StyleView",
       "description_width": "",
       "handle_color": null
      }
     },
     "95cd5a3623a9471c9cdb3b59dd70f91b": {
      "model_module": "@jupyter-widgets/controls",
      "model_module_version": "1.5.0",
      "model_name": "SliderStyleModel",
      "state": {
       "_model_module": "@jupyter-widgets/controls",
       "_model_module_version": "1.5.0",
       "_model_name": "SliderStyleModel",
       "_view_count": null,
       "_view_module": "@jupyter-widgets/base",
       "_view_module_version": "1.2.0",
       "_view_name": "StyleView",
       "description_width": "",
       "handle_color": null
      }
     },
     "9624fdb71636464aae3d7e679b9f9347": {
      "model_module": "@jupyter-widgets/controls",
      "model_module_version": "1.5.0",
      "model_name": "RadioButtonsModel",
      "state": {
       "_dom_classes": [],
       "_model_module": "@jupyter-widgets/controls",
       "_model_module_version": "1.5.0",
       "_model_name": "RadioButtonsModel",
       "_options_labels": [
        "No",
        "Yes"
       ],
       "_view_count": null,
       "_view_module": "@jupyter-widgets/controls",
       "_view_module_version": "1.5.0",
       "_view_name": "RadioButtonsView",
       "description": "Heavy drinkers (drinks <14 for men, <7 for women per week : ",
       "description_tooltip": null,
       "disabled": false,
       "index": 0,
       "layout": "IPY_MODEL_5e1e32adcebc4bdc84f08a3351bd9ca6",
       "style": "IPY_MODEL_69ce046ede4445f881fd769b2207e425"
      }
     },
     "96a6b79fd1df4e259e42d441dd9a0e3a": {
      "model_module": "@jupyter-widgets/base",
      "model_module_version": "1.2.0",
      "model_name": "LayoutModel",
      "state": {
       "_model_module": "@jupyter-widgets/base",
       "_model_module_version": "1.2.0",
       "_model_name": "LayoutModel",
       "_view_count": null,
       "_view_module": "@jupyter-widgets/base",
       "_view_module_version": "1.2.0",
       "_view_name": "LayoutView",
       "align_content": null,
       "align_items": null,
       "align_self": null,
       "border": null,
       "bottom": null,
       "display": null,
       "flex": null,
       "flex_flow": null,
       "grid_area": null,
       "grid_auto_columns": null,
       "grid_auto_flow": null,
       "grid_auto_rows": null,
       "grid_column": null,
       "grid_gap": null,
       "grid_row": null,
       "grid_template_areas": null,
       "grid_template_columns": null,
       "grid_template_rows": null,
       "height": null,
       "justify_content": null,
       "justify_items": null,
       "left": null,
       "margin": null,
       "max_height": null,
       "max_width": null,
       "min_height": null,
       "min_width": null,
       "object_fit": null,
       "object_position": null,
       "order": null,
       "overflow": null,
       "overflow_x": null,
       "overflow_y": null,
       "padding": null,
       "right": null,
       "top": null,
       "visibility": null,
       "width": null
      }
     },
     "9730683127bf444da508e3479d60306f": {
      "model_module": "@jupyter-widgets/controls",
      "model_module_version": "1.5.0",
      "model_name": "DescriptionStyleModel",
      "state": {
       "_model_module": "@jupyter-widgets/controls",
       "_model_module_version": "1.5.0",
       "_model_name": "DescriptionStyleModel",
       "_view_count": null,
       "_view_module": "@jupyter-widgets/base",
       "_view_module_version": "1.2.0",
       "_view_name": "StyleView",
       "description_width": ""
      }
     },
     "981eec0cd7dd4560b6452d75427957fb": {
      "model_module": "@jupyter-widgets/controls",
      "model_module_version": "1.5.0",
      "model_name": "RadioButtonsModel",
      "state": {
       "_dom_classes": [],
       "_model_module": "@jupyter-widgets/controls",
       "_model_module_version": "1.5.0",
       "_model_name": "RadioButtonsModel",
       "_options_labels": [
        "No",
        "Yes"
       ],
       "_view_count": null,
       "_view_module": "@jupyter-widgets/controls",
       "_view_module_version": "1.5.0",
       "_view_name": "RadioButtonsView",
       "description": "Do you have Difficulty Walking or climbing stairs? : ",
       "description_tooltip": null,
       "disabled": false,
       "index": 0,
       "layout": "IPY_MODEL_997e6c3416954c82a512e24b89f45d54",
       "style": "IPY_MODEL_71160d929e5b467a8c99ea1cdced616e"
      }
     },
     "997e6c3416954c82a512e24b89f45d54": {
      "model_module": "@jupyter-widgets/base",
      "model_module_version": "1.2.0",
      "model_name": "LayoutModel",
      "state": {
       "_model_module": "@jupyter-widgets/base",
       "_model_module_version": "1.2.0",
       "_model_name": "LayoutModel",
       "_view_count": null,
       "_view_module": "@jupyter-widgets/base",
       "_view_module_version": "1.2.0",
       "_view_name": "LayoutView",
       "align_content": null,
       "align_items": null,
       "align_self": null,
       "border": null,
       "bottom": null,
       "display": null,
       "flex": null,
       "flex_flow": null,
       "grid_area": null,
       "grid_auto_columns": null,
       "grid_auto_flow": null,
       "grid_auto_rows": null,
       "grid_column": null,
       "grid_gap": null,
       "grid_row": null,
       "grid_template_areas": null,
       "grid_template_columns": null,
       "grid_template_rows": null,
       "height": null,
       "justify_content": null,
       "justify_items": null,
       "left": null,
       "margin": null,
       "max_height": null,
       "max_width": null,
       "min_height": null,
       "min_width": null,
       "object_fit": null,
       "object_position": null,
       "order": null,
       "overflow": null,
       "overflow_x": null,
       "overflow_y": null,
       "padding": null,
       "right": null,
       "top": null,
       "visibility": null,
       "width": null
      }
     },
     "99ce767e94344ab38f378c9e6c733a5a": {
      "model_module": "@jupyter-widgets/base",
      "model_module_version": "1.2.0",
      "model_name": "LayoutModel",
      "state": {
       "_model_module": "@jupyter-widgets/base",
       "_model_module_version": "1.2.0",
       "_model_name": "LayoutModel",
       "_view_count": null,
       "_view_module": "@jupyter-widgets/base",
       "_view_module_version": "1.2.0",
       "_view_name": "LayoutView",
       "align_content": null,
       "align_items": null,
       "align_self": null,
       "border": null,
       "bottom": null,
       "display": null,
       "flex": null,
       "flex_flow": null,
       "grid_area": null,
       "grid_auto_columns": null,
       "grid_auto_flow": null,
       "grid_auto_rows": null,
       "grid_column": null,
       "grid_gap": null,
       "grid_row": null,
       "grid_template_areas": null,
       "grid_template_columns": null,
       "grid_template_rows": null,
       "height": null,
       "justify_content": null,
       "justify_items": null,
       "left": null,
       "margin": null,
       "max_height": null,
       "max_width": null,
       "min_height": null,
       "min_width": null,
       "object_fit": null,
       "object_position": null,
       "order": null,
       "overflow": null,
       "overflow_x": null,
       "overflow_y": null,
       "padding": null,
       "right": null,
       "top": null,
       "visibility": null,
       "width": null
      }
     },
     "9c081dd6e87449de911471509299022b": {
      "model_module": "@jupyter-widgets/base",
      "model_module_version": "1.2.0",
      "model_name": "LayoutModel",
      "state": {
       "_model_module": "@jupyter-widgets/base",
       "_model_module_version": "1.2.0",
       "_model_name": "LayoutModel",
       "_view_count": null,
       "_view_module": "@jupyter-widgets/base",
       "_view_module_version": "1.2.0",
       "_view_name": "LayoutView",
       "align_content": null,
       "align_items": null,
       "align_self": null,
       "border": null,
       "bottom": null,
       "display": null,
       "flex": null,
       "flex_flow": null,
       "grid_area": null,
       "grid_auto_columns": null,
       "grid_auto_flow": null,
       "grid_auto_rows": null,
       "grid_column": null,
       "grid_gap": null,
       "grid_row": null,
       "grid_template_areas": null,
       "grid_template_columns": null,
       "grid_template_rows": null,
       "height": null,
       "justify_content": null,
       "justify_items": null,
       "left": null,
       "margin": null,
       "max_height": null,
       "max_width": null,
       "min_height": null,
       "min_width": null,
       "object_fit": null,
       "object_position": null,
       "order": null,
       "overflow": null,
       "overflow_x": null,
       "overflow_y": null,
       "padding": null,
       "right": null,
       "top": null,
       "visibility": null,
       "width": null
      }
     },
     "9c9ac48387014f6c835ceef2b569384d": {
      "model_module": "@jupyter-widgets/base",
      "model_module_version": "1.2.0",
      "model_name": "LayoutModel",
      "state": {
       "_model_module": "@jupyter-widgets/base",
       "_model_module_version": "1.2.0",
       "_model_name": "LayoutModel",
       "_view_count": null,
       "_view_module": "@jupyter-widgets/base",
       "_view_module_version": "1.2.0",
       "_view_name": "LayoutView",
       "align_content": null,
       "align_items": null,
       "align_self": null,
       "border": null,
       "bottom": null,
       "display": null,
       "flex": null,
       "flex_flow": null,
       "grid_area": null,
       "grid_auto_columns": null,
       "grid_auto_flow": null,
       "grid_auto_rows": null,
       "grid_column": null,
       "grid_gap": null,
       "grid_row": null,
       "grid_template_areas": null,
       "grid_template_columns": null,
       "grid_template_rows": null,
       "height": null,
       "justify_content": null,
       "justify_items": null,
       "left": null,
       "margin": null,
       "max_height": null,
       "max_width": null,
       "min_height": null,
       "min_width": null,
       "object_fit": null,
       "object_position": null,
       "order": null,
       "overflow": null,
       "overflow_x": null,
       "overflow_y": null,
       "padding": null,
       "right": null,
       "top": null,
       "visibility": null,
       "width": null
      }
     },
     "9cd74ced016847098351fddbc48beb4b": {
      "model_module": "@jupyter-widgets/base",
      "model_module_version": "1.2.0",
      "model_name": "LayoutModel",
      "state": {
       "_model_module": "@jupyter-widgets/base",
       "_model_module_version": "1.2.0",
       "_model_name": "LayoutModel",
       "_view_count": null,
       "_view_module": "@jupyter-widgets/base",
       "_view_module_version": "1.2.0",
       "_view_name": "LayoutView",
       "align_content": null,
       "align_items": null,
       "align_self": null,
       "border": null,
       "bottom": null,
       "display": null,
       "flex": null,
       "flex_flow": null,
       "grid_area": null,
       "grid_auto_columns": null,
       "grid_auto_flow": null,
       "grid_auto_rows": null,
       "grid_column": null,
       "grid_gap": null,
       "grid_row": null,
       "grid_template_areas": null,
       "grid_template_columns": null,
       "grid_template_rows": null,
       "height": null,
       "justify_content": null,
       "justify_items": null,
       "left": null,
       "margin": null,
       "max_height": null,
       "max_width": null,
       "min_height": null,
       "min_width": null,
       "object_fit": null,
       "object_position": null,
       "order": null,
       "overflow": null,
       "overflow_x": null,
       "overflow_y": null,
       "padding": null,
       "right": null,
       "top": null,
       "visibility": null,
       "width": null
      }
     },
     "9e45201247b948a9927f9555a3f1f7fe": {
      "model_module": "@jupyter-widgets/controls",
      "model_module_version": "1.5.0",
      "model_name": "DescriptionStyleModel",
      "state": {
       "_model_module": "@jupyter-widgets/controls",
       "_model_module_version": "1.5.0",
       "_model_name": "DescriptionStyleModel",
       "_view_count": null,
       "_view_module": "@jupyter-widgets/base",
       "_view_module_version": "1.2.0",
       "_view_name": "StyleView",
       "description_width": ""
      }
     },
     "a69dc1bee52d40b78ee9e58a9549835f": {
      "model_module": "@jupyter-widgets/base",
      "model_module_version": "1.2.0",
      "model_name": "LayoutModel",
      "state": {
       "_model_module": "@jupyter-widgets/base",
       "_model_module_version": "1.2.0",
       "_model_name": "LayoutModel",
       "_view_count": null,
       "_view_module": "@jupyter-widgets/base",
       "_view_module_version": "1.2.0",
       "_view_name": "LayoutView",
       "align_content": null,
       "align_items": null,
       "align_self": null,
       "border": null,
       "bottom": null,
       "display": null,
       "flex": null,
       "flex_flow": null,
       "grid_area": null,
       "grid_auto_columns": null,
       "grid_auto_flow": null,
       "grid_auto_rows": null,
       "grid_column": null,
       "grid_gap": null,
       "grid_row": null,
       "grid_template_areas": null,
       "grid_template_columns": null,
       "grid_template_rows": null,
       "height": null,
       "justify_content": null,
       "justify_items": null,
       "left": null,
       "margin": null,
       "max_height": null,
       "max_width": null,
       "min_height": null,
       "min_width": null,
       "object_fit": null,
       "object_position": null,
       "order": null,
       "overflow": null,
       "overflow_x": null,
       "overflow_y": null,
       "padding": null,
       "right": null,
       "top": null,
       "visibility": null,
       "width": null
      }
     },
     "a92b8e01ba234d8081fdd59469018bb2": {
      "model_module": "@jupyter-widgets/controls",
      "model_module_version": "1.5.0",
      "model_name": "RadioButtonsModel",
      "state": {
       "_dom_classes": [],
       "_model_module": "@jupyter-widgets/controls",
       "_model_module_version": "1.5.0",
       "_model_name": "RadioButtonsModel",
       "_options_labels": [
        "No",
        "Yes"
       ],
       "_view_count": null,
       "_view_module": "@jupyter-widgets/controls",
       "_view_module_version": "1.5.0",
       "_view_name": "RadioButtonsView",
       "description": "Have you smoked at least 100 cigarettes in your life? : ",
       "description_tooltip": null,
       "disabled": false,
       "index": 0,
       "layout": "IPY_MODEL_9c9ac48387014f6c835ceef2b569384d",
       "style": "IPY_MODEL_c84aa2ba1041494a840146737d61cd5f"
      }
     },
     "ad5b3444c7b8420994a6ddbc393adada": {
      "model_module": "@jupyter-widgets/base",
      "model_module_version": "1.2.0",
      "model_name": "LayoutModel",
      "state": {
       "_model_module": "@jupyter-widgets/base",
       "_model_module_version": "1.2.0",
       "_model_name": "LayoutModel",
       "_view_count": null,
       "_view_module": "@jupyter-widgets/base",
       "_view_module_version": "1.2.0",
       "_view_name": "LayoutView",
       "align_content": null,
       "align_items": null,
       "align_self": null,
       "border": null,
       "bottom": null,
       "display": null,
       "flex": null,
       "flex_flow": null,
       "grid_area": null,
       "grid_auto_columns": null,
       "grid_auto_flow": null,
       "grid_auto_rows": null,
       "grid_column": null,
       "grid_gap": null,
       "grid_row": null,
       "grid_template_areas": null,
       "grid_template_columns": null,
       "grid_template_rows": null,
       "height": null,
       "justify_content": null,
       "justify_items": null,
       "left": null,
       "margin": null,
       "max_height": null,
       "max_width": null,
       "min_height": null,
       "min_width": null,
       "object_fit": null,
       "object_position": null,
       "order": null,
       "overflow": null,
       "overflow_x": null,
       "overflow_y": null,
       "padding": null,
       "right": null,
       "top": null,
       "visibility": null,
       "width": null
      }
     },
     "b74fba10b3a841d5a9f468ad642a75eb": {
      "model_module": "@jupyter-widgets/base",
      "model_module_version": "1.2.0",
      "model_name": "LayoutModel",
      "state": {
       "_model_module": "@jupyter-widgets/base",
       "_model_module_version": "1.2.0",
       "_model_name": "LayoutModel",
       "_view_count": null,
       "_view_module": "@jupyter-widgets/base",
       "_view_module_version": "1.2.0",
       "_view_name": "LayoutView",
       "align_content": null,
       "align_items": null,
       "align_self": null,
       "border": null,
       "bottom": null,
       "display": null,
       "flex": null,
       "flex_flow": null,
       "grid_area": null,
       "grid_auto_columns": null,
       "grid_auto_flow": null,
       "grid_auto_rows": null,
       "grid_column": null,
       "grid_gap": null,
       "grid_row": null,
       "grid_template_areas": null,
       "grid_template_columns": null,
       "grid_template_rows": null,
       "height": null,
       "justify_content": null,
       "justify_items": null,
       "left": null,
       "margin": null,
       "max_height": null,
       "max_width": null,
       "min_height": null,
       "min_width": null,
       "object_fit": null,
       "object_position": null,
       "order": null,
       "overflow": null,
       "overflow_x": null,
       "overflow_y": null,
       "padding": null,
       "right": null,
       "top": null,
       "visibility": null,
       "width": null
      }
     },
     "bc7e8f6b11744dc59d8893b06790f76a": {
      "model_module": "@jupyter-widgets/controls",
      "model_module_version": "1.5.0",
      "model_name": "DescriptionStyleModel",
      "state": {
       "_model_module": "@jupyter-widgets/controls",
       "_model_module_version": "1.5.0",
       "_model_name": "DescriptionStyleModel",
       "_view_count": null,
       "_view_module": "@jupyter-widgets/base",
       "_view_module_version": "1.2.0",
       "_view_name": "StyleView",
       "description_width": ""
      }
     },
     "c4c332938487445596864dbf789b59fa": {
      "model_module": "@jupyter-widgets/controls",
      "model_module_version": "1.5.0",
      "model_name": "SliderStyleModel",
      "state": {
       "_model_module": "@jupyter-widgets/controls",
       "_model_module_version": "1.5.0",
       "_model_name": "SliderStyleModel",
       "_view_count": null,
       "_view_module": "@jupyter-widgets/base",
       "_view_module_version": "1.2.0",
       "_view_name": "StyleView",
       "description_width": "",
       "handle_color": null
      }
     },
     "c84aa2ba1041494a840146737d61cd5f": {
      "model_module": "@jupyter-widgets/controls",
      "model_module_version": "1.5.0",
      "model_name": "DescriptionStyleModel",
      "state": {
       "_model_module": "@jupyter-widgets/controls",
       "_model_module_version": "1.5.0",
       "_model_name": "DescriptionStyleModel",
       "_view_count": null,
       "_view_module": "@jupyter-widgets/base",
       "_view_module_version": "1.2.0",
       "_view_name": "StyleView",
       "description_width": ""
      }
     },
     "d0622daa13b14ae4a40448bcdced8494": {
      "model_module": "@jupyter-widgets/base",
      "model_module_version": "1.2.0",
      "model_name": "LayoutModel",
      "state": {
       "_model_module": "@jupyter-widgets/base",
       "_model_module_version": "1.2.0",
       "_model_name": "LayoutModel",
       "_view_count": null,
       "_view_module": "@jupyter-widgets/base",
       "_view_module_version": "1.2.0",
       "_view_name": "LayoutView",
       "align_content": null,
       "align_items": null,
       "align_self": null,
       "border": null,
       "bottom": null,
       "display": null,
       "flex": null,
       "flex_flow": null,
       "grid_area": null,
       "grid_auto_columns": null,
       "grid_auto_flow": null,
       "grid_auto_rows": null,
       "grid_column": null,
       "grid_gap": null,
       "grid_row": null,
       "grid_template_areas": null,
       "grid_template_columns": null,
       "grid_template_rows": null,
       "height": null,
       "justify_content": null,
       "justify_items": null,
       "left": null,
       "margin": null,
       "max_height": null,
       "max_width": null,
       "min_height": null,
       "min_width": null,
       "object_fit": null,
       "object_position": null,
       "order": null,
       "overflow": null,
       "overflow_x": null,
       "overflow_y": null,
       "padding": null,
       "right": null,
       "top": null,
       "visibility": null,
       "width": null
      }
     },
     "d7a4d4f8f26446cda781ab342b95aa88": {
      "model_module": "@jupyter-widgets/controls",
      "model_module_version": "1.5.0",
      "model_name": "RadioButtonsModel",
      "state": {
       "_dom_classes": [],
       "_model_module": "@jupyter-widgets/controls",
       "_model_module_version": "1.5.0",
       "_model_name": "RadioButtonsModel",
       "_options_labels": [
        "No",
        "Yes"
       ],
       "_view_count": null,
       "_view_module": "@jupyter-widgets/controls",
       "_view_module_version": "1.5.0",
       "_view_name": "RadioButtonsView",
       "description": "Eat 1 Fruit or more per day : ",
       "description_tooltip": null,
       "disabled": false,
       "index": 0,
       "layout": "IPY_MODEL_1a35c70eb5ca4a6dbee03e3a783e270e",
       "style": "IPY_MODEL_9e45201247b948a9927f9555a3f1f7fe"
      }
     },
     "d8a646d8921c45c8ad12cfff87ff4188": {
      "model_module": "@jupyter-widgets/base",
      "model_module_version": "1.2.0",
      "model_name": "LayoutModel",
      "state": {
       "_model_module": "@jupyter-widgets/base",
       "_model_module_version": "1.2.0",
       "_model_name": "LayoutModel",
       "_view_count": null,
       "_view_module": "@jupyter-widgets/base",
       "_view_module_version": "1.2.0",
       "_view_name": "LayoutView",
       "align_content": null,
       "align_items": null,
       "align_self": null,
       "border": null,
       "bottom": null,
       "display": null,
       "flex": null,
       "flex_flow": null,
       "grid_area": null,
       "grid_auto_columns": null,
       "grid_auto_flow": null,
       "grid_auto_rows": null,
       "grid_column": null,
       "grid_gap": null,
       "grid_row": null,
       "grid_template_areas": null,
       "grid_template_columns": null,
       "grid_template_rows": null,
       "height": null,
       "justify_content": null,
       "justify_items": null,
       "left": null,
       "margin": null,
       "max_height": null,
       "max_width": null,
       "min_height": null,
       "min_width": null,
       "object_fit": null,
       "object_position": null,
       "order": null,
       "overflow": null,
       "overflow_x": null,
       "overflow_y": null,
       "padding": null,
       "right": null,
       "top": null,
       "visibility": null,
       "width": null
      }
     },
     "e6f89ff33b444c23b250f2d971b63182": {
      "model_module": "@jupyter-widgets/controls",
      "model_module_version": "1.5.0",
      "model_name": "RadioButtonsModel",
      "state": {
       "_dom_classes": [],
       "_model_module": "@jupyter-widgets/controls",
       "_model_module_version": "1.5.0",
       "_model_name": "RadioButtonsModel",
       "_options_labels": [
        "Female",
        "Male"
       ],
       "_view_count": null,
       "_view_module": "@jupyter-widgets/controls",
       "_view_module_version": "1.5.0",
       "_view_name": "RadioButtonsView",
       "description": "Sex : ",
       "description_tooltip": null,
       "disabled": false,
       "index": 0,
       "layout": "IPY_MODEL_ad5b3444c7b8420994a6ddbc393adada",
       "style": "IPY_MODEL_f50b6d458c4b45cf9ad657cc3bd9d744"
      }
     },
     "ea05d53dd47e4fe79c6b7a17cfdd09c4": {
      "model_module": "@jupyter-widgets/controls",
      "model_module_version": "1.5.0",
      "model_name": "DescriptionStyleModel",
      "state": {
       "_model_module": "@jupyter-widgets/controls",
       "_model_module_version": "1.5.0",
       "_model_name": "DescriptionStyleModel",
       "_view_count": null,
       "_view_module": "@jupyter-widgets/base",
       "_view_module_version": "1.2.0",
       "_view_name": "StyleView",
       "description_width": ""
      }
     },
     "eb99637d47464fbe9fc9c46bdbb4d07b": {
      "model_module": "@jupyter-widgets/controls",
      "model_module_version": "1.5.0",
      "model_name": "ButtonModel",
      "state": {
       "_dom_classes": [],
       "_model_module": "@jupyter-widgets/controls",
       "_model_module_version": "1.5.0",
       "_model_name": "ButtonModel",
       "_view_count": null,
       "_view_module": "@jupyter-widgets/controls",
       "_view_module_version": "1.5.0",
       "_view_name": "ButtonView",
       "button_style": "",
       "description": "Predict Patient Risk",
       "disabled": false,
       "icon": "",
       "layout": "IPY_MODEL_a69dc1bee52d40b78ee9e58a9549835f",
       "style": "IPY_MODEL_606f19eb230a4769bcc4dc71257ed518",
       "tooltip": ""
      }
     },
     "efd51e57b7774583b944c1c168688f57": {
      "model_module": "@jupyter-widgets/controls",
      "model_module_version": "1.5.0",
      "model_name": "SliderStyleModel",
      "state": {
       "_model_module": "@jupyter-widgets/controls",
       "_model_module_version": "1.5.0",
       "_model_name": "SliderStyleModel",
       "_view_count": null,
       "_view_module": "@jupyter-widgets/base",
       "_view_module_version": "1.2.0",
       "_view_name": "StyleView",
       "description_width": "",
       "handle_color": null
      }
     },
     "f50b6d458c4b45cf9ad657cc3bd9d744": {
      "model_module": "@jupyter-widgets/controls",
      "model_module_version": "1.5.0",
      "model_name": "DescriptionStyleModel",
      "state": {
       "_model_module": "@jupyter-widgets/controls",
       "_model_module_version": "1.5.0",
       "_model_name": "DescriptionStyleModel",
       "_view_count": null,
       "_view_module": "@jupyter-widgets/base",
       "_view_module_version": "1.2.0",
       "_view_name": "StyleView",
       "description_width": ""
      }
     },
     "f64c7e20d0c34c29a60cbcb03b37d785": {
      "model_module": "@jupyter-widgets/controls",
      "model_module_version": "1.5.0",
      "model_name": "FloatSliderModel",
      "state": {
       "_dom_classes": [],
       "_model_module": "@jupyter-widgets/controls",
       "_model_module_version": "1.5.0",
       "_model_name": "FloatSliderModel",
       "_view_count": null,
       "_view_module": "@jupyter-widgets/controls",
       "_view_module_version": "1.5.0",
       "_view_name": "FloatSliderView",
       "continuous_update": true,
       "description": "",
       "description_tooltip": null,
       "disabled": false,
       "layout": "IPY_MODEL_9c081dd6e87449de911471509299022b",
       "max": 13.0,
       "min": 1.0,
       "orientation": "horizontal",
       "readout": true,
       "readout_format": ".2f",
       "step": 1.0,
       "style": "IPY_MODEL_efd51e57b7774583b944c1c168688f57",
       "value": 8.0
      }
     },
     "fde63a66c4a247c6a2027279d628ef05": {
      "model_module": "@jupyter-widgets/controls",
      "model_module_version": "1.5.0",
      "model_name": "DescriptionStyleModel",
      "state": {
       "_model_module": "@jupyter-widgets/controls",
       "_model_module_version": "1.5.0",
       "_model_name": "DescriptionStyleModel",
       "_view_count": null,
       "_view_module": "@jupyter-widgets/base",
       "_view_module_version": "1.2.0",
       "_view_name": "StyleView",
       "description_width": ""
      }
     },
     "feda60b259cd4fc488c01636d9b24477": {
      "model_module": "@jupyter-widgets/controls",
      "model_module_version": "1.5.0",
      "model_name": "FloatSliderModel",
      "state": {
       "_dom_classes": [],
       "_model_module": "@jupyter-widgets/controls",
       "_model_module_version": "1.5.0",
       "_model_name": "FloatSliderModel",
       "_view_count": null,
       "_view_module": "@jupyter-widgets/controls",
       "_view_module_version": "1.5.0",
       "_view_name": "FloatSliderView",
       "continuous_update": true,
       "description": "",
       "description_tooltip": null,
       "disabled": false,
       "layout": "IPY_MODEL_0a2d3534be8f4d94a0ae4da40e88832c",
       "max": 30.0,
       "min": 0.0,
       "orientation": "horizontal",
       "readout": true,
       "readout_format": ".2f",
       "step": 1.0,
       "style": "IPY_MODEL_91eb66b342cb4511be27466b325d14d3",
       "value": 0.0
      }
     }
    },
    "version_major": 2,
    "version_minor": 0
   }
  }
 },
 "nbformat": 4,
 "nbformat_minor": 5
}
