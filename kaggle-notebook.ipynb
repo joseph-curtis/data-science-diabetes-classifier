{
 "cells": [
  {
   "cell_type": "markdown",
   "id": "25737037",
   "metadata": {
    "papermill": {
     "duration": 0.009211,
     "end_time": "2024-03-16T22:15:58.498355",
     "exception": false,
     "start_time": "2024-03-16T22:15:58.489144",
     "status": "completed"
    },
    "tags": []
   },
   "source": [
    "# At-Risk Diabetes Classifier\n",
    "\n",
    "**Author:** Joseph Curtis\n",
    "\n",
    "<p><a href=\"https://www.kaggle.com/code/josephcurtis/at-risk-diabetes-classifier\" target=\"_blank\"><img align=\"left\" alt=\"Kaggle\" title=\"Open in Kaggle\" width=\"167\" height=\"30\" src=\"https://kaggle.com/static/images/open-in-kaggle.svg\" /></a></p>"
   ]
  },
  {
   "cell_type": "markdown",
   "id": "11d8659c",
   "metadata": {
    "papermill": {
     "duration": 0.008954,
     "end_time": "2024-03-16T22:15:58.515917",
     "exception": false,
     "start_time": "2024-03-16T22:15:58.506963",
     "status": "completed"
    },
    "tags": []
   },
   "source": [
    "# Overview\n",
    "\n",
    "This notebook presents the At-Risk Diabetes Classifier, a machine learning project aimed at identifying individuals at risk of diabetes based on a variety of health indicators. By analyzing a dataset with features such as BMI, age, smoking status, physical activity, and more, we develop and train a supervised model to predict the likelihood of diabetes.\n",
    "\n",
    "The project demonstrates:\n",
    "- Data preprocessing and cleaning techniques.\n",
    "- Exploratory data analysis (EDA) to understand the relationships within the data.\n",
    "- Feature selection and engineering to prepare the data for modeling.\n",
    "- Evaluation and comparison of different machine learning models, including Logistic Regression and Random Forest, to find the most effective predictor of diabetes risk.\n",
    "\n",
    "This work is part of an ongoing exploration into how data science can be applied to healthcare data to predict disease risk and support early intervention strategies.\n",
    "\n",
    "For more information, source code, and related resources, please visit the project's GitHub repository at [github.com/joseph-curtis](https://github.com/joseph-curtis/data-science-diabetes-classifier)\n",
    "\n",
    "- <a href=\"https://github.com/joseph-curtis/data-science-diabetes-classifier\" target=\"_blank\"><img align=\"left\" alt=\"Github\" title=\"Open in Github\" width=\"144\" height=\"42\" src=\"https://img.shields.io/badge/GitHub-372a4a?style=for-the-badge&logo=github&logoColor=white\" /></a>"
   ]
  },
  {
   "cell_type": "markdown",
   "id": "a48ec79c",
   "metadata": {
    "papermill": {
     "duration": 0.007824,
     "end_time": "2024-03-16T22:15:58.532046",
     "exception": false,
     "start_time": "2024-03-16T22:15:58.524222",
     "status": "completed"
    },
    "tags": []
   },
   "source": [
    "# Data Preparation and Initial Analysis\n",
    "\n",
    "Here we focus on preparing and analyzing health indicator data for diabetes from the years 2015 and 2021. The goal is to combine these datasets to form a comprehensive view of the data, which can later be used for machine learning modeling. The following steps are taken:\n",
    "\n",
    "1. Import Libraries\n",
    "2. Load the Data\n",
    "3. Combine the DataFrames\n",
    "4. Rename the column 'Diabetes_binary' for brevity"
   ]
  },
  {
   "cell_type": "code",
   "execution_count": 1,
   "id": "8adc4dbf",
   "metadata": {
    "execution": {
     "iopub.execute_input": "2024-03-16T22:15:58.549997Z",
     "iopub.status.busy": "2024-03-16T22:15:58.549585Z",
     "iopub.status.idle": "2024-03-16T22:16:01.876314Z",
     "shell.execute_reply": "2024-03-16T22:16:01.875061Z"
    },
    "jupyter": {
     "source_hidden": true
    },
    "papermill": {
     "duration": 3.338581,
     "end_time": "2024-03-16T22:16:01.878701",
     "exception": false,
     "start_time": "2024-03-16T22:15:58.540120",
     "status": "completed"
    },
    "tags": []
   },
   "outputs": [
    {
     "data": {
      "text/plain": [
       "(   Diabetes  HighBP  HighChol  CholCheck   BMI  Smoker  Stroke  \\\n",
       " 0       0.0     1.0       0.0        1.0  26.0     0.0     0.0   \n",
       " 1       0.0     1.0       1.0        1.0  26.0     1.0     1.0   \n",
       " 2       0.0     0.0       0.0        1.0  26.0     0.0     0.0   \n",
       " 3       0.0     1.0       1.0        1.0  28.0     1.0     0.0   \n",
       " 4       0.0     0.0       0.0        1.0  29.0     1.0     0.0   \n",
       " \n",
       "    HeartDiseaseorAttack  PhysActivity  Fruits  ...  AnyHealthcare  \\\n",
       " 0                   0.0           1.0     0.0  ...            1.0   \n",
       " 1                   0.0           0.0     1.0  ...            1.0   \n",
       " 2                   0.0           1.0     1.0  ...            1.0   \n",
       " 3                   0.0           1.0     1.0  ...            1.0   \n",
       " 4                   0.0           1.0     1.0  ...            1.0   \n",
       " \n",
       "    NoDocbcCost  GenHlth  MentHlth  PhysHlth  DiffWalk  Sex   Age  Education  \\\n",
       " 0          0.0      3.0       5.0      30.0       0.0  1.0   4.0        6.0   \n",
       " 1          0.0      3.0       0.0       0.0       0.0  1.0  12.0        6.0   \n",
       " 2          0.0      1.0       0.0      10.0       0.0  1.0  13.0        6.0   \n",
       " 3          0.0      3.0       0.0       3.0       0.0  1.0  11.0        6.0   \n",
       " 4          0.0      2.0       0.0       0.0       0.0  0.0   8.0        5.0   \n",
       " \n",
       "    Income  \n",
       " 0     8.0  \n",
       " 1     8.0  \n",
       " 2     8.0  \n",
       " 3     8.0  \n",
       " 4     8.0  \n",
       " \n",
       " [5 rows x 22 columns],\n",
       " (137828, 22))"
      ]
     },
     "execution_count": 1,
     "metadata": {},
     "output_type": "execute_result"
    }
   ],
   "source": [
    "# import Libraries\n",
    "import matplotlib.pyplot as plt\n",
    "import numpy as np\n",
    "import pandas as pd\n",
    "import seaborn as sns\n",
    "from IPython.display import display\n",
    "from matplotlib import pyplot\n",
    "from pandas.plotting import scatter_matrix\n",
    "from sklearn import linear_model, metrics, model_selection\n",
    "from sklearn.ensemble import RandomForestClassifier\n",
    "from sklearn.linear_model import LogisticRegression\n",
    "from sklearn.metrics import (\n",
    "    ConfusionMatrixDisplay,\n",
    "    accuracy_score,\n",
    "    classification_report,\n",
    "    confusion_matrix,\n",
    ")\n",
    "from sklearn.model_selection import KFold, cross_val_score, train_test_split\n",
    "from sklearn.preprocessing import MinMaxScaler\n",
    "\n",
    "# file names and urls\n",
    "filepath_2015 = \"/kaggle/input/diabetes-health-indicators-dataset\\\n",
    "/diabetes_binary_5050split_health_indicators_BRFSS2015.csv\"\n",
    "filepath_2021 = \"/kaggle/input/d/julnazz/diabetes-health-indicators-dataset\\\n",
    "/diabetes_binary_5050split_health_indicators_BRFSS2021.csv\"\n",
    "df1 = pd.read_csv(filepath_2015)\n",
    "df2 = pd.read_csv(filepath_2021)\n",
    "\n",
    "# Combine the two DataFrames\n",
    "combined_df = pd.concat([df1, df2], axis=0).reset_index(drop=True)\n",
    "\n",
    "# Rename the 'Diabetes_binary' column to 'Diabetes'\n",
    "combined_df.rename(columns={\"Diabetes_binary\": \"Diabetes\"}, inplace=True)\n",
    "\n",
    "# Display the first few rows of the combined dataframe\n",
    "# and its shape to verify the combination\n",
    "combined_df_info = combined_df.head(), combined_df.shape\n",
    "\n",
    "combined_df_info  # output"
   ]
  },
  {
   "cell_type": "markdown",
   "id": "b3063efc",
   "metadata": {
    "papermill": {
     "duration": 0.008324,
     "end_time": "2024-03-16T22:16:01.896241",
     "exception": false,
     "start_time": "2024-03-16T22:16:01.887917",
     "status": "completed"
    },
    "tags": []
   },
   "source": [
    "# Removing Features\n",
    "\n",
    "Here we remove features deemed irrelevant for modeling purposes. We specify a list of columns to be removed and then drop these columns from the combined DataFrame.\n",
    "\n",
    "We reverse the values of the \"General Health\" feature to make it more clear to the audience when graphed. This makes a value of 5 = \"excellent\" and value of 1 = \"poor\"."
   ]
  },
  {
   "cell_type": "code",
   "execution_count": 2,
   "id": "2c7e7a5b",
   "metadata": {
    "execution": {
     "iopub.execute_input": "2024-03-16T22:16:01.915412Z",
     "iopub.status.busy": "2024-03-16T22:16:01.914648Z",
     "iopub.status.idle": "2024-03-16T22:16:01.953976Z",
     "shell.execute_reply": "2024-03-16T22:16:01.952612Z"
    },
    "papermill": {
     "duration": 0.052157,
     "end_time": "2024-03-16T22:16:01.956888",
     "exception": false,
     "start_time": "2024-03-16T22:16:01.904731",
     "status": "completed"
    },
    "tags": []
   },
   "outputs": [
    {
     "data": {
      "text/html": [
       "<div>\n",
       "<style scoped>\n",
       "    .dataframe tbody tr th:only-of-type {\n",
       "        vertical-align: middle;\n",
       "    }\n",
       "\n",
       "    .dataframe tbody tr th {\n",
       "        vertical-align: top;\n",
       "    }\n",
       "\n",
       "    .dataframe thead th {\n",
       "        text-align: right;\n",
       "    }\n",
       "</style>\n",
       "<table border=\"1\" class=\"dataframe\">\n",
       "  <thead>\n",
       "    <tr style=\"text-align: right;\">\n",
       "      <th></th>\n",
       "      <th>Diabetes</th>\n",
       "      <th>HighBP</th>\n",
       "      <th>HighChol</th>\n",
       "      <th>BMI</th>\n",
       "      <th>Smoker</th>\n",
       "      <th>Stroke</th>\n",
       "      <th>HeartDiseaseorAttack</th>\n",
       "      <th>PhysActivity</th>\n",
       "      <th>Fruits</th>\n",
       "      <th>Veggies</th>\n",
       "      <th>HvyAlcoholConsump</th>\n",
       "      <th>GenHlth</th>\n",
       "      <th>MentHlth</th>\n",
       "      <th>PhysHlth</th>\n",
       "      <th>DiffWalk</th>\n",
       "      <th>Sex</th>\n",
       "      <th>Age</th>\n",
       "    </tr>\n",
       "  </thead>\n",
       "  <tbody>\n",
       "    <tr>\n",
       "      <th>0</th>\n",
       "      <td>0.0</td>\n",
       "      <td>1.0</td>\n",
       "      <td>0.0</td>\n",
       "      <td>26.0</td>\n",
       "      <td>0.0</td>\n",
       "      <td>0.0</td>\n",
       "      <td>0.0</td>\n",
       "      <td>1.0</td>\n",
       "      <td>0.0</td>\n",
       "      <td>1.0</td>\n",
       "      <td>0.0</td>\n",
       "      <td>3.0</td>\n",
       "      <td>5.0</td>\n",
       "      <td>30.0</td>\n",
       "      <td>0.0</td>\n",
       "      <td>1.0</td>\n",
       "      <td>4.0</td>\n",
       "    </tr>\n",
       "    <tr>\n",
       "      <th>1</th>\n",
       "      <td>0.0</td>\n",
       "      <td>1.0</td>\n",
       "      <td>1.0</td>\n",
       "      <td>26.0</td>\n",
       "      <td>1.0</td>\n",
       "      <td>1.0</td>\n",
       "      <td>0.0</td>\n",
       "      <td>0.0</td>\n",
       "      <td>1.0</td>\n",
       "      <td>0.0</td>\n",
       "      <td>0.0</td>\n",
       "      <td>3.0</td>\n",
       "      <td>0.0</td>\n",
       "      <td>0.0</td>\n",
       "      <td>0.0</td>\n",
       "      <td>1.0</td>\n",
       "      <td>12.0</td>\n",
       "    </tr>\n",
       "    <tr>\n",
       "      <th>2</th>\n",
       "      <td>0.0</td>\n",
       "      <td>0.0</td>\n",
       "      <td>0.0</td>\n",
       "      <td>26.0</td>\n",
       "      <td>0.0</td>\n",
       "      <td>0.0</td>\n",
       "      <td>0.0</td>\n",
       "      <td>1.0</td>\n",
       "      <td>1.0</td>\n",
       "      <td>1.0</td>\n",
       "      <td>0.0</td>\n",
       "      <td>5.0</td>\n",
       "      <td>0.0</td>\n",
       "      <td>10.0</td>\n",
       "      <td>0.0</td>\n",
       "      <td>1.0</td>\n",
       "      <td>13.0</td>\n",
       "    </tr>\n",
       "    <tr>\n",
       "      <th>3</th>\n",
       "      <td>0.0</td>\n",
       "      <td>1.0</td>\n",
       "      <td>1.0</td>\n",
       "      <td>28.0</td>\n",
       "      <td>1.0</td>\n",
       "      <td>0.0</td>\n",
       "      <td>0.0</td>\n",
       "      <td>1.0</td>\n",
       "      <td>1.0</td>\n",
       "      <td>1.0</td>\n",
       "      <td>0.0</td>\n",
       "      <td>3.0</td>\n",
       "      <td>0.0</td>\n",
       "      <td>3.0</td>\n",
       "      <td>0.0</td>\n",
       "      <td>1.0</td>\n",
       "      <td>11.0</td>\n",
       "    </tr>\n",
       "    <tr>\n",
       "      <th>4</th>\n",
       "      <td>0.0</td>\n",
       "      <td>0.0</td>\n",
       "      <td>0.0</td>\n",
       "      <td>29.0</td>\n",
       "      <td>1.0</td>\n",
       "      <td>0.0</td>\n",
       "      <td>0.0</td>\n",
       "      <td>1.0</td>\n",
       "      <td>1.0</td>\n",
       "      <td>1.0</td>\n",
       "      <td>0.0</td>\n",
       "      <td>4.0</td>\n",
       "      <td>0.0</td>\n",
       "      <td>0.0</td>\n",
       "      <td>0.0</td>\n",
       "      <td>0.0</td>\n",
       "      <td>8.0</td>\n",
       "    </tr>\n",
       "  </tbody>\n",
       "</table>\n",
       "</div>"
      ],
      "text/plain": [
       "   Diabetes  HighBP  HighChol   BMI  Smoker  Stroke  HeartDiseaseorAttack  \\\n",
       "0       0.0     1.0       0.0  26.0     0.0     0.0                   0.0   \n",
       "1       0.0     1.0       1.0  26.0     1.0     1.0                   0.0   \n",
       "2       0.0     0.0       0.0  26.0     0.0     0.0                   0.0   \n",
       "3       0.0     1.0       1.0  28.0     1.0     0.0                   0.0   \n",
       "4       0.0     0.0       0.0  29.0     1.0     0.0                   0.0   \n",
       "\n",
       "   PhysActivity  Fruits  Veggies  HvyAlcoholConsump  GenHlth  MentHlth  \\\n",
       "0           1.0     0.0      1.0                0.0      3.0       5.0   \n",
       "1           0.0     1.0      0.0                0.0      3.0       0.0   \n",
       "2           1.0     1.0      1.0                0.0      5.0       0.0   \n",
       "3           1.0     1.0      1.0                0.0      3.0       0.0   \n",
       "4           1.0     1.0      1.0                0.0      4.0       0.0   \n",
       "\n",
       "   PhysHlth  DiffWalk  Sex   Age  \n",
       "0      30.0       0.0  1.0   4.0  \n",
       "1       0.0       0.0  1.0  12.0  \n",
       "2      10.0       0.0  1.0  13.0  \n",
       "3       3.0       0.0  1.0  11.0  \n",
       "4       0.0       0.0  0.0   8.0  "
      ]
     },
     "execution_count": 2,
     "metadata": {},
     "output_type": "execute_result"
    }
   ],
   "source": [
    "# Remove irrelevant features from the combined dataset\n",
    "columns_to_remove = [\"CholCheck\", \"AnyHealthcare\", \"NoDocbcCost\", \"Education\", \"Income\"]\n",
    "reduced_df = combined_df.drop(columns=columns_to_remove)\n",
    "\n",
    "# Reverse the values of 'GenHlth'\n",
    "reduced_df[\"GenHlth\"] = 6 - reduced_df[\"GenHlth\"]\n",
    "\n",
    "# Display the first few rows of the reduced dataframe to verify the removal\n",
    "reduced_df.head()"
   ]
  },
  {
   "cell_type": "markdown",
   "id": "4bef40b0",
   "metadata": {
    "papermill": {
     "duration": 0.008434,
     "end_time": "2024-03-16T22:16:01.974324",
     "exception": false,
     "start_time": "2024-03-16T22:16:01.965890",
     "status": "completed"
    },
    "tags": []
   },
   "source": [
    "# Check for Missing Values\n",
    "\n",
    "Here we check for missing values in the combined dataset. Note there are *NO* missing values found."
   ]
  },
  {
   "cell_type": "code",
   "execution_count": 3,
   "id": "b46b4d48",
   "metadata": {
    "execution": {
     "iopub.execute_input": "2024-03-16T22:16:01.995399Z",
     "iopub.status.busy": "2024-03-16T22:16:01.994590Z",
     "iopub.status.idle": "2024-03-16T22:16:02.008333Z",
     "shell.execute_reply": "2024-03-16T22:16:02.007356Z"
    },
    "papermill": {
     "duration": 0.026226,
     "end_time": "2024-03-16T22:16:02.010453",
     "exception": false,
     "start_time": "2024-03-16T22:16:01.984227",
     "status": "completed"
    },
    "tags": []
   },
   "outputs": [
    {
     "data": {
      "text/plain": [
       "Diabetes                0\n",
       "HighBP                  0\n",
       "HighChol                0\n",
       "BMI                     0\n",
       "Smoker                  0\n",
       "Stroke                  0\n",
       "HeartDiseaseorAttack    0\n",
       "PhysActivity            0\n",
       "Fruits                  0\n",
       "Veggies                 0\n",
       "HvyAlcoholConsump       0\n",
       "GenHlth                 0\n",
       "MentHlth                0\n",
       "PhysHlth                0\n",
       "DiffWalk                0\n",
       "Sex                     0\n",
       "Age                     0\n",
       "dtype: int64"
      ]
     },
     "execution_count": 3,
     "metadata": {},
     "output_type": "execute_result"
    }
   ],
   "source": [
    "# Check for missing values in the reduced dataset\n",
    "missing_values = reduced_df.isnull().sum()\n",
    "\n",
    "missing_values  ## no missing values found"
   ]
  },
  {
   "cell_type": "markdown",
   "id": "a7eebdeb",
   "metadata": {
    "papermill": {
     "duration": 0.008489,
     "end_time": "2024-03-16T22:16:02.028512",
     "exception": false,
     "start_time": "2024-03-16T22:16:02.020023",
     "status": "completed"
    },
    "tags": []
   },
   "source": [
    "# Data Type Optimization Analysis\n",
    "\n",
    "Here we perform a preliminary analysis aimed at optimizing data storage and processing efficiency by examining the range of values for selected features within the reduced dataset. Here we see that all numerical values are well within the range of an 8-bit integer (this dataset has no numbers with decimal values).\n",
    "\n",
    "We also calculate the memory used before we adjust the data types-- this is our baseline for memory usage."
   ]
  },
  {
   "cell_type": "code",
   "execution_count": 4,
   "id": "a073a6a8",
   "metadata": {
    "execution": {
     "iopub.execute_input": "2024-03-16T22:16:02.048348Z",
     "iopub.status.busy": "2024-03-16T22:16:02.047568Z",
     "iopub.status.idle": "2024-03-16T22:16:02.110671Z",
     "shell.execute_reply": "2024-03-16T22:16:02.109605Z"
    },
    "papermill": {
     "duration": 0.075735,
     "end_time": "2024-03-16T22:16:02.113062",
     "exception": false,
     "start_time": "2024-03-16T22:16:02.037327",
     "status": "completed"
    },
    "tags": []
   },
   "outputs": [
    {
     "data": {
      "text/html": [
       "<div>\n",
       "<style scoped>\n",
       "    .dataframe tbody tr th:only-of-type {\n",
       "        vertical-align: middle;\n",
       "    }\n",
       "\n",
       "    .dataframe tbody tr th {\n",
       "        vertical-align: top;\n",
       "    }\n",
       "\n",
       "    .dataframe thead th {\n",
       "        text-align: right;\n",
       "    }\n",
       "</style>\n",
       "<table border=\"1\" class=\"dataframe\">\n",
       "  <thead>\n",
       "    <tr style=\"text-align: right;\">\n",
       "      <th></th>\n",
       "      <th>BMI</th>\n",
       "      <th>GenHlth</th>\n",
       "      <th>MentHlth</th>\n",
       "      <th>PhysHlth</th>\n",
       "      <th>Age</th>\n",
       "    </tr>\n",
       "  </thead>\n",
       "  <tbody>\n",
       "    <tr>\n",
       "      <th>min</th>\n",
       "      <td>12.0</td>\n",
       "      <td>1.0</td>\n",
       "      <td>0.0</td>\n",
       "      <td>0.0</td>\n",
       "      <td>1.0</td>\n",
       "    </tr>\n",
       "    <tr>\n",
       "      <th>max</th>\n",
       "      <td>99.0</td>\n",
       "      <td>5.0</td>\n",
       "      <td>30.0</td>\n",
       "      <td>30.0</td>\n",
       "      <td>13.0</td>\n",
       "    </tr>\n",
       "  </tbody>\n",
       "</table>\n",
       "</div>"
      ],
      "text/plain": [
       "      BMI  GenHlth  MentHlth  PhysHlth   Age\n",
       "min  12.0      1.0       0.0       0.0   1.0\n",
       "max  99.0      5.0      30.0      30.0  13.0"
      ]
     },
     "execution_count": 4,
     "metadata": {},
     "output_type": "execute_result"
    }
   ],
   "source": [
    "# Check range of values of specified features to determine suitable data types\n",
    "features_to_optimize = [\"BMI\", \"GenHlth\", \"MentHlth\", \"PhysHlth\", \"Age\"]\n",
    "data_types_optimization = (\n",
    "    reduced_df[features_to_optimize].describe().loc[[\"min\", \"max\"]]\n",
    ")\n",
    "\n",
    "# Memory used before reducing data types\n",
    "memory_before = reduced_df.memory_usage(index=True).sum()\n",
    "\n",
    "data_types_optimization"
   ]
  },
  {
   "cell_type": "markdown",
   "id": "a3a20daa",
   "metadata": {
    "papermill": {
     "duration": 0.008472,
     "end_time": "2024-03-16T22:16:02.130479",
     "exception": false,
     "start_time": "2024-03-16T22:16:02.122007",
     "status": "completed"
    },
    "tags": []
   },
   "source": [
    "# Data Type Conversion for Efficiency\n",
    "\n",
    "We enhance the dataset's memory efficiency by converting specified binary columns to boolean data types. We print the memory usage before and after the operation to demonstrate the effectiveness of this optimization in reducing the dataset's memory consumption."
   ]
  },
  {
   "cell_type": "code",
   "execution_count": 5,
   "id": "413587e3",
   "metadata": {
    "execution": {
     "iopub.execute_input": "2024-03-16T22:16:02.150614Z",
     "iopub.status.busy": "2024-03-16T22:16:02.149577Z",
     "iopub.status.idle": "2024-03-16T22:16:02.172439Z",
     "shell.execute_reply": "2024-03-16T22:16:02.171185Z"
    },
    "jupyter": {
     "source_hidden": true
    },
    "papermill": {
     "duration": 0.035743,
     "end_time": "2024-03-16T22:16:02.174938",
     "exception": false,
     "start_time": "2024-03-16T22:16:02.139195",
     "status": "completed"
    },
    "tags": []
   },
   "outputs": [
    {
     "name": "stdout",
     "output_type": "stream",
     "text": [
      "Dataframe memory used before: 18744736\n",
      "Dataframe memory used after:   2756688\n"
     ]
    }
   ],
   "source": [
    "# scale data types down to reduce memory footprint\n",
    "reduced_df[\"BMI\"] = reduced_df[\"BMI\"].astype(\"float32\")\n",
    "reduced_df[\"GenHlth\"] = reduced_df[\"GenHlth\"].astype(\"int8\")\n",
    "reduced_df[\"MentHlth\"] = reduced_df[\"MentHlth\"].astype(\"int8\")\n",
    "reduced_df[\"PhysHlth\"] = reduced_df[\"PhysHlth\"].astype(\"int8\")\n",
    "reduced_df[\"Age\"] = reduced_df[\"Age\"].astype(\"int8\")\n",
    "\n",
    "# convert 1/0 binary columns to boolean values\n",
    "binary_columns = [\n",
    "    \"Diabetes\",\n",
    "    \"HighBP\",\n",
    "    \"HighChol\",\n",
    "    \"Smoker\",\n",
    "    \"Stroke\",\n",
    "    \"HeartDiseaseorAttack\",\n",
    "    \"PhysActivity\",\n",
    "    \"Fruits\",\n",
    "    \"Veggies\",\n",
    "    \"HvyAlcoholConsump\",\n",
    "    \"DiffWalk\",\n",
    "    \"Sex\",\n",
    "]\n",
    "for column in binary_columns:\n",
    "    reduced_df[column] = reduced_df[column].astype(\"bool\")\n",
    "\n",
    "# memory size after data type reduction\n",
    "memory_after = reduced_df.memory_usage(index=True).sum()\n",
    "\n",
    "print(\"Dataframe memory used before:\", memory_before)\n",
    "print(\"Dataframe memory used after:  \", memory_after)"
   ]
  },
  {
   "cell_type": "markdown",
   "id": "762dbb86",
   "metadata": {
    "papermill": {
     "duration": 0.008564,
     "end_time": "2024-03-16T22:16:02.192652",
     "exception": false,
     "start_time": "2024-03-16T22:16:02.184088",
     "status": "completed"
    },
    "tags": []
   },
   "source": [
    "# Logistic Regression Model for Diabetes Prediction\n",
    "\n",
    "Here we prepare data for machine learning, specifically using a logistic regression model to predict diabetes. First, numerical columns are identified and scaled using MinMaxScaler to ensure all features contribute equally to the model without bias from varying scales. A logistic regression model is then initialized with specific parameters. The dataset is split into features (X_log) and the target variable (y_log). The data is further divided into training and test sets to evaluate the model's performance on unseen data.\n",
    "\n",
    "After training the logistic regression model, predictions are made on the test set. The model's effectiveness is assessed using accuracy, confusion matrix, and classification report, providing a comprehensive overview of its predictive capabilities in distinguishing between diabetic and non-diabetic individuals."
   ]
  },
  {
   "cell_type": "code",
   "execution_count": 6,
   "id": "919b4cdf",
   "metadata": {
    "execution": {
     "iopub.execute_input": "2024-03-16T22:16:02.212433Z",
     "iopub.status.busy": "2024-03-16T22:16:02.212042Z",
     "iopub.status.idle": "2024-03-16T22:16:03.346086Z",
     "shell.execute_reply": "2024-03-16T22:16:03.344620Z"
    },
    "papermill": {
     "duration": 1.147154,
     "end_time": "2024-03-16T22:16:03.348649",
     "exception": false,
     "start_time": "2024-03-16T22:16:02.201495",
     "status": "completed"
    },
    "tags": []
   },
   "outputs": [
    {
     "name": "stdout",
     "output_type": "stream",
     "text": [
      "\n",
      "Logistic Regression (single) prediction results: \n",
      "\n",
      "Accuracy: 74.58 % \n",
      "\n",
      "Confusion Matrix:\n",
      "[[12556  4657]\n",
      " [ 4101 13143]] \n",
      "\n",
      "Classification Report:\n",
      "              precision    recall  f1-score   support\n",
      "\n",
      "       False       0.75      0.73      0.74     17213\n",
      "        True       0.74      0.76      0.75     17244\n",
      "\n",
      "    accuracy                           0.75     34457\n",
      "   macro avg       0.75      0.75      0.75     34457\n",
      "weighted avg       0.75      0.75      0.75     34457\n",
      "\n"
     ]
    }
   ],
   "source": [
    "# copy Dataframe for Logistic model\n",
    "log_df = reduced_df.copy(deep=True)\n",
    "\n",
    "# Selecting numerical columns (excluding binary/boolean columns)\n",
    "numerical_columns = [\"BMI\", \"GenHlth\", \"MentHlth\", \"PhysHlth\", \"Age\"]\n",
    "\n",
    "# Initialize the MinMaxScaler\n",
    "scaler = MinMaxScaler()\n",
    "\n",
    "# Fit and transform the numerical features\n",
    "log_df[numerical_columns] = scaler.fit_transform(log_df[numerical_columns])\n",
    "\n",
    "mylog_model = linear_model.LogisticRegression(solver=\"saga\", max_iter=1000)\n",
    "\n",
    "# 'X' is the feature set and 'y' is the target variable\n",
    "X_log = log_df.drop(\"Diabetes\", axis=1)\n",
    "y_log = log_df[\"Diabetes\"].astype(\"bool\")  # Ensuring the target is boolean\n",
    "\n",
    "# Splitting the dataset into the Training set and Test set\n",
    "X_log_train, X_log_test, y_log_train, y_log_test = model_selection.train_test_split(\n",
    "    X_log, y_log, test_size=0.25, random_state=42\n",
    ")\n",
    "\n",
    "# Train the model and output prediction of test data\n",
    "mylog_model.fit(X_log_train, y_log_train)\n",
    "y_pred_log = mylog_model.predict(X_log_test)\n",
    "\n",
    "# Evaluate the model\n",
    "accuracy_log = accuracy_score(y_log_test, y_pred_log)\n",
    "conf_matrix_log = confusion_matrix(y_log_test, y_pred_log)\n",
    "class_report_log = classification_report(y_log_test, y_pred_log)\n",
    "\n",
    "print(\"\\nLogistic Regression (single) prediction results:\", \"\\n\")\n",
    "print(f\"Accuracy: {round(accuracy_log*100,2)} %\", \"\\n\")\n",
    "print(\"Confusion Matrix:\")\n",
    "print(conf_matrix_log, \"\\n\")\n",
    "print(\"Classification Report:\")\n",
    "print(class_report_log)"
   ]
  },
  {
   "cell_type": "markdown",
   "id": "775e4315",
   "metadata": {
    "papermill": {
     "duration": 0.008989,
     "end_time": "2024-03-16T22:16:03.367028",
     "exception": false,
     "start_time": "2024-03-16T22:16:03.358039",
     "status": "completed"
    },
    "tags": []
   },
   "source": [
    "# Exporting the Model\n",
    "\n",
    "To save the trained model, we can use the joblib library. Here we show how to save and load the model."
   ]
  },
  {
   "cell_type": "code",
   "execution_count": 7,
   "id": "fc7cf7d0",
   "metadata": {
    "execution": {
     "iopub.execute_input": "2024-03-16T22:16:03.387252Z",
     "iopub.status.busy": "2024-03-16T22:16:03.386684Z",
     "iopub.status.idle": "2024-03-16T22:16:03.395410Z",
     "shell.execute_reply": "2024-03-16T22:16:03.394391Z"
    },
    "papermill": {
     "duration": 0.021284,
     "end_time": "2024-03-16T22:16:03.397453",
     "exception": false,
     "start_time": "2024-03-16T22:16:03.376169",
     "status": "completed"
    },
    "tags": []
   },
   "outputs": [
    {
     "data": {
      "text/plain": [
       "['diabetes-classifier-log_model.pkl']"
      ]
     },
     "execution_count": 7,
     "metadata": {},
     "output_type": "execute_result"
    }
   ],
   "source": [
    "import joblib\n",
    "\n",
    "# Save the model to a file\n",
    "joblib.dump(mylog_model, 'diabetes-classifier-log_model.pkl')\n",
    "\n",
    "# Later, load the model from the file with the following:\n",
    "# mylog_model = joblib.load('my_model_filename.pkl')"
   ]
  },
  {
   "cell_type": "markdown",
   "id": "de794450",
   "metadata": {
    "papermill": {
     "duration": 0.00908,
     "end_time": "2024-03-16T22:16:03.415896",
     "exception": false,
     "start_time": "2024-03-16T22:16:03.406816",
     "status": "completed"
    },
    "tags": []
   },
   "source": [
    "# Patient Outcome Prediction\n",
    "\n",
    "This here is the objective of this project: to predict whether or not a patient is at risk of diabetes. The user enters the various health indicators, clicks the button and gets a prediction printed below.\n",
    "\n",
    "### Age Category-number to Year-range\n",
    "\n",
    "|*Category*|1|2|3|4|5|6|7|8|9|10|11|12|13|\n",
    "|--|--|--|--|--|--|--|--|--|--|--|--|--|--|\n",
    "|***Age range***|18-24|25-29|30-34|35-39|40-44|45-49|50-54|55-59|60-64|65-69|70-74|75-79|80+|"
   ]
  },
  {
   "cell_type": "code",
   "execution_count": 8,
   "id": "8ba35aca",
   "metadata": {
    "execution": {
     "iopub.execute_input": "2024-03-16T22:16:03.436646Z",
     "iopub.status.busy": "2024-03-16T22:16:03.436242Z",
     "iopub.status.idle": "2024-03-16T22:16:03.590220Z",
     "shell.execute_reply": "2024-03-16T22:16:03.589206Z"
    },
    "papermill": {
     "duration": 0.205835,
     "end_time": "2024-03-16T22:16:03.631105",
     "exception": false,
     "start_time": "2024-03-16T22:16:03.425270",
     "status": "completed"
    },
    "tags": []
   },
   "outputs": [
    {
     "data": {
      "application/vnd.jupyter.widget-view+json": {
       "model_id": "38aa70e1bf2a476daa45818633ff99a8",
       "version_major": 2,
       "version_minor": 0
      },
      "text/plain": [
       "Label(value='Sex:', layout=Layout(width='max-content'))"
      ]
     },
     "metadata": {},
     "output_type": "display_data"
    },
    {
     "data": {
      "application/vnd.jupyter.widget-view+json": {
       "model_id": "391dfea8f116403682792d569fd4706c",
       "version_major": 2,
       "version_minor": 0
      },
      "text/plain": [
       "Dropdown(options=(('Female', 0), ('Male', 1)), value=0)"
      ]
     },
     "metadata": {},
     "output_type": "display_data"
    },
    {
     "data": {
      "application/vnd.jupyter.widget-view+json": {
       "model_id": "b19d475c699540a596889ed314c52651",
       "version_major": 2,
       "version_minor": 0
      },
      "text/plain": [
       "Label(value='Age category (1 = 18-24, 13 = 80 or older; see table):', layout=Layout(width='max-content'))"
      ]
     },
     "metadata": {},
     "output_type": "display_data"
    },
    {
     "data": {
      "application/vnd.jupyter.widget-view+json": {
       "model_id": "f8b0065740964dd6a306c50311567c14",
       "version_major": 2,
       "version_minor": 0
      },
      "text/plain": [
       "FloatSlider(value=8.0, max=13.0, min=1.0, step=1.0)"
      ]
     },
     "metadata": {},
     "output_type": "display_data"
    },
    {
     "data": {
      "application/vnd.jupyter.widget-view+json": {
       "model_id": "a79a2190a9354838b846ffd233f32e2c",
       "version_major": 2,
       "version_minor": 0
      },
      "text/plain": [
       "Label(value='Body Mass Index:', layout=Layout(width='max-content'))"
      ]
     },
     "metadata": {},
     "output_type": "display_data"
    },
    {
     "data": {
      "application/vnd.jupyter.widget-view+json": {
       "model_id": "24c1c8f62ed14fc7844d68782e1c39ac",
       "version_major": 2,
       "version_minor": 0
      },
      "text/plain": [
       "FloatSlider(value=20.0, max=50.0, min=10.0)"
      ]
     },
     "metadata": {},
     "output_type": "display_data"
    },
    {
     "data": {
      "application/vnd.jupyter.widget-view+json": {
       "model_id": "2cd77328b4ae48968789f7fa7384074a",
       "version_major": 2,
       "version_minor": 0
      },
      "text/plain": [
       "Label(value='High Blood Pressure', layout=Layout(width='max-content'))"
      ]
     },
     "metadata": {},
     "output_type": "display_data"
    },
    {
     "data": {
      "application/vnd.jupyter.widget-view+json": {
       "model_id": "56a2e6c838fb43bab7700a3aeb47f059",
       "version_major": 2,
       "version_minor": 0
      },
      "text/plain": [
       "RadioButtons(options={'No': 0, 'Yes': 1}, value=0)"
      ]
     },
     "metadata": {},
     "output_type": "display_data"
    },
    {
     "data": {
      "application/vnd.jupyter.widget-view+json": {
       "model_id": "195919f45456495daff39e3ca0243d40",
       "version_major": 2,
       "version_minor": 0
      },
      "text/plain": [
       "Label(value='High Cholesterol', layout=Layout(width='max-content'))"
      ]
     },
     "metadata": {},
     "output_type": "display_data"
    },
    {
     "data": {
      "application/vnd.jupyter.widget-view+json": {
       "model_id": "640515e48d02476d9750468a95380d3e",
       "version_major": 2,
       "version_minor": 0
      },
      "text/plain": [
       "RadioButtons(options={'No': 0, 'Yes': 1}, value=0)"
      ]
     },
     "metadata": {},
     "output_type": "display_data"
    },
    {
     "data": {
      "application/vnd.jupyter.widget-view+json": {
       "model_id": "75ada7cd568a414dbc33d23c358daece",
       "version_major": 2,
       "version_minor": 0
      },
      "text/plain": [
       "Label(value='Have you smoked at least 100 cigarettes in your life?', layout=Layout(width='max-content'))"
      ]
     },
     "metadata": {},
     "output_type": "display_data"
    },
    {
     "data": {
      "application/vnd.jupyter.widget-view+json": {
       "model_id": "e76bafe3595047e7b7440fc8a1488356",
       "version_major": 2,
       "version_minor": 0
      },
      "text/plain": [
       "RadioButtons(options={'No': 0, 'Yes': 1}, value=0)"
      ]
     },
     "metadata": {},
     "output_type": "display_data"
    },
    {
     "data": {
      "application/vnd.jupyter.widget-view+json": {
       "model_id": "f69306e2b1404d93967e8d1d099509a6",
       "version_major": 2,
       "version_minor": 0
      },
      "text/plain": [
       "Label(value='Heavy drinkers (drinks <14 for men, <7 for women per week', layout=Layout(width='max-content'))"
      ]
     },
     "metadata": {},
     "output_type": "display_data"
    },
    {
     "data": {
      "application/vnd.jupyter.widget-view+json": {
       "model_id": "aab03077430a49fea8109601b3792c7c",
       "version_major": 2,
       "version_minor": 0
      },
      "text/plain": [
       "RadioButtons(options={'No': 0, 'Yes': 1}, value=0)"
      ]
     },
     "metadata": {},
     "output_type": "display_data"
    },
    {
     "data": {
      "application/vnd.jupyter.widget-view+json": {
       "model_id": "be2a4390d77147a1b3206e43075e4eb6",
       "version_major": 2,
       "version_minor": 0
      },
      "text/plain": [
       "Label(value='(Ever told) you had a Stroke?', layout=Layout(width='max-content'))"
      ]
     },
     "metadata": {},
     "output_type": "display_data"
    },
    {
     "data": {
      "application/vnd.jupyter.widget-view+json": {
       "model_id": "0c6d4ba5b39146d8bcd98c6f82024362",
       "version_major": 2,
       "version_minor": 0
      },
      "text/plain": [
       "RadioButtons(options={'No': 0, 'Yes': 1}, value=0)"
      ]
     },
     "metadata": {},
     "output_type": "display_data"
    },
    {
     "data": {
      "application/vnd.jupyter.widget-view+json": {
       "model_id": "419640f34a3e484287a6b44bac93504a",
       "version_major": 2,
       "version_minor": 0
      },
      "text/plain": [
       "Label(value='Heart Disease or Attack (CHD or MI)', layout=Layout(width='max-content'))"
      ]
     },
     "metadata": {},
     "output_type": "display_data"
    },
    {
     "data": {
      "application/vnd.jupyter.widget-view+json": {
       "model_id": "357cab6dbb134ce88c9ee731216510e3",
       "version_major": 2,
       "version_minor": 0
      },
      "text/plain": [
       "RadioButtons(options={'No': 0, 'Yes': 1}, value=0)"
      ]
     },
     "metadata": {},
     "output_type": "display_data"
    },
    {
     "data": {
      "application/vnd.jupyter.widget-view+json": {
       "model_id": "32f0898765ed4b69a13dcb6fe7c31bd4",
       "version_major": 2,
       "version_minor": 0
      },
      "text/plain": [
       "Label(value='General Health scale :', layout=Layout(width='max-content'))"
      ]
     },
     "metadata": {},
     "output_type": "display_data"
    },
    {
     "data": {
      "application/vnd.jupyter.widget-view+json": {
       "model_id": "601e14ba5a43497fb9bfcadbfa5531de",
       "version_major": 2,
       "version_minor": 0
      },
      "text/plain": [
       "FloatSlider(value=3.0, max=5.0, min=1.0, step=1.0)"
      ]
     },
     "metadata": {},
     "output_type": "display_data"
    },
    {
     "data": {
      "application/vnd.jupyter.widget-view+json": {
       "model_id": "6532d4c98db64cedace451772de3c032",
       "version_major": 2,
       "version_minor": 0
      },
      "text/plain": [
       "Label(value='How many past days was your Mental Health not good?', layout=Layout(width='max-content'))"
      ]
     },
     "metadata": {},
     "output_type": "display_data"
    },
    {
     "data": {
      "application/vnd.jupyter.widget-view+json": {
       "model_id": "a2572de763494f478288d70dc35193c2",
       "version_major": 2,
       "version_minor": 0
      },
      "text/plain": [
       "FloatSlider(value=0.0, max=30.0, step=1.0)"
      ]
     },
     "metadata": {},
     "output_type": "display_data"
    },
    {
     "data": {
      "application/vnd.jupyter.widget-view+json": {
       "model_id": "995f8b56eab3460595173ff8fc232cf7",
       "version_major": 2,
       "version_minor": 0
      },
      "text/plain": [
       "Label(value='How many past days was your Physical Health not good?', layout=Layout(width='max-content'))"
      ]
     },
     "metadata": {},
     "output_type": "display_data"
    },
    {
     "data": {
      "application/vnd.jupyter.widget-view+json": {
       "model_id": "1ce0ae33c6df47a6be9f8620856d415b",
       "version_major": 2,
       "version_minor": 0
      },
      "text/plain": [
       "FloatSlider(value=0.0, max=30.0, step=1.0)"
      ]
     },
     "metadata": {},
     "output_type": "display_data"
    },
    {
     "data": {
      "application/vnd.jupyter.widget-view+json": {
       "model_id": "f36594c295b4447a8542a4f559eb78a4",
       "version_major": 2,
       "version_minor": 0
      },
      "text/plain": [
       "Label(value='Do you have Difficulty Walking or climbing stairs?', layout=Layout(width='max-content'))"
      ]
     },
     "metadata": {},
     "output_type": "display_data"
    },
    {
     "data": {
      "application/vnd.jupyter.widget-view+json": {
       "model_id": "d011c14e287943f885cfd2e4025e5d81",
       "version_major": 2,
       "version_minor": 0
      },
      "text/plain": [
       "RadioButtons(options={'No': 0, 'Yes': 1}, value=0)"
      ]
     },
     "metadata": {},
     "output_type": "display_data"
    },
    {
     "data": {
      "application/vnd.jupyter.widget-view+json": {
       "model_id": "237a6aa4c80f4786af1002ada79e6b6b",
       "version_major": 2,
       "version_minor": 0
      },
      "text/plain": [
       "Label(value='Physical Activity in past 30 days, not incl job', layout=Layout(width='max-content'))"
      ]
     },
     "metadata": {},
     "output_type": "display_data"
    },
    {
     "data": {
      "application/vnd.jupyter.widget-view+json": {
       "model_id": "66aa9c39dc0246d289af1b45328347e9",
       "version_major": 2,
       "version_minor": 0
      },
      "text/plain": [
       "RadioButtons(options={'No': 0, 'Yes': 1}, value=0)"
      ]
     },
     "metadata": {},
     "output_type": "display_data"
    },
    {
     "data": {
      "application/vnd.jupyter.widget-view+json": {
       "model_id": "f4237acb773242349666ee5a66c9b932",
       "version_major": 2,
       "version_minor": 0
      },
      "text/plain": [
       "Label(value='Eat 1 Fruit or more per day', layout=Layout(width='max-content'))"
      ]
     },
     "metadata": {},
     "output_type": "display_data"
    },
    {
     "data": {
      "application/vnd.jupyter.widget-view+json": {
       "model_id": "69ade7273d984f2e811cca51b9012bcc",
       "version_major": 2,
       "version_minor": 0
      },
      "text/plain": [
       "RadioButtons(options={'No': 0, 'Yes': 1}, value=0)"
      ]
     },
     "metadata": {},
     "output_type": "display_data"
    },
    {
     "data": {
      "application/vnd.jupyter.widget-view+json": {
       "model_id": "9bb3e60463e141e2948afdfe1282d49b",
       "version_major": 2,
       "version_minor": 0
      },
      "text/plain": [
       "Label(value='Eat Veggies 1 or more per day', layout=Layout(width='max-content'))"
      ]
     },
     "metadata": {},
     "output_type": "display_data"
    },
    {
     "data": {
      "application/vnd.jupyter.widget-view+json": {
       "model_id": "bd5b5c8ff988426097affb9986a4fd3b",
       "version_major": 2,
       "version_minor": 0
      },
      "text/plain": [
       "RadioButtons(options={'No': 0, 'Yes': 1}, value=0)"
      ]
     },
     "metadata": {},
     "output_type": "display_data"
    },
    {
     "data": {
      "application/vnd.jupyter.widget-view+json": {
       "model_id": "b8d6d607512e4f11a038cf106a5888ec",
       "version_major": 2,
       "version_minor": 0
      },
      "text/plain": [
       "Button(description='Predict Patient Risk', style=ButtonStyle())"
      ]
     },
     "metadata": {},
     "output_type": "display_data"
    },
    {
     "data": {
      "application/vnd.jupyter.widget-view+json": {
       "model_id": "c840e3fedcf24ecab98ffc77de0cf95b",
       "version_major": 2,
       "version_minor": 0
      },
      "text/plain": [
       "Output()"
      ]
     },
     "metadata": {},
     "output_type": "display_data"
    }
   ],
   "source": [
    "# USER INTERFACE: form for input for patient prediction\n",
    "import ipywidgets as widgets\n",
    "\n",
    "# 'features_dict' is a dictionary mapping feature to description\n",
    "features_dict = {\n",
    "    \"Sex\": \"Sex:\",\n",
    "    \"Age\": \"Age category (1 = 18-24, 13 = 80 or older; see table):\",\n",
    "    \"BMI\": \"Body Mass Index:\",\n",
    "    \"HighBP\": \"High Blood Pressure\",\n",
    "    \"HighChol\": \"High Cholesterol\",\n",
    "    \"Smoker\": \"Have you smoked at least 100 cigarettes in your life?\",\n",
    "    \"HvyAlcoholConsump\": \"Heavy drinkers (drinks <14 for men, <7 for women per week\",\n",
    "    \"Stroke\": \"(Ever told) you had a Stroke?\",\n",
    "    \"HeartDiseaseorAttack\": \"Heart Disease or Attack (CHD or MI)\",\n",
    "    \"GenHlth\": \"General Health scale :\",\n",
    "    \"MentHlth\": \"How many past days was your Mental Health not good?\",\n",
    "    \"PhysHlth\": \"How many past days was your Physical Health not good?\",\n",
    "    \"DiffWalk\": \"Do you have Difficulty Walking or climbing stairs?\",\n",
    "    \"PhysActivity\": \"Physical Activity in past 30 days, not incl job\",\n",
    "    \"Fruits\": \"Eat 1 Fruit or more per day\",\n",
    "    \"Veggies\": \"Eat Veggies 1 or more per day\",\n",
    "}\n",
    "widgets_dict = {}\n",
    "\n",
    "# Create widgets for each feature\n",
    "for item in features_dict.keys():\n",
    "    if item in [\n",
    "        \"HighBP\",\n",
    "        \"HighChol\",\n",
    "        \"Smoker\",\n",
    "        \"Stroke\",\n",
    "        \"HeartDiseaseorAttack\",\n",
    "        \"PhysActivity\",\n",
    "        \"Fruits\",\n",
    "        \"Veggies\",\n",
    "        \"HvyAlcoholConsump\",\n",
    "        \"DiffWalk\",\n",
    "    ]:\n",
    "        # Binary features: create a dropdown with options 'Yes' and 'No'\n",
    "        widgets_dict[item + \"_label\"] = widgets.Label(\n",
    "            features_dict.get(item), layout={\"width\": \"max-content\"}\n",
    "        )\n",
    "        widgets_dict[item] = widgets.RadioButtons(\n",
    "            options={\"No\": 0, \"Yes\": 1},\n",
    "            value=0,\n",
    "        )\n",
    "    if item in [\"Sex\"]:\n",
    "        # Create a dropdown with options 'Male' and 'Female'\n",
    "        widgets_dict[item + \"_label\"] = widgets.Label(\n",
    "            features_dict.get(item), layout={\"width\": \"max-content\"}\n",
    "        )\n",
    "        widgets_dict[item] = widgets.Dropdown(\n",
    "            options=[(\"Female\", 0), (\"Male\", 1)],\n",
    "            value=0,\n",
    "        )\n",
    "    # Numerical features: create float sliders\n",
    "    if item in [\"BMI\"]:\n",
    "        widgets_dict[item + \"_label\"] = widgets.Label(\n",
    "            features_dict.get(item), layout={\"width\": \"max-content\"}\n",
    "        )\n",
    "        widgets_dict[item] = widgets.FloatSlider(\n",
    "            value=20.0,\n",
    "            min=10,\n",
    "            max=50.0,\n",
    "            step=0.1,\n",
    "        )\n",
    "    if item in [\"GenHlth\"]:\n",
    "        widgets_dict[item + \"_label\"] = widgets.Label(\n",
    "            features_dict.get(item), layout={\"width\": \"max-content\"}\n",
    "        )\n",
    "        widgets_dict[item] = widgets.FloatSlider(\n",
    "            value=3,\n",
    "            min=1,\n",
    "            max=5,\n",
    "            step=1,\n",
    "        )\n",
    "    if item in [\"MentHlth\", \"PhysHlth\"]:\n",
    "        widgets_dict[item + \"_label\"] = widgets.Label(\n",
    "            features_dict.get(item), layout={\"width\": \"max-content\"}\n",
    "        )\n",
    "        widgets_dict[item] = widgets.FloatSlider(\n",
    "            value=0,\n",
    "            min=0,\n",
    "            max=30,\n",
    "            step=1,\n",
    "        )\n",
    "    if item in [\"Age\"]:\n",
    "        widgets_dict[item + \"_label\"] = widgets.Label(\n",
    "            features_dict.get(item), layout={\"width\": \"max-content\"}\n",
    "        )\n",
    "        widgets_dict[item] = widgets.FloatSlider(\n",
    "            value=8,\n",
    "            min=1,\n",
    "            max=13,\n",
    "            step=1,\n",
    "        )\n",
    "\n",
    "# Button to make prediction\n",
    "predict_btn = widgets.Button(description=\"Predict Patient Risk\")\n",
    "\n",
    "# Output widget to display prediction result\n",
    "output = widgets.Output()\n",
    "\n",
    "\n",
    "def on_predict_btn_clicked(b):\n",
    "    # Prepare the input for the model\n",
    "    input_data = [widgets_dict[feature].value for feature in features_dict.keys()]\n",
    "    input_data = np.array(input_data).reshape(1, -1)\n",
    "\n",
    "    # Create a DataFrame with input_data and assign column names using features\n",
    "    input_df = pd.DataFrame(input_data, columns=features_dict.keys())\n",
    "\n",
    "    # Ensure the DataFrame columns are in the correct order\n",
    "    input_df = input_df[X_log.columns]\n",
    "\n",
    "    # Apply the same scaling to the input as was done to the training data\n",
    "    input_df[numerical_columns] = scaler.transform(input_df[numerical_columns])\n",
    "\n",
    "    #### Make prediction ####\n",
    "    prediction = mylog_model.predict(input_df)\n",
    "\n",
    "    # Display prediction\n",
    "    with output:\n",
    "        output.clear_output()\n",
    "        if prediction[0] == 0:\n",
    "            print(\"Prediction: Not at risk of diabetes\")\n",
    "        else:\n",
    "            print(\"Prediction: At risk of diabetes\")\n",
    "\n",
    "\n",
    "predict_btn.on_click(on_predict_btn_clicked)\n",
    "\n",
    "# Display widgets\n",
    "for widget in widgets_dict.values():\n",
    "    display(widget)\n",
    "display(predict_btn, output)"
   ]
  },
  {
   "cell_type": "markdown",
   "id": "ca10c0ab",
   "metadata": {
    "papermill": {
     "duration": 0.014795,
     "end_time": "2024-03-16T22:16:03.659969",
     "exception": false,
     "start_time": "2024-03-16T22:16:03.645174",
     "status": "completed"
    },
    "tags": []
   },
   "source": [
    "# Data Exploration\n",
    "\n",
    "Next we generate some visuals to explore some possible relationships in the data. We will look at Histograms and Scatterplots.\n",
    "\n",
    "## Histogram Figure 1.a\n",
    "\n",
    "Here we generate a histogram that compares the distribution of general health ratings (GenHlth) between individuals with and without diabetes (Diabetes status) in the dataset. For each group, we display the frequency of respondents across five health rating categories, ranging from poor to excellent health, after these ratings have been reversed so that higher numbers indicate better health. The histogram for individuals without diabetes is shown in blue, while the histogram for those with diabetes is in orange, allowing for a visual comparison of how general health perceptions differ between these two groups. This visualization aids in understanding whether there's a noticeable difference in self-reported general health status among individuals based on their diabetes condition."
   ]
  },
  {
   "cell_type": "code",
   "execution_count": 9,
   "id": "0dd799b6",
   "metadata": {
    "execution": {
     "iopub.execute_input": "2024-03-16T22:16:03.690312Z",
     "iopub.status.busy": "2024-03-16T22:16:03.689912Z",
     "iopub.status.idle": "2024-03-16T22:16:04.003637Z",
     "shell.execute_reply": "2024-03-16T22:16:04.002368Z"
    },
    "jupyter": {
     "source_hidden": true
    },
    "papermill": {
     "duration": 0.33189,
     "end_time": "2024-03-16T22:16:04.006098",
     "exception": false,
     "start_time": "2024-03-16T22:16:03.674208",
     "status": "completed"
    },
    "tags": []
   },
   "outputs": [
    {
     "data": {
      "image/png": "[encoded data removed]",
      "text/plain": [
       "<Figure size 640x480 with 1 Axes>"
      ]
     },
     "metadata": {},
     "output_type": "display_data"
    }
   ],
   "source": [
    "# Filter the dataset by Diabetes status\n",
    "gen_health_no_diabetes = reduced_df[reduced_df[\"Diabetes\"] == False][\"GenHlth\"]\n",
    "gen_health_with_diabetes = reduced_df[reduced_df[\"Diabetes\"] == True][\"GenHlth\"]\n",
    "\n",
    "# Plot histograms\n",
    "plt.hist(\n",
    "    gen_health_no_diabetes, bins=5, alpha=0.5, label=\"No Diabetes\", edgecolor=\"black\"\n",
    ")\n",
    "plt.hist(\n",
    "    gen_health_with_diabetes, bins=5, alpha=0.5, label=\"Diabetes\", edgecolor=\"black\"\n",
    ")\n",
    "\n",
    "# Add legend\n",
    "plt.legend()\n",
    "\n",
    "# Add titles and labels as needed\n",
    "plt.title(\"General Health by Diabetes Status\")\n",
    "plt.xlabel(\"General Health Rating\")\n",
    "plt.ylabel(\"Frequency\")\n",
    "\n",
    "# Set x-axis to display integer values from 1 to 5\n",
    "plt.xticks(range(1, 6))\n",
    "\n",
    "# Show the plot\n",
    "plt.show()"
   ]
  },
  {
   "cell_type": "markdown",
   "id": "e68507d6",
   "metadata": {
    "papermill": {
     "duration": 0.01425,
     "end_time": "2024-03-16T22:16:04.035003",
     "exception": false,
     "start_time": "2024-03-16T22:16:04.020753",
     "status": "completed"
    },
    "tags": []
   },
   "source": [
    "## Histogram Figure 1.b\n",
    "\n",
    "Analysis of physical health comparing diabetics to non-diabetics. "
   ]
  },
  {
   "cell_type": "code",
   "execution_count": 10,
   "id": "6a70b8dd",
   "metadata": {
    "execution": {
     "iopub.execute_input": "2024-03-16T22:16:04.066317Z",
     "iopub.status.busy": "2024-03-16T22:16:04.065869Z",
     "iopub.status.idle": "2024-03-16T22:16:04.368888Z",
     "shell.execute_reply": "2024-03-16T22:16:04.367769Z"
    },
    "jupyter": {
     "source_hidden": true
    },
    "papermill": {
     "duration": 0.321653,
     "end_time": "2024-03-16T22:16:04.371142",
     "exception": false,
     "start_time": "2024-03-16T22:16:04.049489",
     "status": "completed"
    },
    "tags": []
   },
   "outputs": [
    {
     "data": {
      "image/png": "[encoded data removed]",
      "text/plain": [
       "<Figure size 640x480 with 1 Axes>"
      ]
     },
     "metadata": {},
     "output_type": "display_data"
    }
   ],
   "source": [
    "# Filter the dataset by Diabetes status\n",
    "phys_health_no_diabetes = reduced_df[reduced_df[\"Diabetes\"] == False][\"PhysHlth\"]\n",
    "phys_health_with_diabetes = reduced_df[reduced_df[\"Diabetes\"] == True][\"PhysHlth\"]\n",
    "\n",
    "# Plot histograms\n",
    "plt.hist(\n",
    "    phys_health_no_diabetes, alpha=0.5, label=\"No Diabetes\", bins=6, edgecolor=\"black\"\n",
    ")\n",
    "plt.hist(\n",
    "    phys_health_with_diabetes, alpha=0.5, label=\"Diabetes\", bins=6, edgecolor=\"black\"\n",
    ")\n",
    "\n",
    "# Add legend\n",
    "plt.legend()\n",
    "\n",
    "# Add titles and labels as needed\n",
    "plt.title(\"Physical Health by Diabetes Status\")\n",
    "plt.xlabel(\"Poor Physical Health Days\")\n",
    "plt.ylabel(\"Frequency\")\n",
    "\n",
    "# Show the plot\n",
    "plt.show()"
   ]
  },
  {
   "cell_type": "markdown",
   "id": "9b04fcfa",
   "metadata": {
    "papermill": {
     "duration": 0.014892,
     "end_time": "2024-03-16T22:16:04.402447",
     "exception": false,
     "start_time": "2024-03-16T22:16:04.387555",
     "status": "completed"
    },
    "tags": []
   },
   "source": [
    "## Histogram Figure 1.c\n",
    "\n",
    "Analysis of mental health comparing diabetics to non-diabetics. "
   ]
  },
  {
   "cell_type": "code",
   "execution_count": 11,
   "id": "9f96e16d",
   "metadata": {
    "execution": {
     "iopub.execute_input": "2024-03-16T22:16:04.435094Z",
     "iopub.status.busy": "2024-03-16T22:16:04.434637Z",
     "iopub.status.idle": "2024-03-16T22:16:04.713416Z",
     "shell.execute_reply": "2024-03-16T22:16:04.712012Z"
    },
    "jupyter": {
     "source_hidden": true
    },
    "papermill": {
     "duration": 0.298273,
     "end_time": "2024-03-16T22:16:04.716043",
     "exception": false,
     "start_time": "2024-03-16T22:16:04.417770",
     "status": "completed"
    },
    "tags": []
   },
   "outputs": [
    {
     "data": {
      "image/png": "[encoded data removed]",
      "text/plain": [
       "<Figure size 640x480 with 1 Axes>"
      ]
     },
     "metadata": {},
     "output_type": "display_data"
    }
   ],
   "source": [
    "# Filter the dataset by Diabetes status\n",
    "phys_health_no_diabetes = reduced_df[reduced_df[\"Diabetes\"] == False][\"MentHlth\"]\n",
    "phys_health_with_diabetes = reduced_df[reduced_df[\"Diabetes\"] == True][\"MentHlth\"]\n",
    "\n",
    "# Plot histograms\n",
    "plt.hist(\n",
    "    phys_health_no_diabetes, alpha=0.5, label=\"No Diabetes\", bins=6, edgecolor=\"black\"\n",
    ")\n",
    "plt.hist(\n",
    "    phys_health_with_diabetes, alpha=0.5, label=\"Diabetes\", bins=6, edgecolor=\"black\"\n",
    ")\n",
    "\n",
    "# Add legend\n",
    "plt.legend()\n",
    "\n",
    "# Add titles and labels as needed\n",
    "plt.title(\"Mental Health by Diabetes Status\")\n",
    "plt.xlabel(\"Poor Mental Health Days\")\n",
    "plt.ylabel(\"Frequency\")\n",
    "\n",
    "# Show the plot\n",
    "plt.show()"
   ]
  },
  {
   "cell_type": "markdown",
   "id": "fc9d2e13",
   "metadata": {
    "papermill": {
     "duration": 0.015573,
     "end_time": "2024-03-16T22:16:04.747748",
     "exception": false,
     "start_time": "2024-03-16T22:16:04.732175",
     "status": "completed"
    },
    "tags": []
   },
   "source": [
    "## Histogram Figure 1.d\n",
    "\n",
    "### Age distribution\n",
    "\n",
    "Here we provide a visual distribution analysis of the Age feature. Of note, the data was collected using a 13-level age category where 1 = 18-24, 9 = 60-64, and 13 = 80 or older."
   ]
  },
  {
   "cell_type": "code",
   "execution_count": 12,
   "id": "19642213",
   "metadata": {
    "execution": {
     "iopub.execute_input": "2024-03-16T22:16:04.781466Z",
     "iopub.status.busy": "2024-03-16T22:16:04.781048Z",
     "iopub.status.idle": "2024-03-16T22:16:05.057863Z",
     "shell.execute_reply": "2024-03-16T22:16:05.056650Z"
    },
    "jupyter": {
     "source_hidden": true
    },
    "papermill": {
     "duration": 0.296466,
     "end_time": "2024-03-16T22:16:05.060233",
     "exception": false,
     "start_time": "2024-03-16T22:16:04.763767",
     "status": "completed"
    },
    "tags": []
   },
   "outputs": [
    {
     "data": {
      "image/png": "[encoded data removed]",
      "text/plain": [
       "<Figure size 640x480 with 1 Axes>"
      ]
     },
     "metadata": {},
     "output_type": "display_data"
    }
   ],
   "source": [
    "# Plot Age histogram\n",
    "graph_histograms = reduced_df.hist(column=\"Age\", grid=True, bins=13)\n",
    "\n",
    "# Calculate the tick positions for 13 bins\n",
    "tick_positions = range(1, 14)\n",
    "\n",
    "# Set the x-axis ticks\n",
    "plt.xticks(tick_positions)\n",
    "\n",
    "# Optionally, set x-axis and y-axis labels\n",
    "plt.xlabel(\"Age Category\")\n",
    "plt.ylabel(\"Frequency\")\n",
    "\n",
    "# Show the plot\n",
    "plt.show()"
   ]
  },
  {
   "cell_type": "markdown",
   "id": "34d45c54",
   "metadata": {
    "papermill": {
     "duration": 0.015843,
     "end_time": "2024-03-16T22:16:05.093033",
     "exception": false,
     "start_time": "2024-03-16T22:16:05.077190",
     "status": "completed"
    },
    "tags": []
   },
   "source": [
    "## Scatterplot figure 2.a\n",
    "\n",
    "### BMI over Age\n",
    "\n",
    "Here we see that diabetics have a higher BMI on average."
   ]
  },
  {
   "cell_type": "code",
   "execution_count": 13,
   "id": "d2bf9a42",
   "metadata": {
    "execution": {
     "iopub.execute_input": "2024-03-16T22:16:05.128061Z",
     "iopub.status.busy": "2024-03-16T22:16:05.127045Z",
     "iopub.status.idle": "2024-03-16T22:16:09.346543Z",
     "shell.execute_reply": "2024-03-16T22:16:09.345497Z"
    },
    "jupyter": {
     "source_hidden": true
    },
    "papermill": {
     "duration": 4.239778,
     "end_time": "2024-03-16T22:16:09.348922",
     "exception": false,
     "start_time": "2024-03-16T22:16:05.109144",
     "status": "completed"
    },
    "tags": []
   },
   "outputs": [
    {
     "data": {
      "text/plain": [
       "<seaborn.axisgrid.FacetGrid at 0x7c3167452aa0>"
      ]
     },
     "execution_count": 13,
     "metadata": {},
     "output_type": "execute_result"
    },
    {
     "data": {
      "image/png": "[encoded data removed]",
      "text/plain": [
       "<Figure size 1084.88x500 with 2 Axes>"
      ]
     },
     "metadata": {},
     "output_type": "display_data"
    }
   ],
   "source": [
    "# Copy the DataFrame to avoid modifying the original data\n",
    "plot_df = reduced_df.copy()\n",
    "\n",
    "# Map True/False to Male/Female\n",
    "plot_df[\"Sex\"] = plot_df[\"Sex\"].map({True: \"Male\", False: \"Female\"})\n",
    "\n",
    "# Age/BMI Scatterplot\n",
    "sns.lmplot(\n",
    "    data=plot_df,\n",
    "    x=\"Age\",\n",
    "    y=\"BMI\",\n",
    "    col=\"Sex\",\n",
    "    hue=\"Diabetes\",\n",
    "    x_bins=1000,\n",
    "    fit_reg=False,\n",
    ")"
   ]
  },
  {
   "cell_type": "markdown",
   "id": "5f17ee66",
   "metadata": {
    "papermill": {
     "duration": 0.017254,
     "end_time": "2024-03-16T22:16:09.383341",
     "exception": false,
     "start_time": "2024-03-16T22:16:09.366087",
     "status": "completed"
    },
    "tags": []
   },
   "source": [
    "## Scatterplot figure 2.b\n",
    "\n",
    "### General Health over Age\n",
    "\n",
    "The general health indicator is on a scale of 1 to 5, with a score of 5 as excellent. Here we see that diabetics have poorer general health. We also see a trend in healthy people where the older one gets, the poorer their overall health. Diabetics do not show this trend."
   ]
  },
  {
   "cell_type": "code",
   "execution_count": 14,
   "id": "1f410858",
   "metadata": {
    "execution": {
     "iopub.execute_input": "2024-03-16T22:16:09.419331Z",
     "iopub.status.busy": "2024-03-16T22:16:09.418120Z",
     "iopub.status.idle": "2024-03-16T22:16:26.236664Z",
     "shell.execute_reply": "2024-03-16T22:16:26.235788Z"
    },
    "jupyter": {
     "source_hidden": true
    },
    "papermill": {
     "duration": 16.838705,
     "end_time": "2024-03-16T22:16:26.238610",
     "exception": false,
     "start_time": "2024-03-16T22:16:09.399905",
     "status": "completed"
    },
    "tags": []
   },
   "outputs": [
    {
     "data": {
      "text/plain": [
       "<seaborn.axisgrid.FacetGrid at 0x7c316727ca60>"
      ]
     },
     "execution_count": 14,
     "metadata": {},
     "output_type": "execute_result"
    },
    {
     "data": {
      "image/png": "[encoded data removed]",
      "text/plain": [
       "<Figure size 584.875x500 with 1 Axes>"
      ]
     },
     "metadata": {},
     "output_type": "display_data"
    }
   ],
   "source": [
    "# Age/General-Health Scatterplot\n",
    "sns.lmplot(data=reduced_df, x=\"Age\", y=\"GenHlth\", hue=\"Diabetes\", x_bins=1000)"
   ]
  },
  {
   "cell_type": "markdown",
   "id": "1c7f6dd6",
   "metadata": {
    "papermill": {
     "duration": 0.087254,
     "end_time": "2024-03-16T22:16:26.343752",
     "exception": false,
     "start_time": "2024-03-16T22:16:26.256498",
     "status": "completed"
    },
    "tags": []
   },
   "source": [
    "## Scatterplot figure 2.c\n",
    "\n",
    "### Physical Health as compared to Mental health\n",
    "\n",
    "Here we see a trend that the more days per month of poor mental health an individual has, the more days on average of physical health they will experience. Of note is diabetics have a similar distribution of poor mental health days, but significantly more days per month of poor physical health."
   ]
  },
  {
   "cell_type": "code",
   "execution_count": 15,
   "id": "a4756f62",
   "metadata": {
    "execution": {
     "iopub.execute_input": "2024-03-16T22:16:26.381643Z",
     "iopub.status.busy": "2024-03-16T22:16:26.380918Z",
     "iopub.status.idle": "2024-03-16T22:16:42.535625Z",
     "shell.execute_reply": "2024-03-16T22:16:42.534465Z"
    },
    "jupyter": {
     "source_hidden": true
    },
    "papermill": {
     "duration": 16.1767,
     "end_time": "2024-03-16T22:16:42.537787",
     "exception": false,
     "start_time": "2024-03-16T22:16:26.361087",
     "status": "completed"
    },
    "tags": []
   },
   "outputs": [
    {
     "data": {
      "text/plain": [
       "<seaborn.axisgrid.FacetGrid at 0x7c3166e78c10>"
      ]
     },
     "execution_count": 15,
     "metadata": {},
     "output_type": "execute_result"
    },
    {
     "data": {
      "image/png": "[encoded data removed]",
      "text/plain": [
       "<Figure size 584.875x500 with 1 Axes>"
      ]
     },
     "metadata": {},
     "output_type": "display_data"
    }
   ],
   "source": [
    "# Health Scatterplot\n",
    "sns.lmplot(data=reduced_df, x=\"MentHlth\", y=\"PhysHlth\", hue=\"Diabetes\", x_bins=1000)"
   ]
  },
  {
   "cell_type": "markdown",
   "id": "188992e1",
   "metadata": {
    "papermill": {
     "duration": 0.017881,
     "end_time": "2024-03-16T22:16:42.574171",
     "exception": false,
     "start_time": "2024-03-16T22:16:42.556290",
     "status": "completed"
    },
    "tags": []
   },
   "source": [
    "# Random Forest Model for Comparison\n",
    "\n",
    "Here we set up a second model using the Random Forest algorithm to compare with our Logistic Regression model. The steps are much the same as before, however we do not need to scale the numerical data."
   ]
  },
  {
   "cell_type": "code",
   "execution_count": 16,
   "id": "fa145cf2",
   "metadata": {
    "execution": {
     "iopub.execute_input": "2024-03-16T22:16:42.613867Z",
     "iopub.status.busy": "2024-03-16T22:16:42.613387Z",
     "iopub.status.idle": "2024-03-16T22:17:00.914255Z",
     "shell.execute_reply": "2024-03-16T22:17:00.913118Z"
    },
    "papermill": {
     "duration": 18.324406,
     "end_time": "2024-03-16T22:17:00.916874",
     "exception": false,
     "start_time": "2024-03-16T22:16:42.592468",
     "status": "completed"
    },
    "tags": []
   },
   "outputs": [
    {
     "name": "stdout",
     "output_type": "stream",
     "text": [
      "\n",
      "Random Forest (single) prediction results: \n",
      "\n",
      "Accuracy: 72.13 % \n",
      "\n",
      "Confusion Matrix:\n",
      "[[11906  5307]\n",
      " [ 4297 12947]] \n",
      "\n",
      "Classification Report:\n",
      "              precision    recall  f1-score   support\n",
      "\n",
      "       False       0.73      0.69      0.71     17213\n",
      "        True       0.71      0.75      0.73     17244\n",
      "\n",
      "    accuracy                           0.72     34457\n",
      "   macro avg       0.72      0.72      0.72     34457\n",
      "weighted avg       0.72      0.72      0.72     34457\n",
      "\n"
     ]
    }
   ],
   "source": [
    "# 'X' is the set of features and 'y' is the target variable\n",
    "X_rf = reduced_df.drop(\"Diabetes\", axis=1)\n",
    "y_rf = reduced_df[\"Diabetes\"].astype(\"bool\")  # Ensuring the target is boolean\n",
    "\n",
    "# Splitting the dataset into the Training set and Test set\n",
    "X_rf_train, X_rf_test, y_rf_train, y_rf_test = train_test_split(\n",
    "    X_rf, y_rf, test_size=0.25, random_state=42\n",
    ")\n",
    "\n",
    "# Creating a Random Forest Classifier -- You can adjust parameters\n",
    "rf_classifier = RandomForestClassifier(n_estimators=100, random_state=42)\n",
    "\n",
    "# Fitting Random Forest to the Training set\n",
    "rf_classifier.fit(X_rf_train, y_rf_train)\n",
    "\n",
    "# Predicting the Test set results\n",
    "y_pred_rf = rf_classifier.predict(X_rf_test)\n",
    "\n",
    "accuracy_rf = accuracy_score(y_rf_test, y_pred_rf)\n",
    "conf_matrix_rf = confusion_matrix(y_rf_test, y_pred_rf)\n",
    "class_report_rf = classification_report(y_rf_test, y_pred_rf)\n",
    "\n",
    "# Evaluate the model\n",
    "print(\"\\nRandom Forest (single) prediction results:\", \"\\n\")\n",
    "print(f\"Accuracy: {round(accuracy_rf*100,2)} %\", \"\\n\")\n",
    "print(\"Confusion Matrix:\")\n",
    "print(conf_matrix_rf, \"\\n\")\n",
    "print(\"Classification Report:\")\n",
    "print(class_report_rf)"
   ]
  },
  {
   "cell_type": "markdown",
   "id": "6038d774",
   "metadata": {
    "papermill": {
     "duration": 0.018388,
     "end_time": "2024-03-16T22:17:00.953837",
     "exception": false,
     "start_time": "2024-03-16T22:17:00.935449",
     "status": "completed"
    },
    "tags": []
   },
   "source": [
    "# Cross-Validation of Models\n",
    "\n",
    "Next we perform a cross-validation process on the logistic regression and Random Forest models to verify their reliability across different subsets of the dataset. By utilizing the KFold method with 5 splits and shuffling enabled, the dataset is divided into distinct subsets to conduct multiple training and testing cycles. The average of these scores is calculated and displayed, offering a robust measure of the model's overall performance. This approach helps to ensure that the model's predictive accuracy is not overly dependent on any particular partition of the data, thereby increasing confidence in its generalizability."
   ]
  },
  {
   "cell_type": "code",
   "execution_count": 17,
   "id": "e4b99ab8",
   "metadata": {
    "execution": {
     "iopub.execute_input": "2024-03-16T22:17:00.992604Z",
     "iopub.status.busy": "2024-03-16T22:17:00.992125Z",
     "iopub.status.idle": "2024-03-16T22:18:40.851036Z",
     "shell.execute_reply": "2024-03-16T22:18:40.849707Z"
    },
    "jupyter": {
     "source_hidden": true
    },
    "papermill": {
     "duration": 99.899794,
     "end_time": "2024-03-16T22:18:40.872169",
     "exception": false,
     "start_time": "2024-03-16T22:17:00.972375",
     "status": "completed"
    },
    "tags": []
   },
   "outputs": [
    {
     "name": "stdout",
     "output_type": "stream",
     "text": [
      "Logistic Regression Average Prediction Score:  74.26 %\n",
      "Random Forest Average Prediction Score:  71.89 %\n"
     ]
    }
   ],
   "source": [
    "# Verify model by averaging different test/train splits\n",
    "k_folds = KFold(n_splits=5, shuffle=True)\n",
    "# The number of folds determines the test/train split for each iteration.\n",
    "# So 5 folds has 5 different mutually exclusive training sets.\n",
    "# That's a 1 to 4 (or .20 to .80) testing/training split for each of the 5 iterations.\n",
    "\n",
    "# This is the average score. Print 'scores' to see array of individual iteration scores.\n",
    "log_scores = cross_val_score(mylog_model, X_log, y_log)\n",
    "rf_scores = cross_val_score(rf_classifier, X_rf, y_rf)\n",
    "\n",
    "# Output average scores\n",
    "print(\n",
    "    \"Logistic Regression Average Prediction Score: \",\n",
    "    round(log_scores.mean() * 100, 2),\n",
    "    \"%\",\n",
    ")\n",
    "print(\"Random Forest Average Prediction Score: \", round(rf_scores.mean() * 100, 2), \"%\")"
   ]
  },
  {
   "cell_type": "markdown",
   "id": "b11afe0f",
   "metadata": {
    "papermill": {
     "duration": 0.018118,
     "end_time": "2024-03-16T22:18:40.908631",
     "exception": false,
     "start_time": "2024-03-16T22:18:40.890513",
     "status": "completed"
    },
    "tags": []
   },
   "source": [
    "# Confusion Matrix Visual\n",
    "\n",
    "Confusion matrixes are used to evaluate the performance in classifying diabetic and non-diabetic individuals. Here we look at the Logistic Regression model, because it proved to be more accurate. More importantly, it had less false-negative outcomes compared to the random forest model (4101 vs 4297)."
   ]
  },
  {
   "cell_type": "code",
   "execution_count": 18,
   "id": "d811cd87",
   "metadata": {
    "execution": {
     "iopub.execute_input": "2024-03-16T22:18:40.948834Z",
     "iopub.status.busy": "2024-03-16T22:18:40.948383Z",
     "iopub.status.idle": "2024-03-16T22:18:41.362685Z",
     "shell.execute_reply": "2024-03-16T22:18:41.361425Z"
    },
    "jupyter": {
     "source_hidden": true
    },
    "papermill": {
     "duration": 0.43701,
     "end_time": "2024-03-16T22:18:41.365374",
     "exception": false,
     "start_time": "2024-03-16T22:18:40.928364",
     "status": "completed"
    },
    "tags": []
   },
   "outputs": [
    {
     "data": {
      "image/png": "[encoded data removed]",
      "text/plain": [
       "<Figure size 640x480 with 2 Axes>"
      ]
     },
     "metadata": {},
     "output_type": "display_data"
    }
   ],
   "source": [
    "# Plot confusion matrix\n",
    "graph_confusion_matrix = ConfusionMatrixDisplay.from_predictions(y_log_test, y_pred_log)"
   ]
  }
 ],
 "metadata": {
  "kaggle": {
   "accelerator": "none",
   "dataSources": [
    {
     "datasetId": 1703281,
     "sourceId": 2789260,
     "sourceType": "datasetVersion"
    },
    {
     "datasetId": 4066291,
     "sourceId": 7062872,
     "sourceType": "datasetVersion"
    }
   ],
   "dockerImageVersionId": 30664,
   "isGpuEnabled": false,
   "isInternetEnabled": false,
   "language": "python",
   "sourceType": "notebook"
  },
  "kernelspec": {
   "display_name": "Python 3 (ipykernel)",
   "language": "python",
   "name": "python3"
  },
  "language_info": {
   "codemirror_mode": {
    "name": "ipython",
    "version": 3
   },
   "file_extension": ".py",
   "mimetype": "text/x-python",
   "name": "python",
   "nbconvert_exporter": "python",
   "pygments_lexer": "ipython3",
   "version": "3.11.4"
  },
  "papermill": {
   "default_parameters": {},
   "duration": 166.948671,
   "end_time": "2024-03-16T22:18:42.212195",
   "environment_variables": {},
   "exception": null,
   "input_path": "__notebook__.ipynb",
   "output_path": "__notebook__.ipynb",
   "parameters": {},
   "start_time": "2024-03-16T22:15:55.263524",
   "version": "2.5.0"
  },
  "widgets": {
   "application/vnd.jupyter.widget-state+json": {
    "state": {
     "0164119b722641639727108aa56a699a": {
      "model_module": "@jupyter-widgets/controls",
      "model_module_version": "1.5.0",
      "model_name": "SliderStyleModel",
      "state": {
       "_model_module": "@jupyter-widgets/controls",
       "_model_module_version": "1.5.0",
       "_model_name": "SliderStyleModel",
       "_view_count": null,
       "_view_module": "@jupyter-widgets/base",
       "_view_module_version": "1.2.0",
       "_view_name": "StyleView",
       "description_width": "",
       "handle_color": null
      }
     },
     "0222f4d2d1fb462e811409ac204f7381": {
      "model_module": "@jupyter-widgets/base",
      "model_module_version": "1.2.0",
      "model_name": "LayoutModel",
      "state": {
       "_model_module": "@jupyter-widgets/base",
       "_model_module_version": "1.2.0",
       "_model_name": "LayoutModel",
       "_view_count": null,
       "_view_module": "@jupyter-widgets/base",
       "_view_module_version": "1.2.0",
       "_view_name": "LayoutView",
       "align_content": null,
       "align_items": null,
       "align_self": null,
       "border": null,
       "bottom": null,
       "display": null,
       "flex": null,
       "flex_flow": null,
       "grid_area": null,
       "grid_auto_columns": null,
       "grid_auto_flow": null,
       "grid_auto_rows": null,
       "grid_column": null,
       "grid_gap": null,
       "grid_row": null,
       "grid_template_areas": null,
       "grid_template_columns": null,
       "grid_template_rows": null,
       "height": null,
       "justify_content": null,
       "justify_items": null,
       "left": null,
       "margin": null,
       "max_height": null,
       "max_width": null,
       "min_height": null,
       "min_width": null,
       "object_fit": null,
       "object_position": null,
       "order": null,
       "overflow": null,
       "overflow_x": null,
       "overflow_y": null,
       "padding": null,
       "right": null,
       "top": null,
       "visibility": null,
       "width": null
      }
     },
     "0611f1a5e5ba45abb73f70b67ec4b2dd": {
      "model_module": "@jupyter-widgets/base",
      "model_module_version": "1.2.0",
      "model_name": "LayoutModel",
      "state": {
       "_model_module": "@jupyter-widgets/base",
       "_model_module_version": "1.2.0",
       "_model_name": "LayoutModel",
       "_view_count": null,
       "_view_module": "@jupyter-widgets/base",
       "_view_module_version": "1.2.0",
       "_view_name": "LayoutView",
       "align_content": null,
       "align_items": null,
       "align_self": null,
       "border": null,
       "bottom": null,
       "display": null,
       "flex": null,
       "flex_flow": null,
       "grid_area": null,
       "grid_auto_columns": null,
       "grid_auto_flow": null,
       "grid_auto_rows": null,
       "grid_column": null,
       "grid_gap": null,
       "grid_row": null,
       "grid_template_areas": null,
       "grid_template_columns": null,
       "grid_template_rows": null,
       "height": null,
       "justify_content": null,
       "justify_items": null,
       "left": null,
       "margin": null,
       "max_height": null,
       "max_width": null,
       "min_height": null,
       "min_width": null,
       "object_fit": null,
       "object_position": null,
       "order": null,
       "overflow": null,
       "overflow_x": null,
       "overflow_y": null,
       "padding": null,
       "right": null,
       "top": null,
       "visibility": null,
       "width": "max-content"
      }
     },
     "074a232aac864c589222c2cab5960ef6": {
      "model_module": "@jupyter-widgets/controls",
      "model_module_version": "1.5.0",
      "model_name": "DescriptionStyleModel",
      "state": {
       "_model_module": "@jupyter-widgets/controls",
       "_model_module_version": "1.5.0",
       "_model_name": "DescriptionStyleModel",
       "_view_count": null,
       "_view_module": "@jupyter-widgets/base",
       "_view_module_version": "1.2.0",
       "_view_name": "StyleView",
       "description_width": ""
      }
     },
     "0c6d4ba5b39146d8bcd98c6f82024362": {
      "model_module": "@jupyter-widgets/controls",
      "model_module_version": "1.5.0",
      "model_name": "RadioButtonsModel",
      "state": {
       "_dom_classes": [],
       "_model_module": "@jupyter-widgets/controls",
       "_model_module_version": "1.5.0",
       "_model_name": "RadioButtonsModel",
       "_options_labels": [
        "No",
        "Yes"
       ],
       "_view_count": null,
       "_view_module": "@jupyter-widgets/controls",
       "_view_module_version": "1.5.0",
       "_view_name": "RadioButtonsView",
       "description": "",
       "description_tooltip": null,
       "disabled": false,
       "index": 0,
       "layout": "IPY_MODEL_7da2c8cb9034488ba1b5d41a80b07f58",
       "style": "IPY_MODEL_15931b9c9a474b278af3c4383b3d2570"
      }
     },
     "15931b9c9a474b278af3c4383b3d2570": {
      "model_module": "@jupyter-widgets/controls",
      "model_module_version": "1.5.0",
      "model_name": "DescriptionStyleModel",
      "state": {
       "_model_module": "@jupyter-widgets/controls",
       "_model_module_version": "1.5.0",
       "_model_name": "DescriptionStyleModel",
       "_view_count": null,
       "_view_module": "@jupyter-widgets/base",
       "_view_module_version": "1.2.0",
       "_view_name": "StyleView",
       "description_width": ""
      }
     },
     "17697b56bae04e5c9ecf20c8e8cf21f0": {
      "model_module": "@jupyter-widgets/base",
      "model_module_version": "1.2.0",
      "model_name": "LayoutModel",
      "state": {
       "_model_module": "@jupyter-widgets/base",
       "_model_module_version": "1.2.0",
       "_model_name": "LayoutModel",
       "_view_count": null,
       "_view_module": "@jupyter-widgets/base",
       "_view_module_version": "1.2.0",
       "_view_name": "LayoutView",
       "align_content": null,
       "align_items": null,
       "align_self": null,
       "border": null,
       "bottom": null,
       "display": null,
       "flex": null,
       "flex_flow": null,
       "grid_area": null,
       "grid_auto_columns": null,
       "grid_auto_flow": null,
       "grid_auto_rows": null,
       "grid_column": null,
       "grid_gap": null,
       "grid_row": null,
       "grid_template_areas": null,
       "grid_template_columns": null,
       "grid_template_rows": null,
       "height": null,
       "justify_content": null,
       "justify_items": null,
       "left": null,
       "margin": null,
       "max_height": null,
       "max_width": null,
       "min_height": null,
       "min_width": null,
       "object_fit": null,
       "object_position": null,
       "order": null,
       "overflow": null,
       "overflow_x": null,
       "overflow_y": null,
       "padding": null,
       "right": null,
       "top": null,
       "visibility": null,
       "width": null
      }
     },
     "195919f45456495daff39e3ca0243d40": {
      "model_module": "@jupyter-widgets/controls",
      "model_module_version": "1.5.0",
      "model_name": "LabelModel",
      "state": {
       "_dom_classes": [],
       "_model_module": "@jupyter-widgets/controls",
       "_model_module_version": "1.5.0",
       "_model_name": "LabelModel",
       "_view_count": null,
       "_view_module": "@jupyter-widgets/controls",
       "_view_module_version": "1.5.0",
       "_view_name": "LabelView",
       "description": "",
       "description_tooltip": null,
       "layout": "IPY_MODEL_5c4e568a884a4294b301de052ddba485",
       "placeholder": "​",
       "style": "IPY_MODEL_fdf61eeed3f3456fb59b24c552522443",
       "value": "High Cholesterol"
      }
     },
     "1c066c5af00b4a0b9e6f2c51420b1bdf": {
      "model_module": "@jupyter-widgets/controls",
      "model_module_version": "1.5.0",
      "model_name": "SliderStyleModel",
      "state": {
       "_model_module": "@jupyter-widgets/controls",
       "_model_module_version": "1.5.0",
       "_model_name": "SliderStyleModel",
       "_view_count": null,
       "_view_module": "@jupyter-widgets/base",
       "_view_module_version": "1.2.0",
       "_view_name": "StyleView",
       "description_width": "",
       "handle_color": null
      }
     },
     "1ce0ae33c6df47a6be9f8620856d415b": {
      "model_module": "@jupyter-widgets/controls",
      "model_module_version": "1.5.0",
      "model_name": "FloatSliderModel",
      "state": {
       "_dom_classes": [],
       "_model_module": "@jupyter-widgets/controls",
       "_model_module_version": "1.5.0",
       "_model_name": "FloatSliderModel",
       "_view_count": null,
       "_view_module": "@jupyter-widgets/controls",
       "_view_module_version": "1.5.0",
       "_view_name": "FloatSliderView",
       "continuous_update": true,
       "description": "",
       "description_tooltip": null,
       "disabled": false,
       "layout": "IPY_MODEL_17697b56bae04e5c9ecf20c8e8cf21f0",
       "max": 30,
       "min": 0,
       "orientation": "horizontal",
       "readout": true,
       "readout_format": ".2f",
       "step": 1,
       "style": "IPY_MODEL_6fbb5c27afe24a4f8e33fd9154ecf681",
       "value": 0
      }
     },
     "1d09856b80414beaa274b20dbba066bc": {
      "model_module": "@jupyter-widgets/controls",
      "model_module_version": "1.5.0",
      "model_name": "DescriptionStyleModel",
      "state": {
       "_model_module": "@jupyter-widgets/controls",
       "_model_module_version": "1.5.0",
       "_model_name": "DescriptionStyleModel",
       "_view_count": null,
       "_view_module": "@jupyter-widgets/base",
       "_view_module_version": "1.2.0",
       "_view_name": "StyleView",
       "description_width": ""
      }
     },
     "237a6aa4c80f4786af1002ada79e6b6b": {
      "model_module": "@jupyter-widgets/controls",
      "model_module_version": "1.5.0",
      "model_name": "LabelModel",
      "state": {
       "_dom_classes": [],
       "_model_module": "@jupyter-widgets/controls",
       "_model_module_version": "1.5.0",
       "_model_name": "LabelModel",
       "_view_count": null,
       "_view_module": "@jupyter-widgets/controls",
       "_view_module_version": "1.5.0",
       "_view_name": "LabelView",
       "description": "",
       "description_tooltip": null,
       "layout": "IPY_MODEL_260a7c520a9c471f92a863c22ae8f488",
       "placeholder": "​",
       "style": "IPY_MODEL_298becc0323e49959c9a0f73da4df7a6",
       "value": "Physical Activity in past 30 days, not incl job"
      }
     },
     "24c1c8f62ed14fc7844d68782e1c39ac": {
      "model_module": "@jupyter-widgets/controls",
      "model_module_version": "1.5.0",
      "model_name": "FloatSliderModel",
      "state": {
       "_dom_classes": [],
       "_model_module": "@jupyter-widgets/controls",
       "_model_module_version": "1.5.0",
       "_model_name": "FloatSliderModel",
       "_view_count": null,
       "_view_module": "@jupyter-widgets/controls",
       "_view_module_version": "1.5.0",
       "_view_name": "FloatSliderView",
       "continuous_update": true,
       "description": "",
       "description_tooltip": null,
       "disabled": false,
       "layout": "IPY_MODEL_fd3ef8fb7aa646b196958d83c12e409a",
       "max": 50,
       "min": 10,
       "orientation": "horizontal",
       "readout": true,
       "readout_format": ".2f",
       "step": 0.1,
       "style": "IPY_MODEL_f384b3b5856a4b708b6b8fa409eea239",
       "value": 20
      }
     },
     "260a7c520a9c471f92a863c22ae8f488": {
      "model_module": "@jupyter-widgets/base",
      "model_module_version": "1.2.0",
      "model_name": "LayoutModel",
      "state": {
       "_model_module": "@jupyter-widgets/base",
       "_model_module_version": "1.2.0",
       "_model_name": "LayoutModel",
       "_view_count": null,
       "_view_module": "@jupyter-widgets/base",
       "_view_module_version": "1.2.0",
       "_view_name": "LayoutView",
       "align_content": null,
       "align_items": null,
       "align_self": null,
       "border": null,
       "bottom": null,
       "display": null,
       "flex": null,
       "flex_flow": null,
       "grid_area": null,
       "grid_auto_columns": null,
       "grid_auto_flow": null,
       "grid_auto_rows": null,
       "grid_column": null,
       "grid_gap": null,
       "grid_row": null,
       "grid_template_areas": null,
       "grid_template_columns": null,
       "grid_template_rows": null,
       "height": null,
       "justify_content": null,
       "justify_items": null,
       "left": null,
       "margin": null,
       "max_height": null,
       "max_width": null,
       "min_height": null,
       "min_width": null,
       "object_fit": null,
       "object_position": null,
       "order": null,
       "overflow": null,
       "overflow_x": null,
       "overflow_y": null,
       "padding": null,
       "right": null,
       "top": null,
       "visibility": null,
       "width": "max-content"
      }
     },
     "298becc0323e49959c9a0f73da4df7a6": {
      "model_module": "@jupyter-widgets/controls",
      "model_module_version": "1.5.0",
      "model_name": "DescriptionStyleModel",
      "state": {
       "_model_module": "@jupyter-widgets/controls",
       "_model_module_version": "1.5.0",
       "_model_name": "DescriptionStyleModel",
       "_view_count": null,
       "_view_module": "@jupyter-widgets/base",
       "_view_module_version": "1.2.0",
       "_view_name": "StyleView",
       "description_width": ""
      }
     },
     "2a288075263d4bdfa5851f80421deb41": {
      "model_module": "@jupyter-widgets/base",
      "model_module_version": "1.2.0",
      "model_name": "LayoutModel",
      "state": {
       "_model_module": "@jupyter-widgets/base",
       "_model_module_version": "1.2.0",
       "_model_name": "LayoutModel",
       "_view_count": null,
       "_view_module": "@jupyter-widgets/base",
       "_view_module_version": "1.2.0",
       "_view_name": "LayoutView",
       "align_content": null,
       "align_items": null,
       "align_self": null,
       "border": null,
       "bottom": null,
       "display": null,
       "flex": null,
       "flex_flow": null,
       "grid_area": null,
       "grid_auto_columns": null,
       "grid_auto_flow": null,
       "grid_auto_rows": null,
       "grid_column": null,
       "grid_gap": null,
       "grid_row": null,
       "grid_template_areas": null,
       "grid_template_columns": null,
       "grid_template_rows": null,
       "height": null,
       "justify_content": null,
       "justify_items": null,
       "left": null,
       "margin": null,
       "max_height": null,
       "max_width": null,
       "min_height": null,
       "min_width": null,
       "object_fit": null,
       "object_position": null,
       "order": null,
       "overflow": null,
       "overflow_x": null,
       "overflow_y": null,
       "padding": null,
       "right": null,
       "top": null,
       "visibility": null,
       "width": "max-content"
      }
     },
     "2b40ec6be7b646d7b27d178fcd1bba60": {
      "model_module": "@jupyter-widgets/controls",
      "model_module_version": "1.5.0",
      "model_name": "DescriptionStyleModel",
      "state": {
       "_model_module": "@jupyter-widgets/controls",
       "_model_module_version": "1.5.0",
       "_model_name": "DescriptionStyleModel",
       "_view_count": null,
       "_view_module": "@jupyter-widgets/base",
       "_view_module_version": "1.2.0",
       "_view_name": "StyleView",
       "description_width": ""
      }
     },
     "2cd77328b4ae48968789f7fa7384074a": {
      "model_module": "@jupyter-widgets/controls",
      "model_module_version": "1.5.0",
      "model_name": "LabelModel",
      "state": {
       "_dom_classes": [],
       "_model_module": "@jupyter-widgets/controls",
       "_model_module_version": "1.5.0",
       "_model_name": "LabelModel",
       "_view_count": null,
       "_view_module": "@jupyter-widgets/controls",
       "_view_module_version": "1.5.0",
       "_view_name": "LabelView",
       "description": "",
       "description_tooltip": null,
       "layout": "IPY_MODEL_f18de89d13d94cd3bd51ccaea3d10a4d",
       "placeholder": "​",
       "style": "IPY_MODEL_84940a280c01456b86bb4cbd931317ca",
       "value": "High Blood Pressure"
      }
     },
     "2e825b49c3cc415396fa7f4508c1a11d": {
      "model_module": "@jupyter-widgets/controls",
      "model_module_version": "1.5.0",
      "model_name": "DescriptionStyleModel",
      "state": {
       "_model_module": "@jupyter-widgets/controls",
       "_model_module_version": "1.5.0",
       "_model_name": "DescriptionStyleModel",
       "_view_count": null,
       "_view_module": "@jupyter-widgets/base",
       "_view_module_version": "1.2.0",
       "_view_name": "StyleView",
       "description_width": ""
      }
     },
     "30ef832ec3d64994841b86d9ed2ef3d3": {
      "model_module": "@jupyter-widgets/controls",
      "model_module_version": "1.5.0",
      "model_name": "DescriptionStyleModel",
      "state": {
       "_model_module": "@jupyter-widgets/controls",
       "_model_module_version": "1.5.0",
       "_model_name": "DescriptionStyleModel",
       "_view_count": null,
       "_view_module": "@jupyter-widgets/base",
       "_view_module_version": "1.2.0",
       "_view_name": "StyleView",
       "description_width": ""
      }
     },
     "3290cbe488fb418aaa8275a7e53c008f": {
      "model_module": "@jupyter-widgets/base",
      "model_module_version": "1.2.0",
      "model_name": "LayoutModel",
      "state": {
       "_model_module": "@jupyter-widgets/base",
       "_model_module_version": "1.2.0",
       "_model_name": "LayoutModel",
       "_view_count": null,
       "_view_module": "@jupyter-widgets/base",
       "_view_module_version": "1.2.0",
       "_view_name": "LayoutView",
       "align_content": null,
       "align_items": null,
       "align_self": null,
       "border": null,
       "bottom": null,
       "display": null,
       "flex": null,
       "flex_flow": null,
       "grid_area": null,
       "grid_auto_columns": null,
       "grid_auto_flow": null,
       "grid_auto_rows": null,
       "grid_column": null,
       "grid_gap": null,
       "grid_row": null,
       "grid_template_areas": null,
       "grid_template_columns": null,
       "grid_template_rows": null,
       "height": null,
       "justify_content": null,
       "justify_items": null,
       "left": null,
       "margin": null,
       "max_height": null,
       "max_width": null,
       "min_height": null,
       "min_width": null,
       "object_fit": null,
       "object_position": null,
       "order": null,
       "overflow": null,
       "overflow_x": null,
       "overflow_y": null,
       "padding": null,
       "right": null,
       "top": null,
       "visibility": null,
       "width": "max-content"
      }
     },
     "32f0898765ed4b69a13dcb6fe7c31bd4": {
      "model_module": "@jupyter-widgets/controls",
      "model_module_version": "1.5.0",
      "model_name": "LabelModel",
      "state": {
       "_dom_classes": [],
       "_model_module": "@jupyter-widgets/controls",
       "_model_module_version": "1.5.0",
       "_model_name": "LabelModel",
       "_view_count": null,
       "_view_module": "@jupyter-widgets/controls",
       "_view_module_version": "1.5.0",
       "_view_name": "LabelView",
       "description": "",
       "description_tooltip": null,
       "layout": "IPY_MODEL_bb55c2ff249c4dd3b6038ea290f935c9",
       "placeholder": "​",
       "style": "IPY_MODEL_36b748d61056476abb6126603fbae13d",
       "value": "General Health scale :"
      }
     },
     "33e04d28faf94a3388029328b1f49781": {
      "model_module": "@jupyter-widgets/base",
      "model_module_version": "1.2.0",
      "model_name": "LayoutModel",
      "state": {
       "_model_module": "@jupyter-widgets/base",
       "_model_module_version": "1.2.0",
       "_model_name": "LayoutModel",
       "_view_count": null,
       "_view_module": "@jupyter-widgets/base",
       "_view_module_version": "1.2.0",
       "_view_name": "LayoutView",
       "align_content": null,
       "align_items": null,
       "align_self": null,
       "border": null,
       "bottom": null,
       "display": null,
       "flex": null,
       "flex_flow": null,
       "grid_area": null,
       "grid_auto_columns": null,
       "grid_auto_flow": null,
       "grid_auto_rows": null,
       "grid_column": null,
       "grid_gap": null,
       "grid_row": null,
       "grid_template_areas": null,
       "grid_template_columns": null,
       "grid_template_rows": null,
       "height": null,
       "justify_content": null,
       "justify_items": null,
       "left": null,
       "margin": null,
       "max_height": null,
       "max_width": null,
       "min_height": null,
       "min_width": null,
       "object_fit": null,
       "object_position": null,
       "order": null,
       "overflow": null,
       "overflow_x": null,
       "overflow_y": null,
       "padding": null,
       "right": null,
       "top": null,
       "visibility": null,
       "width": "max-content"
      }
     },
     "357cab6dbb134ce88c9ee731216510e3": {
      "model_module": "@jupyter-widgets/controls",
      "model_module_version": "1.5.0",
      "model_name": "RadioButtonsModel",
      "state": {
       "_dom_classes": [],
       "_model_module": "@jupyter-widgets/controls",
       "_model_module_version": "1.5.0",
       "_model_name": "RadioButtonsModel",
       "_options_labels": [
        "No",
        "Yes"
       ],
       "_view_count": null,
       "_view_module": "@jupyter-widgets/controls",
       "_view_module_version": "1.5.0",
       "_view_name": "RadioButtonsView",
       "description": "",
       "description_tooltip": null,
       "disabled": false,
       "index": 0,
       "layout": "IPY_MODEL_6c3622ca21234600ac13fabd4717e117",
       "style": "IPY_MODEL_2e825b49c3cc415396fa7f4508c1a11d"
      }
     },
     "36b748d61056476abb6126603fbae13d": {
      "model_module": "@jupyter-widgets/controls",
      "model_module_version": "1.5.0",
      "model_name": "DescriptionStyleModel",
      "state": {
       "_model_module": "@jupyter-widgets/controls",
       "_model_module_version": "1.5.0",
       "_model_name": "DescriptionStyleModel",
       "_view_count": null,
       "_view_module": "@jupyter-widgets/base",
       "_view_module_version": "1.2.0",
       "_view_name": "StyleView",
       "description_width": ""
      }
     },
     "37d8d1910cf84168ba7a9a4ebc00227e": {
      "model_module": "@jupyter-widgets/controls",
      "model_module_version": "1.5.0",
      "model_name": "DescriptionStyleModel",
      "state": {
       "_model_module": "@jupyter-widgets/controls",
       "_model_module_version": "1.5.0",
       "_model_name": "DescriptionStyleModel",
       "_view_count": null,
       "_view_module": "@jupyter-widgets/base",
       "_view_module_version": "1.2.0",
       "_view_name": "StyleView",
       "description_width": ""
      }
     },
     "38aa70e1bf2a476daa45818633ff99a8": {
      "model_module": "@jupyter-widgets/controls",
      "model_module_version": "1.5.0",
      "model_name": "LabelModel",
      "state": {
       "_dom_classes": [],
       "_model_module": "@jupyter-widgets/controls",
       "_model_module_version": "1.5.0",
       "_model_name": "LabelModel",
       "_view_count": null,
       "_view_module": "@jupyter-widgets/controls",
       "_view_module_version": "1.5.0",
       "_view_name": "LabelView",
       "description": "",
       "description_tooltip": null,
       "layout": "IPY_MODEL_d025584570844334bd866d916f3f5bf2",
       "placeholder": "​",
       "style": "IPY_MODEL_992f496097c74ea8a878a103156671e5",
       "value": "Sex:"
      }
     },
     "391dfea8f116403682792d569fd4706c": {
      "model_module": "@jupyter-widgets/controls",
      "model_module_version": "1.5.0",
      "model_name": "DropdownModel",
      "state": {
       "_dom_classes": [],
       "_model_module": "@jupyter-widgets/controls",
       "_model_module_version": "1.5.0",
       "_model_name": "DropdownModel",
       "_options_labels": [
        "Female",
        "Male"
       ],
       "_view_count": null,
       "_view_module": "@jupyter-widgets/controls",
       "_view_module_version": "1.5.0",
       "_view_name": "DropdownView",
       "description": "",
       "description_tooltip": null,
       "disabled": false,
       "index": 0,
       "layout": "IPY_MODEL_9676eaef3d234d3f83d2f2bf1b66b539",
       "style": "IPY_MODEL_efce995deda7443e891fa6e8af010e00"
      }
     },
     "3a34ebdc6e2842b6a6f60952dd2a61c2": {
      "model_module": "@jupyter-widgets/controls",
      "model_module_version": "1.5.0",
      "model_name": "DescriptionStyleModel",
      "state": {
       "_model_module": "@jupyter-widgets/controls",
       "_model_module_version": "1.5.0",
       "_model_name": "DescriptionStyleModel",
       "_view_count": null,
       "_view_module": "@jupyter-widgets/base",
       "_view_module_version": "1.2.0",
       "_view_name": "StyleView",
       "description_width": ""
      }
     },
     "3abcaf9b49e449819cf00de28513a207": {
      "model_module": "@jupyter-widgets/base",
      "model_module_version": "1.2.0",
      "model_name": "LayoutModel",
      "state": {
       "_model_module": "@jupyter-widgets/base",
       "_model_module_version": "1.2.0",
       "_model_name": "LayoutModel",
       "_view_count": null,
       "_view_module": "@jupyter-widgets/base",
       "_view_module_version": "1.2.0",
       "_view_name": "LayoutView",
       "align_content": null,
       "align_items": null,
       "align_self": null,
       "border": null,
       "bottom": null,
       "display": null,
       "flex": null,
       "flex_flow": null,
       "grid_area": null,
       "grid_auto_columns": null,
       "grid_auto_flow": null,
       "grid_auto_rows": null,
       "grid_column": null,
       "grid_gap": null,
       "grid_row": null,
       "grid_template_areas": null,
       "grid_template_columns": null,
       "grid_template_rows": null,
       "height": null,
       "justify_content": null,
       "justify_items": null,
       "left": null,
       "margin": null,
       "max_height": null,
       "max_width": null,
       "min_height": null,
       "min_width": null,
       "object_fit": null,
       "object_position": null,
       "order": null,
       "overflow": null,
       "overflow_x": null,
       "overflow_y": null,
       "padding": null,
       "right": null,
       "top": null,
       "visibility": null,
       "width": null
      }
     },
     "419640f34a3e484287a6b44bac93504a": {
      "model_module": "@jupyter-widgets/controls",
      "model_module_version": "1.5.0",
      "model_name": "LabelModel",
      "state": {
       "_dom_classes": [],
       "_model_module": "@jupyter-widgets/controls",
       "_model_module_version": "1.5.0",
       "_model_name": "LabelModel",
       "_view_count": null,
       "_view_module": "@jupyter-widgets/controls",
       "_view_module_version": "1.5.0",
       "_view_name": "LabelView",
       "description": "",
       "description_tooltip": null,
       "layout": "IPY_MODEL_0611f1a5e5ba45abb73f70b67ec4b2dd",
       "placeholder": "​",
       "style": "IPY_MODEL_b564388035d54561addbab9fe01ad73f",
       "value": "Heart Disease or Attack (CHD or MI)"
      }
     },
     "4f6c893967bb489ab2ace3fd7505c5e8": {
      "model_module": "@jupyter-widgets/controls",
      "model_module_version": "1.5.0",
      "model_name": "SliderStyleModel",
      "state": {
       "_model_module": "@jupyter-widgets/controls",
       "_model_module_version": "1.5.0",
       "_model_name": "SliderStyleModel",
       "_view_count": null,
       "_view_module": "@jupyter-widgets/base",
       "_view_module_version": "1.2.0",
       "_view_name": "StyleView",
       "description_width": "",
       "handle_color": null
      }
     },
     "538a1aafbaf44e7e9d5306a207172d3a": {
      "model_module": "@jupyter-widgets/base",
      "model_module_version": "1.2.0",
      "model_name": "LayoutModel",
      "state": {
       "_model_module": "@jupyter-widgets/base",
       "_model_module_version": "1.2.0",
       "_model_name": "LayoutModel",
       "_view_count": null,
       "_view_module": "@jupyter-widgets/base",
       "_view_module_version": "1.2.0",
       "_view_name": "LayoutView",
       "align_content": null,
       "align_items": null,
       "align_self": null,
       "border": null,
       "bottom": null,
       "display": null,
       "flex": null,
       "flex_flow": null,
       "grid_area": null,
       "grid_auto_columns": null,
       "grid_auto_flow": null,
       "grid_auto_rows": null,
       "grid_column": null,
       "grid_gap": null,
       "grid_row": null,
       "grid_template_areas": null,
       "grid_template_columns": null,
       "grid_template_rows": null,
       "height": null,
       "justify_content": null,
       "justify_items": null,
       "left": null,
       "margin": null,
       "max_height": null,
       "max_width": null,
       "min_height": null,
       "min_width": null,
       "object_fit": null,
       "object_position": null,
       "order": null,
       "overflow": null,
       "overflow_x": null,
       "overflow_y": null,
       "padding": null,
       "right": null,
       "top": null,
       "visibility": null,
       "width": null
      }
     },
     "56a2e6c838fb43bab7700a3aeb47f059": {
      "model_module": "@jupyter-widgets/controls",
      "model_module_version": "1.5.0",
      "model_name": "RadioButtonsModel",
      "state": {
       "_dom_classes": [],
       "_model_module": "@jupyter-widgets/controls",
       "_model_module_version": "1.5.0",
       "_model_name": "RadioButtonsModel",
       "_options_labels": [
        "No",
        "Yes"
       ],
       "_view_count": null,
       "_view_module": "@jupyter-widgets/controls",
       "_view_module_version": "1.5.0",
       "_view_name": "RadioButtonsView",
       "description": "",
       "description_tooltip": null,
       "disabled": false,
       "index": 0,
       "layout": "IPY_MODEL_ee1f20bcb6974fbe8d6c5a60ecbb1eaf",
       "style": "IPY_MODEL_f32e93bfcc284c37b4160275a0b08b7f"
      }
     },
     "5a7fe63fa1d449d996cb88f5e82fe0ba": {
      "model_module": "@jupyter-widgets/base",
      "model_module_version": "1.2.0",
      "model_name": "LayoutModel",
      "state": {
       "_model_module": "@jupyter-widgets/base",
       "_model_module_version": "1.2.0",
       "_model_name": "LayoutModel",
       "_view_count": null,
       "_view_module": "@jupyter-widgets/base",
       "_view_module_version": "1.2.0",
       "_view_name": "LayoutView",
       "align_content": null,
       "align_items": null,
       "align_self": null,
       "border": null,
       "bottom": null,
       "display": null,
       "flex": null,
       "flex_flow": null,
       "grid_area": null,
       "grid_auto_columns": null,
       "grid_auto_flow": null,
       "grid_auto_rows": null,
       "grid_column": null,
       "grid_gap": null,
       "grid_row": null,
       "grid_template_areas": null,
       "grid_template_columns": null,
       "grid_template_rows": null,
       "height": null,
       "justify_content": null,
       "justify_items": null,
       "left": null,
       "margin": null,
       "max_height": null,
       "max_width": null,
       "min_height": null,
       "min_width": null,
       "object_fit": null,
       "object_position": null,
       "order": null,
       "overflow": null,
       "overflow_x": null,
       "overflow_y": null,
       "padding": null,
       "right": null,
       "top": null,
       "visibility": null,
       "width": null
      }
     },
     "5c4e568a884a4294b301de052ddba485": {
      "model_module": "@jupyter-widgets/base",
      "model_module_version": "1.2.0",
      "model_name": "LayoutModel",
      "state": {
       "_model_module": "@jupyter-widgets/base",
       "_model_module_version": "1.2.0",
       "_model_name": "LayoutModel",
       "_view_count": null,
       "_view_module": "@jupyter-widgets/base",
       "_view_module_version": "1.2.0",
       "_view_name": "LayoutView",
       "align_content": null,
       "align_items": null,
       "align_self": null,
       "border": null,
       "bottom": null,
       "display": null,
       "flex": null,
       "flex_flow": null,
       "grid_area": null,
       "grid_auto_columns": null,
       "grid_auto_flow": null,
       "grid_auto_rows": null,
       "grid_column": null,
       "grid_gap": null,
       "grid_row": null,
       "grid_template_areas": null,
       "grid_template_columns": null,
       "grid_template_rows": null,
       "height": null,
       "justify_content": null,
       "justify_items": null,
       "left": null,
       "margin": null,
       "max_height": null,
       "max_width": null,
       "min_height": null,
       "min_width": null,
       "object_fit": null,
       "object_position": null,
       "order": null,
       "overflow": null,
       "overflow_x": null,
       "overflow_y": null,
       "padding": null,
       "right": null,
       "top": null,
       "visibility": null,
       "width": "max-content"
      }
     },
     "5db0a0c8a19f471c88f48c638055f055": {
      "model_module": "@jupyter-widgets/controls",
      "model_module_version": "1.5.0",
      "model_name": "DescriptionStyleModel",
      "state": {
       "_model_module": "@jupyter-widgets/controls",
       "_model_module_version": "1.5.0",
       "_model_name": "DescriptionStyleModel",
       "_view_count": null,
       "_view_module": "@jupyter-widgets/base",
       "_view_module_version": "1.2.0",
       "_view_name": "StyleView",
       "description_width": ""
      }
     },
     "601e14ba5a43497fb9bfcadbfa5531de": {
      "model_module": "@jupyter-widgets/controls",
      "model_module_version": "1.5.0",
      "model_name": "FloatSliderModel",
      "state": {
       "_dom_classes": [],
       "_model_module": "@jupyter-widgets/controls",
       "_model_module_version": "1.5.0",
       "_model_name": "FloatSliderModel",
       "_view_count": null,
       "_view_module": "@jupyter-widgets/controls",
       "_view_module_version": "1.5.0",
       "_view_name": "FloatSliderView",
       "continuous_update": true,
       "description": "",
       "description_tooltip": null,
       "disabled": false,
       "layout": "IPY_MODEL_3abcaf9b49e449819cf00de28513a207",
       "max": 5,
       "min": 1,
       "orientation": "horizontal",
       "readout": true,
       "readout_format": ".2f",
       "step": 1,
       "style": "IPY_MODEL_0164119b722641639727108aa56a699a",
       "value": 3
      }
     },
     "640515e48d02476d9750468a95380d3e": {
      "model_module": "@jupyter-widgets/controls",
      "model_module_version": "1.5.0",
      "model_name": "RadioButtonsModel",
      "state": {
       "_dom_classes": [],
       "_model_module": "@jupyter-widgets/controls",
       "_model_module_version": "1.5.0",
       "_model_name": "RadioButtonsModel",
       "_options_labels": [
        "No",
        "Yes"
       ],
       "_view_count": null,
       "_view_module": "@jupyter-widgets/controls",
       "_view_module_version": "1.5.0",
       "_view_name": "RadioButtonsView",
       "description": "",
       "description_tooltip": null,
       "disabled": false,
       "index": 0,
       "layout": "IPY_MODEL_ec6b82d0a9d04f23b24f6354a11f878b",
       "style": "IPY_MODEL_772f00b0e94e4d3683b71894df7d7ccc"
      }
     },
     "6532d4c98db64cedace451772de3c032": {
      "model_module": "@jupyter-widgets/controls",
      "model_module_version": "1.5.0",
      "model_name": "LabelModel",
      "state": {
       "_dom_classes": [],
       "_model_module": "@jupyter-widgets/controls",
       "_model_module_version": "1.5.0",
       "_model_name": "LabelModel",
       "_view_count": null,
       "_view_module": "@jupyter-widgets/controls",
       "_view_module_version": "1.5.0",
       "_view_name": "LabelView",
       "description": "",
       "description_tooltip": null,
       "layout": "IPY_MODEL_2a288075263d4bdfa5851f80421deb41",
       "placeholder": "​",
       "style": "IPY_MODEL_37d8d1910cf84168ba7a9a4ebc00227e",
       "value": "How many past days was your Mental Health not good?"
      }
     },
     "66aa9c39dc0246d289af1b45328347e9": {
      "model_module": "@jupyter-widgets/controls",
      "model_module_version": "1.5.0",
      "model_name": "RadioButtonsModel",
      "state": {
       "_dom_classes": [],
       "_model_module": "@jupyter-widgets/controls",
       "_model_module_version": "1.5.0",
       "_model_name": "RadioButtonsModel",
       "_options_labels": [
        "No",
        "Yes"
       ],
       "_view_count": null,
       "_view_module": "@jupyter-widgets/controls",
       "_view_module_version": "1.5.0",
       "_view_name": "RadioButtonsView",
       "description": "",
       "description_tooltip": null,
       "disabled": false,
       "index": 0,
       "layout": "IPY_MODEL_9c62d4ea3eca4d3fb54c4bc11f5a2701",
       "style": "IPY_MODEL_82c27831cacc4ae4b9e227780dcd9e56"
      }
     },
     "69ade7273d984f2e811cca51b9012bcc": {
      "model_module": "@jupyter-widgets/controls",
      "model_module_version": "1.5.0",
      "model_name": "RadioButtonsModel",
      "state": {
       "_dom_classes": [],
       "_model_module": "@jupyter-widgets/controls",
       "_model_module_version": "1.5.0",
       "_model_name": "RadioButtonsModel",
       "_options_labels": [
        "No",
        "Yes"
       ],
       "_view_count": null,
       "_view_module": "@jupyter-widgets/controls",
       "_view_module_version": "1.5.0",
       "_view_name": "RadioButtonsView",
       "description": "",
       "description_tooltip": null,
       "disabled": false,
       "index": 0,
       "layout": "IPY_MODEL_c588472a897642a8bd5e25cf4f32f5da",
       "style": "IPY_MODEL_7c0488ed76194460b2c961e57ad67bb3"
      }
     },
     "6c3622ca21234600ac13fabd4717e117": {
      "model_module": "@jupyter-widgets/base",
      "model_module_version": "1.2.0",
      "model_name": "LayoutModel",
      "state": {
       "_model_module": "@jupyter-widgets/base",
       "_model_module_version": "1.2.0",
       "_model_name": "LayoutModel",
       "_view_count": null,
       "_view_module": "@jupyter-widgets/base",
       "_view_module_version": "1.2.0",
       "_view_name": "LayoutView",
       "align_content": null,
       "align_items": null,
       "align_self": null,
       "border": null,
       "bottom": null,
       "display": null,
       "flex": null,
       "flex_flow": null,
       "grid_area": null,
       "grid_auto_columns": null,
       "grid_auto_flow": null,
       "grid_auto_rows": null,
       "grid_column": null,
       "grid_gap": null,
       "grid_row": null,
       "grid_template_areas": null,
       "grid_template_columns": null,
       "grid_template_rows": null,
       "height": null,
       "justify_content": null,
       "justify_items": null,
       "left": null,
       "margin": null,
       "max_height": null,
       "max_width": null,
       "min_height": null,
       "min_width": null,
       "object_fit": null,
       "object_position": null,
       "order": null,
       "overflow": null,
       "overflow_x": null,
       "overflow_y": null,
       "padding": null,
       "right": null,
       "top": null,
       "visibility": null,
       "width": null
      }
     },
     "6fbb5c27afe24a4f8e33fd9154ecf681": {
      "model_module": "@jupyter-widgets/controls",
      "model_module_version": "1.5.0",
      "model_name": "SliderStyleModel",
      "state": {
       "_model_module": "@jupyter-widgets/controls",
       "_model_module_version": "1.5.0",
       "_model_name": "SliderStyleModel",
       "_view_count": null,
       "_view_module": "@jupyter-widgets/base",
       "_view_module_version": "1.2.0",
       "_view_name": "StyleView",
       "description_width": "",
       "handle_color": null
      }
     },
     "75ada7cd568a414dbc33d23c358daece": {
      "model_module": "@jupyter-widgets/controls",
      "model_module_version": "1.5.0",
      "model_name": "LabelModel",
      "state": {
       "_dom_classes": [],
       "_model_module": "@jupyter-widgets/controls",
       "_model_module_version": "1.5.0",
       "_model_name": "LabelModel",
       "_view_count": null,
       "_view_module": "@jupyter-widgets/controls",
       "_view_module_version": "1.5.0",
       "_view_name": "LabelView",
       "description": "",
       "description_tooltip": null,
       "layout": "IPY_MODEL_d4ed2e1829404b93a4b54e710f4bb5ec",
       "placeholder": "​",
       "style": "IPY_MODEL_92af953dedd245d8b1757aad34ddde33",
       "value": "Have you smoked at least 100 cigarettes in your life?"
      }
     },
     "772f00b0e94e4d3683b71894df7d7ccc": {
      "model_module": "@jupyter-widgets/controls",
      "model_module_version": "1.5.0",
      "model_name": "DescriptionStyleModel",
      "state": {
       "_model_module": "@jupyter-widgets/controls",
       "_model_module_version": "1.5.0",
       "_model_name": "DescriptionStyleModel",
       "_view_count": null,
       "_view_module": "@jupyter-widgets/base",
       "_view_module_version": "1.2.0",
       "_view_name": "StyleView",
       "description_width": ""
      }
     },
     "777f4a8ce0384844b1e82e497eb76f64": {
      "model_module": "@jupyter-widgets/base",
      "model_module_version": "1.2.0",
      "model_name": "LayoutModel",
      "state": {
       "_model_module": "@jupyter-widgets/base",
       "_model_module_version": "1.2.0",
       "_model_name": "LayoutModel",
       "_view_count": null,
       "_view_module": "@jupyter-widgets/base",
       "_view_module_version": "1.2.0",
       "_view_name": "LayoutView",
       "align_content": null,
       "align_items": null,
       "align_self": null,
       "border": null,
       "bottom": null,
       "display": null,
       "flex": null,
       "flex_flow": null,
       "grid_area": null,
       "grid_auto_columns": null,
       "grid_auto_flow": null,
       "grid_auto_rows": null,
       "grid_column": null,
       "grid_gap": null,
       "grid_row": null,
       "grid_template_areas": null,
       "grid_template_columns": null,
       "grid_template_rows": null,
       "height": null,
       "justify_content": null,
       "justify_items": null,
       "left": null,
       "margin": null,
       "max_height": null,
       "max_width": null,
       "min_height": null,
       "min_width": null,
       "object_fit": null,
       "object_position": null,
       "order": null,
       "overflow": null,
       "overflow_x": null,
       "overflow_y": null,
       "padding": null,
       "right": null,
       "top": null,
       "visibility": null,
       "width": "max-content"
      }
     },
     "7917f9e3100a407e815cf2a722dc1ae5": {
      "model_module": "@jupyter-widgets/base",
      "model_module_version": "1.2.0",
      "model_name": "LayoutModel",
      "state": {
       "_model_module": "@jupyter-widgets/base",
       "_model_module_version": "1.2.0",
       "_model_name": "LayoutModel",
       "_view_count": null,
       "_view_module": "@jupyter-widgets/base",
       "_view_module_version": "1.2.0",
       "_view_name": "LayoutView",
       "align_content": null,
       "align_items": null,
       "align_self": null,
       "border": null,
       "bottom": null,
       "display": null,
       "flex": null,
       "flex_flow": null,
       "grid_area": null,
       "grid_auto_columns": null,
       "grid_auto_flow": null,
       "grid_auto_rows": null,
       "grid_column": null,
       "grid_gap": null,
       "grid_row": null,
       "grid_template_areas": null,
       "grid_template_columns": null,
       "grid_template_rows": null,
       "height": null,
       "justify_content": null,
       "justify_items": null,
       "left": null,
       "margin": null,
       "max_height": null,
       "max_width": null,
       "min_height": null,
       "min_width": null,
       "object_fit": null,
       "object_position": null,
       "order": null,
       "overflow": null,
       "overflow_x": null,
       "overflow_y": null,
       "padding": null,
       "right": null,
       "top": null,
       "visibility": null,
       "width": "max-content"
      }
     },
     "7c0488ed76194460b2c961e57ad67bb3": {
      "model_module": "@jupyter-widgets/controls",
      "model_module_version": "1.5.0",
      "model_name": "DescriptionStyleModel",
      "state": {
       "_model_module": "@jupyter-widgets/controls",
       "_model_module_version": "1.5.0",
       "_model_name": "DescriptionStyleModel",
       "_view_count": null,
       "_view_module": "@jupyter-widgets/base",
       "_view_module_version": "1.2.0",
       "_view_name": "StyleView",
       "description_width": ""
      }
     },
     "7c3779767df341db86a705f6a4fce958": {
      "model_module": "@jupyter-widgets/base",
      "model_module_version": "1.2.0",
      "model_name": "LayoutModel",
      "state": {
       "_model_module": "@jupyter-widgets/base",
       "_model_module_version": "1.2.0",
       "_model_name": "LayoutModel",
       "_view_count": null,
       "_view_module": "@jupyter-widgets/base",
       "_view_module_version": "1.2.0",
       "_view_name": "LayoutView",
       "align_content": null,
       "align_items": null,
       "align_self": null,
       "border": null,
       "bottom": null,
       "display": null,
       "flex": null,
       "flex_flow": null,
       "grid_area": null,
       "grid_auto_columns": null,
       "grid_auto_flow": null,
       "grid_auto_rows": null,
       "grid_column": null,
       "grid_gap": null,
       "grid_row": null,
       "grid_template_areas": null,
       "grid_template_columns": null,
       "grid_template_rows": null,
       "height": null,
       "justify_content": null,
       "justify_items": null,
       "left": null,
       "margin": null,
       "max_height": null,
       "max_width": null,
       "min_height": null,
       "min_width": null,
       "object_fit": null,
       "object_position": null,
       "order": null,
       "overflow": null,
       "overflow_x": null,
       "overflow_y": null,
       "padding": null,
       "right": null,
       "top": null,
       "visibility": null,
       "width": "max-content"
      }
     },
     "7da2c8cb9034488ba1b5d41a80b07f58": {
      "model_module": "@jupyter-widgets/base",
      "model_module_version": "1.2.0",
      "model_name": "LayoutModel",
      "state": {
       "_model_module": "@jupyter-widgets/base",
       "_model_module_version": "1.2.0",
       "_model_name": "LayoutModel",
       "_view_count": null,
       "_view_module": "@jupyter-widgets/base",
       "_view_module_version": "1.2.0",
       "_view_name": "LayoutView",
       "align_content": null,
       "align_items": null,
       "align_self": null,
       "border": null,
       "bottom": null,
       "display": null,
       "flex": null,
       "flex_flow": null,
       "grid_area": null,
       "grid_auto_columns": null,
       "grid_auto_flow": null,
       "grid_auto_rows": null,
       "grid_column": null,
       "grid_gap": null,
       "grid_row": null,
       "grid_template_areas": null,
       "grid_template_columns": null,
       "grid_template_rows": null,
       "height": null,
       "justify_content": null,
       "justify_items": null,
       "left": null,
       "margin": null,
       "max_height": null,
       "max_width": null,
       "min_height": null,
       "min_width": null,
       "object_fit": null,
       "object_position": null,
       "order": null,
       "overflow": null,
       "overflow_x": null,
       "overflow_y": null,
       "padding": null,
       "right": null,
       "top": null,
       "visibility": null,
       "width": null
      }
     },
     "7e1b1d8fe00347198c5f884c5c12ee8d": {
      "model_module": "@jupyter-widgets/base",
      "model_module_version": "1.2.0",
      "model_name": "LayoutModel",
      "state": {
       "_model_module": "@jupyter-widgets/base",
       "_model_module_version": "1.2.0",
       "_model_name": "LayoutModel",
       "_view_count": null,
       "_view_module": "@jupyter-widgets/base",
       "_view_module_version": "1.2.0",
       "_view_name": "LayoutView",
       "align_content": null,
       "align_items": null,
       "align_self": null,
       "border": null,
       "bottom": null,
       "display": null,
       "flex": null,
       "flex_flow": null,
       "grid_area": null,
       "grid_auto_columns": null,
       "grid_auto_flow": null,
       "grid_auto_rows": null,
       "grid_column": null,
       "grid_gap": null,
       "grid_row": null,
       "grid_template_areas": null,
       "grid_template_columns": null,
       "grid_template_rows": null,
       "height": null,
       "justify_content": null,
       "justify_items": null,
       "left": null,
       "margin": null,
       "max_height": null,
       "max_width": null,
       "min_height": null,
       "min_width": null,
       "object_fit": null,
       "object_position": null,
       "order": null,
       "overflow": null,
       "overflow_x": null,
       "overflow_y": null,
       "padding": null,
       "right": null,
       "top": null,
       "visibility": null,
       "width": null
      }
     },
     "82c27831cacc4ae4b9e227780dcd9e56": {
      "model_module": "@jupyter-widgets/controls",
      "model_module_version": "1.5.0",
      "model_name": "DescriptionStyleModel",
      "state": {
       "_model_module": "@jupyter-widgets/controls",
       "_model_module_version": "1.5.0",
       "_model_name": "DescriptionStyleModel",
       "_view_count": null,
       "_view_module": "@jupyter-widgets/base",
       "_view_module_version": "1.2.0",
       "_view_name": "StyleView",
       "description_width": ""
      }
     },
     "84940a280c01456b86bb4cbd931317ca": {
      "model_module": "@jupyter-widgets/controls",
      "model_module_version": "1.5.0",
      "model_name": "DescriptionStyleModel",
      "state": {
       "_model_module": "@jupyter-widgets/controls",
       "_model_module_version": "1.5.0",
       "_model_name": "DescriptionStyleModel",
       "_view_count": null,
       "_view_module": "@jupyter-widgets/base",
       "_view_module_version": "1.2.0",
       "_view_name": "StyleView",
       "description_width": ""
      }
     },
     "92af953dedd245d8b1757aad34ddde33": {
      "model_module": "@jupyter-widgets/controls",
      "model_module_version": "1.5.0",
      "model_name": "DescriptionStyleModel",
      "state": {
       "_model_module": "@jupyter-widgets/controls",
       "_model_module_version": "1.5.0",
       "_model_name": "DescriptionStyleModel",
       "_view_count": null,
       "_view_module": "@jupyter-widgets/base",
       "_view_module_version": "1.2.0",
       "_view_name": "StyleView",
       "description_width": ""
      }
     },
     "9676eaef3d234d3f83d2f2bf1b66b539": {
      "model_module": "@jupyter-widgets/base",
      "model_module_version": "1.2.0",
      "model_name": "LayoutModel",
      "state": {
       "_model_module": "@jupyter-widgets/base",
       "_model_module_version": "1.2.0",
       "_model_name": "LayoutModel",
       "_view_count": null,
       "_view_module": "@jupyter-widgets/base",
       "_view_module_version": "1.2.0",
       "_view_name": "LayoutView",
       "align_content": null,
       "align_items": null,
       "align_self": null,
       "border": null,
       "bottom": null,
       "display": null,
       "flex": null,
       "flex_flow": null,
       "grid_area": null,
       "grid_auto_columns": null,
       "grid_auto_flow": null,
       "grid_auto_rows": null,
       "grid_column": null,
       "grid_gap": null,
       "grid_row": null,
       "grid_template_areas": null,
       "grid_template_columns": null,
       "grid_template_rows": null,
       "height": null,
       "justify_content": null,
       "justify_items": null,
       "left": null,
       "margin": null,
       "max_height": null,
       "max_width": null,
       "min_height": null,
       "min_width": null,
       "object_fit": null,
       "object_position": null,
       "order": null,
       "overflow": null,
       "overflow_x": null,
       "overflow_y": null,
       "padding": null,
       "right": null,
       "top": null,
       "visibility": null,
       "width": null
      }
     },
     "992f496097c74ea8a878a103156671e5": {
      "model_module": "@jupyter-widgets/controls",
      "model_module_version": "1.5.0",
      "model_name": "DescriptionStyleModel",
      "state": {
       "_model_module": "@jupyter-widgets/controls",
       "_model_module_version": "1.5.0",
       "_model_name": "DescriptionStyleModel",
       "_view_count": null,
       "_view_module": "@jupyter-widgets/base",
       "_view_module_version": "1.2.0",
       "_view_name": "StyleView",
       "description_width": ""
      }
     },
     "995f8b56eab3460595173ff8fc232cf7": {
      "model_module": "@jupyter-widgets/controls",
      "model_module_version": "1.5.0",
      "model_name": "LabelModel",
      "state": {
       "_dom_classes": [],
       "_model_module": "@jupyter-widgets/controls",
       "_model_module_version": "1.5.0",
       "_model_name": "LabelModel",
       "_view_count": null,
       "_view_module": "@jupyter-widgets/controls",
       "_view_module_version": "1.5.0",
       "_view_name": "LabelView",
       "description": "",
       "description_tooltip": null,
       "layout": "IPY_MODEL_7917f9e3100a407e815cf2a722dc1ae5",
       "placeholder": "​",
       "style": "IPY_MODEL_30ef832ec3d64994841b86d9ed2ef3d3",
       "value": "How many past days was your Physical Health not good?"
      }
     },
     "9ae51d6feaf2463aa9ada4418763beeb": {
      "model_module": "@jupyter-widgets/base",
      "model_module_version": "1.2.0",
      "model_name": "LayoutModel",
      "state": {
       "_model_module": "@jupyter-widgets/base",
       "_model_module_version": "1.2.0",
       "_model_name": "LayoutModel",
       "_view_count": null,
       "_view_module": "@jupyter-widgets/base",
       "_view_module_version": "1.2.0",
       "_view_name": "LayoutView",
       "align_content": null,
       "align_items": null,
       "align_self": null,
       "border": null,
       "bottom": null,
       "display": null,
       "flex": null,
       "flex_flow": null,
       "grid_area": null,
       "grid_auto_columns": null,
       "grid_auto_flow": null,
       "grid_auto_rows": null,
       "grid_column": null,
       "grid_gap": null,
       "grid_row": null,
       "grid_template_areas": null,
       "grid_template_columns": null,
       "grid_template_rows": null,
       "height": null,
       "justify_content": null,
       "justify_items": null,
       "left": null,
       "margin": null,
       "max_height": null,
       "max_width": null,
       "min_height": null,
       "min_width": null,
       "object_fit": null,
       "object_position": null,
       "order": null,
       "overflow": null,
       "overflow_x": null,
       "overflow_y": null,
       "padding": null,
       "right": null,
       "top": null,
       "visibility": null,
       "width": null
      }
     },
     "9bb3e60463e141e2948afdfe1282d49b": {
      "model_module": "@jupyter-widgets/controls",
      "model_module_version": "1.5.0",
      "model_name": "LabelModel",
      "state": {
       "_dom_classes": [],
       "_model_module": "@jupyter-widgets/controls",
       "_model_module_version": "1.5.0",
       "_model_name": "LabelModel",
       "_view_count": null,
       "_view_module": "@jupyter-widgets/controls",
       "_view_module_version": "1.5.0",
       "_view_name": "LabelView",
       "description": "",
       "description_tooltip": null,
       "layout": "IPY_MODEL_33e04d28faf94a3388029328b1f49781",
       "placeholder": "​",
       "style": "IPY_MODEL_c180f12c5aae45a0841070f49598765a",
       "value": "Eat Veggies 1 or more per day"
      }
     },
     "9c62d4ea3eca4d3fb54c4bc11f5a2701": {
      "model_module": "@jupyter-widgets/base",
      "model_module_version": "1.2.0",
      "model_name": "LayoutModel",
      "state": {
       "_model_module": "@jupyter-widgets/base",
       "_model_module_version": "1.2.0",
       "_model_name": "LayoutModel",
       "_view_count": null,
       "_view_module": "@jupyter-widgets/base",
       "_view_module_version": "1.2.0",
       "_view_name": "LayoutView",
       "align_content": null,
       "align_items": null,
       "align_self": null,
       "border": null,
       "bottom": null,
       "display": null,
       "flex": null,
       "flex_flow": null,
       "grid_area": null,
       "grid_auto_columns": null,
       "grid_auto_flow": null,
       "grid_auto_rows": null,
       "grid_column": null,
       "grid_gap": null,
       "grid_row": null,
       "grid_template_areas": null,
       "grid_template_columns": null,
       "grid_template_rows": null,
       "height": null,
       "justify_content": null,
       "justify_items": null,
       "left": null,
       "margin": null,
       "max_height": null,
       "max_width": null,
       "min_height": null,
       "min_width": null,
       "object_fit": null,
       "object_position": null,
       "order": null,
       "overflow": null,
       "overflow_x": null,
       "overflow_y": null,
       "padding": null,
       "right": null,
       "top": null,
       "visibility": null,
       "width": null
      }
     },
     "a2572de763494f478288d70dc35193c2": {
      "model_module": "@jupyter-widgets/controls",
      "model_module_version": "1.5.0",
      "model_name": "FloatSliderModel",
      "state": {
       "_dom_classes": [],
       "_model_module": "@jupyter-widgets/controls",
       "_model_module_version": "1.5.0",
       "_model_name": "FloatSliderModel",
       "_view_count": null,
       "_view_module": "@jupyter-widgets/controls",
       "_view_module_version": "1.5.0",
       "_view_name": "FloatSliderView",
       "continuous_update": true,
       "description": "",
       "description_tooltip": null,
       "disabled": false,
       "layout": "IPY_MODEL_9ae51d6feaf2463aa9ada4418763beeb",
       "max": 30,
       "min": 0,
       "orientation": "horizontal",
       "readout": true,
       "readout_format": ".2f",
       "step": 1,
       "style": "IPY_MODEL_1c066c5af00b4a0b9e6f2c51420b1bdf",
       "value": 0
      }
     },
     "a79a2190a9354838b846ffd233f32e2c": {
      "model_module": "@jupyter-widgets/controls",
      "model_module_version": "1.5.0",
      "model_name": "LabelModel",
      "state": {
       "_dom_classes": [],
       "_model_module": "@jupyter-widgets/controls",
       "_model_module_version": "1.5.0",
       "_model_name": "LabelModel",
       "_view_count": null,
       "_view_module": "@jupyter-widgets/controls",
       "_view_module_version": "1.5.0",
       "_view_name": "LabelView",
       "description": "",
       "description_tooltip": null,
       "layout": "IPY_MODEL_3290cbe488fb418aaa8275a7e53c008f",
       "placeholder": "​",
       "style": "IPY_MODEL_c4d9caca471a4534a31fb1c457421022",
       "value": "Body Mass Index:"
      }
     },
     "aab03077430a49fea8109601b3792c7c": {
      "model_module": "@jupyter-widgets/controls",
      "model_module_version": "1.5.0",
      "model_name": "RadioButtonsModel",
      "state": {
       "_dom_classes": [],
       "_model_module": "@jupyter-widgets/controls",
       "_model_module_version": "1.5.0",
       "_model_name": "RadioButtonsModel",
       "_options_labels": [
        "No",
        "Yes"
       ],
       "_view_count": null,
       "_view_module": "@jupyter-widgets/controls",
       "_view_module_version": "1.5.0",
       "_view_name": "RadioButtonsView",
       "description": "",
       "description_tooltip": null,
       "disabled": false,
       "index": 0,
       "layout": "IPY_MODEL_0222f4d2d1fb462e811409ac204f7381",
       "style": "IPY_MODEL_5db0a0c8a19f471c88f48c638055f055"
      }
     },
     "ae0c99493a604ab28754fc92faed68d9": {
      "model_module": "@jupyter-widgets/base",
      "model_module_version": "1.2.0",
      "model_name": "LayoutModel",
      "state": {
       "_model_module": "@jupyter-widgets/base",
       "_model_module_version": "1.2.0",
       "_model_name": "LayoutModel",
       "_view_count": null,
       "_view_module": "@jupyter-widgets/base",
       "_view_module_version": "1.2.0",
       "_view_name": "LayoutView",
       "align_content": null,
       "align_items": null,
       "align_self": null,
       "border": null,
       "bottom": null,
       "display": null,
       "flex": null,
       "flex_flow": null,
       "grid_area": null,
       "grid_auto_columns": null,
       "grid_auto_flow": null,
       "grid_auto_rows": null,
       "grid_column": null,
       "grid_gap": null,
       "grid_row": null,
       "grid_template_areas": null,
       "grid_template_columns": null,
       "grid_template_rows": null,
       "height": null,
       "justify_content": null,
       "justify_items": null,
       "left": null,
       "margin": null,
       "max_height": null,
       "max_width": null,
       "min_height": null,
       "min_width": null,
       "object_fit": null,
       "object_position": null,
       "order": null,
       "overflow": null,
       "overflow_x": null,
       "overflow_y": null,
       "padding": null,
       "right": null,
       "top": null,
       "visibility": null,
       "width": null
      }
     },
     "b19d475c699540a596889ed314c52651": {
      "model_module": "@jupyter-widgets/controls",
      "model_module_version": "1.5.0",
      "model_name": "LabelModel",
      "state": {
       "_dom_classes": [],
       "_model_module": "@jupyter-widgets/controls",
       "_model_module_version": "1.5.0",
       "_model_name": "LabelModel",
       "_view_count": null,
       "_view_module": "@jupyter-widgets/controls",
       "_view_module_version": "1.5.0",
       "_view_name": "LabelView",
       "description": "",
       "description_tooltip": null,
       "layout": "IPY_MODEL_d09e888a2cbb4db18ea3763c048d34e9",
       "placeholder": "​",
       "style": "IPY_MODEL_c2aecf8a0ead484d8e1023bf74a9e0fc",
       "value": "Age category (1 = 18-24, 13 = 80 or older; see table):"
      }
     },
     "b1d520c4b5fb4339bba8b0e28fb763fc": {
      "model_module": "@jupyter-widgets/base",
      "model_module_version": "1.2.0",
      "model_name": "LayoutModel",
      "state": {
       "_model_module": "@jupyter-widgets/base",
       "_model_module_version": "1.2.0",
       "_model_name": "LayoutModel",
       "_view_count": null,
       "_view_module": "@jupyter-widgets/base",
       "_view_module_version": "1.2.0",
       "_view_name": "LayoutView",
       "align_content": null,
       "align_items": null,
       "align_self": null,
       "border": null,
       "bottom": null,
       "display": null,
       "flex": null,
       "flex_flow": null,
       "grid_area": null,
       "grid_auto_columns": null,
       "grid_auto_flow": null,
       "grid_auto_rows": null,
       "grid_column": null,
       "grid_gap": null,
       "grid_row": null,
       "grid_template_areas": null,
       "grid_template_columns": null,
       "grid_template_rows": null,
       "height": null,
       "justify_content": null,
       "justify_items": null,
       "left": null,
       "margin": null,
       "max_height": null,
       "max_width": null,
       "min_height": null,
       "min_width": null,
       "object_fit": null,
       "object_position": null,
       "order": null,
       "overflow": null,
       "overflow_x": null,
       "overflow_y": null,
       "padding": null,
       "right": null,
       "top": null,
       "visibility": null,
       "width": null
      }
     },
     "b42509c5a17645c0af9e78d43d90017f": {
      "model_module": "@jupyter-widgets/base",
      "model_module_version": "1.2.0",
      "model_name": "LayoutModel",
      "state": {
       "_model_module": "@jupyter-widgets/base",
       "_model_module_version": "1.2.0",
       "_model_name": "LayoutModel",
       "_view_count": null,
       "_view_module": "@jupyter-widgets/base",
       "_view_module_version": "1.2.0",
       "_view_name": "LayoutView",
       "align_content": null,
       "align_items": null,
       "align_self": null,
       "border": null,
       "bottom": null,
       "display": null,
       "flex": null,
       "flex_flow": null,
       "grid_area": null,
       "grid_auto_columns": null,
       "grid_auto_flow": null,
       "grid_auto_rows": null,
       "grid_column": null,
       "grid_gap": null,
       "grid_row": null,
       "grid_template_areas": null,
       "grid_template_columns": null,
       "grid_template_rows": null,
       "height": null,
       "justify_content": null,
       "justify_items": null,
       "left": null,
       "margin": null,
       "max_height": null,
       "max_width": null,
       "min_height": null,
       "min_width": null,
       "object_fit": null,
       "object_position": null,
       "order": null,
       "overflow": null,
       "overflow_x": null,
       "overflow_y": null,
       "padding": null,
       "right": null,
       "top": null,
       "visibility": null,
       "width": "max-content"
      }
     },
     "b51b3c57c86d4cebb20c70f31682ad71": {
      "model_module": "@jupyter-widgets/controls",
      "model_module_version": "1.5.0",
      "model_name": "ButtonStyleModel",
      "state": {
       "_model_module": "@jupyter-widgets/controls",
       "_model_module_version": "1.5.0",
       "_model_name": "ButtonStyleModel",
       "_view_count": null,
       "_view_module": "@jupyter-widgets/base",
       "_view_module_version": "1.2.0",
       "_view_name": "StyleView",
       "button_color": null,
       "font_weight": ""
      }
     },
     "b564388035d54561addbab9fe01ad73f": {
      "model_module": "@jupyter-widgets/controls",
      "model_module_version": "1.5.0",
      "model_name": "DescriptionStyleModel",
      "state": {
       "_model_module": "@jupyter-widgets/controls",
       "_model_module_version": "1.5.0",
       "_model_name": "DescriptionStyleModel",
       "_view_count": null,
       "_view_module": "@jupyter-widgets/base",
       "_view_module_version": "1.2.0",
       "_view_name": "StyleView",
       "description_width": ""
      }
     },
     "b56901f891404c1a900a1320eb1ee28a": {
      "model_module": "@jupyter-widgets/controls",
      "model_module_version": "1.5.0",
      "model_name": "DescriptionStyleModel",
      "state": {
       "_model_module": "@jupyter-widgets/controls",
       "_model_module_version": "1.5.0",
       "_model_name": "DescriptionStyleModel",
       "_view_count": null,
       "_view_module": "@jupyter-widgets/base",
       "_view_module_version": "1.2.0",
       "_view_name": "StyleView",
       "description_width": ""
      }
     },
     "b8d6d607512e4f11a038cf106a5888ec": {
      "model_module": "@jupyter-widgets/controls",
      "model_module_version": "1.5.0",
      "model_name": "ButtonModel",
      "state": {
       "_dom_classes": [],
       "_model_module": "@jupyter-widgets/controls",
       "_model_module_version": "1.5.0",
       "_model_name": "ButtonModel",
       "_view_count": null,
       "_view_module": "@jupyter-widgets/controls",
       "_view_module_version": "1.5.0",
       "_view_name": "ButtonView",
       "button_style": "",
       "description": "Predict Patient Risk",
       "disabled": false,
       "icon": "",
       "layout": "IPY_MODEL_b1d520c4b5fb4339bba8b0e28fb763fc",
       "style": "IPY_MODEL_b51b3c57c86d4cebb20c70f31682ad71",
       "tooltip": ""
      }
     },
     "bb55c2ff249c4dd3b6038ea290f935c9": {
      "model_module": "@jupyter-widgets/base",
      "model_module_version": "1.2.0",
      "model_name": "LayoutModel",
      "state": {
       "_model_module": "@jupyter-widgets/base",
       "_model_module_version": "1.2.0",
       "_model_name": "LayoutModel",
       "_view_count": null,
       "_view_module": "@jupyter-widgets/base",
       "_view_module_version": "1.2.0",
       "_view_name": "LayoutView",
       "align_content": null,
       "align_items": null,
       "align_self": null,
       "border": null,
       "bottom": null,
       "display": null,
       "flex": null,
       "flex_flow": null,
       "grid_area": null,
       "grid_auto_columns": null,
       "grid_auto_flow": null,
       "grid_auto_rows": null,
       "grid_column": null,
       "grid_gap": null,
       "grid_row": null,
       "grid_template_areas": null,
       "grid_template_columns": null,
       "grid_template_rows": null,
       "height": null,
       "justify_content": null,
       "justify_items": null,
       "left": null,
       "margin": null,
       "max_height": null,
       "max_width": null,
       "min_height": null,
       "min_width": null,
       "object_fit": null,
       "object_position": null,
       "order": null,
       "overflow": null,
       "overflow_x": null,
       "overflow_y": null,
       "padding": null,
       "right": null,
       "top": null,
       "visibility": null,
       "width": "max-content"
      }
     },
     "bd5b5c8ff988426097affb9986a4fd3b": {
      "model_module": "@jupyter-widgets/controls",
      "model_module_version": "1.5.0",
      "model_name": "RadioButtonsModel",
      "state": {
       "_dom_classes": [],
       "_model_module": "@jupyter-widgets/controls",
       "_model_module_version": "1.5.0",
       "_model_name": "RadioButtonsModel",
       "_options_labels": [
        "No",
        "Yes"
       ],
       "_view_count": null,
       "_view_module": "@jupyter-widgets/controls",
       "_view_module_version": "1.5.0",
       "_view_name": "RadioButtonsView",
       "description": "",
       "description_tooltip": null,
       "disabled": false,
       "index": 0,
       "layout": "IPY_MODEL_5a7fe63fa1d449d996cb88f5e82fe0ba",
       "style": "IPY_MODEL_c074995d2e0a4935b212daaa18c0052c"
      }
     },
     "be2a4390d77147a1b3206e43075e4eb6": {
      "model_module": "@jupyter-widgets/controls",
      "model_module_version": "1.5.0",
      "model_name": "LabelModel",
      "state": {
       "_dom_classes": [],
       "_model_module": "@jupyter-widgets/controls",
       "_model_module_version": "1.5.0",
       "_model_name": "LabelModel",
       "_view_count": null,
       "_view_module": "@jupyter-widgets/controls",
       "_view_module_version": "1.5.0",
       "_view_name": "LabelView",
       "description": "",
       "description_tooltip": null,
       "layout": "IPY_MODEL_777f4a8ce0384844b1e82e497eb76f64",
       "placeholder": "​",
       "style": "IPY_MODEL_1d09856b80414beaa274b20dbba066bc",
       "value": "(Ever told) you had a Stroke?"
      }
     },
     "c074995d2e0a4935b212daaa18c0052c": {
      "model_module": "@jupyter-widgets/controls",
      "model_module_version": "1.5.0",
      "model_name": "DescriptionStyleModel",
      "state": {
       "_model_module": "@jupyter-widgets/controls",
       "_model_module_version": "1.5.0",
       "_model_name": "DescriptionStyleModel",
       "_view_count": null,
       "_view_module": "@jupyter-widgets/base",
       "_view_module_version": "1.2.0",
       "_view_name": "StyleView",
       "description_width": ""
      }
     },
     "c180f12c5aae45a0841070f49598765a": {
      "model_module": "@jupyter-widgets/controls",
      "model_module_version": "1.5.0",
      "model_name": "DescriptionStyleModel",
      "state": {
       "_model_module": "@jupyter-widgets/controls",
       "_model_module_version": "1.5.0",
       "_model_name": "DescriptionStyleModel",
       "_view_count": null,
       "_view_module": "@jupyter-widgets/base",
       "_view_module_version": "1.2.0",
       "_view_name": "StyleView",
       "description_width": ""
      }
     },
     "c2aecf8a0ead484d8e1023bf74a9e0fc": {
      "model_module": "@jupyter-widgets/controls",
      "model_module_version": "1.5.0",
      "model_name": "DescriptionStyleModel",
      "state": {
       "_model_module": "@jupyter-widgets/controls",
       "_model_module_version": "1.5.0",
       "_model_name": "DescriptionStyleModel",
       "_view_count": null,
       "_view_module": "@jupyter-widgets/base",
       "_view_module_version": "1.2.0",
       "_view_name": "StyleView",
       "description_width": ""
      }
     },
     "c4d9caca471a4534a31fb1c457421022": {
      "model_module": "@jupyter-widgets/controls",
      "model_module_version": "1.5.0",
      "model_name": "DescriptionStyleModel",
      "state": {
       "_model_module": "@jupyter-widgets/controls",
       "_model_module_version": "1.5.0",
       "_model_name": "DescriptionStyleModel",
       "_view_count": null,
       "_view_module": "@jupyter-widgets/base",
       "_view_module_version": "1.2.0",
       "_view_name": "StyleView",
       "description_width": ""
      }
     },
     "c588472a897642a8bd5e25cf4f32f5da": {
      "model_module": "@jupyter-widgets/base",
      "model_module_version": "1.2.0",
      "model_name": "LayoutModel",
      "state": {
       "_model_module": "@jupyter-widgets/base",
       "_model_module_version": "1.2.0",
       "_model_name": "LayoutModel",
       "_view_count": null,
       "_view_module": "@jupyter-widgets/base",
       "_view_module_version": "1.2.0",
       "_view_name": "LayoutView",
       "align_content": null,
       "align_items": null,
       "align_self": null,
       "border": null,
       "bottom": null,
       "display": null,
       "flex": null,
       "flex_flow": null,
       "grid_area": null,
       "grid_auto_columns": null,
       "grid_auto_flow": null,
       "grid_auto_rows": null,
       "grid_column": null,
       "grid_gap": null,
       "grid_row": null,
       "grid_template_areas": null,
       "grid_template_columns": null,
       "grid_template_rows": null,
       "height": null,
       "justify_content": null,
       "justify_items": null,
       "left": null,
       "margin": null,
       "max_height": null,
       "max_width": null,
       "min_height": null,
       "min_width": null,
       "object_fit": null,
       "object_position": null,
       "order": null,
       "overflow": null,
       "overflow_x": null,
       "overflow_y": null,
       "padding": null,
       "right": null,
       "top": null,
       "visibility": null,
       "width": null
      }
     },
     "c840e3fedcf24ecab98ffc77de0cf95b": {
      "model_module": "@jupyter-widgets/output",
      "model_module_version": "1.0.0",
      "model_name": "OutputModel",
      "state": {
       "_dom_classes": [],
       "_model_module": "@jupyter-widgets/output",
       "_model_module_version": "1.0.0",
       "_model_name": "OutputModel",
       "_view_count": null,
       "_view_module": "@jupyter-widgets/output",
       "_view_module_version": "1.0.0",
       "_view_name": "OutputView",
       "layout": "IPY_MODEL_7e1b1d8fe00347198c5f884c5c12ee8d",
       "msg_id": "",
       "outputs": []
      }
     },
     "d011c14e287943f885cfd2e4025e5d81": {
      "model_module": "@jupyter-widgets/controls",
      "model_module_version": "1.5.0",
      "model_name": "RadioButtonsModel",
      "state": {
       "_dom_classes": [],
       "_model_module": "@jupyter-widgets/controls",
       "_model_module_version": "1.5.0",
       "_model_name": "RadioButtonsModel",
       "_options_labels": [
        "No",
        "Yes"
       ],
       "_view_count": null,
       "_view_module": "@jupyter-widgets/controls",
       "_view_module_version": "1.5.0",
       "_view_name": "RadioButtonsView",
       "description": "",
       "description_tooltip": null,
       "disabled": false,
       "index": 0,
       "layout": "IPY_MODEL_ae0c99493a604ab28754fc92faed68d9",
       "style": "IPY_MODEL_3a34ebdc6e2842b6a6f60952dd2a61c2"
      }
     },
     "d025584570844334bd866d916f3f5bf2": {
      "model_module": "@jupyter-widgets/base",
      "model_module_version": "1.2.0",
      "model_name": "LayoutModel",
      "state": {
       "_model_module": "@jupyter-widgets/base",
       "_model_module_version": "1.2.0",
       "_model_name": "LayoutModel",
       "_view_count": null,
       "_view_module": "@jupyter-widgets/base",
       "_view_module_version": "1.2.0",
       "_view_name": "LayoutView",
       "align_content": null,
       "align_items": null,
       "align_self": null,
       "border": null,
       "bottom": null,
       "display": null,
       "flex": null,
       "flex_flow": null,
       "grid_area": null,
       "grid_auto_columns": null,
       "grid_auto_flow": null,
       "grid_auto_rows": null,
       "grid_column": null,
       "grid_gap": null,
       "grid_row": null,
       "grid_template_areas": null,
       "grid_template_columns": null,
       "grid_template_rows": null,
       "height": null,
       "justify_content": null,
       "justify_items": null,
       "left": null,
       "margin": null,
       "max_height": null,
       "max_width": null,
       "min_height": null,
       "min_width": null,
       "object_fit": null,
       "object_position": null,
       "order": null,
       "overflow": null,
       "overflow_x": null,
       "overflow_y": null,
       "padding": null,
       "right": null,
       "top": null,
       "visibility": null,
       "width": "max-content"
      }
     },
     "d091c3abfa1348d58fe10cbdc5a2cc8d": {
      "model_module": "@jupyter-widgets/controls",
      "model_module_version": "1.5.0",
      "model_name": "DescriptionStyleModel",
      "state": {
       "_model_module": "@jupyter-widgets/controls",
       "_model_module_version": "1.5.0",
       "_model_name": "DescriptionStyleModel",
       "_view_count": null,
       "_view_module": "@jupyter-widgets/base",
       "_view_module_version": "1.2.0",
       "_view_name": "StyleView",
       "description_width": ""
      }
     },
     "d09e888a2cbb4db18ea3763c048d34e9": {
      "model_module": "@jupyter-widgets/base",
      "model_module_version": "1.2.0",
      "model_name": "LayoutModel",
      "state": {
       "_model_module": "@jupyter-widgets/base",
       "_model_module_version": "1.2.0",
       "_model_name": "LayoutModel",
       "_view_count": null,
       "_view_module": "@jupyter-widgets/base",
       "_view_module_version": "1.2.0",
       "_view_name": "LayoutView",
       "align_content": null,
       "align_items": null,
       "align_self": null,
       "border": null,
       "bottom": null,
       "display": null,
       "flex": null,
       "flex_flow": null,
       "grid_area": null,
       "grid_auto_columns": null,
       "grid_auto_flow": null,
       "grid_auto_rows": null,
       "grid_column": null,
       "grid_gap": null,
       "grid_row": null,
       "grid_template_areas": null,
       "grid_template_columns": null,
       "grid_template_rows": null,
       "height": null,
       "justify_content": null,
       "justify_items": null,
       "left": null,
       "margin": null,
       "max_height": null,
       "max_width": null,
       "min_height": null,
       "min_width": null,
       "object_fit": null,
       "object_position": null,
       "order": null,
       "overflow": null,
       "overflow_x": null,
       "overflow_y": null,
       "padding": null,
       "right": null,
       "top": null,
       "visibility": null,
       "width": "max-content"
      }
     },
     "d4ed2e1829404b93a4b54e710f4bb5ec": {
      "model_module": "@jupyter-widgets/base",
      "model_module_version": "1.2.0",
      "model_name": "LayoutModel",
      "state": {
       "_model_module": "@jupyter-widgets/base",
       "_model_module_version": "1.2.0",
       "_model_name": "LayoutModel",
       "_view_count": null,
       "_view_module": "@jupyter-widgets/base",
       "_view_module_version": "1.2.0",
       "_view_name": "LayoutView",
       "align_content": null,
       "align_items": null,
       "align_self": null,
       "border": null,
       "bottom": null,
       "display": null,
       "flex": null,
       "flex_flow": null,
       "grid_area": null,
       "grid_auto_columns": null,
       "grid_auto_flow": null,
       "grid_auto_rows": null,
       "grid_column": null,
       "grid_gap": null,
       "grid_row": null,
       "grid_template_areas": null,
       "grid_template_columns": null,
       "grid_template_rows": null,
       "height": null,
       "justify_content": null,
       "justify_items": null,
       "left": null,
       "margin": null,
       "max_height": null,
       "max_width": null,
       "min_height": null,
       "min_width": null,
       "object_fit": null,
       "object_position": null,
       "order": null,
       "overflow": null,
       "overflow_x": null,
       "overflow_y": null,
       "padding": null,
       "right": null,
       "top": null,
       "visibility": null,
       "width": "max-content"
      }
     },
     "e76bafe3595047e7b7440fc8a1488356": {
      "model_module": "@jupyter-widgets/controls",
      "model_module_version": "1.5.0",
      "model_name": "RadioButtonsModel",
      "state": {
       "_dom_classes": [],
       "_model_module": "@jupyter-widgets/controls",
       "_model_module_version": "1.5.0",
       "_model_name": "RadioButtonsModel",
       "_options_labels": [
        "No",
        "Yes"
       ],
       "_view_count": null,
       "_view_module": "@jupyter-widgets/controls",
       "_view_module_version": "1.5.0",
       "_view_name": "RadioButtonsView",
       "description": "",
       "description_tooltip": null,
       "disabled": false,
       "index": 0,
       "layout": "IPY_MODEL_538a1aafbaf44e7e9d5306a207172d3a",
       "style": "IPY_MODEL_d091c3abfa1348d58fe10cbdc5a2cc8d"
      }
     },
     "ec6b82d0a9d04f23b24f6354a11f878b": {
      "model_module": "@jupyter-widgets/base",
      "model_module_version": "1.2.0",
      "model_name": "LayoutModel",
      "state": {
       "_model_module": "@jupyter-widgets/base",
       "_model_module_version": "1.2.0",
       "_model_name": "LayoutModel",
       "_view_count": null,
       "_view_module": "@jupyter-widgets/base",
       "_view_module_version": "1.2.0",
       "_view_name": "LayoutView",
       "align_content": null,
       "align_items": null,
       "align_self": null,
       "border": null,
       "bottom": null,
       "display": null,
       "flex": null,
       "flex_flow": null,
       "grid_area": null,
       "grid_auto_columns": null,
       "grid_auto_flow": null,
       "grid_auto_rows": null,
       "grid_column": null,
       "grid_gap": null,
       "grid_row": null,
       "grid_template_areas": null,
       "grid_template_columns": null,
       "grid_template_rows": null,
       "height": null,
       "justify_content": null,
       "justify_items": null,
       "left": null,
       "margin": null,
       "max_height": null,
       "max_width": null,
       "min_height": null,
       "min_width": null,
       "object_fit": null,
       "object_position": null,
       "order": null,
       "overflow": null,
       "overflow_x": null,
       "overflow_y": null,
       "padding": null,
       "right": null,
       "top": null,
       "visibility": null,
       "width": null
      }
     },
     "ecf779c54f2d414c9ffa7793a8a70145": {
      "model_module": "@jupyter-widgets/base",
      "model_module_version": "1.2.0",
      "model_name": "LayoutModel",
      "state": {
       "_model_module": "@jupyter-widgets/base",
       "_model_module_version": "1.2.0",
       "_model_name": "LayoutModel",
       "_view_count": null,
       "_view_module": "@jupyter-widgets/base",
       "_view_module_version": "1.2.0",
       "_view_name": "LayoutView",
       "align_content": null,
       "align_items": null,
       "align_self": null,
       "border": null,
       "bottom": null,
       "display": null,
       "flex": null,
       "flex_flow": null,
       "grid_area": null,
       "grid_auto_columns": null,
       "grid_auto_flow": null,
       "grid_auto_rows": null,
       "grid_column": null,
       "grid_gap": null,
       "grid_row": null,
       "grid_template_areas": null,
       "grid_template_columns": null,
       "grid_template_rows": null,
       "height": null,
       "justify_content": null,
       "justify_items": null,
       "left": null,
       "margin": null,
       "max_height": null,
       "max_width": null,
       "min_height": null,
       "min_width": null,
       "object_fit": null,
       "object_position": null,
       "order": null,
       "overflow": null,
       "overflow_x": null,
       "overflow_y": null,
       "padding": null,
       "right": null,
       "top": null,
       "visibility": null,
       "width": "max-content"
      }
     },
     "ee1f20bcb6974fbe8d6c5a60ecbb1eaf": {
      "model_module": "@jupyter-widgets/base",
      "model_module_version": "1.2.0",
      "model_name": "LayoutModel",
      "state": {
       "_model_module": "@jupyter-widgets/base",
       "_model_module_version": "1.2.0",
       "_model_name": "LayoutModel",
       "_view_count": null,
       "_view_module": "@jupyter-widgets/base",
       "_view_module_version": "1.2.0",
       "_view_name": "LayoutView",
       "align_content": null,
       "align_items": null,
       "align_self": null,
       "border": null,
       "bottom": null,
       "display": null,
       "flex": null,
       "flex_flow": null,
       "grid_area": null,
       "grid_auto_columns": null,
       "grid_auto_flow": null,
       "grid_auto_rows": null,
       "grid_column": null,
       "grid_gap": null,
       "grid_row": null,
       "grid_template_areas": null,
       "grid_template_columns": null,
       "grid_template_rows": null,
       "height": null,
       "justify_content": null,
       "justify_items": null,
       "left": null,
       "margin": null,
       "max_height": null,
       "max_width": null,
       "min_height": null,
       "min_width": null,
       "object_fit": null,
       "object_position": null,
       "order": null,
       "overflow": null,
       "overflow_x": null,
       "overflow_y": null,
       "padding": null,
       "right": null,
       "top": null,
       "visibility": null,
       "width": null
      }
     },
     "efce995deda7443e891fa6e8af010e00": {
      "model_module": "@jupyter-widgets/controls",
      "model_module_version": "1.5.0",
      "model_name": "DescriptionStyleModel",
      "state": {
       "_model_module": "@jupyter-widgets/controls",
       "_model_module_version": "1.5.0",
       "_model_name": "DescriptionStyleModel",
       "_view_count": null,
       "_view_module": "@jupyter-widgets/base",
       "_view_module_version": "1.2.0",
       "_view_name": "StyleView",
       "description_width": ""
      }
     },
     "f18de89d13d94cd3bd51ccaea3d10a4d": {
      "model_module": "@jupyter-widgets/base",
      "model_module_version": "1.2.0",
      "model_name": "LayoutModel",
      "state": {
       "_model_module": "@jupyter-widgets/base",
       "_model_module_version": "1.2.0",
       "_model_name": "LayoutModel",
       "_view_count": null,
       "_view_module": "@jupyter-widgets/base",
       "_view_module_version": "1.2.0",
       "_view_name": "LayoutView",
       "align_content": null,
       "align_items": null,
       "align_self": null,
       "border": null,
       "bottom": null,
       "display": null,
       "flex": null,
       "flex_flow": null,
       "grid_area": null,
       "grid_auto_columns": null,
       "grid_auto_flow": null,
       "grid_auto_rows": null,
       "grid_column": null,
       "grid_gap": null,
       "grid_row": null,
       "grid_template_areas": null,
       "grid_template_columns": null,
       "grid_template_rows": null,
       "height": null,
       "justify_content": null,
       "justify_items": null,
       "left": null,
       "margin": null,
       "max_height": null,
       "max_width": null,
       "min_height": null,
       "min_width": null,
       "object_fit": null,
       "object_position": null,
       "order": null,
       "overflow": null,
       "overflow_x": null,
       "overflow_y": null,
       "padding": null,
       "right": null,
       "top": null,
       "visibility": null,
       "width": "max-content"
      }
     },
     "f32e93bfcc284c37b4160275a0b08b7f": {
      "model_module": "@jupyter-widgets/controls",
      "model_module_version": "1.5.0",
      "model_name": "DescriptionStyleModel",
      "state": {
       "_model_module": "@jupyter-widgets/controls",
       "_model_module_version": "1.5.0",
       "_model_name": "DescriptionStyleModel",
       "_view_count": null,
       "_view_module": "@jupyter-widgets/base",
       "_view_module_version": "1.2.0",
       "_view_name": "StyleView",
       "description_width": ""
      }
     },
     "f36594c295b4447a8542a4f559eb78a4": {
      "model_module": "@jupyter-widgets/controls",
      "model_module_version": "1.5.0",
      "model_name": "LabelModel",
      "state": {
       "_dom_classes": [],
       "_model_module": "@jupyter-widgets/controls",
       "_model_module_version": "1.5.0",
       "_model_name": "LabelModel",
       "_view_count": null,
       "_view_module": "@jupyter-widgets/controls",
       "_view_module_version": "1.5.0",
       "_view_name": "LabelView",
       "description": "",
       "description_tooltip": null,
       "layout": "IPY_MODEL_ecf779c54f2d414c9ffa7793a8a70145",
       "placeholder": "​",
       "style": "IPY_MODEL_b56901f891404c1a900a1320eb1ee28a",
       "value": "Do you have Difficulty Walking or climbing stairs?"
      }
     },
     "f384b3b5856a4b708b6b8fa409eea239": {
      "model_module": "@jupyter-widgets/controls",
      "model_module_version": "1.5.0",
      "model_name": "SliderStyleModel",
      "state": {
       "_model_module": "@jupyter-widgets/controls",
       "_model_module_version": "1.5.0",
       "_model_name": "SliderStyleModel",
       "_view_count": null,
       "_view_module": "@jupyter-widgets/base",
       "_view_module_version": "1.2.0",
       "_view_name": "StyleView",
       "description_width": "",
       "handle_color": null
      }
     },
     "f4237acb773242349666ee5a66c9b932": {
      "model_module": "@jupyter-widgets/controls",
      "model_module_version": "1.5.0",
      "model_name": "LabelModel",
      "state": {
       "_dom_classes": [],
       "_model_module": "@jupyter-widgets/controls",
       "_model_module_version": "1.5.0",
       "_model_name": "LabelModel",
       "_view_count": null,
       "_view_module": "@jupyter-widgets/controls",
       "_view_module_version": "1.5.0",
       "_view_name": "LabelView",
       "description": "",
       "description_tooltip": null,
       "layout": "IPY_MODEL_b42509c5a17645c0af9e78d43d90017f",
       "placeholder": "​",
       "style": "IPY_MODEL_074a232aac864c589222c2cab5960ef6",
       "value": "Eat 1 Fruit or more per day"
      }
     },
     "f69306e2b1404d93967e8d1d099509a6": {
      "model_module": "@jupyter-widgets/controls",
      "model_module_version": "1.5.0",
      "model_name": "LabelModel",
      "state": {
       "_dom_classes": [],
       "_model_module": "@jupyter-widgets/controls",
       "_model_module_version": "1.5.0",
       "_model_name": "LabelModel",
       "_view_count": null,
       "_view_module": "@jupyter-widgets/controls",
       "_view_module_version": "1.5.0",
       "_view_name": "LabelView",
       "description": "",
       "description_tooltip": null,
       "layout": "IPY_MODEL_7c3779767df341db86a705f6a4fce958",
       "placeholder": "​",
       "style": "IPY_MODEL_2b40ec6be7b646d7b27d178fcd1bba60",
       "value": "Heavy drinkers (drinks <14 for men, <7 for women per week"
      }
     },
     "f7673360469b44dc936b5718fdf327b0": {
      "model_module": "@jupyter-widgets/base",
      "model_module_version": "1.2.0",
      "model_name": "LayoutModel",
      "state": {
       "_model_module": "@jupyter-widgets/base",
       "_model_module_version": "1.2.0",
       "_model_name": "LayoutModel",
       "_view_count": null,
       "_view_module": "@jupyter-widgets/base",
       "_view_module_version": "1.2.0",
       "_view_name": "LayoutView",
       "align_content": null,
       "align_items": null,
       "align_self": null,
       "border": null,
       "bottom": null,
       "display": null,
       "flex": null,
       "flex_flow": null,
       "grid_area": null,
       "grid_auto_columns": null,
       "grid_auto_flow": null,
       "grid_auto_rows": null,
       "grid_column": null,
       "grid_gap": null,
       "grid_row": null,
       "grid_template_areas": null,
       "grid_template_columns": null,
       "grid_template_rows": null,
       "height": null,
       "justify_content": null,
       "justify_items": null,
       "left": null,
       "margin": null,
       "max_height": null,
       "max_width": null,
       "min_height": null,
       "min_width": null,
       "object_fit": null,
       "object_position": null,
       "order": null,
       "overflow": null,
       "overflow_x": null,
       "overflow_y": null,
       "padding": null,
       "right": null,
       "top": null,
       "visibility": null,
       "width": null
      }
     },
     "f8b0065740964dd6a306c50311567c14": {
      "model_module": "@jupyter-widgets/controls",
      "model_module_version": "1.5.0",
      "model_name": "FloatSliderModel",
      "state": {
       "_dom_classes": [],
       "_model_module": "@jupyter-widgets/controls",
       "_model_module_version": "1.5.0",
       "_model_name": "FloatSliderModel",
       "_view_count": null,
       "_view_module": "@jupyter-widgets/controls",
       "_view_module_version": "1.5.0",
       "_view_name": "FloatSliderView",
       "continuous_update": true,
       "description": "",
       "description_tooltip": null,
       "disabled": false,
       "layout": "IPY_MODEL_f7673360469b44dc936b5718fdf327b0",
       "max": 13,
       "min": 1,
       "orientation": "horizontal",
       "readout": true,
       "readout_format": ".2f",
       "step": 1,
       "style": "IPY_MODEL_4f6c893967bb489ab2ace3fd7505c5e8",
       "value": 8
      }
     },
     "fd3ef8fb7aa646b196958d83c12e409a": {
      "model_module": "@jupyter-widgets/base",
      "model_module_version": "1.2.0",
      "model_name": "LayoutModel",
      "state": {
       "_model_module": "@jupyter-widgets/base",
       "_model_module_version": "1.2.0",
       "_model_name": "LayoutModel",
       "_view_count": null,
       "_view_module": "@jupyter-widgets/base",
       "_view_module_version": "1.2.0",
       "_view_name": "LayoutView",
       "align_content": null,
       "align_items": null,
       "align_self": null,
       "border": null,
       "bottom": null,
       "display": null,
       "flex": null,
       "flex_flow": null,
       "grid_area": null,
       "grid_auto_columns": null,
       "grid_auto_flow": null,
       "grid_auto_rows": null,
       "grid_column": null,
       "grid_gap": null,
       "grid_row": null,
       "grid_template_areas": null,
       "grid_template_columns": null,
       "grid_template_rows": null,
       "height": null,
       "justify_content": null,
       "justify_items": null,
       "left": null,
       "margin": null,
       "max_height": null,
       "max_width": null,
       "min_height": null,
       "min_width": null,
       "object_fit": null,
       "object_position": null,
       "order": null,
       "overflow": null,
       "overflow_x": null,
       "overflow_y": null,
       "padding": null,
       "right": null,
       "top": null,
       "visibility": null,
       "width": null
      }
     },
     "fdf61eeed3f3456fb59b24c552522443": {
      "model_module": "@jupyter-widgets/controls",
      "model_module_version": "1.5.0",
      "model_name": "DescriptionStyleModel",
      "state": {
       "_model_module": "@jupyter-widgets/controls",
       "_model_module_version": "1.5.0",
       "_model_name": "DescriptionStyleModel",
       "_view_count": null,
       "_view_module": "@jupyter-widgets/base",
       "_view_module_version": "1.2.0",
       "_view_name": "StyleView",
       "description_width": ""
      }
     }
    },
    "version_major": 2,
    "version_minor": 0
   }
  }
 },
 "nbformat": 4,
 "nbformat_minor": 5
}
