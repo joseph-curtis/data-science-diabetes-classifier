{
 "cells": [
  {
   "cell_type": "markdown",
   "id": "9e0c659e",
   "metadata": {
    "papermill": {
     "duration": 0.007531,
     "end_time": "2024-03-12T18:02:18.492429",
     "exception": false,
     "start_time": "2024-03-12T18:02:18.484898",
     "status": "completed"
    },
    "tags": []
   },
   "source": [
    "<a href=\"https://www.kaggle.com/code/josephcurtis/at-risk-diabetes-classifier\" target=\"_blank\"><img align=\"left\" alt=\"Kaggle\" title=\"Open in Kaggle\" width=\"167\" height=\"30\" src=\"https://kaggle.com/static/images/open-in-kaggle.svg\" /></a>"
   ]
  },
  {
   "cell_type": "markdown",
   "id": "497349f4",
   "metadata": {
    "papermill": {
     "duration": 0.006825,
     "end_time": "2024-03-12T18:02:18.506490",
     "exception": false,
     "start_time": "2024-03-12T18:02:18.499665",
     "status": "completed"
    },
    "tags": []
   },
   "source": [
    "# At-Risk Diabetes Classifier\n",
    "\n",
    "**Author:** Joseph Curtis\n",
    "\n",
    "# Overview\n",
    "\n",
    "This notebook presents the At-Risk Diabetes Classifier, a machine learning project aimed at identifying individuals at risk of diabetes based on a variety of health indicators. By analyzing a dataset with features such as BMI, age, smoking status, physical activity, and more, we develop and train a supervised model to predict the likelihood of diabetes.\n",
    "\n",
    "The project demonstrates:\n",
    "- Data preprocessing and cleaning techniques.\n",
    "- Exploratory data analysis (EDA) to understand the relationships within the data.\n",
    "- Feature selection and engineering to prepare the data for modeling.\n",
    "- Evaluation and comparison of different machine learning models, including Logistic Regression and Random Forest, to find the most effective predictor of diabetes risk.\n",
    "\n",
    "This work is part of an ongoing exploration into how data science can be applied to healthcare data to predict disease risk and support early intervention strategies.\n",
    "\n",
    "For more information, source code, and related resources, please visit the project's GitHub repository at [github.com/joseph-curtis](https://github.com/joseph-curtis/data-science-diabetes-classifier)\n",
    "\n",
    "- <a href=\"https://github.com/joseph-curtis/data-science-diabetes-classifier\" target=\"_blank\"><img align=\"left\" alt=\"Github\" title=\"Open in Github\" width=\"144\" height=\"42\" src=\"https://img.shields.io/badge/GitHub-372a4a?style=for-the-badge&logo=github&logoColor=white\" /></a>"
   ]
  },
  {
   "cell_type": "markdown",
   "id": "ff7e3c6b",
   "metadata": {
    "papermill": {
     "duration": 0.006719,
     "end_time": "2024-03-12T18:02:18.520185",
     "exception": false,
     "start_time": "2024-03-12T18:02:18.513466",
     "status": "completed"
    },
    "tags": []
   },
   "source": [
    "# Data Preparation and Initial Analysis\n",
    "\n",
    "Here we focus on preparing and analyzing health indicator data for diabetes from the years 2015 and 2021. The goal is to combine these datasets to form a comprehensive view of the data, which can later be used for machine learning modeling. The following steps are taken:\n",
    "\n",
    "1. Import Libraries\n",
    "2. Load the Data\n",
    "3. Combine the DataFrames\n",
    "4. Rename the column 'Diabetes_binary' for brevity"
   ]
  },
  {
   "cell_type": "code",
   "execution_count": 1,
   "id": "9a4b90af",
   "metadata": {
    "execution": {
     "iopub.execute_input": "2024-03-12T18:02:18.537159Z",
     "iopub.status.busy": "2024-03-12T18:02:18.536542Z",
     "iopub.status.idle": "2024-03-12T18:02:21.873588Z",
     "shell.execute_reply": "2024-03-12T18:02:21.871976Z"
    },
    "jupyter": {
     "source_hidden": true
    },
    "papermill": {
     "duration": 3.349278,
     "end_time": "2024-03-12T18:02:21.876451",
     "exception": false,
     "start_time": "2024-03-12T18:02:18.527173",
     "status": "completed"
    },
    "tags": []
   },
   "outputs": [
    {
     "data": {
      "text/plain": [
       "(   Diabetes  HighBP  HighChol  CholCheck   BMI  Smoker  Stroke  \\\n",
       " 0       0.0     1.0       0.0        1.0  26.0     0.0     0.0   \n",
       " 1       0.0     1.0       1.0        1.0  26.0     1.0     1.0   \n",
       " 2       0.0     0.0       0.0        1.0  26.0     0.0     0.0   \n",
       " 3       0.0     1.0       1.0        1.0  28.0     1.0     0.0   \n",
       " 4       0.0     0.0       0.0        1.0  29.0     1.0     0.0   \n",
       " \n",
       "    HeartDiseaseorAttack  PhysActivity  Fruits  ...  AnyHealthcare  \\\n",
       " 0                   0.0           1.0     0.0  ...            1.0   \n",
       " 1                   0.0           0.0     1.0  ...            1.0   \n",
       " 2                   0.0           1.0     1.0  ...            1.0   \n",
       " 3                   0.0           1.0     1.0  ...            1.0   \n",
       " 4                   0.0           1.0     1.0  ...            1.0   \n",
       " \n",
       "    NoDocbcCost  GenHlth  MentHlth  PhysHlth  DiffWalk  Sex   Age  Education  \\\n",
       " 0          0.0      3.0       5.0      30.0       0.0  1.0   4.0        6.0   \n",
       " 1          0.0      3.0       0.0       0.0       0.0  1.0  12.0        6.0   \n",
       " 2          0.0      1.0       0.0      10.0       0.0  1.0  13.0        6.0   \n",
       " 3          0.0      3.0       0.0       3.0       0.0  1.0  11.0        6.0   \n",
       " 4          0.0      2.0       0.0       0.0       0.0  0.0   8.0        5.0   \n",
       " \n",
       "    Income  \n",
       " 0     8.0  \n",
       " 1     8.0  \n",
       " 2     8.0  \n",
       " 3     8.0  \n",
       " 4     8.0  \n",
       " \n",
       " [5 rows x 22 columns],\n",
       " (137828, 22))"
      ]
     },
     "execution_count": 1,
     "metadata": {},
     "output_type": "execute_result"
    }
   ],
   "source": [
    "# import Libraries\n",
    "import matplotlib.pyplot as plt\n",
    "import numpy as np\n",
    "import pandas as pd\n",
    "import seaborn as sns\n",
    "from IPython.display import display\n",
    "from matplotlib import pyplot\n",
    "from pandas.plotting import scatter_matrix\n",
    "from sklearn import linear_model, metrics, model_selection\n",
    "from sklearn.ensemble import RandomForestClassifier\n",
    "from sklearn.linear_model import LogisticRegression\n",
    "from sklearn.metrics import (\n",
    "    ConfusionMatrixDisplay,\n",
    "    accuracy_score,\n",
    "    classification_report,\n",
    "    confusion_matrix,\n",
    ")\n",
    "from sklearn.model_selection import KFold, cross_val_score, train_test_split\n",
    "from sklearn.preprocessing import MinMaxScaler\n",
    "\n",
    "# file names and urls\n",
    "filepath_2015 = \"/kaggle/input/diabetes-health-indicators-dataset\\\n",
    "/diabetes_binary_5050split_health_indicators_BRFSS2015.csv\"\n",
    "filepath_2021 = \"/kaggle/input/d/julnazz/diabetes-health-indicators-dataset\\\n",
    "/diabetes_binary_5050split_health_indicators_BRFSS2021.csv\"\n",
    "df1 = pd.read_csv(filepath_2015)\n",
    "df2 = pd.read_csv(filepath_2021)\n",
    "\n",
    "# Combine the two DataFrames\n",
    "combined_df = pd.concat([df1, df2], axis=0).reset_index(drop=True)\n",
    "\n",
    "# Rename the 'Diabetes_binary' column to 'Diabetes'\n",
    "combined_df.rename(columns={\"Diabetes_binary\": \"Diabetes\"}, inplace=True)\n",
    "\n",
    "# Display the first few rows of the combined dataframe\n",
    "# and its shape to verify the combination\n",
    "combined_df_info = combined_df.head(), combined_df.shape\n",
    "\n",
    "combined_df_info  # output"
   ]
  },
  {
   "cell_type": "markdown",
   "id": "ebc329a6",
   "metadata": {
    "papermill": {
     "duration": 0.006781,
     "end_time": "2024-03-12T18:02:21.890850",
     "exception": false,
     "start_time": "2024-03-12T18:02:21.884069",
     "status": "completed"
    },
    "tags": []
   },
   "source": [
    "# Removing Features\n",
    "\n",
    "Here we remove features deemed irrelevant for modeling purposes. We specify a list of columns to be removed and then drop these columns from the combined DataFrame.\n",
    "\n",
    "We reverse the values of the \"General Health\" feature to make it more clear to the audience when graphed. This makes a value of 5 = \"excellent\" and value of 1 = \"poor\"."
   ]
  },
  {
   "cell_type": "code",
   "execution_count": 2,
   "id": "e73584a4",
   "metadata": {
    "execution": {
     "iopub.execute_input": "2024-03-12T18:02:21.908265Z",
     "iopub.status.busy": "2024-03-12T18:02:21.907903Z",
     "iopub.status.idle": "2024-03-12T18:02:21.940570Z",
     "shell.execute_reply": "2024-03-12T18:02:21.939519Z"
    },
    "papermill": {
     "duration": 0.044481,
     "end_time": "2024-03-12T18:02:21.942521",
     "exception": false,
     "start_time": "2024-03-12T18:02:21.898040",
     "status": "completed"
    },
    "tags": []
   },
   "outputs": [
    {
     "data": {
      "text/html": [
       "<div>\n",
       "<style scoped>\n",
       "    .dataframe tbody tr th:only-of-type {\n",
       "        vertical-align: middle;\n",
       "    }\n",
       "\n",
       "    .dataframe tbody tr th {\n",
       "        vertical-align: top;\n",
       "    }\n",
       "\n",
       "    .dataframe thead th {\n",
       "        text-align: right;\n",
       "    }\n",
       "</style>\n",
       "<table border=\"1\" class=\"dataframe\">\n",
       "  <thead>\n",
       "    <tr style=\"text-align: right;\">\n",
       "      <th></th>\n",
       "      <th>Diabetes</th>\n",
       "      <th>HighBP</th>\n",
       "      <th>HighChol</th>\n",
       "      <th>BMI</th>\n",
       "      <th>Smoker</th>\n",
       "      <th>Stroke</th>\n",
       "      <th>HeartDiseaseorAttack</th>\n",
       "      <th>PhysActivity</th>\n",
       "      <th>Fruits</th>\n",
       "      <th>Veggies</th>\n",
       "      <th>HvyAlcoholConsump</th>\n",
       "      <th>GenHlth</th>\n",
       "      <th>MentHlth</th>\n",
       "      <th>PhysHlth</th>\n",
       "      <th>DiffWalk</th>\n",
       "      <th>Sex</th>\n",
       "      <th>Age</th>\n",
       "    </tr>\n",
       "  </thead>\n",
       "  <tbody>\n",
       "    <tr>\n",
       "      <th>0</th>\n",
       "      <td>0.0</td>\n",
       "      <td>1.0</td>\n",
       "      <td>0.0</td>\n",
       "      <td>26.0</td>\n",
       "      <td>0.0</td>\n",
       "      <td>0.0</td>\n",
       "      <td>0.0</td>\n",
       "      <td>1.0</td>\n",
       "      <td>0.0</td>\n",
       "      <td>1.0</td>\n",
       "      <td>0.0</td>\n",
       "      <td>3.0</td>\n",
       "      <td>5.0</td>\n",
       "      <td>30.0</td>\n",
       "      <td>0.0</td>\n",
       "      <td>1.0</td>\n",
       "      <td>4.0</td>\n",
       "    </tr>\n",
       "    <tr>\n",
       "      <th>1</th>\n",
       "      <td>0.0</td>\n",
       "      <td>1.0</td>\n",
       "      <td>1.0</td>\n",
       "      <td>26.0</td>\n",
       "      <td>1.0</td>\n",
       "      <td>1.0</td>\n",
       "      <td>0.0</td>\n",
       "      <td>0.0</td>\n",
       "      <td>1.0</td>\n",
       "      <td>0.0</td>\n",
       "      <td>0.0</td>\n",
       "      <td>3.0</td>\n",
       "      <td>0.0</td>\n",
       "      <td>0.0</td>\n",
       "      <td>0.0</td>\n",
       "      <td>1.0</td>\n",
       "      <td>12.0</td>\n",
       "    </tr>\n",
       "    <tr>\n",
       "      <th>2</th>\n",
       "      <td>0.0</td>\n",
       "      <td>0.0</td>\n",
       "      <td>0.0</td>\n",
       "      <td>26.0</td>\n",
       "      <td>0.0</td>\n",
       "      <td>0.0</td>\n",
       "      <td>0.0</td>\n",
       "      <td>1.0</td>\n",
       "      <td>1.0</td>\n",
       "      <td>1.0</td>\n",
       "      <td>0.0</td>\n",
       "      <td>5.0</td>\n",
       "      <td>0.0</td>\n",
       "      <td>10.0</td>\n",
       "      <td>0.0</td>\n",
       "      <td>1.0</td>\n",
       "      <td>13.0</td>\n",
       "    </tr>\n",
       "    <tr>\n",
       "      <th>3</th>\n",
       "      <td>0.0</td>\n",
       "      <td>1.0</td>\n",
       "      <td>1.0</td>\n",
       "      <td>28.0</td>\n",
       "      <td>1.0</td>\n",
       "      <td>0.0</td>\n",
       "      <td>0.0</td>\n",
       "      <td>1.0</td>\n",
       "      <td>1.0</td>\n",
       "      <td>1.0</td>\n",
       "      <td>0.0</td>\n",
       "      <td>3.0</td>\n",
       "      <td>0.0</td>\n",
       "      <td>3.0</td>\n",
       "      <td>0.0</td>\n",
       "      <td>1.0</td>\n",
       "      <td>11.0</td>\n",
       "    </tr>\n",
       "    <tr>\n",
       "      <th>4</th>\n",
       "      <td>0.0</td>\n",
       "      <td>0.0</td>\n",
       "      <td>0.0</td>\n",
       "      <td>29.0</td>\n",
       "      <td>1.0</td>\n",
       "      <td>0.0</td>\n",
       "      <td>0.0</td>\n",
       "      <td>1.0</td>\n",
       "      <td>1.0</td>\n",
       "      <td>1.0</td>\n",
       "      <td>0.0</td>\n",
       "      <td>4.0</td>\n",
       "      <td>0.0</td>\n",
       "      <td>0.0</td>\n",
       "      <td>0.0</td>\n",
       "      <td>0.0</td>\n",
       "      <td>8.0</td>\n",
       "    </tr>\n",
       "  </tbody>\n",
       "</table>\n",
       "</div>"
      ],
      "text/plain": [
       "   Diabetes  HighBP  HighChol   BMI  Smoker  Stroke  HeartDiseaseorAttack  \\\n",
       "0       0.0     1.0       0.0  26.0     0.0     0.0                   0.0   \n",
       "1       0.0     1.0       1.0  26.0     1.0     1.0                   0.0   \n",
       "2       0.0     0.0       0.0  26.0     0.0     0.0                   0.0   \n",
       "3       0.0     1.0       1.0  28.0     1.0     0.0                   0.0   \n",
       "4       0.0     0.0       0.0  29.0     1.0     0.0                   0.0   \n",
       "\n",
       "   PhysActivity  Fruits  Veggies  HvyAlcoholConsump  GenHlth  MentHlth  \\\n",
       "0           1.0     0.0      1.0                0.0      3.0       5.0   \n",
       "1           0.0     1.0      0.0                0.0      3.0       0.0   \n",
       "2           1.0     1.0      1.0                0.0      5.0       0.0   \n",
       "3           1.0     1.0      1.0                0.0      3.0       0.0   \n",
       "4           1.0     1.0      1.0                0.0      4.0       0.0   \n",
       "\n",
       "   PhysHlth  DiffWalk  Sex   Age  \n",
       "0      30.0       0.0  1.0   4.0  \n",
       "1       0.0       0.0  1.0  12.0  \n",
       "2      10.0       0.0  1.0  13.0  \n",
       "3       3.0       0.0  1.0  11.0  \n",
       "4       0.0       0.0  0.0   8.0  "
      ]
     },
     "execution_count": 2,
     "metadata": {},
     "output_type": "execute_result"
    }
   ],
   "source": [
    "# Remove irrelevant features from the combined dataset\n",
    "columns_to_remove = [\"CholCheck\", \"AnyHealthcare\", \"NoDocbcCost\", \"Education\", \"Income\"]\n",
    "reduced_df = combined_df.drop(columns=columns_to_remove)\n",
    "\n",
    "# Reverse the values of 'GenHlth'\n",
    "reduced_df[\"GenHlth\"] = 6 - reduced_df[\"GenHlth\"]\n",
    "\n",
    "# Display the first few rows of the reduced dataframe to verify the removal\n",
    "reduced_df.head()"
   ]
  },
  {
   "cell_type": "markdown",
   "id": "ec01ee2b",
   "metadata": {
    "papermill": {
     "duration": 0.008222,
     "end_time": "2024-03-12T18:02:21.958642",
     "exception": false,
     "start_time": "2024-03-12T18:02:21.950420",
     "status": "completed"
    },
    "tags": []
   },
   "source": [
    "# Check for Missing Values\n",
    "\n",
    "Here we check for missing values in the combined dataset. Note there are *NO* missing values found."
   ]
  },
  {
   "cell_type": "code",
   "execution_count": 3,
   "id": "5cfb443f",
   "metadata": {
    "execution": {
     "iopub.execute_input": "2024-03-12T18:02:21.976889Z",
     "iopub.status.busy": "2024-03-12T18:02:21.976561Z",
     "iopub.status.idle": "2024-03-12T18:02:21.992036Z",
     "shell.execute_reply": "2024-03-12T18:02:21.990618Z"
    },
    "papermill": {
     "duration": 0.026613,
     "end_time": "2024-03-12T18:02:21.994088",
     "exception": false,
     "start_time": "2024-03-12T18:02:21.967475",
     "status": "completed"
    },
    "tags": []
   },
   "outputs": [
    {
     "data": {
      "text/plain": [
       "Diabetes                0\n",
       "HighBP                  0\n",
       "HighChol                0\n",
       "BMI                     0\n",
       "Smoker                  0\n",
       "Stroke                  0\n",
       "HeartDiseaseorAttack    0\n",
       "PhysActivity            0\n",
       "Fruits                  0\n",
       "Veggies                 0\n",
       "HvyAlcoholConsump       0\n",
       "GenHlth                 0\n",
       "MentHlth                0\n",
       "PhysHlth                0\n",
       "DiffWalk                0\n",
       "Sex                     0\n",
       "Age                     0\n",
       "dtype: int64"
      ]
     },
     "execution_count": 3,
     "metadata": {},
     "output_type": "execute_result"
    }
   ],
   "source": [
    "# Check for missing values in the reduced dataset\n",
    "missing_values = reduced_df.isnull().sum()\n",
    "\n",
    "missing_values  ## no missing values found"
   ]
  },
  {
   "cell_type": "markdown",
   "id": "2327497d",
   "metadata": {
    "papermill": {
     "duration": 0.007508,
     "end_time": "2024-03-12T18:02:22.009627",
     "exception": false,
     "start_time": "2024-03-12T18:02:22.002119",
     "status": "completed"
    },
    "tags": []
   },
   "source": [
    "# Data Type Optimization Analysis\n",
    "\n",
    "Here we perform a preliminary analysis aimed at optimizing data storage and processing efficiency by examining the range of values for selected features within the reduced dataset. Here we see that all numerical values are well within the range of an 8-bit integer (this dataset has no numbers with decimal values).\n",
    "\n",
    "We also calculate the memory used before we adjust the data types-- this is our baseline for memory usage."
   ]
  },
  {
   "cell_type": "code",
   "execution_count": 4,
   "id": "e2f2151b",
   "metadata": {
    "execution": {
     "iopub.execute_input": "2024-03-12T18:02:22.026803Z",
     "iopub.status.busy": "2024-03-12T18:02:22.026495Z",
     "iopub.status.idle": "2024-03-12T18:02:22.078987Z",
     "shell.execute_reply": "2024-03-12T18:02:22.078064Z"
    },
    "papermill": {
     "duration": 0.063533,
     "end_time": "2024-03-12T18:02:22.080744",
     "exception": false,
     "start_time": "2024-03-12T18:02:22.017211",
     "status": "completed"
    },
    "tags": []
   },
   "outputs": [
    {
     "data": {
      "text/html": [
       "<div>\n",
       "<style scoped>\n",
       "    .dataframe tbody tr th:only-of-type {\n",
       "        vertical-align: middle;\n",
       "    }\n",
       "\n",
       "    .dataframe tbody tr th {\n",
       "        vertical-align: top;\n",
       "    }\n",
       "\n",
       "    .dataframe thead th {\n",
       "        text-align: right;\n",
       "    }\n",
       "</style>\n",
       "<table border=\"1\" class=\"dataframe\">\n",
       "  <thead>\n",
       "    <tr style=\"text-align: right;\">\n",
       "      <th></th>\n",
       "      <th>BMI</th>\n",
       "      <th>GenHlth</th>\n",
       "      <th>MentHlth</th>\n",
       "      <th>PhysHlth</th>\n",
       "      <th>Age</th>\n",
       "    </tr>\n",
       "  </thead>\n",
       "  <tbody>\n",
       "    <tr>\n",
       "      <th>min</th>\n",
       "      <td>12.0</td>\n",
       "      <td>1.0</td>\n",
       "      <td>0.0</td>\n",
       "      <td>0.0</td>\n",
       "      <td>1.0</td>\n",
       "    </tr>\n",
       "    <tr>\n",
       "      <th>max</th>\n",
       "      <td>99.0</td>\n",
       "      <td>5.0</td>\n",
       "      <td>30.0</td>\n",
       "      <td>30.0</td>\n",
       "      <td>13.0</td>\n",
       "    </tr>\n",
       "  </tbody>\n",
       "</table>\n",
       "</div>"
      ],
      "text/plain": [
       "      BMI  GenHlth  MentHlth  PhysHlth   Age\n",
       "min  12.0      1.0       0.0       0.0   1.0\n",
       "max  99.0      5.0      30.0      30.0  13.0"
      ]
     },
     "execution_count": 4,
     "metadata": {},
     "output_type": "execute_result"
    }
   ],
   "source": [
    "# Check range of values of specified features to determine suitable data types\n",
    "features_to_optimize = [\"BMI\", \"GenHlth\", \"MentHlth\", \"PhysHlth\", \"Age\"]\n",
    "data_types_optimization = (\n",
    "    reduced_df[features_to_optimize].describe().loc[[\"min\", \"max\"]]\n",
    ")\n",
    "\n",
    "# Memory used before reducing data types\n",
    "memory_before = reduced_df.memory_usage(index=True).sum()\n",
    "\n",
    "data_types_optimization"
   ]
  },
  {
   "cell_type": "markdown",
   "id": "cd3946c9",
   "metadata": {
    "papermill": {
     "duration": 0.007292,
     "end_time": "2024-03-12T18:02:22.096122",
     "exception": false,
     "start_time": "2024-03-12T18:02:22.088830",
     "status": "completed"
    },
    "tags": []
   },
   "source": [
    "# Data Type Conversion for Efficiency\n",
    "\n",
    "We enhance the dataset's memory efficiency by converting specified binary columns to boolean data types. We print the memory usage before and after the operation to demonstrate the effectiveness of this optimization in reducing the dataset's memory consumption."
   ]
  },
  {
   "cell_type": "code",
   "execution_count": 5,
   "id": "58ff795e",
   "metadata": {
    "execution": {
     "iopub.execute_input": "2024-03-12T18:02:22.114038Z",
     "iopub.status.busy": "2024-03-12T18:02:22.113688Z",
     "iopub.status.idle": "2024-03-12T18:02:22.132012Z",
     "shell.execute_reply": "2024-03-12T18:02:22.130541Z"
    },
    "jupyter": {
     "source_hidden": true
    },
    "papermill": {
     "duration": 0.030113,
     "end_time": "2024-03-12T18:02:22.134102",
     "exception": false,
     "start_time": "2024-03-12T18:02:22.103989",
     "status": "completed"
    },
    "tags": []
   },
   "outputs": [
    {
     "name": "stdout",
     "output_type": "stream",
     "text": [
      "Dataframe memory used before: 18744736\n",
      "Dataframe memory used after:   2756688\n"
     ]
    }
   ],
   "source": [
    "# scale data types down to reduce memory footprint\n",
    "reduced_df[\"BMI\"] = reduced_df[\"BMI\"].astype(\"float32\")\n",
    "reduced_df[\"GenHlth\"] = reduced_df[\"GenHlth\"].astype(\"int8\")\n",
    "reduced_df[\"MentHlth\"] = reduced_df[\"MentHlth\"].astype(\"int8\")\n",
    "reduced_df[\"PhysHlth\"] = reduced_df[\"PhysHlth\"].astype(\"int8\")\n",
    "reduced_df[\"Age\"] = reduced_df[\"Age\"].astype(\"int8\")\n",
    "\n",
    "# convert 1/0 binary columns to boolean values\n",
    "binary_columns = [\n",
    "    \"Diabetes\",\n",
    "    \"HighBP\",\n",
    "    \"HighChol\",\n",
    "    \"Smoker\",\n",
    "    \"Stroke\",\n",
    "    \"HeartDiseaseorAttack\",\n",
    "    \"PhysActivity\",\n",
    "    \"Fruits\",\n",
    "    \"Veggies\",\n",
    "    \"HvyAlcoholConsump\",\n",
    "    \"DiffWalk\",\n",
    "    \"Sex\",\n",
    "]\n",
    "for column in binary_columns:\n",
    "    reduced_df[column] = reduced_df[column].astype(\"bool\")\n",
    "\n",
    "# memory size after data type reduction\n",
    "memory_after = reduced_df.memory_usage(index=True).sum()\n",
    "\n",
    "print(\"Dataframe memory used before:\", memory_before)\n",
    "print(\"Dataframe memory used after:  \", memory_after)"
   ]
  },
  {
   "cell_type": "markdown",
   "id": "aa04077d",
   "metadata": {
    "papermill": {
     "duration": 0.007498,
     "end_time": "2024-03-12T18:02:22.149602",
     "exception": false,
     "start_time": "2024-03-12T18:02:22.142104",
     "status": "completed"
    },
    "tags": []
   },
   "source": [
    "# Data Exploration\n",
    "\n",
    "Next we generate some visuals to explore some possible relationships in the data. We will look at Histograms and Scatterplots."
   ]
  },
  {
   "cell_type": "markdown",
   "id": "c92a02f1",
   "metadata": {
    "papermill": {
     "duration": 0.007432,
     "end_time": "2024-03-12T18:02:22.164894",
     "exception": false,
     "start_time": "2024-03-12T18:02:22.157462",
     "status": "completed"
    },
    "tags": []
   },
   "source": [
    "# Histogram Figure 1.a\n",
    "\n",
    "Here we generate a histogram that compares the distribution of general health ratings (GenHlth) between individuals with and without diabetes (Diabetes status) in the dataset. For each group, we display the frequency of respondents across five health rating categories, ranging from poor to excellent health, after these ratings have been reversed so that higher numbers indicate better health. The histogram for individuals without diabetes is shown in blue, while the histogram for those with diabetes is in orange, allowing for a visual comparison of how general health perceptions differ between these two groups. This visualization aids in understanding whether there's a noticeable difference in self-reported general health status among individuals based on their diabetes condition."
   ]
  },
  {
   "cell_type": "code",
   "execution_count": 6,
   "id": "79bba69a",
   "metadata": {
    "execution": {
     "iopub.execute_input": "2024-03-12T18:02:22.182676Z",
     "iopub.status.busy": "2024-03-12T18:02:22.181856Z",
     "iopub.status.idle": "2024-03-12T18:02:22.419608Z",
     "shell.execute_reply": "2024-03-12T18:02:22.418320Z"
    },
    "jupyter": {
     "source_hidden": true
    },
    "papermill": {
     "duration": 0.2491,
     "end_time": "2024-03-12T18:02:22.421773",
     "exception": false,
     "start_time": "2024-03-12T18:02:22.172673",
     "status": "completed"
    },
    "tags": []
   },
   "outputs": [
    {
     "data": {
      "image/png": "[encoded data removed]",
      "text/plain": [
       "<Figure size 640x480 with 1 Axes>"
      ]
     },
     "metadata": {},
     "output_type": "display_data"
    }
   ],
   "source": [
    "# Filter the dataset by Diabetes status\n",
    "gen_health_no_diabetes = reduced_df[reduced_df[\"Diabetes\"] == False][\"GenHlth\"]\n",
    "gen_health_with_diabetes = reduced_df[reduced_df[\"Diabetes\"] == True][\"GenHlth\"]\n",
    "\n",
    "# Plot histograms\n",
    "plt.hist(\n",
    "    gen_health_no_diabetes, bins=5, alpha=0.5, label=\"No Diabetes\", edgecolor=\"black\"\n",
    ")\n",
    "plt.hist(\n",
    "    gen_health_with_diabetes, bins=5, alpha=0.5, label=\"Diabetes\", edgecolor=\"black\"\n",
    ")\n",
    "\n",
    "# Add legend\n",
    "plt.legend()\n",
    "\n",
    "# Add titles and labels as needed\n",
    "plt.title(\"General Health by Diabetes Status\")\n",
    "plt.xlabel(\"General Health Rating\")\n",
    "plt.ylabel(\"Frequency\")\n",
    "\n",
    "# Set x-axis to display integer values from 1 to 5\n",
    "plt.xticks(range(1, 6))\n",
    "\n",
    "# Show the plot\n",
    "plt.show()"
   ]
  },
  {
   "cell_type": "markdown",
   "id": "33bd0258",
   "metadata": {
    "papermill": {
     "duration": 0.007776,
     "end_time": "2024-03-12T18:02:22.438053",
     "exception": false,
     "start_time": "2024-03-12T18:02:22.430277",
     "status": "completed"
    },
    "tags": []
   },
   "source": [
    "# Histogram Figure 1.b\n",
    "\n",
    "Analysis of physical health comparing diabetics to non-diabetics. "
   ]
  },
  {
   "cell_type": "code",
   "execution_count": 7,
   "id": "72075858",
   "metadata": {
    "execution": {
     "iopub.execute_input": "2024-03-12T18:02:22.456439Z",
     "iopub.status.busy": "2024-03-12T18:02:22.455886Z",
     "iopub.status.idle": "2024-03-12T18:02:22.664563Z",
     "shell.execute_reply": "2024-03-12T18:02:22.663567Z"
    },
    "jupyter": {
     "source_hidden": true
    },
    "papermill": {
     "duration": 0.220383,
     "end_time": "2024-03-12T18:02:22.666819",
     "exception": false,
     "start_time": "2024-03-12T18:02:22.446436",
     "status": "completed"
    },
    "tags": []
   },
   "outputs": [
    {
     "data": {
      "image/png": "[encoded data removed]",
      "text/plain": [
       "<Figure size 640x480 with 1 Axes>"
      ]
     },
     "metadata": {},
     "output_type": "display_data"
    }
   ],
   "source": [
    "# Filter the dataset by Diabetes status\n",
    "phys_health_no_diabetes = reduced_df[reduced_df[\"Diabetes\"] == False][\"PhysHlth\"]\n",
    "phys_health_with_diabetes = reduced_df[reduced_df[\"Diabetes\"] == True][\"PhysHlth\"]\n",
    "\n",
    "# Plot histograms\n",
    "plt.hist(\n",
    "    phys_health_no_diabetes, alpha=0.5, label=\"No Diabetes\", bins=6, edgecolor=\"black\"\n",
    ")\n",
    "plt.hist(\n",
    "    phys_health_with_diabetes, alpha=0.5, label=\"Diabetes\", bins=6, edgecolor=\"black\"\n",
    ")\n",
    "\n",
    "# Add legend\n",
    "plt.legend()\n",
    "\n",
    "# Add titles and labels as needed\n",
    "plt.title(\"Physical Health by Diabetes Status\")\n",
    "plt.xlabel(\"Poor Physical Health Days\")\n",
    "plt.ylabel(\"Frequency\")\n",
    "\n",
    "# Show the plot\n",
    "plt.show()"
   ]
  },
  {
   "cell_type": "markdown",
   "id": "ec82f304",
   "metadata": {
    "papermill": {
     "duration": 0.008148,
     "end_time": "2024-03-12T18:02:22.683544",
     "exception": false,
     "start_time": "2024-03-12T18:02:22.675396",
     "status": "completed"
    },
    "tags": []
   },
   "source": [
    "# Histogram Figure 1.c\n",
    "\n",
    "Analysis of mental health comparing diabetics to non-diabetics. "
   ]
  },
  {
   "cell_type": "code",
   "execution_count": 8,
   "id": "5055c91b",
   "metadata": {
    "execution": {
     "iopub.execute_input": "2024-03-12T18:02:22.702187Z",
     "iopub.status.busy": "2024-03-12T18:02:22.701764Z",
     "iopub.status.idle": "2024-03-12T18:02:22.912188Z",
     "shell.execute_reply": "2024-03-12T18:02:22.911487Z"
    },
    "jupyter": {
     "source_hidden": true
    },
    "papermill": {
     "duration": 0.221957,
     "end_time": "2024-03-12T18:02:22.914026",
     "exception": false,
     "start_time": "2024-03-12T18:02:22.692069",
     "status": "completed"
    },
    "tags": []
   },
   "outputs": [
    {
     "data": {
      "image/png": "[encoded data removed]",
      "text/plain": [
       "<Figure size 640x480 with 1 Axes>"
      ]
     },
     "metadata": {},
     "output_type": "display_data"
    }
   ],
   "source": [
    "# Filter the dataset by Diabetes status\n",
    "phys_health_no_diabetes = reduced_df[reduced_df[\"Diabetes\"] == False][\"MentHlth\"]\n",
    "phys_health_with_diabetes = reduced_df[reduced_df[\"Diabetes\"] == True][\"MentHlth\"]\n",
    "\n",
    "# Plot histograms\n",
    "plt.hist(\n",
    "    phys_health_no_diabetes, alpha=0.5, label=\"No Diabetes\", bins=6, edgecolor=\"black\"\n",
    ")\n",
    "plt.hist(\n",
    "    phys_health_with_diabetes, alpha=0.5, label=\"Diabetes\", bins=6, edgecolor=\"black\"\n",
    ")\n",
    "\n",
    "# Add legend\n",
    "plt.legend()\n",
    "\n",
    "# Add titles and labels as needed\n",
    "plt.title(\"Mental Health by Diabetes Status\")\n",
    "plt.xlabel(\"Poor Mental Health Days\")\n",
    "plt.ylabel(\"Frequency\")\n",
    "\n",
    "# Show the plot\n",
    "plt.show()"
   ]
  },
  {
   "cell_type": "markdown",
   "id": "6fb2b355",
   "metadata": {
    "papermill": {
     "duration": 0.008718,
     "end_time": "2024-03-12T18:02:22.931919",
     "exception": false,
     "start_time": "2024-03-12T18:02:22.923201",
     "status": "completed"
    },
    "tags": []
   },
   "source": [
    "# Histogram Figure 1.d\n",
    "\n",
    "## Age distribution\n",
    "\n",
    "Here we provide a visual distribution analysis of the Age feature. Of note, the data was collected using a 13-level age category where 1 = 18-24, 9 = 60-64, and 13 = 80 or older."
   ]
  },
  {
   "cell_type": "code",
   "execution_count": 9,
   "id": "be2c5ece",
   "metadata": {
    "execution": {
     "iopub.execute_input": "2024-03-12T18:02:22.951892Z",
     "iopub.status.busy": "2024-03-12T18:02:22.951305Z",
     "iopub.status.idle": "2024-03-12T18:02:23.187671Z",
     "shell.execute_reply": "2024-03-12T18:02:23.186093Z"
    },
    "jupyter": {
     "source_hidden": true
    },
    "papermill": {
     "duration": 0.249338,
     "end_time": "2024-03-12T18:02:23.190274",
     "exception": false,
     "start_time": "2024-03-12T18:02:22.940936",
     "status": "completed"
    },
    "tags": []
   },
   "outputs": [
    {
     "data": {
      "image/png": "[encoded data removed]",
      "text/plain": [
       "<Figure size 640x480 with 1 Axes>"
      ]
     },
     "metadata": {},
     "output_type": "display_data"
    }
   ],
   "source": [
    "# Plot Age histogram\n",
    "graph_histograms = reduced_df.hist(column=\"Age\", grid=True, bins=13)\n",
    "\n",
    "# Calculate the tick positions for 13 bins\n",
    "tick_positions = range(1, 14)\n",
    "\n",
    "# Set the x-axis ticks\n",
    "plt.xticks(tick_positions)\n",
    "\n",
    "# Optionally, set x-axis and y-axis labels\n",
    "plt.xlabel(\"Age Category\")\n",
    "plt.ylabel(\"Frequency\")\n",
    "\n",
    "# Show the plot\n",
    "plt.show()"
   ]
  },
  {
   "cell_type": "markdown",
   "id": "90317fd9",
   "metadata": {
    "papermill": {
     "duration": 0.008964,
     "end_time": "2024-03-12T18:02:23.208719",
     "exception": false,
     "start_time": "2024-03-12T18:02:23.199755",
     "status": "completed"
    },
    "tags": []
   },
   "source": [
    "# Scatterplot figure 2.a\n",
    "\n",
    "### BMI over Age\n",
    "\n",
    "Here we see that diabetics have a higher BMI on average."
   ]
  },
  {
   "cell_type": "code",
   "execution_count": 10,
   "id": "cd2a9871",
   "metadata": {
    "execution": {
     "iopub.execute_input": "2024-03-12T18:02:23.229546Z",
     "iopub.status.busy": "2024-03-12T18:02:23.229150Z",
     "iopub.status.idle": "2024-03-12T18:02:26.566640Z",
     "shell.execute_reply": "2024-03-12T18:02:26.565742Z"
    },
    "jupyter": {
     "source_hidden": true
    },
    "papermill": {
     "duration": 3.350135,
     "end_time": "2024-03-12T18:02:26.568407",
     "exception": false,
     "start_time": "2024-03-12T18:02:23.218272",
     "status": "completed"
    },
    "tags": []
   },
   "outputs": [
    {
     "data": {
      "text/plain": [
       "<seaborn.axisgrid.FacetGrid at 0x7cee0355ee60>"
      ]
     },
     "execution_count": 10,
     "metadata": {},
     "output_type": "execute_result"
    },
    {
     "data": {
      "image/png": "[encoded data removed]",
      "text/plain": [
       "<Figure size 1084.88x500 with 2 Axes>"
      ]
     },
     "metadata": {},
     "output_type": "display_data"
    }
   ],
   "source": [
    "# Copy the DataFrame to avoid modifying the original data\n",
    "plot_df = reduced_df.copy()\n",
    "\n",
    "# Map True/False to Male/Female\n",
    "plot_df[\"Sex\"] = plot_df[\"Sex\"].map({True: \"Male\", False: \"Female\"})\n",
    "\n",
    "# Age/BMI Scatterplot\n",
    "sns.lmplot(\n",
    "    data=plot_df,\n",
    "    x=\"Age\",\n",
    "    y=\"BMI\",\n",
    "    col=\"Sex\",\n",
    "    hue=\"Diabetes\",\n",
    "    x_bins=1000,\n",
    "    fit_reg=False,\n",
    ")"
   ]
  },
  {
   "cell_type": "markdown",
   "id": "b5a3734f",
   "metadata": {
    "papermill": {
     "duration": 0.009565,
     "end_time": "2024-03-12T18:02:26.587940",
     "exception": false,
     "start_time": "2024-03-12T18:02:26.578375",
     "status": "completed"
    },
    "tags": []
   },
   "source": [
    "# Scatterplot figure 2.b\n",
    "\n",
    "### General Health over Age\n",
    "\n",
    "The general health indicator is actually reversed; a score of 5 is poor, a score of 1 is excellent. Here we see that diabetics have poorer general health. We also see a trend in healthy people where the older one gets, the poorer their overall health. Diabetics do not show this trend."
   ]
  },
  {
   "cell_type": "code",
   "execution_count": 11,
   "id": "36206d83",
   "metadata": {
    "execution": {
     "iopub.execute_input": "2024-03-12T18:02:26.609007Z",
     "iopub.status.busy": "2024-03-12T18:02:26.608592Z",
     "iopub.status.idle": "2024-03-12T18:02:37.023390Z",
     "shell.execute_reply": "2024-03-12T18:02:37.021720Z"
    },
    "jupyter": {
     "source_hidden": true
    },
    "papermill": {
     "duration": 10.428597,
     "end_time": "2024-03-12T18:02:37.026090",
     "exception": false,
     "start_time": "2024-03-12T18:02:26.597493",
     "status": "completed"
    },
    "tags": []
   },
   "outputs": [
    {
     "data": {
      "text/plain": [
       "<seaborn.axisgrid.FacetGrid at 0x7cee032bc640>"
      ]
     },
     "execution_count": 11,
     "metadata": {},
     "output_type": "execute_result"
    },
    {
     "data": {
      "image/png": "[encoded data removed]",
      "text/plain": [
       "<Figure size 584.875x500 with 1 Axes>"
      ]
     },
     "metadata": {},
     "output_type": "display_data"
    }
   ],
   "source": [
    "# Age/General-Health Scatterplot\n",
    "sns.lmplot(data=reduced_df, x=\"Age\", y=\"GenHlth\", hue=\"Diabetes\", x_bins=1000)"
   ]
  },
  {
   "cell_type": "markdown",
   "id": "0086aeeb",
   "metadata": {
    "papermill": {
     "duration": 0.012256,
     "end_time": "2024-03-12T18:02:37.049030",
     "exception": false,
     "start_time": "2024-03-12T18:02:37.036774",
     "status": "completed"
    },
    "tags": []
   },
   "source": [
    "# Scatterplot figure 2.c\n",
    "\n",
    "### Physical Health as compared to Mental health\n",
    "\n",
    "Here we see a trend that the more days per month of poor mental health an individual has, the more days on average of physical health they will experience. Of note is diabetics have a similar distribution of poor mental health days, but significantly more days per month of poor physical health."
   ]
  },
  {
   "cell_type": "code",
   "execution_count": 12,
   "id": "6b8bbeb4",
   "metadata": {
    "execution": {
     "iopub.execute_input": "2024-03-12T18:02:37.073309Z",
     "iopub.status.busy": "2024-03-12T18:02:37.072886Z",
     "iopub.status.idle": "2024-03-12T18:02:47.850448Z",
     "shell.execute_reply": "2024-03-12T18:02:47.849675Z"
    },
    "jupyter": {
     "source_hidden": true
    },
    "papermill": {
     "duration": 10.791763,
     "end_time": "2024-03-12T18:02:47.852269",
     "exception": false,
     "start_time": "2024-03-12T18:02:37.060506",
     "status": "completed"
    },
    "tags": []
   },
   "outputs": [
    {
     "data": {
      "text/plain": [
       "<seaborn.axisgrid.FacetGrid at 0x7cee03208b50>"
      ]
     },
     "execution_count": 12,
     "metadata": {},
     "output_type": "execute_result"
    },
    {
     "data": {
      "image/png": "[encoded data removed]",
      "text/plain": [
       "<Figure size 584.875x500 with 1 Axes>"
      ]
     },
     "metadata": {},
     "output_type": "display_data"
    }
   ],
   "source": [
    "# Health Scatterplot\n",
    "sns.lmplot(data=reduced_df, x=\"MentHlth\", y=\"PhysHlth\", hue=\"Diabetes\", x_bins=1000)"
   ]
  },
  {
   "cell_type": "markdown",
   "id": "b80243c0",
   "metadata": {
    "papermill": {
     "duration": 0.011651,
     "end_time": "2024-03-12T18:02:47.875512",
     "exception": false,
     "start_time": "2024-03-12T18:02:47.863861",
     "status": "completed"
    },
    "tags": []
   },
   "source": [
    "# Logistic Regression Model for Diabetes Prediction\n",
    "\n",
    "Here we prepare data for machine learning, specifically using a logistic regression model to predict diabetes. First, numerical columns are identified and scaled using MinMaxScaler to ensure all features contribute equally to the model without bias from varying scales. A logistic regression model is then initialized with specific parameters. The dataset is split into features (X_log) and the target variable (y_log). The data is further divided into training and test sets to evaluate the model's performance on unseen data.\n",
    "\n",
    "After training the logistic regression model, predictions are made on the test set. The model's effectiveness is assessed using accuracy, confusion matrix, and classification report, providing a comprehensive overview of its predictive capabilities in distinguishing between diabetic and non-diabetic individuals."
   ]
  },
  {
   "cell_type": "code",
   "execution_count": 13,
   "id": "189100fa",
   "metadata": {
    "execution": {
     "iopub.execute_input": "2024-03-12T18:02:47.899755Z",
     "iopub.status.busy": "2024-03-12T18:02:47.899282Z",
     "iopub.status.idle": "2024-03-12T18:02:48.969892Z",
     "shell.execute_reply": "2024-03-12T18:02:48.967413Z"
    },
    "papermill": {
     "duration": 1.085523,
     "end_time": "2024-03-12T18:02:48.972372",
     "exception": false,
     "start_time": "2024-03-12T18:02:47.886849",
     "status": "completed"
    },
    "tags": []
   },
   "outputs": [
    {
     "name": "stdout",
     "output_type": "stream",
     "text": [
      "\n",
      "Logistic Regression (single) prediction results: \n",
      "\n",
      "Accuracy: 74.59 % \n",
      "\n",
      "Confusion Matrix:\n",
      "[[12558  4655]\n",
      " [ 4102 13142]] \n",
      "\n",
      "Classification Report:\n",
      "              precision    recall  f1-score   support\n",
      "\n",
      "       False       0.75      0.73      0.74     17213\n",
      "        True       0.74      0.76      0.75     17244\n",
      "\n",
      "    accuracy                           0.75     34457\n",
      "   macro avg       0.75      0.75      0.75     34457\n",
      "weighted avg       0.75      0.75      0.75     34457\n",
      "\n"
     ]
    }
   ],
   "source": [
    "# copy Dataframe for Logistic model\n",
    "log_df = reduced_df.copy(deep=True)\n",
    "\n",
    "# Selecting numerical columns (excluding binary/boolean columns)\n",
    "numerical_columns = [\"BMI\", \"GenHlth\", \"MentHlth\", \"PhysHlth\", \"Age\"]\n",
    "\n",
    "# Initialize the MinMaxScaler\n",
    "scaler = MinMaxScaler()\n",
    "\n",
    "# Fit and transform the numerical features\n",
    "log_df[numerical_columns] = scaler.fit_transform(log_df[numerical_columns])\n",
    "\n",
    "mylog_model = linear_model.LogisticRegression(solver=\"saga\", max_iter=1000)\n",
    "\n",
    "# 'X' is the feature set and 'y' is the target variable\n",
    "X_log = log_df.drop(\"Diabetes\", axis=1)\n",
    "y_log = log_df[\"Diabetes\"].astype(\"bool\")  # Ensuring the target is boolean\n",
    "\n",
    "# Splitting the dataset into the Training set and Test set\n",
    "X_log_train, X_log_test, y_log_train, y_log_test = model_selection.train_test_split(\n",
    "    X_log, y_log, test_size=0.25, random_state=42\n",
    ")\n",
    "\n",
    "# Train the model and output prediction of test data\n",
    "mylog_model.fit(X_log_train, y_log_train)\n",
    "y_pred_log = mylog_model.predict(X_log_test)\n",
    "\n",
    "# Evaluate the model\n",
    "accuracy_log = accuracy_score(y_log_test, y_pred_log)\n",
    "conf_matrix_log = confusion_matrix(y_log_test, y_pred_log)\n",
    "class_report_log = classification_report(y_log_test, y_pred_log)\n",
    "\n",
    "print(\"\\nLogistic Regression (single) prediction results:\", \"\\n\")\n",
    "print(f\"Accuracy: {round(accuracy_log*100,2)} %\", \"\\n\")\n",
    "print(\"Confusion Matrix:\")\n",
    "print(conf_matrix_log, \"\\n\")\n",
    "print(\"Classification Report:\")\n",
    "print(class_report_log)"
   ]
  },
  {
   "cell_type": "markdown",
   "id": "9f208e90",
   "metadata": {
    "papermill": {
     "duration": 0.013658,
     "end_time": "2024-03-12T18:02:49.000883",
     "exception": false,
     "start_time": "2024-03-12T18:02:48.987225",
     "status": "completed"
    },
    "tags": []
   },
   "source": [
    "# Random Forest Model for Comparison\n",
    "\n",
    "Here we set up a second model using the Random Forest algorithm to compare with our Logistic Regression model. The steps are much the same as before, however we do not need to scale the numerical data."
   ]
  },
  {
   "cell_type": "code",
   "execution_count": 14,
   "id": "19fa9e09",
   "metadata": {
    "execution": {
     "iopub.execute_input": "2024-03-12T18:02:49.025284Z",
     "iopub.status.busy": "2024-03-12T18:02:49.024927Z",
     "iopub.status.idle": "2024-03-12T18:03:04.202361Z",
     "shell.execute_reply": "2024-03-12T18:03:04.200732Z"
    },
    "papermill": {
     "duration": 15.192189,
     "end_time": "2024-03-12T18:03:04.204177",
     "exception": false,
     "start_time": "2024-03-12T18:02:49.011988",
     "status": "completed"
    },
    "tags": []
   },
   "outputs": [
    {
     "name": "stdout",
     "output_type": "stream",
     "text": [
      "\n",
      "Random Forest (single) prediction results: \n",
      "\n",
      "Accuracy: 72.13 % \n",
      "\n",
      "Confusion Matrix:\n",
      "[[11906  5307]\n",
      " [ 4297 12947]] \n",
      "\n",
      "Classification Report:\n",
      "              precision    recall  f1-score   support\n",
      "\n",
      "       False       0.73      0.69      0.71     17213\n",
      "        True       0.71      0.75      0.73     17244\n",
      "\n",
      "    accuracy                           0.72     34457\n",
      "   macro avg       0.72      0.72      0.72     34457\n",
      "weighted avg       0.72      0.72      0.72     34457\n",
      "\n"
     ]
    }
   ],
   "source": [
    "# 'X' is the set of features and 'y' is the target variable\n",
    "X_rf = reduced_df.drop(\"Diabetes\", axis=1)\n",
    "y_rf = reduced_df[\"Diabetes\"].astype(\"bool\")  # Ensuring the target is boolean\n",
    "\n",
    "# Splitting the dataset into the Training set and Test set\n",
    "X_rf_train, X_rf_test, y_rf_train, y_rf_test = train_test_split(\n",
    "    X_rf, y_rf, test_size=0.25, random_state=42\n",
    ")\n",
    "\n",
    "# Creating a Random Forest Classifier -- You can adjust parameters\n",
    "rf_classifier = RandomForestClassifier(n_estimators=100, random_state=42)\n",
    "\n",
    "# Fitting Random Forest to the Training set\n",
    "rf_classifier.fit(X_rf_train, y_rf_train)\n",
    "\n",
    "# Predicting the Test set results\n",
    "y_pred_rf = rf_classifier.predict(X_rf_test)\n",
    "\n",
    "accuracy_rf = accuracy_score(y_rf_test, y_pred_rf)\n",
    "conf_matrix_rf = confusion_matrix(y_rf_test, y_pred_rf)\n",
    "class_report_rf = classification_report(y_rf_test, y_pred_rf)\n",
    "\n",
    "# Evaluate the model\n",
    "print(\"\\nRandom Forest (single) prediction results:\", \"\\n\")\n",
    "print(f\"Accuracy: {round(accuracy_rf*100,2)} %\", \"\\n\")\n",
    "print(\"Confusion Matrix:\")\n",
    "print(conf_matrix_rf, \"\\n\")\n",
    "print(\"Classification Report:\")\n",
    "print(class_report_rf)"
   ]
  },
  {
   "cell_type": "markdown",
   "id": "95e95a82",
   "metadata": {
    "papermill": {
     "duration": 0.010809,
     "end_time": "2024-03-12T18:03:04.226328",
     "exception": false,
     "start_time": "2024-03-12T18:03:04.215519",
     "status": "completed"
    },
    "tags": []
   },
   "source": [
    "# Cross-Validation of Models\n",
    "\n",
    "Next we perform a cross-validation process on the logistic regression and Random Forest models to verify their reliability across different subsets of the dataset. By utilizing the KFold method with 5 splits and shuffling enabled, the dataset is divided into distinct subsets to conduct multiple training and testing cycles. The average of these scores is calculated and displayed, offering a robust measure of the model's overall performance. This approach helps to ensure that the model's predictive accuracy is not overly dependent on any particular partition of the data, thereby increasing confidence in its generalizability."
   ]
  },
  {
   "cell_type": "code",
   "execution_count": 15,
   "id": "49eed724",
   "metadata": {
    "execution": {
     "iopub.execute_input": "2024-03-12T18:03:04.252384Z",
     "iopub.status.busy": "2024-03-12T18:03:04.251006Z",
     "iopub.status.idle": "2024-03-12T18:04:28.206294Z",
     "shell.execute_reply": "2024-03-12T18:04:28.205179Z"
    },
    "jupyter": {
     "source_hidden": true
    },
    "papermill": {
     "duration": 83.979853,
     "end_time": "2024-03-12T18:04:28.218457",
     "exception": false,
     "start_time": "2024-03-12T18:03:04.238604",
     "status": "completed"
    },
    "tags": []
   },
   "outputs": [
    {
     "name": "stdout",
     "output_type": "stream",
     "text": [
      "Logistic Regression Average Prediction Score:  74.26 %\n",
      "Random Forest Average Prediction Score:  71.89 %\n"
     ]
    }
   ],
   "source": [
    "# Verify model by averaging different test/train splits\n",
    "k_folds = KFold(n_splits=5, shuffle=True)\n",
    "# The number of folds determines the test/train split for each iteration.\n",
    "# So 5 folds has 5 different mutually exclusive training sets.\n",
    "# That's a 1 to 4 (or .20 to .80) testing/training split for each of the 5 iterations.\n",
    "\n",
    "# This is the average score. Print 'scores' to see array of individual iteration scores.\n",
    "log_scores = cross_val_score(mylog_model, X_log, y_log)\n",
    "rf_scores = cross_val_score(rf_classifier, X_rf, y_rf)\n",
    "\n",
    "# Output average scores\n",
    "print(\n",
    "    \"Logistic Regression Average Prediction Score: \",\n",
    "    round(log_scores.mean() * 100, 2),\n",
    "    \"%\",\n",
    ")\n",
    "print(\"Random Forest Average Prediction Score: \", round(rf_scores.mean() * 100, 2), \"%\")"
   ]
  },
  {
   "cell_type": "markdown",
   "id": "ca705876",
   "metadata": {
    "papermill": {
     "duration": 0.010858,
     "end_time": "2024-03-12T18:04:28.240403",
     "exception": false,
     "start_time": "2024-03-12T18:04:28.229545",
     "status": "completed"
    },
    "tags": []
   },
   "source": [
    "# Confusion Matrix Visual\n",
    "\n",
    "Confusion matrixes are used to evaluate the performance in classifying diabetic and non-diabetic individuals. Here we look at the Logistic Regression model, because it proved to be more accurate. More importantly, it had less false-negative outcomes compared to the random forest model (4101 vs 4297)."
   ]
  },
  {
   "cell_type": "code",
   "execution_count": 16,
   "id": "6405a7af",
   "metadata": {
    "execution": {
     "iopub.execute_input": "2024-03-12T18:04:28.264083Z",
     "iopub.status.busy": "2024-03-12T18:04:28.263775Z",
     "iopub.status.idle": "2024-03-12T18:04:28.574285Z",
     "shell.execute_reply": "2024-03-12T18:04:28.573207Z"
    },
    "jupyter": {
     "source_hidden": true
    },
    "papermill": {
     "duration": 0.325315,
     "end_time": "2024-03-12T18:04:28.576795",
     "exception": false,
     "start_time": "2024-03-12T18:04:28.251480",
     "status": "completed"
    },
    "tags": []
   },
   "outputs": [
    {
     "data": {
      "image/png": "[encoded data removed]",
      "text/plain": [
       "<Figure size 640x480 with 2 Axes>"
      ]
     },
     "metadata": {},
     "output_type": "display_data"
    }
   ],
   "source": [
    "# Plot confusion matrix\n",
    "graph_confusion_matrix = ConfusionMatrixDisplay.from_predictions(y_log_test, y_pred_log)"
   ]
  },
  {
   "cell_type": "markdown",
   "id": "14d932e2",
   "metadata": {
    "papermill": {
     "duration": 0.011337,
     "end_time": "2024-03-12T18:04:28.599809",
     "exception": false,
     "start_time": "2024-03-12T18:04:28.588472",
     "status": "completed"
    },
    "tags": []
   },
   "source": [
    "# Patient Outcome Prediction\n",
    "\n",
    "This here is the objective of this project: to predict whether or not a patient is at risk of diabetes. The user enters the various health indicators, clicks the button and gets a prediction printed below."
   ]
  },
  {
   "cell_type": "code",
   "execution_count": 17,
   "id": "cfad50b6",
   "metadata": {
    "execution": {
     "iopub.execute_input": "2024-03-12T18:04:28.624625Z",
     "iopub.status.busy": "2024-03-12T18:04:28.624271Z",
     "iopub.status.idle": "2024-03-12T18:04:28.719149Z",
     "shell.execute_reply": "2024-03-12T18:04:28.718158Z"
    },
    "jupyter": {
     "source_hidden": true
    },
    "papermill": {
     "duration": 0.130892,
     "end_time": "2024-03-12T18:04:28.742672",
     "exception": false,
     "start_time": "2024-03-12T18:04:28.611780",
     "status": "completed"
    },
    "tags": []
   },
   "outputs": [
    {
     "data": {
      "application/vnd.jupyter.widget-view+json": {
       "model_id": "5ab4f1ace4ee428ba253887435cd11eb",
       "version_major": 2,
       "version_minor": 0
      },
      "text/plain": [
       "RadioButtons(description='Sex : ', options={'Female': 0, 'Male': 1}, value=0)"
      ]
     },
     "metadata": {},
     "output_type": "display_data"
    },
    {
     "data": {
      "application/vnd.jupyter.widget-view+json": {
       "model_id": "f2a9f1032332473c946f5609d8fd1ae1",
       "version_major": 2,
       "version_minor": 0
      },
      "text/plain": [
       "Label(value='Age category (1 = 18-24, 4 = 35-39, 8 = 55-59, 13 = 80 or older) :')"
      ]
     },
     "metadata": {},
     "output_type": "display_data"
    },
    {
     "data": {
      "application/vnd.jupyter.widget-view+json": {
       "model_id": "8137bb3fd0564a0284a7239eb2211c1e",
       "version_major": 2,
       "version_minor": 0
      },
      "text/plain": [
       "FloatSlider(value=8.0, max=13.0, min=1.0, step=1.0)"
      ]
     },
     "metadata": {},
     "output_type": "display_data"
    },
    {
     "data": {
      "application/vnd.jupyter.widget-view+json": {
       "model_id": "2748aec9b3904e569443d7e78f94b463",
       "version_major": 2,
       "version_minor": 0
      },
      "text/plain": [
       "Label(value='Body Mass Index :')"
      ]
     },
     "metadata": {},
     "output_type": "display_data"
    },
    {
     "data": {
      "application/vnd.jupyter.widget-view+json": {
       "model_id": "f8e4e8a7b96c41b3b766790333b517ad",
       "version_major": 2,
       "version_minor": 0
      },
      "text/plain": [
       "FloatSlider(value=20.0, max=50.0, min=10.0)"
      ]
     },
     "metadata": {},
     "output_type": "display_data"
    },
    {
     "data": {
      "application/vnd.jupyter.widget-view+json": {
       "model_id": "206341f4c48c4ffc986f9b1189e30d18",
       "version_major": 2,
       "version_minor": 0
      },
      "text/plain": [
       "RadioButtons(description='High Blood Pressure : ', options={'No': 0, 'Yes': 1}, value=0)"
      ]
     },
     "metadata": {},
     "output_type": "display_data"
    },
    {
     "data": {
      "application/vnd.jupyter.widget-view+json": {
       "model_id": "669edc4a00c949c78ec2bb792a8679a0",
       "version_major": 2,
       "version_minor": 0
      },
      "text/plain": [
       "RadioButtons(description='High Cholesterol : ', options={'No': 0, 'Yes': 1}, value=0)"
      ]
     },
     "metadata": {},
     "output_type": "display_data"
    },
    {
     "data": {
      "application/vnd.jupyter.widget-view+json": {
       "model_id": "b552f14d4e9046ff9e53f7224427b7c8",
       "version_major": 2,
       "version_minor": 0
      },
      "text/plain": [
       "RadioButtons(description='Have you smoked at least 100 cigarettes in your life? : ', options={'No': 0, 'Yes': …"
      ]
     },
     "metadata": {},
     "output_type": "display_data"
    },
    {
     "data": {
      "application/vnd.jupyter.widget-view+json": {
       "model_id": "b3d7822eb74546258040ab8ccdf4c1c0",
       "version_major": 2,
       "version_minor": 0
      },
      "text/plain": [
       "RadioButtons(description='Heavy drinkers (drinks <14 for men, <7 for women per week : ', options={'No': 0, 'Ye…"
      ]
     },
     "metadata": {},
     "output_type": "display_data"
    },
    {
     "data": {
      "application/vnd.jupyter.widget-view+json": {
       "model_id": "12ebd1361705412a97fc9b7de1e3c072",
       "version_major": 2,
       "version_minor": 0
      },
      "text/plain": [
       "RadioButtons(description='(Ever told) you had a Stroke? : ', options={'No': 0, 'Yes': 1}, value=0)"
      ]
     },
     "metadata": {},
     "output_type": "display_data"
    },
    {
     "data": {
      "application/vnd.jupyter.widget-view+json": {
       "model_id": "52b81be67d9d4c63bfa18ba493526e73",
       "version_major": 2,
       "version_minor": 0
      },
      "text/plain": [
       "RadioButtons(description='Heart Disease or Attack (CHD or MI) : ', options={'No': 0, 'Yes': 1}, value=0)"
      ]
     },
     "metadata": {},
     "output_type": "display_data"
    },
    {
     "data": {
      "application/vnd.jupyter.widget-view+json": {
       "model_id": "67d141a83802472b8652a53d884fd1e7",
       "version_major": 2,
       "version_minor": 0
      },
      "text/plain": [
       "Label(value='General Health scale :')"
      ]
     },
     "metadata": {},
     "output_type": "display_data"
    },
    {
     "data": {
      "application/vnd.jupyter.widget-view+json": {
       "model_id": "d3ec8b62f51a4ef9851f1c4ebf55b7c9",
       "version_major": 2,
       "version_minor": 0
      },
      "text/plain": [
       "FloatSlider(value=3.0, max=5.0, min=1.0, step=1.0)"
      ]
     },
     "metadata": {},
     "output_type": "display_data"
    },
    {
     "data": {
      "application/vnd.jupyter.widget-view+json": {
       "model_id": "c0a77bfa81494a91b2378f5fcfe9f7df",
       "version_major": 2,
       "version_minor": 0
      },
      "text/plain": [
       "Label(value='How many past days was your Mental Health not good?')"
      ]
     },
     "metadata": {},
     "output_type": "display_data"
    },
    {
     "data": {
      "application/vnd.jupyter.widget-view+json": {
       "model_id": "babebb487b664f1f98ba6ddf7043c9d3",
       "version_major": 2,
       "version_minor": 0
      },
      "text/plain": [
       "FloatSlider(value=0.0, max=30.0, step=1.0)"
      ]
     },
     "metadata": {},
     "output_type": "display_data"
    },
    {
     "data": {
      "application/vnd.jupyter.widget-view+json": {
       "model_id": "61b900f39c8345f2ae1a76f113b5c8d0",
       "version_major": 2,
       "version_minor": 0
      },
      "text/plain": [
       "Label(value='How many past days was your Physical Health not good?')"
      ]
     },
     "metadata": {},
     "output_type": "display_data"
    },
    {
     "data": {
      "application/vnd.jupyter.widget-view+json": {
       "model_id": "b2a390d8ee534a7ebd6ef794916d06b7",
       "version_major": 2,
       "version_minor": 0
      },
      "text/plain": [
       "FloatSlider(value=0.0, max=30.0, step=1.0)"
      ]
     },
     "metadata": {},
     "output_type": "display_data"
    },
    {
     "data": {
      "application/vnd.jupyter.widget-view+json": {
       "model_id": "d55e3bf0a726462c9468278935e82f7e",
       "version_major": 2,
       "version_minor": 0
      },
      "text/plain": [
       "RadioButtons(description='Do you have Difficulty Walking or climbing stairs? : ', options={'No': 0, 'Yes': 1},…"
      ]
     },
     "metadata": {},
     "output_type": "display_data"
    },
    {
     "data": {
      "application/vnd.jupyter.widget-view+json": {
       "model_id": "6fefa5e1a00e475cb6972d6e2a7e052a",
       "version_major": 2,
       "version_minor": 0
      },
      "text/plain": [
       "RadioButtons(description='Physical Activity in past 30 days, not incl job : ', options={'No': 0, 'Yes': 1}, va…"
      ]
     },
     "metadata": {},
     "output_type": "display_data"
    },
    {
     "data": {
      "application/vnd.jupyter.widget-view+json": {
       "model_id": "2dd6ca7848544af3833c1c40f4ec7d79",
       "version_major": 2,
       "version_minor": 0
      },
      "text/plain": [
       "RadioButtons(description='Eat 1 Fruit or more per day : ', options={'No': 0, 'Yes': 1}, value=0)"
      ]
     },
     "metadata": {},
     "output_type": "display_data"
    },
    {
     "data": {
      "application/vnd.jupyter.widget-view+json": {
       "model_id": "e1ea5ad4aa1543358407f7cc21272424",
       "version_major": 2,
       "version_minor": 0
      },
      "text/plain": [
       "RadioButtons(description='Eat Veggies 1 or more per day : ', options={'No': 0, 'Yes': 1}, value=0)"
      ]
     },
     "metadata": {},
     "output_type": "display_data"
    },
    {
     "data": {
      "application/vnd.jupyter.widget-view+json": {
       "model_id": "0938218c331b494a9253ab586d25eaa7",
       "version_major": 2,
       "version_minor": 0
      },
      "text/plain": [
       "Button(description='Predict Patient Risk', style=ButtonStyle())"
      ]
     },
     "metadata": {},
     "output_type": "display_data"
    },
    {
     "data": {
      "application/vnd.jupyter.widget-view+json": {
       "model_id": "9d3e8708031c4ac790e7bff0da40d3e6",
       "version_major": 2,
       "version_minor": 0
      },
      "text/plain": [
       "Output()"
      ]
     },
     "metadata": {},
     "output_type": "display_data"
    }
   ],
   "source": [
    "# USER INTERFACE: form for input for patient prediction\n",
    "import ipywidgets as widgets\n",
    "\n",
    "# Map string labels to numerical values\n",
    "yesno_options_dict = {\"No\": 0, \"Yes\": 1}\n",
    "mf_options_dict = {\"Female\": 0, \"Male\": 1}\n",
    "\n",
    "# 'features' is the list of features used by your model.\n",
    "features = [\n",
    "    \"HighBP\",\n",
    "    \"HighChol\",\n",
    "    \"BMI\",\n",
    "    \"Smoker\",\n",
    "    \"Stroke\",\n",
    "    \"HeartDiseaseorAttack\",\n",
    "    \"PhysActivity\",\n",
    "    \"Fruits\",\n",
    "    \"Veggies\",\n",
    "    \"HvyAlcoholConsump\",\n",
    "    \"GenHlth\",\n",
    "    \"MentHlth\",\n",
    "    \"PhysHlth\",\n",
    "    \"DiffWalk\",\n",
    "    \"Sex\",\n",
    "    \"Age\",\n",
    "]\n",
    "\n",
    "# 'widget_items' is a dictionary mapping feature to description\n",
    "widget_items = {\n",
    "    \"Sex\": \"Sex\",\n",
    "    \"Age_label\": \"Age category (1 = 18-24, 4 = 35-39, 8 = 55-59, 13 = 80 or older) :\",\n",
    "    \"Age\": \"\",\n",
    "    \"BMI_label\": \"Body Mass Index :\",\n",
    "    \"BMI\": \"\",\n",
    "    \"HighBP\": \"High Blood Pressure\",\n",
    "    \"HighChol\": \"High Cholesterol\",\n",
    "    \"Smoker\": \"Have you smoked at least 100 cigarettes in your life?\",\n",
    "    \"HvyAlcoholConsump\": \"Heavy drinkers (drinks <14 for men, <7 for women per week\",\n",
    "    \"Stroke\": \"(Ever told) you had a Stroke?\",\n",
    "    \"HeartDiseaseorAttack\": \"Heart Disease or Attack (CHD or MI)\",\n",
    "    \"GenHlth_label\": \"General Health scale :\",\n",
    "    \"GenHlth\": \"\",\n",
    "    \"MentHlth_label\": \"How many past days was your Mental Health not good?\",\n",
    "    \"MentHlth\": \"\",\n",
    "    \"PhysHlth_label\": \"How many past days was your Physical Health not good?\",\n",
    "    \"PhysHlth\": \"\",\n",
    "    \"DiffWalk\": \"Do you have Difficulty Walking or climbing stairs?\",\n",
    "    \"PhysActivity\": \"Physical Activity in past 30 days, not incl job\",\n",
    "    \"Fruits\": \"Eat 1 Fruit or more per day\",\n",
    "    \"Veggies\": \"Eat Veggies 1 or more per day\",\n",
    "}\n",
    "widgets_dict = {}\n",
    "\n",
    "# Create widgets for each feature\n",
    "for item in widget_items.keys():\n",
    "    if item in [\n",
    "        \"HighBP\",\n",
    "        \"HighChol\",\n",
    "        \"Smoker\",\n",
    "        \"Stroke\",\n",
    "        \"HeartDiseaseorAttack\",\n",
    "        \"PhysActivity\",\n",
    "        \"Fruits\",\n",
    "        \"Veggies\",\n",
    "        \"HvyAlcoholConsump\",\n",
    "        \"DiffWalk\",\n",
    "    ]:\n",
    "        # Binary features: create a dropdown with options 'Yes' and 'No'\n",
    "        widgets_dict[item] = widgets.RadioButtons(\n",
    "            options=yesno_options_dict,\n",
    "            value=0,\n",
    "            description=widget_items.get(item) + \" : \",\n",
    "        )\n",
    "    if item in [\"Sex\"]:\n",
    "        # Create a dropdown with options 'Male' and 'Female'\n",
    "        widgets_dict[item] = widgets.RadioButtons(\n",
    "            options=mf_options_dict,\n",
    "            value=0,\n",
    "            description=widget_items.get(item) + \" : \",\n",
    "        )\n",
    "    # Numerical features: create float sliders\n",
    "    if item in [\"BMI\"]:\n",
    "        widgets_dict[item] = widgets.FloatSlider(\n",
    "            value=20.0,\n",
    "            min=10,\n",
    "            max=50.0,\n",
    "            step=0.1,\n",
    "            description=widget_items.get(item),\n",
    "        )\n",
    "    if item in [\"GenHlth\"]:\n",
    "        widgets_dict[item] = widgets.FloatSlider(\n",
    "            value=3,\n",
    "            min=1,\n",
    "            max=5,\n",
    "            step=1,\n",
    "            description=widget_items.get(item),\n",
    "        )\n",
    "    if item in [\"MentHlth\", \"PhysHlth\"]:\n",
    "        widgets_dict[item] = widgets.FloatSlider(\n",
    "            value=0,\n",
    "            min=0,\n",
    "            max=30,\n",
    "            step=1,\n",
    "            description=widget_items.get(item),\n",
    "        )\n",
    "    if item in [\"Age\"]:\n",
    "        widgets_dict[item] = widgets.FloatSlider(\n",
    "            value=8,\n",
    "            min=1,\n",
    "            max=13,\n",
    "            step=1,\n",
    "            description=widget_items.get(item),\n",
    "        )\n",
    "    if item in [\n",
    "        \"Age_label\",\n",
    "        \"BMI_label\",\n",
    "        \"GenHlth_label\",\n",
    "        \"MentHlth_label\",\n",
    "        \"PhysHlth_label\",\n",
    "    ]:\n",
    "        widgets_dict[item] = widgets.Label(widget_items.get(item))\n",
    "\n",
    "# Button to make prediction\n",
    "predict_btn = widgets.Button(description=\"Predict Patient Risk\")\n",
    "\n",
    "# Output widget to display prediction result\n",
    "output = widgets.Output()\n",
    "\n",
    "\n",
    "def on_predict_btn_clicked(b):\n",
    "    # Prepare the input for the model\n",
    "    input_data = [widgets_dict[feature].value for feature in features]\n",
    "    input_data = np.array(input_data).reshape(1, -1)\n",
    "\n",
    "    # Create a DataFrame with input_data and assign column names using features\n",
    "    input_df = pd.DataFrame(input_data, columns=features)\n",
    "\n",
    "    # Ensure the DataFrame columns are in the correct order\n",
    "    input_df = input_df[X_log.columns]\n",
    "\n",
    "    # Apply the same scaling to the input as was done to the training data\n",
    "    input_df[numerical_columns] = scaler.transform(input_df[numerical_columns])\n",
    "\n",
    "    #### Make prediction ####\n",
    "    prediction = mylog_model.predict(input_df)\n",
    "\n",
    "    # Display prediction\n",
    "    with output:\n",
    "        output.clear_output()\n",
    "        if prediction[0] == 0:\n",
    "            print(\"Prediction: Not at risk of diabetes\")\n",
    "        else:\n",
    "            print(\"Prediction: At risk of diabetes\")\n",
    "\n",
    "\n",
    "predict_btn.on_click(on_predict_btn_clicked)\n",
    "\n",
    "# Display widgets\n",
    "for widget in widgets_dict.values():\n",
    "    display(widget)\n",
    "display(predict_btn, output)"
   ]
  }
 ],
 "metadata": {
  "kaggle": {
   "accelerator": "none",
   "dataSources": [
    {
     "datasetId": 1703281,
     "sourceId": 2789260,
     "sourceType": "datasetVersion"
    },
    {
     "datasetId": 4066291,
     "sourceId": 7062872,
     "sourceType": "datasetVersion"
    }
   ],
   "dockerImageVersionId": 30664,
   "isGpuEnabled": false,
   "isInternetEnabled": false,
   "language": "python",
   "sourceType": "notebook"
  },
  "kernelspec": {
   "display_name": "Python 3",
   "language": "python",
   "name": "python3"
  },
  "language_info": {
   "codemirror_mode": {
    "name": "ipython",
    "version": 3
   },
   "file_extension": ".py",
   "mimetype": "text/x-python",
   "name": "python",
   "nbconvert_exporter": "python",
   "pygments_lexer": "ipython3",
   "version": "3.10.13"
  },
  "papermill": {
   "default_parameters": {},
   "duration": 133.274058,
   "end_time": "2024-03-12T18:04:29.379715",
   "environment_variables": {},
   "exception": null,
   "input_path": "__notebook__.ipynb",
   "output_path": "__notebook__.ipynb",
   "parameters": {},
   "start_time": "2024-03-12T18:02:16.105657",
   "version": "2.5.0"
  },
  "widgets": {
   "application/vnd.jupyter.widget-state+json": {
    "state": {
     "007cb0b0ade94ffaa24367e3fa1ab5f9": {
      "model_module": "@jupyter-widgets/base",
      "model_module_version": "1.2.0",
      "model_name": "LayoutModel",
      "state": {
       "_model_module": "@jupyter-widgets/base",
       "_model_module_version": "1.2.0",
       "_model_name": "LayoutModel",
       "_view_count": null,
       "_view_module": "@jupyter-widgets/base",
       "_view_module_version": "1.2.0",
       "_view_name": "LayoutView",
       "align_content": null,
       "align_items": null,
       "align_self": null,
       "border": null,
       "bottom": null,
       "display": null,
       "flex": null,
       "flex_flow": null,
       "grid_area": null,
       "grid_auto_columns": null,
       "grid_auto_flow": null,
       "grid_auto_rows": null,
       "grid_column": null,
       "grid_gap": null,
       "grid_row": null,
       "grid_template_areas": null,
       "grid_template_columns": null,
       "grid_template_rows": null,
       "height": null,
       "justify_content": null,
       "justify_items": null,
       "left": null,
       "margin": null,
       "max_height": null,
       "max_width": null,
       "min_height": null,
       "min_width": null,
       "object_fit": null,
       "object_position": null,
       "order": null,
       "overflow": null,
       "overflow_x": null,
       "overflow_y": null,
       "padding": null,
       "right": null,
       "top": null,
       "visibility": null,
       "width": null
      }
     },
     "037a2806f5cb48e8b87ea68252f6bfe2": {
      "model_module": "@jupyter-widgets/controls",
      "model_module_version": "1.5.0",
      "model_name": "DescriptionStyleModel",
      "state": {
       "_model_module": "@jupyter-widgets/controls",
       "_model_module_version": "1.5.0",
       "_model_name": "DescriptionStyleModel",
       "_view_count": null,
       "_view_module": "@jupyter-widgets/base",
       "_view_module_version": "1.2.0",
       "_view_name": "StyleView",
       "description_width": ""
      }
     },
     "04d924cc5fba4a3888fe35f3fd711b4f": {
      "model_module": "@jupyter-widgets/controls",
      "model_module_version": "1.5.0",
      "model_name": "DescriptionStyleModel",
      "state": {
       "_model_module": "@jupyter-widgets/controls",
       "_model_module_version": "1.5.0",
       "_model_name": "DescriptionStyleModel",
       "_view_count": null,
       "_view_module": "@jupyter-widgets/base",
       "_view_module_version": "1.2.0",
       "_view_name": "StyleView",
       "description_width": ""
      }
     },
     "0938218c331b494a9253ab586d25eaa7": {
      "model_module": "@jupyter-widgets/controls",
      "model_module_version": "1.5.0",
      "model_name": "ButtonModel",
      "state": {
       "_dom_classes": [],
       "_model_module": "@jupyter-widgets/controls",
       "_model_module_version": "1.5.0",
       "_model_name": "ButtonModel",
       "_view_count": null,
       "_view_module": "@jupyter-widgets/controls",
       "_view_module_version": "1.5.0",
       "_view_name": "ButtonView",
       "button_style": "",
       "description": "Predict Patient Risk",
       "disabled": false,
       "icon": "",
       "layout": "IPY_MODEL_413f7886032a4679877acd811faf1602",
       "style": "IPY_MODEL_6052137cc2ee451e9211a132ebcc7824",
       "tooltip": ""
      }
     },
     "0a0893fc374e4c258c26622226dda2a4": {
      "model_module": "@jupyter-widgets/base",
      "model_module_version": "1.2.0",
      "model_name": "LayoutModel",
      "state": {
       "_model_module": "@jupyter-widgets/base",
       "_model_module_version": "1.2.0",
       "_model_name": "LayoutModel",
       "_view_count": null,
       "_view_module": "@jupyter-widgets/base",
       "_view_module_version": "1.2.0",
       "_view_name": "LayoutView",
       "align_content": null,
       "align_items": null,
       "align_self": null,
       "border": null,
       "bottom": null,
       "display": null,
       "flex": null,
       "flex_flow": null,
       "grid_area": null,
       "grid_auto_columns": null,
       "grid_auto_flow": null,
       "grid_auto_rows": null,
       "grid_column": null,
       "grid_gap": null,
       "grid_row": null,
       "grid_template_areas": null,
       "grid_template_columns": null,
       "grid_template_rows": null,
       "height": null,
       "justify_content": null,
       "justify_items": null,
       "left": null,
       "margin": null,
       "max_height": null,
       "max_width": null,
       "min_height": null,
       "min_width": null,
       "object_fit": null,
       "object_position": null,
       "order": null,
       "overflow": null,
       "overflow_x": null,
       "overflow_y": null,
       "padding": null,
       "right": null,
       "top": null,
       "visibility": null,
       "width": null
      }
     },
     "12ebd1361705412a97fc9b7de1e3c072": {
      "model_module": "@jupyter-widgets/controls",
      "model_module_version": "1.5.0",
      "model_name": "RadioButtonsModel",
      "state": {
       "_dom_classes": [],
       "_model_module": "@jupyter-widgets/controls",
       "_model_module_version": "1.5.0",
       "_model_name": "RadioButtonsModel",
       "_options_labels": [
        "No",
        "Yes"
       ],
       "_view_count": null,
       "_view_module": "@jupyter-widgets/controls",
       "_view_module_version": "1.5.0",
       "_view_name": "RadioButtonsView",
       "description": "(Ever told) you had a Stroke? : ",
       "description_tooltip": null,
       "disabled": false,
       "index": 0,
       "layout": "IPY_MODEL_94f96dfd19dc4493af392329723b7b23",
       "style": "IPY_MODEL_6eb55cb25c294f9d8a5e42fce7370b86"
      }
     },
     "133349ee75eb49c0b5d0248944a6e358": {
      "model_module": "@jupyter-widgets/controls",
      "model_module_version": "1.5.0",
      "model_name": "DescriptionStyleModel",
      "state": {
       "_model_module": "@jupyter-widgets/controls",
       "_model_module_version": "1.5.0",
       "_model_name": "DescriptionStyleModel",
       "_view_count": null,
       "_view_module": "@jupyter-widgets/base",
       "_view_module_version": "1.2.0",
       "_view_name": "StyleView",
       "description_width": ""
      }
     },
     "206341f4c48c4ffc986f9b1189e30d18": {
      "model_module": "@jupyter-widgets/controls",
      "model_module_version": "1.5.0",
      "model_name": "RadioButtonsModel",
      "state": {
       "_dom_classes": [],
       "_model_module": "@jupyter-widgets/controls",
       "_model_module_version": "1.5.0",
       "_model_name": "RadioButtonsModel",
       "_options_labels": [
        "No",
        "Yes"
       ],
       "_view_count": null,
       "_view_module": "@jupyter-widgets/controls",
       "_view_module_version": "1.5.0",
       "_view_name": "RadioButtonsView",
       "description": "High Blood Pressure : ",
       "description_tooltip": null,
       "disabled": false,
       "index": 0,
       "layout": "IPY_MODEL_9c3589f5ff5b4a6c937ab2afd1ed0327",
       "style": "IPY_MODEL_835f3b987fec4dea9d55ab3e1915b185"
      }
     },
     "23400a3b2ef84762b5ab0b574d4695d8": {
      "model_module": "@jupyter-widgets/controls",
      "model_module_version": "1.5.0",
      "model_name": "DescriptionStyleModel",
      "state": {
       "_model_module": "@jupyter-widgets/controls",
       "_model_module_version": "1.5.0",
       "_model_name": "DescriptionStyleModel",
       "_view_count": null,
       "_view_module": "@jupyter-widgets/base",
       "_view_module_version": "1.2.0",
       "_view_name": "StyleView",
       "description_width": ""
      }
     },
     "2354bc1e55134a82aac74147d60eee5a": {
      "model_module": "@jupyter-widgets/controls",
      "model_module_version": "1.5.0",
      "model_name": "DescriptionStyleModel",
      "state": {
       "_model_module": "@jupyter-widgets/controls",
       "_model_module_version": "1.5.0",
       "_model_name": "DescriptionStyleModel",
       "_view_count": null,
       "_view_module": "@jupyter-widgets/base",
       "_view_module_version": "1.2.0",
       "_view_name": "StyleView",
       "description_width": ""
      }
     },
     "24a92e9faccc4bb895c6e46bf9a3d055": {
      "model_module": "@jupyter-widgets/base",
      "model_module_version": "1.2.0",
      "model_name": "LayoutModel",
      "state": {
       "_model_module": "@jupyter-widgets/base",
       "_model_module_version": "1.2.0",
       "_model_name": "LayoutModel",
       "_view_count": null,
       "_view_module": "@jupyter-widgets/base",
       "_view_module_version": "1.2.0",
       "_view_name": "LayoutView",
       "align_content": null,
       "align_items": null,
       "align_self": null,
       "border": null,
       "bottom": null,
       "display": null,
       "flex": null,
       "flex_flow": null,
       "grid_area": null,
       "grid_auto_columns": null,
       "grid_auto_flow": null,
       "grid_auto_rows": null,
       "grid_column": null,
       "grid_gap": null,
       "grid_row": null,
       "grid_template_areas": null,
       "grid_template_columns": null,
       "grid_template_rows": null,
       "height": null,
       "justify_content": null,
       "justify_items": null,
       "left": null,
       "margin": null,
       "max_height": null,
       "max_width": null,
       "min_height": null,
       "min_width": null,
       "object_fit": null,
       "object_position": null,
       "order": null,
       "overflow": null,
       "overflow_x": null,
       "overflow_y": null,
       "padding": null,
       "right": null,
       "top": null,
       "visibility": null,
       "width": null
      }
     },
     "2748aec9b3904e569443d7e78f94b463": {
      "model_module": "@jupyter-widgets/controls",
      "model_module_version": "1.5.0",
      "model_name": "LabelModel",
      "state": {
       "_dom_classes": [],
       "_model_module": "@jupyter-widgets/controls",
       "_model_module_version": "1.5.0",
       "_model_name": "LabelModel",
       "_view_count": null,
       "_view_module": "@jupyter-widgets/controls",
       "_view_module_version": "1.5.0",
       "_view_name": "LabelView",
       "description": "",
       "description_tooltip": null,
       "layout": "IPY_MODEL_a354f29da20841418a4f1eda387bf29f",
       "placeholder": "​",
       "style": "IPY_MODEL_655f7e476d6a4e699f0d938064323245",
       "value": "Body Mass Index :"
      }
     },
     "2b84264de7d4435f8573103f4567d8a3": {
      "model_module": "@jupyter-widgets/base",
      "model_module_version": "1.2.0",
      "model_name": "LayoutModel",
      "state": {
       "_model_module": "@jupyter-widgets/base",
       "_model_module_version": "1.2.0",
       "_model_name": "LayoutModel",
       "_view_count": null,
       "_view_module": "@jupyter-widgets/base",
       "_view_module_version": "1.2.0",
       "_view_name": "LayoutView",
       "align_content": null,
       "align_items": null,
       "align_self": null,
       "border": null,
       "bottom": null,
       "display": null,
       "flex": null,
       "flex_flow": null,
       "grid_area": null,
       "grid_auto_columns": null,
       "grid_auto_flow": null,
       "grid_auto_rows": null,
       "grid_column": null,
       "grid_gap": null,
       "grid_row": null,
       "grid_template_areas": null,
       "grid_template_columns": null,
       "grid_template_rows": null,
       "height": null,
       "justify_content": null,
       "justify_items": null,
       "left": null,
       "margin": null,
       "max_height": null,
       "max_width": null,
       "min_height": null,
       "min_width": null,
       "object_fit": null,
       "object_position": null,
       "order": null,
       "overflow": null,
       "overflow_x": null,
       "overflow_y": null,
       "padding": null,
       "right": null,
       "top": null,
       "visibility": null,
       "width": null
      }
     },
     "2d580cc014c0460fa7c1a1d5b5cb80e4": {
      "model_module": "@jupyter-widgets/base",
      "model_module_version": "1.2.0",
      "model_name": "LayoutModel",
      "state": {
       "_model_module": "@jupyter-widgets/base",
       "_model_module_version": "1.2.0",
       "_model_name": "LayoutModel",
       "_view_count": null,
       "_view_module": "@jupyter-widgets/base",
       "_view_module_version": "1.2.0",
       "_view_name": "LayoutView",
       "align_content": null,
       "align_items": null,
       "align_self": null,
       "border": null,
       "bottom": null,
       "display": null,
       "flex": null,
       "flex_flow": null,
       "grid_area": null,
       "grid_auto_columns": null,
       "grid_auto_flow": null,
       "grid_auto_rows": null,
       "grid_column": null,
       "grid_gap": null,
       "grid_row": null,
       "grid_template_areas": null,
       "grid_template_columns": null,
       "grid_template_rows": null,
       "height": null,
       "justify_content": null,
       "justify_items": null,
       "left": null,
       "margin": null,
       "max_height": null,
       "max_width": null,
       "min_height": null,
       "min_width": null,
       "object_fit": null,
       "object_position": null,
       "order": null,
       "overflow": null,
       "overflow_x": null,
       "overflow_y": null,
       "padding": null,
       "right": null,
       "top": null,
       "visibility": null,
       "width": null
      }
     },
     "2dd6ca7848544af3833c1c40f4ec7d79": {
      "model_module": "@jupyter-widgets/controls",
      "model_module_version": "1.5.0",
      "model_name": "RadioButtonsModel",
      "state": {
       "_dom_classes": [],
       "_model_module": "@jupyter-widgets/controls",
       "_model_module_version": "1.5.0",
       "_model_name": "RadioButtonsModel",
       "_options_labels": [
        "No",
        "Yes"
       ],
       "_view_count": null,
       "_view_module": "@jupyter-widgets/controls",
       "_view_module_version": "1.5.0",
       "_view_name": "RadioButtonsView",
       "description": "Eat 1 Fruit or more per day : ",
       "description_tooltip": null,
       "disabled": false,
       "index": 0,
       "layout": "IPY_MODEL_007cb0b0ade94ffaa24367e3fa1ab5f9",
       "style": "IPY_MODEL_ec6e552da7ed4e6480b270f85efb4765"
      }
     },
     "2fc8426a674e4970b98028ed831f4603": {
      "model_module": "@jupyter-widgets/controls",
      "model_module_version": "1.5.0",
      "model_name": "DescriptionStyleModel",
      "state": {
       "_model_module": "@jupyter-widgets/controls",
       "_model_module_version": "1.5.0",
       "_model_name": "DescriptionStyleModel",
       "_view_count": null,
       "_view_module": "@jupyter-widgets/base",
       "_view_module_version": "1.2.0",
       "_view_name": "StyleView",
       "description_width": ""
      }
     },
     "30bfad017f0b4ba99a602e52cb2fdadb": {
      "model_module": "@jupyter-widgets/base",
      "model_module_version": "1.2.0",
      "model_name": "LayoutModel",
      "state": {
       "_model_module": "@jupyter-widgets/base",
       "_model_module_version": "1.2.0",
       "_model_name": "LayoutModel",
       "_view_count": null,
       "_view_module": "@jupyter-widgets/base",
       "_view_module_version": "1.2.0",
       "_view_name": "LayoutView",
       "align_content": null,
       "align_items": null,
       "align_self": null,
       "border": null,
       "bottom": null,
       "display": null,
       "flex": null,
       "flex_flow": null,
       "grid_area": null,
       "grid_auto_columns": null,
       "grid_auto_flow": null,
       "grid_auto_rows": null,
       "grid_column": null,
       "grid_gap": null,
       "grid_row": null,
       "grid_template_areas": null,
       "grid_template_columns": null,
       "grid_template_rows": null,
       "height": null,
       "justify_content": null,
       "justify_items": null,
       "left": null,
       "margin": null,
       "max_height": null,
       "max_width": null,
       "min_height": null,
       "min_width": null,
       "object_fit": null,
       "object_position": null,
       "order": null,
       "overflow": null,
       "overflow_x": null,
       "overflow_y": null,
       "padding": null,
       "right": null,
       "top": null,
       "visibility": null,
       "width": null
      }
     },
     "30e23a0e28444cbf96d54a4ade86c15c": {
      "model_module": "@jupyter-widgets/base",
      "model_module_version": "1.2.0",
      "model_name": "LayoutModel",
      "state": {
       "_model_module": "@jupyter-widgets/base",
       "_model_module_version": "1.2.0",
       "_model_name": "LayoutModel",
       "_view_count": null,
       "_view_module": "@jupyter-widgets/base",
       "_view_module_version": "1.2.0",
       "_view_name": "LayoutView",
       "align_content": null,
       "align_items": null,
       "align_self": null,
       "border": null,
       "bottom": null,
       "display": null,
       "flex": null,
       "flex_flow": null,
       "grid_area": null,
       "grid_auto_columns": null,
       "grid_auto_flow": null,
       "grid_auto_rows": null,
       "grid_column": null,
       "grid_gap": null,
       "grid_row": null,
       "grid_template_areas": null,
       "grid_template_columns": null,
       "grid_template_rows": null,
       "height": null,
       "justify_content": null,
       "justify_items": null,
       "left": null,
       "margin": null,
       "max_height": null,
       "max_width": null,
       "min_height": null,
       "min_width": null,
       "object_fit": null,
       "object_position": null,
       "order": null,
       "overflow": null,
       "overflow_x": null,
       "overflow_y": null,
       "padding": null,
       "right": null,
       "top": null,
       "visibility": null,
       "width": null
      }
     },
     "37ba5930d6d04c1a973c671e9ec8059e": {
      "model_module": "@jupyter-widgets/controls",
      "model_module_version": "1.5.0",
      "model_name": "DescriptionStyleModel",
      "state": {
       "_model_module": "@jupyter-widgets/controls",
       "_model_module_version": "1.5.0",
       "_model_name": "DescriptionStyleModel",
       "_view_count": null,
       "_view_module": "@jupyter-widgets/base",
       "_view_module_version": "1.2.0",
       "_view_name": "StyleView",
       "description_width": ""
      }
     },
     "413f7886032a4679877acd811faf1602": {
      "model_module": "@jupyter-widgets/base",
      "model_module_version": "1.2.0",
      "model_name": "LayoutModel",
      "state": {
       "_model_module": "@jupyter-widgets/base",
       "_model_module_version": "1.2.0",
       "_model_name": "LayoutModel",
       "_view_count": null,
       "_view_module": "@jupyter-widgets/base",
       "_view_module_version": "1.2.0",
       "_view_name": "LayoutView",
       "align_content": null,
       "align_items": null,
       "align_self": null,
       "border": null,
       "bottom": null,
       "display": null,
       "flex": null,
       "flex_flow": null,
       "grid_area": null,
       "grid_auto_columns": null,
       "grid_auto_flow": null,
       "grid_auto_rows": null,
       "grid_column": null,
       "grid_gap": null,
       "grid_row": null,
       "grid_template_areas": null,
       "grid_template_columns": null,
       "grid_template_rows": null,
       "height": null,
       "justify_content": null,
       "justify_items": null,
       "left": null,
       "margin": null,
       "max_height": null,
       "max_width": null,
       "min_height": null,
       "min_width": null,
       "object_fit": null,
       "object_position": null,
       "order": null,
       "overflow": null,
       "overflow_x": null,
       "overflow_y": null,
       "padding": null,
       "right": null,
       "top": null,
       "visibility": null,
       "width": null
      }
     },
     "4592adf33bda4929a669a47bd735f99c": {
      "model_module": "@jupyter-widgets/controls",
      "model_module_version": "1.5.0",
      "model_name": "DescriptionStyleModel",
      "state": {
       "_model_module": "@jupyter-widgets/controls",
       "_model_module_version": "1.5.0",
       "_model_name": "DescriptionStyleModel",
       "_view_count": null,
       "_view_module": "@jupyter-widgets/base",
       "_view_module_version": "1.2.0",
       "_view_name": "StyleView",
       "description_width": ""
      }
     },
     "484abb7961e5472db05ceecc4dbee32e": {
      "model_module": "@jupyter-widgets/base",
      "model_module_version": "1.2.0",
      "model_name": "LayoutModel",
      "state": {
       "_model_module": "@jupyter-widgets/base",
       "_model_module_version": "1.2.0",
       "_model_name": "LayoutModel",
       "_view_count": null,
       "_view_module": "@jupyter-widgets/base",
       "_view_module_version": "1.2.0",
       "_view_name": "LayoutView",
       "align_content": null,
       "align_items": null,
       "align_self": null,
       "border": null,
       "bottom": null,
       "display": null,
       "flex": null,
       "flex_flow": null,
       "grid_area": null,
       "grid_auto_columns": null,
       "grid_auto_flow": null,
       "grid_auto_rows": null,
       "grid_column": null,
       "grid_gap": null,
       "grid_row": null,
       "grid_template_areas": null,
       "grid_template_columns": null,
       "grid_template_rows": null,
       "height": null,
       "justify_content": null,
       "justify_items": null,
       "left": null,
       "margin": null,
       "max_height": null,
       "max_width": null,
       "min_height": null,
       "min_width": null,
       "object_fit": null,
       "object_position": null,
       "order": null,
       "overflow": null,
       "overflow_x": null,
       "overflow_y": null,
       "padding": null,
       "right": null,
       "top": null,
       "visibility": null,
       "width": null
      }
     },
     "52b81be67d9d4c63bfa18ba493526e73": {
      "model_module": "@jupyter-widgets/controls",
      "model_module_version": "1.5.0",
      "model_name": "RadioButtonsModel",
      "state": {
       "_dom_classes": [],
       "_model_module": "@jupyter-widgets/controls",
       "_model_module_version": "1.5.0",
       "_model_name": "RadioButtonsModel",
       "_options_labels": [
        "No",
        "Yes"
       ],
       "_view_count": null,
       "_view_module": "@jupyter-widgets/controls",
       "_view_module_version": "1.5.0",
       "_view_name": "RadioButtonsView",
       "description": "Heart Disease or Attack (CHD or MI) : ",
       "description_tooltip": null,
       "disabled": false,
       "index": 0,
       "layout": "IPY_MODEL_24a92e9faccc4bb895c6e46bf9a3d055",
       "style": "IPY_MODEL_037a2806f5cb48e8b87ea68252f6bfe2"
      }
     },
     "584eb96d676c4916ad101f2a619d5ba8": {
      "model_module": "@jupyter-widgets/base",
      "model_module_version": "1.2.0",
      "model_name": "LayoutModel",
      "state": {
       "_model_module": "@jupyter-widgets/base",
       "_model_module_version": "1.2.0",
       "_model_name": "LayoutModel",
       "_view_count": null,
       "_view_module": "@jupyter-widgets/base",
       "_view_module_version": "1.2.0",
       "_view_name": "LayoutView",
       "align_content": null,
       "align_items": null,
       "align_self": null,
       "border": null,
       "bottom": null,
       "display": null,
       "flex": null,
       "flex_flow": null,
       "grid_area": null,
       "grid_auto_columns": null,
       "grid_auto_flow": null,
       "grid_auto_rows": null,
       "grid_column": null,
       "grid_gap": null,
       "grid_row": null,
       "grid_template_areas": null,
       "grid_template_columns": null,
       "grid_template_rows": null,
       "height": null,
       "justify_content": null,
       "justify_items": null,
       "left": null,
       "margin": null,
       "max_height": null,
       "max_width": null,
       "min_height": null,
       "min_width": null,
       "object_fit": null,
       "object_position": null,
       "order": null,
       "overflow": null,
       "overflow_x": null,
       "overflow_y": null,
       "padding": null,
       "right": null,
       "top": null,
       "visibility": null,
       "width": null
      }
     },
     "5ab4f1ace4ee428ba253887435cd11eb": {
      "model_module": "@jupyter-widgets/controls",
      "model_module_version": "1.5.0",
      "model_name": "RadioButtonsModel",
      "state": {
       "_dom_classes": [],
       "_model_module": "@jupyter-widgets/controls",
       "_model_module_version": "1.5.0",
       "_model_name": "RadioButtonsModel",
       "_options_labels": [
        "Female",
        "Male"
       ],
       "_view_count": null,
       "_view_module": "@jupyter-widgets/controls",
       "_view_module_version": "1.5.0",
       "_view_name": "RadioButtonsView",
       "description": "Sex : ",
       "description_tooltip": null,
       "disabled": false,
       "index": 0,
       "layout": "IPY_MODEL_2b84264de7d4435f8573103f4567d8a3",
       "style": "IPY_MODEL_37ba5930d6d04c1a973c671e9ec8059e"
      }
     },
     "5f746673d0ed4394a44cd712ba7293ae": {
      "model_module": "@jupyter-widgets/base",
      "model_module_version": "1.2.0",
      "model_name": "LayoutModel",
      "state": {
       "_model_module": "@jupyter-widgets/base",
       "_model_module_version": "1.2.0",
       "_model_name": "LayoutModel",
       "_view_count": null,
       "_view_module": "@jupyter-widgets/base",
       "_view_module_version": "1.2.0",
       "_view_name": "LayoutView",
       "align_content": null,
       "align_items": null,
       "align_self": null,
       "border": null,
       "bottom": null,
       "display": null,
       "flex": null,
       "flex_flow": null,
       "grid_area": null,
       "grid_auto_columns": null,
       "grid_auto_flow": null,
       "grid_auto_rows": null,
       "grid_column": null,
       "grid_gap": null,
       "grid_row": null,
       "grid_template_areas": null,
       "grid_template_columns": null,
       "grid_template_rows": null,
       "height": null,
       "justify_content": null,
       "justify_items": null,
       "left": null,
       "margin": null,
       "max_height": null,
       "max_width": null,
       "min_height": null,
       "min_width": null,
       "object_fit": null,
       "object_position": null,
       "order": null,
       "overflow": null,
       "overflow_x": null,
       "overflow_y": null,
       "padding": null,
       "right": null,
       "top": null,
       "visibility": null,
       "width": null
      }
     },
     "6052137cc2ee451e9211a132ebcc7824": {
      "model_module": "@jupyter-widgets/controls",
      "model_module_version": "1.5.0",
      "model_name": "ButtonStyleModel",
      "state": {
       "_model_module": "@jupyter-widgets/controls",
       "_model_module_version": "1.5.0",
       "_model_name": "ButtonStyleModel",
       "_view_count": null,
       "_view_module": "@jupyter-widgets/base",
       "_view_module_version": "1.2.0",
       "_view_name": "StyleView",
       "button_color": null,
       "font_weight": ""
      }
     },
     "61b900f39c8345f2ae1a76f113b5c8d0": {
      "model_module": "@jupyter-widgets/controls",
      "model_module_version": "1.5.0",
      "model_name": "LabelModel",
      "state": {
       "_dom_classes": [],
       "_model_module": "@jupyter-widgets/controls",
       "_model_module_version": "1.5.0",
       "_model_name": "LabelModel",
       "_view_count": null,
       "_view_module": "@jupyter-widgets/controls",
       "_view_module_version": "1.5.0",
       "_view_name": "LabelView",
       "description": "",
       "description_tooltip": null,
       "layout": "IPY_MODEL_f04a9894efa84225907d9a8fba52be4f",
       "placeholder": "​",
       "style": "IPY_MODEL_2fc8426a674e4970b98028ed831f4603",
       "value": "How many past days was your Physical Health not good?"
      }
     },
     "655f7e476d6a4e699f0d938064323245": {
      "model_module": "@jupyter-widgets/controls",
      "model_module_version": "1.5.0",
      "model_name": "DescriptionStyleModel",
      "state": {
       "_model_module": "@jupyter-widgets/controls",
       "_model_module_version": "1.5.0",
       "_model_name": "DescriptionStyleModel",
       "_view_count": null,
       "_view_module": "@jupyter-widgets/base",
       "_view_module_version": "1.2.0",
       "_view_name": "StyleView",
       "description_width": ""
      }
     },
     "669edc4a00c949c78ec2bb792a8679a0": {
      "model_module": "@jupyter-widgets/controls",
      "model_module_version": "1.5.0",
      "model_name": "RadioButtonsModel",
      "state": {
       "_dom_classes": [],
       "_model_module": "@jupyter-widgets/controls",
       "_model_module_version": "1.5.0",
       "_model_name": "RadioButtonsModel",
       "_options_labels": [
        "No",
        "Yes"
       ],
       "_view_count": null,
       "_view_module": "@jupyter-widgets/controls",
       "_view_module_version": "1.5.0",
       "_view_name": "RadioButtonsView",
       "description": "High Cholesterol : ",
       "description_tooltip": null,
       "disabled": false,
       "index": 0,
       "layout": "IPY_MODEL_484abb7961e5472db05ceecc4dbee32e",
       "style": "IPY_MODEL_2354bc1e55134a82aac74147d60eee5a"
      }
     },
     "67d141a83802472b8652a53d884fd1e7": {
      "model_module": "@jupyter-widgets/controls",
      "model_module_version": "1.5.0",
      "model_name": "LabelModel",
      "state": {
       "_dom_classes": [],
       "_model_module": "@jupyter-widgets/controls",
       "_model_module_version": "1.5.0",
       "_model_name": "LabelModel",
       "_view_count": null,
       "_view_module": "@jupyter-widgets/controls",
       "_view_module_version": "1.5.0",
       "_view_name": "LabelView",
       "description": "",
       "description_tooltip": null,
       "layout": "IPY_MODEL_df2adf77c0e54ef8bd71b666cb561050",
       "placeholder": "​",
       "style": "IPY_MODEL_23400a3b2ef84762b5ab0b574d4695d8",
       "value": "General Health scale :"
      }
     },
     "6eb55cb25c294f9d8a5e42fce7370b86": {
      "model_module": "@jupyter-widgets/controls",
      "model_module_version": "1.5.0",
      "model_name": "DescriptionStyleModel",
      "state": {
       "_model_module": "@jupyter-widgets/controls",
       "_model_module_version": "1.5.0",
       "_model_name": "DescriptionStyleModel",
       "_view_count": null,
       "_view_module": "@jupyter-widgets/base",
       "_view_module_version": "1.2.0",
       "_view_name": "StyleView",
       "description_width": ""
      }
     },
     "6fefa5e1a00e475cb6972d6e2a7e052a": {
      "model_module": "@jupyter-widgets/controls",
      "model_module_version": "1.5.0",
      "model_name": "RadioButtonsModel",
      "state": {
       "_dom_classes": [],
       "_model_module": "@jupyter-widgets/controls",
       "_model_module_version": "1.5.0",
       "_model_name": "RadioButtonsModel",
       "_options_labels": [
        "No",
        "Yes"
       ],
       "_view_count": null,
       "_view_module": "@jupyter-widgets/controls",
       "_view_module_version": "1.5.0",
       "_view_name": "RadioButtonsView",
       "description": "Physical Activity in past 30 days, not incl job : ",
       "description_tooltip": null,
       "disabled": false,
       "index": 0,
       "layout": "IPY_MODEL_0a0893fc374e4c258c26622226dda2a4",
       "style": "IPY_MODEL_cf0d270005234412958a16c7e8c50388"
      }
     },
     "7dcec685d0e74e199d252ff952b3ad9d": {
      "model_module": "@jupyter-widgets/base",
      "model_module_version": "1.2.0",
      "model_name": "LayoutModel",
      "state": {
       "_model_module": "@jupyter-widgets/base",
       "_model_module_version": "1.2.0",
       "_model_name": "LayoutModel",
       "_view_count": null,
       "_view_module": "@jupyter-widgets/base",
       "_view_module_version": "1.2.0",
       "_view_name": "LayoutView",
       "align_content": null,
       "align_items": null,
       "align_self": null,
       "border": null,
       "bottom": null,
       "display": null,
       "flex": null,
       "flex_flow": null,
       "grid_area": null,
       "grid_auto_columns": null,
       "grid_auto_flow": null,
       "grid_auto_rows": null,
       "grid_column": null,
       "grid_gap": null,
       "grid_row": null,
       "grid_template_areas": null,
       "grid_template_columns": null,
       "grid_template_rows": null,
       "height": null,
       "justify_content": null,
       "justify_items": null,
       "left": null,
       "margin": null,
       "max_height": null,
       "max_width": null,
       "min_height": null,
       "min_width": null,
       "object_fit": null,
       "object_position": null,
       "order": null,
       "overflow": null,
       "overflow_x": null,
       "overflow_y": null,
       "padding": null,
       "right": null,
       "top": null,
       "visibility": null,
       "width": null
      }
     },
     "8137bb3fd0564a0284a7239eb2211c1e": {
      "model_module": "@jupyter-widgets/controls",
      "model_module_version": "1.5.0",
      "model_name": "FloatSliderModel",
      "state": {
       "_dom_classes": [],
       "_model_module": "@jupyter-widgets/controls",
       "_model_module_version": "1.5.0",
       "_model_name": "FloatSliderModel",
       "_view_count": null,
       "_view_module": "@jupyter-widgets/controls",
       "_view_module_version": "1.5.0",
       "_view_name": "FloatSliderView",
       "continuous_update": true,
       "description": "",
       "description_tooltip": null,
       "disabled": false,
       "layout": "IPY_MODEL_2d580cc014c0460fa7c1a1d5b5cb80e4",
       "max": 13.0,
       "min": 1.0,
       "orientation": "horizontal",
       "readout": true,
       "readout_format": ".2f",
       "step": 1.0,
       "style": "IPY_MODEL_84e35ac1a06c4dbf969518b6427fc81c",
       "value": 8.0
      }
     },
     "835f3b987fec4dea9d55ab3e1915b185": {
      "model_module": "@jupyter-widgets/controls",
      "model_module_version": "1.5.0",
      "model_name": "DescriptionStyleModel",
      "state": {
       "_model_module": "@jupyter-widgets/controls",
       "_model_module_version": "1.5.0",
       "_model_name": "DescriptionStyleModel",
       "_view_count": null,
       "_view_module": "@jupyter-widgets/base",
       "_view_module_version": "1.2.0",
       "_view_name": "StyleView",
       "description_width": ""
      }
     },
     "84e35ac1a06c4dbf969518b6427fc81c": {
      "model_module": "@jupyter-widgets/controls",
      "model_module_version": "1.5.0",
      "model_name": "SliderStyleModel",
      "state": {
       "_model_module": "@jupyter-widgets/controls",
       "_model_module_version": "1.5.0",
       "_model_name": "SliderStyleModel",
       "_view_count": null,
       "_view_module": "@jupyter-widgets/base",
       "_view_module_version": "1.2.0",
       "_view_name": "StyleView",
       "description_width": "",
       "handle_color": null
      }
     },
     "8c63a6bc02124bb2b10f51f84681d037": {
      "model_module": "@jupyter-widgets/controls",
      "model_module_version": "1.5.0",
      "model_name": "DescriptionStyleModel",
      "state": {
       "_model_module": "@jupyter-widgets/controls",
       "_model_module_version": "1.5.0",
       "_model_name": "DescriptionStyleModel",
       "_view_count": null,
       "_view_module": "@jupyter-widgets/base",
       "_view_module_version": "1.2.0",
       "_view_name": "StyleView",
       "description_width": ""
      }
     },
     "94f96dfd19dc4493af392329723b7b23": {
      "model_module": "@jupyter-widgets/base",
      "model_module_version": "1.2.0",
      "model_name": "LayoutModel",
      "state": {
       "_model_module": "@jupyter-widgets/base",
       "_model_module_version": "1.2.0",
       "_model_name": "LayoutModel",
       "_view_count": null,
       "_view_module": "@jupyter-widgets/base",
       "_view_module_version": "1.2.0",
       "_view_name": "LayoutView",
       "align_content": null,
       "align_items": null,
       "align_self": null,
       "border": null,
       "bottom": null,
       "display": null,
       "flex": null,
       "flex_flow": null,
       "grid_area": null,
       "grid_auto_columns": null,
       "grid_auto_flow": null,
       "grid_auto_rows": null,
       "grid_column": null,
       "grid_gap": null,
       "grid_row": null,
       "grid_template_areas": null,
       "grid_template_columns": null,
       "grid_template_rows": null,
       "height": null,
       "justify_content": null,
       "justify_items": null,
       "left": null,
       "margin": null,
       "max_height": null,
       "max_width": null,
       "min_height": null,
       "min_width": null,
       "object_fit": null,
       "object_position": null,
       "order": null,
       "overflow": null,
       "overflow_x": null,
       "overflow_y": null,
       "padding": null,
       "right": null,
       "top": null,
       "visibility": null,
       "width": null
      }
     },
     "9c3589f5ff5b4a6c937ab2afd1ed0327": {
      "model_module": "@jupyter-widgets/base",
      "model_module_version": "1.2.0",
      "model_name": "LayoutModel",
      "state": {
       "_model_module": "@jupyter-widgets/base",
       "_model_module_version": "1.2.0",
       "_model_name": "LayoutModel",
       "_view_count": null,
       "_view_module": "@jupyter-widgets/base",
       "_view_module_version": "1.2.0",
       "_view_name": "LayoutView",
       "align_content": null,
       "align_items": null,
       "align_self": null,
       "border": null,
       "bottom": null,
       "display": null,
       "flex": null,
       "flex_flow": null,
       "grid_area": null,
       "grid_auto_columns": null,
       "grid_auto_flow": null,
       "grid_auto_rows": null,
       "grid_column": null,
       "grid_gap": null,
       "grid_row": null,
       "grid_template_areas": null,
       "grid_template_columns": null,
       "grid_template_rows": null,
       "height": null,
       "justify_content": null,
       "justify_items": null,
       "left": null,
       "margin": null,
       "max_height": null,
       "max_width": null,
       "min_height": null,
       "min_width": null,
       "object_fit": null,
       "object_position": null,
       "order": null,
       "overflow": null,
       "overflow_x": null,
       "overflow_y": null,
       "padding": null,
       "right": null,
       "top": null,
       "visibility": null,
       "width": null
      }
     },
     "9d3e8708031c4ac790e7bff0da40d3e6": {
      "model_module": "@jupyter-widgets/output",
      "model_module_version": "1.0.0",
      "model_name": "OutputModel",
      "state": {
       "_dom_classes": [],
       "_model_module": "@jupyter-widgets/output",
       "_model_module_version": "1.0.0",
       "_model_name": "OutputModel",
       "_view_count": null,
       "_view_module": "@jupyter-widgets/output",
       "_view_module_version": "1.0.0",
       "_view_name": "OutputView",
       "layout": "IPY_MODEL_de196a8f2604491083d4375c6e9cf0a4",
       "msg_id": "",
       "outputs": []
      }
     },
     "a237462720eb446e93102d6ddd937d7b": {
      "model_module": "@jupyter-widgets/controls",
      "model_module_version": "1.5.0",
      "model_name": "SliderStyleModel",
      "state": {
       "_model_module": "@jupyter-widgets/controls",
       "_model_module_version": "1.5.0",
       "_model_name": "SliderStyleModel",
       "_view_count": null,
       "_view_module": "@jupyter-widgets/base",
       "_view_module_version": "1.2.0",
       "_view_name": "StyleView",
       "description_width": "",
       "handle_color": null
      }
     },
     "a354f29da20841418a4f1eda387bf29f": {
      "model_module": "@jupyter-widgets/base",
      "model_module_version": "1.2.0",
      "model_name": "LayoutModel",
      "state": {
       "_model_module": "@jupyter-widgets/base",
       "_model_module_version": "1.2.0",
       "_model_name": "LayoutModel",
       "_view_count": null,
       "_view_module": "@jupyter-widgets/base",
       "_view_module_version": "1.2.0",
       "_view_name": "LayoutView",
       "align_content": null,
       "align_items": null,
       "align_self": null,
       "border": null,
       "bottom": null,
       "display": null,
       "flex": null,
       "flex_flow": null,
       "grid_area": null,
       "grid_auto_columns": null,
       "grid_auto_flow": null,
       "grid_auto_rows": null,
       "grid_column": null,
       "grid_gap": null,
       "grid_row": null,
       "grid_template_areas": null,
       "grid_template_columns": null,
       "grid_template_rows": null,
       "height": null,
       "justify_content": null,
       "justify_items": null,
       "left": null,
       "margin": null,
       "max_height": null,
       "max_width": null,
       "min_height": null,
       "min_width": null,
       "object_fit": null,
       "object_position": null,
       "order": null,
       "overflow": null,
       "overflow_x": null,
       "overflow_y": null,
       "padding": null,
       "right": null,
       "top": null,
       "visibility": null,
       "width": null
      }
     },
     "a3b10819995349969c9683187bfca33c": {
      "model_module": "@jupyter-widgets/base",
      "model_module_version": "1.2.0",
      "model_name": "LayoutModel",
      "state": {
       "_model_module": "@jupyter-widgets/base",
       "_model_module_version": "1.2.0",
       "_model_name": "LayoutModel",
       "_view_count": null,
       "_view_module": "@jupyter-widgets/base",
       "_view_module_version": "1.2.0",
       "_view_name": "LayoutView",
       "align_content": null,
       "align_items": null,
       "align_self": null,
       "border": null,
       "bottom": null,
       "display": null,
       "flex": null,
       "flex_flow": null,
       "grid_area": null,
       "grid_auto_columns": null,
       "grid_auto_flow": null,
       "grid_auto_rows": null,
       "grid_column": null,
       "grid_gap": null,
       "grid_row": null,
       "grid_template_areas": null,
       "grid_template_columns": null,
       "grid_template_rows": null,
       "height": null,
       "justify_content": null,
       "justify_items": null,
       "left": null,
       "margin": null,
       "max_height": null,
       "max_width": null,
       "min_height": null,
       "min_width": null,
       "object_fit": null,
       "object_position": null,
       "order": null,
       "overflow": null,
       "overflow_x": null,
       "overflow_y": null,
       "padding": null,
       "right": null,
       "top": null,
       "visibility": null,
       "width": null
      }
     },
     "a5557fdaf2684297a7c80e3a7fb8ad65": {
      "model_module": "@jupyter-widgets/base",
      "model_module_version": "1.2.0",
      "model_name": "LayoutModel",
      "state": {
       "_model_module": "@jupyter-widgets/base",
       "_model_module_version": "1.2.0",
       "_model_name": "LayoutModel",
       "_view_count": null,
       "_view_module": "@jupyter-widgets/base",
       "_view_module_version": "1.2.0",
       "_view_name": "LayoutView",
       "align_content": null,
       "align_items": null,
       "align_self": null,
       "border": null,
       "bottom": null,
       "display": null,
       "flex": null,
       "flex_flow": null,
       "grid_area": null,
       "grid_auto_columns": null,
       "grid_auto_flow": null,
       "grid_auto_rows": null,
       "grid_column": null,
       "grid_gap": null,
       "grid_row": null,
       "grid_template_areas": null,
       "grid_template_columns": null,
       "grid_template_rows": null,
       "height": null,
       "justify_content": null,
       "justify_items": null,
       "left": null,
       "margin": null,
       "max_height": null,
       "max_width": null,
       "min_height": null,
       "min_width": null,
       "object_fit": null,
       "object_position": null,
       "order": null,
       "overflow": null,
       "overflow_x": null,
       "overflow_y": null,
       "padding": null,
       "right": null,
       "top": null,
       "visibility": null,
       "width": null
      }
     },
     "a982ee6d712c49bc8ec8831be24f23bf": {
      "model_module": "@jupyter-widgets/controls",
      "model_module_version": "1.5.0",
      "model_name": "SliderStyleModel",
      "state": {
       "_model_module": "@jupyter-widgets/controls",
       "_model_module_version": "1.5.0",
       "_model_name": "SliderStyleModel",
       "_view_count": null,
       "_view_module": "@jupyter-widgets/base",
       "_view_module_version": "1.2.0",
       "_view_name": "StyleView",
       "description_width": "",
       "handle_color": null
      }
     },
     "add35826ff764c5680869e9f0fc2756c": {
      "model_module": "@jupyter-widgets/base",
      "model_module_version": "1.2.0",
      "model_name": "LayoutModel",
      "state": {
       "_model_module": "@jupyter-widgets/base",
       "_model_module_version": "1.2.0",
       "_model_name": "LayoutModel",
       "_view_count": null,
       "_view_module": "@jupyter-widgets/base",
       "_view_module_version": "1.2.0",
       "_view_name": "LayoutView",
       "align_content": null,
       "align_items": null,
       "align_self": null,
       "border": null,
       "bottom": null,
       "display": null,
       "flex": null,
       "flex_flow": null,
       "grid_area": null,
       "grid_auto_columns": null,
       "grid_auto_flow": null,
       "grid_auto_rows": null,
       "grid_column": null,
       "grid_gap": null,
       "grid_row": null,
       "grid_template_areas": null,
       "grid_template_columns": null,
       "grid_template_rows": null,
       "height": null,
       "justify_content": null,
       "justify_items": null,
       "left": null,
       "margin": null,
       "max_height": null,
       "max_width": null,
       "min_height": null,
       "min_width": null,
       "object_fit": null,
       "object_position": null,
       "order": null,
       "overflow": null,
       "overflow_x": null,
       "overflow_y": null,
       "padding": null,
       "right": null,
       "top": null,
       "visibility": null,
       "width": null
      }
     },
     "b2a390d8ee534a7ebd6ef794916d06b7": {
      "model_module": "@jupyter-widgets/controls",
      "model_module_version": "1.5.0",
      "model_name": "FloatSliderModel",
      "state": {
       "_dom_classes": [],
       "_model_module": "@jupyter-widgets/controls",
       "_model_module_version": "1.5.0",
       "_model_name": "FloatSliderModel",
       "_view_count": null,
       "_view_module": "@jupyter-widgets/controls",
       "_view_module_version": "1.5.0",
       "_view_name": "FloatSliderView",
       "continuous_update": true,
       "description": "",
       "description_tooltip": null,
       "disabled": false,
       "layout": "IPY_MODEL_add35826ff764c5680869e9f0fc2756c",
       "max": 30.0,
       "min": 0.0,
       "orientation": "horizontal",
       "readout": true,
       "readout_format": ".2f",
       "step": 1.0,
       "style": "IPY_MODEL_b9de6418a77445e68b5a698f58ac85d3",
       "value": 0.0
      }
     },
     "b3d7822eb74546258040ab8ccdf4c1c0": {
      "model_module": "@jupyter-widgets/controls",
      "model_module_version": "1.5.0",
      "model_name": "RadioButtonsModel",
      "state": {
       "_dom_classes": [],
       "_model_module": "@jupyter-widgets/controls",
       "_model_module_version": "1.5.0",
       "_model_name": "RadioButtonsModel",
       "_options_labels": [
        "No",
        "Yes"
       ],
       "_view_count": null,
       "_view_module": "@jupyter-widgets/controls",
       "_view_module_version": "1.5.0",
       "_view_name": "RadioButtonsView",
       "description": "Heavy drinkers (drinks <14 for men, <7 for women per week : ",
       "description_tooltip": null,
       "disabled": false,
       "index": 0,
       "layout": "IPY_MODEL_c28fd92665c54dc18a71768bf89616b5",
       "style": "IPY_MODEL_f7af5c3de03a4c8a92c8b8322bd8d01a"
      }
     },
     "b552f14d4e9046ff9e53f7224427b7c8": {
      "model_module": "@jupyter-widgets/controls",
      "model_module_version": "1.5.0",
      "model_name": "RadioButtonsModel",
      "state": {
       "_dom_classes": [],
       "_model_module": "@jupyter-widgets/controls",
       "_model_module_version": "1.5.0",
       "_model_name": "RadioButtonsModel",
       "_options_labels": [
        "No",
        "Yes"
       ],
       "_view_count": null,
       "_view_module": "@jupyter-widgets/controls",
       "_view_module_version": "1.5.0",
       "_view_name": "RadioButtonsView",
       "description": "Have you smoked at least 100 cigarettes in your life? : ",
       "description_tooltip": null,
       "disabled": false,
       "index": 0,
       "layout": "IPY_MODEL_30e23a0e28444cbf96d54a4ade86c15c",
       "style": "IPY_MODEL_fec3da3919f246a39fa208b2623ec4f3"
      }
     },
     "b9de6418a77445e68b5a698f58ac85d3": {
      "model_module": "@jupyter-widgets/controls",
      "model_module_version": "1.5.0",
      "model_name": "SliderStyleModel",
      "state": {
       "_model_module": "@jupyter-widgets/controls",
       "_model_module_version": "1.5.0",
       "_model_name": "SliderStyleModel",
       "_view_count": null,
       "_view_module": "@jupyter-widgets/base",
       "_view_module_version": "1.2.0",
       "_view_name": "StyleView",
       "description_width": "",
       "handle_color": null
      }
     },
     "babebb487b664f1f98ba6ddf7043c9d3": {
      "model_module": "@jupyter-widgets/controls",
      "model_module_version": "1.5.0",
      "model_name": "FloatSliderModel",
      "state": {
       "_dom_classes": [],
       "_model_module": "@jupyter-widgets/controls",
       "_model_module_version": "1.5.0",
       "_model_name": "FloatSliderModel",
       "_view_count": null,
       "_view_module": "@jupyter-widgets/controls",
       "_view_module_version": "1.5.0",
       "_view_name": "FloatSliderView",
       "continuous_update": true,
       "description": "",
       "description_tooltip": null,
       "disabled": false,
       "layout": "IPY_MODEL_a3b10819995349969c9683187bfca33c",
       "max": 30.0,
       "min": 0.0,
       "orientation": "horizontal",
       "readout": true,
       "readout_format": ".2f",
       "step": 1.0,
       "style": "IPY_MODEL_dab5ad3e8e8744fa90723e12a5b1ed14",
       "value": 0.0
      }
     },
     "c0a77bfa81494a91b2378f5fcfe9f7df": {
      "model_module": "@jupyter-widgets/controls",
      "model_module_version": "1.5.0",
      "model_name": "LabelModel",
      "state": {
       "_dom_classes": [],
       "_model_module": "@jupyter-widgets/controls",
       "_model_module_version": "1.5.0",
       "_model_name": "LabelModel",
       "_view_count": null,
       "_view_module": "@jupyter-widgets/controls",
       "_view_module_version": "1.5.0",
       "_view_name": "LabelView",
       "description": "",
       "description_tooltip": null,
       "layout": "IPY_MODEL_5f746673d0ed4394a44cd712ba7293ae",
       "placeholder": "​",
       "style": "IPY_MODEL_8c63a6bc02124bb2b10f51f84681d037",
       "value": "How many past days was your Mental Health not good?"
      }
     },
     "c28fd92665c54dc18a71768bf89616b5": {
      "model_module": "@jupyter-widgets/base",
      "model_module_version": "1.2.0",
      "model_name": "LayoutModel",
      "state": {
       "_model_module": "@jupyter-widgets/base",
       "_model_module_version": "1.2.0",
       "_model_name": "LayoutModel",
       "_view_count": null,
       "_view_module": "@jupyter-widgets/base",
       "_view_module_version": "1.2.0",
       "_view_name": "LayoutView",
       "align_content": null,
       "align_items": null,
       "align_self": null,
       "border": null,
       "bottom": null,
       "display": null,
       "flex": null,
       "flex_flow": null,
       "grid_area": null,
       "grid_auto_columns": null,
       "grid_auto_flow": null,
       "grid_auto_rows": null,
       "grid_column": null,
       "grid_gap": null,
       "grid_row": null,
       "grid_template_areas": null,
       "grid_template_columns": null,
       "grid_template_rows": null,
       "height": null,
       "justify_content": null,
       "justify_items": null,
       "left": null,
       "margin": null,
       "max_height": null,
       "max_width": null,
       "min_height": null,
       "min_width": null,
       "object_fit": null,
       "object_position": null,
       "order": null,
       "overflow": null,
       "overflow_x": null,
       "overflow_y": null,
       "padding": null,
       "right": null,
       "top": null,
       "visibility": null,
       "width": null
      }
     },
     "cf0d270005234412958a16c7e8c50388": {
      "model_module": "@jupyter-widgets/controls",
      "model_module_version": "1.5.0",
      "model_name": "DescriptionStyleModel",
      "state": {
       "_model_module": "@jupyter-widgets/controls",
       "_model_module_version": "1.5.0",
       "_model_name": "DescriptionStyleModel",
       "_view_count": null,
       "_view_module": "@jupyter-widgets/base",
       "_view_module_version": "1.2.0",
       "_view_name": "StyleView",
       "description_width": ""
      }
     },
     "d3ec8b62f51a4ef9851f1c4ebf55b7c9": {
      "model_module": "@jupyter-widgets/controls",
      "model_module_version": "1.5.0",
      "model_name": "FloatSliderModel",
      "state": {
       "_dom_classes": [],
       "_model_module": "@jupyter-widgets/controls",
       "_model_module_version": "1.5.0",
       "_model_name": "FloatSliderModel",
       "_view_count": null,
       "_view_module": "@jupyter-widgets/controls",
       "_view_module_version": "1.5.0",
       "_view_name": "FloatSliderView",
       "continuous_update": true,
       "description": "",
       "description_tooltip": null,
       "disabled": false,
       "layout": "IPY_MODEL_a5557fdaf2684297a7c80e3a7fb8ad65",
       "max": 5.0,
       "min": 1.0,
       "orientation": "horizontal",
       "readout": true,
       "readout_format": ".2f",
       "step": 1.0,
       "style": "IPY_MODEL_a982ee6d712c49bc8ec8831be24f23bf",
       "value": 3.0
      }
     },
     "d55e3bf0a726462c9468278935e82f7e": {
      "model_module": "@jupyter-widgets/controls",
      "model_module_version": "1.5.0",
      "model_name": "RadioButtonsModel",
      "state": {
       "_dom_classes": [],
       "_model_module": "@jupyter-widgets/controls",
       "_model_module_version": "1.5.0",
       "_model_name": "RadioButtonsModel",
       "_options_labels": [
        "No",
        "Yes"
       ],
       "_view_count": null,
       "_view_module": "@jupyter-widgets/controls",
       "_view_module_version": "1.5.0",
       "_view_name": "RadioButtonsView",
       "description": "Do you have Difficulty Walking or climbing stairs? : ",
       "description_tooltip": null,
       "disabled": false,
       "index": 0,
       "layout": "IPY_MODEL_7dcec685d0e74e199d252ff952b3ad9d",
       "style": "IPY_MODEL_04d924cc5fba4a3888fe35f3fd711b4f"
      }
     },
     "dab5ad3e8e8744fa90723e12a5b1ed14": {
      "model_module": "@jupyter-widgets/controls",
      "model_module_version": "1.5.0",
      "model_name": "SliderStyleModel",
      "state": {
       "_model_module": "@jupyter-widgets/controls",
       "_model_module_version": "1.5.0",
       "_model_name": "SliderStyleModel",
       "_view_count": null,
       "_view_module": "@jupyter-widgets/base",
       "_view_module_version": "1.2.0",
       "_view_name": "StyleView",
       "description_width": "",
       "handle_color": null
      }
     },
     "de196a8f2604491083d4375c6e9cf0a4": {
      "model_module": "@jupyter-widgets/base",
      "model_module_version": "1.2.0",
      "model_name": "LayoutModel",
      "state": {
       "_model_module": "@jupyter-widgets/base",
       "_model_module_version": "1.2.0",
       "_model_name": "LayoutModel",
       "_view_count": null,
       "_view_module": "@jupyter-widgets/base",
       "_view_module_version": "1.2.0",
       "_view_name": "LayoutView",
       "align_content": null,
       "align_items": null,
       "align_self": null,
       "border": null,
       "bottom": null,
       "display": null,
       "flex": null,
       "flex_flow": null,
       "grid_area": null,
       "grid_auto_columns": null,
       "grid_auto_flow": null,
       "grid_auto_rows": null,
       "grid_column": null,
       "grid_gap": null,
       "grid_row": null,
       "grid_template_areas": null,
       "grid_template_columns": null,
       "grid_template_rows": null,
       "height": null,
       "justify_content": null,
       "justify_items": null,
       "left": null,
       "margin": null,
       "max_height": null,
       "max_width": null,
       "min_height": null,
       "min_width": null,
       "object_fit": null,
       "object_position": null,
       "order": null,
       "overflow": null,
       "overflow_x": null,
       "overflow_y": null,
       "padding": null,
       "right": null,
       "top": null,
       "visibility": null,
       "width": null
      }
     },
     "df2adf77c0e54ef8bd71b666cb561050": {
      "model_module": "@jupyter-widgets/base",
      "model_module_version": "1.2.0",
      "model_name": "LayoutModel",
      "state": {
       "_model_module": "@jupyter-widgets/base",
       "_model_module_version": "1.2.0",
       "_model_name": "LayoutModel",
       "_view_count": null,
       "_view_module": "@jupyter-widgets/base",
       "_view_module_version": "1.2.0",
       "_view_name": "LayoutView",
       "align_content": null,
       "align_items": null,
       "align_self": null,
       "border": null,
       "bottom": null,
       "display": null,
       "flex": null,
       "flex_flow": null,
       "grid_area": null,
       "grid_auto_columns": null,
       "grid_auto_flow": null,
       "grid_auto_rows": null,
       "grid_column": null,
       "grid_gap": null,
       "grid_row": null,
       "grid_template_areas": null,
       "grid_template_columns": null,
       "grid_template_rows": null,
       "height": null,
       "justify_content": null,
       "justify_items": null,
       "left": null,
       "margin": null,
       "max_height": null,
       "max_width": null,
       "min_height": null,
       "min_width": null,
       "object_fit": null,
       "object_position": null,
       "order": null,
       "overflow": null,
       "overflow_x": null,
       "overflow_y": null,
       "padding": null,
       "right": null,
       "top": null,
       "visibility": null,
       "width": null
      }
     },
     "e1ea5ad4aa1543358407f7cc21272424": {
      "model_module": "@jupyter-widgets/controls",
      "model_module_version": "1.5.0",
      "model_name": "RadioButtonsModel",
      "state": {
       "_dom_classes": [],
       "_model_module": "@jupyter-widgets/controls",
       "_model_module_version": "1.5.0",
       "_model_name": "RadioButtonsModel",
       "_options_labels": [
        "No",
        "Yes"
       ],
       "_view_count": null,
       "_view_module": "@jupyter-widgets/controls",
       "_view_module_version": "1.5.0",
       "_view_name": "RadioButtonsView",
       "description": "Eat Veggies 1 or more per day : ",
       "description_tooltip": null,
       "disabled": false,
       "index": 0,
       "layout": "IPY_MODEL_ed30143c315f4b53b14bbd42cd634335",
       "style": "IPY_MODEL_4592adf33bda4929a669a47bd735f99c"
      }
     },
     "ec6e552da7ed4e6480b270f85efb4765": {
      "model_module": "@jupyter-widgets/controls",
      "model_module_version": "1.5.0",
      "model_name": "DescriptionStyleModel",
      "state": {
       "_model_module": "@jupyter-widgets/controls",
       "_model_module_version": "1.5.0",
       "_model_name": "DescriptionStyleModel",
       "_view_count": null,
       "_view_module": "@jupyter-widgets/base",
       "_view_module_version": "1.2.0",
       "_view_name": "StyleView",
       "description_width": ""
      }
     },
     "ed30143c315f4b53b14bbd42cd634335": {
      "model_module": "@jupyter-widgets/base",
      "model_module_version": "1.2.0",
      "model_name": "LayoutModel",
      "state": {
       "_model_module": "@jupyter-widgets/base",
       "_model_module_version": "1.2.0",
       "_model_name": "LayoutModel",
       "_view_count": null,
       "_view_module": "@jupyter-widgets/base",
       "_view_module_version": "1.2.0",
       "_view_name": "LayoutView",
       "align_content": null,
       "align_items": null,
       "align_self": null,
       "border": null,
       "bottom": null,
       "display": null,
       "flex": null,
       "flex_flow": null,
       "grid_area": null,
       "grid_auto_columns": null,
       "grid_auto_flow": null,
       "grid_auto_rows": null,
       "grid_column": null,
       "grid_gap": null,
       "grid_row": null,
       "grid_template_areas": null,
       "grid_template_columns": null,
       "grid_template_rows": null,
       "height": null,
       "justify_content": null,
       "justify_items": null,
       "left": null,
       "margin": null,
       "max_height": null,
       "max_width": null,
       "min_height": null,
       "min_width": null,
       "object_fit": null,
       "object_position": null,
       "order": null,
       "overflow": null,
       "overflow_x": null,
       "overflow_y": null,
       "padding": null,
       "right": null,
       "top": null,
       "visibility": null,
       "width": null
      }
     },
     "f04a9894efa84225907d9a8fba52be4f": {
      "model_module": "@jupyter-widgets/base",
      "model_module_version": "1.2.0",
      "model_name": "LayoutModel",
      "state": {
       "_model_module": "@jupyter-widgets/base",
       "_model_module_version": "1.2.0",
       "_model_name": "LayoutModel",
       "_view_count": null,
       "_view_module": "@jupyter-widgets/base",
       "_view_module_version": "1.2.0",
       "_view_name": "LayoutView",
       "align_content": null,
       "align_items": null,
       "align_self": null,
       "border": null,
       "bottom": null,
       "display": null,
       "flex": null,
       "flex_flow": null,
       "grid_area": null,
       "grid_auto_columns": null,
       "grid_auto_flow": null,
       "grid_auto_rows": null,
       "grid_column": null,
       "grid_gap": null,
       "grid_row": null,
       "grid_template_areas": null,
       "grid_template_columns": null,
       "grid_template_rows": null,
       "height": null,
       "justify_content": null,
       "justify_items": null,
       "left": null,
       "margin": null,
       "max_height": null,
       "max_width": null,
       "min_height": null,
       "min_width": null,
       "object_fit": null,
       "object_position": null,
       "order": null,
       "overflow": null,
       "overflow_x": null,
       "overflow_y": null,
       "padding": null,
       "right": null,
       "top": null,
       "visibility": null,
       "width": null
      }
     },
     "f2a9f1032332473c946f5609d8fd1ae1": {
      "model_module": "@jupyter-widgets/controls",
      "model_module_version": "1.5.0",
      "model_name": "LabelModel",
      "state": {
       "_dom_classes": [],
       "_model_module": "@jupyter-widgets/controls",
       "_model_module_version": "1.5.0",
       "_model_name": "LabelModel",
       "_view_count": null,
       "_view_module": "@jupyter-widgets/controls",
       "_view_module_version": "1.5.0",
       "_view_name": "LabelView",
       "description": "",
       "description_tooltip": null,
       "layout": "IPY_MODEL_30bfad017f0b4ba99a602e52cb2fdadb",
       "placeholder": "​",
       "style": "IPY_MODEL_133349ee75eb49c0b5d0248944a6e358",
       "value": "Age category (1 = 18-24, 4 = 35-39, 8 = 55-59, 13 = 80 or older) :"
      }
     },
     "f7af5c3de03a4c8a92c8b8322bd8d01a": {
      "model_module": "@jupyter-widgets/controls",
      "model_module_version": "1.5.0",
      "model_name": "DescriptionStyleModel",
      "state": {
       "_model_module": "@jupyter-widgets/controls",
       "_model_module_version": "1.5.0",
       "_model_name": "DescriptionStyleModel",
       "_view_count": null,
       "_view_module": "@jupyter-widgets/base",
       "_view_module_version": "1.2.0",
       "_view_name": "StyleView",
       "description_width": ""
      }
     },
     "f8e4e8a7b96c41b3b766790333b517ad": {
      "model_module": "@jupyter-widgets/controls",
      "model_module_version": "1.5.0",
      "model_name": "FloatSliderModel",
      "state": {
       "_dom_classes": [],
       "_model_module": "@jupyter-widgets/controls",
       "_model_module_version": "1.5.0",
       "_model_name": "FloatSliderModel",
       "_view_count": null,
       "_view_module": "@jupyter-widgets/controls",
       "_view_module_version": "1.5.0",
       "_view_name": "FloatSliderView",
       "continuous_update": true,
       "description": "",
       "description_tooltip": null,
       "disabled": false,
       "layout": "IPY_MODEL_584eb96d676c4916ad101f2a619d5ba8",
       "max": 50.0,
       "min": 10.0,
       "orientation": "horizontal",
       "readout": true,
       "readout_format": ".2f",
       "step": 0.1,
       "style": "IPY_MODEL_a237462720eb446e93102d6ddd937d7b",
       "value": 20.0
      }
     },
     "fec3da3919f246a39fa208b2623ec4f3": {
      "model_module": "@jupyter-widgets/controls",
      "model_module_version": "1.5.0",
      "model_name": "DescriptionStyleModel",
      "state": {
       "_model_module": "@jupyter-widgets/controls",
       "_model_module_version": "1.5.0",
       "_model_name": "DescriptionStyleModel",
       "_view_count": null,
       "_view_module": "@jupyter-widgets/base",
       "_view_module_version": "1.2.0",
       "_view_name": "StyleView",
       "description_width": ""
      }
     }
    },
    "version_major": 2,
    "version_minor": 0
   }
  }
 },
 "nbformat": 4,
 "nbformat_minor": 5
}
