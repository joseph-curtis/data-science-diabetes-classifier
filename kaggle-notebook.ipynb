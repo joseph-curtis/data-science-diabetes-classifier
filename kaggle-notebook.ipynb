{
 "cells": [
  {
   "cell_type": "markdown",
   "id": "af1970a1",
   "metadata": {
    "papermill": {
     "duration": 0.008472,
     "end_time": "2024-03-16T21:53:31.284161",
     "exception": false,
     "start_time": "2024-03-16T21:53:31.275689",
     "status": "completed"
    },
    "tags": []
   },
   "source": [
    "<a href=\"https://www.kaggle.com/code/josephcurtis/at-risk-diabetes-classifier\" target=\"_blank\"><img align=\"left\" alt=\"Kaggle\" title=\"Open in Kaggle\" width=\"167\" height=\"30\" src=\"https://kaggle.com/static/images/open-in-kaggle.svg\" /></a>"
   ]
  },
  {
   "cell_type": "markdown",
   "id": "f61b35d2",
   "metadata": {
    "papermill": {
     "duration": 0.007727,
     "end_time": "2024-03-16T21:53:31.300134",
     "exception": false,
     "start_time": "2024-03-16T21:53:31.292407",
     "status": "completed"
    },
    "tags": []
   },
   "source": [
    "# At-Risk Diabetes Classifier\n",
    "\n",
    "**Author:** Joseph Curtis\n",
    "\n",
    "# Overview\n",
    "\n",
    "This notebook presents the At-Risk Diabetes Classifier, a machine learning project aimed at identifying individuals at risk of diabetes based on a variety of health indicators. By analyzing a dataset with features such as BMI, age, smoking status, physical activity, and more, we develop and train a supervised model to predict the likelihood of diabetes.\n",
    "\n",
    "The project demonstrates:\n",
    "- Data preprocessing and cleaning techniques.\n",
    "- Exploratory data analysis (EDA) to understand the relationships within the data.\n",
    "- Feature selection and engineering to prepare the data for modeling.\n",
    "- Evaluation and comparison of different machine learning models, including Logistic Regression and Random Forest, to find the most effective predictor of diabetes risk.\n",
    "\n",
    "This work is part of an ongoing exploration into how data science can be applied to healthcare data to predict disease risk and support early intervention strategies.\n",
    "\n",
    "For more information, source code, and related resources, please visit the project's GitHub repository at [github.com/joseph-curtis](https://github.com/joseph-curtis/data-science-diabetes-classifier)\n",
    "\n",
    "- <a href=\"https://github.com/joseph-curtis/data-science-diabetes-classifier\" target=\"_blank\"><img align=\"left\" alt=\"Github\" title=\"Open in Github\" width=\"144\" height=\"42\" src=\"https://img.shields.io/badge/GitHub-372a4a?style=for-the-badge&logo=github&logoColor=white\" /></a>"
   ]
  },
  {
   "cell_type": "markdown",
   "id": "7eda1060",
   "metadata": {
    "papermill": {
     "duration": 0.007672,
     "end_time": "2024-03-16T21:53:31.315914",
     "exception": false,
     "start_time": "2024-03-16T21:53:31.308242",
     "status": "completed"
    },
    "tags": []
   },
   "source": [
    "# Data Preparation and Initial Analysis\n",
    "\n",
    "Here we focus on preparing and analyzing health indicator data for diabetes from the years 2015 and 2021. The goal is to combine these datasets to form a comprehensive view of the data, which can later be used for machine learning modeling. The following steps are taken:\n",
    "\n",
    "1. Import Libraries\n",
    "2. Load the Data\n",
    "3. Combine the DataFrames\n",
    "4. Rename the column 'Diabetes_binary' for brevity"
   ]
  },
  {
   "cell_type": "code",
   "execution_count": 1,
   "id": "73c45e7f",
   "metadata": {
    "execution": {
     "iopub.execute_input": "2024-03-16T21:53:31.333465Z",
     "iopub.status.busy": "2024-03-16T21:53:31.333084Z",
     "iopub.status.idle": "2024-03-16T21:53:34.411829Z",
     "shell.execute_reply": "2024-03-16T21:53:34.410797Z"
    },
    "jupyter": {
     "source_hidden": true
    },
    "papermill": {
     "duration": 3.090286,
     "end_time": "2024-03-16T21:53:34.414184",
     "exception": false,
     "start_time": "2024-03-16T21:53:31.323898",
     "status": "completed"
    },
    "tags": []
   },
   "outputs": [
    {
     "data": {
      "text/plain": [
       "(   Diabetes  HighBP  HighChol  CholCheck   BMI  Smoker  Stroke  \\\n",
       " 0       0.0     1.0       0.0        1.0  26.0     0.0     0.0   \n",
       " 1       0.0     1.0       1.0        1.0  26.0     1.0     1.0   \n",
       " 2       0.0     0.0       0.0        1.0  26.0     0.0     0.0   \n",
       " 3       0.0     1.0       1.0        1.0  28.0     1.0     0.0   \n",
       " 4       0.0     0.0       0.0        1.0  29.0     1.0     0.0   \n",
       " \n",
       "    HeartDiseaseorAttack  PhysActivity  Fruits  ...  AnyHealthcare  \\\n",
       " 0                   0.0           1.0     0.0  ...            1.0   \n",
       " 1                   0.0           0.0     1.0  ...            1.0   \n",
       " 2                   0.0           1.0     1.0  ...            1.0   \n",
       " 3                   0.0           1.0     1.0  ...            1.0   \n",
       " 4                   0.0           1.0     1.0  ...            1.0   \n",
       " \n",
       "    NoDocbcCost  GenHlth  MentHlth  PhysHlth  DiffWalk  Sex   Age  Education  \\\n",
       " 0          0.0      3.0       5.0      30.0       0.0  1.0   4.0        6.0   \n",
       " 1          0.0      3.0       0.0       0.0       0.0  1.0  12.0        6.0   \n",
       " 2          0.0      1.0       0.0      10.0       0.0  1.0  13.0        6.0   \n",
       " 3          0.0      3.0       0.0       3.0       0.0  1.0  11.0        6.0   \n",
       " 4          0.0      2.0       0.0       0.0       0.0  0.0   8.0        5.0   \n",
       " \n",
       "    Income  \n",
       " 0     8.0  \n",
       " 1     8.0  \n",
       " 2     8.0  \n",
       " 3     8.0  \n",
       " 4     8.0  \n",
       " \n",
       " [5 rows x 22 columns],\n",
       " (137828, 22))"
      ]
     },
     "execution_count": 1,
     "metadata": {},
     "output_type": "execute_result"
    }
   ],
   "source": [
    "# import Libraries\n",
    "import matplotlib.pyplot as plt\n",
    "import numpy as np\n",
    "import pandas as pd\n",
    "import seaborn as sns\n",
    "from IPython.display import display\n",
    "from matplotlib import pyplot\n",
    "from pandas.plotting import scatter_matrix\n",
    "from sklearn import linear_model, metrics, model_selection\n",
    "from sklearn.ensemble import RandomForestClassifier\n",
    "from sklearn.linear_model import LogisticRegression\n",
    "from sklearn.metrics import (\n",
    "    ConfusionMatrixDisplay,\n",
    "    accuracy_score,\n",
    "    classification_report,\n",
    "    confusion_matrix,\n",
    ")\n",
    "from sklearn.model_selection import KFold, cross_val_score, train_test_split\n",
    "from sklearn.preprocessing import MinMaxScaler\n",
    "\n",
    "# file names and urls\n",
    "filepath_2015 = \"/kaggle/input/diabetes-health-indicators-dataset\\\n",
    "/diabetes_binary_5050split_health_indicators_BRFSS2015.csv\"\n",
    "filepath_2021 = \"/kaggle/input/d/julnazz/diabetes-health-indicators-dataset\\\n",
    "/diabetes_binary_5050split_health_indicators_BRFSS2021.csv\"\n",
    "df1 = pd.read_csv(filepath_2015)\n",
    "df2 = pd.read_csv(filepath_2021)\n",
    "\n",
    "# Combine the two DataFrames\n",
    "combined_df = pd.concat([df1, df2], axis=0).reset_index(drop=True)\n",
    "\n",
    "# Rename the 'Diabetes_binary' column to 'Diabetes'\n",
    "combined_df.rename(columns={\"Diabetes_binary\": \"Diabetes\"}, inplace=True)\n",
    "\n",
    "# Display the first few rows of the combined dataframe\n",
    "# and its shape to verify the combination\n",
    "combined_df_info = combined_df.head(), combined_df.shape\n",
    "\n",
    "combined_df_info  # output"
   ]
  },
  {
   "cell_type": "markdown",
   "id": "03381700",
   "metadata": {
    "papermill": {
     "duration": 0.007947,
     "end_time": "2024-03-16T21:53:34.430539",
     "exception": false,
     "start_time": "2024-03-16T21:53:34.422592",
     "status": "completed"
    },
    "tags": []
   },
   "source": [
    "# Removing Features\n",
    "\n",
    "Here we remove features deemed irrelevant for modeling purposes. We specify a list of columns to be removed and then drop these columns from the combined DataFrame.\n",
    "\n",
    "We reverse the values of the \"General Health\" feature to make it more clear to the audience when graphed. This makes a value of 5 = \"excellent\" and value of 1 = \"poor\"."
   ]
  },
  {
   "cell_type": "code",
   "execution_count": 2,
   "id": "e3791494",
   "metadata": {
    "execution": {
     "iopub.execute_input": "2024-03-16T21:53:34.448649Z",
     "iopub.status.busy": "2024-03-16T21:53:34.448247Z",
     "iopub.status.idle": "2024-03-16T21:53:34.483672Z",
     "shell.execute_reply": "2024-03-16T21:53:34.482643Z"
    },
    "papermill": {
     "duration": 0.047185,
     "end_time": "2024-03-16T21:53:34.485955",
     "exception": false,
     "start_time": "2024-03-16T21:53:34.438770",
     "status": "completed"
    },
    "tags": []
   },
   "outputs": [
    {
     "data": {
      "text/html": [
       "<div>\n",
       "<style scoped>\n",
       "    .dataframe tbody tr th:only-of-type {\n",
       "        vertical-align: middle;\n",
       "    }\n",
       "\n",
       "    .dataframe tbody tr th {\n",
       "        vertical-align: top;\n",
       "    }\n",
       "\n",
       "    .dataframe thead th {\n",
       "        text-align: right;\n",
       "    }\n",
       "</style>\n",
       "<table border=\"1\" class=\"dataframe\">\n",
       "  <thead>\n",
       "    <tr style=\"text-align: right;\">\n",
       "      <th></th>\n",
       "      <th>Diabetes</th>\n",
       "      <th>HighBP</th>\n",
       "      <th>HighChol</th>\n",
       "      <th>BMI</th>\n",
       "      <th>Smoker</th>\n",
       "      <th>Stroke</th>\n",
       "      <th>HeartDiseaseorAttack</th>\n",
       "      <th>PhysActivity</th>\n",
       "      <th>Fruits</th>\n",
       "      <th>Veggies</th>\n",
       "      <th>HvyAlcoholConsump</th>\n",
       "      <th>GenHlth</th>\n",
       "      <th>MentHlth</th>\n",
       "      <th>PhysHlth</th>\n",
       "      <th>DiffWalk</th>\n",
       "      <th>Sex</th>\n",
       "      <th>Age</th>\n",
       "    </tr>\n",
       "  </thead>\n",
       "  <tbody>\n",
       "    <tr>\n",
       "      <th>0</th>\n",
       "      <td>0.0</td>\n",
       "      <td>1.0</td>\n",
       "      <td>0.0</td>\n",
       "      <td>26.0</td>\n",
       "      <td>0.0</td>\n",
       "      <td>0.0</td>\n",
       "      <td>0.0</td>\n",
       "      <td>1.0</td>\n",
       "      <td>0.0</td>\n",
       "      <td>1.0</td>\n",
       "      <td>0.0</td>\n",
       "      <td>3.0</td>\n",
       "      <td>5.0</td>\n",
       "      <td>30.0</td>\n",
       "      <td>0.0</td>\n",
       "      <td>1.0</td>\n",
       "      <td>4.0</td>\n",
       "    </tr>\n",
       "    <tr>\n",
       "      <th>1</th>\n",
       "      <td>0.0</td>\n",
       "      <td>1.0</td>\n",
       "      <td>1.0</td>\n",
       "      <td>26.0</td>\n",
       "      <td>1.0</td>\n",
       "      <td>1.0</td>\n",
       "      <td>0.0</td>\n",
       "      <td>0.0</td>\n",
       "      <td>1.0</td>\n",
       "      <td>0.0</td>\n",
       "      <td>0.0</td>\n",
       "      <td>3.0</td>\n",
       "      <td>0.0</td>\n",
       "      <td>0.0</td>\n",
       "      <td>0.0</td>\n",
       "      <td>1.0</td>\n",
       "      <td>12.0</td>\n",
       "    </tr>\n",
       "    <tr>\n",
       "      <th>2</th>\n",
       "      <td>0.0</td>\n",
       "      <td>0.0</td>\n",
       "      <td>0.0</td>\n",
       "      <td>26.0</td>\n",
       "      <td>0.0</td>\n",
       "      <td>0.0</td>\n",
       "      <td>0.0</td>\n",
       "      <td>1.0</td>\n",
       "      <td>1.0</td>\n",
       "      <td>1.0</td>\n",
       "      <td>0.0</td>\n",
       "      <td>5.0</td>\n",
       "      <td>0.0</td>\n",
       "      <td>10.0</td>\n",
       "      <td>0.0</td>\n",
       "      <td>1.0</td>\n",
       "      <td>13.0</td>\n",
       "    </tr>\n",
       "    <tr>\n",
       "      <th>3</th>\n",
       "      <td>0.0</td>\n",
       "      <td>1.0</td>\n",
       "      <td>1.0</td>\n",
       "      <td>28.0</td>\n",
       "      <td>1.0</td>\n",
       "      <td>0.0</td>\n",
       "      <td>0.0</td>\n",
       "      <td>1.0</td>\n",
       "      <td>1.0</td>\n",
       "      <td>1.0</td>\n",
       "      <td>0.0</td>\n",
       "      <td>3.0</td>\n",
       "      <td>0.0</td>\n",
       "      <td>3.0</td>\n",
       "      <td>0.0</td>\n",
       "      <td>1.0</td>\n",
       "      <td>11.0</td>\n",
       "    </tr>\n",
       "    <tr>\n",
       "      <th>4</th>\n",
       "      <td>0.0</td>\n",
       "      <td>0.0</td>\n",
       "      <td>0.0</td>\n",
       "      <td>29.0</td>\n",
       "      <td>1.0</td>\n",
       "      <td>0.0</td>\n",
       "      <td>0.0</td>\n",
       "      <td>1.0</td>\n",
       "      <td>1.0</td>\n",
       "      <td>1.0</td>\n",
       "      <td>0.0</td>\n",
       "      <td>4.0</td>\n",
       "      <td>0.0</td>\n",
       "      <td>0.0</td>\n",
       "      <td>0.0</td>\n",
       "      <td>0.0</td>\n",
       "      <td>8.0</td>\n",
       "    </tr>\n",
       "  </tbody>\n",
       "</table>\n",
       "</div>"
      ],
      "text/plain": [
       "   Diabetes  HighBP  HighChol   BMI  Smoker  Stroke  HeartDiseaseorAttack  \\\n",
       "0       0.0     1.0       0.0  26.0     0.0     0.0                   0.0   \n",
       "1       0.0     1.0       1.0  26.0     1.0     1.0                   0.0   \n",
       "2       0.0     0.0       0.0  26.0     0.0     0.0                   0.0   \n",
       "3       0.0     1.0       1.0  28.0     1.0     0.0                   0.0   \n",
       "4       0.0     0.0       0.0  29.0     1.0     0.0                   0.0   \n",
       "\n",
       "   PhysActivity  Fruits  Veggies  HvyAlcoholConsump  GenHlth  MentHlth  \\\n",
       "0           1.0     0.0      1.0                0.0      3.0       5.0   \n",
       "1           0.0     1.0      0.0                0.0      3.0       0.0   \n",
       "2           1.0     1.0      1.0                0.0      5.0       0.0   \n",
       "3           1.0     1.0      1.0                0.0      3.0       0.0   \n",
       "4           1.0     1.0      1.0                0.0      4.0       0.0   \n",
       "\n",
       "   PhysHlth  DiffWalk  Sex   Age  \n",
       "0      30.0       0.0  1.0   4.0  \n",
       "1       0.0       0.0  1.0  12.0  \n",
       "2      10.0       0.0  1.0  13.0  \n",
       "3       3.0       0.0  1.0  11.0  \n",
       "4       0.0       0.0  0.0   8.0  "
      ]
     },
     "execution_count": 2,
     "metadata": {},
     "output_type": "execute_result"
    }
   ],
   "source": [
    "# Remove irrelevant features from the combined dataset\n",
    "columns_to_remove = [\"CholCheck\", \"AnyHealthcare\", \"NoDocbcCost\", \"Education\", \"Income\"]\n",
    "reduced_df = combined_df.drop(columns=columns_to_remove)\n",
    "\n",
    "# Reverse the values of 'GenHlth'\n",
    "reduced_df[\"GenHlth\"] = 6 - reduced_df[\"GenHlth\"]\n",
    "\n",
    "# Display the first few rows of the reduced dataframe to verify the removal\n",
    "reduced_df.head()"
   ]
  },
  {
   "cell_type": "markdown",
   "id": "60edf877",
   "metadata": {
    "papermill": {
     "duration": 0.009434,
     "end_time": "2024-03-16T21:53:34.503968",
     "exception": false,
     "start_time": "2024-03-16T21:53:34.494534",
     "status": "completed"
    },
    "tags": []
   },
   "source": [
    "# Check for Missing Values\n",
    "\n",
    "Here we check for missing values in the combined dataset. Note there are *NO* missing values found."
   ]
  },
  {
   "cell_type": "code",
   "execution_count": 3,
   "id": "51d1e56e",
   "metadata": {
    "execution": {
     "iopub.execute_input": "2024-03-16T21:53:34.523883Z",
     "iopub.status.busy": "2024-03-16T21:53:34.523083Z",
     "iopub.status.idle": "2024-03-16T21:53:34.535966Z",
     "shell.execute_reply": "2024-03-16T21:53:34.535192Z"
    },
    "papermill": {
     "duration": 0.024377,
     "end_time": "2024-03-16T21:53:34.537898",
     "exception": false,
     "start_time": "2024-03-16T21:53:34.513521",
     "status": "completed"
    },
    "tags": []
   },
   "outputs": [
    {
     "data": {
      "text/plain": [
       "Diabetes                0\n",
       "HighBP                  0\n",
       "HighChol                0\n",
       "BMI                     0\n",
       "Smoker                  0\n",
       "Stroke                  0\n",
       "HeartDiseaseorAttack    0\n",
       "PhysActivity            0\n",
       "Fruits                  0\n",
       "Veggies                 0\n",
       "HvyAlcoholConsump       0\n",
       "GenHlth                 0\n",
       "MentHlth                0\n",
       "PhysHlth                0\n",
       "DiffWalk                0\n",
       "Sex                     0\n",
       "Age                     0\n",
       "dtype: int64"
      ]
     },
     "execution_count": 3,
     "metadata": {},
     "output_type": "execute_result"
    }
   ],
   "source": [
    "# Check for missing values in the reduced dataset\n",
    "missing_values = reduced_df.isnull().sum()\n",
    "\n",
    "missing_values  ## no missing values found"
   ]
  },
  {
   "cell_type": "markdown",
   "id": "86802122",
   "metadata": {
    "papermill": {
     "duration": 0.008353,
     "end_time": "2024-03-16T21:53:34.555047",
     "exception": false,
     "start_time": "2024-03-16T21:53:34.546694",
     "status": "completed"
    },
    "tags": []
   },
   "source": [
    "# Data Type Optimization Analysis\n",
    "\n",
    "Here we perform a preliminary analysis aimed at optimizing data storage and processing efficiency by examining the range of values for selected features within the reduced dataset. Here we see that all numerical values are well within the range of an 8-bit integer (this dataset has no numbers with decimal values).\n",
    "\n",
    "We also calculate the memory used before we adjust the data types-- this is our baseline for memory usage."
   ]
  },
  {
   "cell_type": "code",
   "execution_count": 4,
   "id": "a60c248a",
   "metadata": {
    "execution": {
     "iopub.execute_input": "2024-03-16T21:53:34.573847Z",
     "iopub.status.busy": "2024-03-16T21:53:34.573516Z",
     "iopub.status.idle": "2024-03-16T21:53:34.632630Z",
     "shell.execute_reply": "2024-03-16T21:53:34.631655Z"
    },
    "papermill": {
     "duration": 0.071345,
     "end_time": "2024-03-16T21:53:34.634989",
     "exception": false,
     "start_time": "2024-03-16T21:53:34.563644",
     "status": "completed"
    },
    "tags": []
   },
   "outputs": [
    {
     "data": {
      "text/html": [
       "<div>\n",
       "<style scoped>\n",
       "    .dataframe tbody tr th:only-of-type {\n",
       "        vertical-align: middle;\n",
       "    }\n",
       "\n",
       "    .dataframe tbody tr th {\n",
       "        vertical-align: top;\n",
       "    }\n",
       "\n",
       "    .dataframe thead th {\n",
       "        text-align: right;\n",
       "    }\n",
       "</style>\n",
       "<table border=\"1\" class=\"dataframe\">\n",
       "  <thead>\n",
       "    <tr style=\"text-align: right;\">\n",
       "      <th></th>\n",
       "      <th>BMI</th>\n",
       "      <th>GenHlth</th>\n",
       "      <th>MentHlth</th>\n",
       "      <th>PhysHlth</th>\n",
       "      <th>Age</th>\n",
       "    </tr>\n",
       "  </thead>\n",
       "  <tbody>\n",
       "    <tr>\n",
       "      <th>min</th>\n",
       "      <td>12.0</td>\n",
       "      <td>1.0</td>\n",
       "      <td>0.0</td>\n",
       "      <td>0.0</td>\n",
       "      <td>1.0</td>\n",
       "    </tr>\n",
       "    <tr>\n",
       "      <th>max</th>\n",
       "      <td>99.0</td>\n",
       "      <td>5.0</td>\n",
       "      <td>30.0</td>\n",
       "      <td>30.0</td>\n",
       "      <td>13.0</td>\n",
       "    </tr>\n",
       "  </tbody>\n",
       "</table>\n",
       "</div>"
      ],
      "text/plain": [
       "      BMI  GenHlth  MentHlth  PhysHlth   Age\n",
       "min  12.0      1.0       0.0       0.0   1.0\n",
       "max  99.0      5.0      30.0      30.0  13.0"
      ]
     },
     "execution_count": 4,
     "metadata": {},
     "output_type": "execute_result"
    }
   ],
   "source": [
    "# Check range of values of specified features to determine suitable data types\n",
    "features_to_optimize = [\"BMI\", \"GenHlth\", \"MentHlth\", \"PhysHlth\", \"Age\"]\n",
    "data_types_optimization = (\n",
    "    reduced_df[features_to_optimize].describe().loc[[\"min\", \"max\"]]\n",
    ")\n",
    "\n",
    "# Memory used before reducing data types\n",
    "memory_before = reduced_df.memory_usage(index=True).sum()\n",
    "\n",
    "data_types_optimization"
   ]
  },
  {
   "cell_type": "markdown",
   "id": "138fe48b",
   "metadata": {
    "papermill": {
     "duration": 0.008566,
     "end_time": "2024-03-16T21:53:34.652466",
     "exception": false,
     "start_time": "2024-03-16T21:53:34.643900",
     "status": "completed"
    },
    "tags": []
   },
   "source": [
    "# Data Type Conversion for Efficiency\n",
    "\n",
    "We enhance the dataset's memory efficiency by converting specified binary columns to boolean data types. We print the memory usage before and after the operation to demonstrate the effectiveness of this optimization in reducing the dataset's memory consumption."
   ]
  },
  {
   "cell_type": "code",
   "execution_count": 5,
   "id": "a43893ae",
   "metadata": {
    "execution": {
     "iopub.execute_input": "2024-03-16T21:53:34.671574Z",
     "iopub.status.busy": "2024-03-16T21:53:34.671204Z",
     "iopub.status.idle": "2024-03-16T21:53:34.691752Z",
     "shell.execute_reply": "2024-03-16T21:53:34.690691Z"
    },
    "jupyter": {
     "source_hidden": true
    },
    "papermill": {
     "duration": 0.032882,
     "end_time": "2024-03-16T21:53:34.694191",
     "exception": false,
     "start_time": "2024-03-16T21:53:34.661309",
     "status": "completed"
    },
    "tags": []
   },
   "outputs": [
    {
     "name": "stdout",
     "output_type": "stream",
     "text": [
      "Dataframe memory used before: 18744736\n",
      "Dataframe memory used after:   2756688\n"
     ]
    }
   ],
   "source": [
    "# scale data types down to reduce memory footprint\n",
    "reduced_df[\"BMI\"] = reduced_df[\"BMI\"].astype(\"float32\")\n",
    "reduced_df[\"GenHlth\"] = reduced_df[\"GenHlth\"].astype(\"int8\")\n",
    "reduced_df[\"MentHlth\"] = reduced_df[\"MentHlth\"].astype(\"int8\")\n",
    "reduced_df[\"PhysHlth\"] = reduced_df[\"PhysHlth\"].astype(\"int8\")\n",
    "reduced_df[\"Age\"] = reduced_df[\"Age\"].astype(\"int8\")\n",
    "\n",
    "# convert 1/0 binary columns to boolean values\n",
    "binary_columns = [\n",
    "    \"Diabetes\",\n",
    "    \"HighBP\",\n",
    "    \"HighChol\",\n",
    "    \"Smoker\",\n",
    "    \"Stroke\",\n",
    "    \"HeartDiseaseorAttack\",\n",
    "    \"PhysActivity\",\n",
    "    \"Fruits\",\n",
    "    \"Veggies\",\n",
    "    \"HvyAlcoholConsump\",\n",
    "    \"DiffWalk\",\n",
    "    \"Sex\",\n",
    "]\n",
    "for column in binary_columns:\n",
    "    reduced_df[column] = reduced_df[column].astype(\"bool\")\n",
    "\n",
    "# memory size after data type reduction\n",
    "memory_after = reduced_df.memory_usage(index=True).sum()\n",
    "\n",
    "print(\"Dataframe memory used before:\", memory_before)\n",
    "print(\"Dataframe memory used after:  \", memory_after)"
   ]
  },
  {
   "cell_type": "markdown",
   "id": "54a3ae82",
   "metadata": {
    "papermill": {
     "duration": 0.009019,
     "end_time": "2024-03-16T21:53:34.712883",
     "exception": false,
     "start_time": "2024-03-16T21:53:34.703864",
     "status": "completed"
    },
    "tags": []
   },
   "source": [
    "# Logistic Regression Model for Diabetes Prediction\n",
    "\n",
    "Here we prepare data for machine learning, specifically using a logistic regression model to predict diabetes. First, numerical columns are identified and scaled using MinMaxScaler to ensure all features contribute equally to the model without bias from varying scales. A logistic regression model is then initialized with specific parameters. The dataset is split into features (X_log) and the target variable (y_log). The data is further divided into training and test sets to evaluate the model's performance on unseen data.\n",
    "\n",
    "After training the logistic regression model, predictions are made on the test set. The model's effectiveness is assessed using accuracy, confusion matrix, and classification report, providing a comprehensive overview of its predictive capabilities in distinguishing between diabetic and non-diabetic individuals."
   ]
  },
  {
   "cell_type": "code",
   "execution_count": 6,
   "id": "1ceb40eb",
   "metadata": {
    "execution": {
     "iopub.execute_input": "2024-03-16T21:53:34.733448Z",
     "iopub.status.busy": "2024-03-16T21:53:34.732805Z",
     "iopub.status.idle": "2024-03-16T21:53:35.819779Z",
     "shell.execute_reply": "2024-03-16T21:53:35.818661Z"
    },
    "papermill": {
     "duration": 1.100032,
     "end_time": "2024-03-16T21:53:35.822222",
     "exception": false,
     "start_time": "2024-03-16T21:53:34.722190",
     "status": "completed"
    },
    "tags": []
   },
   "outputs": [
    {
     "name": "stdout",
     "output_type": "stream",
     "text": [
      "\n",
      "Logistic Regression (single) prediction results: \n",
      "\n",
      "Accuracy: 74.58 % \n",
      "\n",
      "Confusion Matrix:\n",
      "[[12556  4657]\n",
      " [ 4101 13143]] \n",
      "\n",
      "Classification Report:\n",
      "              precision    recall  f1-score   support\n",
      "\n",
      "       False       0.75      0.73      0.74     17213\n",
      "        True       0.74      0.76      0.75     17244\n",
      "\n",
      "    accuracy                           0.75     34457\n",
      "   macro avg       0.75      0.75      0.75     34457\n",
      "weighted avg       0.75      0.75      0.75     34457\n",
      "\n"
     ]
    }
   ],
   "source": [
    "# copy Dataframe for Logistic model\n",
    "log_df = reduced_df.copy(deep=True)\n",
    "\n",
    "# Selecting numerical columns (excluding binary/boolean columns)\n",
    "numerical_columns = [\"BMI\", \"GenHlth\", \"MentHlth\", \"PhysHlth\", \"Age\"]\n",
    "\n",
    "# Initialize the MinMaxScaler\n",
    "scaler = MinMaxScaler()\n",
    "\n",
    "# Fit and transform the numerical features\n",
    "log_df[numerical_columns] = scaler.fit_transform(log_df[numerical_columns])\n",
    "\n",
    "mylog_model = linear_model.LogisticRegression(solver=\"saga\", max_iter=1000)\n",
    "\n",
    "# 'X' is the feature set and 'y' is the target variable\n",
    "X_log = log_df.drop(\"Diabetes\", axis=1)\n",
    "y_log = log_df[\"Diabetes\"].astype(\"bool\")  # Ensuring the target is boolean\n",
    "\n",
    "# Splitting the dataset into the Training set and Test set\n",
    "X_log_train, X_log_test, y_log_train, y_log_test = model_selection.train_test_split(\n",
    "    X_log, y_log, test_size=0.25, random_state=42\n",
    ")\n",
    "\n",
    "# Train the model and output prediction of test data\n",
    "mylog_model.fit(X_log_train, y_log_train)\n",
    "y_pred_log = mylog_model.predict(X_log_test)\n",
    "\n",
    "# Evaluate the model\n",
    "accuracy_log = accuracy_score(y_log_test, y_pred_log)\n",
    "conf_matrix_log = confusion_matrix(y_log_test, y_pred_log)\n",
    "class_report_log = classification_report(y_log_test, y_pred_log)\n",
    "\n",
    "print(\"\\nLogistic Regression (single) prediction results:\", \"\\n\")\n",
    "print(f\"Accuracy: {round(accuracy_log*100,2)} %\", \"\\n\")\n",
    "print(\"Confusion Matrix:\")\n",
    "print(conf_matrix_log, \"\\n\")\n",
    "print(\"Classification Report:\")\n",
    "print(class_report_log)"
   ]
  },
  {
   "cell_type": "markdown",
   "id": "c9b7943c",
   "metadata": {
    "papermill": {
     "duration": 0.00878,
     "end_time": "2024-03-16T21:53:35.840773",
     "exception": false,
     "start_time": "2024-03-16T21:53:35.831993",
     "status": "completed"
    },
    "tags": []
   },
   "source": [
    "# Exporting the Model\n",
    "\n",
    "To save the trained model, we can use the joblib library. Here we show how to save and load the model."
   ]
  },
  {
   "cell_type": "code",
   "execution_count": 7,
   "id": "4726265b",
   "metadata": {
    "execution": {
     "iopub.execute_input": "2024-03-16T21:53:35.860882Z",
     "iopub.status.busy": "2024-03-16T21:53:35.859939Z",
     "iopub.status.idle": "2024-03-16T21:53:35.868653Z",
     "shell.execute_reply": "2024-03-16T21:53:35.867634Z"
    },
    "papermill": {
     "duration": 0.021009,
     "end_time": "2024-03-16T21:53:35.870818",
     "exception": false,
     "start_time": "2024-03-16T21:53:35.849809",
     "status": "completed"
    },
    "tags": []
   },
   "outputs": [
    {
     "data": {
      "text/plain": [
       "['diabetes-classifier-log_model.pkl']"
      ]
     },
     "execution_count": 7,
     "metadata": {},
     "output_type": "execute_result"
    }
   ],
   "source": [
    "import joblib\n",
    "\n",
    "# Save the model to a file\n",
    "joblib.dump(mylog_model, 'diabetes-classifier-log_model.pkl')\n",
    "\n",
    "# Later, load the model from the file with the following:\n",
    "# mylog_model = joblib.load('my_model_filename.pkl')"
   ]
  },
  {
   "cell_type": "markdown",
   "id": "b571e4f8",
   "metadata": {
    "papermill": {
     "duration": 0.008881,
     "end_time": "2024-03-16T21:53:35.888808",
     "exception": false,
     "start_time": "2024-03-16T21:53:35.879927",
     "status": "completed"
    },
    "tags": []
   },
   "source": [
    "# Patient Outcome Prediction\n",
    "\n",
    "This here is the objective of this project: to predict whether or not a patient is at risk of diabetes. The user enters the various health indicators, clicks the button and gets a prediction printed below.\n",
    "\n",
    "### Age Category-number to Year-range\n",
    "\n",
    "|*Category*|1|2|3|4|5|6|7|8|9|10|11|12|13|\n",
    "|--|--|--|--|--|--|--|--|--|--|--|--|--|--|\n",
    "|***Age range***|18-24|25-29|30-34|35-39|40-44|45-49|50-54|55-59|60-64|65-69|70-74|75-79|80+|"
   ]
  },
  {
   "cell_type": "code",
   "execution_count": 8,
   "id": "c2b783ab",
   "metadata": {
    "execution": {
     "iopub.execute_input": "2024-03-16T21:53:35.908927Z",
     "iopub.status.busy": "2024-03-16T21:53:35.908565Z",
     "iopub.status.idle": "2024-03-16T21:53:36.054652Z",
     "shell.execute_reply": "2024-03-16T21:53:36.053817Z"
    },
    "papermill": {
     "duration": 0.214297,
     "end_time": "2024-03-16T21:53:36.112277",
     "exception": false,
     "start_time": "2024-03-16T21:53:35.897980",
     "status": "completed"
    },
    "tags": []
   },
   "outputs": [
    {
     "data": {
      "application/vnd.jupyter.widget-view+json": {
       "model_id": "311b0d6968444906ad5f9c840ad73e4b",
       "version_major": 2,
       "version_minor": 0
      },
      "text/plain": [
       "Label(value='Sex:', layout=Layout(width='max-content'))"
      ]
     },
     "metadata": {},
     "output_type": "display_data"
    },
    {
     "data": {
      "application/vnd.jupyter.widget-view+json": {
       "model_id": "15e2d5138c4a48ffbf50d98e73e829ca",
       "version_major": 2,
       "version_minor": 0
      },
      "text/plain": [
       "Dropdown(options=(('Female', 0), ('Male', 1)), value=0)"
      ]
     },
     "metadata": {},
     "output_type": "display_data"
    },
    {
     "data": {
      "application/vnd.jupyter.widget-view+json": {
       "model_id": "599801a233be4301bf03ab1df9232e99",
       "version_major": 2,
       "version_minor": 0
      },
      "text/plain": [
       "Label(value='Age category (1 = 18-24, 13 = 80 or older; see table):', layout=Layout(width='max-content'))"
      ]
     },
     "metadata": {},
     "output_type": "display_data"
    },
    {
     "data": {
      "application/vnd.jupyter.widget-view+json": {
       "model_id": "5e02d2b94b044331bab9c39d15823d18",
       "version_major": 2,
       "version_minor": 0
      },
      "text/plain": [
       "FloatSlider(value=8.0, max=13.0, min=1.0, step=1.0)"
      ]
     },
     "metadata": {},
     "output_type": "display_data"
    },
    {
     "data": {
      "application/vnd.jupyter.widget-view+json": {
       "model_id": "b745a39b072e4e74b85698b82dfe5f8d",
       "version_major": 2,
       "version_minor": 0
      },
      "text/plain": [
       "Label(value='Body Mass Index:', layout=Layout(width='max-content'))"
      ]
     },
     "metadata": {},
     "output_type": "display_data"
    },
    {
     "data": {
      "application/vnd.jupyter.widget-view+json": {
       "model_id": "3626b581068f4512b65f9e39fa718c1f",
       "version_major": 2,
       "version_minor": 0
      },
      "text/plain": [
       "FloatSlider(value=20.0, max=50.0, min=10.0)"
      ]
     },
     "metadata": {},
     "output_type": "display_data"
    },
    {
     "data": {
      "application/vnd.jupyter.widget-view+json": {
       "model_id": "1481dc12e3644fb190be5e5115a54725",
       "version_major": 2,
       "version_minor": 0
      },
      "text/plain": [
       "Label(value='High Blood Pressure', layout=Layout(width='max-content'))"
      ]
     },
     "metadata": {},
     "output_type": "display_data"
    },
    {
     "data": {
      "application/vnd.jupyter.widget-view+json": {
       "model_id": "b21fa8d2637f412a97ca63ae794cc62e",
       "version_major": 2,
       "version_minor": 0
      },
      "text/plain": [
       "RadioButtons(options={'No': 0, 'Yes': 1}, value=0)"
      ]
     },
     "metadata": {},
     "output_type": "display_data"
    },
    {
     "data": {
      "application/vnd.jupyter.widget-view+json": {
       "model_id": "67f6bb4c92564c32924dc3bf0cc83983",
       "version_major": 2,
       "version_minor": 0
      },
      "text/plain": [
       "Label(value='High Cholesterol', layout=Layout(width='max-content'))"
      ]
     },
     "metadata": {},
     "output_type": "display_data"
    },
    {
     "data": {
      "application/vnd.jupyter.widget-view+json": {
       "model_id": "8f08b80074e34699be24625096032625",
       "version_major": 2,
       "version_minor": 0
      },
      "text/plain": [
       "RadioButtons(options={'No': 0, 'Yes': 1}, value=0)"
      ]
     },
     "metadata": {},
     "output_type": "display_data"
    },
    {
     "data": {
      "application/vnd.jupyter.widget-view+json": {
       "model_id": "9b1c4d6c1ad847189710e53ad034e6f3",
       "version_major": 2,
       "version_minor": 0
      },
      "text/plain": [
       "Label(value='Have you smoked at least 100 cigarettes in your life?', layout=Layout(width='max-content'))"
      ]
     },
     "metadata": {},
     "output_type": "display_data"
    },
    {
     "data": {
      "application/vnd.jupyter.widget-view+json": {
       "model_id": "b720ac4a92964a40a8f7b874f6212fac",
       "version_major": 2,
       "version_minor": 0
      },
      "text/plain": [
       "RadioButtons(options={'No': 0, 'Yes': 1}, value=0)"
      ]
     },
     "metadata": {},
     "output_type": "display_data"
    },
    {
     "data": {
      "application/vnd.jupyter.widget-view+json": {
       "model_id": "c7f8a6f9770449919fc2f9e17e28d787",
       "version_major": 2,
       "version_minor": 0
      },
      "text/plain": [
       "Label(value='Heavy drinkers (drinks <14 for men, <7 for women per week', layout=Layout(width='max-content'))"
      ]
     },
     "metadata": {},
     "output_type": "display_data"
    },
    {
     "data": {
      "application/vnd.jupyter.widget-view+json": {
       "model_id": "c39050284dfe44ad873107195cdde0a7",
       "version_major": 2,
       "version_minor": 0
      },
      "text/plain": [
       "RadioButtons(options={'No': 0, 'Yes': 1}, value=0)"
      ]
     },
     "metadata": {},
     "output_type": "display_data"
    },
    {
     "data": {
      "application/vnd.jupyter.widget-view+json": {
       "model_id": "90d5082fd73a4a37a794e2cb4214c88e",
       "version_major": 2,
       "version_minor": 0
      },
      "text/plain": [
       "Label(value='(Ever told) you had a Stroke?', layout=Layout(width='max-content'))"
      ]
     },
     "metadata": {},
     "output_type": "display_data"
    },
    {
     "data": {
      "application/vnd.jupyter.widget-view+json": {
       "model_id": "6d16703771da494eaf1a64dd7b518590",
       "version_major": 2,
       "version_minor": 0
      },
      "text/plain": [
       "RadioButtons(options={'No': 0, 'Yes': 1}, value=0)"
      ]
     },
     "metadata": {},
     "output_type": "display_data"
    },
    {
     "data": {
      "application/vnd.jupyter.widget-view+json": {
       "model_id": "3567004a039742e69a8c247eae331d31",
       "version_major": 2,
       "version_minor": 0
      },
      "text/plain": [
       "Label(value='Heart Disease or Attack (CHD or MI)', layout=Layout(width='max-content'))"
      ]
     },
     "metadata": {},
     "output_type": "display_data"
    },
    {
     "data": {
      "application/vnd.jupyter.widget-view+json": {
       "model_id": "1bca6535c4bb4fe08675bc676be69097",
       "version_major": 2,
       "version_minor": 0
      },
      "text/plain": [
       "RadioButtons(options={'No': 0, 'Yes': 1}, value=0)"
      ]
     },
     "metadata": {},
     "output_type": "display_data"
    },
    {
     "data": {
      "application/vnd.jupyter.widget-view+json": {
       "model_id": "8fbc94432b1a4c35a3cb930e42739041",
       "version_major": 2,
       "version_minor": 0
      },
      "text/plain": [
       "Label(value='General Health scale :', layout=Layout(width='max-content'))"
      ]
     },
     "metadata": {},
     "output_type": "display_data"
    },
    {
     "data": {
      "application/vnd.jupyter.widget-view+json": {
       "model_id": "35e4e634905342fb9ddef84767657455",
       "version_major": 2,
       "version_minor": 0
      },
      "text/plain": [
       "FloatSlider(value=3.0, max=5.0, min=1.0, step=1.0)"
      ]
     },
     "metadata": {},
     "output_type": "display_data"
    },
    {
     "data": {
      "application/vnd.jupyter.widget-view+json": {
       "model_id": "6e3663f553fe4fd89a496bc7a1befb90",
       "version_major": 2,
       "version_minor": 0
      },
      "text/plain": [
       "Label(value='How many past days was your Mental Health not good?', layout=Layout(width='max-content'))"
      ]
     },
     "metadata": {},
     "output_type": "display_data"
    },
    {
     "data": {
      "application/vnd.jupyter.widget-view+json": {
       "model_id": "b3c210c590bb4ff0b20f61193a36867c",
       "version_major": 2,
       "version_minor": 0
      },
      "text/plain": [
       "FloatSlider(value=0.0, max=30.0, step=1.0)"
      ]
     },
     "metadata": {},
     "output_type": "display_data"
    },
    {
     "data": {
      "application/vnd.jupyter.widget-view+json": {
       "model_id": "a20bb4b9831b41399fb57292e497cc1d",
       "version_major": 2,
       "version_minor": 0
      },
      "text/plain": [
       "Label(value='How many past days was your Physical Health not good?', layout=Layout(width='max-content'))"
      ]
     },
     "metadata": {},
     "output_type": "display_data"
    },
    {
     "data": {
      "application/vnd.jupyter.widget-view+json": {
       "model_id": "581cb08a7f934ea795f455d4beaca2a8",
       "version_major": 2,
       "version_minor": 0
      },
      "text/plain": [
       "FloatSlider(value=0.0, max=30.0, step=1.0)"
      ]
     },
     "metadata": {},
     "output_type": "display_data"
    },
    {
     "data": {
      "application/vnd.jupyter.widget-view+json": {
       "model_id": "012f936204914ad699bf6c646a396401",
       "version_major": 2,
       "version_minor": 0
      },
      "text/plain": [
       "Label(value='Do you have Difficulty Walking or climbing stairs?', layout=Layout(width='max-content'))"
      ]
     },
     "metadata": {},
     "output_type": "display_data"
    },
    {
     "data": {
      "application/vnd.jupyter.widget-view+json": {
       "model_id": "571ca2c675004c4abb522059b31f7a65",
       "version_major": 2,
       "version_minor": 0
      },
      "text/plain": [
       "RadioButtons(options={'No': 0, 'Yes': 1}, value=0)"
      ]
     },
     "metadata": {},
     "output_type": "display_data"
    },
    {
     "data": {
      "application/vnd.jupyter.widget-view+json": {
       "model_id": "d6fcd6b7fded4b1f897486ba9852f779",
       "version_major": 2,
       "version_minor": 0
      },
      "text/plain": [
       "Label(value='Physical Activity in past 30 days, not incl job', layout=Layout(width='max-content'))"
      ]
     },
     "metadata": {},
     "output_type": "display_data"
    },
    {
     "data": {
      "application/vnd.jupyter.widget-view+json": {
       "model_id": "3cb9f7dd7c7543398fb9caf1e5ea8276",
       "version_major": 2,
       "version_minor": 0
      },
      "text/plain": [
       "RadioButtons(options={'No': 0, 'Yes': 1}, value=0)"
      ]
     },
     "metadata": {},
     "output_type": "display_data"
    },
    {
     "data": {
      "application/vnd.jupyter.widget-view+json": {
       "model_id": "d9e89faf47ca4c1693beea2d2ec8c111",
       "version_major": 2,
       "version_minor": 0
      },
      "text/plain": [
       "Label(value='Eat 1 Fruit or more per day', layout=Layout(width='max-content'))"
      ]
     },
     "metadata": {},
     "output_type": "display_data"
    },
    {
     "data": {
      "application/vnd.jupyter.widget-view+json": {
       "model_id": "ded2455dc7cd4efdbd7490679da4f371",
       "version_major": 2,
       "version_minor": 0
      },
      "text/plain": [
       "RadioButtons(options={'No': 0, 'Yes': 1}, value=0)"
      ]
     },
     "metadata": {},
     "output_type": "display_data"
    },
    {
     "data": {
      "application/vnd.jupyter.widget-view+json": {
       "model_id": "71fc799fa2b94ba8951841070bf051a0",
       "version_major": 2,
       "version_minor": 0
      },
      "text/plain": [
       "Label(value='Eat Veggies 1 or more per day', layout=Layout(width='max-content'))"
      ]
     },
     "metadata": {},
     "output_type": "display_data"
    },
    {
     "data": {
      "application/vnd.jupyter.widget-view+json": {
       "model_id": "c94947ee437446a18628dcf59c600454",
       "version_major": 2,
       "version_minor": 0
      },
      "text/plain": [
       "RadioButtons(options={'No': 0, 'Yes': 1}, value=0)"
      ]
     },
     "metadata": {},
     "output_type": "display_data"
    },
    {
     "data": {
      "application/vnd.jupyter.widget-view+json": {
       "model_id": "42c347b20e2d43aabd4157b5d0777438",
       "version_major": 2,
       "version_minor": 0
      },
      "text/plain": [
       "Button(description='Predict Patient Risk', style=ButtonStyle())"
      ]
     },
     "metadata": {},
     "output_type": "display_data"
    },
    {
     "data": {
      "application/vnd.jupyter.widget-view+json": {
       "model_id": "8dc41ccfe1d642fabc946091cae4c315",
       "version_major": 2,
       "version_minor": 0
      },
      "text/plain": [
       "Output()"
      ]
     },
     "metadata": {},
     "output_type": "display_data"
    }
   ],
   "source": [
    "# USER INTERFACE: form for input for patient prediction\n",
    "import ipywidgets as widgets\n",
    "\n",
    "# 'features' is the list of features used by your model.\n",
    "features = [\n",
    "    \"Sex\",\n",
    "    \"Age\",\n",
    "    \"BMI\",\n",
    "    \"HighBP\",\n",
    "    \"HighChol\",\n",
    "    \"Smoker\",\n",
    "    \"HvyAlcoholConsump\",\n",
    "    \"Stroke\",\n",
    "    \"HeartDiseaseorAttack\",\n",
    "    \"GenHlth\",\n",
    "    \"MentHlth\",\n",
    "    \"PhysHlth\",\n",
    "    \"DiffWalk\",\n",
    "    \"PhysActivity\",\n",
    "    \"Fruits\",\n",
    "    \"Veggies\",\n",
    "]\n",
    "\n",
    "# 'widget_items' is a dictionary mapping feature to description\n",
    "widget_items = {\n",
    "    \"Sex\": \"Sex:\",\n",
    "    \"Age\": \"Age category (1 = 18-24, 13 = 80 or older; see table):\",\n",
    "    \"BMI\": \"Body Mass Index:\",\n",
    "    \"HighBP\": \"High Blood Pressure\",\n",
    "    \"HighChol\": \"High Cholesterol\",\n",
    "    \"Smoker\": \"Have you smoked at least 100 cigarettes in your life?\",\n",
    "    \"HvyAlcoholConsump\": \"Heavy drinkers (drinks <14 for men, <7 for women per week\",\n",
    "    \"Stroke\": \"(Ever told) you had a Stroke?\",\n",
    "    \"HeartDiseaseorAttack\": \"Heart Disease or Attack (CHD or MI)\",\n",
    "    \"GenHlth\": \"General Health scale :\",\n",
    "    \"MentHlth\": \"How many past days was your Mental Health not good?\",\n",
    "    \"PhysHlth\": \"How many past days was your Physical Health not good?\",\n",
    "    \"DiffWalk\": \"Do you have Difficulty Walking or climbing stairs?\",\n",
    "    \"PhysActivity\": \"Physical Activity in past 30 days, not incl job\",\n",
    "    \"Fruits\": \"Eat 1 Fruit or more per day\",\n",
    "    \"Veggies\": \"Eat Veggies 1 or more per day\",\n",
    "}\n",
    "widgets_dict = {}\n",
    "\n",
    "# Create widgets for each feature\n",
    "for item in widget_items.keys():\n",
    "    if item in [\n",
    "        \"HighBP\",\n",
    "        \"HighChol\",\n",
    "        \"Smoker\",\n",
    "        \"Stroke\",\n",
    "        \"HeartDiseaseorAttack\",\n",
    "        \"PhysActivity\",\n",
    "        \"Fruits\",\n",
    "        \"Veggies\",\n",
    "        \"HvyAlcoholConsump\",\n",
    "        \"DiffWalk\",\n",
    "    ]:\n",
    "        # Binary features: create a dropdown with options 'Yes' and 'No'\n",
    "        widgets_dict[item + \"_label\"] = widgets.Label(\n",
    "            widget_items.get(item), layout={\"width\": \"max-content\"}\n",
    "        )\n",
    "        widgets_dict[item] = widgets.RadioButtons(\n",
    "            options={\"No\": 0, \"Yes\": 1},\n",
    "            value=0,\n",
    "        )\n",
    "    if item in [\"Sex\"]:\n",
    "        # Create a dropdown with options 'Male' and 'Female'\n",
    "        widgets_dict[item + \"_label\"] = widgets.Label(\n",
    "            widget_items.get(item), layout={\"width\": \"max-content\"}\n",
    "        )\n",
    "        widgets_dict[item] = widgets.Dropdown(\n",
    "            options=[(\"Female\", 0), (\"Male\", 1)],\n",
    "            value=0,\n",
    "        )\n",
    "    # Numerical features: create float sliders\n",
    "    if item in [\"BMI\"]:\n",
    "        widgets_dict[item + \"_label\"] = widgets.Label(\n",
    "            widget_items.get(item), layout={\"width\": \"max-content\"}\n",
    "        )\n",
    "        widgets_dict[item] = widgets.FloatSlider(\n",
    "            value=20.0,\n",
    "            min=10,\n",
    "            max=50.0,\n",
    "            step=0.1,\n",
    "        )\n",
    "    if item in [\"GenHlth\"]:\n",
    "        widgets_dict[item + \"_label\"] = widgets.Label(\n",
    "            widget_items.get(item), layout={\"width\": \"max-content\"}\n",
    "        )\n",
    "        widgets_dict[item] = widgets.FloatSlider(\n",
    "            value=3,\n",
    "            min=1,\n",
    "            max=5,\n",
    "            step=1,\n",
    "        )\n",
    "    if item in [\"MentHlth\", \"PhysHlth\"]:\n",
    "        widgets_dict[item + \"_label\"] = widgets.Label(\n",
    "            widget_items.get(item), layout={\"width\": \"max-content\"}\n",
    "        )\n",
    "        widgets_dict[item] = widgets.FloatSlider(\n",
    "            value=0,\n",
    "            min=0,\n",
    "            max=30,\n",
    "            step=1,\n",
    "        )\n",
    "    if item in [\"Age\"]:\n",
    "        widgets_dict[item + \"_label\"] = widgets.Label(\n",
    "            widget_items.get(item), layout={\"width\": \"max-content\"}\n",
    "        )\n",
    "        widgets_dict[item] = widgets.FloatSlider(\n",
    "            value=8,\n",
    "            min=1,\n",
    "            max=13,\n",
    "            step=1,\n",
    "        )\n",
    "\n",
    "# Button to make prediction\n",
    "predict_btn = widgets.Button(description=\"Predict Patient Risk\")\n",
    "\n",
    "# Output widget to display prediction result\n",
    "output = widgets.Output()\n",
    "\n",
    "\n",
    "def on_predict_btn_clicked(b):\n",
    "    # Prepare the input for the model\n",
    "    input_data = [widgets_dict[feature].value for feature in features]\n",
    "    input_data = np.array(input_data).reshape(1, -1)\n",
    "\n",
    "    # Create a DataFrame with input_data and assign column names using features\n",
    "    input_df = pd.DataFrame(input_data, columns=features)\n",
    "\n",
    "    # Ensure the DataFrame columns are in the correct order\n",
    "    input_df = input_df[X_log.columns]\n",
    "\n",
    "    # Apply the same scaling to the input as was done to the training data\n",
    "    input_df[numerical_columns] = scaler.transform(input_df[numerical_columns])\n",
    "\n",
    "    #### Make prediction ####\n",
    "    prediction = mylog_model.predict(input_df)\n",
    "\n",
    "    # Display prediction\n",
    "    with output:\n",
    "        output.clear_output()\n",
    "        if prediction[0] == 0:\n",
    "            print(\"Prediction: Not at risk of diabetes\")\n",
    "        else:\n",
    "            print(\"Prediction: At risk of diabetes\")\n",
    "\n",
    "\n",
    "predict_btn.on_click(on_predict_btn_clicked)\n",
    "\n",
    "# Display widgets\n",
    "for widget in widgets_dict.values():\n",
    "    display(widget)\n",
    "display(predict_btn, output)"
   ]
  },
  {
   "cell_type": "markdown",
   "id": "0c72df40",
   "metadata": {
    "papermill": {
     "duration": 0.013402,
     "end_time": "2024-03-16T21:53:36.139403",
     "exception": false,
     "start_time": "2024-03-16T21:53:36.126001",
     "status": "completed"
    },
    "tags": []
   },
   "source": [
    "# Data Exploration\n",
    "\n",
    "Next we generate some visuals to explore some possible relationships in the data. We will look at Histograms and Scatterplots.\n",
    "\n",
    "## Histogram Figure 1.a\n",
    "\n",
    "Here we generate a histogram that compares the distribution of general health ratings (GenHlth) between individuals with and without diabetes (Diabetes status) in the dataset. For each group, we display the frequency of respondents across five health rating categories, ranging from poor to excellent health, after these ratings have been reversed so that higher numbers indicate better health. The histogram for individuals without diabetes is shown in blue, while the histogram for those with diabetes is in orange, allowing for a visual comparison of how general health perceptions differ between these two groups. This visualization aids in understanding whether there's a noticeable difference in self-reported general health status among individuals based on their diabetes condition."
   ]
  },
  {
   "cell_type": "code",
   "execution_count": 9,
   "id": "6800e094",
   "metadata": {
    "execution": {
     "iopub.execute_input": "2024-03-16T21:53:36.168791Z",
     "iopub.status.busy": "2024-03-16T21:53:36.168059Z",
     "iopub.status.idle": "2024-03-16T21:53:36.478841Z",
     "shell.execute_reply": "2024-03-16T21:53:36.478079Z"
    },
    "jupyter": {
     "source_hidden": true
    },
    "papermill": {
     "duration": 0.328141,
     "end_time": "2024-03-16T21:53:36.481210",
     "exception": false,
     "start_time": "2024-03-16T21:53:36.153069",
     "status": "completed"
    },
    "tags": []
   },
   "outputs": [
    {
     "data": {
      "image/png": "[encoded data removed]",
      "text/plain": [
       "<Figure size 640x480 with 1 Axes>"
      ]
     },
     "metadata": {},
     "output_type": "display_data"
    }
   ],
   "source": [
    "# Filter the dataset by Diabetes status\n",
    "gen_health_no_diabetes = reduced_df[reduced_df[\"Diabetes\"] == False][\"GenHlth\"]\n",
    "gen_health_with_diabetes = reduced_df[reduced_df[\"Diabetes\"] == True][\"GenHlth\"]\n",
    "\n",
    "# Plot histograms\n",
    "plt.hist(\n",
    "    gen_health_no_diabetes, bins=5, alpha=0.5, label=\"No Diabetes\", edgecolor=\"black\"\n",
    ")\n",
    "plt.hist(\n",
    "    gen_health_with_diabetes, bins=5, alpha=0.5, label=\"Diabetes\", edgecolor=\"black\"\n",
    ")\n",
    "\n",
    "# Add legend\n",
    "plt.legend()\n",
    "\n",
    "# Add titles and labels as needed\n",
    "plt.title(\"General Health by Diabetes Status\")\n",
    "plt.xlabel(\"General Health Rating\")\n",
    "plt.ylabel(\"Frequency\")\n",
    "\n",
    "# Set x-axis to display integer values from 1 to 5\n",
    "plt.xticks(range(1, 6))\n",
    "\n",
    "# Show the plot\n",
    "plt.show()"
   ]
  },
  {
   "cell_type": "markdown",
   "id": "d0e29b2c",
   "metadata": {
    "papermill": {
     "duration": 0.016833,
     "end_time": "2024-03-16T21:53:36.513332",
     "exception": false,
     "start_time": "2024-03-16T21:53:36.496499",
     "status": "completed"
    },
    "tags": []
   },
   "source": [
    "## Histogram Figure 1.b\n",
    "\n",
    "Analysis of physical health comparing diabetics to non-diabetics. "
   ]
  },
  {
   "cell_type": "code",
   "execution_count": 10,
   "id": "aa4c2ac4",
   "metadata": {
    "execution": {
     "iopub.execute_input": "2024-03-16T21:53:36.544372Z",
     "iopub.status.busy": "2024-03-16T21:53:36.543263Z",
     "iopub.status.idle": "2024-03-16T21:53:36.844694Z",
     "shell.execute_reply": "2024-03-16T21:53:36.843772Z"
    },
    "jupyter": {
     "source_hidden": true
    },
    "papermill": {
     "duration": 0.319074,
     "end_time": "2024-03-16T21:53:36.846985",
     "exception": false,
     "start_time": "2024-03-16T21:53:36.527911",
     "status": "completed"
    },
    "tags": []
   },
   "outputs": [
    {
     "data": {
      "image/png": "[encoded data removed]",
      "text/plain": [
       "<Figure size 640x480 with 1 Axes>"
      ]
     },
     "metadata": {},
     "output_type": "display_data"
    }
   ],
   "source": [
    "# Filter the dataset by Diabetes status\n",
    "phys_health_no_diabetes = reduced_df[reduced_df[\"Diabetes\"] == False][\"PhysHlth\"]\n",
    "phys_health_with_diabetes = reduced_df[reduced_df[\"Diabetes\"] == True][\"PhysHlth\"]\n",
    "\n",
    "# Plot histograms\n",
    "plt.hist(\n",
    "    phys_health_no_diabetes, alpha=0.5, label=\"No Diabetes\", bins=6, edgecolor=\"black\"\n",
    ")\n",
    "plt.hist(\n",
    "    phys_health_with_diabetes, alpha=0.5, label=\"Diabetes\", bins=6, edgecolor=\"black\"\n",
    ")\n",
    "\n",
    "# Add legend\n",
    "plt.legend()\n",
    "\n",
    "# Add titles and labels as needed\n",
    "plt.title(\"Physical Health by Diabetes Status\")\n",
    "plt.xlabel(\"Poor Physical Health Days\")\n",
    "plt.ylabel(\"Frequency\")\n",
    "\n",
    "# Show the plot\n",
    "plt.show()"
   ]
  },
  {
   "cell_type": "markdown",
   "id": "bede366e",
   "metadata": {
    "papermill": {
     "duration": 0.015003,
     "end_time": "2024-03-16T21:53:36.876733",
     "exception": false,
     "start_time": "2024-03-16T21:53:36.861730",
     "status": "completed"
    },
    "tags": []
   },
   "source": [
    "## Histogram Figure 1.c\n",
    "\n",
    "Analysis of mental health comparing diabetics to non-diabetics. "
   ]
  },
  {
   "cell_type": "code",
   "execution_count": 11,
   "id": "184ad82c",
   "metadata": {
    "execution": {
     "iopub.execute_input": "2024-03-16T21:53:36.908382Z",
     "iopub.status.busy": "2024-03-16T21:53:36.907985Z",
     "iopub.status.idle": "2024-03-16T21:53:37.166932Z",
     "shell.execute_reply": "2024-03-16T21:53:37.165799Z"
    },
    "jupyter": {
     "source_hidden": true
    },
    "papermill": {
     "duration": 0.277501,
     "end_time": "2024-03-16T21:53:37.169204",
     "exception": false,
     "start_time": "2024-03-16T21:53:36.891703",
     "status": "completed"
    },
    "tags": []
   },
   "outputs": [
    {
     "data": {
      "image/png": "[encoded data removed]",
      "text/plain": [
       "<Figure size 640x480 with 1 Axes>"
      ]
     },
     "metadata": {},
     "output_type": "display_data"
    }
   ],
   "source": [
    "# Filter the dataset by Diabetes status\n",
    "phys_health_no_diabetes = reduced_df[reduced_df[\"Diabetes\"] == False][\"MentHlth\"]\n",
    "phys_health_with_diabetes = reduced_df[reduced_df[\"Diabetes\"] == True][\"MentHlth\"]\n",
    "\n",
    "# Plot histograms\n",
    "plt.hist(\n",
    "    phys_health_no_diabetes, alpha=0.5, label=\"No Diabetes\", bins=6, edgecolor=\"black\"\n",
    ")\n",
    "plt.hist(\n",
    "    phys_health_with_diabetes, alpha=0.5, label=\"Diabetes\", bins=6, edgecolor=\"black\"\n",
    ")\n",
    "\n",
    "# Add legend\n",
    "plt.legend()\n",
    "\n",
    "# Add titles and labels as needed\n",
    "plt.title(\"Mental Health by Diabetes Status\")\n",
    "plt.xlabel(\"Poor Mental Health Days\")\n",
    "plt.ylabel(\"Frequency\")\n",
    "\n",
    "# Show the plot\n",
    "plt.show()"
   ]
  },
  {
   "cell_type": "markdown",
   "id": "21a69d5a",
   "metadata": {
    "papermill": {
     "duration": 0.014984,
     "end_time": "2024-03-16T21:53:37.199496",
     "exception": false,
     "start_time": "2024-03-16T21:53:37.184512",
     "status": "completed"
    },
    "tags": []
   },
   "source": [
    "## Histogram Figure 1.d\n",
    "\n",
    "### Age distribution\n",
    "\n",
    "Here we provide a visual distribution analysis of the Age feature. Of note, the data was collected using a 13-level age category where 1 = 18-24, 9 = 60-64, and 13 = 80 or older."
   ]
  },
  {
   "cell_type": "code",
   "execution_count": 12,
   "id": "06917811",
   "metadata": {
    "execution": {
     "iopub.execute_input": "2024-03-16T21:53:37.232053Z",
     "iopub.status.busy": "2024-03-16T21:53:37.231071Z",
     "iopub.status.idle": "2024-03-16T21:53:37.501921Z",
     "shell.execute_reply": "2024-03-16T21:53:37.501067Z"
    },
    "jupyter": {
     "source_hidden": true
    },
    "papermill": {
     "duration": 0.289736,
     "end_time": "2024-03-16T21:53:37.504338",
     "exception": false,
     "start_time": "2024-03-16T21:53:37.214602",
     "status": "completed"
    },
    "tags": []
   },
   "outputs": [
    {
     "data": {
      "image/png": "[encoded data removed]",
      "text/plain": [
       "<Figure size 640x480 with 1 Axes>"
      ]
     },
     "metadata": {},
     "output_type": "display_data"
    }
   ],
   "source": [
    "# Plot Age histogram\n",
    "graph_histograms = reduced_df.hist(column=\"Age\", grid=True, bins=13)\n",
    "\n",
    "# Calculate the tick positions for 13 bins\n",
    "tick_positions = range(1, 14)\n",
    "\n",
    "# Set the x-axis ticks\n",
    "plt.xticks(tick_positions)\n",
    "\n",
    "# Optionally, set x-axis and y-axis labels\n",
    "plt.xlabel(\"Age Category\")\n",
    "plt.ylabel(\"Frequency\")\n",
    "\n",
    "# Show the plot\n",
    "plt.show()"
   ]
  },
  {
   "cell_type": "markdown",
   "id": "914747f1",
   "metadata": {
    "papermill": {
     "duration": 0.015552,
     "end_time": "2024-03-16T21:53:37.537073",
     "exception": false,
     "start_time": "2024-03-16T21:53:37.521521",
     "status": "completed"
    },
    "tags": []
   },
   "source": [
    "## Scatterplot figure 2.a\n",
    "\n",
    "### BMI over Age\n",
    "\n",
    "Here we see that diabetics have a higher BMI on average."
   ]
  },
  {
   "cell_type": "code",
   "execution_count": 13,
   "id": "be7de57c",
   "metadata": {
    "execution": {
     "iopub.execute_input": "2024-03-16T21:53:37.570256Z",
     "iopub.status.busy": "2024-03-16T21:53:37.569582Z",
     "iopub.status.idle": "2024-03-16T21:53:41.919505Z",
     "shell.execute_reply": "2024-03-16T21:53:41.918364Z"
    },
    "jupyter": {
     "source_hidden": true
    },
    "papermill": {
     "duration": 4.369653,
     "end_time": "2024-03-16T21:53:41.922280",
     "exception": false,
     "start_time": "2024-03-16T21:53:37.552627",
     "status": "completed"
    },
    "tags": []
   },
   "outputs": [
    {
     "data": {
      "text/plain": [
       "<seaborn.axisgrid.FacetGrid at 0x7ae1f03449a0>"
      ]
     },
     "execution_count": 13,
     "metadata": {},
     "output_type": "execute_result"
    },
    {
     "data": {
      "image/png": "[encoded data removed]",
      "text/plain": [
       "<Figure size 1084.88x500 with 2 Axes>"
      ]
     },
     "metadata": {},
     "output_type": "display_data"
    }
   ],
   "source": [
    "# Copy the DataFrame to avoid modifying the original data\n",
    "plot_df = reduced_df.copy()\n",
    "\n",
    "# Map True/False to Male/Female\n",
    "plot_df[\"Sex\"] = plot_df[\"Sex\"].map({True: \"Male\", False: \"Female\"})\n",
    "\n",
    "# Age/BMI Scatterplot\n",
    "sns.lmplot(\n",
    "    data=plot_df,\n",
    "    x=\"Age\",\n",
    "    y=\"BMI\",\n",
    "    col=\"Sex\",\n",
    "    hue=\"Diabetes\",\n",
    "    x_bins=1000,\n",
    "    fit_reg=False,\n",
    ")"
   ]
  },
  {
   "cell_type": "markdown",
   "id": "00bff28c",
   "metadata": {
    "papermill": {
     "duration": 0.016656,
     "end_time": "2024-03-16T21:53:41.955442",
     "exception": false,
     "start_time": "2024-03-16T21:53:41.938786",
     "status": "completed"
    },
    "tags": []
   },
   "source": [
    "## Scatterplot figure 2.b\n",
    "\n",
    "### General Health over Age\n",
    "\n",
    "The general health indicator is on a scale of 1 to 5, with a score of 5 as excellent. Here we see that diabetics have poorer general health. We also see a trend in healthy people where the older one gets, the poorer their overall health. Diabetics do not show this trend."
   ]
  },
  {
   "cell_type": "code",
   "execution_count": 14,
   "id": "d9a408a9",
   "metadata": {
    "execution": {
     "iopub.execute_input": "2024-03-16T21:53:41.990571Z",
     "iopub.status.busy": "2024-03-16T21:53:41.990225Z",
     "iopub.status.idle": "2024-03-16T21:53:57.755098Z",
     "shell.execute_reply": "2024-03-16T21:53:57.754045Z"
    },
    "jupyter": {
     "source_hidden": true
    },
    "papermill": {
     "duration": 15.785168,
     "end_time": "2024-03-16T21:53:57.757396",
     "exception": false,
     "start_time": "2024-03-16T21:53:41.972228",
     "status": "completed"
    },
    "tags": []
   },
   "outputs": [
    {
     "data": {
      "text/plain": [
       "<seaborn.axisgrid.FacetGrid at 0x7ae1f00797e0>"
      ]
     },
     "execution_count": 14,
     "metadata": {},
     "output_type": "execute_result"
    },
    {
     "data": {
      "image/png": "[encoded data removed]",
      "text/plain": [
       "<Figure size 584.875x500 with 1 Axes>"
      ]
     },
     "metadata": {},
     "output_type": "display_data"
    }
   ],
   "source": [
    "# Age/General-Health Scatterplot\n",
    "sns.lmplot(data=reduced_df, x=\"Age\", y=\"GenHlth\", hue=\"Diabetes\", x_bins=1000)"
   ]
  },
  {
   "cell_type": "markdown",
   "id": "d5702800",
   "metadata": {
    "papermill": {
     "duration": 0.074341,
     "end_time": "2024-03-16T21:53:57.848991",
     "exception": false,
     "start_time": "2024-03-16T21:53:57.774650",
     "status": "completed"
    },
    "tags": []
   },
   "source": [
    "## Scatterplot figure 2.c\n",
    "\n",
    "### Physical Health as compared to Mental health\n",
    "\n",
    "Here we see a trend that the more days per month of poor mental health an individual has, the more days on average of physical health they will experience. Of note is diabetics have a similar distribution of poor mental health days, but significantly more days per month of poor physical health."
   ]
  },
  {
   "cell_type": "code",
   "execution_count": 15,
   "id": "0f5120ab",
   "metadata": {
    "execution": {
     "iopub.execute_input": "2024-03-16T21:53:57.885330Z",
     "iopub.status.busy": "2024-03-16T21:53:57.884940Z",
     "iopub.status.idle": "2024-03-16T21:54:13.510835Z",
     "shell.execute_reply": "2024-03-16T21:54:13.510067Z"
    },
    "jupyter": {
     "source_hidden": true
    },
    "papermill": {
     "duration": 15.64675,
     "end_time": "2024-03-16T21:54:13.513242",
     "exception": false,
     "start_time": "2024-03-16T21:53:57.866492",
     "status": "completed"
    },
    "tags": []
   },
   "outputs": [
    {
     "data": {
      "text/plain": [
       "<seaborn.axisgrid.FacetGrid at 0x7ae1eff34880>"
      ]
     },
     "execution_count": 15,
     "metadata": {},
     "output_type": "execute_result"
    },
    {
     "data": {
      "image/png": "[encoded data removed]",
      "text/plain": [
       "<Figure size 584.875x500 with 1 Axes>"
      ]
     },
     "metadata": {},
     "output_type": "display_data"
    }
   ],
   "source": [
    "# Health Scatterplot\n",
    "sns.lmplot(data=reduced_df, x=\"MentHlth\", y=\"PhysHlth\", hue=\"Diabetes\", x_bins=1000)"
   ]
  },
  {
   "cell_type": "markdown",
   "id": "bd15deaa",
   "metadata": {
    "papermill": {
     "duration": 0.018091,
     "end_time": "2024-03-16T21:54:13.549327",
     "exception": false,
     "start_time": "2024-03-16T21:54:13.531236",
     "status": "completed"
    },
    "tags": []
   },
   "source": [
    "# Random Forest Model for Comparison\n",
    "\n",
    "Here we set up a second model using the Random Forest algorithm to compare with our Logistic Regression model. The steps are much the same as before, however we do not need to scale the numerical data."
   ]
  },
  {
   "cell_type": "code",
   "execution_count": 16,
   "id": "0323ca06",
   "metadata": {
    "execution": {
     "iopub.execute_input": "2024-03-16T21:54:13.587085Z",
     "iopub.status.busy": "2024-03-16T21:54:13.586203Z",
     "iopub.status.idle": "2024-03-16T21:54:31.424345Z",
     "shell.execute_reply": "2024-03-16T21:54:31.423246Z"
    },
    "papermill": {
     "duration": 17.859382,
     "end_time": "2024-03-16T21:54:31.426500",
     "exception": false,
     "start_time": "2024-03-16T21:54:13.567118",
     "status": "completed"
    },
    "tags": []
   },
   "outputs": [
    {
     "name": "stdout",
     "output_type": "stream",
     "text": [
      "\n",
      "Random Forest (single) prediction results: \n",
      "\n",
      "Accuracy: 72.13 % \n",
      "\n",
      "Confusion Matrix:\n",
      "[[11906  5307]\n",
      " [ 4297 12947]] \n",
      "\n",
      "Classification Report:\n",
      "              precision    recall  f1-score   support\n",
      "\n",
      "       False       0.73      0.69      0.71     17213\n",
      "        True       0.71      0.75      0.73     17244\n",
      "\n",
      "    accuracy                           0.72     34457\n",
      "   macro avg       0.72      0.72      0.72     34457\n",
      "weighted avg       0.72      0.72      0.72     34457\n",
      "\n"
     ]
    }
   ],
   "source": [
    "# 'X' is the set of features and 'y' is the target variable\n",
    "X_rf = reduced_df.drop(\"Diabetes\", axis=1)\n",
    "y_rf = reduced_df[\"Diabetes\"].astype(\"bool\")  # Ensuring the target is boolean\n",
    "\n",
    "# Splitting the dataset into the Training set and Test set\n",
    "X_rf_train, X_rf_test, y_rf_train, y_rf_test = train_test_split(\n",
    "    X_rf, y_rf, test_size=0.25, random_state=42\n",
    ")\n",
    "\n",
    "# Creating a Random Forest Classifier -- You can adjust parameters\n",
    "rf_classifier = RandomForestClassifier(n_estimators=100, random_state=42)\n",
    "\n",
    "# Fitting Random Forest to the Training set\n",
    "rf_classifier.fit(X_rf_train, y_rf_train)\n",
    "\n",
    "# Predicting the Test set results\n",
    "y_pred_rf = rf_classifier.predict(X_rf_test)\n",
    "\n",
    "accuracy_rf = accuracy_score(y_rf_test, y_pred_rf)\n",
    "conf_matrix_rf = confusion_matrix(y_rf_test, y_pred_rf)\n",
    "class_report_rf = classification_report(y_rf_test, y_pred_rf)\n",
    "\n",
    "# Evaluate the model\n",
    "print(\"\\nRandom Forest (single) prediction results:\", \"\\n\")\n",
    "print(f\"Accuracy: {round(accuracy_rf*100,2)} %\", \"\\n\")\n",
    "print(\"Confusion Matrix:\")\n",
    "print(conf_matrix_rf, \"\\n\")\n",
    "print(\"Classification Report:\")\n",
    "print(class_report_rf)"
   ]
  },
  {
   "cell_type": "markdown",
   "id": "8f1eaa68",
   "metadata": {
    "papermill": {
     "duration": 0.017337,
     "end_time": "2024-03-16T21:54:31.461533",
     "exception": false,
     "start_time": "2024-03-16T21:54:31.444196",
     "status": "completed"
    },
    "tags": []
   },
   "source": [
    "# Cross-Validation of Models\n",
    "\n",
    "Next we perform a cross-validation process on the logistic regression and Random Forest models to verify their reliability across different subsets of the dataset. By utilizing the KFold method with 5 splits and shuffling enabled, the dataset is divided into distinct subsets to conduct multiple training and testing cycles. The average of these scores is calculated and displayed, offering a robust measure of the model's overall performance. This approach helps to ensure that the model's predictive accuracy is not overly dependent on any particular partition of the data, thereby increasing confidence in its generalizability."
   ]
  },
  {
   "cell_type": "code",
   "execution_count": 17,
   "id": "0d61711c",
   "metadata": {
    "execution": {
     "iopub.execute_input": "2024-03-16T21:54:31.498580Z",
     "iopub.status.busy": "2024-03-16T21:54:31.497941Z",
     "iopub.status.idle": "2024-03-16T21:56:05.568582Z",
     "shell.execute_reply": "2024-03-16T21:56:05.567469Z"
    },
    "jupyter": {
     "source_hidden": true
    },
    "papermill": {
     "duration": 94.110389,
     "end_time": "2024-03-16T21:56:05.589495",
     "exception": false,
     "start_time": "2024-03-16T21:54:31.479106",
     "status": "completed"
    },
    "tags": []
   },
   "outputs": [
    {
     "name": "stdout",
     "output_type": "stream",
     "text": [
      "Logistic Regression Average Prediction Score:  74.26 %\n",
      "Random Forest Average Prediction Score:  71.89 %\n"
     ]
    }
   ],
   "source": [
    "# Verify model by averaging different test/train splits\n",
    "k_folds = KFold(n_splits=5, shuffle=True)\n",
    "# The number of folds determines the test/train split for each iteration.\n",
    "# So 5 folds has 5 different mutually exclusive training sets.\n",
    "# That's a 1 to 4 (or .20 to .80) testing/training split for each of the 5 iterations.\n",
    "\n",
    "# This is the average score. Print 'scores' to see array of individual iteration scores.\n",
    "log_scores = cross_val_score(mylog_model, X_log, y_log)\n",
    "rf_scores = cross_val_score(rf_classifier, X_rf, y_rf)\n",
    "\n",
    "# Output average scores\n",
    "print(\n",
    "    \"Logistic Regression Average Prediction Score: \",\n",
    "    round(log_scores.mean() * 100, 2),\n",
    "    \"%\",\n",
    ")\n",
    "print(\"Random Forest Average Prediction Score: \", round(rf_scores.mean() * 100, 2), \"%\")"
   ]
  },
  {
   "cell_type": "markdown",
   "id": "9aa4e4d0",
   "metadata": {
    "papermill": {
     "duration": 0.017532,
     "end_time": "2024-03-16T21:56:05.624727",
     "exception": false,
     "start_time": "2024-03-16T21:56:05.607195",
     "status": "completed"
    },
    "tags": []
   },
   "source": [
    "# Confusion Matrix Visual\n",
    "\n",
    "Confusion matrixes are used to evaluate the performance in classifying diabetic and non-diabetic individuals. Here we look at the Logistic Regression model, because it proved to be more accurate. More importantly, it had less false-negative outcomes compared to the random forest model (4101 vs 4297)."
   ]
  },
  {
   "cell_type": "code",
   "execution_count": 18,
   "id": "89bc7de9",
   "metadata": {
    "execution": {
     "iopub.execute_input": "2024-03-16T21:56:05.662452Z",
     "iopub.status.busy": "2024-03-16T21:56:05.662077Z",
     "iopub.status.idle": "2024-03-16T21:56:06.034317Z",
     "shell.execute_reply": "2024-03-16T21:56:06.033192Z"
    },
    "jupyter": {
     "source_hidden": true
    },
    "papermill": {
     "duration": 0.393879,
     "end_time": "2024-03-16T21:56:06.036706",
     "exception": false,
     "start_time": "2024-03-16T21:56:05.642827",
     "status": "completed"
    },
    "tags": []
   },
   "outputs": [
    {
     "data": {
      "image/png": "[encoded data removed]",
      "text/plain": [
       "<Figure size 640x480 with 2 Axes>"
      ]
     },
     "metadata": {},
     "output_type": "display_data"
    }
   ],
   "source": [
    "# Plot confusion matrix\n",
    "graph_confusion_matrix = ConfusionMatrixDisplay.from_predictions(y_log_test, y_pred_log)"
   ]
  }
 ],
 "metadata": {
  "kaggle": {
   "accelerator": "none",
   "dataSources": [
    {
     "datasetId": 1703281,
     "sourceId": 2789260,
     "sourceType": "datasetVersion"
    },
    {
     "datasetId": 4066291,
     "sourceId": 7062872,
     "sourceType": "datasetVersion"
    }
   ],
   "dockerImageVersionId": 30664,
   "isGpuEnabled": false,
   "isInternetEnabled": false,
   "language": "python",
   "sourceType": "notebook"
  },
  "kernelspec": {
   "display_name": "Python 3",
   "language": "python",
   "name": "python3"
  },
  "language_info": {
   "codemirror_mode": {
    "name": "ipython",
    "version": 3
   },
   "file_extension": ".py",
   "mimetype": "text/x-python",
   "name": "python",
   "nbconvert_exporter": "python",
   "pygments_lexer": "ipython3",
   "version": "3.10.13"
  },
  "papermill": {
   "default_parameters": {},
   "duration": 157.957901,
   "end_time": "2024-03-16T21:56:06.678005",
   "environment_variables": {},
   "exception": null,
   "input_path": "__notebook__.ipynb",
   "output_path": "__notebook__.ipynb",
   "parameters": {},
   "start_time": "2024-03-16T21:53:28.720104",
   "version": "2.5.0"
  },
  "widgets": {
   "application/vnd.jupyter.widget-state+json": {
    "state": {
     "012f936204914ad699bf6c646a396401": {
      "model_module": "@jupyter-widgets/controls",
      "model_module_version": "1.5.0",
      "model_name": "LabelModel",
      "state": {
       "_dom_classes": [],
       "_model_module": "@jupyter-widgets/controls",
       "_model_module_version": "1.5.0",
       "_model_name": "LabelModel",
       "_view_count": null,
       "_view_module": "@jupyter-widgets/controls",
       "_view_module_version": "1.5.0",
       "_view_name": "LabelView",
       "description": "",
       "description_tooltip": null,
       "layout": "IPY_MODEL_cacffbe16096423c839e3ff031857062",
       "placeholder": "​",
       "style": "IPY_MODEL_5e087ef7abc34b4090e656bfa9b17f5e",
       "value": "Do you have Difficulty Walking or climbing stairs?"
      }
     },
     "03a85189455848ab94333e30257a3f73": {
      "model_module": "@jupyter-widgets/base",
      "model_module_version": "1.2.0",
      "model_name": "LayoutModel",
      "state": {
       "_model_module": "@jupyter-widgets/base",
       "_model_module_version": "1.2.0",
       "_model_name": "LayoutModel",
       "_view_count": null,
       "_view_module": "@jupyter-widgets/base",
       "_view_module_version": "1.2.0",
       "_view_name": "LayoutView",
       "align_content": null,
       "align_items": null,
       "align_self": null,
       "border": null,
       "bottom": null,
       "display": null,
       "flex": null,
       "flex_flow": null,
       "grid_area": null,
       "grid_auto_columns": null,
       "grid_auto_flow": null,
       "grid_auto_rows": null,
       "grid_column": null,
       "grid_gap": null,
       "grid_row": null,
       "grid_template_areas": null,
       "grid_template_columns": null,
       "grid_template_rows": null,
       "height": null,
       "justify_content": null,
       "justify_items": null,
       "left": null,
       "margin": null,
       "max_height": null,
       "max_width": null,
       "min_height": null,
       "min_width": null,
       "object_fit": null,
       "object_position": null,
       "order": null,
       "overflow": null,
       "overflow_x": null,
       "overflow_y": null,
       "padding": null,
       "right": null,
       "top": null,
       "visibility": null,
       "width": "max-content"
      }
     },
     "047dcd8f1ada4f85abc4725ba8d87fe9": {
      "model_module": "@jupyter-widgets/base",
      "model_module_version": "1.2.0",
      "model_name": "LayoutModel",
      "state": {
       "_model_module": "@jupyter-widgets/base",
       "_model_module_version": "1.2.0",
       "_model_name": "LayoutModel",
       "_view_count": null,
       "_view_module": "@jupyter-widgets/base",
       "_view_module_version": "1.2.0",
       "_view_name": "LayoutView",
       "align_content": null,
       "align_items": null,
       "align_self": null,
       "border": null,
       "bottom": null,
       "display": null,
       "flex": null,
       "flex_flow": null,
       "grid_area": null,
       "grid_auto_columns": null,
       "grid_auto_flow": null,
       "grid_auto_rows": null,
       "grid_column": null,
       "grid_gap": null,
       "grid_row": null,
       "grid_template_areas": null,
       "grid_template_columns": null,
       "grid_template_rows": null,
       "height": null,
       "justify_content": null,
       "justify_items": null,
       "left": null,
       "margin": null,
       "max_height": null,
       "max_width": null,
       "min_height": null,
       "min_width": null,
       "object_fit": null,
       "object_position": null,
       "order": null,
       "overflow": null,
       "overflow_x": null,
       "overflow_y": null,
       "padding": null,
       "right": null,
       "top": null,
       "visibility": null,
       "width": "max-content"
      }
     },
     "06c479c806754ad29a50a0686fe8dd0a": {
      "model_module": "@jupyter-widgets/base",
      "model_module_version": "1.2.0",
      "model_name": "LayoutModel",
      "state": {
       "_model_module": "@jupyter-widgets/base",
       "_model_module_version": "1.2.0",
       "_model_name": "LayoutModel",
       "_view_count": null,
       "_view_module": "@jupyter-widgets/base",
       "_view_module_version": "1.2.0",
       "_view_name": "LayoutView",
       "align_content": null,
       "align_items": null,
       "align_self": null,
       "border": null,
       "bottom": null,
       "display": null,
       "flex": null,
       "flex_flow": null,
       "grid_area": null,
       "grid_auto_columns": null,
       "grid_auto_flow": null,
       "grid_auto_rows": null,
       "grid_column": null,
       "grid_gap": null,
       "grid_row": null,
       "grid_template_areas": null,
       "grid_template_columns": null,
       "grid_template_rows": null,
       "height": null,
       "justify_content": null,
       "justify_items": null,
       "left": null,
       "margin": null,
       "max_height": null,
       "max_width": null,
       "min_height": null,
       "min_width": null,
       "object_fit": null,
       "object_position": null,
       "order": null,
       "overflow": null,
       "overflow_x": null,
       "overflow_y": null,
       "padding": null,
       "right": null,
       "top": null,
       "visibility": null,
       "width": null
      }
     },
     "095aed74757b4ff6b4bb4ea1051abb50": {
      "model_module": "@jupyter-widgets/controls",
      "model_module_version": "1.5.0",
      "model_name": "DescriptionStyleModel",
      "state": {
       "_model_module": "@jupyter-widgets/controls",
       "_model_module_version": "1.5.0",
       "_model_name": "DescriptionStyleModel",
       "_view_count": null,
       "_view_module": "@jupyter-widgets/base",
       "_view_module_version": "1.2.0",
       "_view_name": "StyleView",
       "description_width": ""
      }
     },
     "0e815a6ca603498baeb0f78e50d0ea9d": {
      "model_module": "@jupyter-widgets/controls",
      "model_module_version": "1.5.0",
      "model_name": "DescriptionStyleModel",
      "state": {
       "_model_module": "@jupyter-widgets/controls",
       "_model_module_version": "1.5.0",
       "_model_name": "DescriptionStyleModel",
       "_view_count": null,
       "_view_module": "@jupyter-widgets/base",
       "_view_module_version": "1.2.0",
       "_view_name": "StyleView",
       "description_width": ""
      }
     },
     "1481dc12e3644fb190be5e5115a54725": {
      "model_module": "@jupyter-widgets/controls",
      "model_module_version": "1.5.0",
      "model_name": "LabelModel",
      "state": {
       "_dom_classes": [],
       "_model_module": "@jupyter-widgets/controls",
       "_model_module_version": "1.5.0",
       "_model_name": "LabelModel",
       "_view_count": null,
       "_view_module": "@jupyter-widgets/controls",
       "_view_module_version": "1.5.0",
       "_view_name": "LabelView",
       "description": "",
       "description_tooltip": null,
       "layout": "IPY_MODEL_fc95bb5a24a546538b9c8ef854fc7775",
       "placeholder": "​",
       "style": "IPY_MODEL_14e0592ac4bd4e3eb5075e89e9175918",
       "value": "High Blood Pressure"
      }
     },
     "14e0592ac4bd4e3eb5075e89e9175918": {
      "model_module": "@jupyter-widgets/controls",
      "model_module_version": "1.5.0",
      "model_name": "DescriptionStyleModel",
      "state": {
       "_model_module": "@jupyter-widgets/controls",
       "_model_module_version": "1.5.0",
       "_model_name": "DescriptionStyleModel",
       "_view_count": null,
       "_view_module": "@jupyter-widgets/base",
       "_view_module_version": "1.2.0",
       "_view_name": "StyleView",
       "description_width": ""
      }
     },
     "15e2d5138c4a48ffbf50d98e73e829ca": {
      "model_module": "@jupyter-widgets/controls",
      "model_module_version": "1.5.0",
      "model_name": "DropdownModel",
      "state": {
       "_dom_classes": [],
       "_model_module": "@jupyter-widgets/controls",
       "_model_module_version": "1.5.0",
       "_model_name": "DropdownModel",
       "_options_labels": [
        "Female",
        "Male"
       ],
       "_view_count": null,
       "_view_module": "@jupyter-widgets/controls",
       "_view_module_version": "1.5.0",
       "_view_name": "DropdownView",
       "description": "",
       "description_tooltip": null,
       "disabled": false,
       "index": 0,
       "layout": "IPY_MODEL_b18371e8de034def899ba9fb79f70975",
       "style": "IPY_MODEL_7cee9ca9ad8047a29810e354d47883de"
      }
     },
     "15ee695bbe444937adc3ce8196bf3423": {
      "model_module": "@jupyter-widgets/controls",
      "model_module_version": "1.5.0",
      "model_name": "DescriptionStyleModel",
      "state": {
       "_model_module": "@jupyter-widgets/controls",
       "_model_module_version": "1.5.0",
       "_model_name": "DescriptionStyleModel",
       "_view_count": null,
       "_view_module": "@jupyter-widgets/base",
       "_view_module_version": "1.2.0",
       "_view_name": "StyleView",
       "description_width": ""
      }
     },
     "1bca6535c4bb4fe08675bc676be69097": {
      "model_module": "@jupyter-widgets/controls",
      "model_module_version": "1.5.0",
      "model_name": "RadioButtonsModel",
      "state": {
       "_dom_classes": [],
       "_model_module": "@jupyter-widgets/controls",
       "_model_module_version": "1.5.0",
       "_model_name": "RadioButtonsModel",
       "_options_labels": [
        "No",
        "Yes"
       ],
       "_view_count": null,
       "_view_module": "@jupyter-widgets/controls",
       "_view_module_version": "1.5.0",
       "_view_name": "RadioButtonsView",
       "description": "",
       "description_tooltip": null,
       "disabled": false,
       "index": 0,
       "layout": "IPY_MODEL_7e6cafb5916d42b6b26921e35e69bcda",
       "style": "IPY_MODEL_5ca560e6c21a4d1eb26a58fd38da12cf"
      }
     },
     "1dd39a09fa4f4ead9307918b7ed9fd63": {
      "model_module": "@jupyter-widgets/base",
      "model_module_version": "1.2.0",
      "model_name": "LayoutModel",
      "state": {
       "_model_module": "@jupyter-widgets/base",
       "_model_module_version": "1.2.0",
       "_model_name": "LayoutModel",
       "_view_count": null,
       "_view_module": "@jupyter-widgets/base",
       "_view_module_version": "1.2.0",
       "_view_name": "LayoutView",
       "align_content": null,
       "align_items": null,
       "align_self": null,
       "border": null,
       "bottom": null,
       "display": null,
       "flex": null,
       "flex_flow": null,
       "grid_area": null,
       "grid_auto_columns": null,
       "grid_auto_flow": null,
       "grid_auto_rows": null,
       "grid_column": null,
       "grid_gap": null,
       "grid_row": null,
       "grid_template_areas": null,
       "grid_template_columns": null,
       "grid_template_rows": null,
       "height": null,
       "justify_content": null,
       "justify_items": null,
       "left": null,
       "margin": null,
       "max_height": null,
       "max_width": null,
       "min_height": null,
       "min_width": null,
       "object_fit": null,
       "object_position": null,
       "order": null,
       "overflow": null,
       "overflow_x": null,
       "overflow_y": null,
       "padding": null,
       "right": null,
       "top": null,
       "visibility": null,
       "width": null
      }
     },
     "22c216e5422143daa29e38fc09552cc2": {
      "model_module": "@jupyter-widgets/base",
      "model_module_version": "1.2.0",
      "model_name": "LayoutModel",
      "state": {
       "_model_module": "@jupyter-widgets/base",
       "_model_module_version": "1.2.0",
       "_model_name": "LayoutModel",
       "_view_count": null,
       "_view_module": "@jupyter-widgets/base",
       "_view_module_version": "1.2.0",
       "_view_name": "LayoutView",
       "align_content": null,
       "align_items": null,
       "align_self": null,
       "border": null,
       "bottom": null,
       "display": null,
       "flex": null,
       "flex_flow": null,
       "grid_area": null,
       "grid_auto_columns": null,
       "grid_auto_flow": null,
       "grid_auto_rows": null,
       "grid_column": null,
       "grid_gap": null,
       "grid_row": null,
       "grid_template_areas": null,
       "grid_template_columns": null,
       "grid_template_rows": null,
       "height": null,
       "justify_content": null,
       "justify_items": null,
       "left": null,
       "margin": null,
       "max_height": null,
       "max_width": null,
       "min_height": null,
       "min_width": null,
       "object_fit": null,
       "object_position": null,
       "order": null,
       "overflow": null,
       "overflow_x": null,
       "overflow_y": null,
       "padding": null,
       "right": null,
       "top": null,
       "visibility": null,
       "width": "max-content"
      }
     },
     "249ba9be650a47539a9f999ccff6b631": {
      "model_module": "@jupyter-widgets/base",
      "model_module_version": "1.2.0",
      "model_name": "LayoutModel",
      "state": {
       "_model_module": "@jupyter-widgets/base",
       "_model_module_version": "1.2.0",
       "_model_name": "LayoutModel",
       "_view_count": null,
       "_view_module": "@jupyter-widgets/base",
       "_view_module_version": "1.2.0",
       "_view_name": "LayoutView",
       "align_content": null,
       "align_items": null,
       "align_self": null,
       "border": null,
       "bottom": null,
       "display": null,
       "flex": null,
       "flex_flow": null,
       "grid_area": null,
       "grid_auto_columns": null,
       "grid_auto_flow": null,
       "grid_auto_rows": null,
       "grid_column": null,
       "grid_gap": null,
       "grid_row": null,
       "grid_template_areas": null,
       "grid_template_columns": null,
       "grid_template_rows": null,
       "height": null,
       "justify_content": null,
       "justify_items": null,
       "left": null,
       "margin": null,
       "max_height": null,
       "max_width": null,
       "min_height": null,
       "min_width": null,
       "object_fit": null,
       "object_position": null,
       "order": null,
       "overflow": null,
       "overflow_x": null,
       "overflow_y": null,
       "padding": null,
       "right": null,
       "top": null,
       "visibility": null,
       "width": null
      }
     },
     "298ec3043b6c4a388dd6cbc3dae898de": {
      "model_module": "@jupyter-widgets/base",
      "model_module_version": "1.2.0",
      "model_name": "LayoutModel",
      "state": {
       "_model_module": "@jupyter-widgets/base",
       "_model_module_version": "1.2.0",
       "_model_name": "LayoutModel",
       "_view_count": null,
       "_view_module": "@jupyter-widgets/base",
       "_view_module_version": "1.2.0",
       "_view_name": "LayoutView",
       "align_content": null,
       "align_items": null,
       "align_self": null,
       "border": null,
       "bottom": null,
       "display": null,
       "flex": null,
       "flex_flow": null,
       "grid_area": null,
       "grid_auto_columns": null,
       "grid_auto_flow": null,
       "grid_auto_rows": null,
       "grid_column": null,
       "grid_gap": null,
       "grid_row": null,
       "grid_template_areas": null,
       "grid_template_columns": null,
       "grid_template_rows": null,
       "height": null,
       "justify_content": null,
       "justify_items": null,
       "left": null,
       "margin": null,
       "max_height": null,
       "max_width": null,
       "min_height": null,
       "min_width": null,
       "object_fit": null,
       "object_position": null,
       "order": null,
       "overflow": null,
       "overflow_x": null,
       "overflow_y": null,
       "padding": null,
       "right": null,
       "top": null,
       "visibility": null,
       "width": null
      }
     },
     "2fbeba8ceb2544399a818e815f26facd": {
      "model_module": "@jupyter-widgets/base",
      "model_module_version": "1.2.0",
      "model_name": "LayoutModel",
      "state": {
       "_model_module": "@jupyter-widgets/base",
       "_model_module_version": "1.2.0",
       "_model_name": "LayoutModel",
       "_view_count": null,
       "_view_module": "@jupyter-widgets/base",
       "_view_module_version": "1.2.0",
       "_view_name": "LayoutView",
       "align_content": null,
       "align_items": null,
       "align_self": null,
       "border": null,
       "bottom": null,
       "display": null,
       "flex": null,
       "flex_flow": null,
       "grid_area": null,
       "grid_auto_columns": null,
       "grid_auto_flow": null,
       "grid_auto_rows": null,
       "grid_column": null,
       "grid_gap": null,
       "grid_row": null,
       "grid_template_areas": null,
       "grid_template_columns": null,
       "grid_template_rows": null,
       "height": null,
       "justify_content": null,
       "justify_items": null,
       "left": null,
       "margin": null,
       "max_height": null,
       "max_width": null,
       "min_height": null,
       "min_width": null,
       "object_fit": null,
       "object_position": null,
       "order": null,
       "overflow": null,
       "overflow_x": null,
       "overflow_y": null,
       "padding": null,
       "right": null,
       "top": null,
       "visibility": null,
       "width": "max-content"
      }
     },
     "30bd28c80ddc4f5b8222105c29cef1d2": {
      "model_module": "@jupyter-widgets/controls",
      "model_module_version": "1.5.0",
      "model_name": "DescriptionStyleModel",
      "state": {
       "_model_module": "@jupyter-widgets/controls",
       "_model_module_version": "1.5.0",
       "_model_name": "DescriptionStyleModel",
       "_view_count": null,
       "_view_module": "@jupyter-widgets/base",
       "_view_module_version": "1.2.0",
       "_view_name": "StyleView",
       "description_width": ""
      }
     },
     "311b0d6968444906ad5f9c840ad73e4b": {
      "model_module": "@jupyter-widgets/controls",
      "model_module_version": "1.5.0",
      "model_name": "LabelModel",
      "state": {
       "_dom_classes": [],
       "_model_module": "@jupyter-widgets/controls",
       "_model_module_version": "1.5.0",
       "_model_name": "LabelModel",
       "_view_count": null,
       "_view_module": "@jupyter-widgets/controls",
       "_view_module_version": "1.5.0",
       "_view_name": "LabelView",
       "description": "",
       "description_tooltip": null,
       "layout": "IPY_MODEL_96fae2faeb994b7ea8239814295c4d95",
       "placeholder": "​",
       "style": "IPY_MODEL_34e5ac9680d14f4ebaee162cc35430c3",
       "value": "Sex:"
      }
     },
     "31958a16100c4a3e86c3fb973cfe917e": {
      "model_module": "@jupyter-widgets/controls",
      "model_module_version": "1.5.0",
      "model_name": "DescriptionStyleModel",
      "state": {
       "_model_module": "@jupyter-widgets/controls",
       "_model_module_version": "1.5.0",
       "_model_name": "DescriptionStyleModel",
       "_view_count": null,
       "_view_module": "@jupyter-widgets/base",
       "_view_module_version": "1.2.0",
       "_view_name": "StyleView",
       "description_width": ""
      }
     },
     "32af3ea776b3441b86f7f3e30b79dd1c": {
      "model_module": "@jupyter-widgets/base",
      "model_module_version": "1.2.0",
      "model_name": "LayoutModel",
      "state": {
       "_model_module": "@jupyter-widgets/base",
       "_model_module_version": "1.2.0",
       "_model_name": "LayoutModel",
       "_view_count": null,
       "_view_module": "@jupyter-widgets/base",
       "_view_module_version": "1.2.0",
       "_view_name": "LayoutView",
       "align_content": null,
       "align_items": null,
       "align_self": null,
       "border": null,
       "bottom": null,
       "display": null,
       "flex": null,
       "flex_flow": null,
       "grid_area": null,
       "grid_auto_columns": null,
       "grid_auto_flow": null,
       "grid_auto_rows": null,
       "grid_column": null,
       "grid_gap": null,
       "grid_row": null,
       "grid_template_areas": null,
       "grid_template_columns": null,
       "grid_template_rows": null,
       "height": null,
       "justify_content": null,
       "justify_items": null,
       "left": null,
       "margin": null,
       "max_height": null,
       "max_width": null,
       "min_height": null,
       "min_width": null,
       "object_fit": null,
       "object_position": null,
       "order": null,
       "overflow": null,
       "overflow_x": null,
       "overflow_y": null,
       "padding": null,
       "right": null,
       "top": null,
       "visibility": null,
       "width": "max-content"
      }
     },
     "33189e6bb4fd423ab49b1ca6f576bb73": {
      "model_module": "@jupyter-widgets/base",
      "model_module_version": "1.2.0",
      "model_name": "LayoutModel",
      "state": {
       "_model_module": "@jupyter-widgets/base",
       "_model_module_version": "1.2.0",
       "_model_name": "LayoutModel",
       "_view_count": null,
       "_view_module": "@jupyter-widgets/base",
       "_view_module_version": "1.2.0",
       "_view_name": "LayoutView",
       "align_content": null,
       "align_items": null,
       "align_self": null,
       "border": null,
       "bottom": null,
       "display": null,
       "flex": null,
       "flex_flow": null,
       "grid_area": null,
       "grid_auto_columns": null,
       "grid_auto_flow": null,
       "grid_auto_rows": null,
       "grid_column": null,
       "grid_gap": null,
       "grid_row": null,
       "grid_template_areas": null,
       "grid_template_columns": null,
       "grid_template_rows": null,
       "height": null,
       "justify_content": null,
       "justify_items": null,
       "left": null,
       "margin": null,
       "max_height": null,
       "max_width": null,
       "min_height": null,
       "min_width": null,
       "object_fit": null,
       "object_position": null,
       "order": null,
       "overflow": null,
       "overflow_x": null,
       "overflow_y": null,
       "padding": null,
       "right": null,
       "top": null,
       "visibility": null,
       "width": null
      }
     },
     "34e5ac9680d14f4ebaee162cc35430c3": {
      "model_module": "@jupyter-widgets/controls",
      "model_module_version": "1.5.0",
      "model_name": "DescriptionStyleModel",
      "state": {
       "_model_module": "@jupyter-widgets/controls",
       "_model_module_version": "1.5.0",
       "_model_name": "DescriptionStyleModel",
       "_view_count": null,
       "_view_module": "@jupyter-widgets/base",
       "_view_module_version": "1.2.0",
       "_view_name": "StyleView",
       "description_width": ""
      }
     },
     "3567004a039742e69a8c247eae331d31": {
      "model_module": "@jupyter-widgets/controls",
      "model_module_version": "1.5.0",
      "model_name": "LabelModel",
      "state": {
       "_dom_classes": [],
       "_model_module": "@jupyter-widgets/controls",
       "_model_module_version": "1.5.0",
       "_model_name": "LabelModel",
       "_view_count": null,
       "_view_module": "@jupyter-widgets/controls",
       "_view_module_version": "1.5.0",
       "_view_name": "LabelView",
       "description": "",
       "description_tooltip": null,
       "layout": "IPY_MODEL_7b8eac5bcba944b1a1cc3998efedd90b",
       "placeholder": "​",
       "style": "IPY_MODEL_a694fd3303cc4c1cb73ad76998af81c2",
       "value": "Heart Disease or Attack (CHD or MI)"
      }
     },
     "35a84725b5534518a46713298e4fe6f1": {
      "model_module": "@jupyter-widgets/controls",
      "model_module_version": "1.5.0",
      "model_name": "DescriptionStyleModel",
      "state": {
       "_model_module": "@jupyter-widgets/controls",
       "_model_module_version": "1.5.0",
       "_model_name": "DescriptionStyleModel",
       "_view_count": null,
       "_view_module": "@jupyter-widgets/base",
       "_view_module_version": "1.2.0",
       "_view_name": "StyleView",
       "description_width": ""
      }
     },
     "35e4e634905342fb9ddef84767657455": {
      "model_module": "@jupyter-widgets/controls",
      "model_module_version": "1.5.0",
      "model_name": "FloatSliderModel",
      "state": {
       "_dom_classes": [],
       "_model_module": "@jupyter-widgets/controls",
       "_model_module_version": "1.5.0",
       "_model_name": "FloatSliderModel",
       "_view_count": null,
       "_view_module": "@jupyter-widgets/controls",
       "_view_module_version": "1.5.0",
       "_view_name": "FloatSliderView",
       "continuous_update": true,
       "description": "",
       "description_tooltip": null,
       "disabled": false,
       "layout": "IPY_MODEL_249ba9be650a47539a9f999ccff6b631",
       "max": 5.0,
       "min": 1.0,
       "orientation": "horizontal",
       "readout": true,
       "readout_format": ".2f",
       "step": 1.0,
       "style": "IPY_MODEL_b0cf1220093845afb9275aa7c50b02a1",
       "value": 3.0
      }
     },
     "3626b581068f4512b65f9e39fa718c1f": {
      "model_module": "@jupyter-widgets/controls",
      "model_module_version": "1.5.0",
      "model_name": "FloatSliderModel",
      "state": {
       "_dom_classes": [],
       "_model_module": "@jupyter-widgets/controls",
       "_model_module_version": "1.5.0",
       "_model_name": "FloatSliderModel",
       "_view_count": null,
       "_view_module": "@jupyter-widgets/controls",
       "_view_module_version": "1.5.0",
       "_view_name": "FloatSliderView",
       "continuous_update": true,
       "description": "",
       "description_tooltip": null,
       "disabled": false,
       "layout": "IPY_MODEL_6656bb485c4a4cbda4358aaafebb614a",
       "max": 50.0,
       "min": 10.0,
       "orientation": "horizontal",
       "readout": true,
       "readout_format": ".2f",
       "step": 0.1,
       "style": "IPY_MODEL_43488b95eed5473b824e584e0aa5b685",
       "value": 20.0
      }
     },
     "3711ee29759d4e59a934270d89d47a32": {
      "model_module": "@jupyter-widgets/controls",
      "model_module_version": "1.5.0",
      "model_name": "SliderStyleModel",
      "state": {
       "_model_module": "@jupyter-widgets/controls",
       "_model_module_version": "1.5.0",
       "_model_name": "SliderStyleModel",
       "_view_count": null,
       "_view_module": "@jupyter-widgets/base",
       "_view_module_version": "1.2.0",
       "_view_name": "StyleView",
       "description_width": "",
       "handle_color": null
      }
     },
     "3aa002a10e1d4769820332cf3a3a0950": {
      "model_module": "@jupyter-widgets/controls",
      "model_module_version": "1.5.0",
      "model_name": "DescriptionStyleModel",
      "state": {
       "_model_module": "@jupyter-widgets/controls",
       "_model_module_version": "1.5.0",
       "_model_name": "DescriptionStyleModel",
       "_view_count": null,
       "_view_module": "@jupyter-widgets/base",
       "_view_module_version": "1.2.0",
       "_view_name": "StyleView",
       "description_width": ""
      }
     },
     "3cb9f7dd7c7543398fb9caf1e5ea8276": {
      "model_module": "@jupyter-widgets/controls",
      "model_module_version": "1.5.0",
      "model_name": "RadioButtonsModel",
      "state": {
       "_dom_classes": [],
       "_model_module": "@jupyter-widgets/controls",
       "_model_module_version": "1.5.0",
       "_model_name": "RadioButtonsModel",
       "_options_labels": [
        "No",
        "Yes"
       ],
       "_view_count": null,
       "_view_module": "@jupyter-widgets/controls",
       "_view_module_version": "1.5.0",
       "_view_name": "RadioButtonsView",
       "description": "",
       "description_tooltip": null,
       "disabled": false,
       "index": 0,
       "layout": "IPY_MODEL_a1f8f07598774be7abc1d7aec1de9360",
       "style": "IPY_MODEL_5e0745b4143e43aeba00747b3feea59b"
      }
     },
     "42c347b20e2d43aabd4157b5d0777438": {
      "model_module": "@jupyter-widgets/controls",
      "model_module_version": "1.5.0",
      "model_name": "ButtonModel",
      "state": {
       "_dom_classes": [],
       "_model_module": "@jupyter-widgets/controls",
       "_model_module_version": "1.5.0",
       "_model_name": "ButtonModel",
       "_view_count": null,
       "_view_module": "@jupyter-widgets/controls",
       "_view_module_version": "1.5.0",
       "_view_name": "ButtonView",
       "button_style": "",
       "description": "Predict Patient Risk",
       "disabled": false,
       "icon": "",
       "layout": "IPY_MODEL_f6db72c389c04c02a02807e4360dac8c",
       "style": "IPY_MODEL_745055981a414d5ab3caad07f0be28bf",
       "tooltip": ""
      }
     },
     "43488b95eed5473b824e584e0aa5b685": {
      "model_module": "@jupyter-widgets/controls",
      "model_module_version": "1.5.0",
      "model_name": "SliderStyleModel",
      "state": {
       "_model_module": "@jupyter-widgets/controls",
       "_model_module_version": "1.5.0",
       "_model_name": "SliderStyleModel",
       "_view_count": null,
       "_view_module": "@jupyter-widgets/base",
       "_view_module_version": "1.2.0",
       "_view_name": "StyleView",
       "description_width": "",
       "handle_color": null
      }
     },
     "436551d3e29b4945ae702bde0358ecdd": {
      "model_module": "@jupyter-widgets/controls",
      "model_module_version": "1.5.0",
      "model_name": "DescriptionStyleModel",
      "state": {
       "_model_module": "@jupyter-widgets/controls",
       "_model_module_version": "1.5.0",
       "_model_name": "DescriptionStyleModel",
       "_view_count": null,
       "_view_module": "@jupyter-widgets/base",
       "_view_module_version": "1.2.0",
       "_view_name": "StyleView",
       "description_width": ""
      }
     },
     "46c3b0883eac446c97a85bffa13b276f": {
      "model_module": "@jupyter-widgets/base",
      "model_module_version": "1.2.0",
      "model_name": "LayoutModel",
      "state": {
       "_model_module": "@jupyter-widgets/base",
       "_model_module_version": "1.2.0",
       "_model_name": "LayoutModel",
       "_view_count": null,
       "_view_module": "@jupyter-widgets/base",
       "_view_module_version": "1.2.0",
       "_view_name": "LayoutView",
       "align_content": null,
       "align_items": null,
       "align_self": null,
       "border": null,
       "bottom": null,
       "display": null,
       "flex": null,
       "flex_flow": null,
       "grid_area": null,
       "grid_auto_columns": null,
       "grid_auto_flow": null,
       "grid_auto_rows": null,
       "grid_column": null,
       "grid_gap": null,
       "grid_row": null,
       "grid_template_areas": null,
       "grid_template_columns": null,
       "grid_template_rows": null,
       "height": null,
       "justify_content": null,
       "justify_items": null,
       "left": null,
       "margin": null,
       "max_height": null,
       "max_width": null,
       "min_height": null,
       "min_width": null,
       "object_fit": null,
       "object_position": null,
       "order": null,
       "overflow": null,
       "overflow_x": null,
       "overflow_y": null,
       "padding": null,
       "right": null,
       "top": null,
       "visibility": null,
       "width": null
      }
     },
     "537cc86252604348984aaecbe505153e": {
      "model_module": "@jupyter-widgets/base",
      "model_module_version": "1.2.0",
      "model_name": "LayoutModel",
      "state": {
       "_model_module": "@jupyter-widgets/base",
       "_model_module_version": "1.2.0",
       "_model_name": "LayoutModel",
       "_view_count": null,
       "_view_module": "@jupyter-widgets/base",
       "_view_module_version": "1.2.0",
       "_view_name": "LayoutView",
       "align_content": null,
       "align_items": null,
       "align_self": null,
       "border": null,
       "bottom": null,
       "display": null,
       "flex": null,
       "flex_flow": null,
       "grid_area": null,
       "grid_auto_columns": null,
       "grid_auto_flow": null,
       "grid_auto_rows": null,
       "grid_column": null,
       "grid_gap": null,
       "grid_row": null,
       "grid_template_areas": null,
       "grid_template_columns": null,
       "grid_template_rows": null,
       "height": null,
       "justify_content": null,
       "justify_items": null,
       "left": null,
       "margin": null,
       "max_height": null,
       "max_width": null,
       "min_height": null,
       "min_width": null,
       "object_fit": null,
       "object_position": null,
       "order": null,
       "overflow": null,
       "overflow_x": null,
       "overflow_y": null,
       "padding": null,
       "right": null,
       "top": null,
       "visibility": null,
       "width": "max-content"
      }
     },
     "571ca2c675004c4abb522059b31f7a65": {
      "model_module": "@jupyter-widgets/controls",
      "model_module_version": "1.5.0",
      "model_name": "RadioButtonsModel",
      "state": {
       "_dom_classes": [],
       "_model_module": "@jupyter-widgets/controls",
       "_model_module_version": "1.5.0",
       "_model_name": "RadioButtonsModel",
       "_options_labels": [
        "No",
        "Yes"
       ],
       "_view_count": null,
       "_view_module": "@jupyter-widgets/controls",
       "_view_module_version": "1.5.0",
       "_view_name": "RadioButtonsView",
       "description": "",
       "description_tooltip": null,
       "disabled": false,
       "index": 0,
       "layout": "IPY_MODEL_ca4888e477a84945a0cc05fd8011e9d8",
       "style": "IPY_MODEL_f815cc16657a44eb9557ac5376702bff"
      }
     },
     "581cb08a7f934ea795f455d4beaca2a8": {
      "model_module": "@jupyter-widgets/controls",
      "model_module_version": "1.5.0",
      "model_name": "FloatSliderModel",
      "state": {
       "_dom_classes": [],
       "_model_module": "@jupyter-widgets/controls",
       "_model_module_version": "1.5.0",
       "_model_name": "FloatSliderModel",
       "_view_count": null,
       "_view_module": "@jupyter-widgets/controls",
       "_view_module_version": "1.5.0",
       "_view_name": "FloatSliderView",
       "continuous_update": true,
       "description": "",
       "description_tooltip": null,
       "disabled": false,
       "layout": "IPY_MODEL_06c479c806754ad29a50a0686fe8dd0a",
       "max": 30.0,
       "min": 0.0,
       "orientation": "horizontal",
       "readout": true,
       "readout_format": ".2f",
       "step": 1.0,
       "style": "IPY_MODEL_f302f7d3b5b24cf6b5b041b8bd6f37e5",
       "value": 0.0
      }
     },
     "592031bf711c45b5a647bc9b3e6fb0c7": {
      "model_module": "@jupyter-widgets/controls",
      "model_module_version": "1.5.0",
      "model_name": "DescriptionStyleModel",
      "state": {
       "_model_module": "@jupyter-widgets/controls",
       "_model_module_version": "1.5.0",
       "_model_name": "DescriptionStyleModel",
       "_view_count": null,
       "_view_module": "@jupyter-widgets/base",
       "_view_module_version": "1.2.0",
       "_view_name": "StyleView",
       "description_width": ""
      }
     },
     "599801a233be4301bf03ab1df9232e99": {
      "model_module": "@jupyter-widgets/controls",
      "model_module_version": "1.5.0",
      "model_name": "LabelModel",
      "state": {
       "_dom_classes": [],
       "_model_module": "@jupyter-widgets/controls",
       "_model_module_version": "1.5.0",
       "_model_name": "LabelModel",
       "_view_count": null,
       "_view_module": "@jupyter-widgets/controls",
       "_view_module_version": "1.5.0",
       "_view_name": "LabelView",
       "description": "",
       "description_tooltip": null,
       "layout": "IPY_MODEL_32af3ea776b3441b86f7f3e30b79dd1c",
       "placeholder": "​",
       "style": "IPY_MODEL_31958a16100c4a3e86c3fb973cfe917e",
       "value": "Age category (1 = 18-24, 13 = 80 or older; see table):"
      }
     },
     "59f6d0c37367438e834f585dfe4d0da4": {
      "model_module": "@jupyter-widgets/base",
      "model_module_version": "1.2.0",
      "model_name": "LayoutModel",
      "state": {
       "_model_module": "@jupyter-widgets/base",
       "_model_module_version": "1.2.0",
       "_model_name": "LayoutModel",
       "_view_count": null,
       "_view_module": "@jupyter-widgets/base",
       "_view_module_version": "1.2.0",
       "_view_name": "LayoutView",
       "align_content": null,
       "align_items": null,
       "align_self": null,
       "border": null,
       "bottom": null,
       "display": null,
       "flex": null,
       "flex_flow": null,
       "grid_area": null,
       "grid_auto_columns": null,
       "grid_auto_flow": null,
       "grid_auto_rows": null,
       "grid_column": null,
       "grid_gap": null,
       "grid_row": null,
       "grid_template_areas": null,
       "grid_template_columns": null,
       "grid_template_rows": null,
       "height": null,
       "justify_content": null,
       "justify_items": null,
       "left": null,
       "margin": null,
       "max_height": null,
       "max_width": null,
       "min_height": null,
       "min_width": null,
       "object_fit": null,
       "object_position": null,
       "order": null,
       "overflow": null,
       "overflow_x": null,
       "overflow_y": null,
       "padding": null,
       "right": null,
       "top": null,
       "visibility": null,
       "width": "max-content"
      }
     },
     "5b01a3222a6d4147b51bbec5636e1f0c": {
      "model_module": "@jupyter-widgets/base",
      "model_module_version": "1.2.0",
      "model_name": "LayoutModel",
      "state": {
       "_model_module": "@jupyter-widgets/base",
       "_model_module_version": "1.2.0",
       "_model_name": "LayoutModel",
       "_view_count": null,
       "_view_module": "@jupyter-widgets/base",
       "_view_module_version": "1.2.0",
       "_view_name": "LayoutView",
       "align_content": null,
       "align_items": null,
       "align_self": null,
       "border": null,
       "bottom": null,
       "display": null,
       "flex": null,
       "flex_flow": null,
       "grid_area": null,
       "grid_auto_columns": null,
       "grid_auto_flow": null,
       "grid_auto_rows": null,
       "grid_column": null,
       "grid_gap": null,
       "grid_row": null,
       "grid_template_areas": null,
       "grid_template_columns": null,
       "grid_template_rows": null,
       "height": null,
       "justify_content": null,
       "justify_items": null,
       "left": null,
       "margin": null,
       "max_height": null,
       "max_width": null,
       "min_height": null,
       "min_width": null,
       "object_fit": null,
       "object_position": null,
       "order": null,
       "overflow": null,
       "overflow_x": null,
       "overflow_y": null,
       "padding": null,
       "right": null,
       "top": null,
       "visibility": null,
       "width": null
      }
     },
     "5ca560e6c21a4d1eb26a58fd38da12cf": {
      "model_module": "@jupyter-widgets/controls",
      "model_module_version": "1.5.0",
      "model_name": "DescriptionStyleModel",
      "state": {
       "_model_module": "@jupyter-widgets/controls",
       "_model_module_version": "1.5.0",
       "_model_name": "DescriptionStyleModel",
       "_view_count": null,
       "_view_module": "@jupyter-widgets/base",
       "_view_module_version": "1.2.0",
       "_view_name": "StyleView",
       "description_width": ""
      }
     },
     "5e02d2b94b044331bab9c39d15823d18": {
      "model_module": "@jupyter-widgets/controls",
      "model_module_version": "1.5.0",
      "model_name": "FloatSliderModel",
      "state": {
       "_dom_classes": [],
       "_model_module": "@jupyter-widgets/controls",
       "_model_module_version": "1.5.0",
       "_model_name": "FloatSliderModel",
       "_view_count": null,
       "_view_module": "@jupyter-widgets/controls",
       "_view_module_version": "1.5.0",
       "_view_name": "FloatSliderView",
       "continuous_update": true,
       "description": "",
       "description_tooltip": null,
       "disabled": false,
       "layout": "IPY_MODEL_e1180f710b93490bbeae64be99ad08d4",
       "max": 13.0,
       "min": 1.0,
       "orientation": "horizontal",
       "readout": true,
       "readout_format": ".2f",
       "step": 1.0,
       "style": "IPY_MODEL_617b65ebdcbe4a4f96fc916868d5cd05",
       "value": 8.0
      }
     },
     "5e0745b4143e43aeba00747b3feea59b": {
      "model_module": "@jupyter-widgets/controls",
      "model_module_version": "1.5.0",
      "model_name": "DescriptionStyleModel",
      "state": {
       "_model_module": "@jupyter-widgets/controls",
       "_model_module_version": "1.5.0",
       "_model_name": "DescriptionStyleModel",
       "_view_count": null,
       "_view_module": "@jupyter-widgets/base",
       "_view_module_version": "1.2.0",
       "_view_name": "StyleView",
       "description_width": ""
      }
     },
     "5e087ef7abc34b4090e656bfa9b17f5e": {
      "model_module": "@jupyter-widgets/controls",
      "model_module_version": "1.5.0",
      "model_name": "DescriptionStyleModel",
      "state": {
       "_model_module": "@jupyter-widgets/controls",
       "_model_module_version": "1.5.0",
       "_model_name": "DescriptionStyleModel",
       "_view_count": null,
       "_view_module": "@jupyter-widgets/base",
       "_view_module_version": "1.2.0",
       "_view_name": "StyleView",
       "description_width": ""
      }
     },
     "617b65ebdcbe4a4f96fc916868d5cd05": {
      "model_module": "@jupyter-widgets/controls",
      "model_module_version": "1.5.0",
      "model_name": "SliderStyleModel",
      "state": {
       "_model_module": "@jupyter-widgets/controls",
       "_model_module_version": "1.5.0",
       "_model_name": "SliderStyleModel",
       "_view_count": null,
       "_view_module": "@jupyter-widgets/base",
       "_view_module_version": "1.2.0",
       "_view_name": "StyleView",
       "description_width": "",
       "handle_color": null
      }
     },
     "6656bb485c4a4cbda4358aaafebb614a": {
      "model_module": "@jupyter-widgets/base",
      "model_module_version": "1.2.0",
      "model_name": "LayoutModel",
      "state": {
       "_model_module": "@jupyter-widgets/base",
       "_model_module_version": "1.2.0",
       "_model_name": "LayoutModel",
       "_view_count": null,
       "_view_module": "@jupyter-widgets/base",
       "_view_module_version": "1.2.0",
       "_view_name": "LayoutView",
       "align_content": null,
       "align_items": null,
       "align_self": null,
       "border": null,
       "bottom": null,
       "display": null,
       "flex": null,
       "flex_flow": null,
       "grid_area": null,
       "grid_auto_columns": null,
       "grid_auto_flow": null,
       "grid_auto_rows": null,
       "grid_column": null,
       "grid_gap": null,
       "grid_row": null,
       "grid_template_areas": null,
       "grid_template_columns": null,
       "grid_template_rows": null,
       "height": null,
       "justify_content": null,
       "justify_items": null,
       "left": null,
       "margin": null,
       "max_height": null,
       "max_width": null,
       "min_height": null,
       "min_width": null,
       "object_fit": null,
       "object_position": null,
       "order": null,
       "overflow": null,
       "overflow_x": null,
       "overflow_y": null,
       "padding": null,
       "right": null,
       "top": null,
       "visibility": null,
       "width": null
      }
     },
     "667437f938dd438aaedb0db61551f2e1": {
      "model_module": "@jupyter-widgets/base",
      "model_module_version": "1.2.0",
      "model_name": "LayoutModel",
      "state": {
       "_model_module": "@jupyter-widgets/base",
       "_model_module_version": "1.2.0",
       "_model_name": "LayoutModel",
       "_view_count": null,
       "_view_module": "@jupyter-widgets/base",
       "_view_module_version": "1.2.0",
       "_view_name": "LayoutView",
       "align_content": null,
       "align_items": null,
       "align_self": null,
       "border": null,
       "bottom": null,
       "display": null,
       "flex": null,
       "flex_flow": null,
       "grid_area": null,
       "grid_auto_columns": null,
       "grid_auto_flow": null,
       "grid_auto_rows": null,
       "grid_column": null,
       "grid_gap": null,
       "grid_row": null,
       "grid_template_areas": null,
       "grid_template_columns": null,
       "grid_template_rows": null,
       "height": null,
       "justify_content": null,
       "justify_items": null,
       "left": null,
       "margin": null,
       "max_height": null,
       "max_width": null,
       "min_height": null,
       "min_width": null,
       "object_fit": null,
       "object_position": null,
       "order": null,
       "overflow": null,
       "overflow_x": null,
       "overflow_y": null,
       "padding": null,
       "right": null,
       "top": null,
       "visibility": null,
       "width": null
      }
     },
     "67f6bb4c92564c32924dc3bf0cc83983": {
      "model_module": "@jupyter-widgets/controls",
      "model_module_version": "1.5.0",
      "model_name": "LabelModel",
      "state": {
       "_dom_classes": [],
       "_model_module": "@jupyter-widgets/controls",
       "_model_module_version": "1.5.0",
       "_model_name": "LabelModel",
       "_view_count": null,
       "_view_module": "@jupyter-widgets/controls",
       "_view_module_version": "1.5.0",
       "_view_name": "LabelView",
       "description": "",
       "description_tooltip": null,
       "layout": "IPY_MODEL_a432958d7f0e436ea5e07f846bf5a3cf",
       "placeholder": "​",
       "style": "IPY_MODEL_cc282e0226264461a433950483d4f079",
       "value": "High Cholesterol"
      }
     },
     "6cedf4da970a418ca8e8ef065e6b8466": {
      "model_module": "@jupyter-widgets/controls",
      "model_module_version": "1.5.0",
      "model_name": "DescriptionStyleModel",
      "state": {
       "_model_module": "@jupyter-widgets/controls",
       "_model_module_version": "1.5.0",
       "_model_name": "DescriptionStyleModel",
       "_view_count": null,
       "_view_module": "@jupyter-widgets/base",
       "_view_module_version": "1.2.0",
       "_view_name": "StyleView",
       "description_width": ""
      }
     },
     "6d16703771da494eaf1a64dd7b518590": {
      "model_module": "@jupyter-widgets/controls",
      "model_module_version": "1.5.0",
      "model_name": "RadioButtonsModel",
      "state": {
       "_dom_classes": [],
       "_model_module": "@jupyter-widgets/controls",
       "_model_module_version": "1.5.0",
       "_model_name": "RadioButtonsModel",
       "_options_labels": [
        "No",
        "Yes"
       ],
       "_view_count": null,
       "_view_module": "@jupyter-widgets/controls",
       "_view_module_version": "1.5.0",
       "_view_name": "RadioButtonsView",
       "description": "",
       "description_tooltip": null,
       "disabled": false,
       "index": 0,
       "layout": "IPY_MODEL_46c3b0883eac446c97a85bffa13b276f",
       "style": "IPY_MODEL_30bd28c80ddc4f5b8222105c29cef1d2"
      }
     },
     "6e3663f553fe4fd89a496bc7a1befb90": {
      "model_module": "@jupyter-widgets/controls",
      "model_module_version": "1.5.0",
      "model_name": "LabelModel",
      "state": {
       "_dom_classes": [],
       "_model_module": "@jupyter-widgets/controls",
       "_model_module_version": "1.5.0",
       "_model_name": "LabelModel",
       "_view_count": null,
       "_view_module": "@jupyter-widgets/controls",
       "_view_module_version": "1.5.0",
       "_view_name": "LabelView",
       "description": "",
       "description_tooltip": null,
       "layout": "IPY_MODEL_22c216e5422143daa29e38fc09552cc2",
       "placeholder": "​",
       "style": "IPY_MODEL_aeab4a8e20b840c2b2246754c7a1ec8f",
       "value": "How many past days was your Mental Health not good?"
      }
     },
     "71fc799fa2b94ba8951841070bf051a0": {
      "model_module": "@jupyter-widgets/controls",
      "model_module_version": "1.5.0",
      "model_name": "LabelModel",
      "state": {
       "_dom_classes": [],
       "_model_module": "@jupyter-widgets/controls",
       "_model_module_version": "1.5.0",
       "_model_name": "LabelModel",
       "_view_count": null,
       "_view_module": "@jupyter-widgets/controls",
       "_view_module_version": "1.5.0",
       "_view_name": "LabelView",
       "description": "",
       "description_tooltip": null,
       "layout": "IPY_MODEL_cee310d30e6f407d83a8ccf42563d9e7",
       "placeholder": "​",
       "style": "IPY_MODEL_095aed74757b4ff6b4bb4ea1051abb50",
       "value": "Eat Veggies 1 or more per day"
      }
     },
     "745055981a414d5ab3caad07f0be28bf": {
      "model_module": "@jupyter-widgets/controls",
      "model_module_version": "1.5.0",
      "model_name": "ButtonStyleModel",
      "state": {
       "_model_module": "@jupyter-widgets/controls",
       "_model_module_version": "1.5.0",
       "_model_name": "ButtonStyleModel",
       "_view_count": null,
       "_view_module": "@jupyter-widgets/base",
       "_view_module_version": "1.2.0",
       "_view_name": "StyleView",
       "button_color": null,
       "font_weight": ""
      }
     },
     "7b5d7491ecb54231a6fd4deaa95e0387": {
      "model_module": "@jupyter-widgets/base",
      "model_module_version": "1.2.0",
      "model_name": "LayoutModel",
      "state": {
       "_model_module": "@jupyter-widgets/base",
       "_model_module_version": "1.2.0",
       "_model_name": "LayoutModel",
       "_view_count": null,
       "_view_module": "@jupyter-widgets/base",
       "_view_module_version": "1.2.0",
       "_view_name": "LayoutView",
       "align_content": null,
       "align_items": null,
       "align_self": null,
       "border": null,
       "bottom": null,
       "display": null,
       "flex": null,
       "flex_flow": null,
       "grid_area": null,
       "grid_auto_columns": null,
       "grid_auto_flow": null,
       "grid_auto_rows": null,
       "grid_column": null,
       "grid_gap": null,
       "grid_row": null,
       "grid_template_areas": null,
       "grid_template_columns": null,
       "grid_template_rows": null,
       "height": null,
       "justify_content": null,
       "justify_items": null,
       "left": null,
       "margin": null,
       "max_height": null,
       "max_width": null,
       "min_height": null,
       "min_width": null,
       "object_fit": null,
       "object_position": null,
       "order": null,
       "overflow": null,
       "overflow_x": null,
       "overflow_y": null,
       "padding": null,
       "right": null,
       "top": null,
       "visibility": null,
       "width": "max-content"
      }
     },
     "7b8eac5bcba944b1a1cc3998efedd90b": {
      "model_module": "@jupyter-widgets/base",
      "model_module_version": "1.2.0",
      "model_name": "LayoutModel",
      "state": {
       "_model_module": "@jupyter-widgets/base",
       "_model_module_version": "1.2.0",
       "_model_name": "LayoutModel",
       "_view_count": null,
       "_view_module": "@jupyter-widgets/base",
       "_view_module_version": "1.2.0",
       "_view_name": "LayoutView",
       "align_content": null,
       "align_items": null,
       "align_self": null,
       "border": null,
       "bottom": null,
       "display": null,
       "flex": null,
       "flex_flow": null,
       "grid_area": null,
       "grid_auto_columns": null,
       "grid_auto_flow": null,
       "grid_auto_rows": null,
       "grid_column": null,
       "grid_gap": null,
       "grid_row": null,
       "grid_template_areas": null,
       "grid_template_columns": null,
       "grid_template_rows": null,
       "height": null,
       "justify_content": null,
       "justify_items": null,
       "left": null,
       "margin": null,
       "max_height": null,
       "max_width": null,
       "min_height": null,
       "min_width": null,
       "object_fit": null,
       "object_position": null,
       "order": null,
       "overflow": null,
       "overflow_x": null,
       "overflow_y": null,
       "padding": null,
       "right": null,
       "top": null,
       "visibility": null,
       "width": "max-content"
      }
     },
     "7c43e539ad6741389177e10948898e9f": {
      "model_module": "@jupyter-widgets/controls",
      "model_module_version": "1.5.0",
      "model_name": "DescriptionStyleModel",
      "state": {
       "_model_module": "@jupyter-widgets/controls",
       "_model_module_version": "1.5.0",
       "_model_name": "DescriptionStyleModel",
       "_view_count": null,
       "_view_module": "@jupyter-widgets/base",
       "_view_module_version": "1.2.0",
       "_view_name": "StyleView",
       "description_width": ""
      }
     },
     "7cee9ca9ad8047a29810e354d47883de": {
      "model_module": "@jupyter-widgets/controls",
      "model_module_version": "1.5.0",
      "model_name": "DescriptionStyleModel",
      "state": {
       "_model_module": "@jupyter-widgets/controls",
       "_model_module_version": "1.5.0",
       "_model_name": "DescriptionStyleModel",
       "_view_count": null,
       "_view_module": "@jupyter-widgets/base",
       "_view_module_version": "1.2.0",
       "_view_name": "StyleView",
       "description_width": ""
      }
     },
     "7e6cafb5916d42b6b26921e35e69bcda": {
      "model_module": "@jupyter-widgets/base",
      "model_module_version": "1.2.0",
      "model_name": "LayoutModel",
      "state": {
       "_model_module": "@jupyter-widgets/base",
       "_model_module_version": "1.2.0",
       "_model_name": "LayoutModel",
       "_view_count": null,
       "_view_module": "@jupyter-widgets/base",
       "_view_module_version": "1.2.0",
       "_view_name": "LayoutView",
       "align_content": null,
       "align_items": null,
       "align_self": null,
       "border": null,
       "bottom": null,
       "display": null,
       "flex": null,
       "flex_flow": null,
       "grid_area": null,
       "grid_auto_columns": null,
       "grid_auto_flow": null,
       "grid_auto_rows": null,
       "grid_column": null,
       "grid_gap": null,
       "grid_row": null,
       "grid_template_areas": null,
       "grid_template_columns": null,
       "grid_template_rows": null,
       "height": null,
       "justify_content": null,
       "justify_items": null,
       "left": null,
       "margin": null,
       "max_height": null,
       "max_width": null,
       "min_height": null,
       "min_width": null,
       "object_fit": null,
       "object_position": null,
       "order": null,
       "overflow": null,
       "overflow_x": null,
       "overflow_y": null,
       "padding": null,
       "right": null,
       "top": null,
       "visibility": null,
       "width": null
      }
     },
     "8b442b72da704e19b5d227822d8cecc6": {
      "model_module": "@jupyter-widgets/controls",
      "model_module_version": "1.5.0",
      "model_name": "DescriptionStyleModel",
      "state": {
       "_model_module": "@jupyter-widgets/controls",
       "_model_module_version": "1.5.0",
       "_model_name": "DescriptionStyleModel",
       "_view_count": null,
       "_view_module": "@jupyter-widgets/base",
       "_view_module_version": "1.2.0",
       "_view_name": "StyleView",
       "description_width": ""
      }
     },
     "8dc41ccfe1d642fabc946091cae4c315": {
      "model_module": "@jupyter-widgets/output",
      "model_module_version": "1.0.0",
      "model_name": "OutputModel",
      "state": {
       "_dom_classes": [],
       "_model_module": "@jupyter-widgets/output",
       "_model_module_version": "1.0.0",
       "_model_name": "OutputModel",
       "_view_count": null,
       "_view_module": "@jupyter-widgets/output",
       "_view_module_version": "1.0.0",
       "_view_name": "OutputView",
       "layout": "IPY_MODEL_1dd39a09fa4f4ead9307918b7ed9fd63",
       "msg_id": "",
       "outputs": []
      }
     },
     "8f08b80074e34699be24625096032625": {
      "model_module": "@jupyter-widgets/controls",
      "model_module_version": "1.5.0",
      "model_name": "RadioButtonsModel",
      "state": {
       "_dom_classes": [],
       "_model_module": "@jupyter-widgets/controls",
       "_model_module_version": "1.5.0",
       "_model_name": "RadioButtonsModel",
       "_options_labels": [
        "No",
        "Yes"
       ],
       "_view_count": null,
       "_view_module": "@jupyter-widgets/controls",
       "_view_module_version": "1.5.0",
       "_view_name": "RadioButtonsView",
       "description": "",
       "description_tooltip": null,
       "disabled": false,
       "index": 0,
       "layout": "IPY_MODEL_f4093bc6f85e4180ad008bb4c027b0e0",
       "style": "IPY_MODEL_3aa002a10e1d4769820332cf3a3a0950"
      }
     },
     "8fbc94432b1a4c35a3cb930e42739041": {
      "model_module": "@jupyter-widgets/controls",
      "model_module_version": "1.5.0",
      "model_name": "LabelModel",
      "state": {
       "_dom_classes": [],
       "_model_module": "@jupyter-widgets/controls",
       "_model_module_version": "1.5.0",
       "_model_name": "LabelModel",
       "_view_count": null,
       "_view_module": "@jupyter-widgets/controls",
       "_view_module_version": "1.5.0",
       "_view_name": "LabelView",
       "description": "",
       "description_tooltip": null,
       "layout": "IPY_MODEL_2fbeba8ceb2544399a818e815f26facd",
       "placeholder": "​",
       "style": "IPY_MODEL_436551d3e29b4945ae702bde0358ecdd",
       "value": "General Health scale :"
      }
     },
     "90d5082fd73a4a37a794e2cb4214c88e": {
      "model_module": "@jupyter-widgets/controls",
      "model_module_version": "1.5.0",
      "model_name": "LabelModel",
      "state": {
       "_dom_classes": [],
       "_model_module": "@jupyter-widgets/controls",
       "_model_module_version": "1.5.0",
       "_model_name": "LabelModel",
       "_view_count": null,
       "_view_module": "@jupyter-widgets/controls",
       "_view_module_version": "1.5.0",
       "_view_name": "LabelView",
       "description": "",
       "description_tooltip": null,
       "layout": "IPY_MODEL_59f6d0c37367438e834f585dfe4d0da4",
       "placeholder": "​",
       "style": "IPY_MODEL_592031bf711c45b5a647bc9b3e6fb0c7",
       "value": "(Ever told) you had a Stroke?"
      }
     },
     "96afe0b04f8e42f69a3102d064cc7d2c": {
      "model_module": "@jupyter-widgets/base",
      "model_module_version": "1.2.0",
      "model_name": "LayoutModel",
      "state": {
       "_model_module": "@jupyter-widgets/base",
       "_model_module_version": "1.2.0",
       "_model_name": "LayoutModel",
       "_view_count": null,
       "_view_module": "@jupyter-widgets/base",
       "_view_module_version": "1.2.0",
       "_view_name": "LayoutView",
       "align_content": null,
       "align_items": null,
       "align_self": null,
       "border": null,
       "bottom": null,
       "display": null,
       "flex": null,
       "flex_flow": null,
       "grid_area": null,
       "grid_auto_columns": null,
       "grid_auto_flow": null,
       "grid_auto_rows": null,
       "grid_column": null,
       "grid_gap": null,
       "grid_row": null,
       "grid_template_areas": null,
       "grid_template_columns": null,
       "grid_template_rows": null,
       "height": null,
       "justify_content": null,
       "justify_items": null,
       "left": null,
       "margin": null,
       "max_height": null,
       "max_width": null,
       "min_height": null,
       "min_width": null,
       "object_fit": null,
       "object_position": null,
       "order": null,
       "overflow": null,
       "overflow_x": null,
       "overflow_y": null,
       "padding": null,
       "right": null,
       "top": null,
       "visibility": null,
       "width": null
      }
     },
     "96fae2faeb994b7ea8239814295c4d95": {
      "model_module": "@jupyter-widgets/base",
      "model_module_version": "1.2.0",
      "model_name": "LayoutModel",
      "state": {
       "_model_module": "@jupyter-widgets/base",
       "_model_module_version": "1.2.0",
       "_model_name": "LayoutModel",
       "_view_count": null,
       "_view_module": "@jupyter-widgets/base",
       "_view_module_version": "1.2.0",
       "_view_name": "LayoutView",
       "align_content": null,
       "align_items": null,
       "align_self": null,
       "border": null,
       "bottom": null,
       "display": null,
       "flex": null,
       "flex_flow": null,
       "grid_area": null,
       "grid_auto_columns": null,
       "grid_auto_flow": null,
       "grid_auto_rows": null,
       "grid_column": null,
       "grid_gap": null,
       "grid_row": null,
       "grid_template_areas": null,
       "grid_template_columns": null,
       "grid_template_rows": null,
       "height": null,
       "justify_content": null,
       "justify_items": null,
       "left": null,
       "margin": null,
       "max_height": null,
       "max_width": null,
       "min_height": null,
       "min_width": null,
       "object_fit": null,
       "object_position": null,
       "order": null,
       "overflow": null,
       "overflow_x": null,
       "overflow_y": null,
       "padding": null,
       "right": null,
       "top": null,
       "visibility": null,
       "width": "max-content"
      }
     },
     "98855618b0af4c2e959657d1e66e4746": {
      "model_module": "@jupyter-widgets/controls",
      "model_module_version": "1.5.0",
      "model_name": "DescriptionStyleModel",
      "state": {
       "_model_module": "@jupyter-widgets/controls",
       "_model_module_version": "1.5.0",
       "_model_name": "DescriptionStyleModel",
       "_view_count": null,
       "_view_module": "@jupyter-widgets/base",
       "_view_module_version": "1.2.0",
       "_view_name": "StyleView",
       "description_width": ""
      }
     },
     "9b1c4d6c1ad847189710e53ad034e6f3": {
      "model_module": "@jupyter-widgets/controls",
      "model_module_version": "1.5.0",
      "model_name": "LabelModel",
      "state": {
       "_dom_classes": [],
       "_model_module": "@jupyter-widgets/controls",
       "_model_module_version": "1.5.0",
       "_model_name": "LabelModel",
       "_view_count": null,
       "_view_module": "@jupyter-widgets/controls",
       "_view_module_version": "1.5.0",
       "_view_name": "LabelView",
       "description": "",
       "description_tooltip": null,
       "layout": "IPY_MODEL_7b5d7491ecb54231a6fd4deaa95e0387",
       "placeholder": "​",
       "style": "IPY_MODEL_f1a38d93812b4de59ec3cfabdc03a434",
       "value": "Have you smoked at least 100 cigarettes in your life?"
      }
     },
     "a1f8f07598774be7abc1d7aec1de9360": {
      "model_module": "@jupyter-widgets/base",
      "model_module_version": "1.2.0",
      "model_name": "LayoutModel",
      "state": {
       "_model_module": "@jupyter-widgets/base",
       "_model_module_version": "1.2.0",
       "_model_name": "LayoutModel",
       "_view_count": null,
       "_view_module": "@jupyter-widgets/base",
       "_view_module_version": "1.2.0",
       "_view_name": "LayoutView",
       "align_content": null,
       "align_items": null,
       "align_self": null,
       "border": null,
       "bottom": null,
       "display": null,
       "flex": null,
       "flex_flow": null,
       "grid_area": null,
       "grid_auto_columns": null,
       "grid_auto_flow": null,
       "grid_auto_rows": null,
       "grid_column": null,
       "grid_gap": null,
       "grid_row": null,
       "grid_template_areas": null,
       "grid_template_columns": null,
       "grid_template_rows": null,
       "height": null,
       "justify_content": null,
       "justify_items": null,
       "left": null,
       "margin": null,
       "max_height": null,
       "max_width": null,
       "min_height": null,
       "min_width": null,
       "object_fit": null,
       "object_position": null,
       "order": null,
       "overflow": null,
       "overflow_x": null,
       "overflow_y": null,
       "padding": null,
       "right": null,
       "top": null,
       "visibility": null,
       "width": null
      }
     },
     "a20bb4b9831b41399fb57292e497cc1d": {
      "model_module": "@jupyter-widgets/controls",
      "model_module_version": "1.5.0",
      "model_name": "LabelModel",
      "state": {
       "_dom_classes": [],
       "_model_module": "@jupyter-widgets/controls",
       "_model_module_version": "1.5.0",
       "_model_name": "LabelModel",
       "_view_count": null,
       "_view_module": "@jupyter-widgets/controls",
       "_view_module_version": "1.5.0",
       "_view_name": "LabelView",
       "description": "",
       "description_tooltip": null,
       "layout": "IPY_MODEL_03a85189455848ab94333e30257a3f73",
       "placeholder": "​",
       "style": "IPY_MODEL_0e815a6ca603498baeb0f78e50d0ea9d",
       "value": "How many past days was your Physical Health not good?"
      }
     },
     "a3a4abf01bae4732ab31d51df787be82": {
      "model_module": "@jupyter-widgets/controls",
      "model_module_version": "1.5.0",
      "model_name": "DescriptionStyleModel",
      "state": {
       "_model_module": "@jupyter-widgets/controls",
       "_model_module_version": "1.5.0",
       "_model_name": "DescriptionStyleModel",
       "_view_count": null,
       "_view_module": "@jupyter-widgets/base",
       "_view_module_version": "1.2.0",
       "_view_name": "StyleView",
       "description_width": ""
      }
     },
     "a432958d7f0e436ea5e07f846bf5a3cf": {
      "model_module": "@jupyter-widgets/base",
      "model_module_version": "1.2.0",
      "model_name": "LayoutModel",
      "state": {
       "_model_module": "@jupyter-widgets/base",
       "_model_module_version": "1.2.0",
       "_model_name": "LayoutModel",
       "_view_count": null,
       "_view_module": "@jupyter-widgets/base",
       "_view_module_version": "1.2.0",
       "_view_name": "LayoutView",
       "align_content": null,
       "align_items": null,
       "align_self": null,
       "border": null,
       "bottom": null,
       "display": null,
       "flex": null,
       "flex_flow": null,
       "grid_area": null,
       "grid_auto_columns": null,
       "grid_auto_flow": null,
       "grid_auto_rows": null,
       "grid_column": null,
       "grid_gap": null,
       "grid_row": null,
       "grid_template_areas": null,
       "grid_template_columns": null,
       "grid_template_rows": null,
       "height": null,
       "justify_content": null,
       "justify_items": null,
       "left": null,
       "margin": null,
       "max_height": null,
       "max_width": null,
       "min_height": null,
       "min_width": null,
       "object_fit": null,
       "object_position": null,
       "order": null,
       "overflow": null,
       "overflow_x": null,
       "overflow_y": null,
       "padding": null,
       "right": null,
       "top": null,
       "visibility": null,
       "width": "max-content"
      }
     },
     "a694fd3303cc4c1cb73ad76998af81c2": {
      "model_module": "@jupyter-widgets/controls",
      "model_module_version": "1.5.0",
      "model_name": "DescriptionStyleModel",
      "state": {
       "_model_module": "@jupyter-widgets/controls",
       "_model_module_version": "1.5.0",
       "_model_name": "DescriptionStyleModel",
       "_view_count": null,
       "_view_module": "@jupyter-widgets/base",
       "_view_module_version": "1.2.0",
       "_view_name": "StyleView",
       "description_width": ""
      }
     },
     "aeab4a8e20b840c2b2246754c7a1ec8f": {
      "model_module": "@jupyter-widgets/controls",
      "model_module_version": "1.5.0",
      "model_name": "DescriptionStyleModel",
      "state": {
       "_model_module": "@jupyter-widgets/controls",
       "_model_module_version": "1.5.0",
       "_model_name": "DescriptionStyleModel",
       "_view_count": null,
       "_view_module": "@jupyter-widgets/base",
       "_view_module_version": "1.2.0",
       "_view_name": "StyleView",
       "description_width": ""
      }
     },
     "b0cf1220093845afb9275aa7c50b02a1": {
      "model_module": "@jupyter-widgets/controls",
      "model_module_version": "1.5.0",
      "model_name": "SliderStyleModel",
      "state": {
       "_model_module": "@jupyter-widgets/controls",
       "_model_module_version": "1.5.0",
       "_model_name": "SliderStyleModel",
       "_view_count": null,
       "_view_module": "@jupyter-widgets/base",
       "_view_module_version": "1.2.0",
       "_view_name": "StyleView",
       "description_width": "",
       "handle_color": null
      }
     },
     "b18371e8de034def899ba9fb79f70975": {
      "model_module": "@jupyter-widgets/base",
      "model_module_version": "1.2.0",
      "model_name": "LayoutModel",
      "state": {
       "_model_module": "@jupyter-widgets/base",
       "_model_module_version": "1.2.0",
       "_model_name": "LayoutModel",
       "_view_count": null,
       "_view_module": "@jupyter-widgets/base",
       "_view_module_version": "1.2.0",
       "_view_name": "LayoutView",
       "align_content": null,
       "align_items": null,
       "align_self": null,
       "border": null,
       "bottom": null,
       "display": null,
       "flex": null,
       "flex_flow": null,
       "grid_area": null,
       "grid_auto_columns": null,
       "grid_auto_flow": null,
       "grid_auto_rows": null,
       "grid_column": null,
       "grid_gap": null,
       "grid_row": null,
       "grid_template_areas": null,
       "grid_template_columns": null,
       "grid_template_rows": null,
       "height": null,
       "justify_content": null,
       "justify_items": null,
       "left": null,
       "margin": null,
       "max_height": null,
       "max_width": null,
       "min_height": null,
       "min_width": null,
       "object_fit": null,
       "object_position": null,
       "order": null,
       "overflow": null,
       "overflow_x": null,
       "overflow_y": null,
       "padding": null,
       "right": null,
       "top": null,
       "visibility": null,
       "width": null
      }
     },
     "b21fa8d2637f412a97ca63ae794cc62e": {
      "model_module": "@jupyter-widgets/controls",
      "model_module_version": "1.5.0",
      "model_name": "RadioButtonsModel",
      "state": {
       "_dom_classes": [],
       "_model_module": "@jupyter-widgets/controls",
       "_model_module_version": "1.5.0",
       "_model_name": "RadioButtonsModel",
       "_options_labels": [
        "No",
        "Yes"
       ],
       "_view_count": null,
       "_view_module": "@jupyter-widgets/controls",
       "_view_module_version": "1.5.0",
       "_view_name": "RadioButtonsView",
       "description": "",
       "description_tooltip": null,
       "disabled": false,
       "index": 0,
       "layout": "IPY_MODEL_33189e6bb4fd423ab49b1ca6f576bb73",
       "style": "IPY_MODEL_d368df6b8b7547ae82571ba7940c3fad"
      }
     },
     "b3c210c590bb4ff0b20f61193a36867c": {
      "model_module": "@jupyter-widgets/controls",
      "model_module_version": "1.5.0",
      "model_name": "FloatSliderModel",
      "state": {
       "_dom_classes": [],
       "_model_module": "@jupyter-widgets/controls",
       "_model_module_version": "1.5.0",
       "_model_name": "FloatSliderModel",
       "_view_count": null,
       "_view_module": "@jupyter-widgets/controls",
       "_view_module_version": "1.5.0",
       "_view_name": "FloatSliderView",
       "continuous_update": true,
       "description": "",
       "description_tooltip": null,
       "disabled": false,
       "layout": "IPY_MODEL_f3d8099d823e436982abcf5bbbf8a1d3",
       "max": 30.0,
       "min": 0.0,
       "orientation": "horizontal",
       "readout": true,
       "readout_format": ".2f",
       "step": 1.0,
       "style": "IPY_MODEL_3711ee29759d4e59a934270d89d47a32",
       "value": 0.0
      }
     },
     "b720ac4a92964a40a8f7b874f6212fac": {
      "model_module": "@jupyter-widgets/controls",
      "model_module_version": "1.5.0",
      "model_name": "RadioButtonsModel",
      "state": {
       "_dom_classes": [],
       "_model_module": "@jupyter-widgets/controls",
       "_model_module_version": "1.5.0",
       "_model_name": "RadioButtonsModel",
       "_options_labels": [
        "No",
        "Yes"
       ],
       "_view_count": null,
       "_view_module": "@jupyter-widgets/controls",
       "_view_module_version": "1.5.0",
       "_view_name": "RadioButtonsView",
       "description": "",
       "description_tooltip": null,
       "disabled": false,
       "index": 0,
       "layout": "IPY_MODEL_298ec3043b6c4a388dd6cbc3dae898de",
       "style": "IPY_MODEL_98855618b0af4c2e959657d1e66e4746"
      }
     },
     "b745a39b072e4e74b85698b82dfe5f8d": {
      "model_module": "@jupyter-widgets/controls",
      "model_module_version": "1.5.0",
      "model_name": "LabelModel",
      "state": {
       "_dom_classes": [],
       "_model_module": "@jupyter-widgets/controls",
       "_model_module_version": "1.5.0",
       "_model_name": "LabelModel",
       "_view_count": null,
       "_view_module": "@jupyter-widgets/controls",
       "_view_module_version": "1.5.0",
       "_view_name": "LabelView",
       "description": "",
       "description_tooltip": null,
       "layout": "IPY_MODEL_537cc86252604348984aaecbe505153e",
       "placeholder": "​",
       "style": "IPY_MODEL_6cedf4da970a418ca8e8ef065e6b8466",
       "value": "Body Mass Index:"
      }
     },
     "c39050284dfe44ad873107195cdde0a7": {
      "model_module": "@jupyter-widgets/controls",
      "model_module_version": "1.5.0",
      "model_name": "RadioButtonsModel",
      "state": {
       "_dom_classes": [],
       "_model_module": "@jupyter-widgets/controls",
       "_model_module_version": "1.5.0",
       "_model_name": "RadioButtonsModel",
       "_options_labels": [
        "No",
        "Yes"
       ],
       "_view_count": null,
       "_view_module": "@jupyter-widgets/controls",
       "_view_module_version": "1.5.0",
       "_view_name": "RadioButtonsView",
       "description": "",
       "description_tooltip": null,
       "disabled": false,
       "index": 0,
       "layout": "IPY_MODEL_5b01a3222a6d4147b51bbec5636e1f0c",
       "style": "IPY_MODEL_8b442b72da704e19b5d227822d8cecc6"
      }
     },
     "c7eccb3bdf2549c19e1b39de7d548d1d": {
      "model_module": "@jupyter-widgets/controls",
      "model_module_version": "1.5.0",
      "model_name": "DescriptionStyleModel",
      "state": {
       "_model_module": "@jupyter-widgets/controls",
       "_model_module_version": "1.5.0",
       "_model_name": "DescriptionStyleModel",
       "_view_count": null,
       "_view_module": "@jupyter-widgets/base",
       "_view_module_version": "1.2.0",
       "_view_name": "StyleView",
       "description_width": ""
      }
     },
     "c7f8a6f9770449919fc2f9e17e28d787": {
      "model_module": "@jupyter-widgets/controls",
      "model_module_version": "1.5.0",
      "model_name": "LabelModel",
      "state": {
       "_dom_classes": [],
       "_model_module": "@jupyter-widgets/controls",
       "_model_module_version": "1.5.0",
       "_model_name": "LabelModel",
       "_view_count": null,
       "_view_module": "@jupyter-widgets/controls",
       "_view_module_version": "1.5.0",
       "_view_name": "LabelView",
       "description": "",
       "description_tooltip": null,
       "layout": "IPY_MODEL_047dcd8f1ada4f85abc4725ba8d87fe9",
       "placeholder": "​",
       "style": "IPY_MODEL_a3a4abf01bae4732ab31d51df787be82",
       "value": "Heavy drinkers (drinks <14 for men, <7 for women per week"
      }
     },
     "c94947ee437446a18628dcf59c600454": {
      "model_module": "@jupyter-widgets/controls",
      "model_module_version": "1.5.0",
      "model_name": "RadioButtonsModel",
      "state": {
       "_dom_classes": [],
       "_model_module": "@jupyter-widgets/controls",
       "_model_module_version": "1.5.0",
       "_model_name": "RadioButtonsModel",
       "_options_labels": [
        "No",
        "Yes"
       ],
       "_view_count": null,
       "_view_module": "@jupyter-widgets/controls",
       "_view_module_version": "1.5.0",
       "_view_name": "RadioButtonsView",
       "description": "",
       "description_tooltip": null,
       "disabled": false,
       "index": 0,
       "layout": "IPY_MODEL_667437f938dd438aaedb0db61551f2e1",
       "style": "IPY_MODEL_35a84725b5534518a46713298e4fe6f1"
      }
     },
     "ca4888e477a84945a0cc05fd8011e9d8": {
      "model_module": "@jupyter-widgets/base",
      "model_module_version": "1.2.0",
      "model_name": "LayoutModel",
      "state": {
       "_model_module": "@jupyter-widgets/base",
       "_model_module_version": "1.2.0",
       "_model_name": "LayoutModel",
       "_view_count": null,
       "_view_module": "@jupyter-widgets/base",
       "_view_module_version": "1.2.0",
       "_view_name": "LayoutView",
       "align_content": null,
       "align_items": null,
       "align_self": null,
       "border": null,
       "bottom": null,
       "display": null,
       "flex": null,
       "flex_flow": null,
       "grid_area": null,
       "grid_auto_columns": null,
       "grid_auto_flow": null,
       "grid_auto_rows": null,
       "grid_column": null,
       "grid_gap": null,
       "grid_row": null,
       "grid_template_areas": null,
       "grid_template_columns": null,
       "grid_template_rows": null,
       "height": null,
       "justify_content": null,
       "justify_items": null,
       "left": null,
       "margin": null,
       "max_height": null,
       "max_width": null,
       "min_height": null,
       "min_width": null,
       "object_fit": null,
       "object_position": null,
       "order": null,
       "overflow": null,
       "overflow_x": null,
       "overflow_y": null,
       "padding": null,
       "right": null,
       "top": null,
       "visibility": null,
       "width": null
      }
     },
     "cacffbe16096423c839e3ff031857062": {
      "model_module": "@jupyter-widgets/base",
      "model_module_version": "1.2.0",
      "model_name": "LayoutModel",
      "state": {
       "_model_module": "@jupyter-widgets/base",
       "_model_module_version": "1.2.0",
       "_model_name": "LayoutModel",
       "_view_count": null,
       "_view_module": "@jupyter-widgets/base",
       "_view_module_version": "1.2.0",
       "_view_name": "LayoutView",
       "align_content": null,
       "align_items": null,
       "align_self": null,
       "border": null,
       "bottom": null,
       "display": null,
       "flex": null,
       "flex_flow": null,
       "grid_area": null,
       "grid_auto_columns": null,
       "grid_auto_flow": null,
       "grid_auto_rows": null,
       "grid_column": null,
       "grid_gap": null,
       "grid_row": null,
       "grid_template_areas": null,
       "grid_template_columns": null,
       "grid_template_rows": null,
       "height": null,
       "justify_content": null,
       "justify_items": null,
       "left": null,
       "margin": null,
       "max_height": null,
       "max_width": null,
       "min_height": null,
       "min_width": null,
       "object_fit": null,
       "object_position": null,
       "order": null,
       "overflow": null,
       "overflow_x": null,
       "overflow_y": null,
       "padding": null,
       "right": null,
       "top": null,
       "visibility": null,
       "width": "max-content"
      }
     },
     "cc282e0226264461a433950483d4f079": {
      "model_module": "@jupyter-widgets/controls",
      "model_module_version": "1.5.0",
      "model_name": "DescriptionStyleModel",
      "state": {
       "_model_module": "@jupyter-widgets/controls",
       "_model_module_version": "1.5.0",
       "_model_name": "DescriptionStyleModel",
       "_view_count": null,
       "_view_module": "@jupyter-widgets/base",
       "_view_module_version": "1.2.0",
       "_view_name": "StyleView",
       "description_width": ""
      }
     },
     "cee310d30e6f407d83a8ccf42563d9e7": {
      "model_module": "@jupyter-widgets/base",
      "model_module_version": "1.2.0",
      "model_name": "LayoutModel",
      "state": {
       "_model_module": "@jupyter-widgets/base",
       "_model_module_version": "1.2.0",
       "_model_name": "LayoutModel",
       "_view_count": null,
       "_view_module": "@jupyter-widgets/base",
       "_view_module_version": "1.2.0",
       "_view_name": "LayoutView",
       "align_content": null,
       "align_items": null,
       "align_self": null,
       "border": null,
       "bottom": null,
       "display": null,
       "flex": null,
       "flex_flow": null,
       "grid_area": null,
       "grid_auto_columns": null,
       "grid_auto_flow": null,
       "grid_auto_rows": null,
       "grid_column": null,
       "grid_gap": null,
       "grid_row": null,
       "grid_template_areas": null,
       "grid_template_columns": null,
       "grid_template_rows": null,
       "height": null,
       "justify_content": null,
       "justify_items": null,
       "left": null,
       "margin": null,
       "max_height": null,
       "max_width": null,
       "min_height": null,
       "min_width": null,
       "object_fit": null,
       "object_position": null,
       "order": null,
       "overflow": null,
       "overflow_x": null,
       "overflow_y": null,
       "padding": null,
       "right": null,
       "top": null,
       "visibility": null,
       "width": "max-content"
      }
     },
     "d1d19289d3b44e8caaa4eddeec3c9011": {
      "model_module": "@jupyter-widgets/base",
      "model_module_version": "1.2.0",
      "model_name": "LayoutModel",
      "state": {
       "_model_module": "@jupyter-widgets/base",
       "_model_module_version": "1.2.0",
       "_model_name": "LayoutModel",
       "_view_count": null,
       "_view_module": "@jupyter-widgets/base",
       "_view_module_version": "1.2.0",
       "_view_name": "LayoutView",
       "align_content": null,
       "align_items": null,
       "align_self": null,
       "border": null,
       "bottom": null,
       "display": null,
       "flex": null,
       "flex_flow": null,
       "grid_area": null,
       "grid_auto_columns": null,
       "grid_auto_flow": null,
       "grid_auto_rows": null,
       "grid_column": null,
       "grid_gap": null,
       "grid_row": null,
       "grid_template_areas": null,
       "grid_template_columns": null,
       "grid_template_rows": null,
       "height": null,
       "justify_content": null,
       "justify_items": null,
       "left": null,
       "margin": null,
       "max_height": null,
       "max_width": null,
       "min_height": null,
       "min_width": null,
       "object_fit": null,
       "object_position": null,
       "order": null,
       "overflow": null,
       "overflow_x": null,
       "overflow_y": null,
       "padding": null,
       "right": null,
       "top": null,
       "visibility": null,
       "width": "max-content"
      }
     },
     "d368df6b8b7547ae82571ba7940c3fad": {
      "model_module": "@jupyter-widgets/controls",
      "model_module_version": "1.5.0",
      "model_name": "DescriptionStyleModel",
      "state": {
       "_model_module": "@jupyter-widgets/controls",
       "_model_module_version": "1.5.0",
       "_model_name": "DescriptionStyleModel",
       "_view_count": null,
       "_view_module": "@jupyter-widgets/base",
       "_view_module_version": "1.2.0",
       "_view_name": "StyleView",
       "description_width": ""
      }
     },
     "d6fcd6b7fded4b1f897486ba9852f779": {
      "model_module": "@jupyter-widgets/controls",
      "model_module_version": "1.5.0",
      "model_name": "LabelModel",
      "state": {
       "_dom_classes": [],
       "_model_module": "@jupyter-widgets/controls",
       "_model_module_version": "1.5.0",
       "_model_name": "LabelModel",
       "_view_count": null,
       "_view_module": "@jupyter-widgets/controls",
       "_view_module_version": "1.5.0",
       "_view_name": "LabelView",
       "description": "",
       "description_tooltip": null,
       "layout": "IPY_MODEL_fc868609998a42228a42fc3707f1c5b8",
       "placeholder": "​",
       "style": "IPY_MODEL_7c43e539ad6741389177e10948898e9f",
       "value": "Physical Activity in past 30 days, not incl job"
      }
     },
     "d9e89faf47ca4c1693beea2d2ec8c111": {
      "model_module": "@jupyter-widgets/controls",
      "model_module_version": "1.5.0",
      "model_name": "LabelModel",
      "state": {
       "_dom_classes": [],
       "_model_module": "@jupyter-widgets/controls",
       "_model_module_version": "1.5.0",
       "_model_name": "LabelModel",
       "_view_count": null,
       "_view_module": "@jupyter-widgets/controls",
       "_view_module_version": "1.5.0",
       "_view_name": "LabelView",
       "description": "",
       "description_tooltip": null,
       "layout": "IPY_MODEL_d1d19289d3b44e8caaa4eddeec3c9011",
       "placeholder": "​",
       "style": "IPY_MODEL_c7eccb3bdf2549c19e1b39de7d548d1d",
       "value": "Eat 1 Fruit or more per day"
      }
     },
     "ded2455dc7cd4efdbd7490679da4f371": {
      "model_module": "@jupyter-widgets/controls",
      "model_module_version": "1.5.0",
      "model_name": "RadioButtonsModel",
      "state": {
       "_dom_classes": [],
       "_model_module": "@jupyter-widgets/controls",
       "_model_module_version": "1.5.0",
       "_model_name": "RadioButtonsModel",
       "_options_labels": [
        "No",
        "Yes"
       ],
       "_view_count": null,
       "_view_module": "@jupyter-widgets/controls",
       "_view_module_version": "1.5.0",
       "_view_name": "RadioButtonsView",
       "description": "",
       "description_tooltip": null,
       "disabled": false,
       "index": 0,
       "layout": "IPY_MODEL_96afe0b04f8e42f69a3102d064cc7d2c",
       "style": "IPY_MODEL_15ee695bbe444937adc3ce8196bf3423"
      }
     },
     "e1180f710b93490bbeae64be99ad08d4": {
      "model_module": "@jupyter-widgets/base",
      "model_module_version": "1.2.0",
      "model_name": "LayoutModel",
      "state": {
       "_model_module": "@jupyter-widgets/base",
       "_model_module_version": "1.2.0",
       "_model_name": "LayoutModel",
       "_view_count": null,
       "_view_module": "@jupyter-widgets/base",
       "_view_module_version": "1.2.0",
       "_view_name": "LayoutView",
       "align_content": null,
       "align_items": null,
       "align_self": null,
       "border": null,
       "bottom": null,
       "display": null,
       "flex": null,
       "flex_flow": null,
       "grid_area": null,
       "grid_auto_columns": null,
       "grid_auto_flow": null,
       "grid_auto_rows": null,
       "grid_column": null,
       "grid_gap": null,
       "grid_row": null,
       "grid_template_areas": null,
       "grid_template_columns": null,
       "grid_template_rows": null,
       "height": null,
       "justify_content": null,
       "justify_items": null,
       "left": null,
       "margin": null,
       "max_height": null,
       "max_width": null,
       "min_height": null,
       "min_width": null,
       "object_fit": null,
       "object_position": null,
       "order": null,
       "overflow": null,
       "overflow_x": null,
       "overflow_y": null,
       "padding": null,
       "right": null,
       "top": null,
       "visibility": null,
       "width": null
      }
     },
     "f1a38d93812b4de59ec3cfabdc03a434": {
      "model_module": "@jupyter-widgets/controls",
      "model_module_version": "1.5.0",
      "model_name": "DescriptionStyleModel",
      "state": {
       "_model_module": "@jupyter-widgets/controls",
       "_model_module_version": "1.5.0",
       "_model_name": "DescriptionStyleModel",
       "_view_count": null,
       "_view_module": "@jupyter-widgets/base",
       "_view_module_version": "1.2.0",
       "_view_name": "StyleView",
       "description_width": ""
      }
     },
     "f302f7d3b5b24cf6b5b041b8bd6f37e5": {
      "model_module": "@jupyter-widgets/controls",
      "model_module_version": "1.5.0",
      "model_name": "SliderStyleModel",
      "state": {
       "_model_module": "@jupyter-widgets/controls",
       "_model_module_version": "1.5.0",
       "_model_name": "SliderStyleModel",
       "_view_count": null,
       "_view_module": "@jupyter-widgets/base",
       "_view_module_version": "1.2.0",
       "_view_name": "StyleView",
       "description_width": "",
       "handle_color": null
      }
     },
     "f3d8099d823e436982abcf5bbbf8a1d3": {
      "model_module": "@jupyter-widgets/base",
      "model_module_version": "1.2.0",
      "model_name": "LayoutModel",
      "state": {
       "_model_module": "@jupyter-widgets/base",
       "_model_module_version": "1.2.0",
       "_model_name": "LayoutModel",
       "_view_count": null,
       "_view_module": "@jupyter-widgets/base",
       "_view_module_version": "1.2.0",
       "_view_name": "LayoutView",
       "align_content": null,
       "align_items": null,
       "align_self": null,
       "border": null,
       "bottom": null,
       "display": null,
       "flex": null,
       "flex_flow": null,
       "grid_area": null,
       "grid_auto_columns": null,
       "grid_auto_flow": null,
       "grid_auto_rows": null,
       "grid_column": null,
       "grid_gap": null,
       "grid_row": null,
       "grid_template_areas": null,
       "grid_template_columns": null,
       "grid_template_rows": null,
       "height": null,
       "justify_content": null,
       "justify_items": null,
       "left": null,
       "margin": null,
       "max_height": null,
       "max_width": null,
       "min_height": null,
       "min_width": null,
       "object_fit": null,
       "object_position": null,
       "order": null,
       "overflow": null,
       "overflow_x": null,
       "overflow_y": null,
       "padding": null,
       "right": null,
       "top": null,
       "visibility": null,
       "width": null
      }
     },
     "f4093bc6f85e4180ad008bb4c027b0e0": {
      "model_module": "@jupyter-widgets/base",
      "model_module_version": "1.2.0",
      "model_name": "LayoutModel",
      "state": {
       "_model_module": "@jupyter-widgets/base",
       "_model_module_version": "1.2.0",
       "_model_name": "LayoutModel",
       "_view_count": null,
       "_view_module": "@jupyter-widgets/base",
       "_view_module_version": "1.2.0",
       "_view_name": "LayoutView",
       "align_content": null,
       "align_items": null,
       "align_self": null,
       "border": null,
       "bottom": null,
       "display": null,
       "flex": null,
       "flex_flow": null,
       "grid_area": null,
       "grid_auto_columns": null,
       "grid_auto_flow": null,
       "grid_auto_rows": null,
       "grid_column": null,
       "grid_gap": null,
       "grid_row": null,
       "grid_template_areas": null,
       "grid_template_columns": null,
       "grid_template_rows": null,
       "height": null,
       "justify_content": null,
       "justify_items": null,
       "left": null,
       "margin": null,
       "max_height": null,
       "max_width": null,
       "min_height": null,
       "min_width": null,
       "object_fit": null,
       "object_position": null,
       "order": null,
       "overflow": null,
       "overflow_x": null,
       "overflow_y": null,
       "padding": null,
       "right": null,
       "top": null,
       "visibility": null,
       "width": null
      }
     },
     "f6db72c389c04c02a02807e4360dac8c": {
      "model_module": "@jupyter-widgets/base",
      "model_module_version": "1.2.0",
      "model_name": "LayoutModel",
      "state": {
       "_model_module": "@jupyter-widgets/base",
       "_model_module_version": "1.2.0",
       "_model_name": "LayoutModel",
       "_view_count": null,
       "_view_module": "@jupyter-widgets/base",
       "_view_module_version": "1.2.0",
       "_view_name": "LayoutView",
       "align_content": null,
       "align_items": null,
       "align_self": null,
       "border": null,
       "bottom": null,
       "display": null,
       "flex": null,
       "flex_flow": null,
       "grid_area": null,
       "grid_auto_columns": null,
       "grid_auto_flow": null,
       "grid_auto_rows": null,
       "grid_column": null,
       "grid_gap": null,
       "grid_row": null,
       "grid_template_areas": null,
       "grid_template_columns": null,
       "grid_template_rows": null,
       "height": null,
       "justify_content": null,
       "justify_items": null,
       "left": null,
       "margin": null,
       "max_height": null,
       "max_width": null,
       "min_height": null,
       "min_width": null,
       "object_fit": null,
       "object_position": null,
       "order": null,
       "overflow": null,
       "overflow_x": null,
       "overflow_y": null,
       "padding": null,
       "right": null,
       "top": null,
       "visibility": null,
       "width": null
      }
     },
     "f815cc16657a44eb9557ac5376702bff": {
      "model_module": "@jupyter-widgets/controls",
      "model_module_version": "1.5.0",
      "model_name": "DescriptionStyleModel",
      "state": {
       "_model_module": "@jupyter-widgets/controls",
       "_model_module_version": "1.5.0",
       "_model_name": "DescriptionStyleModel",
       "_view_count": null,
       "_view_module": "@jupyter-widgets/base",
       "_view_module_version": "1.2.0",
       "_view_name": "StyleView",
       "description_width": ""
      }
     },
     "fc868609998a42228a42fc3707f1c5b8": {
      "model_module": "@jupyter-widgets/base",
      "model_module_version": "1.2.0",
      "model_name": "LayoutModel",
      "state": {
       "_model_module": "@jupyter-widgets/base",
       "_model_module_version": "1.2.0",
       "_model_name": "LayoutModel",
       "_view_count": null,
       "_view_module": "@jupyter-widgets/base",
       "_view_module_version": "1.2.0",
       "_view_name": "LayoutView",
       "align_content": null,
       "align_items": null,
       "align_self": null,
       "border": null,
       "bottom": null,
       "display": null,
       "flex": null,
       "flex_flow": null,
       "grid_area": null,
       "grid_auto_columns": null,
       "grid_auto_flow": null,
       "grid_auto_rows": null,
       "grid_column": null,
       "grid_gap": null,
       "grid_row": null,
       "grid_template_areas": null,
       "grid_template_columns": null,
       "grid_template_rows": null,
       "height": null,
       "justify_content": null,
       "justify_items": null,
       "left": null,
       "margin": null,
       "max_height": null,
       "max_width": null,
       "min_height": null,
       "min_width": null,
       "object_fit": null,
       "object_position": null,
       "order": null,
       "overflow": null,
       "overflow_x": null,
       "overflow_y": null,
       "padding": null,
       "right": null,
       "top": null,
       "visibility": null,
       "width": "max-content"
      }
     },
     "fc95bb5a24a546538b9c8ef854fc7775": {
      "model_module": "@jupyter-widgets/base",
      "model_module_version": "1.2.0",
      "model_name": "LayoutModel",
      "state": {
       "_model_module": "@jupyter-widgets/base",
       "_model_module_version": "1.2.0",
       "_model_name": "LayoutModel",
       "_view_count": null,
       "_view_module": "@jupyter-widgets/base",
       "_view_module_version": "1.2.0",
       "_view_name": "LayoutView",
       "align_content": null,
       "align_items": null,
       "align_self": null,
       "border": null,
       "bottom": null,
       "display": null,
       "flex": null,
       "flex_flow": null,
       "grid_area": null,
       "grid_auto_columns": null,
       "grid_auto_flow": null,
       "grid_auto_rows": null,
       "grid_column": null,
       "grid_gap": null,
       "grid_row": null,
       "grid_template_areas": null,
       "grid_template_columns": null,
       "grid_template_rows": null,
       "height": null,
       "justify_content": null,
       "justify_items": null,
       "left": null,
       "margin": null,
       "max_height": null,
       "max_width": null,
       "min_height": null,
       "min_width": null,
       "object_fit": null,
       "object_position": null,
       "order": null,
       "overflow": null,
       "overflow_x": null,
       "overflow_y": null,
       "padding": null,
       "right": null,
       "top": null,
       "visibility": null,
       "width": "max-content"
      }
     }
    },
    "version_major": 2,
    "version_minor": 0
   }
  }
 },
 "nbformat": 4,
 "nbformat_minor": 5
}
