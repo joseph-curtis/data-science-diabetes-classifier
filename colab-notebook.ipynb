{
  "metadata": {
    "kaggle": {
      "accelerator": "none",
      "dataSources": [
        {
          "sourceId": 2789260,
          "sourceType": "datasetVersion",
          "datasetId": 1703281
        },
        {
          "sourceId": 7062872,
          "sourceType": "datasetVersion",
          "datasetId": 4066291
        }
      ],
      "dockerImageVersionId": 30664,
      "isInternetEnabled": false,
      "language": "python",
      "sourceType": "notebook",
      "isGpuEnabled": false
    },
    "kernelspec": {
      "name": "python3",
      "display_name": "Python 3"
    },
    "language_info": {
      "name": "python",
      "version": "3.10.13",
      "mimetype": "text/x-python",
      "codemirror_mode": {
        "name": "ipython",
        "version": 3
      },
      "pygments_lexer": "ipython3",
      "nbconvert_exporter": "python",
      "file_extension": ".py"
    },
    "colab": {
      "name": "at-risk diabetes classifier",
      "provenance": [],
      "cell_execution_strategy": "setup"
    },
    "widgets": {
      "application/vnd.jupyter.widget-state+json": {
        "1b3d9b45fd27486ba27ad6e2ecef615a": {
          "model_module": "@jupyter-widgets/controls",
          "model_name": "LabelModel",
          "model_module_version": "1.5.0",
          "state": {
            "_dom_classes": [],
            "_model_module": "@jupyter-widgets/controls",
            "_model_module_version": "1.5.0",
            "_model_name": "LabelModel",
            "_view_count": null,
            "_view_module": "@jupyter-widgets/controls",
            "_view_module_version": "1.5.0",
            "_view_name": "LabelView",
            "description": "",
            "description_tooltip": null,
            "layout": "IPY_MODEL_da3e47e1c99943fc98f9ff873ec4e541",
            "placeholder": "​",
            "style": "IPY_MODEL_8bd13b7954334c9f992e85fab429d392",
            "value": "Sex:"
          }
        },
        "da3e47e1c99943fc98f9ff873ec4e541": {
          "model_module": "@jupyter-widgets/base",
          "model_name": "LayoutModel",
          "model_module_version": "1.2.0",
          "state": {
            "_model_module": "@jupyter-widgets/base",
            "_model_module_version": "1.2.0",
            "_model_name": "LayoutModel",
            "_view_count": null,
            "_view_module": "@jupyter-widgets/base",
            "_view_module_version": "1.2.0",
            "_view_name": "LayoutView",
            "align_content": null,
            "align_items": null,
            "align_self": null,
            "border": null,
            "bottom": null,
            "display": null,
            "flex": null,
            "flex_flow": null,
            "grid_area": null,
            "grid_auto_columns": null,
            "grid_auto_flow": null,
            "grid_auto_rows": null,
            "grid_column": null,
            "grid_gap": null,
            "grid_row": null,
            "grid_template_areas": null,
            "grid_template_columns": null,
            "grid_template_rows": null,
            "height": null,
            "justify_content": null,
            "justify_items": null,
            "left": null,
            "margin": null,
            "max_height": null,
            "max_width": null,
            "min_height": null,
            "min_width": null,
            "object_fit": null,
            "object_position": null,
            "order": null,
            "overflow": null,
            "overflow_x": null,
            "overflow_y": null,
            "padding": null,
            "right": null,
            "top": null,
            "visibility": null,
            "width": "max-content"
          }
        },
        "8bd13b7954334c9f992e85fab429d392": {
          "model_module": "@jupyter-widgets/controls",
          "model_name": "DescriptionStyleModel",
          "model_module_version": "1.5.0",
          "state": {
            "_model_module": "@jupyter-widgets/controls",
            "_model_module_version": "1.5.0",
            "_model_name": "DescriptionStyleModel",
            "_view_count": null,
            "_view_module": "@jupyter-widgets/base",
            "_view_module_version": "1.2.0",
            "_view_name": "StyleView",
            "description_width": ""
          }
        },
        "f44358fed05a446fb42e32e07c5261ee": {
          "model_module": "@jupyter-widgets/controls",
          "model_name": "DropdownModel",
          "model_module_version": "1.5.0",
          "state": {
            "_dom_classes": [],
            "_model_module": "@jupyter-widgets/controls",
            "_model_module_version": "1.5.0",
            "_model_name": "DropdownModel",
            "_options_labels": [
              "Female",
              "Male"
            ],
            "_view_count": null,
            "_view_module": "@jupyter-widgets/controls",
            "_view_module_version": "1.5.0",
            "_view_name": "DropdownView",
            "description": "",
            "description_tooltip": null,
            "disabled": false,
            "index": 0,
            "layout": "IPY_MODEL_499cbb095b4f4b159e6e4118464b8a06",
            "style": "IPY_MODEL_cb4d8ce09c6d4965a5873793c5c71c2a"
          }
        },
        "499cbb095b4f4b159e6e4118464b8a06": {
          "model_module": "@jupyter-widgets/base",
          "model_name": "LayoutModel",
          "model_module_version": "1.2.0",
          "state": {
            "_model_module": "@jupyter-widgets/base",
            "_model_module_version": "1.2.0",
            "_model_name": "LayoutModel",
            "_view_count": null,
            "_view_module": "@jupyter-widgets/base",
            "_view_module_version": "1.2.0",
            "_view_name": "LayoutView",
            "align_content": null,
            "align_items": null,
            "align_self": null,
            "border": null,
            "bottom": null,
            "display": null,
            "flex": null,
            "flex_flow": null,
            "grid_area": null,
            "grid_auto_columns": null,
            "grid_auto_flow": null,
            "grid_auto_rows": null,
            "grid_column": null,
            "grid_gap": null,
            "grid_row": null,
            "grid_template_areas": null,
            "grid_template_columns": null,
            "grid_template_rows": null,
            "height": null,
            "justify_content": null,
            "justify_items": null,
            "left": null,
            "margin": null,
            "max_height": null,
            "max_width": null,
            "min_height": null,
            "min_width": null,
            "object_fit": null,
            "object_position": null,
            "order": null,
            "overflow": null,
            "overflow_x": null,
            "overflow_y": null,
            "padding": null,
            "right": null,
            "top": null,
            "visibility": null,
            "width": null
          }
        },
        "cb4d8ce09c6d4965a5873793c5c71c2a": {
          "model_module": "@jupyter-widgets/controls",
          "model_name": "DescriptionStyleModel",
          "model_module_version": "1.5.0",
          "state": {
            "_model_module": "@jupyter-widgets/controls",
            "_model_module_version": "1.5.0",
            "_model_name": "DescriptionStyleModel",
            "_view_count": null,
            "_view_module": "@jupyter-widgets/base",
            "_view_module_version": "1.2.0",
            "_view_name": "StyleView",
            "description_width": ""
          }
        },
        "902538034aaa45f8b28af8bd64177323": {
          "model_module": "@jupyter-widgets/controls",
          "model_name": "LabelModel",
          "model_module_version": "1.5.0",
          "state": {
            "_dom_classes": [],
            "_model_module": "@jupyter-widgets/controls",
            "_model_module_version": "1.5.0",
            "_model_name": "LabelModel",
            "_view_count": null,
            "_view_module": "@jupyter-widgets/controls",
            "_view_module_version": "1.5.0",
            "_view_name": "LabelView",
            "description": "",
            "description_tooltip": null,
            "layout": "IPY_MODEL_34d713300a6c46278493c975b11e33f2",
            "placeholder": "​",
            "style": "IPY_MODEL_ca8b6c6cbca3447097887c3763180a55",
            "value": "Age category (1 = 18-24, 13 = 80 or older; see table):"
          }
        },
        "34d713300a6c46278493c975b11e33f2": {
          "model_module": "@jupyter-widgets/base",
          "model_name": "LayoutModel",
          "model_module_version": "1.2.0",
          "state": {
            "_model_module": "@jupyter-widgets/base",
            "_model_module_version": "1.2.0",
            "_model_name": "LayoutModel",
            "_view_count": null,
            "_view_module": "@jupyter-widgets/base",
            "_view_module_version": "1.2.0",
            "_view_name": "LayoutView",
            "align_content": null,
            "align_items": null,
            "align_self": null,
            "border": null,
            "bottom": null,
            "display": null,
            "flex": null,
            "flex_flow": null,
            "grid_area": null,
            "grid_auto_columns": null,
            "grid_auto_flow": null,
            "grid_auto_rows": null,
            "grid_column": null,
            "grid_gap": null,
            "grid_row": null,
            "grid_template_areas": null,
            "grid_template_columns": null,
            "grid_template_rows": null,
            "height": null,
            "justify_content": null,
            "justify_items": null,
            "left": null,
            "margin": null,
            "max_height": null,
            "max_width": null,
            "min_height": null,
            "min_width": null,
            "object_fit": null,
            "object_position": null,
            "order": null,
            "overflow": null,
            "overflow_x": null,
            "overflow_y": null,
            "padding": null,
            "right": null,
            "top": null,
            "visibility": null,
            "width": "max-content"
          }
        },
        "ca8b6c6cbca3447097887c3763180a55": {
          "model_module": "@jupyter-widgets/controls",
          "model_name": "DescriptionStyleModel",
          "model_module_version": "1.5.0",
          "state": {
            "_model_module": "@jupyter-widgets/controls",
            "_model_module_version": "1.5.0",
            "_model_name": "DescriptionStyleModel",
            "_view_count": null,
            "_view_module": "@jupyter-widgets/base",
            "_view_module_version": "1.2.0",
            "_view_name": "StyleView",
            "description_width": ""
          }
        },
        "6c4104b51089434781945c1ae5424fbe": {
          "model_module": "@jupyter-widgets/controls",
          "model_name": "FloatSliderModel",
          "model_module_version": "1.5.0",
          "state": {
            "_dom_classes": [],
            "_model_module": "@jupyter-widgets/controls",
            "_model_module_version": "1.5.0",
            "_model_name": "FloatSliderModel",
            "_view_count": null,
            "_view_module": "@jupyter-widgets/controls",
            "_view_module_version": "1.5.0",
            "_view_name": "FloatSliderView",
            "continuous_update": true,
            "description": "",
            "description_tooltip": null,
            "disabled": false,
            "layout": "IPY_MODEL_062f237e4e2f44b09d40d9387295b393",
            "max": 13,
            "min": 1,
            "orientation": "horizontal",
            "readout": true,
            "readout_format": ".2f",
            "step": 1,
            "style": "IPY_MODEL_ac78ec778f674aaba98c46009f8904dd",
            "value": 8
          }
        },
        "062f237e4e2f44b09d40d9387295b393": {
          "model_module": "@jupyter-widgets/base",
          "model_name": "LayoutModel",
          "model_module_version": "1.2.0",
          "state": {
            "_model_module": "@jupyter-widgets/base",
            "_model_module_version": "1.2.0",
            "_model_name": "LayoutModel",
            "_view_count": null,
            "_view_module": "@jupyter-widgets/base",
            "_view_module_version": "1.2.0",
            "_view_name": "LayoutView",
            "align_content": null,
            "align_items": null,
            "align_self": null,
            "border": null,
            "bottom": null,
            "display": null,
            "flex": null,
            "flex_flow": null,
            "grid_area": null,
            "grid_auto_columns": null,
            "grid_auto_flow": null,
            "grid_auto_rows": null,
            "grid_column": null,
            "grid_gap": null,
            "grid_row": null,
            "grid_template_areas": null,
            "grid_template_columns": null,
            "grid_template_rows": null,
            "height": null,
            "justify_content": null,
            "justify_items": null,
            "left": null,
            "margin": null,
            "max_height": null,
            "max_width": null,
            "min_height": null,
            "min_width": null,
            "object_fit": null,
            "object_position": null,
            "order": null,
            "overflow": null,
            "overflow_x": null,
            "overflow_y": null,
            "padding": null,
            "right": null,
            "top": null,
            "visibility": null,
            "width": null
          }
        },
        "ac78ec778f674aaba98c46009f8904dd": {
          "model_module": "@jupyter-widgets/controls",
          "model_name": "SliderStyleModel",
          "model_module_version": "1.5.0",
          "state": {
            "_model_module": "@jupyter-widgets/controls",
            "_model_module_version": "1.5.0",
            "_model_name": "SliderStyleModel",
            "_view_count": null,
            "_view_module": "@jupyter-widgets/base",
            "_view_module_version": "1.2.0",
            "_view_name": "StyleView",
            "description_width": "",
            "handle_color": null
          }
        },
        "be97b8e058db4044ba100a0b604da4ba": {
          "model_module": "@jupyter-widgets/controls",
          "model_name": "LabelModel",
          "model_module_version": "1.5.0",
          "state": {
            "_dom_classes": [],
            "_model_module": "@jupyter-widgets/controls",
            "_model_module_version": "1.5.0",
            "_model_name": "LabelModel",
            "_view_count": null,
            "_view_module": "@jupyter-widgets/controls",
            "_view_module_version": "1.5.0",
            "_view_name": "LabelView",
            "description": "",
            "description_tooltip": null,
            "layout": "IPY_MODEL_f6f782e8fbfc46ec80a26df2750b38a5",
            "placeholder": "​",
            "style": "IPY_MODEL_95e321b4d3d44c06be249584b3509e9a",
            "value": "Body Mass Index:"
          }
        },
        "f6f782e8fbfc46ec80a26df2750b38a5": {
          "model_module": "@jupyter-widgets/base",
          "model_name": "LayoutModel",
          "model_module_version": "1.2.0",
          "state": {
            "_model_module": "@jupyter-widgets/base",
            "_model_module_version": "1.2.0",
            "_model_name": "LayoutModel",
            "_view_count": null,
            "_view_module": "@jupyter-widgets/base",
            "_view_module_version": "1.2.0",
            "_view_name": "LayoutView",
            "align_content": null,
            "align_items": null,
            "align_self": null,
            "border": null,
            "bottom": null,
            "display": null,
            "flex": null,
            "flex_flow": null,
            "grid_area": null,
            "grid_auto_columns": null,
            "grid_auto_flow": null,
            "grid_auto_rows": null,
            "grid_column": null,
            "grid_gap": null,
            "grid_row": null,
            "grid_template_areas": null,
            "grid_template_columns": null,
            "grid_template_rows": null,
            "height": null,
            "justify_content": null,
            "justify_items": null,
            "left": null,
            "margin": null,
            "max_height": null,
            "max_width": null,
            "min_height": null,
            "min_width": null,
            "object_fit": null,
            "object_position": null,
            "order": null,
            "overflow": null,
            "overflow_x": null,
            "overflow_y": null,
            "padding": null,
            "right": null,
            "top": null,
            "visibility": null,
            "width": "max-content"
          }
        },
        "95e321b4d3d44c06be249584b3509e9a": {
          "model_module": "@jupyter-widgets/controls",
          "model_name": "DescriptionStyleModel",
          "model_module_version": "1.5.0",
          "state": {
            "_model_module": "@jupyter-widgets/controls",
            "_model_module_version": "1.5.0",
            "_model_name": "DescriptionStyleModel",
            "_view_count": null,
            "_view_module": "@jupyter-widgets/base",
            "_view_module_version": "1.2.0",
            "_view_name": "StyleView",
            "description_width": ""
          }
        },
        "4b6fd26685ec46dc8acc65da4904590b": {
          "model_module": "@jupyter-widgets/controls",
          "model_name": "FloatSliderModel",
          "model_module_version": "1.5.0",
          "state": {
            "_dom_classes": [],
            "_model_module": "@jupyter-widgets/controls",
            "_model_module_version": "1.5.0",
            "_model_name": "FloatSliderModel",
            "_view_count": null,
            "_view_module": "@jupyter-widgets/controls",
            "_view_module_version": "1.5.0",
            "_view_name": "FloatSliderView",
            "continuous_update": true,
            "description": "",
            "description_tooltip": null,
            "disabled": false,
            "layout": "IPY_MODEL_f3964d5733bc4b99b2ba2f827ecc31a1",
            "max": 50,
            "min": 10,
            "orientation": "horizontal",
            "readout": true,
            "readout_format": ".2f",
            "step": 0.1,
            "style": "IPY_MODEL_c14b89d2d58d496cab3d38e94752cf94",
            "value": 20
          }
        },
        "f3964d5733bc4b99b2ba2f827ecc31a1": {
          "model_module": "@jupyter-widgets/base",
          "model_name": "LayoutModel",
          "model_module_version": "1.2.0",
          "state": {
            "_model_module": "@jupyter-widgets/base",
            "_model_module_version": "1.2.0",
            "_model_name": "LayoutModel",
            "_view_count": null,
            "_view_module": "@jupyter-widgets/base",
            "_view_module_version": "1.2.0",
            "_view_name": "LayoutView",
            "align_content": null,
            "align_items": null,
            "align_self": null,
            "border": null,
            "bottom": null,
            "display": null,
            "flex": null,
            "flex_flow": null,
            "grid_area": null,
            "grid_auto_columns": null,
            "grid_auto_flow": null,
            "grid_auto_rows": null,
            "grid_column": null,
            "grid_gap": null,
            "grid_row": null,
            "grid_template_areas": null,
            "grid_template_columns": null,
            "grid_template_rows": null,
            "height": null,
            "justify_content": null,
            "justify_items": null,
            "left": null,
            "margin": null,
            "max_height": null,
            "max_width": null,
            "min_height": null,
            "min_width": null,
            "object_fit": null,
            "object_position": null,
            "order": null,
            "overflow": null,
            "overflow_x": null,
            "overflow_y": null,
            "padding": null,
            "right": null,
            "top": null,
            "visibility": null,
            "width": null
          }
        },
        "c14b89d2d58d496cab3d38e94752cf94": {
          "model_module": "@jupyter-widgets/controls",
          "model_name": "SliderStyleModel",
          "model_module_version": "1.5.0",
          "state": {
            "_model_module": "@jupyter-widgets/controls",
            "_model_module_version": "1.5.0",
            "_model_name": "SliderStyleModel",
            "_view_count": null,
            "_view_module": "@jupyter-widgets/base",
            "_view_module_version": "1.2.0",
            "_view_name": "StyleView",
            "description_width": "",
            "handle_color": null
          }
        },
        "301c1f7c90f34e6f89bdd81b855334ab": {
          "model_module": "@jupyter-widgets/controls",
          "model_name": "LabelModel",
          "model_module_version": "1.5.0",
          "state": {
            "_dom_classes": [],
            "_model_module": "@jupyter-widgets/controls",
            "_model_module_version": "1.5.0",
            "_model_name": "LabelModel",
            "_view_count": null,
            "_view_module": "@jupyter-widgets/controls",
            "_view_module_version": "1.5.0",
            "_view_name": "LabelView",
            "description": "",
            "description_tooltip": null,
            "layout": "IPY_MODEL_fddbef94077044b3a2f5ac704c5b12eb",
            "placeholder": "​",
            "style": "IPY_MODEL_371ca2ce4afd43b5abe0d81e389bef72",
            "value": "High Blood Pressure"
          }
        },
        "fddbef94077044b3a2f5ac704c5b12eb": {
          "model_module": "@jupyter-widgets/base",
          "model_name": "LayoutModel",
          "model_module_version": "1.2.0",
          "state": {
            "_model_module": "@jupyter-widgets/base",
            "_model_module_version": "1.2.0",
            "_model_name": "LayoutModel",
            "_view_count": null,
            "_view_module": "@jupyter-widgets/base",
            "_view_module_version": "1.2.0",
            "_view_name": "LayoutView",
            "align_content": null,
            "align_items": null,
            "align_self": null,
            "border": null,
            "bottom": null,
            "display": null,
            "flex": null,
            "flex_flow": null,
            "grid_area": null,
            "grid_auto_columns": null,
            "grid_auto_flow": null,
            "grid_auto_rows": null,
            "grid_column": null,
            "grid_gap": null,
            "grid_row": null,
            "grid_template_areas": null,
            "grid_template_columns": null,
            "grid_template_rows": null,
            "height": null,
            "justify_content": null,
            "justify_items": null,
            "left": null,
            "margin": null,
            "max_height": null,
            "max_width": null,
            "min_height": null,
            "min_width": null,
            "object_fit": null,
            "object_position": null,
            "order": null,
            "overflow": null,
            "overflow_x": null,
            "overflow_y": null,
            "padding": null,
            "right": null,
            "top": null,
            "visibility": null,
            "width": "max-content"
          }
        },
        "371ca2ce4afd43b5abe0d81e389bef72": {
          "model_module": "@jupyter-widgets/controls",
          "model_name": "DescriptionStyleModel",
          "model_module_version": "1.5.0",
          "state": {
            "_model_module": "@jupyter-widgets/controls",
            "_model_module_version": "1.5.0",
            "_model_name": "DescriptionStyleModel",
            "_view_count": null,
            "_view_module": "@jupyter-widgets/base",
            "_view_module_version": "1.2.0",
            "_view_name": "StyleView",
            "description_width": ""
          }
        },
        "10b9315f528d4bc6a045a74848092d33": {
          "model_module": "@jupyter-widgets/controls",
          "model_name": "RadioButtonsModel",
          "model_module_version": "1.5.0",
          "state": {
            "_dom_classes": [],
            "_model_module": "@jupyter-widgets/controls",
            "_model_module_version": "1.5.0",
            "_model_name": "RadioButtonsModel",
            "_options_labels": [
              "No",
              "Yes"
            ],
            "_view_count": null,
            "_view_module": "@jupyter-widgets/controls",
            "_view_module_version": "1.5.0",
            "_view_name": "RadioButtonsView",
            "description": "",
            "description_tooltip": null,
            "disabled": false,
            "index": 0,
            "layout": "IPY_MODEL_83e5fef4ee6f42548e069f27b78966fc",
            "style": "IPY_MODEL_b568f289129b47fd8e9dbd61b3d10bdd"
          }
        },
        "83e5fef4ee6f42548e069f27b78966fc": {
          "model_module": "@jupyter-widgets/base",
          "model_name": "LayoutModel",
          "model_module_version": "1.2.0",
          "state": {
            "_model_module": "@jupyter-widgets/base",
            "_model_module_version": "1.2.0",
            "_model_name": "LayoutModel",
            "_view_count": null,
            "_view_module": "@jupyter-widgets/base",
            "_view_module_version": "1.2.0",
            "_view_name": "LayoutView",
            "align_content": null,
            "align_items": null,
            "align_self": null,
            "border": null,
            "bottom": null,
            "display": null,
            "flex": null,
            "flex_flow": null,
            "grid_area": null,
            "grid_auto_columns": null,
            "grid_auto_flow": null,
            "grid_auto_rows": null,
            "grid_column": null,
            "grid_gap": null,
            "grid_row": null,
            "grid_template_areas": null,
            "grid_template_columns": null,
            "grid_template_rows": null,
            "height": null,
            "justify_content": null,
            "justify_items": null,
            "left": null,
            "margin": null,
            "max_height": null,
            "max_width": null,
            "min_height": null,
            "min_width": null,
            "object_fit": null,
            "object_position": null,
            "order": null,
            "overflow": null,
            "overflow_x": null,
            "overflow_y": null,
            "padding": null,
            "right": null,
            "top": null,
            "visibility": null,
            "width": null
          }
        },
        "b568f289129b47fd8e9dbd61b3d10bdd": {
          "model_module": "@jupyter-widgets/controls",
          "model_name": "DescriptionStyleModel",
          "model_module_version": "1.5.0",
          "state": {
            "_model_module": "@jupyter-widgets/controls",
            "_model_module_version": "1.5.0",
            "_model_name": "DescriptionStyleModel",
            "_view_count": null,
            "_view_module": "@jupyter-widgets/base",
            "_view_module_version": "1.2.0",
            "_view_name": "StyleView",
            "description_width": ""
          }
        },
        "7ce9441834764f799465758c3084ca85": {
          "model_module": "@jupyter-widgets/controls",
          "model_name": "LabelModel",
          "model_module_version": "1.5.0",
          "state": {
            "_dom_classes": [],
            "_model_module": "@jupyter-widgets/controls",
            "_model_module_version": "1.5.0",
            "_model_name": "LabelModel",
            "_view_count": null,
            "_view_module": "@jupyter-widgets/controls",
            "_view_module_version": "1.5.0",
            "_view_name": "LabelView",
            "description": "",
            "description_tooltip": null,
            "layout": "IPY_MODEL_a629336c40934557b88493b78bae89bb",
            "placeholder": "​",
            "style": "IPY_MODEL_7587cf2310b04b1199fdaac4fbfa1f53",
            "value": "High Cholesterol"
          }
        },
        "a629336c40934557b88493b78bae89bb": {
          "model_module": "@jupyter-widgets/base",
          "model_name": "LayoutModel",
          "model_module_version": "1.2.0",
          "state": {
            "_model_module": "@jupyter-widgets/base",
            "_model_module_version": "1.2.0",
            "_model_name": "LayoutModel",
            "_view_count": null,
            "_view_module": "@jupyter-widgets/base",
            "_view_module_version": "1.2.0",
            "_view_name": "LayoutView",
            "align_content": null,
            "align_items": null,
            "align_self": null,
            "border": null,
            "bottom": null,
            "display": null,
            "flex": null,
            "flex_flow": null,
            "grid_area": null,
            "grid_auto_columns": null,
            "grid_auto_flow": null,
            "grid_auto_rows": null,
            "grid_column": null,
            "grid_gap": null,
            "grid_row": null,
            "grid_template_areas": null,
            "grid_template_columns": null,
            "grid_template_rows": null,
            "height": null,
            "justify_content": null,
            "justify_items": null,
            "left": null,
            "margin": null,
            "max_height": null,
            "max_width": null,
            "min_height": null,
            "min_width": null,
            "object_fit": null,
            "object_position": null,
            "order": null,
            "overflow": null,
            "overflow_x": null,
            "overflow_y": null,
            "padding": null,
            "right": null,
            "top": null,
            "visibility": null,
            "width": "max-content"
          }
        },
        "7587cf2310b04b1199fdaac4fbfa1f53": {
          "model_module": "@jupyter-widgets/controls",
          "model_name": "DescriptionStyleModel",
          "model_module_version": "1.5.0",
          "state": {
            "_model_module": "@jupyter-widgets/controls",
            "_model_module_version": "1.5.0",
            "_model_name": "DescriptionStyleModel",
            "_view_count": null,
            "_view_module": "@jupyter-widgets/base",
            "_view_module_version": "1.2.0",
            "_view_name": "StyleView",
            "description_width": ""
          }
        },
        "f274105e1d05453e91a26d32b7daa075": {
          "model_module": "@jupyter-widgets/controls",
          "model_name": "RadioButtonsModel",
          "model_module_version": "1.5.0",
          "state": {
            "_dom_classes": [],
            "_model_module": "@jupyter-widgets/controls",
            "_model_module_version": "1.5.0",
            "_model_name": "RadioButtonsModel",
            "_options_labels": [
              "No",
              "Yes"
            ],
            "_view_count": null,
            "_view_module": "@jupyter-widgets/controls",
            "_view_module_version": "1.5.0",
            "_view_name": "RadioButtonsView",
            "description": "",
            "description_tooltip": null,
            "disabled": false,
            "index": 0,
            "layout": "IPY_MODEL_805fa32bf623481897770a02b3e72628",
            "style": "IPY_MODEL_76abb917646e44d29ef11ae9e80211dc"
          }
        },
        "805fa32bf623481897770a02b3e72628": {
          "model_module": "@jupyter-widgets/base",
          "model_name": "LayoutModel",
          "model_module_version": "1.2.0",
          "state": {
            "_model_module": "@jupyter-widgets/base",
            "_model_module_version": "1.2.0",
            "_model_name": "LayoutModel",
            "_view_count": null,
            "_view_module": "@jupyter-widgets/base",
            "_view_module_version": "1.2.0",
            "_view_name": "LayoutView",
            "align_content": null,
            "align_items": null,
            "align_self": null,
            "border": null,
            "bottom": null,
            "display": null,
            "flex": null,
            "flex_flow": null,
            "grid_area": null,
            "grid_auto_columns": null,
            "grid_auto_flow": null,
            "grid_auto_rows": null,
            "grid_column": null,
            "grid_gap": null,
            "grid_row": null,
            "grid_template_areas": null,
            "grid_template_columns": null,
            "grid_template_rows": null,
            "height": null,
            "justify_content": null,
            "justify_items": null,
            "left": null,
            "margin": null,
            "max_height": null,
            "max_width": null,
            "min_height": null,
            "min_width": null,
            "object_fit": null,
            "object_position": null,
            "order": null,
            "overflow": null,
            "overflow_x": null,
            "overflow_y": null,
            "padding": null,
            "right": null,
            "top": null,
            "visibility": null,
            "width": null
          }
        },
        "76abb917646e44d29ef11ae9e80211dc": {
          "model_module": "@jupyter-widgets/controls",
          "model_name": "DescriptionStyleModel",
          "model_module_version": "1.5.0",
          "state": {
            "_model_module": "@jupyter-widgets/controls",
            "_model_module_version": "1.5.0",
            "_model_name": "DescriptionStyleModel",
            "_view_count": null,
            "_view_module": "@jupyter-widgets/base",
            "_view_module_version": "1.2.0",
            "_view_name": "StyleView",
            "description_width": ""
          }
        },
        "8cab5c348bf8456ebeeddf3f5622c0d3": {
          "model_module": "@jupyter-widgets/controls",
          "model_name": "LabelModel",
          "model_module_version": "1.5.0",
          "state": {
            "_dom_classes": [],
            "_model_module": "@jupyter-widgets/controls",
            "_model_module_version": "1.5.0",
            "_model_name": "LabelModel",
            "_view_count": null,
            "_view_module": "@jupyter-widgets/controls",
            "_view_module_version": "1.5.0",
            "_view_name": "LabelView",
            "description": "",
            "description_tooltip": null,
            "layout": "IPY_MODEL_ef8b0c9a3da74ce3863a2c3b55c36218",
            "placeholder": "​",
            "style": "IPY_MODEL_aaf3e6751e9a45a4b96928f2197a3148",
            "value": "Have you smoked at least 100 cigarettes in your life?"
          }
        },
        "ef8b0c9a3da74ce3863a2c3b55c36218": {
          "model_module": "@jupyter-widgets/base",
          "model_name": "LayoutModel",
          "model_module_version": "1.2.0",
          "state": {
            "_model_module": "@jupyter-widgets/base",
            "_model_module_version": "1.2.0",
            "_model_name": "LayoutModel",
            "_view_count": null,
            "_view_module": "@jupyter-widgets/base",
            "_view_module_version": "1.2.0",
            "_view_name": "LayoutView",
            "align_content": null,
            "align_items": null,
            "align_self": null,
            "border": null,
            "bottom": null,
            "display": null,
            "flex": null,
            "flex_flow": null,
            "grid_area": null,
            "grid_auto_columns": null,
            "grid_auto_flow": null,
            "grid_auto_rows": null,
            "grid_column": null,
            "grid_gap": null,
            "grid_row": null,
            "grid_template_areas": null,
            "grid_template_columns": null,
            "grid_template_rows": null,
            "height": null,
            "justify_content": null,
            "justify_items": null,
            "left": null,
            "margin": null,
            "max_height": null,
            "max_width": null,
            "min_height": null,
            "min_width": null,
            "object_fit": null,
            "object_position": null,
            "order": null,
            "overflow": null,
            "overflow_x": null,
            "overflow_y": null,
            "padding": null,
            "right": null,
            "top": null,
            "visibility": null,
            "width": "max-content"
          }
        },
        "aaf3e6751e9a45a4b96928f2197a3148": {
          "model_module": "@jupyter-widgets/controls",
          "model_name": "DescriptionStyleModel",
          "model_module_version": "1.5.0",
          "state": {
            "_model_module": "@jupyter-widgets/controls",
            "_model_module_version": "1.5.0",
            "_model_name": "DescriptionStyleModel",
            "_view_count": null,
            "_view_module": "@jupyter-widgets/base",
            "_view_module_version": "1.2.0",
            "_view_name": "StyleView",
            "description_width": ""
          }
        },
        "6107c7941aff4517967b04c63ca18197": {
          "model_module": "@jupyter-widgets/controls",
          "model_name": "RadioButtonsModel",
          "model_module_version": "1.5.0",
          "state": {
            "_dom_classes": [],
            "_model_module": "@jupyter-widgets/controls",
            "_model_module_version": "1.5.0",
            "_model_name": "RadioButtonsModel",
            "_options_labels": [
              "No",
              "Yes"
            ],
            "_view_count": null,
            "_view_module": "@jupyter-widgets/controls",
            "_view_module_version": "1.5.0",
            "_view_name": "RadioButtonsView",
            "description": "",
            "description_tooltip": null,
            "disabled": false,
            "index": 0,
            "layout": "IPY_MODEL_f4582f0175144db7a8f71df58651fd7a",
            "style": "IPY_MODEL_525a7ad302cc4cb99d002791d2172ea2"
          }
        },
        "f4582f0175144db7a8f71df58651fd7a": {
          "model_module": "@jupyter-widgets/base",
          "model_name": "LayoutModel",
          "model_module_version": "1.2.0",
          "state": {
            "_model_module": "@jupyter-widgets/base",
            "_model_module_version": "1.2.0",
            "_model_name": "LayoutModel",
            "_view_count": null,
            "_view_module": "@jupyter-widgets/base",
            "_view_module_version": "1.2.0",
            "_view_name": "LayoutView",
            "align_content": null,
            "align_items": null,
            "align_self": null,
            "border": null,
            "bottom": null,
            "display": null,
            "flex": null,
            "flex_flow": null,
            "grid_area": null,
            "grid_auto_columns": null,
            "grid_auto_flow": null,
            "grid_auto_rows": null,
            "grid_column": null,
            "grid_gap": null,
            "grid_row": null,
            "grid_template_areas": null,
            "grid_template_columns": null,
            "grid_template_rows": null,
            "height": null,
            "justify_content": null,
            "justify_items": null,
            "left": null,
            "margin": null,
            "max_height": null,
            "max_width": null,
            "min_height": null,
            "min_width": null,
            "object_fit": null,
            "object_position": null,
            "order": null,
            "overflow": null,
            "overflow_x": null,
            "overflow_y": null,
            "padding": null,
            "right": null,
            "top": null,
            "visibility": null,
            "width": null
          }
        },
        "525a7ad302cc4cb99d002791d2172ea2": {
          "model_module": "@jupyter-widgets/controls",
          "model_name": "DescriptionStyleModel",
          "model_module_version": "1.5.0",
          "state": {
            "_model_module": "@jupyter-widgets/controls",
            "_model_module_version": "1.5.0",
            "_model_name": "DescriptionStyleModel",
            "_view_count": null,
            "_view_module": "@jupyter-widgets/base",
            "_view_module_version": "1.2.0",
            "_view_name": "StyleView",
            "description_width": ""
          }
        },
        "921603430d604866b4581a3b5a93f232": {
          "model_module": "@jupyter-widgets/controls",
          "model_name": "LabelModel",
          "model_module_version": "1.5.0",
          "state": {
            "_dom_classes": [],
            "_model_module": "@jupyter-widgets/controls",
            "_model_module_version": "1.5.0",
            "_model_name": "LabelModel",
            "_view_count": null,
            "_view_module": "@jupyter-widgets/controls",
            "_view_module_version": "1.5.0",
            "_view_name": "LabelView",
            "description": "",
            "description_tooltip": null,
            "layout": "IPY_MODEL_77a1f17a2df044fab8169c9c4e3b64e3",
            "placeholder": "​",
            "style": "IPY_MODEL_fd437fbee04d4799a8caa5a7f0055c13",
            "value": "Heavy drinkers (drinks <14 for men, <7 for women per week"
          }
        },
        "77a1f17a2df044fab8169c9c4e3b64e3": {
          "model_module": "@jupyter-widgets/base",
          "model_name": "LayoutModel",
          "model_module_version": "1.2.0",
          "state": {
            "_model_module": "@jupyter-widgets/base",
            "_model_module_version": "1.2.0",
            "_model_name": "LayoutModel",
            "_view_count": null,
            "_view_module": "@jupyter-widgets/base",
            "_view_module_version": "1.2.0",
            "_view_name": "LayoutView",
            "align_content": null,
            "align_items": null,
            "align_self": null,
            "border": null,
            "bottom": null,
            "display": null,
            "flex": null,
            "flex_flow": null,
            "grid_area": null,
            "grid_auto_columns": null,
            "grid_auto_flow": null,
            "grid_auto_rows": null,
            "grid_column": null,
            "grid_gap": null,
            "grid_row": null,
            "grid_template_areas": null,
            "grid_template_columns": null,
            "grid_template_rows": null,
            "height": null,
            "justify_content": null,
            "justify_items": null,
            "left": null,
            "margin": null,
            "max_height": null,
            "max_width": null,
            "min_height": null,
            "min_width": null,
            "object_fit": null,
            "object_position": null,
            "order": null,
            "overflow": null,
            "overflow_x": null,
            "overflow_y": null,
            "padding": null,
            "right": null,
            "top": null,
            "visibility": null,
            "width": "max-content"
          }
        },
        "fd437fbee04d4799a8caa5a7f0055c13": {
          "model_module": "@jupyter-widgets/controls",
          "model_name": "DescriptionStyleModel",
          "model_module_version": "1.5.0",
          "state": {
            "_model_module": "@jupyter-widgets/controls",
            "_model_module_version": "1.5.0",
            "_model_name": "DescriptionStyleModel",
            "_view_count": null,
            "_view_module": "@jupyter-widgets/base",
            "_view_module_version": "1.2.0",
            "_view_name": "StyleView",
            "description_width": ""
          }
        },
        "480ab5ca45a245f587b2b4e092078779": {
          "model_module": "@jupyter-widgets/controls",
          "model_name": "RadioButtonsModel",
          "model_module_version": "1.5.0",
          "state": {
            "_dom_classes": [],
            "_model_module": "@jupyter-widgets/controls",
            "_model_module_version": "1.5.0",
            "_model_name": "RadioButtonsModel",
            "_options_labels": [
              "No",
              "Yes"
            ],
            "_view_count": null,
            "_view_module": "@jupyter-widgets/controls",
            "_view_module_version": "1.5.0",
            "_view_name": "RadioButtonsView",
            "description": "",
            "description_tooltip": null,
            "disabled": false,
            "index": 0,
            "layout": "IPY_MODEL_13ca03c3bf084ff28726b9cafad58203",
            "style": "IPY_MODEL_1a5426d09efd4da68392dc6e1cc5effc"
          }
        },
        "13ca03c3bf084ff28726b9cafad58203": {
          "model_module": "@jupyter-widgets/base",
          "model_name": "LayoutModel",
          "model_module_version": "1.2.0",
          "state": {
            "_model_module": "@jupyter-widgets/base",
            "_model_module_version": "1.2.0",
            "_model_name": "LayoutModel",
            "_view_count": null,
            "_view_module": "@jupyter-widgets/base",
            "_view_module_version": "1.2.0",
            "_view_name": "LayoutView",
            "align_content": null,
            "align_items": null,
            "align_self": null,
            "border": null,
            "bottom": null,
            "display": null,
            "flex": null,
            "flex_flow": null,
            "grid_area": null,
            "grid_auto_columns": null,
            "grid_auto_flow": null,
            "grid_auto_rows": null,
            "grid_column": null,
            "grid_gap": null,
            "grid_row": null,
            "grid_template_areas": null,
            "grid_template_columns": null,
            "grid_template_rows": null,
            "height": null,
            "justify_content": null,
            "justify_items": null,
            "left": null,
            "margin": null,
            "max_height": null,
            "max_width": null,
            "min_height": null,
            "min_width": null,
            "object_fit": null,
            "object_position": null,
            "order": null,
            "overflow": null,
            "overflow_x": null,
            "overflow_y": null,
            "padding": null,
            "right": null,
            "top": null,
            "visibility": null,
            "width": null
          }
        },
        "1a5426d09efd4da68392dc6e1cc5effc": {
          "model_module": "@jupyter-widgets/controls",
          "model_name": "DescriptionStyleModel",
          "model_module_version": "1.5.0",
          "state": {
            "_model_module": "@jupyter-widgets/controls",
            "_model_module_version": "1.5.0",
            "_model_name": "DescriptionStyleModel",
            "_view_count": null,
            "_view_module": "@jupyter-widgets/base",
            "_view_module_version": "1.2.0",
            "_view_name": "StyleView",
            "description_width": ""
          }
        },
        "3d84acf16590437592581ceb4f09baee": {
          "model_module": "@jupyter-widgets/controls",
          "model_name": "LabelModel",
          "model_module_version": "1.5.0",
          "state": {
            "_dom_classes": [],
            "_model_module": "@jupyter-widgets/controls",
            "_model_module_version": "1.5.0",
            "_model_name": "LabelModel",
            "_view_count": null,
            "_view_module": "@jupyter-widgets/controls",
            "_view_module_version": "1.5.0",
            "_view_name": "LabelView",
            "description": "",
            "description_tooltip": null,
            "layout": "IPY_MODEL_9fcf517b55ba498db4e89b867924a8bf",
            "placeholder": "​",
            "style": "IPY_MODEL_2c6f947132b74a1790e67d49000995d7",
            "value": "(Ever told) you had a Stroke?"
          }
        },
        "9fcf517b55ba498db4e89b867924a8bf": {
          "model_module": "@jupyter-widgets/base",
          "model_name": "LayoutModel",
          "model_module_version": "1.2.0",
          "state": {
            "_model_module": "@jupyter-widgets/base",
            "_model_module_version": "1.2.0",
            "_model_name": "LayoutModel",
            "_view_count": null,
            "_view_module": "@jupyter-widgets/base",
            "_view_module_version": "1.2.0",
            "_view_name": "LayoutView",
            "align_content": null,
            "align_items": null,
            "align_self": null,
            "border": null,
            "bottom": null,
            "display": null,
            "flex": null,
            "flex_flow": null,
            "grid_area": null,
            "grid_auto_columns": null,
            "grid_auto_flow": null,
            "grid_auto_rows": null,
            "grid_column": null,
            "grid_gap": null,
            "grid_row": null,
            "grid_template_areas": null,
            "grid_template_columns": null,
            "grid_template_rows": null,
            "height": null,
            "justify_content": null,
            "justify_items": null,
            "left": null,
            "margin": null,
            "max_height": null,
            "max_width": null,
            "min_height": null,
            "min_width": null,
            "object_fit": null,
            "object_position": null,
            "order": null,
            "overflow": null,
            "overflow_x": null,
            "overflow_y": null,
            "padding": null,
            "right": null,
            "top": null,
            "visibility": null,
            "width": "max-content"
          }
        },
        "2c6f947132b74a1790e67d49000995d7": {
          "model_module": "@jupyter-widgets/controls",
          "model_name": "DescriptionStyleModel",
          "model_module_version": "1.5.0",
          "state": {
            "_model_module": "@jupyter-widgets/controls",
            "_model_module_version": "1.5.0",
            "_model_name": "DescriptionStyleModel",
            "_view_count": null,
            "_view_module": "@jupyter-widgets/base",
            "_view_module_version": "1.2.0",
            "_view_name": "StyleView",
            "description_width": ""
          }
        },
        "e205571b55284f00b0c504ddcc8c04f8": {
          "model_module": "@jupyter-widgets/controls",
          "model_name": "RadioButtonsModel",
          "model_module_version": "1.5.0",
          "state": {
            "_dom_classes": [],
            "_model_module": "@jupyter-widgets/controls",
            "_model_module_version": "1.5.0",
            "_model_name": "RadioButtonsModel",
            "_options_labels": [
              "No",
              "Yes"
            ],
            "_view_count": null,
            "_view_module": "@jupyter-widgets/controls",
            "_view_module_version": "1.5.0",
            "_view_name": "RadioButtonsView",
            "description": "",
            "description_tooltip": null,
            "disabled": false,
            "index": 0,
            "layout": "IPY_MODEL_3c682603eef14dcaa711da5906ff2047",
            "style": "IPY_MODEL_2e3336ee59dd44b5999534fc48fb8937"
          }
        },
        "3c682603eef14dcaa711da5906ff2047": {
          "model_module": "@jupyter-widgets/base",
          "model_name": "LayoutModel",
          "model_module_version": "1.2.0",
          "state": {
            "_model_module": "@jupyter-widgets/base",
            "_model_module_version": "1.2.0",
            "_model_name": "LayoutModel",
            "_view_count": null,
            "_view_module": "@jupyter-widgets/base",
            "_view_module_version": "1.2.0",
            "_view_name": "LayoutView",
            "align_content": null,
            "align_items": null,
            "align_self": null,
            "border": null,
            "bottom": null,
            "display": null,
            "flex": null,
            "flex_flow": null,
            "grid_area": null,
            "grid_auto_columns": null,
            "grid_auto_flow": null,
            "grid_auto_rows": null,
            "grid_column": null,
            "grid_gap": null,
            "grid_row": null,
            "grid_template_areas": null,
            "grid_template_columns": null,
            "grid_template_rows": null,
            "height": null,
            "justify_content": null,
            "justify_items": null,
            "left": null,
            "margin": null,
            "max_height": null,
            "max_width": null,
            "min_height": null,
            "min_width": null,
            "object_fit": null,
            "object_position": null,
            "order": null,
            "overflow": null,
            "overflow_x": null,
            "overflow_y": null,
            "padding": null,
            "right": null,
            "top": null,
            "visibility": null,
            "width": null
          }
        },
        "2e3336ee59dd44b5999534fc48fb8937": {
          "model_module": "@jupyter-widgets/controls",
          "model_name": "DescriptionStyleModel",
          "model_module_version": "1.5.0",
          "state": {
            "_model_module": "@jupyter-widgets/controls",
            "_model_module_version": "1.5.0",
            "_model_name": "DescriptionStyleModel",
            "_view_count": null,
            "_view_module": "@jupyter-widgets/base",
            "_view_module_version": "1.2.0",
            "_view_name": "StyleView",
            "description_width": ""
          }
        },
        "480dfa90503842a1bb67b0c5f371b70f": {
          "model_module": "@jupyter-widgets/controls",
          "model_name": "LabelModel",
          "model_module_version": "1.5.0",
          "state": {
            "_dom_classes": [],
            "_model_module": "@jupyter-widgets/controls",
            "_model_module_version": "1.5.0",
            "_model_name": "LabelModel",
            "_view_count": null,
            "_view_module": "@jupyter-widgets/controls",
            "_view_module_version": "1.5.0",
            "_view_name": "LabelView",
            "description": "",
            "description_tooltip": null,
            "layout": "IPY_MODEL_4e8526929bfd41dcbc7fb540f66cc1bc",
            "placeholder": "​",
            "style": "IPY_MODEL_7468f5a154d14a7a94f0f9e46ff989d0",
            "value": "Heart Disease or Attack (CHD or MI)"
          }
        },
        "4e8526929bfd41dcbc7fb540f66cc1bc": {
          "model_module": "@jupyter-widgets/base",
          "model_name": "LayoutModel",
          "model_module_version": "1.2.0",
          "state": {
            "_model_module": "@jupyter-widgets/base",
            "_model_module_version": "1.2.0",
            "_model_name": "LayoutModel",
            "_view_count": null,
            "_view_module": "@jupyter-widgets/base",
            "_view_module_version": "1.2.0",
            "_view_name": "LayoutView",
            "align_content": null,
            "align_items": null,
            "align_self": null,
            "border": null,
            "bottom": null,
            "display": null,
            "flex": null,
            "flex_flow": null,
            "grid_area": null,
            "grid_auto_columns": null,
            "grid_auto_flow": null,
            "grid_auto_rows": null,
            "grid_column": null,
            "grid_gap": null,
            "grid_row": null,
            "grid_template_areas": null,
            "grid_template_columns": null,
            "grid_template_rows": null,
            "height": null,
            "justify_content": null,
            "justify_items": null,
            "left": null,
            "margin": null,
            "max_height": null,
            "max_width": null,
            "min_height": null,
            "min_width": null,
            "object_fit": null,
            "object_position": null,
            "order": null,
            "overflow": null,
            "overflow_x": null,
            "overflow_y": null,
            "padding": null,
            "right": null,
            "top": null,
            "visibility": null,
            "width": "max-content"
          }
        },
        "7468f5a154d14a7a94f0f9e46ff989d0": {
          "model_module": "@jupyter-widgets/controls",
          "model_name": "DescriptionStyleModel",
          "model_module_version": "1.5.0",
          "state": {
            "_model_module": "@jupyter-widgets/controls",
            "_model_module_version": "1.5.0",
            "_model_name": "DescriptionStyleModel",
            "_view_count": null,
            "_view_module": "@jupyter-widgets/base",
            "_view_module_version": "1.2.0",
            "_view_name": "StyleView",
            "description_width": ""
          }
        },
        "ff9a1b81083e4ce48b02afc5e36b1319": {
          "model_module": "@jupyter-widgets/controls",
          "model_name": "RadioButtonsModel",
          "model_module_version": "1.5.0",
          "state": {
            "_dom_classes": [],
            "_model_module": "@jupyter-widgets/controls",
            "_model_module_version": "1.5.0",
            "_model_name": "RadioButtonsModel",
            "_options_labels": [
              "No",
              "Yes"
            ],
            "_view_count": null,
            "_view_module": "@jupyter-widgets/controls",
            "_view_module_version": "1.5.0",
            "_view_name": "RadioButtonsView",
            "description": "",
            "description_tooltip": null,
            "disabled": false,
            "index": 0,
            "layout": "IPY_MODEL_7e624eec02f64d83ad410f656b144e33",
            "style": "IPY_MODEL_f2a3b4e7a27948c9ba804ce19e344a85"
          }
        },
        "7e624eec02f64d83ad410f656b144e33": {
          "model_module": "@jupyter-widgets/base",
          "model_name": "LayoutModel",
          "model_module_version": "1.2.0",
          "state": {
            "_model_module": "@jupyter-widgets/base",
            "_model_module_version": "1.2.0",
            "_model_name": "LayoutModel",
            "_view_count": null,
            "_view_module": "@jupyter-widgets/base",
            "_view_module_version": "1.2.0",
            "_view_name": "LayoutView",
            "align_content": null,
            "align_items": null,
            "align_self": null,
            "border": null,
            "bottom": null,
            "display": null,
            "flex": null,
            "flex_flow": null,
            "grid_area": null,
            "grid_auto_columns": null,
            "grid_auto_flow": null,
            "grid_auto_rows": null,
            "grid_column": null,
            "grid_gap": null,
            "grid_row": null,
            "grid_template_areas": null,
            "grid_template_columns": null,
            "grid_template_rows": null,
            "height": null,
            "justify_content": null,
            "justify_items": null,
            "left": null,
            "margin": null,
            "max_height": null,
            "max_width": null,
            "min_height": null,
            "min_width": null,
            "object_fit": null,
            "object_position": null,
            "order": null,
            "overflow": null,
            "overflow_x": null,
            "overflow_y": null,
            "padding": null,
            "right": null,
            "top": null,
            "visibility": null,
            "width": null
          }
        },
        "f2a3b4e7a27948c9ba804ce19e344a85": {
          "model_module": "@jupyter-widgets/controls",
          "model_name": "DescriptionStyleModel",
          "model_module_version": "1.5.0",
          "state": {
            "_model_module": "@jupyter-widgets/controls",
            "_model_module_version": "1.5.0",
            "_model_name": "DescriptionStyleModel",
            "_view_count": null,
            "_view_module": "@jupyter-widgets/base",
            "_view_module_version": "1.2.0",
            "_view_name": "StyleView",
            "description_width": ""
          }
        },
        "359293d5be364d54a543f715ff8bf236": {
          "model_module": "@jupyter-widgets/controls",
          "model_name": "LabelModel",
          "model_module_version": "1.5.0",
          "state": {
            "_dom_classes": [],
            "_model_module": "@jupyter-widgets/controls",
            "_model_module_version": "1.5.0",
            "_model_name": "LabelModel",
            "_view_count": null,
            "_view_module": "@jupyter-widgets/controls",
            "_view_module_version": "1.5.0",
            "_view_name": "LabelView",
            "description": "",
            "description_tooltip": null,
            "layout": "IPY_MODEL_23ab2b7f5c35480f8236d5473aa2230f",
            "placeholder": "​",
            "style": "IPY_MODEL_b2403a2a84eb42e58f310cc00e4d694f",
            "value": "General Health scale :"
          }
        },
        "23ab2b7f5c35480f8236d5473aa2230f": {
          "model_module": "@jupyter-widgets/base",
          "model_name": "LayoutModel",
          "model_module_version": "1.2.0",
          "state": {
            "_model_module": "@jupyter-widgets/base",
            "_model_module_version": "1.2.0",
            "_model_name": "LayoutModel",
            "_view_count": null,
            "_view_module": "@jupyter-widgets/base",
            "_view_module_version": "1.2.0",
            "_view_name": "LayoutView",
            "align_content": null,
            "align_items": null,
            "align_self": null,
            "border": null,
            "bottom": null,
            "display": null,
            "flex": null,
            "flex_flow": null,
            "grid_area": null,
            "grid_auto_columns": null,
            "grid_auto_flow": null,
            "grid_auto_rows": null,
            "grid_column": null,
            "grid_gap": null,
            "grid_row": null,
            "grid_template_areas": null,
            "grid_template_columns": null,
            "grid_template_rows": null,
            "height": null,
            "justify_content": null,
            "justify_items": null,
            "left": null,
            "margin": null,
            "max_height": null,
            "max_width": null,
            "min_height": null,
            "min_width": null,
            "object_fit": null,
            "object_position": null,
            "order": null,
            "overflow": null,
            "overflow_x": null,
            "overflow_y": null,
            "padding": null,
            "right": null,
            "top": null,
            "visibility": null,
            "width": "max-content"
          }
        },
        "b2403a2a84eb42e58f310cc00e4d694f": {
          "model_module": "@jupyter-widgets/controls",
          "model_name": "DescriptionStyleModel",
          "model_module_version": "1.5.0",
          "state": {
            "_model_module": "@jupyter-widgets/controls",
            "_model_module_version": "1.5.0",
            "_model_name": "DescriptionStyleModel",
            "_view_count": null,
            "_view_module": "@jupyter-widgets/base",
            "_view_module_version": "1.2.0",
            "_view_name": "StyleView",
            "description_width": ""
          }
        },
        "a5cb159b941f4d86b03db309118a261c": {
          "model_module": "@jupyter-widgets/controls",
          "model_name": "FloatSliderModel",
          "model_module_version": "1.5.0",
          "state": {
            "_dom_classes": [],
            "_model_module": "@jupyter-widgets/controls",
            "_model_module_version": "1.5.0",
            "_model_name": "FloatSliderModel",
            "_view_count": null,
            "_view_module": "@jupyter-widgets/controls",
            "_view_module_version": "1.5.0",
            "_view_name": "FloatSliderView",
            "continuous_update": true,
            "description": "",
            "description_tooltip": null,
            "disabled": false,
            "layout": "IPY_MODEL_0de02c960052478494aeacf5a5538d1c",
            "max": 5,
            "min": 1,
            "orientation": "horizontal",
            "readout": true,
            "readout_format": ".2f",
            "step": 1,
            "style": "IPY_MODEL_b58a254d0de8430697a74d11cfad0536",
            "value": 3
          }
        },
        "0de02c960052478494aeacf5a5538d1c": {
          "model_module": "@jupyter-widgets/base",
          "model_name": "LayoutModel",
          "model_module_version": "1.2.0",
          "state": {
            "_model_module": "@jupyter-widgets/base",
            "_model_module_version": "1.2.0",
            "_model_name": "LayoutModel",
            "_view_count": null,
            "_view_module": "@jupyter-widgets/base",
            "_view_module_version": "1.2.0",
            "_view_name": "LayoutView",
            "align_content": null,
            "align_items": null,
            "align_self": null,
            "border": null,
            "bottom": null,
            "display": null,
            "flex": null,
            "flex_flow": null,
            "grid_area": null,
            "grid_auto_columns": null,
            "grid_auto_flow": null,
            "grid_auto_rows": null,
            "grid_column": null,
            "grid_gap": null,
            "grid_row": null,
            "grid_template_areas": null,
            "grid_template_columns": null,
            "grid_template_rows": null,
            "height": null,
            "justify_content": null,
            "justify_items": null,
            "left": null,
            "margin": null,
            "max_height": null,
            "max_width": null,
            "min_height": null,
            "min_width": null,
            "object_fit": null,
            "object_position": null,
            "order": null,
            "overflow": null,
            "overflow_x": null,
            "overflow_y": null,
            "padding": null,
            "right": null,
            "top": null,
            "visibility": null,
            "width": null
          }
        },
        "b58a254d0de8430697a74d11cfad0536": {
          "model_module": "@jupyter-widgets/controls",
          "model_name": "SliderStyleModel",
          "model_module_version": "1.5.0",
          "state": {
            "_model_module": "@jupyter-widgets/controls",
            "_model_module_version": "1.5.0",
            "_model_name": "SliderStyleModel",
            "_view_count": null,
            "_view_module": "@jupyter-widgets/base",
            "_view_module_version": "1.2.0",
            "_view_name": "StyleView",
            "description_width": "",
            "handle_color": null
          }
        },
        "4098e342a89f491c8ff80efb73f98204": {
          "model_module": "@jupyter-widgets/controls",
          "model_name": "LabelModel",
          "model_module_version": "1.5.0",
          "state": {
            "_dom_classes": [],
            "_model_module": "@jupyter-widgets/controls",
            "_model_module_version": "1.5.0",
            "_model_name": "LabelModel",
            "_view_count": null,
            "_view_module": "@jupyter-widgets/controls",
            "_view_module_version": "1.5.0",
            "_view_name": "LabelView",
            "description": "",
            "description_tooltip": null,
            "layout": "IPY_MODEL_f307435718774a888c4bc1c0816de2be",
            "placeholder": "​",
            "style": "IPY_MODEL_84c9605e2f81424caccefcd27f07a291",
            "value": "How many past days was your Mental Health not good?"
          }
        },
        "f307435718774a888c4bc1c0816de2be": {
          "model_module": "@jupyter-widgets/base",
          "model_name": "LayoutModel",
          "model_module_version": "1.2.0",
          "state": {
            "_model_module": "@jupyter-widgets/base",
            "_model_module_version": "1.2.0",
            "_model_name": "LayoutModel",
            "_view_count": null,
            "_view_module": "@jupyter-widgets/base",
            "_view_module_version": "1.2.0",
            "_view_name": "LayoutView",
            "align_content": null,
            "align_items": null,
            "align_self": null,
            "border": null,
            "bottom": null,
            "display": null,
            "flex": null,
            "flex_flow": null,
            "grid_area": null,
            "grid_auto_columns": null,
            "grid_auto_flow": null,
            "grid_auto_rows": null,
            "grid_column": null,
            "grid_gap": null,
            "grid_row": null,
            "grid_template_areas": null,
            "grid_template_columns": null,
            "grid_template_rows": null,
            "height": null,
            "justify_content": null,
            "justify_items": null,
            "left": null,
            "margin": null,
            "max_height": null,
            "max_width": null,
            "min_height": null,
            "min_width": null,
            "object_fit": null,
            "object_position": null,
            "order": null,
            "overflow": null,
            "overflow_x": null,
            "overflow_y": null,
            "padding": null,
            "right": null,
            "top": null,
            "visibility": null,
            "width": "max-content"
          }
        },
        "84c9605e2f81424caccefcd27f07a291": {
          "model_module": "@jupyter-widgets/controls",
          "model_name": "DescriptionStyleModel",
          "model_module_version": "1.5.0",
          "state": {
            "_model_module": "@jupyter-widgets/controls",
            "_model_module_version": "1.5.0",
            "_model_name": "DescriptionStyleModel",
            "_view_count": null,
            "_view_module": "@jupyter-widgets/base",
            "_view_module_version": "1.2.0",
            "_view_name": "StyleView",
            "description_width": ""
          }
        },
        "c748128629c7478482e923a6281c5a44": {
          "model_module": "@jupyter-widgets/controls",
          "model_name": "FloatSliderModel",
          "model_module_version": "1.5.0",
          "state": {
            "_dom_classes": [],
            "_model_module": "@jupyter-widgets/controls",
            "_model_module_version": "1.5.0",
            "_model_name": "FloatSliderModel",
            "_view_count": null,
            "_view_module": "@jupyter-widgets/controls",
            "_view_module_version": "1.5.0",
            "_view_name": "FloatSliderView",
            "continuous_update": true,
            "description": "",
            "description_tooltip": null,
            "disabled": false,
            "layout": "IPY_MODEL_0d684776c9614391b6bad09ffa1a5d46",
            "max": 30,
            "min": 0,
            "orientation": "horizontal",
            "readout": true,
            "readout_format": ".2f",
            "step": 1,
            "style": "IPY_MODEL_accf86a9973343e98312e6aab0b8c36e",
            "value": 0
          }
        },
        "0d684776c9614391b6bad09ffa1a5d46": {
          "model_module": "@jupyter-widgets/base",
          "model_name": "LayoutModel",
          "model_module_version": "1.2.0",
          "state": {
            "_model_module": "@jupyter-widgets/base",
            "_model_module_version": "1.2.0",
            "_model_name": "LayoutModel",
            "_view_count": null,
            "_view_module": "@jupyter-widgets/base",
            "_view_module_version": "1.2.0",
            "_view_name": "LayoutView",
            "align_content": null,
            "align_items": null,
            "align_self": null,
            "border": null,
            "bottom": null,
            "display": null,
            "flex": null,
            "flex_flow": null,
            "grid_area": null,
            "grid_auto_columns": null,
            "grid_auto_flow": null,
            "grid_auto_rows": null,
            "grid_column": null,
            "grid_gap": null,
            "grid_row": null,
            "grid_template_areas": null,
            "grid_template_columns": null,
            "grid_template_rows": null,
            "height": null,
            "justify_content": null,
            "justify_items": null,
            "left": null,
            "margin": null,
            "max_height": null,
            "max_width": null,
            "min_height": null,
            "min_width": null,
            "object_fit": null,
            "object_position": null,
            "order": null,
            "overflow": null,
            "overflow_x": null,
            "overflow_y": null,
            "padding": null,
            "right": null,
            "top": null,
            "visibility": null,
            "width": null
          }
        },
        "accf86a9973343e98312e6aab0b8c36e": {
          "model_module": "@jupyter-widgets/controls",
          "model_name": "SliderStyleModel",
          "model_module_version": "1.5.0",
          "state": {
            "_model_module": "@jupyter-widgets/controls",
            "_model_module_version": "1.5.0",
            "_model_name": "SliderStyleModel",
            "_view_count": null,
            "_view_module": "@jupyter-widgets/base",
            "_view_module_version": "1.2.0",
            "_view_name": "StyleView",
            "description_width": "",
            "handle_color": null
          }
        },
        "291afd41c78144c19af84f18ce2720cd": {
          "model_module": "@jupyter-widgets/controls",
          "model_name": "LabelModel",
          "model_module_version": "1.5.0",
          "state": {
            "_dom_classes": [],
            "_model_module": "@jupyter-widgets/controls",
            "_model_module_version": "1.5.0",
            "_model_name": "LabelModel",
            "_view_count": null,
            "_view_module": "@jupyter-widgets/controls",
            "_view_module_version": "1.5.0",
            "_view_name": "LabelView",
            "description": "",
            "description_tooltip": null,
            "layout": "IPY_MODEL_6be4a21e479249e3be397dd48c88460b",
            "placeholder": "​",
            "style": "IPY_MODEL_303bf70b37054e2a96b8f98b973fb752",
            "value": "How many past days was your Physical Health not good?"
          }
        },
        "6be4a21e479249e3be397dd48c88460b": {
          "model_module": "@jupyter-widgets/base",
          "model_name": "LayoutModel",
          "model_module_version": "1.2.0",
          "state": {
            "_model_module": "@jupyter-widgets/base",
            "_model_module_version": "1.2.0",
            "_model_name": "LayoutModel",
            "_view_count": null,
            "_view_module": "@jupyter-widgets/base",
            "_view_module_version": "1.2.0",
            "_view_name": "LayoutView",
            "align_content": null,
            "align_items": null,
            "align_self": null,
            "border": null,
            "bottom": null,
            "display": null,
            "flex": null,
            "flex_flow": null,
            "grid_area": null,
            "grid_auto_columns": null,
            "grid_auto_flow": null,
            "grid_auto_rows": null,
            "grid_column": null,
            "grid_gap": null,
            "grid_row": null,
            "grid_template_areas": null,
            "grid_template_columns": null,
            "grid_template_rows": null,
            "height": null,
            "justify_content": null,
            "justify_items": null,
            "left": null,
            "margin": null,
            "max_height": null,
            "max_width": null,
            "min_height": null,
            "min_width": null,
            "object_fit": null,
            "object_position": null,
            "order": null,
            "overflow": null,
            "overflow_x": null,
            "overflow_y": null,
            "padding": null,
            "right": null,
            "top": null,
            "visibility": null,
            "width": "max-content"
          }
        },
        "303bf70b37054e2a96b8f98b973fb752": {
          "model_module": "@jupyter-widgets/controls",
          "model_name": "DescriptionStyleModel",
          "model_module_version": "1.5.0",
          "state": {
            "_model_module": "@jupyter-widgets/controls",
            "_model_module_version": "1.5.0",
            "_model_name": "DescriptionStyleModel",
            "_view_count": null,
            "_view_module": "@jupyter-widgets/base",
            "_view_module_version": "1.2.0",
            "_view_name": "StyleView",
            "description_width": ""
          }
        },
        "e848519332bd45a4a446ee7cfccad5db": {
          "model_module": "@jupyter-widgets/controls",
          "model_name": "FloatSliderModel",
          "model_module_version": "1.5.0",
          "state": {
            "_dom_classes": [],
            "_model_module": "@jupyter-widgets/controls",
            "_model_module_version": "1.5.0",
            "_model_name": "FloatSliderModel",
            "_view_count": null,
            "_view_module": "@jupyter-widgets/controls",
            "_view_module_version": "1.5.0",
            "_view_name": "FloatSliderView",
            "continuous_update": true,
            "description": "",
            "description_tooltip": null,
            "disabled": false,
            "layout": "IPY_MODEL_c2dd6845404d4a7e9fa59eeee5e023e5",
            "max": 30,
            "min": 0,
            "orientation": "horizontal",
            "readout": true,
            "readout_format": ".2f",
            "step": 1,
            "style": "IPY_MODEL_9ace38f130134641a57116c64aeca296",
            "value": 0
          }
        },
        "c2dd6845404d4a7e9fa59eeee5e023e5": {
          "model_module": "@jupyter-widgets/base",
          "model_name": "LayoutModel",
          "model_module_version": "1.2.0",
          "state": {
            "_model_module": "@jupyter-widgets/base",
            "_model_module_version": "1.2.0",
            "_model_name": "LayoutModel",
            "_view_count": null,
            "_view_module": "@jupyter-widgets/base",
            "_view_module_version": "1.2.0",
            "_view_name": "LayoutView",
            "align_content": null,
            "align_items": null,
            "align_self": null,
            "border": null,
            "bottom": null,
            "display": null,
            "flex": null,
            "flex_flow": null,
            "grid_area": null,
            "grid_auto_columns": null,
            "grid_auto_flow": null,
            "grid_auto_rows": null,
            "grid_column": null,
            "grid_gap": null,
            "grid_row": null,
            "grid_template_areas": null,
            "grid_template_columns": null,
            "grid_template_rows": null,
            "height": null,
            "justify_content": null,
            "justify_items": null,
            "left": null,
            "margin": null,
            "max_height": null,
            "max_width": null,
            "min_height": null,
            "min_width": null,
            "object_fit": null,
            "object_position": null,
            "order": null,
            "overflow": null,
            "overflow_x": null,
            "overflow_y": null,
            "padding": null,
            "right": null,
            "top": null,
            "visibility": null,
            "width": null
          }
        },
        "9ace38f130134641a57116c64aeca296": {
          "model_module": "@jupyter-widgets/controls",
          "model_name": "SliderStyleModel",
          "model_module_version": "1.5.0",
          "state": {
            "_model_module": "@jupyter-widgets/controls",
            "_model_module_version": "1.5.0",
            "_model_name": "SliderStyleModel",
            "_view_count": null,
            "_view_module": "@jupyter-widgets/base",
            "_view_module_version": "1.2.0",
            "_view_name": "StyleView",
            "description_width": "",
            "handle_color": null
          }
        },
        "66966bf4664842f6be2a23ac722a838c": {
          "model_module": "@jupyter-widgets/controls",
          "model_name": "LabelModel",
          "model_module_version": "1.5.0",
          "state": {
            "_dom_classes": [],
            "_model_module": "@jupyter-widgets/controls",
            "_model_module_version": "1.5.0",
            "_model_name": "LabelModel",
            "_view_count": null,
            "_view_module": "@jupyter-widgets/controls",
            "_view_module_version": "1.5.0",
            "_view_name": "LabelView",
            "description": "",
            "description_tooltip": null,
            "layout": "IPY_MODEL_cfe524bf1e2648a38d719ec70e512074",
            "placeholder": "​",
            "style": "IPY_MODEL_c411d66dea494d02812d2ee4b3c2755d",
            "value": "Do you have Difficulty Walking or climbing stairs?"
          }
        },
        "cfe524bf1e2648a38d719ec70e512074": {
          "model_module": "@jupyter-widgets/base",
          "model_name": "LayoutModel",
          "model_module_version": "1.2.0",
          "state": {
            "_model_module": "@jupyter-widgets/base",
            "_model_module_version": "1.2.0",
            "_model_name": "LayoutModel",
            "_view_count": null,
            "_view_module": "@jupyter-widgets/base",
            "_view_module_version": "1.2.0",
            "_view_name": "LayoutView",
            "align_content": null,
            "align_items": null,
            "align_self": null,
            "border": null,
            "bottom": null,
            "display": null,
            "flex": null,
            "flex_flow": null,
            "grid_area": null,
            "grid_auto_columns": null,
            "grid_auto_flow": null,
            "grid_auto_rows": null,
            "grid_column": null,
            "grid_gap": null,
            "grid_row": null,
            "grid_template_areas": null,
            "grid_template_columns": null,
            "grid_template_rows": null,
            "height": null,
            "justify_content": null,
            "justify_items": null,
            "left": null,
            "margin": null,
            "max_height": null,
            "max_width": null,
            "min_height": null,
            "min_width": null,
            "object_fit": null,
            "object_position": null,
            "order": null,
            "overflow": null,
            "overflow_x": null,
            "overflow_y": null,
            "padding": null,
            "right": null,
            "top": null,
            "visibility": null,
            "width": "max-content"
          }
        },
        "c411d66dea494d02812d2ee4b3c2755d": {
          "model_module": "@jupyter-widgets/controls",
          "model_name": "DescriptionStyleModel",
          "model_module_version": "1.5.0",
          "state": {
            "_model_module": "@jupyter-widgets/controls",
            "_model_module_version": "1.5.0",
            "_model_name": "DescriptionStyleModel",
            "_view_count": null,
            "_view_module": "@jupyter-widgets/base",
            "_view_module_version": "1.2.0",
            "_view_name": "StyleView",
            "description_width": ""
          }
        },
        "d96c70fbee24498585e0bddcc2994c57": {
          "model_module": "@jupyter-widgets/controls",
          "model_name": "RadioButtonsModel",
          "model_module_version": "1.5.0",
          "state": {
            "_dom_classes": [],
            "_model_module": "@jupyter-widgets/controls",
            "_model_module_version": "1.5.0",
            "_model_name": "RadioButtonsModel",
            "_options_labels": [
              "No",
              "Yes"
            ],
            "_view_count": null,
            "_view_module": "@jupyter-widgets/controls",
            "_view_module_version": "1.5.0",
            "_view_name": "RadioButtonsView",
            "description": "",
            "description_tooltip": null,
            "disabled": false,
            "index": 0,
            "layout": "IPY_MODEL_3c6a378d1ba74671a113777d3b7babef",
            "style": "IPY_MODEL_d81f1da80c4046cf8e9df482f027c81b"
          }
        },
        "3c6a378d1ba74671a113777d3b7babef": {
          "model_module": "@jupyter-widgets/base",
          "model_name": "LayoutModel",
          "model_module_version": "1.2.0",
          "state": {
            "_model_module": "@jupyter-widgets/base",
            "_model_module_version": "1.2.0",
            "_model_name": "LayoutModel",
            "_view_count": null,
            "_view_module": "@jupyter-widgets/base",
            "_view_module_version": "1.2.0",
            "_view_name": "LayoutView",
            "align_content": null,
            "align_items": null,
            "align_self": null,
            "border": null,
            "bottom": null,
            "display": null,
            "flex": null,
            "flex_flow": null,
            "grid_area": null,
            "grid_auto_columns": null,
            "grid_auto_flow": null,
            "grid_auto_rows": null,
            "grid_column": null,
            "grid_gap": null,
            "grid_row": null,
            "grid_template_areas": null,
            "grid_template_columns": null,
            "grid_template_rows": null,
            "height": null,
            "justify_content": null,
            "justify_items": null,
            "left": null,
            "margin": null,
            "max_height": null,
            "max_width": null,
            "min_height": null,
            "min_width": null,
            "object_fit": null,
            "object_position": null,
            "order": null,
            "overflow": null,
            "overflow_x": null,
            "overflow_y": null,
            "padding": null,
            "right": null,
            "top": null,
            "visibility": null,
            "width": null
          }
        },
        "d81f1da80c4046cf8e9df482f027c81b": {
          "model_module": "@jupyter-widgets/controls",
          "model_name": "DescriptionStyleModel",
          "model_module_version": "1.5.0",
          "state": {
            "_model_module": "@jupyter-widgets/controls",
            "_model_module_version": "1.5.0",
            "_model_name": "DescriptionStyleModel",
            "_view_count": null,
            "_view_module": "@jupyter-widgets/base",
            "_view_module_version": "1.2.0",
            "_view_name": "StyleView",
            "description_width": ""
          }
        },
        "4485224eacb54e12a6e9ec3733a94ec5": {
          "model_module": "@jupyter-widgets/controls",
          "model_name": "LabelModel",
          "model_module_version": "1.5.0",
          "state": {
            "_dom_classes": [],
            "_model_module": "@jupyter-widgets/controls",
            "_model_module_version": "1.5.0",
            "_model_name": "LabelModel",
            "_view_count": null,
            "_view_module": "@jupyter-widgets/controls",
            "_view_module_version": "1.5.0",
            "_view_name": "LabelView",
            "description": "",
            "description_tooltip": null,
            "layout": "IPY_MODEL_e749e88e3022480fbb3ca5f0a8e74f94",
            "placeholder": "​",
            "style": "IPY_MODEL_201a9cdf73904b7eb8d4aab4d8f7e028",
            "value": "Physical Activity in past 30 days, not incl job"
          }
        },
        "e749e88e3022480fbb3ca5f0a8e74f94": {
          "model_module": "@jupyter-widgets/base",
          "model_name": "LayoutModel",
          "model_module_version": "1.2.0",
          "state": {
            "_model_module": "@jupyter-widgets/base",
            "_model_module_version": "1.2.0",
            "_model_name": "LayoutModel",
            "_view_count": null,
            "_view_module": "@jupyter-widgets/base",
            "_view_module_version": "1.2.0",
            "_view_name": "LayoutView",
            "align_content": null,
            "align_items": null,
            "align_self": null,
            "border": null,
            "bottom": null,
            "display": null,
            "flex": null,
            "flex_flow": null,
            "grid_area": null,
            "grid_auto_columns": null,
            "grid_auto_flow": null,
            "grid_auto_rows": null,
            "grid_column": null,
            "grid_gap": null,
            "grid_row": null,
            "grid_template_areas": null,
            "grid_template_columns": null,
            "grid_template_rows": null,
            "height": null,
            "justify_content": null,
            "justify_items": null,
            "left": null,
            "margin": null,
            "max_height": null,
            "max_width": null,
            "min_height": null,
            "min_width": null,
            "object_fit": null,
            "object_position": null,
            "order": null,
            "overflow": null,
            "overflow_x": null,
            "overflow_y": null,
            "padding": null,
            "right": null,
            "top": null,
            "visibility": null,
            "width": "max-content"
          }
        },
        "201a9cdf73904b7eb8d4aab4d8f7e028": {
          "model_module": "@jupyter-widgets/controls",
          "model_name": "DescriptionStyleModel",
          "model_module_version": "1.5.0",
          "state": {
            "_model_module": "@jupyter-widgets/controls",
            "_model_module_version": "1.5.0",
            "_model_name": "DescriptionStyleModel",
            "_view_count": null,
            "_view_module": "@jupyter-widgets/base",
            "_view_module_version": "1.2.0",
            "_view_name": "StyleView",
            "description_width": ""
          }
        },
        "54d7a8cd437c424688ce1b93a9442098": {
          "model_module": "@jupyter-widgets/controls",
          "model_name": "RadioButtonsModel",
          "model_module_version": "1.5.0",
          "state": {
            "_dom_classes": [],
            "_model_module": "@jupyter-widgets/controls",
            "_model_module_version": "1.5.0",
            "_model_name": "RadioButtonsModel",
            "_options_labels": [
              "No",
              "Yes"
            ],
            "_view_count": null,
            "_view_module": "@jupyter-widgets/controls",
            "_view_module_version": "1.5.0",
            "_view_name": "RadioButtonsView",
            "description": "",
            "description_tooltip": null,
            "disabled": false,
            "index": 0,
            "layout": "IPY_MODEL_114ce2fc8cd743b4b05ff47f41afd697",
            "style": "IPY_MODEL_9af1b72cee2545a9a3a3c7ac54a2b90a"
          }
        },
        "114ce2fc8cd743b4b05ff47f41afd697": {
          "model_module": "@jupyter-widgets/base",
          "model_name": "LayoutModel",
          "model_module_version": "1.2.0",
          "state": {
            "_model_module": "@jupyter-widgets/base",
            "_model_module_version": "1.2.0",
            "_model_name": "LayoutModel",
            "_view_count": null,
            "_view_module": "@jupyter-widgets/base",
            "_view_module_version": "1.2.0",
            "_view_name": "LayoutView",
            "align_content": null,
            "align_items": null,
            "align_self": null,
            "border": null,
            "bottom": null,
            "display": null,
            "flex": null,
            "flex_flow": null,
            "grid_area": null,
            "grid_auto_columns": null,
            "grid_auto_flow": null,
            "grid_auto_rows": null,
            "grid_column": null,
            "grid_gap": null,
            "grid_row": null,
            "grid_template_areas": null,
            "grid_template_columns": null,
            "grid_template_rows": null,
            "height": null,
            "justify_content": null,
            "justify_items": null,
            "left": null,
            "margin": null,
            "max_height": null,
            "max_width": null,
            "min_height": null,
            "min_width": null,
            "object_fit": null,
            "object_position": null,
            "order": null,
            "overflow": null,
            "overflow_x": null,
            "overflow_y": null,
            "padding": null,
            "right": null,
            "top": null,
            "visibility": null,
            "width": null
          }
        },
        "9af1b72cee2545a9a3a3c7ac54a2b90a": {
          "model_module": "@jupyter-widgets/controls",
          "model_name": "DescriptionStyleModel",
          "model_module_version": "1.5.0",
          "state": {
            "_model_module": "@jupyter-widgets/controls",
            "_model_module_version": "1.5.0",
            "_model_name": "DescriptionStyleModel",
            "_view_count": null,
            "_view_module": "@jupyter-widgets/base",
            "_view_module_version": "1.2.0",
            "_view_name": "StyleView",
            "description_width": ""
          }
        },
        "930cd83887b4491d9c341094ba5ea0f8": {
          "model_module": "@jupyter-widgets/controls",
          "model_name": "LabelModel",
          "model_module_version": "1.5.0",
          "state": {
            "_dom_classes": [],
            "_model_module": "@jupyter-widgets/controls",
            "_model_module_version": "1.5.0",
            "_model_name": "LabelModel",
            "_view_count": null,
            "_view_module": "@jupyter-widgets/controls",
            "_view_module_version": "1.5.0",
            "_view_name": "LabelView",
            "description": "",
            "description_tooltip": null,
            "layout": "IPY_MODEL_c53af2a4c68b46babae9e6f5b5e6babf",
            "placeholder": "​",
            "style": "IPY_MODEL_a6eef2cdfa024d508cc9bc9d742a2a90",
            "value": "Eat 1 Fruit or more per day"
          }
        },
        "c53af2a4c68b46babae9e6f5b5e6babf": {
          "model_module": "@jupyter-widgets/base",
          "model_name": "LayoutModel",
          "model_module_version": "1.2.0",
          "state": {
            "_model_module": "@jupyter-widgets/base",
            "_model_module_version": "1.2.0",
            "_model_name": "LayoutModel",
            "_view_count": null,
            "_view_module": "@jupyter-widgets/base",
            "_view_module_version": "1.2.0",
            "_view_name": "LayoutView",
            "align_content": null,
            "align_items": null,
            "align_self": null,
            "border": null,
            "bottom": null,
            "display": null,
            "flex": null,
            "flex_flow": null,
            "grid_area": null,
            "grid_auto_columns": null,
            "grid_auto_flow": null,
            "grid_auto_rows": null,
            "grid_column": null,
            "grid_gap": null,
            "grid_row": null,
            "grid_template_areas": null,
            "grid_template_columns": null,
            "grid_template_rows": null,
            "height": null,
            "justify_content": null,
            "justify_items": null,
            "left": null,
            "margin": null,
            "max_height": null,
            "max_width": null,
            "min_height": null,
            "min_width": null,
            "object_fit": null,
            "object_position": null,
            "order": null,
            "overflow": null,
            "overflow_x": null,
            "overflow_y": null,
            "padding": null,
            "right": null,
            "top": null,
            "visibility": null,
            "width": "max-content"
          }
        },
        "a6eef2cdfa024d508cc9bc9d742a2a90": {
          "model_module": "@jupyter-widgets/controls",
          "model_name": "DescriptionStyleModel",
          "model_module_version": "1.5.0",
          "state": {
            "_model_module": "@jupyter-widgets/controls",
            "_model_module_version": "1.5.0",
            "_model_name": "DescriptionStyleModel",
            "_view_count": null,
            "_view_module": "@jupyter-widgets/base",
            "_view_module_version": "1.2.0",
            "_view_name": "StyleView",
            "description_width": ""
          }
        },
        "03a43bda57f9477ca4c1952f024e5fe9": {
          "model_module": "@jupyter-widgets/controls",
          "model_name": "RadioButtonsModel",
          "model_module_version": "1.5.0",
          "state": {
            "_dom_classes": [],
            "_model_module": "@jupyter-widgets/controls",
            "_model_module_version": "1.5.0",
            "_model_name": "RadioButtonsModel",
            "_options_labels": [
              "No",
              "Yes"
            ],
            "_view_count": null,
            "_view_module": "@jupyter-widgets/controls",
            "_view_module_version": "1.5.0",
            "_view_name": "RadioButtonsView",
            "description": "",
            "description_tooltip": null,
            "disabled": false,
            "index": 0,
            "layout": "IPY_MODEL_e4a1f3da6db5419b82c3c6290bd92e3d",
            "style": "IPY_MODEL_6ece0642787c41dea0cd16cdc9a0cd25"
          }
        },
        "e4a1f3da6db5419b82c3c6290bd92e3d": {
          "model_module": "@jupyter-widgets/base",
          "model_name": "LayoutModel",
          "model_module_version": "1.2.0",
          "state": {
            "_model_module": "@jupyter-widgets/base",
            "_model_module_version": "1.2.0",
            "_model_name": "LayoutModel",
            "_view_count": null,
            "_view_module": "@jupyter-widgets/base",
            "_view_module_version": "1.2.0",
            "_view_name": "LayoutView",
            "align_content": null,
            "align_items": null,
            "align_self": null,
            "border": null,
            "bottom": null,
            "display": null,
            "flex": null,
            "flex_flow": null,
            "grid_area": null,
            "grid_auto_columns": null,
            "grid_auto_flow": null,
            "grid_auto_rows": null,
            "grid_column": null,
            "grid_gap": null,
            "grid_row": null,
            "grid_template_areas": null,
            "grid_template_columns": null,
            "grid_template_rows": null,
            "height": null,
            "justify_content": null,
            "justify_items": null,
            "left": null,
            "margin": null,
            "max_height": null,
            "max_width": null,
            "min_height": null,
            "min_width": null,
            "object_fit": null,
            "object_position": null,
            "order": null,
            "overflow": null,
            "overflow_x": null,
            "overflow_y": null,
            "padding": null,
            "right": null,
            "top": null,
            "visibility": null,
            "width": null
          }
        },
        "6ece0642787c41dea0cd16cdc9a0cd25": {
          "model_module": "@jupyter-widgets/controls",
          "model_name": "DescriptionStyleModel",
          "model_module_version": "1.5.0",
          "state": {
            "_model_module": "@jupyter-widgets/controls",
            "_model_module_version": "1.5.0",
            "_model_name": "DescriptionStyleModel",
            "_view_count": null,
            "_view_module": "@jupyter-widgets/base",
            "_view_module_version": "1.2.0",
            "_view_name": "StyleView",
            "description_width": ""
          }
        },
        "194c2fea90c540ebbef00babef17a1fb": {
          "model_module": "@jupyter-widgets/controls",
          "model_name": "LabelModel",
          "model_module_version": "1.5.0",
          "state": {
            "_dom_classes": [],
            "_model_module": "@jupyter-widgets/controls",
            "_model_module_version": "1.5.0",
            "_model_name": "LabelModel",
            "_view_count": null,
            "_view_module": "@jupyter-widgets/controls",
            "_view_module_version": "1.5.0",
            "_view_name": "LabelView",
            "description": "",
            "description_tooltip": null,
            "layout": "IPY_MODEL_0904b360a1ee4497a571eb1741076ec2",
            "placeholder": "​",
            "style": "IPY_MODEL_8591b5eda1c74bbfa5e622e43dc1c43d",
            "value": "Eat Veggies 1 or more per day"
          }
        },
        "0904b360a1ee4497a571eb1741076ec2": {
          "model_module": "@jupyter-widgets/base",
          "model_name": "LayoutModel",
          "model_module_version": "1.2.0",
          "state": {
            "_model_module": "@jupyter-widgets/base",
            "_model_module_version": "1.2.0",
            "_model_name": "LayoutModel",
            "_view_count": null,
            "_view_module": "@jupyter-widgets/base",
            "_view_module_version": "1.2.0",
            "_view_name": "LayoutView",
            "align_content": null,
            "align_items": null,
            "align_self": null,
            "border": null,
            "bottom": null,
            "display": null,
            "flex": null,
            "flex_flow": null,
            "grid_area": null,
            "grid_auto_columns": null,
            "grid_auto_flow": null,
            "grid_auto_rows": null,
            "grid_column": null,
            "grid_gap": null,
            "grid_row": null,
            "grid_template_areas": null,
            "grid_template_columns": null,
            "grid_template_rows": null,
            "height": null,
            "justify_content": null,
            "justify_items": null,
            "left": null,
            "margin": null,
            "max_height": null,
            "max_width": null,
            "min_height": null,
            "min_width": null,
            "object_fit": null,
            "object_position": null,
            "order": null,
            "overflow": null,
            "overflow_x": null,
            "overflow_y": null,
            "padding": null,
            "right": null,
            "top": null,
            "visibility": null,
            "width": "max-content"
          }
        },
        "8591b5eda1c74bbfa5e622e43dc1c43d": {
          "model_module": "@jupyter-widgets/controls",
          "model_name": "DescriptionStyleModel",
          "model_module_version": "1.5.0",
          "state": {
            "_model_module": "@jupyter-widgets/controls",
            "_model_module_version": "1.5.0",
            "_model_name": "DescriptionStyleModel",
            "_view_count": null,
            "_view_module": "@jupyter-widgets/base",
            "_view_module_version": "1.2.0",
            "_view_name": "StyleView",
            "description_width": ""
          }
        },
        "38ca5c29130243cdb2b9210c9f60c96f": {
          "model_module": "@jupyter-widgets/controls",
          "model_name": "RadioButtonsModel",
          "model_module_version": "1.5.0",
          "state": {
            "_dom_classes": [],
            "_model_module": "@jupyter-widgets/controls",
            "_model_module_version": "1.5.0",
            "_model_name": "RadioButtonsModel",
            "_options_labels": [
              "No",
              "Yes"
            ],
            "_view_count": null,
            "_view_module": "@jupyter-widgets/controls",
            "_view_module_version": "1.5.0",
            "_view_name": "RadioButtonsView",
            "description": "",
            "description_tooltip": null,
            "disabled": false,
            "index": 0,
            "layout": "IPY_MODEL_8b1a2b394116462180a16298e57b031d",
            "style": "IPY_MODEL_52195a63931644aa91521c87a2b22578"
          }
        },
        "8b1a2b394116462180a16298e57b031d": {
          "model_module": "@jupyter-widgets/base",
          "model_name": "LayoutModel",
          "model_module_version": "1.2.0",
          "state": {
            "_model_module": "@jupyter-widgets/base",
            "_model_module_version": "1.2.0",
            "_model_name": "LayoutModel",
            "_view_count": null,
            "_view_module": "@jupyter-widgets/base",
            "_view_module_version": "1.2.0",
            "_view_name": "LayoutView",
            "align_content": null,
            "align_items": null,
            "align_self": null,
            "border": null,
            "bottom": null,
            "display": null,
            "flex": null,
            "flex_flow": null,
            "grid_area": null,
            "grid_auto_columns": null,
            "grid_auto_flow": null,
            "grid_auto_rows": null,
            "grid_column": null,
            "grid_gap": null,
            "grid_row": null,
            "grid_template_areas": null,
            "grid_template_columns": null,
            "grid_template_rows": null,
            "height": null,
            "justify_content": null,
            "justify_items": null,
            "left": null,
            "margin": null,
            "max_height": null,
            "max_width": null,
            "min_height": null,
            "min_width": null,
            "object_fit": null,
            "object_position": null,
            "order": null,
            "overflow": null,
            "overflow_x": null,
            "overflow_y": null,
            "padding": null,
            "right": null,
            "top": null,
            "visibility": null,
            "width": null
          }
        },
        "52195a63931644aa91521c87a2b22578": {
          "model_module": "@jupyter-widgets/controls",
          "model_name": "DescriptionStyleModel",
          "model_module_version": "1.5.0",
          "state": {
            "_model_module": "@jupyter-widgets/controls",
            "_model_module_version": "1.5.0",
            "_model_name": "DescriptionStyleModel",
            "_view_count": null,
            "_view_module": "@jupyter-widgets/base",
            "_view_module_version": "1.2.0",
            "_view_name": "StyleView",
            "description_width": ""
          }
        },
        "7e3de5053cd04ad0b3a3a946516d026b": {
          "model_module": "@jupyter-widgets/controls",
          "model_name": "ButtonModel",
          "model_module_version": "1.5.0",
          "state": {
            "_dom_classes": [],
            "_model_module": "@jupyter-widgets/controls",
            "_model_module_version": "1.5.0",
            "_model_name": "ButtonModel",
            "_view_count": null,
            "_view_module": "@jupyter-widgets/controls",
            "_view_module_version": "1.5.0",
            "_view_name": "ButtonView",
            "button_style": "",
            "description": "Predict Patient Risk",
            "disabled": false,
            "icon": "",
            "layout": "IPY_MODEL_b07dd1cb5ef44dc3b0163f12c6a2f9dd",
            "style": "IPY_MODEL_4a55a71caf0e44af93d66a5bffd52bc2",
            "tooltip": ""
          }
        },
        "b07dd1cb5ef44dc3b0163f12c6a2f9dd": {
          "model_module": "@jupyter-widgets/base",
          "model_name": "LayoutModel",
          "model_module_version": "1.2.0",
          "state": {
            "_model_module": "@jupyter-widgets/base",
            "_model_module_version": "1.2.0",
            "_model_name": "LayoutModel",
            "_view_count": null,
            "_view_module": "@jupyter-widgets/base",
            "_view_module_version": "1.2.0",
            "_view_name": "LayoutView",
            "align_content": null,
            "align_items": null,
            "align_self": null,
            "border": null,
            "bottom": null,
            "display": null,
            "flex": null,
            "flex_flow": null,
            "grid_area": null,
            "grid_auto_columns": null,
            "grid_auto_flow": null,
            "grid_auto_rows": null,
            "grid_column": null,
            "grid_gap": null,
            "grid_row": null,
            "grid_template_areas": null,
            "grid_template_columns": null,
            "grid_template_rows": null,
            "height": null,
            "justify_content": null,
            "justify_items": null,
            "left": null,
            "margin": null,
            "max_height": null,
            "max_width": null,
            "min_height": null,
            "min_width": null,
            "object_fit": null,
            "object_position": null,
            "order": null,
            "overflow": null,
            "overflow_x": null,
            "overflow_y": null,
            "padding": null,
            "right": null,
            "top": null,
            "visibility": null,
            "width": null
          }
        },
        "4a55a71caf0e44af93d66a5bffd52bc2": {
          "model_module": "@jupyter-widgets/controls",
          "model_name": "ButtonStyleModel",
          "model_module_version": "1.5.0",
          "state": {
            "_model_module": "@jupyter-widgets/controls",
            "_model_module_version": "1.5.0",
            "_model_name": "ButtonStyleModel",
            "_view_count": null,
            "_view_module": "@jupyter-widgets/base",
            "_view_module_version": "1.2.0",
            "_view_name": "StyleView",
            "button_color": null,
            "font_weight": ""
          }
        },
        "7247c1f7338b4bc2b8e4783ffeb9b3a9": {
          "model_module": "@jupyter-widgets/output",
          "model_name": "OutputModel",
          "model_module_version": "1.0.0",
          "state": {
            "_dom_classes": [],
            "_model_module": "@jupyter-widgets/output",
            "_model_module_version": "1.0.0",
            "_model_name": "OutputModel",
            "_view_count": null,
            "_view_module": "@jupyter-widgets/output",
            "_view_module_version": "1.0.0",
            "_view_name": "OutputView",
            "layout": "IPY_MODEL_2d61da92093146c18d0848992648da15",
            "msg_id": "",
            "outputs": []
          }
        },
        "2d61da92093146c18d0848992648da15": {
          "model_module": "@jupyter-widgets/base",
          "model_name": "LayoutModel",
          "model_module_version": "1.2.0",
          "state": {
            "_model_module": "@jupyter-widgets/base",
            "_model_module_version": "1.2.0",
            "_model_name": "LayoutModel",
            "_view_count": null,
            "_view_module": "@jupyter-widgets/base",
            "_view_module_version": "1.2.0",
            "_view_name": "LayoutView",
            "align_content": null,
            "align_items": null,
            "align_self": null,
            "border": null,
            "bottom": null,
            "display": null,
            "flex": null,
            "flex_flow": null,
            "grid_area": null,
            "grid_auto_columns": null,
            "grid_auto_flow": null,
            "grid_auto_rows": null,
            "grid_column": null,
            "grid_gap": null,
            "grid_row": null,
            "grid_template_areas": null,
            "grid_template_columns": null,
            "grid_template_rows": null,
            "height": null,
            "justify_content": null,
            "justify_items": null,
            "left": null,
            "margin": null,
            "max_height": null,
            "max_width": null,
            "min_height": null,
            "min_width": null,
            "object_fit": null,
            "object_position": null,
            "order": null,
            "overflow": null,
            "overflow_x": null,
            "overflow_y": null,
            "padding": null,
            "right": null,
            "top": null,
            "visibility": null,
            "width": null
          }
        }
      }
    }
  },
  "nbformat_minor": 0,
  "nbformat": 4,
  "cells": [
    {
      "cell_type": "markdown",
      "source": [
        "# At-Risk Diabetes Classifier\n",
        "\n",
        "**Author:** Joseph Curtis\n",
        "\n",
        "<p><a target=\"_blank\" href=\"https://colab.research.google.com/github/joseph-curtis/data-science-diabetes-classifier/blob/master/colab-notebook.ipynb\">\n",
        "  <img align=\"left\" alt=\"Google Colab\" title=\"Open In Colab\" width=\"167\" height=\"30\" src=\"https://colab.research.google.com/assets/colab-badge.svg\" />\n",
        "</a></p>"
      ],
      "metadata": {
        "id": "oDco2GYleYIU"
      }
    },
    {
      "cell_type": "markdown",
      "source": [
        "# Overview\n",
        "\n",
        "This notebook presents the At-Risk Diabetes Classifier, a machine learning project aimed at identifying individuals at risk of diabetes based on a variety of health indicators. By analyzing a dataset with features such as BMI, age, smoking status, physical activity, and more, we develop and train a supervised model to predict the likelihood of diabetes.\n",
        "\n",
        "The project demonstrates:\n",
        "- Data preprocessing and cleaning techniques.\n",
        "- Exploratory data analysis (EDA) to understand the relationships within the data.\n",
        "- Feature selection and engineering to prepare the data for modeling.\n",
        "- Evaluation and comparison of different machine learning models, including Logistic Regression and Random Forest, to find the most effective predictor of diabetes risk.\n",
        "\n",
        "This work is part of an ongoing exploration into how data science can be applied to healthcare data to predict disease risk and support early intervention strategies.\n",
        "\n",
        "For more information, source code, and related resources, please visit the project's GitHub repository at [github.com/joseph-curtis](https://github.com/joseph-curtis/data-science-diabetes-classifier)\n",
        "\n",
        "- <a href=\"https://github.com/joseph-curtis/data-science-diabetes-classifier\" target=\"_blank\"><img align=\"left\" alt=\"Github\" title=\"Open in Github\" width=\"144\" height=\"42\" src=\"https://img.shields.io/badge/GitHub-372a4a?style=for-the-badge&logo=github&logoColor=white\" /></a>"
      ],
      "metadata": {
        "id": "AqRO0YqyMdeC"
      }
    },
    {
      "cell_type": "markdown",
      "source": [
        "# Google Colab\n",
        "\n",
        "Run the following cell when in the Google Colab environment in order to import the data sources from Kaggle."
      ],
      "metadata": {
        "id": "VQfuv1C9Wscd"
      }
    },
    {
      "source": [
        "# IMPORTANT: RUN THIS CELL IN ORDER TO IMPORT YOUR KAGGLE DATA SOURCES\n",
        "# TO THE CORRECT LOCATION (/kaggle/input) IN YOUR NOTEBOOK,\n",
        "# THEN FEEL FREE TO DELETE THIS CELL.\n",
        "# NOTE: THIS NOTEBOOK ENVIRONMENT DIFFERS FROM KAGGLE'S PYTHON\n",
        "# ENVIRONMENT SO THERE MAY BE MISSING LIBRARIES USED BY YOUR\n",
        "# NOTEBOOK.\n",
        "\n",
        "import os\n",
        "import sys\n",
        "from tempfile import NamedTemporaryFile\n",
        "from urllib.request import urlopen\n",
        "from urllib.parse import unquote, urlparse\n",
        "from urllib.error import HTTPError\n",
        "from zipfile import ZipFile\n",
        "import tarfile\n",
        "import shutil\n",
        "\n",
        "CHUNK_SIZE = 40960\n",
        "DATA_SOURCE_MAPPING = 'diabetes-health-indicators-dataset:https%3A%2F%2Fstorage.googleapis.com%2Fkaggle-data-sets%2F1703281%2F2789260%2Fbundle%2Farchive.zip%3FX-Goog-Algorithm%3DGOOG4-RSA-SHA256%26X-Goog-Credential%3Dgcp-kaggle-com%2540kaggle-161607.iam.gserviceaccount.com%252F20240326%252Fauto%252Fstorage%252Fgoog4_request%26X-Goog-Date%3D20240326T084559Z%26X-Goog-Expires%3D259200%26X-Goog-SignedHeaders%3Dhost%26X-Goog-Signature%3D09698578feddbd9da49436d63d60d35fada9d4c90e53e356b26bb3f453404b12fe10513097f2e35e73d79c349b1276761e2c5458b80c825ebe0471390c37221b33212cdc9b567b83ea0f5aa2e6845edf0ec616b45b169952f6ce0bae7f8d73da02c956c1d52a754e1a65cc5b5ca0e048d21e4230bbc13c2b07e1bf9b2defff22466623cc8cb6df92d742c7d21591b796893a953e99b0ed1cd9650d440230e7be3825763a97d177eadcd3330e22c5406301936a805dfb56d30f225532a762a8b199ddec9fb399586c0e3d0adb5589ab2802ee8d7b837ab0cf3a42bfff11f98ddc4a5470c73f44a6b594937c42b81b484ad73488305abe7d2fc4de49bff572c30b,d/julnazz/diabetes-health-indicators-dataset:https%3A%2F%2Fstorage.googleapis.com%2Fkaggle-data-sets%2F4066291%2F7062872%2Fbundle%2Farchive.zip%3FX-Goog-Algorithm%3DGOOG4-RSA-SHA256%26X-Goog-Credential%3Dgcp-kaggle-com%2540kaggle-161607.iam.gserviceaccount.com%252F20240326%252Fauto%252Fstorage%252Fgoog4_request%26X-Goog-Date%3D20240326T084559Z%26X-Goog-Expires%3D259200%26X-Goog-SignedHeaders%3Dhost%26X-Goog-Signature%3D178face8263e9708d81b8ebcac1fd071ca7aef27867d311ad1e39808380b5b33166e06de8525821227f8185e91addd09f8e8bf5bcf6e57b41c0253c46f42ae9e135e02784b8ed618d2cbe7ac3cede1fa42273044f275b7d0eb0064aedf98d283cadf53c2d335e1aeb703dc8a5a2df861648c65a6cf4a65646054f87cb713f28476846090aedededd60163c1902ee181a14b5cd5bf2b82ba75a89482f3df64ee148603d0f8004edfc309fc1cd1fc7491fb93449f2c735ad42396f466dd41687c349eac3d40cf0108046e027c3f4174dec4df63c16099f9f3c33ed9ddca2522768a6885397ff02bb43a6f917b915a49ffef46dbc497056b7fe70dfdf6d8dfcfbaa'\n",
        "\n",
        "KAGGLE_INPUT_PATH='/kaggle/input'\n",
        "KAGGLE_WORKING_PATH='/kaggle/working'\n",
        "KAGGLE_SYMLINK='kaggle'\n",
        "\n",
        "!umount /kaggle/input/ 2> /dev/null\n",
        "shutil.rmtree('/kaggle/input', ignore_errors=True)\n",
        "os.makedirs(KAGGLE_INPUT_PATH, 0o777, exist_ok=True)\n",
        "os.makedirs(KAGGLE_WORKING_PATH, 0o777, exist_ok=True)\n",
        "\n",
        "try:\n",
        "  os.symlink(KAGGLE_INPUT_PATH, os.path.join(\"..\", 'input'), target_is_directory=True)\n",
        "except FileExistsError:\n",
        "  pass\n",
        "try:\n",
        "  os.symlink(KAGGLE_WORKING_PATH, os.path.join(\"..\", 'working'), target_is_directory=True)\n",
        "except FileExistsError:\n",
        "  pass\n",
        "\n",
        "for data_source_mapping in DATA_SOURCE_MAPPING.split(','):\n",
        "    directory, download_url_encoded = data_source_mapping.split(':')\n",
        "    download_url = unquote(download_url_encoded)\n",
        "    filename = urlparse(download_url).path\n",
        "    destination_path = os.path.join(KAGGLE_INPUT_PATH, directory)\n",
        "    try:\n",
        "        with urlopen(download_url) as fileres, NamedTemporaryFile() as tfile:\n",
        "            total_length = fileres.headers['content-length']\n",
        "            print(f'Downloading {directory}, {total_length} bytes compressed')\n",
        "            dl = 0\n",
        "            data = fileres.read(CHUNK_SIZE)\n",
        "            while len(data) > 0:\n",
        "                dl += len(data)\n",
        "                tfile.write(data)\n",
        "                done = int(50 * dl / int(total_length))\n",
        "                sys.stdout.write(f\"\\r[{'=' * done}{' ' * (50-done)}] {dl} bytes downloaded\")\n",
        "                sys.stdout.flush()\n",
        "                data = fileres.read(CHUNK_SIZE)\n",
        "            if filename.endswith('.zip'):\n",
        "              with ZipFile(tfile) as zfile:\n",
        "                zfile.extractall(destination_path)\n",
        "            else:\n",
        "              with tarfile.open(tfile.name) as tarfile:\n",
        "                tarfile.extractall(destination_path)\n",
        "            print(f'\\nDownloaded and uncompressed: {directory}')\n",
        "    except HTTPError as e:\n",
        "        print(f'Failed to load (likely expired) {download_url} to path {destination_path}')\n",
        "        continue\n",
        "    except OSError as e:\n",
        "        print(f'Failed to load {download_url} to path {destination_path}')\n",
        "        continue\n",
        "\n",
        "print('Data source import complete.')"
      ],
      "metadata": {
        "id": "0obLLkVQMdd-",
        "outputId": "6cbc9df0-ae4a-4428-93c0-5b66a28ff162",
        "colab": {
          "base_uri": "https://localhost:8080/"
        }
      },
      "cell_type": "code",
      "outputs": [
        {
          "output_type": "stream",
          "name": "stdout",
          "text": [
            "Downloading diabetes-health-indicators-dataset, 6324278 bytes compressed\n",
            "[==================================================] 6324278 bytes downloaded\n",
            "Downloaded and uncompressed: diabetes-health-indicators-dataset\n",
            "Downloading d/julnazz/diabetes-health-indicators-dataset, 5555220 bytes compressed\n",
            "[==================================================] 5555220 bytes downloaded\n",
            "Downloaded and uncompressed: d/julnazz/diabetes-health-indicators-dataset\n",
            "Data source import complete.\n"
          ]
        }
      ],
      "execution_count": 2
    },
    {
      "cell_type": "markdown",
      "source": [
        "# Data Preparation and Initial Analysis\n",
        "\n",
        "Here we focus on preparing and analyzing health indicator data for diabetes from the years 2015 and 2021. The goal is to combine these datasets to form a comprehensive view of the data, which can later be used for machine learning modeling. The following steps are taken:\n",
        "\n",
        "1. Import Libraries\n",
        "2. Load the Data\n",
        "3. Combine the DataFrames\n",
        "4. Rename the column 'Diabetes_binary' for brevity"
      ],
      "metadata": {
        "id": "IfPcWO41MdeC"
      }
    },
    {
      "cell_type": "code",
      "source": [
        "# import Libraries\n",
        "import matplotlib.pyplot as plt\n",
        "import numpy as np\n",
        "import pandas as pd\n",
        "import seaborn as sns\n",
        "from IPython.display import display\n",
        "from matplotlib import pyplot\n",
        "from pandas.plotting import scatter_matrix\n",
        "from sklearn import linear_model, metrics, model_selection\n",
        "from sklearn.ensemble import RandomForestClassifier\n",
        "from sklearn.linear_model import LogisticRegression\n",
        "from sklearn.metrics import (\n",
        "    ConfusionMatrixDisplay,\n",
        "    accuracy_score,\n",
        "    classification_report,\n",
        "    confusion_matrix,\n",
        ")\n",
        "from sklearn.model_selection import KFold, cross_val_score, train_test_split\n",
        "from sklearn.preprocessing import MinMaxScaler\n",
        "\n",
        "# file names and urls\n",
        "filepath_2015 = \"/kaggle/input/diabetes-health-indicators-dataset\\\n",
        "/diabetes_binary_5050split_health_indicators_BRFSS2015.csv\"\n",
        "filepath_2021 = \"/kaggle/input/d/julnazz/diabetes-health-indicators-dataset\\\n",
        "/diabetes_binary_5050split_health_indicators_BRFSS2021.csv\"\n",
        "df1 = pd.read_csv(filepath_2015)\n",
        "df2 = pd.read_csv(filepath_2021)\n",
        "\n",
        "# Combine the two DataFrames\n",
        "combined_df = pd.concat([df1, df2], axis=0).reset_index(drop=True)\n",
        "\n",
        "# Rename the 'Diabetes_binary' column to 'Diabetes'\n",
        "combined_df.rename(columns={\"Diabetes_binary\": \"Diabetes\"}, inplace=True)\n",
        "\n",
        "# Display the first few rows of the combined dataframe\n",
        "# and its shape to verify the combination\n",
        "combined_df_info = combined_df.head(), combined_df.shape\n",
        "\n",
        "combined_df_info  # output"
      ],
      "metadata": {
        "jupyter": {
          "source_hidden": true
        },
        "execution": {
          "iopub.status.busy": "2024-03-16T22:11:15.17286Z",
          "iopub.execute_input": "2024-03-16T22:11:15.173329Z",
          "iopub.status.idle": "2024-03-16T22:11:17.316138Z",
          "shell.execute_reply.started": "2024-03-16T22:11:15.173294Z",
          "shell.execute_reply": "2024-03-16T22:11:17.315009Z"
        },
        "trusted": true,
        "id": "UYS3f_FhMdeD",
        "outputId": "2eadb0af-f0f2-4ac3-c651-ab5f1284fcdd",
        "colab": {
          "base_uri": "https://localhost:8080/"
        }
      },
      "execution_count": 3,
      "outputs": [
        {
          "output_type": "execute_result",
          "data": {
            "text/plain": [
              "(   Diabetes  HighBP  HighChol  CholCheck   BMI  Smoker  Stroke  \\\n",
              " 0       0.0     1.0       0.0        1.0  26.0     0.0     0.0   \n",
              " 1       0.0     1.0       1.0        1.0  26.0     1.0     1.0   \n",
              " 2       0.0     0.0       0.0        1.0  26.0     0.0     0.0   \n",
              " 3       0.0     1.0       1.0        1.0  28.0     1.0     0.0   \n",
              " 4       0.0     0.0       0.0        1.0  29.0     1.0     0.0   \n",
              " \n",
              "    HeartDiseaseorAttack  PhysActivity  Fruits  ...  AnyHealthcare  \\\n",
              " 0                   0.0           1.0     0.0  ...            1.0   \n",
              " 1                   0.0           0.0     1.0  ...            1.0   \n",
              " 2                   0.0           1.0     1.0  ...            1.0   \n",
              " 3                   0.0           1.0     1.0  ...            1.0   \n",
              " 4                   0.0           1.0     1.0  ...            1.0   \n",
              " \n",
              "    NoDocbcCost  GenHlth  MentHlth  PhysHlth  DiffWalk  Sex   Age  Education  \\\n",
              " 0          0.0      3.0       5.0      30.0       0.0  1.0   4.0        6.0   \n",
              " 1          0.0      3.0       0.0       0.0       0.0  1.0  12.0        6.0   \n",
              " 2          0.0      1.0       0.0      10.0       0.0  1.0  13.0        6.0   \n",
              " 3          0.0      3.0       0.0       3.0       0.0  1.0  11.0        6.0   \n",
              " 4          0.0      2.0       0.0       0.0       0.0  0.0   8.0        5.0   \n",
              " \n",
              "    Income  \n",
              " 0     8.0  \n",
              " 1     8.0  \n",
              " 2     8.0  \n",
              " 3     8.0  \n",
              " 4     8.0  \n",
              " \n",
              " [5 rows x 22 columns],\n",
              " (137828, 22))"
            ]
          },
          "metadata": {},
          "execution_count": 3
        }
      ]
    },
    {
      "cell_type": "markdown",
      "source": [
        "# Removing Features\n",
        "\n",
        "Here we remove features deemed irrelevant for modeling purposes. We specify a list of columns to be removed and then drop these columns from the combined DataFrame.\n",
        "\n",
        "We reverse the values of the \"General Health\" feature to make it more clear to the audience when graphed. This makes a value of 5 = \"excellent\" and value of 1 = \"poor\"."
      ],
      "metadata": {
        "id": "L14nD7M7MdeE"
      }
    },
    {
      "cell_type": "code",
      "source": [
        "# Remove irrelevant features from the combined dataset\n",
        "columns_to_remove = [\"CholCheck\", \"AnyHealthcare\", \"NoDocbcCost\", \"Education\", \"Income\"]\n",
        "reduced_df = combined_df.drop(columns=columns_to_remove)\n",
        "\n",
        "# Reverse the values of 'GenHlth'\n",
        "reduced_df[\"GenHlth\"] = 6 - reduced_df[\"GenHlth\"]\n",
        "\n",
        "# Display the first few rows of the reduced dataframe to verify the removal\n",
        "reduced_df.head()"
      ],
      "metadata": {
        "execution": {
          "iopub.status.busy": "2024-03-16T22:11:17.318818Z",
          "iopub.execute_input": "2024-03-16T22:11:17.319304Z",
          "iopub.status.idle": "2024-03-16T22:11:17.364463Z",
          "shell.execute_reply.started": "2024-03-16T22:11:17.319263Z",
          "shell.execute_reply": "2024-03-16T22:11:17.363378Z"
        },
        "trusted": true,
        "id": "bdbV6p2LMdeE",
        "outputId": "91dbb233-0ae5-4d65-9f7e-60f924985a91",
        "colab": {
          "base_uri": "https://localhost:8080/",
          "height": 226
        }
      },
      "execution_count": 4,
      "outputs": [
        {
          "output_type": "execute_result",
          "data": {
            "text/plain": [
              "   Diabetes  HighBP  HighChol   BMI  Smoker  Stroke  HeartDiseaseorAttack  \\\n",
              "0       0.0     1.0       0.0  26.0     0.0     0.0                   0.0   \n",
              "1       0.0     1.0       1.0  26.0     1.0     1.0                   0.0   \n",
              "2       0.0     0.0       0.0  26.0     0.0     0.0                   0.0   \n",
              "3       0.0     1.0       1.0  28.0     1.0     0.0                   0.0   \n",
              "4       0.0     0.0       0.0  29.0     1.0     0.0                   0.0   \n",
              "\n",
              "   PhysActivity  Fruits  Veggies  HvyAlcoholConsump  GenHlth  MentHlth  \\\n",
              "0           1.0     0.0      1.0                0.0      3.0       5.0   \n",
              "1           0.0     1.0      0.0                0.0      3.0       0.0   \n",
              "2           1.0     1.0      1.0                0.0      5.0       0.0   \n",
              "3           1.0     1.0      1.0                0.0      3.0       0.0   \n",
              "4           1.0     1.0      1.0                0.0      4.0       0.0   \n",
              "\n",
              "   PhysHlth  DiffWalk  Sex   Age  \n",
              "0      30.0       0.0  1.0   4.0  \n",
              "1       0.0       0.0  1.0  12.0  \n",
              "2      10.0       0.0  1.0  13.0  \n",
              "3       3.0       0.0  1.0  11.0  \n",
              "4       0.0       0.0  0.0   8.0  "
            ],
            "text/html": [
              "\n",
              "  <div id=\"df-30b2dad8-7791-4ee7-8c8a-f27e762b5c3a\" class=\"colab-df-container\">\n",
              "    <div>\n",
              "<style scoped>\n",
              "    .dataframe tbody tr th:only-of-type {\n",
              "        vertical-align: middle;\n",
              "    }\n",
              "\n",
              "    .dataframe tbody tr th {\n",
              "        vertical-align: top;\n",
              "    }\n",
              "\n",
              "    .dataframe thead th {\n",
              "        text-align: right;\n",
              "    }\n",
              "</style>\n",
              "<table border=\"1\" class=\"dataframe\">\n",
              "  <thead>\n",
              "    <tr style=\"text-align: right;\">\n",
              "      <th></th>\n",
              "      <th>Diabetes</th>\n",
              "      <th>HighBP</th>\n",
              "      <th>HighChol</th>\n",
              "      <th>BMI</th>\n",
              "      <th>Smoker</th>\n",
              "      <th>Stroke</th>\n",
              "      <th>HeartDiseaseorAttack</th>\n",
              "      <th>PhysActivity</th>\n",
              "      <th>Fruits</th>\n",
              "      <th>Veggies</th>\n",
              "      <th>HvyAlcoholConsump</th>\n",
              "      <th>GenHlth</th>\n",
              "      <th>MentHlth</th>\n",
              "      <th>PhysHlth</th>\n",
              "      <th>DiffWalk</th>\n",
              "      <th>Sex</th>\n",
              "      <th>Age</th>\n",
              "    </tr>\n",
              "  </thead>\n",
              "  <tbody>\n",
              "    <tr>\n",
              "      <th>0</th>\n",
              "      <td>0.0</td>\n",
              "      <td>1.0</td>\n",
              "      <td>0.0</td>\n",
              "      <td>26.0</td>\n",
              "      <td>0.0</td>\n",
              "      <td>0.0</td>\n",
              "      <td>0.0</td>\n",
              "      <td>1.0</td>\n",
              "      <td>0.0</td>\n",
              "      <td>1.0</td>\n",
              "      <td>0.0</td>\n",
              "      <td>3.0</td>\n",
              "      <td>5.0</td>\n",
              "      <td>30.0</td>\n",
              "      <td>0.0</td>\n",
              "      <td>1.0</td>\n",
              "      <td>4.0</td>\n",
              "    </tr>\n",
              "    <tr>\n",
              "      <th>1</th>\n",
              "      <td>0.0</td>\n",
              "      <td>1.0</td>\n",
              "      <td>1.0</td>\n",
              "      <td>26.0</td>\n",
              "      <td>1.0</td>\n",
              "      <td>1.0</td>\n",
              "      <td>0.0</td>\n",
              "      <td>0.0</td>\n",
              "      <td>1.0</td>\n",
              "      <td>0.0</td>\n",
              "      <td>0.0</td>\n",
              "      <td>3.0</td>\n",
              "      <td>0.0</td>\n",
              "      <td>0.0</td>\n",
              "      <td>0.0</td>\n",
              "      <td>1.0</td>\n",
              "      <td>12.0</td>\n",
              "    </tr>\n",
              "    <tr>\n",
              "      <th>2</th>\n",
              "      <td>0.0</td>\n",
              "      <td>0.0</td>\n",
              "      <td>0.0</td>\n",
              "      <td>26.0</td>\n",
              "      <td>0.0</td>\n",
              "      <td>0.0</td>\n",
              "      <td>0.0</td>\n",
              "      <td>1.0</td>\n",
              "      <td>1.0</td>\n",
              "      <td>1.0</td>\n",
              "      <td>0.0</td>\n",
              "      <td>5.0</td>\n",
              "      <td>0.0</td>\n",
              "      <td>10.0</td>\n",
              "      <td>0.0</td>\n",
              "      <td>1.0</td>\n",
              "      <td>13.0</td>\n",
              "    </tr>\n",
              "    <tr>\n",
              "      <th>3</th>\n",
              "      <td>0.0</td>\n",
              "      <td>1.0</td>\n",
              "      <td>1.0</td>\n",
              "      <td>28.0</td>\n",
              "      <td>1.0</td>\n",
              "      <td>0.0</td>\n",
              "      <td>0.0</td>\n",
              "      <td>1.0</td>\n",
              "      <td>1.0</td>\n",
              "      <td>1.0</td>\n",
              "      <td>0.0</td>\n",
              "      <td>3.0</td>\n",
              "      <td>0.0</td>\n",
              "      <td>3.0</td>\n",
              "      <td>0.0</td>\n",
              "      <td>1.0</td>\n",
              "      <td>11.0</td>\n",
              "    </tr>\n",
              "    <tr>\n",
              "      <th>4</th>\n",
              "      <td>0.0</td>\n",
              "      <td>0.0</td>\n",
              "      <td>0.0</td>\n",
              "      <td>29.0</td>\n",
              "      <td>1.0</td>\n",
              "      <td>0.0</td>\n",
              "      <td>0.0</td>\n",
              "      <td>1.0</td>\n",
              "      <td>1.0</td>\n",
              "      <td>1.0</td>\n",
              "      <td>0.0</td>\n",
              "      <td>4.0</td>\n",
              "      <td>0.0</td>\n",
              "      <td>0.0</td>\n",
              "      <td>0.0</td>\n",
              "      <td>0.0</td>\n",
              "      <td>8.0</td>\n",
              "    </tr>\n",
              "  </tbody>\n",
              "</table>\n",
              "</div>\n",
              "    <div class=\"colab-df-buttons\">\n",
              "\n",
              "  <div class=\"colab-df-container\">\n",
              "    <button class=\"colab-df-convert\" onclick=\"convertToInteractive('df-30b2dad8-7791-4ee7-8c8a-f27e762b5c3a')\"\n",
              "            title=\"Convert this dataframe to an interactive table.\"\n",
              "            style=\"display:none;\">\n",
              "\n",
              "  <svg xmlns=\"http://www.w3.org/2000/svg\" height=\"24px\" viewBox=\"0 -960 960 960\">\n",
              "    <path d=\"M120-120v-720h720v720H120Zm60-500h600v-160H180v160Zm220 220h160v-160H400v160Zm0 220h160v-160H400v160ZM180-400h160v-160H180v160Zm440 0h160v-160H620v160ZM180-180h160v-160H180v160Zm440 0h160v-160H620v160Z\"/>\n",
              "  </svg>\n",
              "    </button>\n",
              "\n",
              "  <style>\n",
              "    .colab-df-container {\n",
              "      display:flex;\n",
              "      gap: 12px;\n",
              "    }\n",
              "\n",
              "    .colab-df-convert {\n",
              "      background-color: #E8F0FE;\n",
              "      border: none;\n",
              "      border-radius: 50%;\n",
              "      cursor: pointer;\n",
              "      display: none;\n",
              "      fill: #1967D2;\n",
              "      height: 32px;\n",
              "      padding: 0 0 0 0;\n",
              "      width: 32px;\n",
              "    }\n",
              "\n",
              "    .colab-df-convert:hover {\n",
              "      background-color: #E2EBFA;\n",
              "      box-shadow: 0px 1px 2px rgba(60, 64, 67, 0.3), 0px 1px 3px 1px rgba(60, 64, 67, 0.15);\n",
              "      fill: #174EA6;\n",
              "    }\n",
              "\n",
              "    .colab-df-buttons div {\n",
              "      margin-bottom: 4px;\n",
              "    }\n",
              "\n",
              "    [theme=dark] .colab-df-convert {\n",
              "      background-color: #3B4455;\n",
              "      fill: #D2E3FC;\n",
              "    }\n",
              "\n",
              "    [theme=dark] .colab-df-convert:hover {\n",
              "      background-color: #434B5C;\n",
              "      box-shadow: 0px 1px 3px 1px rgba(0, 0, 0, 0.15);\n",
              "      filter: drop-shadow(0px 1px 2px rgba(0, 0, 0, 0.3));\n",
              "      fill: #FFFFFF;\n",
              "    }\n",
              "  </style>\n",
              "\n",
              "    <script>\n",
              "      const buttonEl =\n",
              "        document.querySelector('#df-30b2dad8-7791-4ee7-8c8a-f27e762b5c3a button.colab-df-convert');\n",
              "      buttonEl.style.display =\n",
              "        google.colab.kernel.accessAllowed ? 'block' : 'none';\n",
              "\n",
              "      async function convertToInteractive(key) {\n",
              "        const element = document.querySelector('#df-30b2dad8-7791-4ee7-8c8a-f27e762b5c3a');\n",
              "        const dataTable =\n",
              "          await google.colab.kernel.invokeFunction('convertToInteractive',\n",
              "                                                    [key], {});\n",
              "        if (!dataTable) return;\n",
              "\n",
              "        const docLinkHtml = 'Like what you see? Visit the ' +\n",
              "          '<a target=\"_blank\" href=https://colab.research.google.com/notebooks/data_table.ipynb>data table notebook</a>'\n",
              "          + ' to learn more about interactive tables.';\n",
              "        element.innerHTML = '';\n",
              "        dataTable['output_type'] = 'display_data';\n",
              "        await google.colab.output.renderOutput(dataTable, element);\n",
              "        const docLink = document.createElement('div');\n",
              "        docLink.innerHTML = docLinkHtml;\n",
              "        element.appendChild(docLink);\n",
              "      }\n",
              "    </script>\n",
              "  </div>\n",
              "\n",
              "\n",
              "<div id=\"df-52dac4dd-b7b3-4626-ab73-9a0d703462f1\">\n",
              "  <button class=\"colab-df-quickchart\" onclick=\"quickchart('df-52dac4dd-b7b3-4626-ab73-9a0d703462f1')\"\n",
              "            title=\"Suggest charts\"\n",
              "            style=\"display:none;\">\n",
              "\n",
              "<svg xmlns=\"http://www.w3.org/2000/svg\" height=\"24px\"viewBox=\"0 0 24 24\"\n",
              "     width=\"24px\">\n",
              "    <g>\n",
              "        <path d=\"M19 3H5c-1.1 0-2 .9-2 2v14c0 1.1.9 2 2 2h14c1.1 0 2-.9 2-2V5c0-1.1-.9-2-2-2zM9 17H7v-7h2v7zm4 0h-2V7h2v10zm4 0h-2v-4h2v4z\"/>\n",
              "    </g>\n",
              "</svg>\n",
              "  </button>\n",
              "\n",
              "<style>\n",
              "  .colab-df-quickchart {\n",
              "      --bg-color: #E8F0FE;\n",
              "      --fill-color: #1967D2;\n",
              "      --hover-bg-color: #E2EBFA;\n",
              "      --hover-fill-color: #174EA6;\n",
              "      --disabled-fill-color: #AAA;\n",
              "      --disabled-bg-color: #DDD;\n",
              "  }\n",
              "\n",
              "  [theme=dark] .colab-df-quickchart {\n",
              "      --bg-color: #3B4455;\n",
              "      --fill-color: #D2E3FC;\n",
              "      --hover-bg-color: #434B5C;\n",
              "      --hover-fill-color: #FFFFFF;\n",
              "      --disabled-bg-color: #3B4455;\n",
              "      --disabled-fill-color: #666;\n",
              "  }\n",
              "\n",
              "  .colab-df-quickchart {\n",
              "    background-color: var(--bg-color);\n",
              "    border: none;\n",
              "    border-radius: 50%;\n",
              "    cursor: pointer;\n",
              "    display: none;\n",
              "    fill: var(--fill-color);\n",
              "    height: 32px;\n",
              "    padding: 0;\n",
              "    width: 32px;\n",
              "  }\n",
              "\n",
              "  .colab-df-quickchart:hover {\n",
              "    background-color: var(--hover-bg-color);\n",
              "    box-shadow: 0 1px 2px rgba(60, 64, 67, 0.3), 0 1px 3px 1px rgba(60, 64, 67, 0.15);\n",
              "    fill: var(--button-hover-fill-color);\n",
              "  }\n",
              "\n",
              "  .colab-df-quickchart-complete:disabled,\n",
              "  .colab-df-quickchart-complete:disabled:hover {\n",
              "    background-color: var(--disabled-bg-color);\n",
              "    fill: var(--disabled-fill-color);\n",
              "    box-shadow: none;\n",
              "  }\n",
              "\n",
              "  .colab-df-spinner {\n",
              "    border: 2px solid var(--fill-color);\n",
              "    border-color: transparent;\n",
              "    border-bottom-color: var(--fill-color);\n",
              "    animation:\n",
              "      spin 1s steps(1) infinite;\n",
              "  }\n",
              "\n",
              "  @keyframes spin {\n",
              "    0% {\n",
              "      border-color: transparent;\n",
              "      border-bottom-color: var(--fill-color);\n",
              "      border-left-color: var(--fill-color);\n",
              "    }\n",
              "    20% {\n",
              "      border-color: transparent;\n",
              "      border-left-color: var(--fill-color);\n",
              "      border-top-color: var(--fill-color);\n",
              "    }\n",
              "    30% {\n",
              "      border-color: transparent;\n",
              "      border-left-color: var(--fill-color);\n",
              "      border-top-color: var(--fill-color);\n",
              "      border-right-color: var(--fill-color);\n",
              "    }\n",
              "    40% {\n",
              "      border-color: transparent;\n",
              "      border-right-color: var(--fill-color);\n",
              "      border-top-color: var(--fill-color);\n",
              "    }\n",
              "    60% {\n",
              "      border-color: transparent;\n",
              "      border-right-color: var(--fill-color);\n",
              "    }\n",
              "    80% {\n",
              "      border-color: transparent;\n",
              "      border-right-color: var(--fill-color);\n",
              "      border-bottom-color: var(--fill-color);\n",
              "    }\n",
              "    90% {\n",
              "      border-color: transparent;\n",
              "      border-bottom-color: var(--fill-color);\n",
              "    }\n",
              "  }\n",
              "</style>\n",
              "\n",
              "  <script>\n",
              "    async function quickchart(key) {\n",
              "      const quickchartButtonEl =\n",
              "        document.querySelector('#' + key + ' button');\n",
              "      quickchartButtonEl.disabled = true;  // To prevent multiple clicks.\n",
              "      quickchartButtonEl.classList.add('colab-df-spinner');\n",
              "      try {\n",
              "        const charts = await google.colab.kernel.invokeFunction(\n",
              "            'suggestCharts', [key], {});\n",
              "      } catch (error) {\n",
              "        console.error('Error during call to suggestCharts:', error);\n",
              "      }\n",
              "      quickchartButtonEl.classList.remove('colab-df-spinner');\n",
              "      quickchartButtonEl.classList.add('colab-df-quickchart-complete');\n",
              "    }\n",
              "    (() => {\n",
              "      let quickchartButtonEl =\n",
              "        document.querySelector('#df-52dac4dd-b7b3-4626-ab73-9a0d703462f1 button');\n",
              "      quickchartButtonEl.style.display =\n",
              "        google.colab.kernel.accessAllowed ? 'block' : 'none';\n",
              "    })();\n",
              "  </script>\n",
              "</div>\n",
              "    </div>\n",
              "  </div>\n"
            ],
            "application/vnd.google.colaboratory.intrinsic+json": {
              "type": "dataframe",
              "variable_name": "reduced_df"
            }
          },
          "metadata": {},
          "execution_count": 4
        }
      ]
    },
    {
      "cell_type": "markdown",
      "source": [
        "# Check for Missing Values\n",
        "\n",
        "Here we check for missing values in the combined dataset. Note there are *NO* missing values found."
      ],
      "metadata": {
        "id": "ofFxwF3WMdeE"
      }
    },
    {
      "cell_type": "code",
      "source": [
        "# Check for missing values in the reduced dataset\n",
        "missing_values = reduced_df.isnull().sum()\n",
        "\n",
        "missing_values  ## no missing values found"
      ],
      "metadata": {
        "execution": {
          "iopub.status.busy": "2024-03-16T22:11:17.365698Z",
          "iopub.execute_input": "2024-03-16T22:11:17.365983Z",
          "iopub.status.idle": "2024-03-16T22:11:17.380326Z",
          "shell.execute_reply.started": "2024-03-16T22:11:17.365959Z",
          "shell.execute_reply": "2024-03-16T22:11:17.379321Z"
        },
        "trusted": true,
        "id": "A-c43dsGMdeF",
        "outputId": "556b1854-9692-4ccc-af26-3dce8591a319",
        "colab": {
          "base_uri": "https://localhost:8080/"
        }
      },
      "execution_count": 5,
      "outputs": [
        {
          "output_type": "execute_result",
          "data": {
            "text/plain": [
              "Diabetes                0\n",
              "HighBP                  0\n",
              "HighChol                0\n",
              "BMI                     0\n",
              "Smoker                  0\n",
              "Stroke                  0\n",
              "HeartDiseaseorAttack    0\n",
              "PhysActivity            0\n",
              "Fruits                  0\n",
              "Veggies                 0\n",
              "HvyAlcoholConsump       0\n",
              "GenHlth                 0\n",
              "MentHlth                0\n",
              "PhysHlth                0\n",
              "DiffWalk                0\n",
              "Sex                     0\n",
              "Age                     0\n",
              "dtype: int64"
            ]
          },
          "metadata": {},
          "execution_count": 5
        }
      ]
    },
    {
      "cell_type": "markdown",
      "source": [
        "# Data Type Optimization Analysis\n",
        "\n",
        "Here we perform a preliminary analysis aimed at optimizing data storage and processing efficiency by examining the range of values for selected features within the reduced dataset. Here we see that all numerical values are well within the range of an 8-bit integer (this dataset has no numbers with decimal values).\n",
        "\n",
        "We also calculate the memory used before we adjust the data types-- this is our baseline for memory usage."
      ],
      "metadata": {
        "id": "mvDnkUw7MdeG"
      }
    },
    {
      "cell_type": "code",
      "source": [
        "# Check range of values of specified features to determine suitable data types\n",
        "features_to_optimize = [\"BMI\", \"GenHlth\", \"MentHlth\", \"PhysHlth\", \"Age\"]\n",
        "data_types_optimization = (\n",
        "    reduced_df[features_to_optimize].describe().loc[[\"min\", \"max\"]]\n",
        ")\n",
        "\n",
        "# Memory used before reducing data types\n",
        "memory_before = reduced_df.memory_usage(index=True).sum()\n",
        "\n",
        "data_types_optimization"
      ],
      "metadata": {
        "execution": {
          "iopub.status.busy": "2024-03-16T22:11:17.383826Z",
          "iopub.execute_input": "2024-03-16T22:11:17.38423Z",
          "iopub.status.idle": "2024-03-16T22:11:17.448051Z",
          "shell.execute_reply.started": "2024-03-16T22:11:17.384201Z",
          "shell.execute_reply": "2024-03-16T22:11:17.447249Z"
        },
        "trusted": true,
        "id": "4e-9YBffMdeH",
        "outputId": "ac7a0e79-32fd-4246-9e85-da9bf35c8680",
        "colab": {
          "base_uri": "https://localhost:8080/",
          "height": 112
        }
      },
      "execution_count": 6,
      "outputs": [
        {
          "output_type": "execute_result",
          "data": {
            "text/plain": [
              "      BMI  GenHlth  MentHlth  PhysHlth   Age\n",
              "min  12.0      1.0       0.0       0.0   1.0\n",
              "max  99.0      5.0      30.0      30.0  13.0"
            ],
            "text/html": [
              "\n",
              "  <div id=\"df-347c7281-2da0-4b26-a93f-e16fa6bb079f\" class=\"colab-df-container\">\n",
              "    <div>\n",
              "<style scoped>\n",
              "    .dataframe tbody tr th:only-of-type {\n",
              "        vertical-align: middle;\n",
              "    }\n",
              "\n",
              "    .dataframe tbody tr th {\n",
              "        vertical-align: top;\n",
              "    }\n",
              "\n",
              "    .dataframe thead th {\n",
              "        text-align: right;\n",
              "    }\n",
              "</style>\n",
              "<table border=\"1\" class=\"dataframe\">\n",
              "  <thead>\n",
              "    <tr style=\"text-align: right;\">\n",
              "      <th></th>\n",
              "      <th>BMI</th>\n",
              "      <th>GenHlth</th>\n",
              "      <th>MentHlth</th>\n",
              "      <th>PhysHlth</th>\n",
              "      <th>Age</th>\n",
              "    </tr>\n",
              "  </thead>\n",
              "  <tbody>\n",
              "    <tr>\n",
              "      <th>min</th>\n",
              "      <td>12.0</td>\n",
              "      <td>1.0</td>\n",
              "      <td>0.0</td>\n",
              "      <td>0.0</td>\n",
              "      <td>1.0</td>\n",
              "    </tr>\n",
              "    <tr>\n",
              "      <th>max</th>\n",
              "      <td>99.0</td>\n",
              "      <td>5.0</td>\n",
              "      <td>30.0</td>\n",
              "      <td>30.0</td>\n",
              "      <td>13.0</td>\n",
              "    </tr>\n",
              "  </tbody>\n",
              "</table>\n",
              "</div>\n",
              "    <div class=\"colab-df-buttons\">\n",
              "\n",
              "  <div class=\"colab-df-container\">\n",
              "    <button class=\"colab-df-convert\" onclick=\"convertToInteractive('df-347c7281-2da0-4b26-a93f-e16fa6bb079f')\"\n",
              "            title=\"Convert this dataframe to an interactive table.\"\n",
              "            style=\"display:none;\">\n",
              "\n",
              "  <svg xmlns=\"http://www.w3.org/2000/svg\" height=\"24px\" viewBox=\"0 -960 960 960\">\n",
              "    <path d=\"M120-120v-720h720v720H120Zm60-500h600v-160H180v160Zm220 220h160v-160H400v160Zm0 220h160v-160H400v160ZM180-400h160v-160H180v160Zm440 0h160v-160H620v160ZM180-180h160v-160H180v160Zm440 0h160v-160H620v160Z\"/>\n",
              "  </svg>\n",
              "    </button>\n",
              "\n",
              "  <style>\n",
              "    .colab-df-container {\n",
              "      display:flex;\n",
              "      gap: 12px;\n",
              "    }\n",
              "\n",
              "    .colab-df-convert {\n",
              "      background-color: #E8F0FE;\n",
              "      border: none;\n",
              "      border-radius: 50%;\n",
              "      cursor: pointer;\n",
              "      display: none;\n",
              "      fill: #1967D2;\n",
              "      height: 32px;\n",
              "      padding: 0 0 0 0;\n",
              "      width: 32px;\n",
              "    }\n",
              "\n",
              "    .colab-df-convert:hover {\n",
              "      background-color: #E2EBFA;\n",
              "      box-shadow: 0px 1px 2px rgba(60, 64, 67, 0.3), 0px 1px 3px 1px rgba(60, 64, 67, 0.15);\n",
              "      fill: #174EA6;\n",
              "    }\n",
              "\n",
              "    .colab-df-buttons div {\n",
              "      margin-bottom: 4px;\n",
              "    }\n",
              "\n",
              "    [theme=dark] .colab-df-convert {\n",
              "      background-color: #3B4455;\n",
              "      fill: #D2E3FC;\n",
              "    }\n",
              "\n",
              "    [theme=dark] .colab-df-convert:hover {\n",
              "      background-color: #434B5C;\n",
              "      box-shadow: 0px 1px 3px 1px rgba(0, 0, 0, 0.15);\n",
              "      filter: drop-shadow(0px 1px 2px rgba(0, 0, 0, 0.3));\n",
              "      fill: #FFFFFF;\n",
              "    }\n",
              "  </style>\n",
              "\n",
              "    <script>\n",
              "      const buttonEl =\n",
              "        document.querySelector('#df-347c7281-2da0-4b26-a93f-e16fa6bb079f button.colab-df-convert');\n",
              "      buttonEl.style.display =\n",
              "        google.colab.kernel.accessAllowed ? 'block' : 'none';\n",
              "\n",
              "      async function convertToInteractive(key) {\n",
              "        const element = document.querySelector('#df-347c7281-2da0-4b26-a93f-e16fa6bb079f');\n",
              "        const dataTable =\n",
              "          await google.colab.kernel.invokeFunction('convertToInteractive',\n",
              "                                                    [key], {});\n",
              "        if (!dataTable) return;\n",
              "\n",
              "        const docLinkHtml = 'Like what you see? Visit the ' +\n",
              "          '<a target=\"_blank\" href=https://colab.research.google.com/notebooks/data_table.ipynb>data table notebook</a>'\n",
              "          + ' to learn more about interactive tables.';\n",
              "        element.innerHTML = '';\n",
              "        dataTable['output_type'] = 'display_data';\n",
              "        await google.colab.output.renderOutput(dataTable, element);\n",
              "        const docLink = document.createElement('div');\n",
              "        docLink.innerHTML = docLinkHtml;\n",
              "        element.appendChild(docLink);\n",
              "      }\n",
              "    </script>\n",
              "  </div>\n",
              "\n",
              "\n",
              "<div id=\"df-bfda6545-95f7-417c-a475-60a356fbd37c\">\n",
              "  <button class=\"colab-df-quickchart\" onclick=\"quickchart('df-bfda6545-95f7-417c-a475-60a356fbd37c')\"\n",
              "            title=\"Suggest charts\"\n",
              "            style=\"display:none;\">\n",
              "\n",
              "<svg xmlns=\"http://www.w3.org/2000/svg\" height=\"24px\"viewBox=\"0 0 24 24\"\n",
              "     width=\"24px\">\n",
              "    <g>\n",
              "        <path d=\"M19 3H5c-1.1 0-2 .9-2 2v14c0 1.1.9 2 2 2h14c1.1 0 2-.9 2-2V5c0-1.1-.9-2-2-2zM9 17H7v-7h2v7zm4 0h-2V7h2v10zm4 0h-2v-4h2v4z\"/>\n",
              "    </g>\n",
              "</svg>\n",
              "  </button>\n",
              "\n",
              "<style>\n",
              "  .colab-df-quickchart {\n",
              "      --bg-color: #E8F0FE;\n",
              "      --fill-color: #1967D2;\n",
              "      --hover-bg-color: #E2EBFA;\n",
              "      --hover-fill-color: #174EA6;\n",
              "      --disabled-fill-color: #AAA;\n",
              "      --disabled-bg-color: #DDD;\n",
              "  }\n",
              "\n",
              "  [theme=dark] .colab-df-quickchart {\n",
              "      --bg-color: #3B4455;\n",
              "      --fill-color: #D2E3FC;\n",
              "      --hover-bg-color: #434B5C;\n",
              "      --hover-fill-color: #FFFFFF;\n",
              "      --disabled-bg-color: #3B4455;\n",
              "      --disabled-fill-color: #666;\n",
              "  }\n",
              "\n",
              "  .colab-df-quickchart {\n",
              "    background-color: var(--bg-color);\n",
              "    border: none;\n",
              "    border-radius: 50%;\n",
              "    cursor: pointer;\n",
              "    display: none;\n",
              "    fill: var(--fill-color);\n",
              "    height: 32px;\n",
              "    padding: 0;\n",
              "    width: 32px;\n",
              "  }\n",
              "\n",
              "  .colab-df-quickchart:hover {\n",
              "    background-color: var(--hover-bg-color);\n",
              "    box-shadow: 0 1px 2px rgba(60, 64, 67, 0.3), 0 1px 3px 1px rgba(60, 64, 67, 0.15);\n",
              "    fill: var(--button-hover-fill-color);\n",
              "  }\n",
              "\n",
              "  .colab-df-quickchart-complete:disabled,\n",
              "  .colab-df-quickchart-complete:disabled:hover {\n",
              "    background-color: var(--disabled-bg-color);\n",
              "    fill: var(--disabled-fill-color);\n",
              "    box-shadow: none;\n",
              "  }\n",
              "\n",
              "  .colab-df-spinner {\n",
              "    border: 2px solid var(--fill-color);\n",
              "    border-color: transparent;\n",
              "    border-bottom-color: var(--fill-color);\n",
              "    animation:\n",
              "      spin 1s steps(1) infinite;\n",
              "  }\n",
              "\n",
              "  @keyframes spin {\n",
              "    0% {\n",
              "      border-color: transparent;\n",
              "      border-bottom-color: var(--fill-color);\n",
              "      border-left-color: var(--fill-color);\n",
              "    }\n",
              "    20% {\n",
              "      border-color: transparent;\n",
              "      border-left-color: var(--fill-color);\n",
              "      border-top-color: var(--fill-color);\n",
              "    }\n",
              "    30% {\n",
              "      border-color: transparent;\n",
              "      border-left-color: var(--fill-color);\n",
              "      border-top-color: var(--fill-color);\n",
              "      border-right-color: var(--fill-color);\n",
              "    }\n",
              "    40% {\n",
              "      border-color: transparent;\n",
              "      border-right-color: var(--fill-color);\n",
              "      border-top-color: var(--fill-color);\n",
              "    }\n",
              "    60% {\n",
              "      border-color: transparent;\n",
              "      border-right-color: var(--fill-color);\n",
              "    }\n",
              "    80% {\n",
              "      border-color: transparent;\n",
              "      border-right-color: var(--fill-color);\n",
              "      border-bottom-color: var(--fill-color);\n",
              "    }\n",
              "    90% {\n",
              "      border-color: transparent;\n",
              "      border-bottom-color: var(--fill-color);\n",
              "    }\n",
              "  }\n",
              "</style>\n",
              "\n",
              "  <script>\n",
              "    async function quickchart(key) {\n",
              "      const quickchartButtonEl =\n",
              "        document.querySelector('#' + key + ' button');\n",
              "      quickchartButtonEl.disabled = true;  // To prevent multiple clicks.\n",
              "      quickchartButtonEl.classList.add('colab-df-spinner');\n",
              "      try {\n",
              "        const charts = await google.colab.kernel.invokeFunction(\n",
              "            'suggestCharts', [key], {});\n",
              "      } catch (error) {\n",
              "        console.error('Error during call to suggestCharts:', error);\n",
              "      }\n",
              "      quickchartButtonEl.classList.remove('colab-df-spinner');\n",
              "      quickchartButtonEl.classList.add('colab-df-quickchart-complete');\n",
              "    }\n",
              "    (() => {\n",
              "      let quickchartButtonEl =\n",
              "        document.querySelector('#df-bfda6545-95f7-417c-a475-60a356fbd37c button');\n",
              "      quickchartButtonEl.style.display =\n",
              "        google.colab.kernel.accessAllowed ? 'block' : 'none';\n",
              "    })();\n",
              "  </script>\n",
              "</div>\n",
              "    </div>\n",
              "  </div>\n"
            ],
            "application/vnd.google.colaboratory.intrinsic+json": {
              "type": "dataframe",
              "variable_name": "data_types_optimization",
              "summary": "{\n  \"name\": \"data_types_optimization\",\n  \"rows\": 2,\n  \"fields\": [\n    {\n      \"column\": \"BMI\",\n      \"properties\": {\n        \"dtype\": \"number\",\n        \"std\": 61.518289963229634,\n        \"min\": 12.0,\n        \"max\": 99.0,\n        \"num_unique_values\": 2,\n        \"samples\": [\n          99.0,\n          12.0\n        ],\n        \"semantic_type\": \"\",\n        \"description\": \"\"\n      }\n    },\n    {\n      \"column\": \"GenHlth\",\n      \"properties\": {\n        \"dtype\": \"number\",\n        \"std\": 2.8284271247461903,\n        \"min\": 1.0,\n        \"max\": 5.0,\n        \"num_unique_values\": 2,\n        \"samples\": [\n          5.0,\n          1.0\n        ],\n        \"semantic_type\": \"\",\n        \"description\": \"\"\n      }\n    },\n    {\n      \"column\": \"MentHlth\",\n      \"properties\": {\n        \"dtype\": \"number\",\n        \"std\": 21.213203435596427,\n        \"min\": 0.0,\n        \"max\": 30.0,\n        \"num_unique_values\": 2,\n        \"samples\": [\n          30.0,\n          0.0\n        ],\n        \"semantic_type\": \"\",\n        \"description\": \"\"\n      }\n    },\n    {\n      \"column\": \"PhysHlth\",\n      \"properties\": {\n        \"dtype\": \"number\",\n        \"std\": 21.213203435596427,\n        \"min\": 0.0,\n        \"max\": 30.0,\n        \"num_unique_values\": 2,\n        \"samples\": [\n          30.0,\n          0.0\n        ],\n        \"semantic_type\": \"\",\n        \"description\": \"\"\n      }\n    },\n    {\n      \"column\": \"Age\",\n      \"properties\": {\n        \"dtype\": \"number\",\n        \"std\": 8.48528137423857,\n        \"min\": 1.0,\n        \"max\": 13.0,\n        \"num_unique_values\": 2,\n        \"samples\": [\n          13.0,\n          1.0\n        ],\n        \"semantic_type\": \"\",\n        \"description\": \"\"\n      }\n    }\n  ]\n}"
            }
          },
          "metadata": {},
          "execution_count": 6
        }
      ]
    },
    {
      "cell_type": "markdown",
      "source": [
        "# Data Type Conversion for Efficiency\n",
        "\n",
        "We enhance the dataset's memory efficiency by converting specified binary columns to boolean data types. We print the memory usage before and after the operation to demonstrate the effectiveness of this optimization in reducing the dataset's memory consumption."
      ],
      "metadata": {
        "id": "wEKt73JqMdeI"
      }
    },
    {
      "cell_type": "code",
      "source": [
        "# scale data types down to reduce memory footprint\n",
        "reduced_df[\"BMI\"] = reduced_df[\"BMI\"].astype(\"float32\")\n",
        "reduced_df[\"GenHlth\"] = reduced_df[\"GenHlth\"].astype(\"int8\")\n",
        "reduced_df[\"MentHlth\"] = reduced_df[\"MentHlth\"].astype(\"int8\")\n",
        "reduced_df[\"PhysHlth\"] = reduced_df[\"PhysHlth\"].astype(\"int8\")\n",
        "reduced_df[\"Age\"] = reduced_df[\"Age\"].astype(\"int8\")\n",
        "\n",
        "# convert 1/0 binary columns to boolean values\n",
        "binary_columns = [\n",
        "    \"Diabetes\",\n",
        "    \"HighBP\",\n",
        "    \"HighChol\",\n",
        "    \"Smoker\",\n",
        "    \"Stroke\",\n",
        "    \"HeartDiseaseorAttack\",\n",
        "    \"PhysActivity\",\n",
        "    \"Fruits\",\n",
        "    \"Veggies\",\n",
        "    \"HvyAlcoholConsump\",\n",
        "    \"DiffWalk\",\n",
        "    \"Sex\",\n",
        "]\n",
        "for column in binary_columns:\n",
        "    reduced_df[column] = reduced_df[column].astype(\"bool\")\n",
        "\n",
        "# memory size after data type reduction\n",
        "memory_after = reduced_df.memory_usage(index=True).sum()\n",
        "\n",
        "print(\"Dataframe memory used before:\", memory_before)\n",
        "print(\"Dataframe memory used after:  \", memory_after)"
      ],
      "metadata": {
        "jupyter": {
          "source_hidden": true
        },
        "execution": {
          "iopub.status.busy": "2024-03-16T22:11:17.450513Z",
          "iopub.execute_input": "2024-03-16T22:11:17.451158Z",
          "iopub.status.idle": "2024-03-16T22:11:17.474581Z",
          "shell.execute_reply.started": "2024-03-16T22:11:17.451128Z",
          "shell.execute_reply": "2024-03-16T22:11:17.473388Z"
        },
        "trusted": true,
        "id": "GHcsaBPyMdeI",
        "outputId": "cc56f3bd-6d8b-4695-a77a-6f3e66dc7cbd",
        "colab": {
          "base_uri": "https://localhost:8080/"
        }
      },
      "execution_count": 7,
      "outputs": [
        {
          "output_type": "stream",
          "name": "stdout",
          "text": [
            "Dataframe memory used before: 18744736\n",
            "Dataframe memory used after:   2756688\n"
          ]
        }
      ]
    },
    {
      "cell_type": "markdown",
      "source": [
        "# Logistic Regression Model for Diabetes Prediction\n",
        "\n",
        "Here we prepare data for machine learning, specifically using a logistic regression model to predict diabetes. First, numerical columns are identified and scaled using MinMaxScaler to ensure all features contribute equally to the model without bias from varying scales. A logistic regression model is then initialized with specific parameters. The dataset is split into features (X_log) and the target variable (y_log). The data is further divided into training and test sets to evaluate the model's performance on unseen data.\n",
        "\n",
        "After training the logistic regression model, predictions are made on the test set. The model's effectiveness is assessed using accuracy, confusion matrix, and classification report, providing a comprehensive overview of its predictive capabilities in distinguishing between diabetic and non-diabetic individuals."
      ],
      "metadata": {
        "id": "Cb56yC3JMdeI"
      }
    },
    {
      "cell_type": "code",
      "source": [
        "# copy Dataframe for Logistic model\n",
        "log_df = reduced_df.copy(deep=True)\n",
        "\n",
        "# Selecting numerical columns (excluding binary/boolean columns)\n",
        "numerical_columns = [\"BMI\", \"GenHlth\", \"MentHlth\", \"PhysHlth\", \"Age\"]\n",
        "\n",
        "# Initialize the MinMaxScaler\n",
        "scaler = MinMaxScaler()\n",
        "\n",
        "# Fit and transform the numerical features\n",
        "log_df[numerical_columns] = scaler.fit_transform(log_df[numerical_columns])\n",
        "\n",
        "mylog_model = linear_model.LogisticRegression(solver=\"saga\", max_iter=1000)\n",
        "\n",
        "# 'X' is the feature set and 'y' is the target variable\n",
        "X_log = log_df.drop(\"Diabetes\", axis=1)\n",
        "y_log = log_df[\"Diabetes\"].astype(\"bool\")  # Ensuring the target is boolean\n",
        "\n",
        "# Splitting the dataset into the Training set and Test set\n",
        "X_log_train, X_log_test, y_log_train, y_log_test = model_selection.train_test_split(\n",
        "    X_log, y_log, test_size=0.25, random_state=42\n",
        ")\n",
        "\n",
        "# Train the model and output prediction of test data\n",
        "mylog_model.fit(X_log_train, y_log_train)\n",
        "y_pred_log = mylog_model.predict(X_log_test)\n",
        "\n",
        "# Evaluate the model\n",
        "accuracy_log = accuracy_score(y_log_test, y_pred_log)\n",
        "conf_matrix_log = confusion_matrix(y_log_test, y_pred_log)\n",
        "class_report_log = classification_report(y_log_test, y_pred_log)\n",
        "\n",
        "print(\"\\nLogistic Regression (single) prediction results:\", \"\\n\")\n",
        "print(f\"Accuracy: {round(accuracy_log*100,2)} %\", \"\\n\")\n",
        "print(\"Confusion Matrix:\")\n",
        "print(conf_matrix_log, \"\\n\")\n",
        "print(\"Classification Report:\")\n",
        "print(class_report_log)"
      ],
      "metadata": {
        "tags": [],
        "execution": {
          "iopub.status.busy": "2024-03-16T22:11:17.47591Z",
          "iopub.execute_input": "2024-03-16T22:11:17.47622Z",
          "iopub.status.idle": "2024-03-16T22:11:18.508659Z",
          "shell.execute_reply.started": "2024-03-16T22:11:17.476194Z",
          "shell.execute_reply": "2024-03-16T22:11:18.507569Z"
        },
        "trusted": true,
        "id": "JxxgKGq1MdeJ",
        "outputId": "d21b7819-3ab9-40af-fd77-6a018f4eb3af",
        "colab": {
          "base_uri": "https://localhost:8080/"
        }
      },
      "execution_count": 8,
      "outputs": [
        {
          "output_type": "stream",
          "name": "stdout",
          "text": [
            "\n",
            "Logistic Regression (single) prediction results: \n",
            "\n",
            "Accuracy: 74.59 % \n",
            "\n",
            "Confusion Matrix:\n",
            "[[12557  4656]\n",
            " [ 4101 13143]] \n",
            "\n",
            "Classification Report:\n",
            "              precision    recall  f1-score   support\n",
            "\n",
            "       False       0.75      0.73      0.74     17213\n",
            "        True       0.74      0.76      0.75     17244\n",
            "\n",
            "    accuracy                           0.75     34457\n",
            "   macro avg       0.75      0.75      0.75     34457\n",
            "weighted avg       0.75      0.75      0.75     34457\n",
            "\n"
          ]
        }
      ]
    },
    {
      "cell_type": "markdown",
      "source": [
        "# Exporting the Model\n",
        "\n",
        "To save the trained model, we can use the joblib library. Here we show how to save and load the model."
      ],
      "metadata": {
        "id": "MXe4PtXVMdeJ"
      }
    },
    {
      "cell_type": "code",
      "source": [
        "import joblib\n",
        "\n",
        "# Save the model to a file\n",
        "joblib.dump(mylog_model, 'diabetes-classifier-log_model.pkl')\n",
        "\n",
        "# Later, load the model from the file with the following:\n",
        "# mylog_model = joblib.load('my_model_filename.pkl')"
      ],
      "metadata": {
        "execution": {
          "iopub.status.busy": "2024-03-16T22:11:18.510141Z",
          "iopub.execute_input": "2024-03-16T22:11:18.511293Z",
          "iopub.status.idle": "2024-03-16T22:11:18.520971Z",
          "shell.execute_reply.started": "2024-03-16T22:11:18.51125Z",
          "shell.execute_reply": "2024-03-16T22:11:18.519579Z"
        },
        "trusted": true,
        "id": "sHEWyYjbMdeK",
        "outputId": "b3eb2d65-3509-469f-a044-b7bb1cba3ffa",
        "colab": {
          "base_uri": "https://localhost:8080/"
        }
      },
      "execution_count": 9,
      "outputs": [
        {
          "output_type": "execute_result",
          "data": {
            "text/plain": [
              "['diabetes-classifier-log_model.pkl']"
            ]
          },
          "metadata": {},
          "execution_count": 9
        }
      ]
    },
    {
      "cell_type": "markdown",
      "source": [
        "# Patient Outcome Prediction\n",
        "\n",
        "This here is the objective of this project: to predict whether or not a patient is at risk of diabetes. The user enters the various health indicators, clicks the button and gets a prediction printed below.\n",
        "\n",
        "### Age Category-number to Year-range\n",
        "\n",
        "|*Category*|1|2|3|4|5|6|7|8|9|10|11|12|13|\n",
        "|--|--|--|--|--|--|--|--|--|--|--|--|--|--|\n",
        "|***Age range***|18-24|25-29|30-34|35-39|40-44|45-49|50-54|55-59|60-64|65-69|70-74|75-79|80+|"
      ],
      "metadata": {
        "id": "ymSp9SDiMdeK"
      }
    },
    {
      "cell_type": "code",
      "source": [
        "# USER INTERFACE: form for input for patient prediction\n",
        "import ipywidgets as widgets\n",
        "\n",
        "# 'features_dict' is a dictionary mapping feature to description\n",
        "features_dict = {\n",
        "    \"Sex\": \"Sex:\",\n",
        "    \"Age\": \"Age category (1 = 18-24, 13 = 80 or older; see table):\",\n",
        "    \"BMI\": \"Body Mass Index:\",\n",
        "    \"HighBP\": \"High Blood Pressure\",\n",
        "    \"HighChol\": \"High Cholesterol\",\n",
        "    \"Smoker\": \"Have you smoked at least 100 cigarettes in your life?\",\n",
        "    \"HvyAlcoholConsump\": \"Heavy drinkers (drinks <14 for men, <7 for women per week\",\n",
        "    \"Stroke\": \"(Ever told) you had a Stroke?\",\n",
        "    \"HeartDiseaseorAttack\": \"Heart Disease or Attack (CHD or MI)\",\n",
        "    \"GenHlth\": \"General Health scale :\",\n",
        "    \"MentHlth\": \"How many past days was your Mental Health not good?\",\n",
        "    \"PhysHlth\": \"How many past days was your Physical Health not good?\",\n",
        "    \"DiffWalk\": \"Do you have Difficulty Walking or climbing stairs?\",\n",
        "    \"PhysActivity\": \"Physical Activity in past 30 days, not incl job\",\n",
        "    \"Fruits\": \"Eat 1 Fruit or more per day\",\n",
        "    \"Veggies\": \"Eat Veggies 1 or more per day\",\n",
        "}\n",
        "widgets_dict = {}\n",
        "\n",
        "# Create widgets for each feature\n",
        "for item in features_dict.keys():\n",
        "    if item in [\n",
        "        \"HighBP\",\n",
        "        \"HighChol\",\n",
        "        \"Smoker\",\n",
        "        \"Stroke\",\n",
        "        \"HeartDiseaseorAttack\",\n",
        "        \"PhysActivity\",\n",
        "        \"Fruits\",\n",
        "        \"Veggies\",\n",
        "        \"HvyAlcoholConsump\",\n",
        "        \"DiffWalk\",\n",
        "    ]:\n",
        "        # Binary features: create a dropdown with options 'Yes' and 'No'\n",
        "        widgets_dict[item + \"_label\"] = widgets.Label(\n",
        "            features_dict.get(item), layout={\"width\": \"max-content\"}\n",
        "        )\n",
        "        widgets_dict[item] = widgets.RadioButtons(\n",
        "            options={\"No\": 0, \"Yes\": 1},\n",
        "            value=0,\n",
        "        )\n",
        "    if item in [\"Sex\"]:\n",
        "        # Create a dropdown with options 'Male' and 'Female'\n",
        "        widgets_dict[item + \"_label\"] = widgets.Label(\n",
        "            features_dict.get(item), layout={\"width\": \"max-content\"}\n",
        "        )\n",
        "        widgets_dict[item] = widgets.Dropdown(\n",
        "            options=[(\"Female\", 0), (\"Male\", 1)],\n",
        "            value=0,\n",
        "        )\n",
        "    # Numerical features: create float sliders\n",
        "    if item in [\"BMI\"]:\n",
        "        widgets_dict[item + \"_label\"] = widgets.Label(\n",
        "            features_dict.get(item), layout={\"width\": \"max-content\"}\n",
        "        )\n",
        "        widgets_dict[item] = widgets.FloatSlider(\n",
        "            value=20.0,\n",
        "            min=10,\n",
        "            max=50.0,\n",
        "            step=0.1,\n",
        "        )\n",
        "    if item in [\"GenHlth\"]:\n",
        "        widgets_dict[item + \"_label\"] = widgets.Label(\n",
        "            features_dict.get(item), layout={\"width\": \"max-content\"}\n",
        "        )\n",
        "        widgets_dict[item] = widgets.FloatSlider(\n",
        "            value=3,\n",
        "            min=1,\n",
        "            max=5,\n",
        "            step=1,\n",
        "        )\n",
        "    if item in [\"MentHlth\", \"PhysHlth\"]:\n",
        "        widgets_dict[item + \"_label\"] = widgets.Label(\n",
        "            features_dict.get(item), layout={\"width\": \"max-content\"}\n",
        "        )\n",
        "        widgets_dict[item] = widgets.FloatSlider(\n",
        "            value=0,\n",
        "            min=0,\n",
        "            max=30,\n",
        "            step=1,\n",
        "        )\n",
        "    if item in [\"Age\"]:\n",
        "        widgets_dict[item + \"_label\"] = widgets.Label(\n",
        "            features_dict.get(item), layout={\"width\": \"max-content\"}\n",
        "        )\n",
        "        widgets_dict[item] = widgets.FloatSlider(\n",
        "            value=8,\n",
        "            min=1,\n",
        "            max=13,\n",
        "            step=1,\n",
        "        )\n",
        "\n",
        "# Button to make prediction\n",
        "predict_btn = widgets.Button(description=\"Predict Patient Risk\")\n",
        "\n",
        "# Output widget to display prediction result\n",
        "output = widgets.Output()\n",
        "\n",
        "\n",
        "def on_predict_btn_clicked(b):\n",
        "    # Prepare the input for the model\n",
        "    input_data = [widgets_dict[feature].value for feature in features_dict.keys()]\n",
        "    input_data = np.array(input_data).reshape(1, -1)\n",
        "\n",
        "    # Create a DataFrame with input_data and assign column names using features\n",
        "    input_df = pd.DataFrame(input_data, columns=features_dict.keys())\n",
        "\n",
        "    # Ensure the DataFrame columns are in the correct order\n",
        "    input_df = input_df[X_log.columns]\n",
        "\n",
        "    # Apply the same scaling to the input as was done to the training data\n",
        "    input_df[numerical_columns] = scaler.transform(input_df[numerical_columns])\n",
        "\n",
        "    #### Make prediction ####\n",
        "    prediction = mylog_model.predict(input_df)\n",
        "\n",
        "    # Display prediction\n",
        "    with output:\n",
        "        output.clear_output()\n",
        "        if prediction[0] == 0:\n",
        "            print(\"Prediction: Not at risk of diabetes\")\n",
        "        else:\n",
        "            print(\"Prediction: At risk of diabetes\")\n",
        "\n",
        "\n",
        "predict_btn.on_click(on_predict_btn_clicked)\n",
        "\n",
        "# Display widgets\n",
        "for widget in widgets_dict.values():\n",
        "    display(widget)\n",
        "display(predict_btn, output)"
      ],
      "metadata": {
        "execution": {
          "iopub.status.busy": "2024-03-16T22:13:14.730095Z",
          "iopub.execute_input": "2024-03-16T22:13:14.730511Z",
          "iopub.status.idle": "2024-03-16T22:13:14.913068Z",
          "shell.execute_reply.started": "2024-03-16T22:13:14.730481Z",
          "shell.execute_reply": "2024-03-16T22:13:14.911907Z"
        },
        "trusted": true,
        "id": "ejo37xPQMdeL",
        "outputId": "9f1eaf89-e5c9-460c-9dbe-960d00ec134f",
        "colab": {
          "base_uri": "https://localhost:8080/",
          "height": 1000,
          "referenced_widgets": [
            "1b3d9b45fd27486ba27ad6e2ecef615a",
            "da3e47e1c99943fc98f9ff873ec4e541",
            "8bd13b7954334c9f992e85fab429d392",
            "f44358fed05a446fb42e32e07c5261ee",
            "499cbb095b4f4b159e6e4118464b8a06",
            "cb4d8ce09c6d4965a5873793c5c71c2a",
            "902538034aaa45f8b28af8bd64177323",
            "34d713300a6c46278493c975b11e33f2",
            "ca8b6c6cbca3447097887c3763180a55",
            "6c4104b51089434781945c1ae5424fbe",
            "062f237e4e2f44b09d40d9387295b393",
            "ac78ec778f674aaba98c46009f8904dd",
            "be97b8e058db4044ba100a0b604da4ba",
            "f6f782e8fbfc46ec80a26df2750b38a5",
            "95e321b4d3d44c06be249584b3509e9a",
            "4b6fd26685ec46dc8acc65da4904590b",
            "f3964d5733bc4b99b2ba2f827ecc31a1",
            "c14b89d2d58d496cab3d38e94752cf94",
            "301c1f7c90f34e6f89bdd81b855334ab",
            "fddbef94077044b3a2f5ac704c5b12eb",
            "371ca2ce4afd43b5abe0d81e389bef72",
            "10b9315f528d4bc6a045a74848092d33",
            "83e5fef4ee6f42548e069f27b78966fc",
            "b568f289129b47fd8e9dbd61b3d10bdd",
            "7ce9441834764f799465758c3084ca85",
            "a629336c40934557b88493b78bae89bb",
            "7587cf2310b04b1199fdaac4fbfa1f53",
            "f274105e1d05453e91a26d32b7daa075",
            "805fa32bf623481897770a02b3e72628",
            "76abb917646e44d29ef11ae9e80211dc",
            "8cab5c348bf8456ebeeddf3f5622c0d3",
            "ef8b0c9a3da74ce3863a2c3b55c36218",
            "aaf3e6751e9a45a4b96928f2197a3148",
            "6107c7941aff4517967b04c63ca18197",
            "f4582f0175144db7a8f71df58651fd7a",
            "525a7ad302cc4cb99d002791d2172ea2",
            "921603430d604866b4581a3b5a93f232",
            "77a1f17a2df044fab8169c9c4e3b64e3",
            "fd437fbee04d4799a8caa5a7f0055c13",
            "480ab5ca45a245f587b2b4e092078779",
            "13ca03c3bf084ff28726b9cafad58203",
            "1a5426d09efd4da68392dc6e1cc5effc",
            "3d84acf16590437592581ceb4f09baee",
            "9fcf517b55ba498db4e89b867924a8bf",
            "2c6f947132b74a1790e67d49000995d7",
            "e205571b55284f00b0c504ddcc8c04f8",
            "3c682603eef14dcaa711da5906ff2047",
            "2e3336ee59dd44b5999534fc48fb8937",
            "480dfa90503842a1bb67b0c5f371b70f",
            "4e8526929bfd41dcbc7fb540f66cc1bc",
            "7468f5a154d14a7a94f0f9e46ff989d0",
            "ff9a1b81083e4ce48b02afc5e36b1319",
            "7e624eec02f64d83ad410f656b144e33",
            "f2a3b4e7a27948c9ba804ce19e344a85",
            "359293d5be364d54a543f715ff8bf236",
            "23ab2b7f5c35480f8236d5473aa2230f",
            "b2403a2a84eb42e58f310cc00e4d694f",
            "a5cb159b941f4d86b03db309118a261c",
            "0de02c960052478494aeacf5a5538d1c",
            "b58a254d0de8430697a74d11cfad0536",
            "4098e342a89f491c8ff80efb73f98204",
            "f307435718774a888c4bc1c0816de2be",
            "84c9605e2f81424caccefcd27f07a291",
            "c748128629c7478482e923a6281c5a44",
            "0d684776c9614391b6bad09ffa1a5d46",
            "accf86a9973343e98312e6aab0b8c36e",
            "291afd41c78144c19af84f18ce2720cd",
            "6be4a21e479249e3be397dd48c88460b",
            "303bf70b37054e2a96b8f98b973fb752",
            "e848519332bd45a4a446ee7cfccad5db",
            "c2dd6845404d4a7e9fa59eeee5e023e5",
            "9ace38f130134641a57116c64aeca296",
            "66966bf4664842f6be2a23ac722a838c",
            "cfe524bf1e2648a38d719ec70e512074",
            "c411d66dea494d02812d2ee4b3c2755d",
            "d96c70fbee24498585e0bddcc2994c57",
            "3c6a378d1ba74671a113777d3b7babef",
            "d81f1da80c4046cf8e9df482f027c81b",
            "4485224eacb54e12a6e9ec3733a94ec5",
            "e749e88e3022480fbb3ca5f0a8e74f94",
            "201a9cdf73904b7eb8d4aab4d8f7e028",
            "54d7a8cd437c424688ce1b93a9442098",
            "114ce2fc8cd743b4b05ff47f41afd697",
            "9af1b72cee2545a9a3a3c7ac54a2b90a",
            "930cd83887b4491d9c341094ba5ea0f8",
            "c53af2a4c68b46babae9e6f5b5e6babf",
            "a6eef2cdfa024d508cc9bc9d742a2a90",
            "03a43bda57f9477ca4c1952f024e5fe9",
            "e4a1f3da6db5419b82c3c6290bd92e3d",
            "6ece0642787c41dea0cd16cdc9a0cd25",
            "194c2fea90c540ebbef00babef17a1fb",
            "0904b360a1ee4497a571eb1741076ec2",
            "8591b5eda1c74bbfa5e622e43dc1c43d",
            "38ca5c29130243cdb2b9210c9f60c96f",
            "8b1a2b394116462180a16298e57b031d",
            "52195a63931644aa91521c87a2b22578",
            "7e3de5053cd04ad0b3a3a946516d026b",
            "b07dd1cb5ef44dc3b0163f12c6a2f9dd",
            "4a55a71caf0e44af93d66a5bffd52bc2",
            "7247c1f7338b4bc2b8e4783ffeb9b3a9",
            "2d61da92093146c18d0848992648da15"
          ]
        }
      },
      "execution_count": 10,
      "outputs": [
        {
          "output_type": "display_data",
          "data": {
            "text/plain": [
              "Label(value='Sex:', layout=Layout(width='max-content'))"
            ],
            "application/vnd.jupyter.widget-view+json": {
              "version_major": 2,
              "version_minor": 0,
              "model_id": "1b3d9b45fd27486ba27ad6e2ecef615a"
            }
          },
          "metadata": {}
        },
        {
          "output_type": "display_data",
          "data": {
            "text/plain": [
              "Dropdown(options=(('Female', 0), ('Male', 1)), value=0)"
            ],
            "application/vnd.jupyter.widget-view+json": {
              "version_major": 2,
              "version_minor": 0,
              "model_id": "f44358fed05a446fb42e32e07c5261ee"
            }
          },
          "metadata": {}
        },
        {
          "output_type": "display_data",
          "data": {
            "text/plain": [
              "Label(value='Age category (1 = 18-24, 13 = 80 or older; see table):', layout=Layout(width='max-content'))"
            ],
            "application/vnd.jupyter.widget-view+json": {
              "version_major": 2,
              "version_minor": 0,
              "model_id": "902538034aaa45f8b28af8bd64177323"
            }
          },
          "metadata": {}
        },
        {
          "output_type": "display_data",
          "data": {
            "text/plain": [
              "FloatSlider(value=8.0, max=13.0, min=1.0, step=1.0)"
            ],
            "application/vnd.jupyter.widget-view+json": {
              "version_major": 2,
              "version_minor": 0,
              "model_id": "6c4104b51089434781945c1ae5424fbe"
            }
          },
          "metadata": {}
        },
        {
          "output_type": "display_data",
          "data": {
            "text/plain": [
              "Label(value='Body Mass Index:', layout=Layout(width='max-content'))"
            ],
            "application/vnd.jupyter.widget-view+json": {
              "version_major": 2,
              "version_minor": 0,
              "model_id": "be97b8e058db4044ba100a0b604da4ba"
            }
          },
          "metadata": {}
        },
        {
          "output_type": "display_data",
          "data": {
            "text/plain": [
              "FloatSlider(value=20.0, max=50.0, min=10.0)"
            ],
            "application/vnd.jupyter.widget-view+json": {
              "version_major": 2,
              "version_minor": 0,
              "model_id": "4b6fd26685ec46dc8acc65da4904590b"
            }
          },
          "metadata": {}
        },
        {
          "output_type": "display_data",
          "data": {
            "text/plain": [
              "Label(value='High Blood Pressure', layout=Layout(width='max-content'))"
            ],
            "application/vnd.jupyter.widget-view+json": {
              "version_major": 2,
              "version_minor": 0,
              "model_id": "301c1f7c90f34e6f89bdd81b855334ab"
            }
          },
          "metadata": {}
        },
        {
          "output_type": "display_data",
          "data": {
            "text/plain": [
              "RadioButtons(options={'No': 0, 'Yes': 1}, value=0)"
            ],
            "application/vnd.jupyter.widget-view+json": {
              "version_major": 2,
              "version_minor": 0,
              "model_id": "10b9315f528d4bc6a045a74848092d33"
            }
          },
          "metadata": {}
        },
        {
          "output_type": "display_data",
          "data": {
            "text/plain": [
              "Label(value='High Cholesterol', layout=Layout(width='max-content'))"
            ],
            "application/vnd.jupyter.widget-view+json": {
              "version_major": 2,
              "version_minor": 0,
              "model_id": "7ce9441834764f799465758c3084ca85"
            }
          },
          "metadata": {}
        },
        {
          "output_type": "display_data",
          "data": {
            "text/plain": [
              "RadioButtons(options={'No': 0, 'Yes': 1}, value=0)"
            ],
            "application/vnd.jupyter.widget-view+json": {
              "version_major": 2,
              "version_minor": 0,
              "model_id": "f274105e1d05453e91a26d32b7daa075"
            }
          },
          "metadata": {}
        },
        {
          "output_type": "display_data",
          "data": {
            "text/plain": [
              "Label(value='Have you smoked at least 100 cigarettes in your life?', layout=Layout(width='max-content'))"
            ],
            "application/vnd.jupyter.widget-view+json": {
              "version_major": 2,
              "version_minor": 0,
              "model_id": "8cab5c348bf8456ebeeddf3f5622c0d3"
            }
          },
          "metadata": {}
        },
        {
          "output_type": "display_data",
          "data": {
            "text/plain": [
              "RadioButtons(options={'No': 0, 'Yes': 1}, value=0)"
            ],
            "application/vnd.jupyter.widget-view+json": {
              "version_major": 2,
              "version_minor": 0,
              "model_id": "6107c7941aff4517967b04c63ca18197"
            }
          },
          "metadata": {}
        },
        {
          "output_type": "display_data",
          "data": {
            "text/plain": [
              "Label(value='Heavy drinkers (drinks <14 for men, <7 for women per week', layout=Layout(width='max-content'))"
            ],
            "application/vnd.jupyter.widget-view+json": {
              "version_major": 2,
              "version_minor": 0,
              "model_id": "921603430d604866b4581a3b5a93f232"
            }
          },
          "metadata": {}
        },
        {
          "output_type": "display_data",
          "data": {
            "text/plain": [
              "RadioButtons(options={'No': 0, 'Yes': 1}, value=0)"
            ],
            "application/vnd.jupyter.widget-view+json": {
              "version_major": 2,
              "version_minor": 0,
              "model_id": "480ab5ca45a245f587b2b4e092078779"
            }
          },
          "metadata": {}
        },
        {
          "output_type": "display_data",
          "data": {
            "text/plain": [
              "Label(value='(Ever told) you had a Stroke?', layout=Layout(width='max-content'))"
            ],
            "application/vnd.jupyter.widget-view+json": {
              "version_major": 2,
              "version_minor": 0,
              "model_id": "3d84acf16590437592581ceb4f09baee"
            }
          },
          "metadata": {}
        },
        {
          "output_type": "display_data",
          "data": {
            "text/plain": [
              "RadioButtons(options={'No': 0, 'Yes': 1}, value=0)"
            ],
            "application/vnd.jupyter.widget-view+json": {
              "version_major": 2,
              "version_minor": 0,
              "model_id": "e205571b55284f00b0c504ddcc8c04f8"
            }
          },
          "metadata": {}
        },
        {
          "output_type": "display_data",
          "data": {
            "text/plain": [
              "Label(value='Heart Disease or Attack (CHD or MI)', layout=Layout(width='max-content'))"
            ],
            "application/vnd.jupyter.widget-view+json": {
              "version_major": 2,
              "version_minor": 0,
              "model_id": "480dfa90503842a1bb67b0c5f371b70f"
            }
          },
          "metadata": {}
        },
        {
          "output_type": "display_data",
          "data": {
            "text/plain": [
              "RadioButtons(options={'No': 0, 'Yes': 1}, value=0)"
            ],
            "application/vnd.jupyter.widget-view+json": {
              "version_major": 2,
              "version_minor": 0,
              "model_id": "ff9a1b81083e4ce48b02afc5e36b1319"
            }
          },
          "metadata": {}
        },
        {
          "output_type": "display_data",
          "data": {
            "text/plain": [
              "Label(value='General Health scale :', layout=Layout(width='max-content'))"
            ],
            "application/vnd.jupyter.widget-view+json": {
              "version_major": 2,
              "version_minor": 0,
              "model_id": "359293d5be364d54a543f715ff8bf236"
            }
          },
          "metadata": {}
        },
        {
          "output_type": "display_data",
          "data": {
            "text/plain": [
              "FloatSlider(value=3.0, max=5.0, min=1.0, step=1.0)"
            ],
            "application/vnd.jupyter.widget-view+json": {
              "version_major": 2,
              "version_minor": 0,
              "model_id": "a5cb159b941f4d86b03db309118a261c"
            }
          },
          "metadata": {}
        },
        {
          "output_type": "display_data",
          "data": {
            "text/plain": [
              "Label(value='How many past days was your Mental Health not good?', layout=Layout(width='max-content'))"
            ],
            "application/vnd.jupyter.widget-view+json": {
              "version_major": 2,
              "version_minor": 0,
              "model_id": "4098e342a89f491c8ff80efb73f98204"
            }
          },
          "metadata": {}
        },
        {
          "output_type": "display_data",
          "data": {
            "text/plain": [
              "FloatSlider(value=0.0, max=30.0, step=1.0)"
            ],
            "application/vnd.jupyter.widget-view+json": {
              "version_major": 2,
              "version_minor": 0,
              "model_id": "c748128629c7478482e923a6281c5a44"
            }
          },
          "metadata": {}
        },
        {
          "output_type": "display_data",
          "data": {
            "text/plain": [
              "Label(value='How many past days was your Physical Health not good?', layout=Layout(width='max-content'))"
            ],
            "application/vnd.jupyter.widget-view+json": {
              "version_major": 2,
              "version_minor": 0,
              "model_id": "291afd41c78144c19af84f18ce2720cd"
            }
          },
          "metadata": {}
        },
        {
          "output_type": "display_data",
          "data": {
            "text/plain": [
              "FloatSlider(value=0.0, max=30.0, step=1.0)"
            ],
            "application/vnd.jupyter.widget-view+json": {
              "version_major": 2,
              "version_minor": 0,
              "model_id": "e848519332bd45a4a446ee7cfccad5db"
            }
          },
          "metadata": {}
        },
        {
          "output_type": "display_data",
          "data": {
            "text/plain": [
              "Label(value='Do you have Difficulty Walking or climbing stairs?', layout=Layout(width='max-content'))"
            ],
            "application/vnd.jupyter.widget-view+json": {
              "version_major": 2,
              "version_minor": 0,
              "model_id": "66966bf4664842f6be2a23ac722a838c"
            }
          },
          "metadata": {}
        },
        {
          "output_type": "display_data",
          "data": {
            "text/plain": [
              "RadioButtons(options={'No': 0, 'Yes': 1}, value=0)"
            ],
            "application/vnd.jupyter.widget-view+json": {
              "version_major": 2,
              "version_minor": 0,
              "model_id": "d96c70fbee24498585e0bddcc2994c57"
            }
          },
          "metadata": {}
        },
        {
          "output_type": "display_data",
          "data": {
            "text/plain": [
              "Label(value='Physical Activity in past 30 days, not incl job', layout=Layout(width='max-content'))"
            ],
            "application/vnd.jupyter.widget-view+json": {
              "version_major": 2,
              "version_minor": 0,
              "model_id": "4485224eacb54e12a6e9ec3733a94ec5"
            }
          },
          "metadata": {}
        },
        {
          "output_type": "display_data",
          "data": {
            "text/plain": [
              "RadioButtons(options={'No': 0, 'Yes': 1}, value=0)"
            ],
            "application/vnd.jupyter.widget-view+json": {
              "version_major": 2,
              "version_minor": 0,
              "model_id": "54d7a8cd437c424688ce1b93a9442098"
            }
          },
          "metadata": {}
        },
        {
          "output_type": "display_data",
          "data": {
            "text/plain": [
              "Label(value='Eat 1 Fruit or more per day', layout=Layout(width='max-content'))"
            ],
            "application/vnd.jupyter.widget-view+json": {
              "version_major": 2,
              "version_minor": 0,
              "model_id": "930cd83887b4491d9c341094ba5ea0f8"
            }
          },
          "metadata": {}
        },
        {
          "output_type": "display_data",
          "data": {
            "text/plain": [
              "RadioButtons(options={'No': 0, 'Yes': 1}, value=0)"
            ],
            "application/vnd.jupyter.widget-view+json": {
              "version_major": 2,
              "version_minor": 0,
              "model_id": "03a43bda57f9477ca4c1952f024e5fe9"
            }
          },
          "metadata": {}
        },
        {
          "output_type": "display_data",
          "data": {
            "text/plain": [
              "Label(value='Eat Veggies 1 or more per day', layout=Layout(width='max-content'))"
            ],
            "application/vnd.jupyter.widget-view+json": {
              "version_major": 2,
              "version_minor": 0,
              "model_id": "194c2fea90c540ebbef00babef17a1fb"
            }
          },
          "metadata": {}
        },
        {
          "output_type": "display_data",
          "data": {
            "text/plain": [
              "RadioButtons(options={'No': 0, 'Yes': 1}, value=0)"
            ],
            "application/vnd.jupyter.widget-view+json": {
              "version_major": 2,
              "version_minor": 0,
              "model_id": "38ca5c29130243cdb2b9210c9f60c96f"
            }
          },
          "metadata": {}
        },
        {
          "output_type": "display_data",
          "data": {
            "text/plain": [
              "Button(description='Predict Patient Risk', style=ButtonStyle())"
            ],
            "application/vnd.jupyter.widget-view+json": {
              "version_major": 2,
              "version_minor": 0,
              "model_id": "7e3de5053cd04ad0b3a3a946516d026b"
            }
          },
          "metadata": {}
        },
        {
          "output_type": "display_data",
          "data": {
            "text/plain": [
              "Output()"
            ],
            "application/vnd.jupyter.widget-view+json": {
              "version_major": 2,
              "version_minor": 0,
              "model_id": "7247c1f7338b4bc2b8e4783ffeb9b3a9"
            }
          },
          "metadata": {}
        }
      ]
    },
    {
      "cell_type": "markdown",
      "source": [
        "# Data Exploration\n",
        "\n",
        "Next we generate some visuals to explore some possible relationships in the data. We will look at Histograms and Scatterplots.\n",
        "\n",
        "## Histogram Figure 1.a\n",
        "\n",
        "Here we generate a histogram that compares the distribution of general health ratings (GenHlth) between individuals with and without diabetes (Diabetes status) in the dataset. For each group, we display the frequency of respondents across five health rating categories, ranging from poor to excellent health, after these ratings have been reversed so that higher numbers indicate better health. The histogram for individuals without diabetes is shown in blue, while the histogram for those with diabetes is in orange, allowing for a visual comparison of how general health perceptions differ between these two groups. This visualization aids in understanding whether there's a noticeable difference in self-reported general health status among individuals based on their diabetes condition."
      ],
      "metadata": {
        "id": "OBnq5rZdMdeL"
      }
    },
    {
      "cell_type": "code",
      "source": [
        "# Filter the dataset by Diabetes status\n",
        "gen_health_no_diabetes = reduced_df[reduced_df[\"Diabetes\"] == False][\"GenHlth\"]\n",
        "gen_health_with_diabetes = reduced_df[reduced_df[\"Diabetes\"] == True][\"GenHlth\"]\n",
        "\n",
        "# Plot histograms\n",
        "plt.hist(\n",
        "    gen_health_no_diabetes, bins=5, alpha=0.5, label=\"No Diabetes\", edgecolor=\"black\"\n",
        ")\n",
        "plt.hist(\n",
        "    gen_health_with_diabetes, bins=5, alpha=0.5, label=\"Diabetes\", edgecolor=\"black\"\n",
        ")\n",
        "\n",
        "# Add legend\n",
        "plt.legend()\n",
        "\n",
        "# Add titles and labels as needed\n",
        "plt.title(\"General Health by Diabetes Status\")\n",
        "plt.xlabel(\"General Health Rating\")\n",
        "plt.ylabel(\"Frequency\")\n",
        "\n",
        "# Set x-axis to display integer values from 1 to 5\n",
        "plt.xticks(range(1, 6))\n",
        "\n",
        "# Show the plot\n",
        "plt.show()"
      ],
      "metadata": {
        "tags": [],
        "jupyter": {
          "source_hidden": true
        },
        "execution": {
          "iopub.status.busy": "2024-03-16T22:11:18.710017Z",
          "iopub.execute_input": "2024-03-16T22:11:18.710485Z",
          "iopub.status.idle": "2024-03-16T22:11:19.090889Z",
          "shell.execute_reply.started": "2024-03-16T22:11:18.710444Z",
          "shell.execute_reply": "2024-03-16T22:11:19.089873Z"
        },
        "trusted": true,
        "id": "mDsuXvKEMdeL",
        "outputId": "0475d504-2d89-47ef-8d27-8e03567bcde5",
        "colab": {
          "base_uri": "https://localhost:8080/",
          "height": 472
        }
      },
      "execution_count": 11,
      "outputs": [
        {
          "output_type": "display_data",
          "data": {
            "text/plain": [
              "<Figure size 640x480 with 1 Axes>"
            ],
            "image/png": "[encoded data removed]"
          },
          "metadata": {}
        }
      ]
    },
    {
      "cell_type": "markdown",
      "source": [
        "## Histogram Figure 1.b\n",
        "\n",
        "Analysis of physical health comparing diabetics to non-diabetics."
      ],
      "metadata": {
        "id": "XUmTJ0wAMdeM"
      }
    },
    {
      "cell_type": "code",
      "source": [
        "# Filter the dataset by Diabetes status\n",
        "phys_health_no_diabetes = reduced_df[reduced_df[\"Diabetes\"] == False][\"PhysHlth\"]\n",
        "phys_health_with_diabetes = reduced_df[reduced_df[\"Diabetes\"] == True][\"PhysHlth\"]\n",
        "\n",
        "# Plot histograms\n",
        "plt.hist(\n",
        "    phys_health_no_diabetes, alpha=0.5, label=\"No Diabetes\", bins=6, edgecolor=\"black\"\n",
        ")\n",
        "plt.hist(\n",
        "    phys_health_with_diabetes, alpha=0.5, label=\"Diabetes\", bins=6, edgecolor=\"black\"\n",
        ")\n",
        "\n",
        "# Add legend\n",
        "plt.legend()\n",
        "\n",
        "# Add titles and labels as needed\n",
        "plt.title(\"Physical Health by Diabetes Status\")\n",
        "plt.xlabel(\"Poor Physical Health Days\")\n",
        "plt.ylabel(\"Frequency\")\n",
        "\n",
        "# Show the plot\n",
        "plt.show()"
      ],
      "metadata": {
        "tags": [],
        "jupyter": {
          "source_hidden": true
        },
        "execution": {
          "iopub.status.busy": "2024-03-16T22:11:19.09314Z",
          "iopub.execute_input": "2024-03-16T22:11:19.093474Z",
          "iopub.status.idle": "2024-03-16T22:11:19.444961Z",
          "shell.execute_reply.started": "2024-03-16T22:11:19.093445Z",
          "shell.execute_reply": "2024-03-16T22:11:19.44418Z"
        },
        "trusted": true,
        "id": "45xecSFdMdeM",
        "outputId": "78fcba4f-8638-428d-a7b0-0e60e654ec37",
        "colab": {
          "base_uri": "https://localhost:8080/",
          "height": 472
        }
      },
      "execution_count": 12,
      "outputs": [
        {
          "output_type": "display_data",
          "data": {
            "text/plain": [
              "<Figure size 640x480 with 1 Axes>"
            ],
            "image/png": "[encoded data removed]"
          },
          "metadata": {}
        }
      ]
    },
    {
      "cell_type": "markdown",
      "source": [
        "## Histogram Figure 1.c\n",
        "\n",
        "Analysis of mental health comparing diabetics to non-diabetics."
      ],
      "metadata": {
        "tags": [],
        "id": "mf4J3CtKMdeM"
      }
    },
    {
      "cell_type": "code",
      "source": [
        "# Filter the dataset by Diabetes status\n",
        "phys_health_no_diabetes = reduced_df[reduced_df[\"Diabetes\"] == False][\"MentHlth\"]\n",
        "phys_health_with_diabetes = reduced_df[reduced_df[\"Diabetes\"] == True][\"MentHlth\"]\n",
        "\n",
        "# Plot histograms\n",
        "plt.hist(\n",
        "    phys_health_no_diabetes, alpha=0.5, label=\"No Diabetes\", bins=6, edgecolor=\"black\"\n",
        ")\n",
        "plt.hist(\n",
        "    phys_health_with_diabetes, alpha=0.5, label=\"Diabetes\", bins=6, edgecolor=\"black\"\n",
        ")\n",
        "\n",
        "# Add legend\n",
        "plt.legend()\n",
        "\n",
        "# Add titles and labels as needed\n",
        "plt.title(\"Mental Health by Diabetes Status\")\n",
        "plt.xlabel(\"Poor Mental Health Days\")\n",
        "plt.ylabel(\"Frequency\")\n",
        "\n",
        "# Show the plot\n",
        "plt.show()"
      ],
      "metadata": {
        "tags": [],
        "jupyter": {
          "source_hidden": true
        },
        "execution": {
          "iopub.status.busy": "2024-03-16T22:11:19.44602Z",
          "iopub.execute_input": "2024-03-16T22:11:19.44696Z",
          "iopub.status.idle": "2024-03-16T22:11:19.805021Z",
          "shell.execute_reply.started": "2024-03-16T22:11:19.446873Z",
          "shell.execute_reply": "2024-03-16T22:11:19.803924Z"
        },
        "trusted": true,
        "id": "oH_pq_TaMdeN",
        "outputId": "4035630f-1bfd-40ad-a114-652e4ff2f054",
        "colab": {
          "base_uri": "https://localhost:8080/",
          "height": 472
        }
      },
      "execution_count": 13,
      "outputs": [
        {
          "output_type": "display_data",
          "data": {
            "text/plain": [
              "<Figure size 640x480 with 1 Axes>"
            ],
            "image/png": "[encoded data removed]"
          },
          "metadata": {}
        }
      ]
    },
    {
      "cell_type": "markdown",
      "source": [
        "## Histogram Figure 1.d\n",
        "\n",
        "### Age distribution\n",
        "\n",
        "Here we provide a visual distribution analysis of the Age feature. Of note, the data was collected using a 13-level age category where 1 = 18-24, 9 = 60-64, and 13 = 80 or older."
      ],
      "metadata": {
        "id": "MRsxs4uKMdeN"
      }
    },
    {
      "cell_type": "code",
      "source": [
        "# Plot Age histogram\n",
        "graph_histograms = reduced_df.hist(column=\"Age\", grid=True, bins=13)\n",
        "\n",
        "# Calculate the tick positions for 13 bins\n",
        "tick_positions = range(1, 14)\n",
        "\n",
        "# Set the x-axis ticks\n",
        "plt.xticks(tick_positions)\n",
        "\n",
        "# Optionally, set x-axis and y-axis labels\n",
        "plt.xlabel(\"Age Category\")\n",
        "plt.ylabel(\"Frequency\")\n",
        "\n",
        "# Show the plot\n",
        "plt.show()"
      ],
      "metadata": {
        "tags": [],
        "jupyter": {
          "source_hidden": true
        },
        "execution": {
          "iopub.status.busy": "2024-03-16T22:11:19.806491Z",
          "iopub.execute_input": "2024-03-16T22:11:19.806911Z",
          "iopub.status.idle": "2024-03-16T22:11:20.181236Z",
          "shell.execute_reply.started": "2024-03-16T22:11:19.806872Z",
          "shell.execute_reply": "2024-03-16T22:11:20.179937Z"
        },
        "trusted": true,
        "id": "kFChz9qBMdeN",
        "outputId": "df066043-2a01-485f-afd6-8e59f24764ba",
        "colab": {
          "base_uri": "https://localhost:8080/",
          "height": 472
        }
      },
      "execution_count": 14,
      "outputs": [
        {
          "output_type": "display_data",
          "data": {
            "text/plain": [
              "<Figure size 640x480 with 1 Axes>"
            ],
            "image/png": "[encoded data removed]"
          },
          "metadata": {}
        }
      ]
    },
    {
      "cell_type": "markdown",
      "source": [
        "## Scatterplot figure 2.a\n",
        "\n",
        "### BMI over Age\n",
        "\n",
        "Here we see that diabetics have a higher BMI on average."
      ],
      "metadata": {
        "id": "8XDJGZ1TMdeO"
      }
    },
    {
      "cell_type": "code",
      "source": [
        "# Copy the DataFrame to avoid modifying the original data\n",
        "plot_df = reduced_df.copy()\n",
        "\n",
        "# Map True/False to Male/Female\n",
        "plot_df[\"Sex\"] = plot_df[\"Sex\"].map({True: \"Male\", False: \"Female\"})\n",
        "\n",
        "# Age/BMI Scatterplot\n",
        "sns.lmplot(\n",
        "    data=plot_df,\n",
        "    x=\"Age\",\n",
        "    y=\"BMI\",\n",
        "    col=\"Sex\",\n",
        "    hue=\"Diabetes\",\n",
        "    x_bins=1000,\n",
        "    fit_reg=False,\n",
        ")"
      ],
      "metadata": {
        "tags": [],
        "jupyter": {
          "source_hidden": true
        },
        "execution": {
          "iopub.status.busy": "2024-03-16T22:11:20.182626Z",
          "iopub.execute_input": "2024-03-16T22:11:20.182961Z",
          "iopub.status.idle": "2024-03-16T22:11:25.464012Z",
          "shell.execute_reply.started": "2024-03-16T22:11:20.182923Z",
          "shell.execute_reply": "2024-03-16T22:11:25.463031Z"
        },
        "trusted": true,
        "id": "1f7g8d2mMdeO",
        "outputId": "03ad203a-4e1e-4edc-c00b-ab4d04a0b22f",
        "colab": {
          "base_uri": "https://localhost:8080/",
          "height": 525
        }
      },
      "execution_count": 15,
      "outputs": [
        {
          "output_type": "execute_result",
          "data": {
            "text/plain": [
              "<seaborn.axisgrid.FacetGrid at 0x7976ee127eb0>"
            ]
          },
          "metadata": {},
          "execution_count": 15
        },
        {
          "output_type": "display_data",
          "data": {
            "text/plain": [
              "<Figure size 1084.88x500 with 2 Axes>"
            ],
            "image/png": "[encoded data removed]"
          },
          "metadata": {}
        }
      ]
    },
    {
      "cell_type": "markdown",
      "source": [
        "## Scatterplot figure 2.b\n",
        "\n",
        "### General Health over Age\n",
        "\n",
        "The general health indicator is on a scale of 1 to 5, with a score of 5 as excellent. Here we see that diabetics have poorer general health. We also see a trend in healthy people where the older one gets, the poorer their overall health. Diabetics do not show this trend."
      ],
      "metadata": {
        "id": "o9CJtN-nMdeO"
      }
    },
    {
      "cell_type": "code",
      "source": [
        "# Age/General-Health Scatterplot\n",
        "sns.lmplot(data=reduced_df, x=\"Age\", y=\"GenHlth\", hue=\"Diabetes\", x_bins=1000)"
      ],
      "metadata": {
        "tags": [],
        "jupyter": {
          "source_hidden": true
        },
        "execution": {
          "iopub.status.busy": "2024-03-16T22:11:25.467529Z",
          "iopub.execute_input": "2024-03-16T22:11:25.467881Z",
          "iopub.status.idle": "2024-03-16T22:11:43.699329Z",
          "shell.execute_reply.started": "2024-03-16T22:11:25.467847Z",
          "shell.execute_reply": "2024-03-16T22:11:43.69824Z"
        },
        "trusted": true,
        "id": "QzlCG6qdMdeO",
        "outputId": "135c7527-229f-40ea-a14e-65f3d8500255",
        "colab": {
          "base_uri": "https://localhost:8080/",
          "height": 525
        }
      },
      "execution_count": 16,
      "outputs": [
        {
          "output_type": "execute_result",
          "data": {
            "text/plain": [
              "<seaborn.axisgrid.FacetGrid at 0x7976ee13dbd0>"
            ]
          },
          "metadata": {},
          "execution_count": 16
        },
        {
          "output_type": "display_data",
          "data": {
            "text/plain": [
              "<Figure size 584.875x500 with 1 Axes>"
            ],
            "image/png": "[encoded data removed]"
          },
          "metadata": {}
        }
      ]
    },
    {
      "cell_type": "markdown",
      "source": [
        "## Scatterplot figure 2.c\n",
        "\n",
        "### Physical Health as compared to Mental health\n",
        "\n",
        "Here we see a trend that the more days per month of poor mental health an individual has, the more days on average of physical health they will experience. Of note is diabetics have a similar distribution of poor mental health days, but significantly more days per month of poor physical health."
      ],
      "metadata": {
        "id": "Pv1xLl_LMdeO"
      }
    },
    {
      "cell_type": "code",
      "source": [
        "# Health Scatterplot\n",
        "sns.lmplot(data=reduced_df, x=\"MentHlth\", y=\"PhysHlth\", hue=\"Diabetes\", x_bins=1000)"
      ],
      "metadata": {
        "tags": [],
        "jupyter": {
          "source_hidden": true
        },
        "execution": {
          "iopub.status.busy": "2024-03-16T22:11:43.700973Z",
          "iopub.execute_input": "2024-03-16T22:11:43.701458Z",
          "iopub.status.idle": "2024-03-16T22:12:02.927467Z",
          "shell.execute_reply.started": "2024-03-16T22:11:43.701419Z",
          "shell.execute_reply": "2024-03-16T22:12:02.926357Z"
        },
        "trusted": true,
        "id": "kTrbidIjMdeP",
        "outputId": "4a983426-117c-4141-d9e8-0266373182f2",
        "colab": {
          "base_uri": "https://localhost:8080/",
          "height": 524
        }
      },
      "execution_count": 17,
      "outputs": [
        {
          "output_type": "execute_result",
          "data": {
            "text/plain": [
              "<seaborn.axisgrid.FacetGrid at 0x7976ede04a30>"
            ]
          },
          "metadata": {},
          "execution_count": 17
        },
        {
          "output_type": "display_data",
          "data": {
            "text/plain": [
              "<Figure size 584.875x500 with 1 Axes>"
            ],
            "image/png": "[encoded data removed]"
          },
          "metadata": {}
        }
      ]
    },
    {
      "cell_type": "markdown",
      "source": [
        "# Random Forest Model for Comparison\n",
        "\n",
        "Here we set up a second model using the Random Forest algorithm to compare with our Logistic Regression model. The steps are much the same as before, however we do not need to scale the numerical data."
      ],
      "metadata": {
        "id": "OAVhhziBMdeP"
      }
    },
    {
      "cell_type": "code",
      "source": [
        "# 'X' is the set of features and 'y' is the target variable\n",
        "X_rf = reduced_df.drop(\"Diabetes\", axis=1)\n",
        "y_rf = reduced_df[\"Diabetes\"].astype(\"bool\")  # Ensuring the target is boolean\n",
        "\n",
        "# Splitting the dataset into the Training set and Test set\n",
        "X_rf_train, X_rf_test, y_rf_train, y_rf_test = train_test_split(\n",
        "    X_rf, y_rf, test_size=0.25, random_state=42\n",
        ")\n",
        "\n",
        "# Creating a Random Forest Classifier -- You can adjust parameters\n",
        "rf_classifier = RandomForestClassifier(n_estimators=100, random_state=42)\n",
        "\n",
        "# Fitting Random Forest to the Training set\n",
        "rf_classifier.fit(X_rf_train, y_rf_train)\n",
        "\n",
        "# Predicting the Test set results\n",
        "y_pred_rf = rf_classifier.predict(X_rf_test)\n",
        "\n",
        "accuracy_rf = accuracy_score(y_rf_test, y_pred_rf)\n",
        "conf_matrix_rf = confusion_matrix(y_rf_test, y_pred_rf)\n",
        "class_report_rf = classification_report(y_rf_test, y_pred_rf)\n",
        "\n",
        "# Evaluate the model\n",
        "print(\"\\nRandom Forest (single) prediction results:\", \"\\n\")\n",
        "print(f\"Accuracy: {round(accuracy_rf*100,2)} %\", \"\\n\")\n",
        "print(\"Confusion Matrix:\")\n",
        "print(conf_matrix_rf, \"\\n\")\n",
        "print(\"Classification Report:\")\n",
        "print(class_report_rf)"
      ],
      "metadata": {
        "tags": [],
        "execution": {
          "iopub.status.busy": "2024-03-16T22:12:02.929015Z",
          "iopub.execute_input": "2024-03-16T22:12:02.930077Z",
          "iopub.status.idle": "2024-03-16T22:12:20.974195Z",
          "shell.execute_reply.started": "2024-03-16T22:12:02.930044Z",
          "shell.execute_reply": "2024-03-16T22:12:20.972952Z"
        },
        "trusted": true,
        "id": "V-n71G-LMdeP",
        "outputId": "bab5a931-70d0-4fc6-fa6c-d313546349c4",
        "colab": {
          "base_uri": "https://localhost:8080/"
        }
      },
      "execution_count": 18,
      "outputs": [
        {
          "output_type": "stream",
          "name": "stdout",
          "text": [
            "\n",
            "Random Forest (single) prediction results: \n",
            "\n",
            "Accuracy: 72.13 % \n",
            "\n",
            "Confusion Matrix:\n",
            "[[11906  5307]\n",
            " [ 4297 12947]] \n",
            "\n",
            "Classification Report:\n",
            "              precision    recall  f1-score   support\n",
            "\n",
            "       False       0.73      0.69      0.71     17213\n",
            "        True       0.71      0.75      0.73     17244\n",
            "\n",
            "    accuracy                           0.72     34457\n",
            "   macro avg       0.72      0.72      0.72     34457\n",
            "weighted avg       0.72      0.72      0.72     34457\n",
            "\n"
          ]
        }
      ]
    },
    {
      "cell_type": "markdown",
      "source": [
        "# Cross-Validation of Models\n",
        "\n",
        "Next we perform a cross-validation process on the logistic regression and Random Forest models to verify their reliability across different subsets of the dataset. By utilizing the KFold method with 5 splits and shuffling enabled, the dataset is divided into distinct subsets to conduct multiple training and testing cycles. The average of these scores is calculated and displayed, offering a robust measure of the model's overall performance. This approach helps to ensure that the model's predictive accuracy is not overly dependent on any particular partition of the data, thereby increasing confidence in its generalizability."
      ],
      "metadata": {
        "id": "zyVCZBQaMdeR"
      }
    },
    {
      "cell_type": "code",
      "source": [
        "# Verify model by averaging different test/train splits\n",
        "k_folds = KFold(n_splits=5, shuffle=True)\n",
        "# The number of folds determines the test/train split for each iteration.\n",
        "# So 5 folds has 5 different mutually exclusive training sets.\n",
        "# That's a 1 to 4 (or .20 to .80) testing/training split for each of the 5 iterations.\n",
        "\n",
        "# This is the average score. Print 'scores' to see array of individual iteration scores.\n",
        "log_scores = cross_val_score(mylog_model, X_log, y_log)\n",
        "rf_scores = cross_val_score(rf_classifier, X_rf, y_rf)\n",
        "\n",
        "# Output average scores\n",
        "print(\n",
        "    \"Logistic Regression Average Prediction Score: \",\n",
        "    round(log_scores.mean() * 100, 2),\n",
        "    \"%\",\n",
        ")\n",
        "print(\"Random Forest Average Prediction Score: \", round(rf_scores.mean() * 100, 2), \"%\")"
      ],
      "metadata": {
        "tags": [],
        "jupyter": {
          "source_hidden": true
        },
        "execution": {
          "iopub.status.busy": "2024-03-16T22:12:20.97528Z",
          "iopub.execute_input": "2024-03-16T22:12:20.975604Z",
          "iopub.status.idle": "2024-03-16T22:13:09.764565Z",
          "shell.execute_reply.started": "2024-03-16T22:12:20.975577Z",
          "shell.execute_reply": "2024-03-16T22:13:09.762336Z"
        },
        "trusted": true,
        "id": "dDYGPlXcMdeR",
        "outputId": "f0bb63e3-0896-465d-ecaf-bf689fadf952",
        "colab": {
          "base_uri": "https://localhost:8080/"
        }
      },
      "execution_count": 19,
      "outputs": [
        {
          "output_type": "stream",
          "name": "stdout",
          "text": [
            "Logistic Regression Average Prediction Score:  74.25 %\n",
            "Random Forest Average Prediction Score:  71.89 %\n"
          ]
        }
      ]
    },
    {
      "cell_type": "markdown",
      "source": [
        "# Confusion Matrix Visual\n",
        "\n",
        "Confusion matrixes are used to evaluate the performance in classifying diabetic and non-diabetic individuals. Here we look at the Logistic Regression model, because it proved to be more accurate. More importantly, it had less false-negative outcomes compared to the random forest model (4101 vs 4297)."
      ],
      "metadata": {
        "tags": [],
        "id": "V2cxJQzPMdeR"
      }
    },
    {
      "cell_type": "code",
      "source": [
        "# Plot confusion matrix\n",
        "graph_confusion_matrix = ConfusionMatrixDisplay.from_predictions(y_log_test, y_pred_log)"
      ],
      "metadata": {
        "tags": [],
        "jupyter": {
          "source_hidden": true
        },
        "execution": {
          "iopub.status.busy": "2024-03-16T22:13:09.765791Z",
          "iopub.status.idle": "2024-03-16T22:13:09.766486Z",
          "shell.execute_reply.started": "2024-03-16T22:13:09.766077Z",
          "shell.execute_reply": "2024-03-16T22:13:09.766203Z"
        },
        "trusted": true,
        "id": "zoO9XUoIMdeR",
        "outputId": "b6ca534e-5140-4d84-9065-1954732887a9",
        "colab": {
          "base_uri": "https://localhost:8080/",
          "height": 449
        }
      },
      "execution_count": 20,
      "outputs": [
        {
          "output_type": "display_data",
          "data": {
            "text/plain": [
              "<Figure size 640x480 with 2 Axes>"
            ],
            "image/png": "[encoded data removed]"
          },
          "metadata": {}
        }
      ]
    },
    {
      "cell_type": "markdown",
      "source": [
        "# Watermark\n",
        "\n",
        "Dependences to record the computational environment for reproducability."
      ],
      "metadata": {
        "id": "JqWCuy5lZ-Fe"
      }
    },
    {
      "cell_type": "code",
      "source": [
        "# install and load watermark extension\n",
        "!pip --quiet install watermark\n",
        "%load_ext watermark\n",
        "\n",
        "# time stamp\n",
        "%watermark -untz\n",
        "# python, ipython, packages and machine characteristics\n",
        "%watermark -v -m\n",
        "%watermark -iv -p watermark\n",
        "\n",
        "# author, github repo\n",
        "%watermark -a \"Joseph Curtis\" -gu \"joseph-curtis\""
      ],
      "metadata": {
        "id": "ocrwtUdFZt_O",
        "outputId": "6aeedfab-19db-4002-efd3-522db96150a9",
        "colab": {
          "base_uri": "https://localhost:8080/"
        }
      },
      "execution_count": 21,
      "outputs": [
        {
          "output_type": "stream",
          "name": "stdout",
          "text": [
            "\u001b[2K     \u001b[90m━━━━━━━━━━━━━━━━━━━━━━━━━━━━━━━━━━━━━━━━\u001b[0m \u001b[32m1.6/1.6 MB\u001b[0m \u001b[31m8.7 MB/s\u001b[0m eta \u001b[36m0:00:00\u001b[0m\n",
            "\u001b[?25hLast updated: Tue Mar 26 2024 08:50:57UTC\n",
            "\n",
            "Python implementation: CPython\n",
            "Python version       : 3.10.12\n",
            "IPython version      : 7.34.0\n",
            "\n",
            "Compiler    : GCC 11.4.0\n",
            "OS          : Linux\n",
            "Release     : 6.1.58+\n",
            "Machine     : x86_64\n",
            "Processor   : x86_64\n",
            "CPU cores   : 2\n",
            "Architecture: 64bit\n",
            "\n",
            "watermark: 2.4.3\n",
            "\n",
            "pandas    : 1.5.3\n",
            "matplotlib: 3.7.1\n",
            "numpy     : 1.25.2\n",
            "seaborn   : 0.13.1\n",
            "joblib    : 1.3.2\n",
            "tarfile   : 0.9.0\n",
            "sys       : 3.10.12 (main, Nov 20 2023, 15:14:05) [GCC 11.4.0]\n",
            "sklearn   : 1.2.2\n",
            "ipywidgets: 7.7.1\n",
            "\n",
            "Author: Joseph Curtis\n",
            "\n",
            "Github username: joseph-curtis\n",
            "\n"
          ]
        }
      ]
    }
  ]
}