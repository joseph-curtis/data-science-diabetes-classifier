{
  "metadata": {
    "kaggle": {
      "accelerator": "none",
      "dataSources": [
        {
          "sourceId": 2789260,
          "sourceType": "datasetVersion",
          "datasetId": 1703281
        },
        {
          "sourceId": 7062872,
          "sourceType": "datasetVersion",
          "datasetId": 4066291
        }
      ],
      "dockerImageVersionId": 30664,
      "isInternetEnabled": false,
      "language": "python",
      "sourceType": "notebook",
      "isGpuEnabled": false
    },
    "kernelspec": {
      "name": "python3",
      "display_name": "Python 3"
    },
    "language_info": {
      "name": "python",
      "version": "3.10.13",
      "mimetype": "text/x-python",
      "codemirror_mode": {
        "name": "ipython",
        "version": 3
      },
      "pygments_lexer": "ipython3",
      "nbconvert_exporter": "python",
      "file_extension": ".py"
    },
    "colab": {
      "name": "at-risk diabetes classifier",
      "provenance": [],
      "cell_execution_strategy": "setup"
    }
  },
  "nbformat_minor": 0,
  "nbformat": 4,
  "cells": [
    {
      "cell_type": "markdown",
      "source": [
        "# At-Risk Diabetes Classifier\n",
        "\n",
        "**Author:** Joseph Curtis\n",
        "\n",
        "# Overview\n",
        "\n",
        "This notebook presents the At-Risk Diabetes Classifier, a machine learning project aimed at identifying individuals at risk of diabetes based on a variety of health indicators. By analyzing a dataset with features such as BMI, age, smoking status, physical activity, and more, we develop and train a supervised model to predict the likelihood of diabetes.\n",
        "\n",
        "The project demonstrates:\n",
        "- Data preprocessing and cleaning techniques.\n",
        "- Exploratory data analysis (EDA) to understand the relationships within the data.\n",
        "- Feature selection and engineering to prepare the data for modeling.\n",
        "- Evaluation and comparison of different machine learning models, including Logistic Regression and Random Forest, to find the most effective predictor of diabetes risk.\n",
        "\n",
        "This work is part of an ongoing exploration into how data science can be applied to healthcare data to predict disease risk and support early intervention strategies.\n",
        "\n",
        "For more information, source code, and related resources, please visit the project's GitHub repository at [github.com/joseph-curtis](https://github.com/joseph-curtis/data-science-diabetes-classifier)\n",
        "\n",
        "- <a href=\"https://github.com/joseph-curtis/data-science-diabetes-classifier\" target=\"_blank\"><img align=\"left\" alt=\"Github\" title=\"Open in Github\" width=\"144\" height=\"42\" src=\"https://img.shields.io/badge/GitHub-372a4a?style=for-the-badge&logo=github&logoColor=white\" /></a>"
      ],
      "metadata": {
        "id": "AqRO0YqyMdeC"
      }
    },
    {
      "cell_type": "markdown",
      "source": [
        "# Google Colab\n",
        "\n",
        "Run the following cell when in the Google Colab environment in order to import the data sources from Kaggle.\n",
        "\n",
        "<p><a target=\"_blank\" href=\"https://colab.research.google.com/github/joseph-curtis/data-science-diabetes-classifier/blob/master/colab-notebook.ipynb\">\n",
        "  <img align=\"left\" alt=\"Google Colab\" title=\"Open In Colab\" width=\"167\" height=\"30\" src=\"https://colab.research.google.com/assets/colab-badge.svg\" />\n",
        "</a></p>"
      ],
      "metadata": {
        "id": "VQfuv1C9Wscd"
      }
    },
    {
      "source": [
        "# IMPORTANT: RUN THIS CELL IN ORDER TO IMPORT YOUR KAGGLE DATA SOURCES\n",
        "# TO THE CORRECT LOCATION (/kaggle/input) IN YOUR NOTEBOOK,\n",
        "# THEN FEEL FREE TO DELETE THIS CELL.\n",
        "# NOTE: THIS NOTEBOOK ENVIRONMENT DIFFERS FROM KAGGLE'S PYTHON\n",
        "# ENVIRONMENT SO THERE MAY BE MISSING LIBRARIES USED BY YOUR\n",
        "# NOTEBOOK.\n",
        "\n",
        "import os\n",
        "import sys\n",
        "from tempfile import NamedTemporaryFile\n",
        "from urllib.request import urlopen\n",
        "from urllib.parse import unquote, urlparse\n",
        "from urllib.error import HTTPError\n",
        "from zipfile import ZipFile\n",
        "import tarfile\n",
        "import shutil\n",
        "\n",
        "CHUNK_SIZE = 40960\n",
        "DATA_SOURCE_MAPPING = 'diabetes-health-indicators-dataset:\\\n",
        "https%3A%2F%2Fstorage.googleapis.com%2Fkaggle-data-sets%2F1703281%2F2789260%2F\\\n",
        "bundle%2Farchive.zip%3FX-Goog-Algorithm%3DGOOG4-RSA-SHA256%26X-Goog-Credential\\\n",
        "%3Dgcp-kaggle-com%2540kaggle-161607.iam.gserviceaccount.com%252F20240318%252F\\\n",
        "auto%252Fstorage%252Fgoog4_request%26X-Goog-Date%3D20240318T061338Z%26X-Goog-\\\n",
        "Expires%3D259200%26X-Goog-SignedHeaders%3Dhost%26X-Goog-Signature%3D07bdb86ecd7\\\n",
        "0c483126055dcba8314541ec88e567b9ae028bbbde9b68d274d5ec1c6e3d0c1859178b6bd18f964\\\n",
        "9b8f5dd99e03049a0d45c1397463451d0d36f83e756b0776028f46a89fe8b0c511bc7b73b0faa2f\\\n",
        "2934c0e7dfa27049055525960d1b572a89d5ac7319c6aaa61caa5408b85dbb928ec19625e6a11cd\\\n",
        "a1d6d4d70862a65d5397d43b247886928e2ad4f8d99fde0953855b6082face35e28682484ffffbd\\\n",
        "3151026ae65a9f8217e86f983d1ac299e52d6d21d1fdbef7f03e356ee59c6645f8e310e506c3a63\\\n",
        "4a038bb71a59d80e81b2c77f9d150ceaa5cb954028a30b9b5cc35c0e8f59801c23953f2293e1e44\\\n",
        "3648b1cb2ef6fcc6e72b380a32a,d/julnazz/diabetes-health-indicators-dataset:\\\n",
        "https%3A%2F%2Fstorage.googleapis.com%2Fkaggle-data-sets%2F4066291%2F7062872%2F\\\n",
        "bundle%2Farchive.zip%3FX-Goog-Algorithm%3DGOOG4-RSA-SHA256%26X-Goog-Credential\\\n",
        "%3Dgcp-kaggle-com%2540kaggle-161607.iam.gserviceaccount.com%252F20240318%252F\\\n",
        "auto%252Fstorage%252Fgoog4_request%26X-Goog-Date%3D20240318T061338Z%26X-Goog-\\\n",
        "Expires%3D259200%26X-Goog-SignedHeaders%3Dhost%26X-Goog-Signature%3D72918207ec3\\\n",
        "1108b2099a2604d603e2313e617b29a0b66dcf71b93f1f5e586210ab1637c8b08b43a6ac98abaa2\\\n",
        "cf2310f9db52880746ad9ec4c3a6fd7a6512577f51feb3922ede22b63845e82c8c373c9cce0abdd\\\n",
        "cf6efb55dc855344af8996939b4cc6f2740bc0e4942d81bb0ca92415cce88873ee1cfa4631687ba\\\n",
        "e6dbcb680cdd941f21e62170b1edd284afb7fb9855111f1a19f5419e3af2b521304ef0ed5326fe9\\\n",
        "685eb4e98751fe0622c12d249ccf52673e3711b5edcb0dd485e04f9db5317d0758f354e4ace0381\\\n",
        "c1c997e657a76ad058cb03f67565a50c7c0ff6dd43a1a8aaad88948ada23635548ccf96389bc632\\\n",
        "666c84a8a4ad9bffb0906f630f6'\n",
        "\n",
        "KAGGLE_INPUT_PATH='/kaggle/input'\n",
        "KAGGLE_WORKING_PATH='/kaggle/working'\n",
        "KAGGLE_SYMLINK='kaggle'\n",
        "\n",
        "!umount /kaggle/input/ 2> /dev/null\n",
        "shutil.rmtree('/kaggle/input', ignore_errors=True)\n",
        "os.makedirs(KAGGLE_INPUT_PATH, 0o777, exist_ok=True)\n",
        "os.makedirs(KAGGLE_WORKING_PATH, 0o777, exist_ok=True)\n",
        "\n",
        "try:\n",
        "  os.symlink(KAGGLE_INPUT_PATH, os.path.join(\"..\", 'input'), target_is_directory=True)\n",
        "except FileExistsError:\n",
        "  pass\n",
        "try:\n",
        "  os.symlink(KAGGLE_WORKING_PATH, os.path.join(\"..\", 'working'), target_is_directory=True)\n",
        "except FileExistsError:\n",
        "  pass\n",
        "\n",
        "for data_source_mapping in DATA_SOURCE_MAPPING.split(','):\n",
        "    directory, download_url_encoded = data_source_mapping.split(':')\n",
        "    download_url = unquote(download_url_encoded)\n",
        "    filename = urlparse(download_url).path\n",
        "    destination_path = os.path.join(KAGGLE_INPUT_PATH, directory)\n",
        "    try:\n",
        "        with urlopen(download_url) as fileres, NamedTemporaryFile() as tfile:\n",
        "            total_length = fileres.headers['content-length']\n",
        "            print(f'Downloading {directory}, {total_length} bytes compressed')\n",
        "            dl = 0\n",
        "            data = fileres.read(CHUNK_SIZE)\n",
        "            while len(data) > 0:\n",
        "                dl += len(data)\n",
        "                tfile.write(data)\n",
        "                done = int(50 * dl / int(total_length))\n",
        "                sys.stdout.write(f\"\\r[{'=' * done}{' ' * (50-done)}] {dl} bytes downloaded\")\n",
        "                sys.stdout.flush()\n",
        "                data = fileres.read(CHUNK_SIZE)\n",
        "            if filename.endswith('.zip'):\n",
        "              with ZipFile(tfile) as zfile:\n",
        "                zfile.extractall(destination_path)\n",
        "            else:\n",
        "              with tarfile.open(tfile.name) as tarfile:\n",
        "                tarfile.extractall(destination_path)\n",
        "            print(f'\\nDownloaded and uncompressed: {directory}')\n",
        "    except HTTPError as e:\n",
        "        print(f'Failed to load (likely expired) {download_url} to path {destination_path}')\n",
        "        continue\n",
        "    except OSError as e:\n",
        "        print(f'Failed to load {download_url} to path {destination_path}')\n",
        "        continue\n",
        "\n",
        "print('Data source import complete.')"
      ],
      "metadata": {
        "id": "0obLLkVQMdd-",
        "outputId": "390c1aa2-0a70-45cb-9cdd-a039391756c2",
        "colab": {
          "base_uri": "https://localhost:8080/"
        }
      },
      "cell_type": "code",
      "outputs": [
        {
          "output_type": "stream",
          "name": "stdout",
          "text": [
            "Downloading diabetes-health-indicators-dataset, 6324278 bytes compressed\n",
            "[==================================================] 6324278 bytes downloaded\n",
            "Downloaded and uncompressed: diabetes-health-indicators-dataset\n",
            "Downloading d/julnazz/diabetes-health-indicators-dataset, 5555220 bytes compressed\n",
            "[==================================================] 5555220 bytes downloaded\n",
            "Downloaded and uncompressed: d/julnazz/diabetes-health-indicators-dataset\n",
            "Data source import complete.\n"
          ]
        }
      ],
      "execution_count": 1
    },
    {
      "cell_type": "markdown",
      "source": [
        "# Data Preparation and Initial Analysis\n",
        "\n",
        "Here we focus on preparing and analyzing health indicator data for diabetes from the years 2015 and 2021. The goal is to combine these datasets to form a comprehensive view of the data, which can later be used for machine learning modeling. The following steps are taken:\n",
        "\n",
        "1. Import Libraries\n",
        "2. Load the Data\n",
        "3. Combine the DataFrames\n",
        "4. Rename the column 'Diabetes_binary' for brevity"
      ],
      "metadata": {
        "id": "IfPcWO41MdeC"
      }
    },
    {
      "cell_type": "code",
      "source": [
        "# import Libraries\n",
        "import matplotlib.pyplot as plt\n",
        "import numpy as np\n",
        "import pandas as pd\n",
        "import seaborn as sns\n",
        "from IPython.display import display\n",
        "from matplotlib import pyplot\n",
        "from pandas.plotting import scatter_matrix\n",
        "from sklearn import linear_model, metrics, model_selection\n",
        "from sklearn.ensemble import RandomForestClassifier\n",
        "from sklearn.linear_model import LogisticRegression\n",
        "from sklearn.metrics import (\n",
        "    ConfusionMatrixDisplay,\n",
        "    accuracy_score,\n",
        "    classification_report,\n",
        "    confusion_matrix,\n",
        ")\n",
        "from sklearn.model_selection import KFold, cross_val_score, train_test_split\n",
        "from sklearn.preprocessing import MinMaxScaler\n",
        "\n",
        "# file names and urls\n",
        "filepath_2015 = \"/kaggle/input/diabetes-health-indicators-dataset\\\n",
        "/diabetes_binary_5050split_health_indicators_BRFSS2015.csv\"\n",
        "filepath_2021 = \"/kaggle/input/d/julnazz/diabetes-health-indicators-dataset\\\n",
        "/diabetes_binary_5050split_health_indicators_BRFSS2021.csv\"\n",
        "df1 = pd.read_csv(filepath_2015)\n",
        "df2 = pd.read_csv(filepath_2021)\n",
        "\n",
        "# Combine the two DataFrames\n",
        "combined_df = pd.concat([df1, df2], axis=0).reset_index(drop=True)\n",
        "\n",
        "# Rename the 'Diabetes_binary' column to 'Diabetes'\n",
        "combined_df.rename(columns={\"Diabetes_binary\": \"Diabetes\"}, inplace=True)\n",
        "\n",
        "# Display the first few rows of the combined dataframe\n",
        "# and its shape to verify the combination\n",
        "combined_df_info = combined_df.head(), combined_df.shape\n",
        "\n",
        "combined_df_info  # output"
      ],
      "metadata": {
        "jupyter": {
          "source_hidden": true
        },
        "execution": {
          "iopub.status.busy": "2024-03-16T22:11:15.17286Z",
          "iopub.execute_input": "2024-03-16T22:11:15.173329Z",
          "iopub.status.idle": "2024-03-16T22:11:17.316138Z",
          "shell.execute_reply.started": "2024-03-16T22:11:15.173294Z",
          "shell.execute_reply": "2024-03-16T22:11:17.315009Z"
        },
        "trusted": true,
        "id": "UYS3f_FhMdeD"
      },
      "execution_count": null,
      "outputs": []
    },
    {
      "cell_type": "markdown",
      "source": [
        "# Removing Features\n",
        "\n",
        "Here we remove features deemed irrelevant for modeling purposes. We specify a list of columns to be removed and then drop these columns from the combined DataFrame.\n",
        "\n",
        "We reverse the values of the \"General Health\" feature to make it more clear to the audience when graphed. This makes a value of 5 = \"excellent\" and value of 1 = \"poor\"."
      ],
      "metadata": {
        "id": "L14nD7M7MdeE"
      }
    },
    {
      "cell_type": "code",
      "source": [
        "# Remove irrelevant features from the combined dataset\n",
        "columns_to_remove = [\"CholCheck\", \"AnyHealthcare\", \"NoDocbcCost\", \"Education\", \"Income\"]\n",
        "reduced_df = combined_df.drop(columns=columns_to_remove)\n",
        "\n",
        "# Reverse the values of 'GenHlth'\n",
        "reduced_df[\"GenHlth\"] = 6 - reduced_df[\"GenHlth\"]\n",
        "\n",
        "# Display the first few rows of the reduced dataframe to verify the removal\n",
        "reduced_df.head()"
      ],
      "metadata": {
        "execution": {
          "iopub.status.busy": "2024-03-16T22:11:17.318818Z",
          "iopub.execute_input": "2024-03-16T22:11:17.319304Z",
          "iopub.status.idle": "2024-03-16T22:11:17.364463Z",
          "shell.execute_reply.started": "2024-03-16T22:11:17.319263Z",
          "shell.execute_reply": "2024-03-16T22:11:17.363378Z"
        },
        "trusted": true,
        "id": "bdbV6p2LMdeE"
      },
      "execution_count": null,
      "outputs": []
    },
    {
      "cell_type": "markdown",
      "source": [
        "# Check for Missing Values\n",
        "\n",
        "Here we check for missing values in the combined dataset. Note there are *NO* missing values found."
      ],
      "metadata": {
        "id": "ofFxwF3WMdeE"
      }
    },
    {
      "cell_type": "code",
      "source": [
        "# Check for missing values in the reduced dataset\n",
        "missing_values = reduced_df.isnull().sum()\n",
        "\n",
        "missing_values  ## no missing values found"
      ],
      "metadata": {
        "execution": {
          "iopub.status.busy": "2024-03-16T22:11:17.365698Z",
          "iopub.execute_input": "2024-03-16T22:11:17.365983Z",
          "iopub.status.idle": "2024-03-16T22:11:17.380326Z",
          "shell.execute_reply.started": "2024-03-16T22:11:17.365959Z",
          "shell.execute_reply": "2024-03-16T22:11:17.379321Z"
        },
        "trusted": true,
        "id": "A-c43dsGMdeF"
      },
      "execution_count": null,
      "outputs": []
    },
    {
      "cell_type": "markdown",
      "source": [
        "# Data Type Optimization Analysis\n",
        "\n",
        "Here we perform a preliminary analysis aimed at optimizing data storage and processing efficiency by examining the range of values for selected features within the reduced dataset. Here we see that all numerical values are well within the range of an 8-bit integer (this dataset has no numbers with decimal values).\n",
        "\n",
        "We also calculate the memory used before we adjust the data types-- this is our baseline for memory usage."
      ],
      "metadata": {
        "id": "mvDnkUw7MdeG"
      }
    },
    {
      "cell_type": "code",
      "source": [
        "# Check range of values of specified features to determine suitable data types\n",
        "features_to_optimize = [\"BMI\", \"GenHlth\", \"MentHlth\", \"PhysHlth\", \"Age\"]\n",
        "data_types_optimization = (\n",
        "    reduced_df[features_to_optimize].describe().loc[[\"min\", \"max\"]]\n",
        ")\n",
        "\n",
        "# Memory used before reducing data types\n",
        "memory_before = reduced_df.memory_usage(index=True).sum()\n",
        "\n",
        "data_types_optimization"
      ],
      "metadata": {
        "execution": {
          "iopub.status.busy": "2024-03-16T22:11:17.383826Z",
          "iopub.execute_input": "2024-03-16T22:11:17.38423Z",
          "iopub.status.idle": "2024-03-16T22:11:17.448051Z",
          "shell.execute_reply.started": "2024-03-16T22:11:17.384201Z",
          "shell.execute_reply": "2024-03-16T22:11:17.447249Z"
        },
        "trusted": true,
        "id": "4e-9YBffMdeH"
      },
      "execution_count": null,
      "outputs": []
    },
    {
      "cell_type": "markdown",
      "source": [
        "# Data Type Conversion for Efficiency\n",
        "\n",
        "We enhance the dataset's memory efficiency by converting specified binary columns to boolean data types. We print the memory usage before and after the operation to demonstrate the effectiveness of this optimization in reducing the dataset's memory consumption."
      ],
      "metadata": {
        "id": "wEKt73JqMdeI"
      }
    },
    {
      "cell_type": "code",
      "source": [
        "# scale data types down to reduce memory footprint\n",
        "reduced_df[\"BMI\"] = reduced_df[\"BMI\"].astype(\"float32\")\n",
        "reduced_df[\"GenHlth\"] = reduced_df[\"GenHlth\"].astype(\"int8\")\n",
        "reduced_df[\"MentHlth\"] = reduced_df[\"MentHlth\"].astype(\"int8\")\n",
        "reduced_df[\"PhysHlth\"] = reduced_df[\"PhysHlth\"].astype(\"int8\")\n",
        "reduced_df[\"Age\"] = reduced_df[\"Age\"].astype(\"int8\")\n",
        "\n",
        "# convert 1/0 binary columns to boolean values\n",
        "binary_columns = [\n",
        "    \"Diabetes\",\n",
        "    \"HighBP\",\n",
        "    \"HighChol\",\n",
        "    \"Smoker\",\n",
        "    \"Stroke\",\n",
        "    \"HeartDiseaseorAttack\",\n",
        "    \"PhysActivity\",\n",
        "    \"Fruits\",\n",
        "    \"Veggies\",\n",
        "    \"HvyAlcoholConsump\",\n",
        "    \"DiffWalk\",\n",
        "    \"Sex\",\n",
        "]\n",
        "for column in binary_columns:\n",
        "    reduced_df[column] = reduced_df[column].astype(\"bool\")\n",
        "\n",
        "# memory size after data type reduction\n",
        "memory_after = reduced_df.memory_usage(index=True).sum()\n",
        "\n",
        "print(\"Dataframe memory used before:\", memory_before)\n",
        "print(\"Dataframe memory used after:  \", memory_after)"
      ],
      "metadata": {
        "jupyter": {
          "source_hidden": true
        },
        "execution": {
          "iopub.status.busy": "2024-03-16T22:11:17.450513Z",
          "iopub.execute_input": "2024-03-16T22:11:17.451158Z",
          "iopub.status.idle": "2024-03-16T22:11:17.474581Z",
          "shell.execute_reply.started": "2024-03-16T22:11:17.451128Z",
          "shell.execute_reply": "2024-03-16T22:11:17.473388Z"
        },
        "trusted": true,
        "id": "GHcsaBPyMdeI"
      },
      "execution_count": null,
      "outputs": []
    },
    {
      "cell_type": "markdown",
      "source": [
        "# Logistic Regression Model for Diabetes Prediction\n",
        "\n",
        "Here we prepare data for machine learning, specifically using a logistic regression model to predict diabetes. First, numerical columns are identified and scaled using MinMaxScaler to ensure all features contribute equally to the model without bias from varying scales. A logistic regression model is then initialized with specific parameters. The dataset is split into features (X_log) and the target variable (y_log). The data is further divided into training and test sets to evaluate the model's performance on unseen data.\n",
        "\n",
        "After training the logistic regression model, predictions are made on the test set. The model's effectiveness is assessed using accuracy, confusion matrix, and classification report, providing a comprehensive overview of its predictive capabilities in distinguishing between diabetic and non-diabetic individuals."
      ],
      "metadata": {
        "id": "Cb56yC3JMdeI"
      }
    },
    {
      "cell_type": "code",
      "source": [
        "# copy Dataframe for Logistic model\n",
        "log_df = reduced_df.copy(deep=True)\n",
        "\n",
        "# Selecting numerical columns (excluding binary/boolean columns)\n",
        "numerical_columns = [\"BMI\", \"GenHlth\", \"MentHlth\", \"PhysHlth\", \"Age\"]\n",
        "\n",
        "# Initialize the MinMaxScaler\n",
        "scaler = MinMaxScaler()\n",
        "\n",
        "# Fit and transform the numerical features\n",
        "log_df[numerical_columns] = scaler.fit_transform(log_df[numerical_columns])\n",
        "\n",
        "mylog_model = linear_model.LogisticRegression(solver=\"saga\", max_iter=1000)\n",
        "\n",
        "# 'X' is the feature set and 'y' is the target variable\n",
        "X_log = log_df.drop(\"Diabetes\", axis=1)\n",
        "y_log = log_df[\"Diabetes\"].astype(\"bool\")  # Ensuring the target is boolean\n",
        "\n",
        "# Splitting the dataset into the Training set and Test set\n",
        "X_log_train, X_log_test, y_log_train, y_log_test = model_selection.train_test_split(\n",
        "    X_log, y_log, test_size=0.25, random_state=42\n",
        ")\n",
        "\n",
        "# Train the model and output prediction of test data\n",
        "mylog_model.fit(X_log_train, y_log_train)\n",
        "y_pred_log = mylog_model.predict(X_log_test)\n",
        "\n",
        "# Evaluate the model\n",
        "accuracy_log = accuracy_score(y_log_test, y_pred_log)\n",
        "conf_matrix_log = confusion_matrix(y_log_test, y_pred_log)\n",
        "class_report_log = classification_report(y_log_test, y_pred_log)\n",
        "\n",
        "print(\"\\nLogistic Regression (single) prediction results:\", \"\\n\")\n",
        "print(f\"Accuracy: {round(accuracy_log*100,2)} %\", \"\\n\")\n",
        "print(\"Confusion Matrix:\")\n",
        "print(conf_matrix_log, \"\\n\")\n",
        "print(\"Classification Report:\")\n",
        "print(class_report_log)"
      ],
      "metadata": {
        "tags": [],
        "execution": {
          "iopub.status.busy": "2024-03-16T22:11:17.47591Z",
          "iopub.execute_input": "2024-03-16T22:11:17.47622Z",
          "iopub.status.idle": "2024-03-16T22:11:18.508659Z",
          "shell.execute_reply.started": "2024-03-16T22:11:17.476194Z",
          "shell.execute_reply": "2024-03-16T22:11:18.507569Z"
        },
        "trusted": true,
        "id": "JxxgKGq1MdeJ"
      },
      "execution_count": null,
      "outputs": []
    },
    {
      "cell_type": "markdown",
      "source": [
        "# Exporting the Model\n",
        "\n",
        "To save the trained model, we can use the joblib library. Here we show how to save and load the model."
      ],
      "metadata": {
        "id": "MXe4PtXVMdeJ"
      }
    },
    {
      "cell_type": "code",
      "source": [
        "import joblib\n",
        "\n",
        "# Save the model to a file\n",
        "joblib.dump(mylog_model, 'diabetes-classifier-log_model.pkl')\n",
        "\n",
        "# Later, load the model from the file with the following:\n",
        "# mylog_model = joblib.load('my_model_filename.pkl')"
      ],
      "metadata": {
        "execution": {
          "iopub.status.busy": "2024-03-16T22:11:18.510141Z",
          "iopub.execute_input": "2024-03-16T22:11:18.511293Z",
          "iopub.status.idle": "2024-03-16T22:11:18.520971Z",
          "shell.execute_reply.started": "2024-03-16T22:11:18.51125Z",
          "shell.execute_reply": "2024-03-16T22:11:18.519579Z"
        },
        "trusted": true,
        "id": "sHEWyYjbMdeK"
      },
      "execution_count": null,
      "outputs": []
    },
    {
      "cell_type": "markdown",
      "source": [
        "# Patient Outcome Prediction\n",
        "\n",
        "This here is the objective of this project: to predict whether or not a patient is at risk of diabetes. The user enters the various health indicators, clicks the button and gets a prediction printed below.\n",
        "\n",
        "### Age Category-number to Year-range\n",
        "\n",
        "|*Category*|1|2|3|4|5|6|7|8|9|10|11|12|13|\n",
        "|--|--|--|--|--|--|--|--|--|--|--|--|--|--|\n",
        "|***Age range***|18-24|25-29|30-34|35-39|40-44|45-49|50-54|55-59|60-64|65-69|70-74|75-79|80+|"
      ],
      "metadata": {
        "id": "ymSp9SDiMdeK"
      }
    },
    {
      "cell_type": "code",
      "source": [
        "# USER INTERFACE: form for input for patient prediction\n",
        "import ipywidgets as widgets\n",
        "\n",
        "# 'features_dict' is a dictionary mapping feature to description\n",
        "features_dict = {\n",
        "    \"Sex\": \"Sex:\",\n",
        "    \"Age\": \"Age category (1 = 18-24, 13 = 80 or older; see table):\",\n",
        "    \"BMI\": \"Body Mass Index:\",\n",
        "    \"HighBP\": \"High Blood Pressure\",\n",
        "    \"HighChol\": \"High Cholesterol\",\n",
        "    \"Smoker\": \"Have you smoked at least 100 cigarettes in your life?\",\n",
        "    \"HvyAlcoholConsump\": \"Heavy drinkers (drinks <14 for men, <7 for women per week\",\n",
        "    \"Stroke\": \"(Ever told) you had a Stroke?\",\n",
        "    \"HeartDiseaseorAttack\": \"Heart Disease or Attack (CHD or MI)\",\n",
        "    \"GenHlth\": \"General Health scale :\",\n",
        "    \"MentHlth\": \"How many past days was your Mental Health not good?\",\n",
        "    \"PhysHlth\": \"How many past days was your Physical Health not good?\",\n",
        "    \"DiffWalk\": \"Do you have Difficulty Walking or climbing stairs?\",\n",
        "    \"PhysActivity\": \"Physical Activity in past 30 days, not incl job\",\n",
        "    \"Fruits\": \"Eat 1 Fruit or more per day\",\n",
        "    \"Veggies\": \"Eat Veggies 1 or more per day\",\n",
        "}\n",
        "widgets_dict = {}\n",
        "\n",
        "# Create widgets for each feature\n",
        "for item in features_dict.keys():\n",
        "    if item in [\n",
        "        \"HighBP\",\n",
        "        \"HighChol\",\n",
        "        \"Smoker\",\n",
        "        \"Stroke\",\n",
        "        \"HeartDiseaseorAttack\",\n",
        "        \"PhysActivity\",\n",
        "        \"Fruits\",\n",
        "        \"Veggies\",\n",
        "        \"HvyAlcoholConsump\",\n",
        "        \"DiffWalk\",\n",
        "    ]:\n",
        "        # Binary features: create a dropdown with options 'Yes' and 'No'\n",
        "        widgets_dict[item + \"_label\"] = widgets.Label(\n",
        "            features_dict.get(item), layout={\"width\": \"max-content\"}\n",
        "        )\n",
        "        widgets_dict[item] = widgets.RadioButtons(\n",
        "            options={\"No\": 0, \"Yes\": 1},\n",
        "            value=0,\n",
        "        )\n",
        "    if item in [\"Sex\"]:\n",
        "        # Create a dropdown with options 'Male' and 'Female'\n",
        "        widgets_dict[item + \"_label\"] = widgets.Label(\n",
        "            features_dict.get(item), layout={\"width\": \"max-content\"}\n",
        "        )\n",
        "        widgets_dict[item] = widgets.Dropdown(\n",
        "            options=[(\"Female\", 0), (\"Male\", 1)],\n",
        "            value=0,\n",
        "        )\n",
        "    # Numerical features: create float sliders\n",
        "    if item in [\"BMI\"]:\n",
        "        widgets_dict[item + \"_label\"] = widgets.Label(\n",
        "            features_dict.get(item), layout={\"width\": \"max-content\"}\n",
        "        )\n",
        "        widgets_dict[item] = widgets.FloatSlider(\n",
        "            value=20.0,\n",
        "            min=10,\n",
        "            max=50.0,\n",
        "            step=0.1,\n",
        "        )\n",
        "    if item in [\"GenHlth\"]:\n",
        "        widgets_dict[item + \"_label\"] = widgets.Label(\n",
        "            features_dict.get(item), layout={\"width\": \"max-content\"}\n",
        "        )\n",
        "        widgets_dict[item] = widgets.FloatSlider(\n",
        "            value=3,\n",
        "            min=1,\n",
        "            max=5,\n",
        "            step=1,\n",
        "        )\n",
        "    if item in [\"MentHlth\", \"PhysHlth\"]:\n",
        "        widgets_dict[item + \"_label\"] = widgets.Label(\n",
        "            features_dict.get(item), layout={\"width\": \"max-content\"}\n",
        "        )\n",
        "        widgets_dict[item] = widgets.FloatSlider(\n",
        "            value=0,\n",
        "            min=0,\n",
        "            max=30,\n",
        "            step=1,\n",
        "        )\n",
        "    if item in [\"Age\"]:\n",
        "        widgets_dict[item + \"_label\"] = widgets.Label(\n",
        "            features_dict.get(item), layout={\"width\": \"max-content\"}\n",
        "        )\n",
        "        widgets_dict[item] = widgets.FloatSlider(\n",
        "            value=8,\n",
        "            min=1,\n",
        "            max=13,\n",
        "            step=1,\n",
        "        )\n",
        "\n",
        "# Button to make prediction\n",
        "predict_btn = widgets.Button(description=\"Predict Patient Risk\")\n",
        "\n",
        "# Output widget to display prediction result\n",
        "output = widgets.Output()\n",
        "\n",
        "\n",
        "def on_predict_btn_clicked(b):\n",
        "    # Prepare the input for the model\n",
        "    input_data = [widgets_dict[feature].value for feature in features_dict.keys()]\n",
        "    input_data = np.array(input_data).reshape(1, -1)\n",
        "\n",
        "    # Create a DataFrame with input_data and assign column names using features\n",
        "    input_df = pd.DataFrame(input_data, columns=features_dict.keys())\n",
        "\n",
        "    # Ensure the DataFrame columns are in the correct order\n",
        "    input_df = input_df[X_log.columns]\n",
        "\n",
        "    # Apply the same scaling to the input as was done to the training data\n",
        "    input_df[numerical_columns] = scaler.transform(input_df[numerical_columns])\n",
        "\n",
        "    #### Make prediction ####\n",
        "    prediction = mylog_model.predict(input_df)\n",
        "\n",
        "    # Display prediction\n",
        "    with output:\n",
        "        output.clear_output()\n",
        "        if prediction[0] == 0:\n",
        "            print(\"Prediction: Not at risk of diabetes\")\n",
        "        else:\n",
        "            print(\"Prediction: At risk of diabetes\")\n",
        "\n",
        "\n",
        "predict_btn.on_click(on_predict_btn_clicked)\n",
        "\n",
        "# Display widgets\n",
        "for widget in widgets_dict.values():\n",
        "    display(widget)\n",
        "display(predict_btn, output)"
      ],
      "metadata": {
        "execution": {
          "iopub.status.busy": "2024-03-16T22:13:14.730095Z",
          "iopub.execute_input": "2024-03-16T22:13:14.730511Z",
          "iopub.status.idle": "2024-03-16T22:13:14.913068Z",
          "shell.execute_reply.started": "2024-03-16T22:13:14.730481Z",
          "shell.execute_reply": "2024-03-16T22:13:14.911907Z"
        },
        "trusted": true,
        "id": "ejo37xPQMdeL"
      },
      "execution_count": null,
      "outputs": []
    },
    {
      "cell_type": "markdown",
      "source": [
        "# Data Exploration\n",
        "\n",
        "Next we generate some visuals to explore some possible relationships in the data. We will look at Histograms and Scatterplots.\n",
        "\n",
        "## Histogram Figure 1.a\n",
        "\n",
        "Here we generate a histogram that compares the distribution of general health ratings (GenHlth) between individuals with and without diabetes (Diabetes status) in the dataset. For each group, we display the frequency of respondents across five health rating categories, ranging from poor to excellent health, after these ratings have been reversed so that higher numbers indicate better health. The histogram for individuals without diabetes is shown in blue, while the histogram for those with diabetes is in orange, allowing for a visual comparison of how general health perceptions differ between these two groups. This visualization aids in understanding whether there's a noticeable difference in self-reported general health status among individuals based on their diabetes condition."
      ],
      "metadata": {
        "id": "OBnq5rZdMdeL"
      }
    },
    {
      "cell_type": "code",
      "source": [
        "# Filter the dataset by Diabetes status\n",
        "gen_health_no_diabetes = reduced_df[reduced_df[\"Diabetes\"] == False][\"GenHlth\"]\n",
        "gen_health_with_diabetes = reduced_df[reduced_df[\"Diabetes\"] == True][\"GenHlth\"]\n",
        "\n",
        "# Plot histograms\n",
        "plt.hist(\n",
        "    gen_health_no_diabetes, bins=5, alpha=0.5, label=\"No Diabetes\", edgecolor=\"black\"\n",
        ")\n",
        "plt.hist(\n",
        "    gen_health_with_diabetes, bins=5, alpha=0.5, label=\"Diabetes\", edgecolor=\"black\"\n",
        ")\n",
        "\n",
        "# Add legend\n",
        "plt.legend()\n",
        "\n",
        "# Add titles and labels as needed\n",
        "plt.title(\"General Health by Diabetes Status\")\n",
        "plt.xlabel(\"General Health Rating\")\n",
        "plt.ylabel(\"Frequency\")\n",
        "\n",
        "# Set x-axis to display integer values from 1 to 5\n",
        "plt.xticks(range(1, 6))\n",
        "\n",
        "# Show the plot\n",
        "plt.show()"
      ],
      "metadata": {
        "tags": [],
        "jupyter": {
          "source_hidden": true
        },
        "execution": {
          "iopub.status.busy": "2024-03-16T22:11:18.710017Z",
          "iopub.execute_input": "2024-03-16T22:11:18.710485Z",
          "iopub.status.idle": "2024-03-16T22:11:19.090889Z",
          "shell.execute_reply.started": "2024-03-16T22:11:18.710444Z",
          "shell.execute_reply": "2024-03-16T22:11:19.089873Z"
        },
        "trusted": true,
        "id": "mDsuXvKEMdeL"
      },
      "execution_count": null,
      "outputs": []
    },
    {
      "cell_type": "markdown",
      "source": [
        "## Histogram Figure 1.b\n",
        "\n",
        "Analysis of physical health comparing diabetics to non-diabetics."
      ],
      "metadata": {
        "id": "XUmTJ0wAMdeM"
      }
    },
    {
      "cell_type": "code",
      "source": [
        "# Filter the dataset by Diabetes status\n",
        "phys_health_no_diabetes = reduced_df[reduced_df[\"Diabetes\"] == False][\"PhysHlth\"]\n",
        "phys_health_with_diabetes = reduced_df[reduced_df[\"Diabetes\"] == True][\"PhysHlth\"]\n",
        "\n",
        "# Plot histograms\n",
        "plt.hist(\n",
        "    phys_health_no_diabetes, alpha=0.5, label=\"No Diabetes\", bins=6, edgecolor=\"black\"\n",
        ")\n",
        "plt.hist(\n",
        "    phys_health_with_diabetes, alpha=0.5, label=\"Diabetes\", bins=6, edgecolor=\"black\"\n",
        ")\n",
        "\n",
        "# Add legend\n",
        "plt.legend()\n",
        "\n",
        "# Add titles and labels as needed\n",
        "plt.title(\"Physical Health by Diabetes Status\")\n",
        "plt.xlabel(\"Poor Physical Health Days\")\n",
        "plt.ylabel(\"Frequency\")\n",
        "\n",
        "# Show the plot\n",
        "plt.show()"
      ],
      "metadata": {
        "tags": [],
        "jupyter": {
          "source_hidden": true
        },
        "execution": {
          "iopub.status.busy": "2024-03-16T22:11:19.09314Z",
          "iopub.execute_input": "2024-03-16T22:11:19.093474Z",
          "iopub.status.idle": "2024-03-16T22:11:19.444961Z",
          "shell.execute_reply.started": "2024-03-16T22:11:19.093445Z",
          "shell.execute_reply": "2024-03-16T22:11:19.44418Z"
        },
        "trusted": true,
        "id": "45xecSFdMdeM"
      },
      "execution_count": null,
      "outputs": []
    },
    {
      "cell_type": "markdown",
      "source": [
        "## Histogram Figure 1.c\n",
        "\n",
        "Analysis of mental health comparing diabetics to non-diabetics."
      ],
      "metadata": {
        "tags": [],
        "id": "mf4J3CtKMdeM"
      }
    },
    {
      "cell_type": "code",
      "source": [
        "# Filter the dataset by Diabetes status\n",
        "phys_health_no_diabetes = reduced_df[reduced_df[\"Diabetes\"] == False][\"MentHlth\"]\n",
        "phys_health_with_diabetes = reduced_df[reduced_df[\"Diabetes\"] == True][\"MentHlth\"]\n",
        "\n",
        "# Plot histograms\n",
        "plt.hist(\n",
        "    phys_health_no_diabetes, alpha=0.5, label=\"No Diabetes\", bins=6, edgecolor=\"black\"\n",
        ")\n",
        "plt.hist(\n",
        "    phys_health_with_diabetes, alpha=0.5, label=\"Diabetes\", bins=6, edgecolor=\"black\"\n",
        ")\n",
        "\n",
        "# Add legend\n",
        "plt.legend()\n",
        "\n",
        "# Add titles and labels as needed\n",
        "plt.title(\"Mental Health by Diabetes Status\")\n",
        "plt.xlabel(\"Poor Mental Health Days\")\n",
        "plt.ylabel(\"Frequency\")\n",
        "\n",
        "# Show the plot\n",
        "plt.show()"
      ],
      "metadata": {
        "tags": [],
        "jupyter": {
          "source_hidden": true
        },
        "execution": {
          "iopub.status.busy": "2024-03-16T22:11:19.44602Z",
          "iopub.execute_input": "2024-03-16T22:11:19.44696Z",
          "iopub.status.idle": "2024-03-16T22:11:19.805021Z",
          "shell.execute_reply.started": "2024-03-16T22:11:19.446873Z",
          "shell.execute_reply": "2024-03-16T22:11:19.803924Z"
        },
        "trusted": true,
        "id": "oH_pq_TaMdeN"
      },
      "execution_count": null,
      "outputs": []
    },
    {
      "cell_type": "markdown",
      "source": [
        "## Histogram Figure 1.d\n",
        "\n",
        "### Age distribution\n",
        "\n",
        "Here we provide a visual distribution analysis of the Age feature. Of note, the data was collected using a 13-level age category where 1 = 18-24, 9 = 60-64, and 13 = 80 or older."
      ],
      "metadata": {
        "id": "MRsxs4uKMdeN"
      }
    },
    {
      "cell_type": "code",
      "source": [
        "# Plot Age histogram\n",
        "graph_histograms = reduced_df.hist(column=\"Age\", grid=True, bins=13)\n",
        "\n",
        "# Calculate the tick positions for 13 bins\n",
        "tick_positions = range(1, 14)\n",
        "\n",
        "# Set the x-axis ticks\n",
        "plt.xticks(tick_positions)\n",
        "\n",
        "# Optionally, set x-axis and y-axis labels\n",
        "plt.xlabel(\"Age Category\")\n",
        "plt.ylabel(\"Frequency\")\n",
        "\n",
        "# Show the plot\n",
        "plt.show()"
      ],
      "metadata": {
        "tags": [],
        "jupyter": {
          "source_hidden": true
        },
        "execution": {
          "iopub.status.busy": "2024-03-16T22:11:19.806491Z",
          "iopub.execute_input": "2024-03-16T22:11:19.806911Z",
          "iopub.status.idle": "2024-03-16T22:11:20.181236Z",
          "shell.execute_reply.started": "2024-03-16T22:11:19.806872Z",
          "shell.execute_reply": "2024-03-16T22:11:20.179937Z"
        },
        "trusted": true,
        "id": "kFChz9qBMdeN"
      },
      "execution_count": null,
      "outputs": []
    },
    {
      "cell_type": "markdown",
      "source": [
        "## Scatterplot figure 2.a\n",
        "\n",
        "### BMI over Age\n",
        "\n",
        "Here we see that diabetics have a higher BMI on average."
      ],
      "metadata": {
        "id": "8XDJGZ1TMdeO"
      }
    },
    {
      "cell_type": "code",
      "source": [
        "# Copy the DataFrame to avoid modifying the original data\n",
        "plot_df = reduced_df.copy()\n",
        "\n",
        "# Map True/False to Male/Female\n",
        "plot_df[\"Sex\"] = plot_df[\"Sex\"].map({True: \"Male\", False: \"Female\"})\n",
        "\n",
        "# Age/BMI Scatterplot\n",
        "sns.lmplot(\n",
        "    data=plot_df,\n",
        "    x=\"Age\",\n",
        "    y=\"BMI\",\n",
        "    col=\"Sex\",\n",
        "    hue=\"Diabetes\",\n",
        "    x_bins=1000,\n",
        "    fit_reg=False,\n",
        ")"
      ],
      "metadata": {
        "tags": [],
        "jupyter": {
          "source_hidden": true
        },
        "execution": {
          "iopub.status.busy": "2024-03-16T22:11:20.182626Z",
          "iopub.execute_input": "2024-03-16T22:11:20.182961Z",
          "iopub.status.idle": "2024-03-16T22:11:25.464012Z",
          "shell.execute_reply.started": "2024-03-16T22:11:20.182923Z",
          "shell.execute_reply": "2024-03-16T22:11:25.463031Z"
        },
        "trusted": true,
        "id": "1f7g8d2mMdeO"
      },
      "execution_count": null,
      "outputs": []
    },
    {
      "cell_type": "markdown",
      "source": [
        "## Scatterplot figure 2.b\n",
        "\n",
        "### General Health over Age\n",
        "\n",
        "The general health indicator is on a scale of 1 to 5, with a score of 5 as excellent. Here we see that diabetics have poorer general health. We also see a trend in healthy people where the older one gets, the poorer their overall health. Diabetics do not show this trend."
      ],
      "metadata": {
        "id": "o9CJtN-nMdeO"
      }
    },
    {
      "cell_type": "code",
      "source": [
        "# Age/General-Health Scatterplot\n",
        "sns.lmplot(data=reduced_df, x=\"Age\", y=\"GenHlth\", hue=\"Diabetes\", x_bins=1000)"
      ],
      "metadata": {
        "tags": [],
        "jupyter": {
          "source_hidden": true
        },
        "execution": {
          "iopub.status.busy": "2024-03-16T22:11:25.467529Z",
          "iopub.execute_input": "2024-03-16T22:11:25.467881Z",
          "iopub.status.idle": "2024-03-16T22:11:43.699329Z",
          "shell.execute_reply.started": "2024-03-16T22:11:25.467847Z",
          "shell.execute_reply": "2024-03-16T22:11:43.69824Z"
        },
        "trusted": true,
        "id": "QzlCG6qdMdeO"
      },
      "execution_count": null,
      "outputs": []
    },
    {
      "cell_type": "markdown",
      "source": [
        "## Scatterplot figure 2.c\n",
        "\n",
        "### Physical Health as compared to Mental health\n",
        "\n",
        "Here we see a trend that the more days per month of poor mental health an individual has, the more days on average of physical health they will experience. Of note is diabetics have a similar distribution of poor mental health days, but significantly more days per month of poor physical health."
      ],
      "metadata": {
        "id": "Pv1xLl_LMdeO"
      }
    },
    {
      "cell_type": "code",
      "source": [
        "# Health Scatterplot\n",
        "sns.lmplot(data=reduced_df, x=\"MentHlth\", y=\"PhysHlth\", hue=\"Diabetes\", x_bins=1000)"
      ],
      "metadata": {
        "tags": [],
        "jupyter": {
          "source_hidden": true
        },
        "execution": {
          "iopub.status.busy": "2024-03-16T22:11:43.700973Z",
          "iopub.execute_input": "2024-03-16T22:11:43.701458Z",
          "iopub.status.idle": "2024-03-16T22:12:02.927467Z",
          "shell.execute_reply.started": "2024-03-16T22:11:43.701419Z",
          "shell.execute_reply": "2024-03-16T22:12:02.926357Z"
        },
        "trusted": true,
        "id": "kTrbidIjMdeP"
      },
      "execution_count": null,
      "outputs": []
    },
    {
      "cell_type": "markdown",
      "source": [
        "# Random Forest Model for Comparison\n",
        "\n",
        "Here we set up a second model using the Random Forest algorithm to compare with our Logistic Regression model. The steps are much the same as before, however we do not need to scale the numerical data."
      ],
      "metadata": {
        "id": "OAVhhziBMdeP"
      }
    },
    {
      "cell_type": "code",
      "source": [
        "# 'X' is the set of features and 'y' is the target variable\n",
        "X_rf = reduced_df.drop(\"Diabetes\", axis=1)\n",
        "y_rf = reduced_df[\"Diabetes\"].astype(\"bool\")  # Ensuring the target is boolean\n",
        "\n",
        "# Splitting the dataset into the Training set and Test set\n",
        "X_rf_train, X_rf_test, y_rf_train, y_rf_test = train_test_split(\n",
        "    X_rf, y_rf, test_size=0.25, random_state=42\n",
        ")\n",
        "\n",
        "# Creating a Random Forest Classifier -- You can adjust parameters\n",
        "rf_classifier = RandomForestClassifier(n_estimators=100, random_state=42)\n",
        "\n",
        "# Fitting Random Forest to the Training set\n",
        "rf_classifier.fit(X_rf_train, y_rf_train)\n",
        "\n",
        "# Predicting the Test set results\n",
        "y_pred_rf = rf_classifier.predict(X_rf_test)\n",
        "\n",
        "accuracy_rf = accuracy_score(y_rf_test, y_pred_rf)\n",
        "conf_matrix_rf = confusion_matrix(y_rf_test, y_pred_rf)\n",
        "class_report_rf = classification_report(y_rf_test, y_pred_rf)\n",
        "\n",
        "# Evaluate the model\n",
        "print(\"\\nRandom Forest (single) prediction results:\", \"\\n\")\n",
        "print(f\"Accuracy: {round(accuracy_rf*100,2)} %\", \"\\n\")\n",
        "print(\"Confusion Matrix:\")\n",
        "print(conf_matrix_rf, \"\\n\")\n",
        "print(\"Classification Report:\")\n",
        "print(class_report_rf)"
      ],
      "metadata": {
        "tags": [],
        "execution": {
          "iopub.status.busy": "2024-03-16T22:12:02.929015Z",
          "iopub.execute_input": "2024-03-16T22:12:02.930077Z",
          "iopub.status.idle": "2024-03-16T22:12:20.974195Z",
          "shell.execute_reply.started": "2024-03-16T22:12:02.930044Z",
          "shell.execute_reply": "2024-03-16T22:12:20.972952Z"
        },
        "trusted": true,
        "id": "V-n71G-LMdeP"
      },
      "execution_count": null,
      "outputs": []
    },
    {
      "cell_type": "markdown",
      "source": [
        "# Cross-Validation of Models\n",
        "\n",
        "Next we perform a cross-validation process on the logistic regression and Random Forest models to verify their reliability across different subsets of the dataset. By utilizing the KFold method with 5 splits and shuffling enabled, the dataset is divided into distinct subsets to conduct multiple training and testing cycles. The average of these scores is calculated and displayed, offering a robust measure of the model's overall performance. This approach helps to ensure that the model's predictive accuracy is not overly dependent on any particular partition of the data, thereby increasing confidence in its generalizability."
      ],
      "metadata": {
        "id": "zyVCZBQaMdeR"
      }
    },
    {
      "cell_type": "code",
      "source": [
        "# Verify model by averaging different test/train splits\n",
        "k_folds = KFold(n_splits=5, shuffle=True)\n",
        "# The number of folds determines the test/train split for each iteration.\n",
        "# So 5 folds has 5 different mutually exclusive training sets.\n",
        "# That's a 1 to 4 (or .20 to .80) testing/training split for each of the 5 iterations.\n",
        "\n",
        "# This is the average score. Print 'scores' to see array of individual iteration scores.\n",
        "log_scores = cross_val_score(mylog_model, X_log, y_log)\n",
        "rf_scores = cross_val_score(rf_classifier, X_rf, y_rf)\n",
        "\n",
        "# Output average scores\n",
        "print(\n",
        "    \"Logistic Regression Average Prediction Score: \",\n",
        "    round(log_scores.mean() * 100, 2),\n",
        "    \"%\",\n",
        ")\n",
        "print(\"Random Forest Average Prediction Score: \", round(rf_scores.mean() * 100, 2), \"%\")"
      ],
      "metadata": {
        "tags": [],
        "jupyter": {
          "source_hidden": true
        },
        "execution": {
          "iopub.status.busy": "2024-03-16T22:12:20.97528Z",
          "iopub.execute_input": "2024-03-16T22:12:20.975604Z",
          "iopub.status.idle": "2024-03-16T22:13:09.764565Z",
          "shell.execute_reply.started": "2024-03-16T22:12:20.975577Z",
          "shell.execute_reply": "2024-03-16T22:13:09.762336Z"
        },
        "trusted": true,
        "id": "dDYGPlXcMdeR"
      },
      "execution_count": null,
      "outputs": []
    },
    {
      "cell_type": "markdown",
      "source": [
        "# Confusion Matrix Visual\n",
        "\n",
        "Confusion matrixes are used to evaluate the performance in classifying diabetic and non-diabetic individuals. Here we look at the Logistic Regression model, because it proved to be more accurate. More importantly, it had less false-negative outcomes compared to the random forest model (4101 vs 4297)."
      ],
      "metadata": {
        "tags": [],
        "id": "V2cxJQzPMdeR"
      }
    },
    {
      "cell_type": "code",
      "source": [
        "# Plot confusion matrix\n",
        "graph_confusion_matrix = ConfusionMatrixDisplay.from_predictions(y_log_test, y_pred_log)"
      ],
      "metadata": {
        "tags": [],
        "jupyter": {
          "source_hidden": true
        },
        "execution": {
          "iopub.status.busy": "2024-03-16T22:13:09.765791Z",
          "iopub.status.idle": "2024-03-16T22:13:09.766486Z",
          "shell.execute_reply.started": "2024-03-16T22:13:09.766077Z",
          "shell.execute_reply": "2024-03-16T22:13:09.766203Z"
        },
        "trusted": true,
        "id": "zoO9XUoIMdeR"
      },
      "execution_count": null,
      "outputs": []
    }
  ]
}