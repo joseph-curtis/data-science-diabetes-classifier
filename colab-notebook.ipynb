{
  "metadata": {
    "kaggle": {
      "accelerator": "none",
      "dataSources": [
        {
          "sourceId": 2789260,
          "sourceType": "datasetVersion",
          "datasetId": 1703281
        },
        {
          "sourceId": 7062872,
          "sourceType": "datasetVersion",
          "datasetId": 4066291
        }
      ],
      "dockerImageVersionId": 30664,
      "isInternetEnabled": false,
      "language": "python",
      "sourceType": "notebook",
      "isGpuEnabled": false
    },
    "kernelspec": {
      "name": "python3",
      "display_name": "Python 3"
    },
    "language_info": {
      "name": "python",
      "version": "3.10.13",
      "mimetype": "text/x-python",
      "codemirror_mode": {
        "name": "ipython",
        "version": 3
      },
      "pygments_lexer": "ipython3",
      "nbconvert_exporter": "python",
      "file_extension": ".py"
    },
    "colab": {
      "name": "at-risk diabetes classifier",
      "provenance": [],
      "cell_execution_strategy": "setup"
    },
    "widgets": {
      "application/vnd.jupyter.widget-state+json": {
        "3b0d40c96aa64836934d73d80bba737f": {
          "model_module": "@jupyter-widgets/controls",
          "model_name": "LabelModel",
          "model_module_version": "1.5.0",
          "state": {
            "_dom_classes": [],
            "_model_module": "@jupyter-widgets/controls",
            "_model_module_version": "1.5.0",
            "_model_name": "LabelModel",
            "_view_count": null,
            "_view_module": "@jupyter-widgets/controls",
            "_view_module_version": "1.5.0",
            "_view_name": "LabelView",
            "description": "",
            "description_tooltip": null,
            "layout": "IPY_MODEL_65be0b86dfb44669aa618454eead0231",
            "placeholder": "​",
            "style": "IPY_MODEL_70aa0802cc0a4204bbb6ff8c4a9222ef",
            "value": "Sex:"
          }
        },
        "65be0b86dfb44669aa618454eead0231": {
          "model_module": "@jupyter-widgets/base",
          "model_name": "LayoutModel",
          "model_module_version": "1.2.0",
          "state": {
            "_model_module": "@jupyter-widgets/base",
            "_model_module_version": "1.2.0",
            "_model_name": "LayoutModel",
            "_view_count": null,
            "_view_module": "@jupyter-widgets/base",
            "_view_module_version": "1.2.0",
            "_view_name": "LayoutView",
            "align_content": null,
            "align_items": null,
            "align_self": null,
            "border": null,
            "bottom": null,
            "display": null,
            "flex": null,
            "flex_flow": null,
            "grid_area": null,
            "grid_auto_columns": null,
            "grid_auto_flow": null,
            "grid_auto_rows": null,
            "grid_column": null,
            "grid_gap": null,
            "grid_row": null,
            "grid_template_areas": null,
            "grid_template_columns": null,
            "grid_template_rows": null,
            "height": null,
            "justify_content": null,
            "justify_items": null,
            "left": null,
            "margin": null,
            "max_height": null,
            "max_width": null,
            "min_height": null,
            "min_width": null,
            "object_fit": null,
            "object_position": null,
            "order": null,
            "overflow": null,
            "overflow_x": null,
            "overflow_y": null,
            "padding": null,
            "right": null,
            "top": null,
            "visibility": null,
            "width": "max-content"
          }
        },
        "70aa0802cc0a4204bbb6ff8c4a9222ef": {
          "model_module": "@jupyter-widgets/controls",
          "model_name": "DescriptionStyleModel",
          "model_module_version": "1.5.0",
          "state": {
            "_model_module": "@jupyter-widgets/controls",
            "_model_module_version": "1.5.0",
            "_model_name": "DescriptionStyleModel",
            "_view_count": null,
            "_view_module": "@jupyter-widgets/base",
            "_view_module_version": "1.2.0",
            "_view_name": "StyleView",
            "description_width": ""
          }
        },
        "edea8c09daa042d799bba0a26ee7df8c": {
          "model_module": "@jupyter-widgets/controls",
          "model_name": "DropdownModel",
          "model_module_version": "1.5.0",
          "state": {
            "_dom_classes": [],
            "_model_module": "@jupyter-widgets/controls",
            "_model_module_version": "1.5.0",
            "_model_name": "DropdownModel",
            "_options_labels": [
              "Female",
              "Male"
            ],
            "_view_count": null,
            "_view_module": "@jupyter-widgets/controls",
            "_view_module_version": "1.5.0",
            "_view_name": "DropdownView",
            "description": "",
            "description_tooltip": null,
            "disabled": false,
            "index": 0,
            "layout": "IPY_MODEL_32f788b04b814a0ba79734b0e466ae01",
            "style": "IPY_MODEL_9c0b7d2f56364d4eb6fe04e92a1aecbd"
          }
        },
        "32f788b04b814a0ba79734b0e466ae01": {
          "model_module": "@jupyter-widgets/base",
          "model_name": "LayoutModel",
          "model_module_version": "1.2.0",
          "state": {
            "_model_module": "@jupyter-widgets/base",
            "_model_module_version": "1.2.0",
            "_model_name": "LayoutModel",
            "_view_count": null,
            "_view_module": "@jupyter-widgets/base",
            "_view_module_version": "1.2.0",
            "_view_name": "LayoutView",
            "align_content": null,
            "align_items": null,
            "align_self": null,
            "border": null,
            "bottom": null,
            "display": null,
            "flex": null,
            "flex_flow": null,
            "grid_area": null,
            "grid_auto_columns": null,
            "grid_auto_flow": null,
            "grid_auto_rows": null,
            "grid_column": null,
            "grid_gap": null,
            "grid_row": null,
            "grid_template_areas": null,
            "grid_template_columns": null,
            "grid_template_rows": null,
            "height": null,
            "justify_content": null,
            "justify_items": null,
            "left": null,
            "margin": null,
            "max_height": null,
            "max_width": null,
            "min_height": null,
            "min_width": null,
            "object_fit": null,
            "object_position": null,
            "order": null,
            "overflow": null,
            "overflow_x": null,
            "overflow_y": null,
            "padding": null,
            "right": null,
            "top": null,
            "visibility": null,
            "width": null
          }
        },
        "9c0b7d2f56364d4eb6fe04e92a1aecbd": {
          "model_module": "@jupyter-widgets/controls",
          "model_name": "DescriptionStyleModel",
          "model_module_version": "1.5.0",
          "state": {
            "_model_module": "@jupyter-widgets/controls",
            "_model_module_version": "1.5.0",
            "_model_name": "DescriptionStyleModel",
            "_view_count": null,
            "_view_module": "@jupyter-widgets/base",
            "_view_module_version": "1.2.0",
            "_view_name": "StyleView",
            "description_width": ""
          }
        },
        "c9c9a899381040f7bd95d6e0804d4523": {
          "model_module": "@jupyter-widgets/controls",
          "model_name": "LabelModel",
          "model_module_version": "1.5.0",
          "state": {
            "_dom_classes": [],
            "_model_module": "@jupyter-widgets/controls",
            "_model_module_version": "1.5.0",
            "_model_name": "LabelModel",
            "_view_count": null,
            "_view_module": "@jupyter-widgets/controls",
            "_view_module_version": "1.5.0",
            "_view_name": "LabelView",
            "description": "",
            "description_tooltip": null,
            "layout": "IPY_MODEL_15761848f7194d38890bb4784e429e38",
            "placeholder": "​",
            "style": "IPY_MODEL_03242fcc82694c0b9b8bd5f936eaa6d8",
            "value": "Age category (1 = 18-24, 13 = 80 or older; see table):"
          }
        },
        "15761848f7194d38890bb4784e429e38": {
          "model_module": "@jupyter-widgets/base",
          "model_name": "LayoutModel",
          "model_module_version": "1.2.0",
          "state": {
            "_model_module": "@jupyter-widgets/base",
            "_model_module_version": "1.2.0",
            "_model_name": "LayoutModel",
            "_view_count": null,
            "_view_module": "@jupyter-widgets/base",
            "_view_module_version": "1.2.0",
            "_view_name": "LayoutView",
            "align_content": null,
            "align_items": null,
            "align_self": null,
            "border": null,
            "bottom": null,
            "display": null,
            "flex": null,
            "flex_flow": null,
            "grid_area": null,
            "grid_auto_columns": null,
            "grid_auto_flow": null,
            "grid_auto_rows": null,
            "grid_column": null,
            "grid_gap": null,
            "grid_row": null,
            "grid_template_areas": null,
            "grid_template_columns": null,
            "grid_template_rows": null,
            "height": null,
            "justify_content": null,
            "justify_items": null,
            "left": null,
            "margin": null,
            "max_height": null,
            "max_width": null,
            "min_height": null,
            "min_width": null,
            "object_fit": null,
            "object_position": null,
            "order": null,
            "overflow": null,
            "overflow_x": null,
            "overflow_y": null,
            "padding": null,
            "right": null,
            "top": null,
            "visibility": null,
            "width": "max-content"
          }
        },
        "03242fcc82694c0b9b8bd5f936eaa6d8": {
          "model_module": "@jupyter-widgets/controls",
          "model_name": "DescriptionStyleModel",
          "model_module_version": "1.5.0",
          "state": {
            "_model_module": "@jupyter-widgets/controls",
            "_model_module_version": "1.5.0",
            "_model_name": "DescriptionStyleModel",
            "_view_count": null,
            "_view_module": "@jupyter-widgets/base",
            "_view_module_version": "1.2.0",
            "_view_name": "StyleView",
            "description_width": ""
          }
        },
        "23304d1cf3b6422da06ff9fbe2e0c6dd": {
          "model_module": "@jupyter-widgets/controls",
          "model_name": "FloatSliderModel",
          "model_module_version": "1.5.0",
          "state": {
            "_dom_classes": [],
            "_model_module": "@jupyter-widgets/controls",
            "_model_module_version": "1.5.0",
            "_model_name": "FloatSliderModel",
            "_view_count": null,
            "_view_module": "@jupyter-widgets/controls",
            "_view_module_version": "1.5.0",
            "_view_name": "FloatSliderView",
            "continuous_update": true,
            "description": "",
            "description_tooltip": null,
            "disabled": false,
            "layout": "IPY_MODEL_562d3095704b4117879630a5c834f282",
            "max": 13,
            "min": 1,
            "orientation": "horizontal",
            "readout": true,
            "readout_format": ".2f",
            "step": 1,
            "style": "IPY_MODEL_5da87ed9d25f4de48df4bd371f9a1739",
            "value": 8
          }
        },
        "562d3095704b4117879630a5c834f282": {
          "model_module": "@jupyter-widgets/base",
          "model_name": "LayoutModel",
          "model_module_version": "1.2.0",
          "state": {
            "_model_module": "@jupyter-widgets/base",
            "_model_module_version": "1.2.0",
            "_model_name": "LayoutModel",
            "_view_count": null,
            "_view_module": "@jupyter-widgets/base",
            "_view_module_version": "1.2.0",
            "_view_name": "LayoutView",
            "align_content": null,
            "align_items": null,
            "align_self": null,
            "border": null,
            "bottom": null,
            "display": null,
            "flex": null,
            "flex_flow": null,
            "grid_area": null,
            "grid_auto_columns": null,
            "grid_auto_flow": null,
            "grid_auto_rows": null,
            "grid_column": null,
            "grid_gap": null,
            "grid_row": null,
            "grid_template_areas": null,
            "grid_template_columns": null,
            "grid_template_rows": null,
            "height": null,
            "justify_content": null,
            "justify_items": null,
            "left": null,
            "margin": null,
            "max_height": null,
            "max_width": null,
            "min_height": null,
            "min_width": null,
            "object_fit": null,
            "object_position": null,
            "order": null,
            "overflow": null,
            "overflow_x": null,
            "overflow_y": null,
            "padding": null,
            "right": null,
            "top": null,
            "visibility": null,
            "width": null
          }
        },
        "5da87ed9d25f4de48df4bd371f9a1739": {
          "model_module": "@jupyter-widgets/controls",
          "model_name": "SliderStyleModel",
          "model_module_version": "1.5.0",
          "state": {
            "_model_module": "@jupyter-widgets/controls",
            "_model_module_version": "1.5.0",
            "_model_name": "SliderStyleModel",
            "_view_count": null,
            "_view_module": "@jupyter-widgets/base",
            "_view_module_version": "1.2.0",
            "_view_name": "StyleView",
            "description_width": "",
            "handle_color": null
          }
        },
        "40e3ed690c60452788067f3a907b6d14": {
          "model_module": "@jupyter-widgets/controls",
          "model_name": "LabelModel",
          "model_module_version": "1.5.0",
          "state": {
            "_dom_classes": [],
            "_model_module": "@jupyter-widgets/controls",
            "_model_module_version": "1.5.0",
            "_model_name": "LabelModel",
            "_view_count": null,
            "_view_module": "@jupyter-widgets/controls",
            "_view_module_version": "1.5.0",
            "_view_name": "LabelView",
            "description": "",
            "description_tooltip": null,
            "layout": "IPY_MODEL_d4d099c33ee94b6b819c3d8365893f0d",
            "placeholder": "​",
            "style": "IPY_MODEL_b9a6454a6f4543509159fdea58aa5852",
            "value": "Body Mass Index:"
          }
        },
        "d4d099c33ee94b6b819c3d8365893f0d": {
          "model_module": "@jupyter-widgets/base",
          "model_name": "LayoutModel",
          "model_module_version": "1.2.0",
          "state": {
            "_model_module": "@jupyter-widgets/base",
            "_model_module_version": "1.2.0",
            "_model_name": "LayoutModel",
            "_view_count": null,
            "_view_module": "@jupyter-widgets/base",
            "_view_module_version": "1.2.0",
            "_view_name": "LayoutView",
            "align_content": null,
            "align_items": null,
            "align_self": null,
            "border": null,
            "bottom": null,
            "display": null,
            "flex": null,
            "flex_flow": null,
            "grid_area": null,
            "grid_auto_columns": null,
            "grid_auto_flow": null,
            "grid_auto_rows": null,
            "grid_column": null,
            "grid_gap": null,
            "grid_row": null,
            "grid_template_areas": null,
            "grid_template_columns": null,
            "grid_template_rows": null,
            "height": null,
            "justify_content": null,
            "justify_items": null,
            "left": null,
            "margin": null,
            "max_height": null,
            "max_width": null,
            "min_height": null,
            "min_width": null,
            "object_fit": null,
            "object_position": null,
            "order": null,
            "overflow": null,
            "overflow_x": null,
            "overflow_y": null,
            "padding": null,
            "right": null,
            "top": null,
            "visibility": null,
            "width": "max-content"
          }
        },
        "b9a6454a6f4543509159fdea58aa5852": {
          "model_module": "@jupyter-widgets/controls",
          "model_name": "DescriptionStyleModel",
          "model_module_version": "1.5.0",
          "state": {
            "_model_module": "@jupyter-widgets/controls",
            "_model_module_version": "1.5.0",
            "_model_name": "DescriptionStyleModel",
            "_view_count": null,
            "_view_module": "@jupyter-widgets/base",
            "_view_module_version": "1.2.0",
            "_view_name": "StyleView",
            "description_width": ""
          }
        },
        "f5f61ba460734c28b8d075bb39277361": {
          "model_module": "@jupyter-widgets/controls",
          "model_name": "FloatSliderModel",
          "model_module_version": "1.5.0",
          "state": {
            "_dom_classes": [],
            "_model_module": "@jupyter-widgets/controls",
            "_model_module_version": "1.5.0",
            "_model_name": "FloatSliderModel",
            "_view_count": null,
            "_view_module": "@jupyter-widgets/controls",
            "_view_module_version": "1.5.0",
            "_view_name": "FloatSliderView",
            "continuous_update": true,
            "description": "",
            "description_tooltip": null,
            "disabled": false,
            "layout": "IPY_MODEL_0c97704438af427faccbf00558689517",
            "max": 50,
            "min": 10,
            "orientation": "horizontal",
            "readout": true,
            "readout_format": ".2f",
            "step": 0.1,
            "style": "IPY_MODEL_182b12caa9874c9d85bb5df6f1a169f9",
            "value": 20
          }
        },
        "0c97704438af427faccbf00558689517": {
          "model_module": "@jupyter-widgets/base",
          "model_name": "LayoutModel",
          "model_module_version": "1.2.0",
          "state": {
            "_model_module": "@jupyter-widgets/base",
            "_model_module_version": "1.2.0",
            "_model_name": "LayoutModel",
            "_view_count": null,
            "_view_module": "@jupyter-widgets/base",
            "_view_module_version": "1.2.0",
            "_view_name": "LayoutView",
            "align_content": null,
            "align_items": null,
            "align_self": null,
            "border": null,
            "bottom": null,
            "display": null,
            "flex": null,
            "flex_flow": null,
            "grid_area": null,
            "grid_auto_columns": null,
            "grid_auto_flow": null,
            "grid_auto_rows": null,
            "grid_column": null,
            "grid_gap": null,
            "grid_row": null,
            "grid_template_areas": null,
            "grid_template_columns": null,
            "grid_template_rows": null,
            "height": null,
            "justify_content": null,
            "justify_items": null,
            "left": null,
            "margin": null,
            "max_height": null,
            "max_width": null,
            "min_height": null,
            "min_width": null,
            "object_fit": null,
            "object_position": null,
            "order": null,
            "overflow": null,
            "overflow_x": null,
            "overflow_y": null,
            "padding": null,
            "right": null,
            "top": null,
            "visibility": null,
            "width": null
          }
        },
        "182b12caa9874c9d85bb5df6f1a169f9": {
          "model_module": "@jupyter-widgets/controls",
          "model_name": "SliderStyleModel",
          "model_module_version": "1.5.0",
          "state": {
            "_model_module": "@jupyter-widgets/controls",
            "_model_module_version": "1.5.0",
            "_model_name": "SliderStyleModel",
            "_view_count": null,
            "_view_module": "@jupyter-widgets/base",
            "_view_module_version": "1.2.0",
            "_view_name": "StyleView",
            "description_width": "",
            "handle_color": null
          }
        },
        "8ffccf7416e14be2bfcbbfef24845c04": {
          "model_module": "@jupyter-widgets/controls",
          "model_name": "LabelModel",
          "model_module_version": "1.5.0",
          "state": {
            "_dom_classes": [],
            "_model_module": "@jupyter-widgets/controls",
            "_model_module_version": "1.5.0",
            "_model_name": "LabelModel",
            "_view_count": null,
            "_view_module": "@jupyter-widgets/controls",
            "_view_module_version": "1.5.0",
            "_view_name": "LabelView",
            "description": "",
            "description_tooltip": null,
            "layout": "IPY_MODEL_61afdbfdb0674ded8c7b8403900392a7",
            "placeholder": "​",
            "style": "IPY_MODEL_0e8f5a6a6fe3461090a0171ce20c4ec1",
            "value": "High Blood Pressure"
          }
        },
        "61afdbfdb0674ded8c7b8403900392a7": {
          "model_module": "@jupyter-widgets/base",
          "model_name": "LayoutModel",
          "model_module_version": "1.2.0",
          "state": {
            "_model_module": "@jupyter-widgets/base",
            "_model_module_version": "1.2.0",
            "_model_name": "LayoutModel",
            "_view_count": null,
            "_view_module": "@jupyter-widgets/base",
            "_view_module_version": "1.2.0",
            "_view_name": "LayoutView",
            "align_content": null,
            "align_items": null,
            "align_self": null,
            "border": null,
            "bottom": null,
            "display": null,
            "flex": null,
            "flex_flow": null,
            "grid_area": null,
            "grid_auto_columns": null,
            "grid_auto_flow": null,
            "grid_auto_rows": null,
            "grid_column": null,
            "grid_gap": null,
            "grid_row": null,
            "grid_template_areas": null,
            "grid_template_columns": null,
            "grid_template_rows": null,
            "height": null,
            "justify_content": null,
            "justify_items": null,
            "left": null,
            "margin": null,
            "max_height": null,
            "max_width": null,
            "min_height": null,
            "min_width": null,
            "object_fit": null,
            "object_position": null,
            "order": null,
            "overflow": null,
            "overflow_x": null,
            "overflow_y": null,
            "padding": null,
            "right": null,
            "top": null,
            "visibility": null,
            "width": "max-content"
          }
        },
        "0e8f5a6a6fe3461090a0171ce20c4ec1": {
          "model_module": "@jupyter-widgets/controls",
          "model_name": "DescriptionStyleModel",
          "model_module_version": "1.5.0",
          "state": {
            "_model_module": "@jupyter-widgets/controls",
            "_model_module_version": "1.5.0",
            "_model_name": "DescriptionStyleModel",
            "_view_count": null,
            "_view_module": "@jupyter-widgets/base",
            "_view_module_version": "1.2.0",
            "_view_name": "StyleView",
            "description_width": ""
          }
        },
        "86449dce805a4c78b1b677de8b3f2624": {
          "model_module": "@jupyter-widgets/controls",
          "model_name": "RadioButtonsModel",
          "model_module_version": "1.5.0",
          "state": {
            "_dom_classes": [],
            "_model_module": "@jupyter-widgets/controls",
            "_model_module_version": "1.5.0",
            "_model_name": "RadioButtonsModel",
            "_options_labels": [
              "No",
              "Yes"
            ],
            "_view_count": null,
            "_view_module": "@jupyter-widgets/controls",
            "_view_module_version": "1.5.0",
            "_view_name": "RadioButtonsView",
            "description": "",
            "description_tooltip": null,
            "disabled": false,
            "index": 0,
            "layout": "IPY_MODEL_09aa90d4b58d4f93a582f2d367d237e8",
            "style": "IPY_MODEL_91db0d3805c7436886eea9300557f3c2"
          }
        },
        "09aa90d4b58d4f93a582f2d367d237e8": {
          "model_module": "@jupyter-widgets/base",
          "model_name": "LayoutModel",
          "model_module_version": "1.2.0",
          "state": {
            "_model_module": "@jupyter-widgets/base",
            "_model_module_version": "1.2.0",
            "_model_name": "LayoutModel",
            "_view_count": null,
            "_view_module": "@jupyter-widgets/base",
            "_view_module_version": "1.2.0",
            "_view_name": "LayoutView",
            "align_content": null,
            "align_items": null,
            "align_self": null,
            "border": null,
            "bottom": null,
            "display": null,
            "flex": null,
            "flex_flow": null,
            "grid_area": null,
            "grid_auto_columns": null,
            "grid_auto_flow": null,
            "grid_auto_rows": null,
            "grid_column": null,
            "grid_gap": null,
            "grid_row": null,
            "grid_template_areas": null,
            "grid_template_columns": null,
            "grid_template_rows": null,
            "height": null,
            "justify_content": null,
            "justify_items": null,
            "left": null,
            "margin": null,
            "max_height": null,
            "max_width": null,
            "min_height": null,
            "min_width": null,
            "object_fit": null,
            "object_position": null,
            "order": null,
            "overflow": null,
            "overflow_x": null,
            "overflow_y": null,
            "padding": null,
            "right": null,
            "top": null,
            "visibility": null,
            "width": null
          }
        },
        "91db0d3805c7436886eea9300557f3c2": {
          "model_module": "@jupyter-widgets/controls",
          "model_name": "DescriptionStyleModel",
          "model_module_version": "1.5.0",
          "state": {
            "_model_module": "@jupyter-widgets/controls",
            "_model_module_version": "1.5.0",
            "_model_name": "DescriptionStyleModel",
            "_view_count": null,
            "_view_module": "@jupyter-widgets/base",
            "_view_module_version": "1.2.0",
            "_view_name": "StyleView",
            "description_width": ""
          }
        },
        "322822d1915f4cc4bf5b6fc8d98552e1": {
          "model_module": "@jupyter-widgets/controls",
          "model_name": "LabelModel",
          "model_module_version": "1.5.0",
          "state": {
            "_dom_classes": [],
            "_model_module": "@jupyter-widgets/controls",
            "_model_module_version": "1.5.0",
            "_model_name": "LabelModel",
            "_view_count": null,
            "_view_module": "@jupyter-widgets/controls",
            "_view_module_version": "1.5.0",
            "_view_name": "LabelView",
            "description": "",
            "description_tooltip": null,
            "layout": "IPY_MODEL_0fd3f61731934f9382d8789110f268e6",
            "placeholder": "​",
            "style": "IPY_MODEL_5edac3ee9f0448db9395457235305ed4",
            "value": "High Cholesterol"
          }
        },
        "0fd3f61731934f9382d8789110f268e6": {
          "model_module": "@jupyter-widgets/base",
          "model_name": "LayoutModel",
          "model_module_version": "1.2.0",
          "state": {
            "_model_module": "@jupyter-widgets/base",
            "_model_module_version": "1.2.0",
            "_model_name": "LayoutModel",
            "_view_count": null,
            "_view_module": "@jupyter-widgets/base",
            "_view_module_version": "1.2.0",
            "_view_name": "LayoutView",
            "align_content": null,
            "align_items": null,
            "align_self": null,
            "border": null,
            "bottom": null,
            "display": null,
            "flex": null,
            "flex_flow": null,
            "grid_area": null,
            "grid_auto_columns": null,
            "grid_auto_flow": null,
            "grid_auto_rows": null,
            "grid_column": null,
            "grid_gap": null,
            "grid_row": null,
            "grid_template_areas": null,
            "grid_template_columns": null,
            "grid_template_rows": null,
            "height": null,
            "justify_content": null,
            "justify_items": null,
            "left": null,
            "margin": null,
            "max_height": null,
            "max_width": null,
            "min_height": null,
            "min_width": null,
            "object_fit": null,
            "object_position": null,
            "order": null,
            "overflow": null,
            "overflow_x": null,
            "overflow_y": null,
            "padding": null,
            "right": null,
            "top": null,
            "visibility": null,
            "width": "max-content"
          }
        },
        "5edac3ee9f0448db9395457235305ed4": {
          "model_module": "@jupyter-widgets/controls",
          "model_name": "DescriptionStyleModel",
          "model_module_version": "1.5.0",
          "state": {
            "_model_module": "@jupyter-widgets/controls",
            "_model_module_version": "1.5.0",
            "_model_name": "DescriptionStyleModel",
            "_view_count": null,
            "_view_module": "@jupyter-widgets/base",
            "_view_module_version": "1.2.0",
            "_view_name": "StyleView",
            "description_width": ""
          }
        },
        "4e2ca21510ce4035a08b54e592181427": {
          "model_module": "@jupyter-widgets/controls",
          "model_name": "RadioButtonsModel",
          "model_module_version": "1.5.0",
          "state": {
            "_dom_classes": [],
            "_model_module": "@jupyter-widgets/controls",
            "_model_module_version": "1.5.0",
            "_model_name": "RadioButtonsModel",
            "_options_labels": [
              "No",
              "Yes"
            ],
            "_view_count": null,
            "_view_module": "@jupyter-widgets/controls",
            "_view_module_version": "1.5.0",
            "_view_name": "RadioButtonsView",
            "description": "",
            "description_tooltip": null,
            "disabled": false,
            "index": 0,
            "layout": "IPY_MODEL_e6a79cfb504248618aa316d80d6761da",
            "style": "IPY_MODEL_5aefefdb99664d9c86a1cdfdd77afe99"
          }
        },
        "e6a79cfb504248618aa316d80d6761da": {
          "model_module": "@jupyter-widgets/base",
          "model_name": "LayoutModel",
          "model_module_version": "1.2.0",
          "state": {
            "_model_module": "@jupyter-widgets/base",
            "_model_module_version": "1.2.0",
            "_model_name": "LayoutModel",
            "_view_count": null,
            "_view_module": "@jupyter-widgets/base",
            "_view_module_version": "1.2.0",
            "_view_name": "LayoutView",
            "align_content": null,
            "align_items": null,
            "align_self": null,
            "border": null,
            "bottom": null,
            "display": null,
            "flex": null,
            "flex_flow": null,
            "grid_area": null,
            "grid_auto_columns": null,
            "grid_auto_flow": null,
            "grid_auto_rows": null,
            "grid_column": null,
            "grid_gap": null,
            "grid_row": null,
            "grid_template_areas": null,
            "grid_template_columns": null,
            "grid_template_rows": null,
            "height": null,
            "justify_content": null,
            "justify_items": null,
            "left": null,
            "margin": null,
            "max_height": null,
            "max_width": null,
            "min_height": null,
            "min_width": null,
            "object_fit": null,
            "object_position": null,
            "order": null,
            "overflow": null,
            "overflow_x": null,
            "overflow_y": null,
            "padding": null,
            "right": null,
            "top": null,
            "visibility": null,
            "width": null
          }
        },
        "5aefefdb99664d9c86a1cdfdd77afe99": {
          "model_module": "@jupyter-widgets/controls",
          "model_name": "DescriptionStyleModel",
          "model_module_version": "1.5.0",
          "state": {
            "_model_module": "@jupyter-widgets/controls",
            "_model_module_version": "1.5.0",
            "_model_name": "DescriptionStyleModel",
            "_view_count": null,
            "_view_module": "@jupyter-widgets/base",
            "_view_module_version": "1.2.0",
            "_view_name": "StyleView",
            "description_width": ""
          }
        },
        "ffa866d0bf1f4f618763d736b33e595a": {
          "model_module": "@jupyter-widgets/controls",
          "model_name": "LabelModel",
          "model_module_version": "1.5.0",
          "state": {
            "_dom_classes": [],
            "_model_module": "@jupyter-widgets/controls",
            "_model_module_version": "1.5.0",
            "_model_name": "LabelModel",
            "_view_count": null,
            "_view_module": "@jupyter-widgets/controls",
            "_view_module_version": "1.5.0",
            "_view_name": "LabelView",
            "description": "",
            "description_tooltip": null,
            "layout": "IPY_MODEL_a2eb0509865840e18afeb0068e7de40a",
            "placeholder": "​",
            "style": "IPY_MODEL_a3b4a5faa3db42c6a04d90fd791c0563",
            "value": "Have you smoked at least 100 cigarettes in your life?"
          }
        },
        "a2eb0509865840e18afeb0068e7de40a": {
          "model_module": "@jupyter-widgets/base",
          "model_name": "LayoutModel",
          "model_module_version": "1.2.0",
          "state": {
            "_model_module": "@jupyter-widgets/base",
            "_model_module_version": "1.2.0",
            "_model_name": "LayoutModel",
            "_view_count": null,
            "_view_module": "@jupyter-widgets/base",
            "_view_module_version": "1.2.0",
            "_view_name": "LayoutView",
            "align_content": null,
            "align_items": null,
            "align_self": null,
            "border": null,
            "bottom": null,
            "display": null,
            "flex": null,
            "flex_flow": null,
            "grid_area": null,
            "grid_auto_columns": null,
            "grid_auto_flow": null,
            "grid_auto_rows": null,
            "grid_column": null,
            "grid_gap": null,
            "grid_row": null,
            "grid_template_areas": null,
            "grid_template_columns": null,
            "grid_template_rows": null,
            "height": null,
            "justify_content": null,
            "justify_items": null,
            "left": null,
            "margin": null,
            "max_height": null,
            "max_width": null,
            "min_height": null,
            "min_width": null,
            "object_fit": null,
            "object_position": null,
            "order": null,
            "overflow": null,
            "overflow_x": null,
            "overflow_y": null,
            "padding": null,
            "right": null,
            "top": null,
            "visibility": null,
            "width": "max-content"
          }
        },
        "a3b4a5faa3db42c6a04d90fd791c0563": {
          "model_module": "@jupyter-widgets/controls",
          "model_name": "DescriptionStyleModel",
          "model_module_version": "1.5.0",
          "state": {
            "_model_module": "@jupyter-widgets/controls",
            "_model_module_version": "1.5.0",
            "_model_name": "DescriptionStyleModel",
            "_view_count": null,
            "_view_module": "@jupyter-widgets/base",
            "_view_module_version": "1.2.0",
            "_view_name": "StyleView",
            "description_width": ""
          }
        },
        "104725e43b894c3781d6f66df179e050": {
          "model_module": "@jupyter-widgets/controls",
          "model_name": "RadioButtonsModel",
          "model_module_version": "1.5.0",
          "state": {
            "_dom_classes": [],
            "_model_module": "@jupyter-widgets/controls",
            "_model_module_version": "1.5.0",
            "_model_name": "RadioButtonsModel",
            "_options_labels": [
              "No",
              "Yes"
            ],
            "_view_count": null,
            "_view_module": "@jupyter-widgets/controls",
            "_view_module_version": "1.5.0",
            "_view_name": "RadioButtonsView",
            "description": "",
            "description_tooltip": null,
            "disabled": false,
            "index": 0,
            "layout": "IPY_MODEL_fb1e92817db2413eb335c1464b4c4455",
            "style": "IPY_MODEL_7f05b96f9a664a95bf8ee3ef01f9f4fd"
          }
        },
        "fb1e92817db2413eb335c1464b4c4455": {
          "model_module": "@jupyter-widgets/base",
          "model_name": "LayoutModel",
          "model_module_version": "1.2.0",
          "state": {
            "_model_module": "@jupyter-widgets/base",
            "_model_module_version": "1.2.0",
            "_model_name": "LayoutModel",
            "_view_count": null,
            "_view_module": "@jupyter-widgets/base",
            "_view_module_version": "1.2.0",
            "_view_name": "LayoutView",
            "align_content": null,
            "align_items": null,
            "align_self": null,
            "border": null,
            "bottom": null,
            "display": null,
            "flex": null,
            "flex_flow": null,
            "grid_area": null,
            "grid_auto_columns": null,
            "grid_auto_flow": null,
            "grid_auto_rows": null,
            "grid_column": null,
            "grid_gap": null,
            "grid_row": null,
            "grid_template_areas": null,
            "grid_template_columns": null,
            "grid_template_rows": null,
            "height": null,
            "justify_content": null,
            "justify_items": null,
            "left": null,
            "margin": null,
            "max_height": null,
            "max_width": null,
            "min_height": null,
            "min_width": null,
            "object_fit": null,
            "object_position": null,
            "order": null,
            "overflow": null,
            "overflow_x": null,
            "overflow_y": null,
            "padding": null,
            "right": null,
            "top": null,
            "visibility": null,
            "width": null
          }
        },
        "7f05b96f9a664a95bf8ee3ef01f9f4fd": {
          "model_module": "@jupyter-widgets/controls",
          "model_name": "DescriptionStyleModel",
          "model_module_version": "1.5.0",
          "state": {
            "_model_module": "@jupyter-widgets/controls",
            "_model_module_version": "1.5.0",
            "_model_name": "DescriptionStyleModel",
            "_view_count": null,
            "_view_module": "@jupyter-widgets/base",
            "_view_module_version": "1.2.0",
            "_view_name": "StyleView",
            "description_width": ""
          }
        },
        "b4ee22c91ccb4b3cb3b87793a6479830": {
          "model_module": "@jupyter-widgets/controls",
          "model_name": "LabelModel",
          "model_module_version": "1.5.0",
          "state": {
            "_dom_classes": [],
            "_model_module": "@jupyter-widgets/controls",
            "_model_module_version": "1.5.0",
            "_model_name": "LabelModel",
            "_view_count": null,
            "_view_module": "@jupyter-widgets/controls",
            "_view_module_version": "1.5.0",
            "_view_name": "LabelView",
            "description": "",
            "description_tooltip": null,
            "layout": "IPY_MODEL_2181a17b7ed34d9799a52d0358d08f9a",
            "placeholder": "​",
            "style": "IPY_MODEL_b1719fa64e38461497bd5665c61f9d6b",
            "value": "Heavy drinkers (drinks <14 for men, <7 for women per week"
          }
        },
        "2181a17b7ed34d9799a52d0358d08f9a": {
          "model_module": "@jupyter-widgets/base",
          "model_name": "LayoutModel",
          "model_module_version": "1.2.0",
          "state": {
            "_model_module": "@jupyter-widgets/base",
            "_model_module_version": "1.2.0",
            "_model_name": "LayoutModel",
            "_view_count": null,
            "_view_module": "@jupyter-widgets/base",
            "_view_module_version": "1.2.0",
            "_view_name": "LayoutView",
            "align_content": null,
            "align_items": null,
            "align_self": null,
            "border": null,
            "bottom": null,
            "display": null,
            "flex": null,
            "flex_flow": null,
            "grid_area": null,
            "grid_auto_columns": null,
            "grid_auto_flow": null,
            "grid_auto_rows": null,
            "grid_column": null,
            "grid_gap": null,
            "grid_row": null,
            "grid_template_areas": null,
            "grid_template_columns": null,
            "grid_template_rows": null,
            "height": null,
            "justify_content": null,
            "justify_items": null,
            "left": null,
            "margin": null,
            "max_height": null,
            "max_width": null,
            "min_height": null,
            "min_width": null,
            "object_fit": null,
            "object_position": null,
            "order": null,
            "overflow": null,
            "overflow_x": null,
            "overflow_y": null,
            "padding": null,
            "right": null,
            "top": null,
            "visibility": null,
            "width": "max-content"
          }
        },
        "b1719fa64e38461497bd5665c61f9d6b": {
          "model_module": "@jupyter-widgets/controls",
          "model_name": "DescriptionStyleModel",
          "model_module_version": "1.5.0",
          "state": {
            "_model_module": "@jupyter-widgets/controls",
            "_model_module_version": "1.5.0",
            "_model_name": "DescriptionStyleModel",
            "_view_count": null,
            "_view_module": "@jupyter-widgets/base",
            "_view_module_version": "1.2.0",
            "_view_name": "StyleView",
            "description_width": ""
          }
        },
        "8cb833c6c64a46e48f92ff3a73bbd08c": {
          "model_module": "@jupyter-widgets/controls",
          "model_name": "RadioButtonsModel",
          "model_module_version": "1.5.0",
          "state": {
            "_dom_classes": [],
            "_model_module": "@jupyter-widgets/controls",
            "_model_module_version": "1.5.0",
            "_model_name": "RadioButtonsModel",
            "_options_labels": [
              "No",
              "Yes"
            ],
            "_view_count": null,
            "_view_module": "@jupyter-widgets/controls",
            "_view_module_version": "1.5.0",
            "_view_name": "RadioButtonsView",
            "description": "",
            "description_tooltip": null,
            "disabled": false,
            "index": 0,
            "layout": "IPY_MODEL_0589ab4122804ce8a7893d9071543aab",
            "style": "IPY_MODEL_3fb3ee02d3544c4b98618b6a6b9f22a6"
          }
        },
        "0589ab4122804ce8a7893d9071543aab": {
          "model_module": "@jupyter-widgets/base",
          "model_name": "LayoutModel",
          "model_module_version": "1.2.0",
          "state": {
            "_model_module": "@jupyter-widgets/base",
            "_model_module_version": "1.2.0",
            "_model_name": "LayoutModel",
            "_view_count": null,
            "_view_module": "@jupyter-widgets/base",
            "_view_module_version": "1.2.0",
            "_view_name": "LayoutView",
            "align_content": null,
            "align_items": null,
            "align_self": null,
            "border": null,
            "bottom": null,
            "display": null,
            "flex": null,
            "flex_flow": null,
            "grid_area": null,
            "grid_auto_columns": null,
            "grid_auto_flow": null,
            "grid_auto_rows": null,
            "grid_column": null,
            "grid_gap": null,
            "grid_row": null,
            "grid_template_areas": null,
            "grid_template_columns": null,
            "grid_template_rows": null,
            "height": null,
            "justify_content": null,
            "justify_items": null,
            "left": null,
            "margin": null,
            "max_height": null,
            "max_width": null,
            "min_height": null,
            "min_width": null,
            "object_fit": null,
            "object_position": null,
            "order": null,
            "overflow": null,
            "overflow_x": null,
            "overflow_y": null,
            "padding": null,
            "right": null,
            "top": null,
            "visibility": null,
            "width": null
          }
        },
        "3fb3ee02d3544c4b98618b6a6b9f22a6": {
          "model_module": "@jupyter-widgets/controls",
          "model_name": "DescriptionStyleModel",
          "model_module_version": "1.5.0",
          "state": {
            "_model_module": "@jupyter-widgets/controls",
            "_model_module_version": "1.5.0",
            "_model_name": "DescriptionStyleModel",
            "_view_count": null,
            "_view_module": "@jupyter-widgets/base",
            "_view_module_version": "1.2.0",
            "_view_name": "StyleView",
            "description_width": ""
          }
        },
        "727db6e7636f4c9881ddc33de6082993": {
          "model_module": "@jupyter-widgets/controls",
          "model_name": "LabelModel",
          "model_module_version": "1.5.0",
          "state": {
            "_dom_classes": [],
            "_model_module": "@jupyter-widgets/controls",
            "_model_module_version": "1.5.0",
            "_model_name": "LabelModel",
            "_view_count": null,
            "_view_module": "@jupyter-widgets/controls",
            "_view_module_version": "1.5.0",
            "_view_name": "LabelView",
            "description": "",
            "description_tooltip": null,
            "layout": "IPY_MODEL_728ce6ad2bc844a0af6d9078900db54d",
            "placeholder": "​",
            "style": "IPY_MODEL_be03cd3debc74fa4a976bb54905fa0ed",
            "value": "(Ever told) you had a Stroke?"
          }
        },
        "728ce6ad2bc844a0af6d9078900db54d": {
          "model_module": "@jupyter-widgets/base",
          "model_name": "LayoutModel",
          "model_module_version": "1.2.0",
          "state": {
            "_model_module": "@jupyter-widgets/base",
            "_model_module_version": "1.2.0",
            "_model_name": "LayoutModel",
            "_view_count": null,
            "_view_module": "@jupyter-widgets/base",
            "_view_module_version": "1.2.0",
            "_view_name": "LayoutView",
            "align_content": null,
            "align_items": null,
            "align_self": null,
            "border": null,
            "bottom": null,
            "display": null,
            "flex": null,
            "flex_flow": null,
            "grid_area": null,
            "grid_auto_columns": null,
            "grid_auto_flow": null,
            "grid_auto_rows": null,
            "grid_column": null,
            "grid_gap": null,
            "grid_row": null,
            "grid_template_areas": null,
            "grid_template_columns": null,
            "grid_template_rows": null,
            "height": null,
            "justify_content": null,
            "justify_items": null,
            "left": null,
            "margin": null,
            "max_height": null,
            "max_width": null,
            "min_height": null,
            "min_width": null,
            "object_fit": null,
            "object_position": null,
            "order": null,
            "overflow": null,
            "overflow_x": null,
            "overflow_y": null,
            "padding": null,
            "right": null,
            "top": null,
            "visibility": null,
            "width": "max-content"
          }
        },
        "be03cd3debc74fa4a976bb54905fa0ed": {
          "model_module": "@jupyter-widgets/controls",
          "model_name": "DescriptionStyleModel",
          "model_module_version": "1.5.0",
          "state": {
            "_model_module": "@jupyter-widgets/controls",
            "_model_module_version": "1.5.0",
            "_model_name": "DescriptionStyleModel",
            "_view_count": null,
            "_view_module": "@jupyter-widgets/base",
            "_view_module_version": "1.2.0",
            "_view_name": "StyleView",
            "description_width": ""
          }
        },
        "73125e7d62f44f908a7d8ad2758f255e": {
          "model_module": "@jupyter-widgets/controls",
          "model_name": "RadioButtonsModel",
          "model_module_version": "1.5.0",
          "state": {
            "_dom_classes": [],
            "_model_module": "@jupyter-widgets/controls",
            "_model_module_version": "1.5.0",
            "_model_name": "RadioButtonsModel",
            "_options_labels": [
              "No",
              "Yes"
            ],
            "_view_count": null,
            "_view_module": "@jupyter-widgets/controls",
            "_view_module_version": "1.5.0",
            "_view_name": "RadioButtonsView",
            "description": "",
            "description_tooltip": null,
            "disabled": false,
            "index": 0,
            "layout": "IPY_MODEL_43ccd6c23f7b49ed965e7f6878efa5fc",
            "style": "IPY_MODEL_e9670e2f0b0f44d5bee24494e8bb53d1"
          }
        },
        "43ccd6c23f7b49ed965e7f6878efa5fc": {
          "model_module": "@jupyter-widgets/base",
          "model_name": "LayoutModel",
          "model_module_version": "1.2.0",
          "state": {
            "_model_module": "@jupyter-widgets/base",
            "_model_module_version": "1.2.0",
            "_model_name": "LayoutModel",
            "_view_count": null,
            "_view_module": "@jupyter-widgets/base",
            "_view_module_version": "1.2.0",
            "_view_name": "LayoutView",
            "align_content": null,
            "align_items": null,
            "align_self": null,
            "border": null,
            "bottom": null,
            "display": null,
            "flex": null,
            "flex_flow": null,
            "grid_area": null,
            "grid_auto_columns": null,
            "grid_auto_flow": null,
            "grid_auto_rows": null,
            "grid_column": null,
            "grid_gap": null,
            "grid_row": null,
            "grid_template_areas": null,
            "grid_template_columns": null,
            "grid_template_rows": null,
            "height": null,
            "justify_content": null,
            "justify_items": null,
            "left": null,
            "margin": null,
            "max_height": null,
            "max_width": null,
            "min_height": null,
            "min_width": null,
            "object_fit": null,
            "object_position": null,
            "order": null,
            "overflow": null,
            "overflow_x": null,
            "overflow_y": null,
            "padding": null,
            "right": null,
            "top": null,
            "visibility": null,
            "width": null
          }
        },
        "e9670e2f0b0f44d5bee24494e8bb53d1": {
          "model_module": "@jupyter-widgets/controls",
          "model_name": "DescriptionStyleModel",
          "model_module_version": "1.5.0",
          "state": {
            "_model_module": "@jupyter-widgets/controls",
            "_model_module_version": "1.5.0",
            "_model_name": "DescriptionStyleModel",
            "_view_count": null,
            "_view_module": "@jupyter-widgets/base",
            "_view_module_version": "1.2.0",
            "_view_name": "StyleView",
            "description_width": ""
          }
        },
        "d2ff9e3bfb9f426387c6d4879151d9fe": {
          "model_module": "@jupyter-widgets/controls",
          "model_name": "LabelModel",
          "model_module_version": "1.5.0",
          "state": {
            "_dom_classes": [],
            "_model_module": "@jupyter-widgets/controls",
            "_model_module_version": "1.5.0",
            "_model_name": "LabelModel",
            "_view_count": null,
            "_view_module": "@jupyter-widgets/controls",
            "_view_module_version": "1.5.0",
            "_view_name": "LabelView",
            "description": "",
            "description_tooltip": null,
            "layout": "IPY_MODEL_551e5f60d4b4415687b15991abef5769",
            "placeholder": "​",
            "style": "IPY_MODEL_4079a98cc252401487e92d2bba9e5e37",
            "value": "Heart Disease or Attack (CHD or MI)"
          }
        },
        "551e5f60d4b4415687b15991abef5769": {
          "model_module": "@jupyter-widgets/base",
          "model_name": "LayoutModel",
          "model_module_version": "1.2.0",
          "state": {
            "_model_module": "@jupyter-widgets/base",
            "_model_module_version": "1.2.0",
            "_model_name": "LayoutModel",
            "_view_count": null,
            "_view_module": "@jupyter-widgets/base",
            "_view_module_version": "1.2.0",
            "_view_name": "LayoutView",
            "align_content": null,
            "align_items": null,
            "align_self": null,
            "border": null,
            "bottom": null,
            "display": null,
            "flex": null,
            "flex_flow": null,
            "grid_area": null,
            "grid_auto_columns": null,
            "grid_auto_flow": null,
            "grid_auto_rows": null,
            "grid_column": null,
            "grid_gap": null,
            "grid_row": null,
            "grid_template_areas": null,
            "grid_template_columns": null,
            "grid_template_rows": null,
            "height": null,
            "justify_content": null,
            "justify_items": null,
            "left": null,
            "margin": null,
            "max_height": null,
            "max_width": null,
            "min_height": null,
            "min_width": null,
            "object_fit": null,
            "object_position": null,
            "order": null,
            "overflow": null,
            "overflow_x": null,
            "overflow_y": null,
            "padding": null,
            "right": null,
            "top": null,
            "visibility": null,
            "width": "max-content"
          }
        },
        "4079a98cc252401487e92d2bba9e5e37": {
          "model_module": "@jupyter-widgets/controls",
          "model_name": "DescriptionStyleModel",
          "model_module_version": "1.5.0",
          "state": {
            "_model_module": "@jupyter-widgets/controls",
            "_model_module_version": "1.5.0",
            "_model_name": "DescriptionStyleModel",
            "_view_count": null,
            "_view_module": "@jupyter-widgets/base",
            "_view_module_version": "1.2.0",
            "_view_name": "StyleView",
            "description_width": ""
          }
        },
        "8cd6adb0192b4b109e472b844bf9ce17": {
          "model_module": "@jupyter-widgets/controls",
          "model_name": "RadioButtonsModel",
          "model_module_version": "1.5.0",
          "state": {
            "_dom_classes": [],
            "_model_module": "@jupyter-widgets/controls",
            "_model_module_version": "1.5.0",
            "_model_name": "RadioButtonsModel",
            "_options_labels": [
              "No",
              "Yes"
            ],
            "_view_count": null,
            "_view_module": "@jupyter-widgets/controls",
            "_view_module_version": "1.5.0",
            "_view_name": "RadioButtonsView",
            "description": "",
            "description_tooltip": null,
            "disabled": false,
            "index": 0,
            "layout": "IPY_MODEL_13e8447310ff49339afeef0489fbbfad",
            "style": "IPY_MODEL_75fd21e2f9de43a7bef601c9f81cf5c7"
          }
        },
        "13e8447310ff49339afeef0489fbbfad": {
          "model_module": "@jupyter-widgets/base",
          "model_name": "LayoutModel",
          "model_module_version": "1.2.0",
          "state": {
            "_model_module": "@jupyter-widgets/base",
            "_model_module_version": "1.2.0",
            "_model_name": "LayoutModel",
            "_view_count": null,
            "_view_module": "@jupyter-widgets/base",
            "_view_module_version": "1.2.0",
            "_view_name": "LayoutView",
            "align_content": null,
            "align_items": null,
            "align_self": null,
            "border": null,
            "bottom": null,
            "display": null,
            "flex": null,
            "flex_flow": null,
            "grid_area": null,
            "grid_auto_columns": null,
            "grid_auto_flow": null,
            "grid_auto_rows": null,
            "grid_column": null,
            "grid_gap": null,
            "grid_row": null,
            "grid_template_areas": null,
            "grid_template_columns": null,
            "grid_template_rows": null,
            "height": null,
            "justify_content": null,
            "justify_items": null,
            "left": null,
            "margin": null,
            "max_height": null,
            "max_width": null,
            "min_height": null,
            "min_width": null,
            "object_fit": null,
            "object_position": null,
            "order": null,
            "overflow": null,
            "overflow_x": null,
            "overflow_y": null,
            "padding": null,
            "right": null,
            "top": null,
            "visibility": null,
            "width": null
          }
        },
        "75fd21e2f9de43a7bef601c9f81cf5c7": {
          "model_module": "@jupyter-widgets/controls",
          "model_name": "DescriptionStyleModel",
          "model_module_version": "1.5.0",
          "state": {
            "_model_module": "@jupyter-widgets/controls",
            "_model_module_version": "1.5.0",
            "_model_name": "DescriptionStyleModel",
            "_view_count": null,
            "_view_module": "@jupyter-widgets/base",
            "_view_module_version": "1.2.0",
            "_view_name": "StyleView",
            "description_width": ""
          }
        },
        "ae94572b55de4d29a4d09163890b6e12": {
          "model_module": "@jupyter-widgets/controls",
          "model_name": "LabelModel",
          "model_module_version": "1.5.0",
          "state": {
            "_dom_classes": [],
            "_model_module": "@jupyter-widgets/controls",
            "_model_module_version": "1.5.0",
            "_model_name": "LabelModel",
            "_view_count": null,
            "_view_module": "@jupyter-widgets/controls",
            "_view_module_version": "1.5.0",
            "_view_name": "LabelView",
            "description": "",
            "description_tooltip": null,
            "layout": "IPY_MODEL_916d03bf6b8a4781a6e2acc49c4974f9",
            "placeholder": "​",
            "style": "IPY_MODEL_22e33bbcdee2403fa6403eef6fdb5952",
            "value": "General Health scale :"
          }
        },
        "916d03bf6b8a4781a6e2acc49c4974f9": {
          "model_module": "@jupyter-widgets/base",
          "model_name": "LayoutModel",
          "model_module_version": "1.2.0",
          "state": {
            "_model_module": "@jupyter-widgets/base",
            "_model_module_version": "1.2.0",
            "_model_name": "LayoutModel",
            "_view_count": null,
            "_view_module": "@jupyter-widgets/base",
            "_view_module_version": "1.2.0",
            "_view_name": "LayoutView",
            "align_content": null,
            "align_items": null,
            "align_self": null,
            "border": null,
            "bottom": null,
            "display": null,
            "flex": null,
            "flex_flow": null,
            "grid_area": null,
            "grid_auto_columns": null,
            "grid_auto_flow": null,
            "grid_auto_rows": null,
            "grid_column": null,
            "grid_gap": null,
            "grid_row": null,
            "grid_template_areas": null,
            "grid_template_columns": null,
            "grid_template_rows": null,
            "height": null,
            "justify_content": null,
            "justify_items": null,
            "left": null,
            "margin": null,
            "max_height": null,
            "max_width": null,
            "min_height": null,
            "min_width": null,
            "object_fit": null,
            "object_position": null,
            "order": null,
            "overflow": null,
            "overflow_x": null,
            "overflow_y": null,
            "padding": null,
            "right": null,
            "top": null,
            "visibility": null,
            "width": "max-content"
          }
        },
        "22e33bbcdee2403fa6403eef6fdb5952": {
          "model_module": "@jupyter-widgets/controls",
          "model_name": "DescriptionStyleModel",
          "model_module_version": "1.5.0",
          "state": {
            "_model_module": "@jupyter-widgets/controls",
            "_model_module_version": "1.5.0",
            "_model_name": "DescriptionStyleModel",
            "_view_count": null,
            "_view_module": "@jupyter-widgets/base",
            "_view_module_version": "1.2.0",
            "_view_name": "StyleView",
            "description_width": ""
          }
        },
        "2161ec6787cb449eb424bd706df2dddd": {
          "model_module": "@jupyter-widgets/controls",
          "model_name": "FloatSliderModel",
          "model_module_version": "1.5.0",
          "state": {
            "_dom_classes": [],
            "_model_module": "@jupyter-widgets/controls",
            "_model_module_version": "1.5.0",
            "_model_name": "FloatSliderModel",
            "_view_count": null,
            "_view_module": "@jupyter-widgets/controls",
            "_view_module_version": "1.5.0",
            "_view_name": "FloatSliderView",
            "continuous_update": true,
            "description": "",
            "description_tooltip": null,
            "disabled": false,
            "layout": "IPY_MODEL_33424d5c1b7043ca950b1ee48b8ca68b",
            "max": 5,
            "min": 1,
            "orientation": "horizontal",
            "readout": true,
            "readout_format": ".2f",
            "step": 1,
            "style": "IPY_MODEL_d0520545711d4cb3bfecc9dbfa356f20",
            "value": 3
          }
        },
        "33424d5c1b7043ca950b1ee48b8ca68b": {
          "model_module": "@jupyter-widgets/base",
          "model_name": "LayoutModel",
          "model_module_version": "1.2.0",
          "state": {
            "_model_module": "@jupyter-widgets/base",
            "_model_module_version": "1.2.0",
            "_model_name": "LayoutModel",
            "_view_count": null,
            "_view_module": "@jupyter-widgets/base",
            "_view_module_version": "1.2.0",
            "_view_name": "LayoutView",
            "align_content": null,
            "align_items": null,
            "align_self": null,
            "border": null,
            "bottom": null,
            "display": null,
            "flex": null,
            "flex_flow": null,
            "grid_area": null,
            "grid_auto_columns": null,
            "grid_auto_flow": null,
            "grid_auto_rows": null,
            "grid_column": null,
            "grid_gap": null,
            "grid_row": null,
            "grid_template_areas": null,
            "grid_template_columns": null,
            "grid_template_rows": null,
            "height": null,
            "justify_content": null,
            "justify_items": null,
            "left": null,
            "margin": null,
            "max_height": null,
            "max_width": null,
            "min_height": null,
            "min_width": null,
            "object_fit": null,
            "object_position": null,
            "order": null,
            "overflow": null,
            "overflow_x": null,
            "overflow_y": null,
            "padding": null,
            "right": null,
            "top": null,
            "visibility": null,
            "width": null
          }
        },
        "d0520545711d4cb3bfecc9dbfa356f20": {
          "model_module": "@jupyter-widgets/controls",
          "model_name": "SliderStyleModel",
          "model_module_version": "1.5.0",
          "state": {
            "_model_module": "@jupyter-widgets/controls",
            "_model_module_version": "1.5.0",
            "_model_name": "SliderStyleModel",
            "_view_count": null,
            "_view_module": "@jupyter-widgets/base",
            "_view_module_version": "1.2.0",
            "_view_name": "StyleView",
            "description_width": "",
            "handle_color": null
          }
        },
        "40cc5da24b5f4989b5dead68e672f052": {
          "model_module": "@jupyter-widgets/controls",
          "model_name": "LabelModel",
          "model_module_version": "1.5.0",
          "state": {
            "_dom_classes": [],
            "_model_module": "@jupyter-widgets/controls",
            "_model_module_version": "1.5.0",
            "_model_name": "LabelModel",
            "_view_count": null,
            "_view_module": "@jupyter-widgets/controls",
            "_view_module_version": "1.5.0",
            "_view_name": "LabelView",
            "description": "",
            "description_tooltip": null,
            "layout": "IPY_MODEL_eb32224721a84d46bfa3fa679e668e15",
            "placeholder": "​",
            "style": "IPY_MODEL_bb4d088c727b459d819b63bf5a7d7fb3",
            "value": "How many past days was your Mental Health not good?"
          }
        },
        "eb32224721a84d46bfa3fa679e668e15": {
          "model_module": "@jupyter-widgets/base",
          "model_name": "LayoutModel",
          "model_module_version": "1.2.0",
          "state": {
            "_model_module": "@jupyter-widgets/base",
            "_model_module_version": "1.2.0",
            "_model_name": "LayoutModel",
            "_view_count": null,
            "_view_module": "@jupyter-widgets/base",
            "_view_module_version": "1.2.0",
            "_view_name": "LayoutView",
            "align_content": null,
            "align_items": null,
            "align_self": null,
            "border": null,
            "bottom": null,
            "display": null,
            "flex": null,
            "flex_flow": null,
            "grid_area": null,
            "grid_auto_columns": null,
            "grid_auto_flow": null,
            "grid_auto_rows": null,
            "grid_column": null,
            "grid_gap": null,
            "grid_row": null,
            "grid_template_areas": null,
            "grid_template_columns": null,
            "grid_template_rows": null,
            "height": null,
            "justify_content": null,
            "justify_items": null,
            "left": null,
            "margin": null,
            "max_height": null,
            "max_width": null,
            "min_height": null,
            "min_width": null,
            "object_fit": null,
            "object_position": null,
            "order": null,
            "overflow": null,
            "overflow_x": null,
            "overflow_y": null,
            "padding": null,
            "right": null,
            "top": null,
            "visibility": null,
            "width": "max-content"
          }
        },
        "bb4d088c727b459d819b63bf5a7d7fb3": {
          "model_module": "@jupyter-widgets/controls",
          "model_name": "DescriptionStyleModel",
          "model_module_version": "1.5.0",
          "state": {
            "_model_module": "@jupyter-widgets/controls",
            "_model_module_version": "1.5.0",
            "_model_name": "DescriptionStyleModel",
            "_view_count": null,
            "_view_module": "@jupyter-widgets/base",
            "_view_module_version": "1.2.0",
            "_view_name": "StyleView",
            "description_width": ""
          }
        },
        "7ea7d21fa6c143e68df1e20404447407": {
          "model_module": "@jupyter-widgets/controls",
          "model_name": "FloatSliderModel",
          "model_module_version": "1.5.0",
          "state": {
            "_dom_classes": [],
            "_model_module": "@jupyter-widgets/controls",
            "_model_module_version": "1.5.0",
            "_model_name": "FloatSliderModel",
            "_view_count": null,
            "_view_module": "@jupyter-widgets/controls",
            "_view_module_version": "1.5.0",
            "_view_name": "FloatSliderView",
            "continuous_update": true,
            "description": "",
            "description_tooltip": null,
            "disabled": false,
            "layout": "IPY_MODEL_ea5903f98767474bace3e443f16d0684",
            "max": 30,
            "min": 0,
            "orientation": "horizontal",
            "readout": true,
            "readout_format": ".2f",
            "step": 1,
            "style": "IPY_MODEL_25a4b6f86ee0405b974ef73821c9d67a",
            "value": 0
          }
        },
        "ea5903f98767474bace3e443f16d0684": {
          "model_module": "@jupyter-widgets/base",
          "model_name": "LayoutModel",
          "model_module_version": "1.2.0",
          "state": {
            "_model_module": "@jupyter-widgets/base",
            "_model_module_version": "1.2.0",
            "_model_name": "LayoutModel",
            "_view_count": null,
            "_view_module": "@jupyter-widgets/base",
            "_view_module_version": "1.2.0",
            "_view_name": "LayoutView",
            "align_content": null,
            "align_items": null,
            "align_self": null,
            "border": null,
            "bottom": null,
            "display": null,
            "flex": null,
            "flex_flow": null,
            "grid_area": null,
            "grid_auto_columns": null,
            "grid_auto_flow": null,
            "grid_auto_rows": null,
            "grid_column": null,
            "grid_gap": null,
            "grid_row": null,
            "grid_template_areas": null,
            "grid_template_columns": null,
            "grid_template_rows": null,
            "height": null,
            "justify_content": null,
            "justify_items": null,
            "left": null,
            "margin": null,
            "max_height": null,
            "max_width": null,
            "min_height": null,
            "min_width": null,
            "object_fit": null,
            "object_position": null,
            "order": null,
            "overflow": null,
            "overflow_x": null,
            "overflow_y": null,
            "padding": null,
            "right": null,
            "top": null,
            "visibility": null,
            "width": null
          }
        },
        "25a4b6f86ee0405b974ef73821c9d67a": {
          "model_module": "@jupyter-widgets/controls",
          "model_name": "SliderStyleModel",
          "model_module_version": "1.5.0",
          "state": {
            "_model_module": "@jupyter-widgets/controls",
            "_model_module_version": "1.5.0",
            "_model_name": "SliderStyleModel",
            "_view_count": null,
            "_view_module": "@jupyter-widgets/base",
            "_view_module_version": "1.2.0",
            "_view_name": "StyleView",
            "description_width": "",
            "handle_color": null
          }
        },
        "628cf2317f1a4444bad3d0df73e49484": {
          "model_module": "@jupyter-widgets/controls",
          "model_name": "LabelModel",
          "model_module_version": "1.5.0",
          "state": {
            "_dom_classes": [],
            "_model_module": "@jupyter-widgets/controls",
            "_model_module_version": "1.5.0",
            "_model_name": "LabelModel",
            "_view_count": null,
            "_view_module": "@jupyter-widgets/controls",
            "_view_module_version": "1.5.0",
            "_view_name": "LabelView",
            "description": "",
            "description_tooltip": null,
            "layout": "IPY_MODEL_6bf63e9d039e4181832a4efc837262e3",
            "placeholder": "​",
            "style": "IPY_MODEL_a6e4407ca56e46039d8e5ceb3fa020b1",
            "value": "How many past days was your Physical Health not good?"
          }
        },
        "6bf63e9d039e4181832a4efc837262e3": {
          "model_module": "@jupyter-widgets/base",
          "model_name": "LayoutModel",
          "model_module_version": "1.2.0",
          "state": {
            "_model_module": "@jupyter-widgets/base",
            "_model_module_version": "1.2.0",
            "_model_name": "LayoutModel",
            "_view_count": null,
            "_view_module": "@jupyter-widgets/base",
            "_view_module_version": "1.2.0",
            "_view_name": "LayoutView",
            "align_content": null,
            "align_items": null,
            "align_self": null,
            "border": null,
            "bottom": null,
            "display": null,
            "flex": null,
            "flex_flow": null,
            "grid_area": null,
            "grid_auto_columns": null,
            "grid_auto_flow": null,
            "grid_auto_rows": null,
            "grid_column": null,
            "grid_gap": null,
            "grid_row": null,
            "grid_template_areas": null,
            "grid_template_columns": null,
            "grid_template_rows": null,
            "height": null,
            "justify_content": null,
            "justify_items": null,
            "left": null,
            "margin": null,
            "max_height": null,
            "max_width": null,
            "min_height": null,
            "min_width": null,
            "object_fit": null,
            "object_position": null,
            "order": null,
            "overflow": null,
            "overflow_x": null,
            "overflow_y": null,
            "padding": null,
            "right": null,
            "top": null,
            "visibility": null,
            "width": "max-content"
          }
        },
        "a6e4407ca56e46039d8e5ceb3fa020b1": {
          "model_module": "@jupyter-widgets/controls",
          "model_name": "DescriptionStyleModel",
          "model_module_version": "1.5.0",
          "state": {
            "_model_module": "@jupyter-widgets/controls",
            "_model_module_version": "1.5.0",
            "_model_name": "DescriptionStyleModel",
            "_view_count": null,
            "_view_module": "@jupyter-widgets/base",
            "_view_module_version": "1.2.0",
            "_view_name": "StyleView",
            "description_width": ""
          }
        },
        "237ac7cbfdfb4f6eb238ed2e97439408": {
          "model_module": "@jupyter-widgets/controls",
          "model_name": "FloatSliderModel",
          "model_module_version": "1.5.0",
          "state": {
            "_dom_classes": [],
            "_model_module": "@jupyter-widgets/controls",
            "_model_module_version": "1.5.0",
            "_model_name": "FloatSliderModel",
            "_view_count": null,
            "_view_module": "@jupyter-widgets/controls",
            "_view_module_version": "1.5.0",
            "_view_name": "FloatSliderView",
            "continuous_update": true,
            "description": "",
            "description_tooltip": null,
            "disabled": false,
            "layout": "IPY_MODEL_e7de513f71e5441ba421db703ea21674",
            "max": 30,
            "min": 0,
            "orientation": "horizontal",
            "readout": true,
            "readout_format": ".2f",
            "step": 1,
            "style": "IPY_MODEL_8b2484c09b564d21b82882629349ee67",
            "value": 0
          }
        },
        "e7de513f71e5441ba421db703ea21674": {
          "model_module": "@jupyter-widgets/base",
          "model_name": "LayoutModel",
          "model_module_version": "1.2.0",
          "state": {
            "_model_module": "@jupyter-widgets/base",
            "_model_module_version": "1.2.0",
            "_model_name": "LayoutModel",
            "_view_count": null,
            "_view_module": "@jupyter-widgets/base",
            "_view_module_version": "1.2.0",
            "_view_name": "LayoutView",
            "align_content": null,
            "align_items": null,
            "align_self": null,
            "border": null,
            "bottom": null,
            "display": null,
            "flex": null,
            "flex_flow": null,
            "grid_area": null,
            "grid_auto_columns": null,
            "grid_auto_flow": null,
            "grid_auto_rows": null,
            "grid_column": null,
            "grid_gap": null,
            "grid_row": null,
            "grid_template_areas": null,
            "grid_template_columns": null,
            "grid_template_rows": null,
            "height": null,
            "justify_content": null,
            "justify_items": null,
            "left": null,
            "margin": null,
            "max_height": null,
            "max_width": null,
            "min_height": null,
            "min_width": null,
            "object_fit": null,
            "object_position": null,
            "order": null,
            "overflow": null,
            "overflow_x": null,
            "overflow_y": null,
            "padding": null,
            "right": null,
            "top": null,
            "visibility": null,
            "width": null
          }
        },
        "8b2484c09b564d21b82882629349ee67": {
          "model_module": "@jupyter-widgets/controls",
          "model_name": "SliderStyleModel",
          "model_module_version": "1.5.0",
          "state": {
            "_model_module": "@jupyter-widgets/controls",
            "_model_module_version": "1.5.0",
            "_model_name": "SliderStyleModel",
            "_view_count": null,
            "_view_module": "@jupyter-widgets/base",
            "_view_module_version": "1.2.0",
            "_view_name": "StyleView",
            "description_width": "",
            "handle_color": null
          }
        },
        "49b53262b375481ab63f8767ae04c001": {
          "model_module": "@jupyter-widgets/controls",
          "model_name": "LabelModel",
          "model_module_version": "1.5.0",
          "state": {
            "_dom_classes": [],
            "_model_module": "@jupyter-widgets/controls",
            "_model_module_version": "1.5.0",
            "_model_name": "LabelModel",
            "_view_count": null,
            "_view_module": "@jupyter-widgets/controls",
            "_view_module_version": "1.5.0",
            "_view_name": "LabelView",
            "description": "",
            "description_tooltip": null,
            "layout": "IPY_MODEL_3b1652ff744743fa9293a21c3ba83205",
            "placeholder": "​",
            "style": "IPY_MODEL_4770a0ef53e04851807929f7df475b1f",
            "value": "Do you have Difficulty Walking or climbing stairs?"
          }
        },
        "3b1652ff744743fa9293a21c3ba83205": {
          "model_module": "@jupyter-widgets/base",
          "model_name": "LayoutModel",
          "model_module_version": "1.2.0",
          "state": {
            "_model_module": "@jupyter-widgets/base",
            "_model_module_version": "1.2.0",
            "_model_name": "LayoutModel",
            "_view_count": null,
            "_view_module": "@jupyter-widgets/base",
            "_view_module_version": "1.2.0",
            "_view_name": "LayoutView",
            "align_content": null,
            "align_items": null,
            "align_self": null,
            "border": null,
            "bottom": null,
            "display": null,
            "flex": null,
            "flex_flow": null,
            "grid_area": null,
            "grid_auto_columns": null,
            "grid_auto_flow": null,
            "grid_auto_rows": null,
            "grid_column": null,
            "grid_gap": null,
            "grid_row": null,
            "grid_template_areas": null,
            "grid_template_columns": null,
            "grid_template_rows": null,
            "height": null,
            "justify_content": null,
            "justify_items": null,
            "left": null,
            "margin": null,
            "max_height": null,
            "max_width": null,
            "min_height": null,
            "min_width": null,
            "object_fit": null,
            "object_position": null,
            "order": null,
            "overflow": null,
            "overflow_x": null,
            "overflow_y": null,
            "padding": null,
            "right": null,
            "top": null,
            "visibility": null,
            "width": "max-content"
          }
        },
        "4770a0ef53e04851807929f7df475b1f": {
          "model_module": "@jupyter-widgets/controls",
          "model_name": "DescriptionStyleModel",
          "model_module_version": "1.5.0",
          "state": {
            "_model_module": "@jupyter-widgets/controls",
            "_model_module_version": "1.5.0",
            "_model_name": "DescriptionStyleModel",
            "_view_count": null,
            "_view_module": "@jupyter-widgets/base",
            "_view_module_version": "1.2.0",
            "_view_name": "StyleView",
            "description_width": ""
          }
        },
        "67c8b8df713d40b5bec18daae484e202": {
          "model_module": "@jupyter-widgets/controls",
          "model_name": "RadioButtonsModel",
          "model_module_version": "1.5.0",
          "state": {
            "_dom_classes": [],
            "_model_module": "@jupyter-widgets/controls",
            "_model_module_version": "1.5.0",
            "_model_name": "RadioButtonsModel",
            "_options_labels": [
              "No",
              "Yes"
            ],
            "_view_count": null,
            "_view_module": "@jupyter-widgets/controls",
            "_view_module_version": "1.5.0",
            "_view_name": "RadioButtonsView",
            "description": "",
            "description_tooltip": null,
            "disabled": false,
            "index": 0,
            "layout": "IPY_MODEL_6f12d80728a2412a92646572e38bff1d",
            "style": "IPY_MODEL_815ca81227674300a2910003b2b11f92"
          }
        },
        "6f12d80728a2412a92646572e38bff1d": {
          "model_module": "@jupyter-widgets/base",
          "model_name": "LayoutModel",
          "model_module_version": "1.2.0",
          "state": {
            "_model_module": "@jupyter-widgets/base",
            "_model_module_version": "1.2.0",
            "_model_name": "LayoutModel",
            "_view_count": null,
            "_view_module": "@jupyter-widgets/base",
            "_view_module_version": "1.2.0",
            "_view_name": "LayoutView",
            "align_content": null,
            "align_items": null,
            "align_self": null,
            "border": null,
            "bottom": null,
            "display": null,
            "flex": null,
            "flex_flow": null,
            "grid_area": null,
            "grid_auto_columns": null,
            "grid_auto_flow": null,
            "grid_auto_rows": null,
            "grid_column": null,
            "grid_gap": null,
            "grid_row": null,
            "grid_template_areas": null,
            "grid_template_columns": null,
            "grid_template_rows": null,
            "height": null,
            "justify_content": null,
            "justify_items": null,
            "left": null,
            "margin": null,
            "max_height": null,
            "max_width": null,
            "min_height": null,
            "min_width": null,
            "object_fit": null,
            "object_position": null,
            "order": null,
            "overflow": null,
            "overflow_x": null,
            "overflow_y": null,
            "padding": null,
            "right": null,
            "top": null,
            "visibility": null,
            "width": null
          }
        },
        "815ca81227674300a2910003b2b11f92": {
          "model_module": "@jupyter-widgets/controls",
          "model_name": "DescriptionStyleModel",
          "model_module_version": "1.5.0",
          "state": {
            "_model_module": "@jupyter-widgets/controls",
            "_model_module_version": "1.5.0",
            "_model_name": "DescriptionStyleModel",
            "_view_count": null,
            "_view_module": "@jupyter-widgets/base",
            "_view_module_version": "1.2.0",
            "_view_name": "StyleView",
            "description_width": ""
          }
        },
        "2df37ddca04c420aa492fa67100426c5": {
          "model_module": "@jupyter-widgets/controls",
          "model_name": "LabelModel",
          "model_module_version": "1.5.0",
          "state": {
            "_dom_classes": [],
            "_model_module": "@jupyter-widgets/controls",
            "_model_module_version": "1.5.0",
            "_model_name": "LabelModel",
            "_view_count": null,
            "_view_module": "@jupyter-widgets/controls",
            "_view_module_version": "1.5.0",
            "_view_name": "LabelView",
            "description": "",
            "description_tooltip": null,
            "layout": "IPY_MODEL_7ef7e3a3d91d4702b048831db6eeea37",
            "placeholder": "​",
            "style": "IPY_MODEL_cc29192ae256495783484d2e9cc5749a",
            "value": "Physical Activity in past 30 days, not incl job"
          }
        },
        "7ef7e3a3d91d4702b048831db6eeea37": {
          "model_module": "@jupyter-widgets/base",
          "model_name": "LayoutModel",
          "model_module_version": "1.2.0",
          "state": {
            "_model_module": "@jupyter-widgets/base",
            "_model_module_version": "1.2.0",
            "_model_name": "LayoutModel",
            "_view_count": null,
            "_view_module": "@jupyter-widgets/base",
            "_view_module_version": "1.2.0",
            "_view_name": "LayoutView",
            "align_content": null,
            "align_items": null,
            "align_self": null,
            "border": null,
            "bottom": null,
            "display": null,
            "flex": null,
            "flex_flow": null,
            "grid_area": null,
            "grid_auto_columns": null,
            "grid_auto_flow": null,
            "grid_auto_rows": null,
            "grid_column": null,
            "grid_gap": null,
            "grid_row": null,
            "grid_template_areas": null,
            "grid_template_columns": null,
            "grid_template_rows": null,
            "height": null,
            "justify_content": null,
            "justify_items": null,
            "left": null,
            "margin": null,
            "max_height": null,
            "max_width": null,
            "min_height": null,
            "min_width": null,
            "object_fit": null,
            "object_position": null,
            "order": null,
            "overflow": null,
            "overflow_x": null,
            "overflow_y": null,
            "padding": null,
            "right": null,
            "top": null,
            "visibility": null,
            "width": "max-content"
          }
        },
        "cc29192ae256495783484d2e9cc5749a": {
          "model_module": "@jupyter-widgets/controls",
          "model_name": "DescriptionStyleModel",
          "model_module_version": "1.5.0",
          "state": {
            "_model_module": "@jupyter-widgets/controls",
            "_model_module_version": "1.5.0",
            "_model_name": "DescriptionStyleModel",
            "_view_count": null,
            "_view_module": "@jupyter-widgets/base",
            "_view_module_version": "1.2.0",
            "_view_name": "StyleView",
            "description_width": ""
          }
        },
        "212c60b09345456d9196147e2e58269e": {
          "model_module": "@jupyter-widgets/controls",
          "model_name": "RadioButtonsModel",
          "model_module_version": "1.5.0",
          "state": {
            "_dom_classes": [],
            "_model_module": "@jupyter-widgets/controls",
            "_model_module_version": "1.5.0",
            "_model_name": "RadioButtonsModel",
            "_options_labels": [
              "No",
              "Yes"
            ],
            "_view_count": null,
            "_view_module": "@jupyter-widgets/controls",
            "_view_module_version": "1.5.0",
            "_view_name": "RadioButtonsView",
            "description": "",
            "description_tooltip": null,
            "disabled": false,
            "index": 0,
            "layout": "IPY_MODEL_50cb5a249e3b42f5a5a4f8536e8ada32",
            "style": "IPY_MODEL_992543a98ecf4c0f98711d4048198e65"
          }
        },
        "50cb5a249e3b42f5a5a4f8536e8ada32": {
          "model_module": "@jupyter-widgets/base",
          "model_name": "LayoutModel",
          "model_module_version": "1.2.0",
          "state": {
            "_model_module": "@jupyter-widgets/base",
            "_model_module_version": "1.2.0",
            "_model_name": "LayoutModel",
            "_view_count": null,
            "_view_module": "@jupyter-widgets/base",
            "_view_module_version": "1.2.0",
            "_view_name": "LayoutView",
            "align_content": null,
            "align_items": null,
            "align_self": null,
            "border": null,
            "bottom": null,
            "display": null,
            "flex": null,
            "flex_flow": null,
            "grid_area": null,
            "grid_auto_columns": null,
            "grid_auto_flow": null,
            "grid_auto_rows": null,
            "grid_column": null,
            "grid_gap": null,
            "grid_row": null,
            "grid_template_areas": null,
            "grid_template_columns": null,
            "grid_template_rows": null,
            "height": null,
            "justify_content": null,
            "justify_items": null,
            "left": null,
            "margin": null,
            "max_height": null,
            "max_width": null,
            "min_height": null,
            "min_width": null,
            "object_fit": null,
            "object_position": null,
            "order": null,
            "overflow": null,
            "overflow_x": null,
            "overflow_y": null,
            "padding": null,
            "right": null,
            "top": null,
            "visibility": null,
            "width": null
          }
        },
        "992543a98ecf4c0f98711d4048198e65": {
          "model_module": "@jupyter-widgets/controls",
          "model_name": "DescriptionStyleModel",
          "model_module_version": "1.5.0",
          "state": {
            "_model_module": "@jupyter-widgets/controls",
            "_model_module_version": "1.5.0",
            "_model_name": "DescriptionStyleModel",
            "_view_count": null,
            "_view_module": "@jupyter-widgets/base",
            "_view_module_version": "1.2.0",
            "_view_name": "StyleView",
            "description_width": ""
          }
        },
        "a60eb8aed8004be4917ceb88a0db29d4": {
          "model_module": "@jupyter-widgets/controls",
          "model_name": "LabelModel",
          "model_module_version": "1.5.0",
          "state": {
            "_dom_classes": [],
            "_model_module": "@jupyter-widgets/controls",
            "_model_module_version": "1.5.0",
            "_model_name": "LabelModel",
            "_view_count": null,
            "_view_module": "@jupyter-widgets/controls",
            "_view_module_version": "1.5.0",
            "_view_name": "LabelView",
            "description": "",
            "description_tooltip": null,
            "layout": "IPY_MODEL_4dbecbbf860048ac86ff947e94192a75",
            "placeholder": "​",
            "style": "IPY_MODEL_e816469c7a6c4617844f2b6d8007dad5",
            "value": "Eat 1 Fruit or more per day"
          }
        },
        "4dbecbbf860048ac86ff947e94192a75": {
          "model_module": "@jupyter-widgets/base",
          "model_name": "LayoutModel",
          "model_module_version": "1.2.0",
          "state": {
            "_model_module": "@jupyter-widgets/base",
            "_model_module_version": "1.2.0",
            "_model_name": "LayoutModel",
            "_view_count": null,
            "_view_module": "@jupyter-widgets/base",
            "_view_module_version": "1.2.0",
            "_view_name": "LayoutView",
            "align_content": null,
            "align_items": null,
            "align_self": null,
            "border": null,
            "bottom": null,
            "display": null,
            "flex": null,
            "flex_flow": null,
            "grid_area": null,
            "grid_auto_columns": null,
            "grid_auto_flow": null,
            "grid_auto_rows": null,
            "grid_column": null,
            "grid_gap": null,
            "grid_row": null,
            "grid_template_areas": null,
            "grid_template_columns": null,
            "grid_template_rows": null,
            "height": null,
            "justify_content": null,
            "justify_items": null,
            "left": null,
            "margin": null,
            "max_height": null,
            "max_width": null,
            "min_height": null,
            "min_width": null,
            "object_fit": null,
            "object_position": null,
            "order": null,
            "overflow": null,
            "overflow_x": null,
            "overflow_y": null,
            "padding": null,
            "right": null,
            "top": null,
            "visibility": null,
            "width": "max-content"
          }
        },
        "e816469c7a6c4617844f2b6d8007dad5": {
          "model_module": "@jupyter-widgets/controls",
          "model_name": "DescriptionStyleModel",
          "model_module_version": "1.5.0",
          "state": {
            "_model_module": "@jupyter-widgets/controls",
            "_model_module_version": "1.5.0",
            "_model_name": "DescriptionStyleModel",
            "_view_count": null,
            "_view_module": "@jupyter-widgets/base",
            "_view_module_version": "1.2.0",
            "_view_name": "StyleView",
            "description_width": ""
          }
        },
        "c4a8989a3da649aab8c6d088b1208a0a": {
          "model_module": "@jupyter-widgets/controls",
          "model_name": "RadioButtonsModel",
          "model_module_version": "1.5.0",
          "state": {
            "_dom_classes": [],
            "_model_module": "@jupyter-widgets/controls",
            "_model_module_version": "1.5.0",
            "_model_name": "RadioButtonsModel",
            "_options_labels": [
              "No",
              "Yes"
            ],
            "_view_count": null,
            "_view_module": "@jupyter-widgets/controls",
            "_view_module_version": "1.5.0",
            "_view_name": "RadioButtonsView",
            "description": "",
            "description_tooltip": null,
            "disabled": false,
            "index": 0,
            "layout": "IPY_MODEL_068b64fc69ac46009d80003bd9fcfa6c",
            "style": "IPY_MODEL_3d9f728069854c6c82a6c1ee150c8bd8"
          }
        },
        "068b64fc69ac46009d80003bd9fcfa6c": {
          "model_module": "@jupyter-widgets/base",
          "model_name": "LayoutModel",
          "model_module_version": "1.2.0",
          "state": {
            "_model_module": "@jupyter-widgets/base",
            "_model_module_version": "1.2.0",
            "_model_name": "LayoutModel",
            "_view_count": null,
            "_view_module": "@jupyter-widgets/base",
            "_view_module_version": "1.2.0",
            "_view_name": "LayoutView",
            "align_content": null,
            "align_items": null,
            "align_self": null,
            "border": null,
            "bottom": null,
            "display": null,
            "flex": null,
            "flex_flow": null,
            "grid_area": null,
            "grid_auto_columns": null,
            "grid_auto_flow": null,
            "grid_auto_rows": null,
            "grid_column": null,
            "grid_gap": null,
            "grid_row": null,
            "grid_template_areas": null,
            "grid_template_columns": null,
            "grid_template_rows": null,
            "height": null,
            "justify_content": null,
            "justify_items": null,
            "left": null,
            "margin": null,
            "max_height": null,
            "max_width": null,
            "min_height": null,
            "min_width": null,
            "object_fit": null,
            "object_position": null,
            "order": null,
            "overflow": null,
            "overflow_x": null,
            "overflow_y": null,
            "padding": null,
            "right": null,
            "top": null,
            "visibility": null,
            "width": null
          }
        },
        "3d9f728069854c6c82a6c1ee150c8bd8": {
          "model_module": "@jupyter-widgets/controls",
          "model_name": "DescriptionStyleModel",
          "model_module_version": "1.5.0",
          "state": {
            "_model_module": "@jupyter-widgets/controls",
            "_model_module_version": "1.5.0",
            "_model_name": "DescriptionStyleModel",
            "_view_count": null,
            "_view_module": "@jupyter-widgets/base",
            "_view_module_version": "1.2.0",
            "_view_name": "StyleView",
            "description_width": ""
          }
        },
        "91308ccbd9de4cce9d564f6c07cf3ccf": {
          "model_module": "@jupyter-widgets/controls",
          "model_name": "LabelModel",
          "model_module_version": "1.5.0",
          "state": {
            "_dom_classes": [],
            "_model_module": "@jupyter-widgets/controls",
            "_model_module_version": "1.5.0",
            "_model_name": "LabelModel",
            "_view_count": null,
            "_view_module": "@jupyter-widgets/controls",
            "_view_module_version": "1.5.0",
            "_view_name": "LabelView",
            "description": "",
            "description_tooltip": null,
            "layout": "IPY_MODEL_b0bf7865f49d4b759b491a9cd426ba32",
            "placeholder": "​",
            "style": "IPY_MODEL_7f94c642edae41abb27dcb4dbaa66e73",
            "value": "Eat Veggies 1 or more per day"
          }
        },
        "b0bf7865f49d4b759b491a9cd426ba32": {
          "model_module": "@jupyter-widgets/base",
          "model_name": "LayoutModel",
          "model_module_version": "1.2.0",
          "state": {
            "_model_module": "@jupyter-widgets/base",
            "_model_module_version": "1.2.0",
            "_model_name": "LayoutModel",
            "_view_count": null,
            "_view_module": "@jupyter-widgets/base",
            "_view_module_version": "1.2.0",
            "_view_name": "LayoutView",
            "align_content": null,
            "align_items": null,
            "align_self": null,
            "border": null,
            "bottom": null,
            "display": null,
            "flex": null,
            "flex_flow": null,
            "grid_area": null,
            "grid_auto_columns": null,
            "grid_auto_flow": null,
            "grid_auto_rows": null,
            "grid_column": null,
            "grid_gap": null,
            "grid_row": null,
            "grid_template_areas": null,
            "grid_template_columns": null,
            "grid_template_rows": null,
            "height": null,
            "justify_content": null,
            "justify_items": null,
            "left": null,
            "margin": null,
            "max_height": null,
            "max_width": null,
            "min_height": null,
            "min_width": null,
            "object_fit": null,
            "object_position": null,
            "order": null,
            "overflow": null,
            "overflow_x": null,
            "overflow_y": null,
            "padding": null,
            "right": null,
            "top": null,
            "visibility": null,
            "width": "max-content"
          }
        },
        "7f94c642edae41abb27dcb4dbaa66e73": {
          "model_module": "@jupyter-widgets/controls",
          "model_name": "DescriptionStyleModel",
          "model_module_version": "1.5.0",
          "state": {
            "_model_module": "@jupyter-widgets/controls",
            "_model_module_version": "1.5.0",
            "_model_name": "DescriptionStyleModel",
            "_view_count": null,
            "_view_module": "@jupyter-widgets/base",
            "_view_module_version": "1.2.0",
            "_view_name": "StyleView",
            "description_width": ""
          }
        },
        "39a68c0165834876ad6d99b307146c0c": {
          "model_module": "@jupyter-widgets/controls",
          "model_name": "RadioButtonsModel",
          "model_module_version": "1.5.0",
          "state": {
            "_dom_classes": [],
            "_model_module": "@jupyter-widgets/controls",
            "_model_module_version": "1.5.0",
            "_model_name": "RadioButtonsModel",
            "_options_labels": [
              "No",
              "Yes"
            ],
            "_view_count": null,
            "_view_module": "@jupyter-widgets/controls",
            "_view_module_version": "1.5.0",
            "_view_name": "RadioButtonsView",
            "description": "",
            "description_tooltip": null,
            "disabled": false,
            "index": 0,
            "layout": "IPY_MODEL_3e402b62ab84464d8ac10809fb3f2ff2",
            "style": "IPY_MODEL_97c77f50b95f41c7a4dc88155140ef05"
          }
        },
        "3e402b62ab84464d8ac10809fb3f2ff2": {
          "model_module": "@jupyter-widgets/base",
          "model_name": "LayoutModel",
          "model_module_version": "1.2.0",
          "state": {
            "_model_module": "@jupyter-widgets/base",
            "_model_module_version": "1.2.0",
            "_model_name": "LayoutModel",
            "_view_count": null,
            "_view_module": "@jupyter-widgets/base",
            "_view_module_version": "1.2.0",
            "_view_name": "LayoutView",
            "align_content": null,
            "align_items": null,
            "align_self": null,
            "border": null,
            "bottom": null,
            "display": null,
            "flex": null,
            "flex_flow": null,
            "grid_area": null,
            "grid_auto_columns": null,
            "grid_auto_flow": null,
            "grid_auto_rows": null,
            "grid_column": null,
            "grid_gap": null,
            "grid_row": null,
            "grid_template_areas": null,
            "grid_template_columns": null,
            "grid_template_rows": null,
            "height": null,
            "justify_content": null,
            "justify_items": null,
            "left": null,
            "margin": null,
            "max_height": null,
            "max_width": null,
            "min_height": null,
            "min_width": null,
            "object_fit": null,
            "object_position": null,
            "order": null,
            "overflow": null,
            "overflow_x": null,
            "overflow_y": null,
            "padding": null,
            "right": null,
            "top": null,
            "visibility": null,
            "width": null
          }
        },
        "97c77f50b95f41c7a4dc88155140ef05": {
          "model_module": "@jupyter-widgets/controls",
          "model_name": "DescriptionStyleModel",
          "model_module_version": "1.5.0",
          "state": {
            "_model_module": "@jupyter-widgets/controls",
            "_model_module_version": "1.5.0",
            "_model_name": "DescriptionStyleModel",
            "_view_count": null,
            "_view_module": "@jupyter-widgets/base",
            "_view_module_version": "1.2.0",
            "_view_name": "StyleView",
            "description_width": ""
          }
        },
        "9fe27a48e173453892ec7959d218c8af": {
          "model_module": "@jupyter-widgets/controls",
          "model_name": "ButtonModel",
          "model_module_version": "1.5.0",
          "state": {
            "_dom_classes": [],
            "_model_module": "@jupyter-widgets/controls",
            "_model_module_version": "1.5.0",
            "_model_name": "ButtonModel",
            "_view_count": null,
            "_view_module": "@jupyter-widgets/controls",
            "_view_module_version": "1.5.0",
            "_view_name": "ButtonView",
            "button_style": "",
            "description": "Predict Patient Risk",
            "disabled": false,
            "icon": "",
            "layout": "IPY_MODEL_e107fdb31b224203a9df227dc6e227ac",
            "style": "IPY_MODEL_5f98bbedca424439b4397b4aac8a0721",
            "tooltip": ""
          }
        },
        "e107fdb31b224203a9df227dc6e227ac": {
          "model_module": "@jupyter-widgets/base",
          "model_name": "LayoutModel",
          "model_module_version": "1.2.0",
          "state": {
            "_model_module": "@jupyter-widgets/base",
            "_model_module_version": "1.2.0",
            "_model_name": "LayoutModel",
            "_view_count": null,
            "_view_module": "@jupyter-widgets/base",
            "_view_module_version": "1.2.0",
            "_view_name": "LayoutView",
            "align_content": null,
            "align_items": null,
            "align_self": null,
            "border": null,
            "bottom": null,
            "display": null,
            "flex": null,
            "flex_flow": null,
            "grid_area": null,
            "grid_auto_columns": null,
            "grid_auto_flow": null,
            "grid_auto_rows": null,
            "grid_column": null,
            "grid_gap": null,
            "grid_row": null,
            "grid_template_areas": null,
            "grid_template_columns": null,
            "grid_template_rows": null,
            "height": null,
            "justify_content": null,
            "justify_items": null,
            "left": null,
            "margin": null,
            "max_height": null,
            "max_width": null,
            "min_height": null,
            "min_width": null,
            "object_fit": null,
            "object_position": null,
            "order": null,
            "overflow": null,
            "overflow_x": null,
            "overflow_y": null,
            "padding": null,
            "right": null,
            "top": null,
            "visibility": null,
            "width": null
          }
        },
        "5f98bbedca424439b4397b4aac8a0721": {
          "model_module": "@jupyter-widgets/controls",
          "model_name": "ButtonStyleModel",
          "model_module_version": "1.5.0",
          "state": {
            "_model_module": "@jupyter-widgets/controls",
            "_model_module_version": "1.5.0",
            "_model_name": "ButtonStyleModel",
            "_view_count": null,
            "_view_module": "@jupyter-widgets/base",
            "_view_module_version": "1.2.0",
            "_view_name": "StyleView",
            "button_color": null,
            "font_weight": ""
          }
        },
        "f3cca0eed8194823bc6f03ffa9a0724d": {
          "model_module": "@jupyter-widgets/output",
          "model_name": "OutputModel",
          "model_module_version": "1.0.0",
          "state": {
            "_dom_classes": [],
            "_model_module": "@jupyter-widgets/output",
            "_model_module_version": "1.0.0",
            "_model_name": "OutputModel",
            "_view_count": null,
            "_view_module": "@jupyter-widgets/output",
            "_view_module_version": "1.0.0",
            "_view_name": "OutputView",
            "layout": "IPY_MODEL_f6a9f90f77954da3b58a0ab865edaf49",
            "msg_id": "",
            "outputs": []
          }
        },
        "f6a9f90f77954da3b58a0ab865edaf49": {
          "model_module": "@jupyter-widgets/base",
          "model_name": "LayoutModel",
          "model_module_version": "1.2.0",
          "state": {
            "_model_module": "@jupyter-widgets/base",
            "_model_module_version": "1.2.0",
            "_model_name": "LayoutModel",
            "_view_count": null,
            "_view_module": "@jupyter-widgets/base",
            "_view_module_version": "1.2.0",
            "_view_name": "LayoutView",
            "align_content": null,
            "align_items": null,
            "align_self": null,
            "border": null,
            "bottom": null,
            "display": null,
            "flex": null,
            "flex_flow": null,
            "grid_area": null,
            "grid_auto_columns": null,
            "grid_auto_flow": null,
            "grid_auto_rows": null,
            "grid_column": null,
            "grid_gap": null,
            "grid_row": null,
            "grid_template_areas": null,
            "grid_template_columns": null,
            "grid_template_rows": null,
            "height": null,
            "justify_content": null,
            "justify_items": null,
            "left": null,
            "margin": null,
            "max_height": null,
            "max_width": null,
            "min_height": null,
            "min_width": null,
            "object_fit": null,
            "object_position": null,
            "order": null,
            "overflow": null,
            "overflow_x": null,
            "overflow_y": null,
            "padding": null,
            "right": null,
            "top": null,
            "visibility": null,
            "width": null
          }
        }
      }
    }
  },
  "nbformat_minor": 0,
  "nbformat": 4,
  "cells": [
    {
      "cell_type": "markdown",
      "source": [
        "# At-Risk Diabetes Classifier\n",
        "\n",
        "**Author:** Joseph Curtis\n",
        "\n",
        "<p><a target=\"_blank\" href=\"https://colab.research.google.com/github/joseph-curtis/data-science-diabetes-classifier/blob/master/colab-notebook.ipynb\">\n",
        "  <img align=\"left\" alt=\"Google Colab\" title=\"Open In Colab\" width=\"167\" height=\"30\" src=\"https://colab.research.google.com/assets/colab-badge.svg\" />\n",
        "</a></p>"
      ],
      "metadata": {
        "id": "oDco2GYleYIU"
      }
    },
    {
      "cell_type": "markdown",
      "source": [
        "# Overview\n",
        "\n",
        "This notebook presents the At-Risk Diabetes Classifier, a machine learning project aimed at identifying individuals at risk of diabetes based on a variety of health indicators. By analyzing a dataset with features such as BMI, age, smoking status, physical activity, and more, we develop and train a supervised model to predict the likelihood of diabetes.\n",
        "\n",
        "The project demonstrates:\n",
        "- Data preprocessing and cleaning techniques.\n",
        "- Exploratory data analysis (EDA) to understand the relationships within the data.\n",
        "- Feature selection and engineering to prepare the data for modeling.\n",
        "- Evaluation and comparison of different machine learning models, including Logistic Regression and Random Forest, to find the most effective predictor of diabetes risk.\n",
        "\n",
        "This work is part of an ongoing exploration into how data science can be applied to healthcare data to predict disease risk and support early intervention strategies.\n",
        "\n",
        "For more information, source code, and related resources, please visit the project's GitHub repository at [github.com/joseph-curtis](https://github.com/joseph-curtis/data-science-diabetes-classifier)\n",
        "\n",
        "- <a href=\"https://github.com/joseph-curtis/data-science-diabetes-classifier\" target=\"_blank\"><img align=\"left\" alt=\"Github\" title=\"Open in Github\" width=\"144\" height=\"42\" src=\"https://img.shields.io/badge/GitHub-372a4a?style=for-the-badge&logo=github&logoColor=white\" /></a>"
      ],
      "metadata": {
        "id": "AqRO0YqyMdeC"
      }
    },
    {
      "cell_type": "markdown",
      "source": [
        "# Google Colab\n",
        "\n",
        "Run the following cell when in the Google Colab environment in order to import the data sources from Kaggle."
      ],
      "metadata": {
        "id": "VQfuv1C9Wscd"
      }
    },
    {
      "source": [
        "# IMPORTANT: RUN THIS CELL IN ORDER TO IMPORT YOUR KAGGLE DATA SOURCES\n",
        "# TO THE CORRECT LOCATION (/kaggle/input) IN YOUR NOTEBOOK,\n",
        "# THEN FEEL FREE TO DELETE THIS CELL.\n",
        "# NOTE: THIS NOTEBOOK ENVIRONMENT DIFFERS FROM KAGGLE'S PYTHON\n",
        "# ENVIRONMENT SO THERE MAY BE MISSING LIBRARIES USED BY YOUR\n",
        "# NOTEBOOK.\n",
        "\n",
        "import os\n",
        "import sys\n",
        "from tempfile import NamedTemporaryFile\n",
        "from urllib.request import urlopen\n",
        "from urllib.parse import unquote, urlparse\n",
        "from urllib.error import HTTPError\n",
        "from zipfile import ZipFile\n",
        "import tarfile\n",
        "import shutil\n",
        "\n",
        "CHUNK_SIZE = 40960\n",
        "DATA_SOURCE_MAPPING = 'diabetes-health-indicators-dataset:\\\n",
        "https%3A%2F%2Fstorage.googleapis.com%2Fkaggle-data-sets%2F1703281%2F2789260%2F\\\n",
        "bundle%2Farchive.zip%3FX-Goog-Algorithm%3DGOOG4-RSA-SHA256%26X-Goog-Credential\\\n",
        "%3Dgcp-kaggle-com%2540kaggle-161607.iam.gserviceaccount.com%252F20240318%252F\\\n",
        "auto%252Fstorage%252Fgoog4_request%26X-Goog-Date%3D20240318T061338Z%26X-Goog-\\\n",
        "Expires%3D259200%26X-Goog-SignedHeaders%3Dhost%26X-Goog-Signature%3D07bdb86ecd7\\\n",
        "0c483126055dcba8314541ec88e567b9ae028bbbde9b68d274d5ec1c6e3d0c1859178b6bd18f964\\\n",
        "9b8f5dd99e03049a0d45c1397463451d0d36f83e756b0776028f46a89fe8b0c511bc7b73b0faa2f\\\n",
        "2934c0e7dfa27049055525960d1b572a89d5ac7319c6aaa61caa5408b85dbb928ec19625e6a11cd\\\n",
        "a1d6d4d70862a65d5397d43b247886928e2ad4f8d99fde0953855b6082face35e28682484ffffbd\\\n",
        "3151026ae65a9f8217e86f983d1ac299e52d6d21d1fdbef7f03e356ee59c6645f8e310e506c3a63\\\n",
        "4a038bb71a59d80e81b2c77f9d150ceaa5cb954028a30b9b5cc35c0e8f59801c23953f2293e1e44\\\n",
        "3648b1cb2ef6fcc6e72b380a32a,d/julnazz/diabetes-health-indicators-dataset:\\\n",
        "https%3A%2F%2Fstorage.googleapis.com%2Fkaggle-data-sets%2F4066291%2F7062872%2F\\\n",
        "bundle%2Farchive.zip%3FX-Goog-Algorithm%3DGOOG4-RSA-SHA256%26X-Goog-Credential\\\n",
        "%3Dgcp-kaggle-com%2540kaggle-161607.iam.gserviceaccount.com%252F20240318%252F\\\n",
        "auto%252Fstorage%252Fgoog4_request%26X-Goog-Date%3D20240318T061338Z%26X-Goog-\\\n",
        "Expires%3D259200%26X-Goog-SignedHeaders%3Dhost%26X-Goog-Signature%3D72918207ec3\\\n",
        "1108b2099a2604d603e2313e617b29a0b66dcf71b93f1f5e586210ab1637c8b08b43a6ac98abaa2\\\n",
        "cf2310f9db52880746ad9ec4c3a6fd7a6512577f51feb3922ede22b63845e82c8c373c9cce0abdd\\\n",
        "cf6efb55dc855344af8996939b4cc6f2740bc0e4942d81bb0ca92415cce88873ee1cfa4631687ba\\\n",
        "e6dbcb680cdd941f21e62170b1edd284afb7fb9855111f1a19f5419e3af2b521304ef0ed5326fe9\\\n",
        "685eb4e98751fe0622c12d249ccf52673e3711b5edcb0dd485e04f9db5317d0758f354e4ace0381\\\n",
        "c1c997e657a76ad058cb03f67565a50c7c0ff6dd43a1a8aaad88948ada23635548ccf96389bc632\\\n",
        "666c84a8a4ad9bffb0906f630f6'\n",
        "\n",
        "KAGGLE_INPUT_PATH='/kaggle/input'\n",
        "KAGGLE_WORKING_PATH='/kaggle/working'\n",
        "KAGGLE_SYMLINK='kaggle'\n",
        "\n",
        "!umount /kaggle/input/ 2> /dev/null\n",
        "shutil.rmtree('/kaggle/input', ignore_errors=True)\n",
        "os.makedirs(KAGGLE_INPUT_PATH, 0o777, exist_ok=True)\n",
        "os.makedirs(KAGGLE_WORKING_PATH, 0o777, exist_ok=True)\n",
        "\n",
        "try:\n",
        "  os.symlink(KAGGLE_INPUT_PATH, os.path.join(\"..\", 'input'), target_is_directory=True)\n",
        "except FileExistsError:\n",
        "  pass\n",
        "try:\n",
        "  os.symlink(KAGGLE_WORKING_PATH, os.path.join(\"..\", 'working'), target_is_directory=True)\n",
        "except FileExistsError:\n",
        "  pass\n",
        "\n",
        "for data_source_mapping in DATA_SOURCE_MAPPING.split(','):\n",
        "    directory, download_url_encoded = data_source_mapping.split(':')\n",
        "    download_url = unquote(download_url_encoded)\n",
        "    filename = urlparse(download_url).path\n",
        "    destination_path = os.path.join(KAGGLE_INPUT_PATH, directory)\n",
        "    try:\n",
        "        with urlopen(download_url) as fileres, NamedTemporaryFile() as tfile:\n",
        "            total_length = fileres.headers['content-length']\n",
        "            print(f'Downloading {directory}, {total_length} bytes compressed')\n",
        "            dl = 0\n",
        "            data = fileres.read(CHUNK_SIZE)\n",
        "            while len(data) > 0:\n",
        "                dl += len(data)\n",
        "                tfile.write(data)\n",
        "                done = int(50 * dl / int(total_length))\n",
        "                sys.stdout.write(f\"\\r[{'=' * done}{' ' * (50-done)}] {dl} bytes downloaded\")\n",
        "                sys.stdout.flush()\n",
        "                data = fileres.read(CHUNK_SIZE)\n",
        "            if filename.endswith('.zip'):\n",
        "              with ZipFile(tfile) as zfile:\n",
        "                zfile.extractall(destination_path)\n",
        "            else:\n",
        "              with tarfile.open(tfile.name) as tarfile:\n",
        "                tarfile.extractall(destination_path)\n",
        "            print(f'\\nDownloaded and uncompressed: {directory}')\n",
        "    except HTTPError as e:\n",
        "        print(f'Failed to load (likely expired) {download_url} to path {destination_path}')\n",
        "        continue\n",
        "    except OSError as e:\n",
        "        print(f'Failed to load {download_url} to path {destination_path}')\n",
        "        continue\n",
        "\n",
        "print('Data source import complete.')"
      ],
      "metadata": {
        "id": "0obLLkVQMdd-",
        "outputId": "4c213a32-a66c-43a5-f0a3-5182be373df8",
        "colab": {
          "base_uri": "https://localhost:8080/"
        }
      },
      "cell_type": "code",
      "outputs": [
        {
          "output_type": "stream",
          "name": "stdout",
          "text": [
            "Downloading diabetes-health-indicators-dataset, 6324278 bytes compressed\n",
            "[==================================================] 6324278 bytes downloaded\n",
            "Downloaded and uncompressed: diabetes-health-indicators-dataset\n",
            "Downloading d/julnazz/diabetes-health-indicators-dataset, 5555220 bytes compressed\n",
            "[==================================================] 5555220 bytes downloaded\n",
            "Downloaded and uncompressed: d/julnazz/diabetes-health-indicators-dataset\n",
            "Data source import complete.\n"
          ]
        }
      ],
      "execution_count": 1
    },
    {
      "cell_type": "markdown",
      "source": [
        "# Data Preparation and Initial Analysis\n",
        "\n",
        "Here we focus on preparing and analyzing health indicator data for diabetes from the years 2015 and 2021. The goal is to combine these datasets to form a comprehensive view of the data, which can later be used for machine learning modeling. The following steps are taken:\n",
        "\n",
        "1. Import Libraries\n",
        "2. Load the Data\n",
        "3. Combine the DataFrames\n",
        "4. Rename the column 'Diabetes_binary' for brevity"
      ],
      "metadata": {
        "id": "IfPcWO41MdeC"
      }
    },
    {
      "cell_type": "code",
      "source": [
        "# import Libraries\n",
        "import matplotlib.pyplot as plt\n",
        "import numpy as np\n",
        "import pandas as pd\n",
        "import seaborn as sns\n",
        "from IPython.display import display\n",
        "from matplotlib import pyplot\n",
        "from pandas.plotting import scatter_matrix\n",
        "from sklearn import linear_model, metrics, model_selection\n",
        "from sklearn.ensemble import RandomForestClassifier\n",
        "from sklearn.linear_model import LogisticRegression\n",
        "from sklearn.metrics import (\n",
        "    ConfusionMatrixDisplay,\n",
        "    accuracy_score,\n",
        "    classification_report,\n",
        "    confusion_matrix,\n",
        ")\n",
        "from sklearn.model_selection import KFold, cross_val_score, train_test_split\n",
        "from sklearn.preprocessing import MinMaxScaler\n",
        "\n",
        "# file names and urls\n",
        "filepath_2015 = \"/kaggle/input/diabetes-health-indicators-dataset\\\n",
        "/diabetes_binary_5050split_health_indicators_BRFSS2015.csv\"\n",
        "filepath_2021 = \"/kaggle/input/d/julnazz/diabetes-health-indicators-dataset\\\n",
        "/diabetes_binary_5050split_health_indicators_BRFSS2021.csv\"\n",
        "df1 = pd.read_csv(filepath_2015)\n",
        "df2 = pd.read_csv(filepath_2021)\n",
        "\n",
        "# Combine the two DataFrames\n",
        "combined_df = pd.concat([df1, df2], axis=0).reset_index(drop=True)\n",
        "\n",
        "# Rename the 'Diabetes_binary' column to 'Diabetes'\n",
        "combined_df.rename(columns={\"Diabetes_binary\": \"Diabetes\"}, inplace=True)\n",
        "\n",
        "# Display the first few rows of the combined dataframe\n",
        "# and its shape to verify the combination\n",
        "combined_df_info = combined_df.head(), combined_df.shape\n",
        "\n",
        "combined_df_info  # output"
      ],
      "metadata": {
        "jupyter": {
          "source_hidden": true
        },
        "execution": {
          "iopub.status.busy": "2024-03-16T22:11:15.17286Z",
          "iopub.execute_input": "2024-03-16T22:11:15.173329Z",
          "iopub.status.idle": "2024-03-16T22:11:17.316138Z",
          "shell.execute_reply.started": "2024-03-16T22:11:15.173294Z",
          "shell.execute_reply": "2024-03-16T22:11:17.315009Z"
        },
        "trusted": true,
        "id": "UYS3f_FhMdeD",
        "outputId": "6b6e2f9c-5509-457b-8ef4-a832942c6816",
        "colab": {
          "base_uri": "https://localhost:8080/"
        }
      },
      "execution_count": 2,
      "outputs": [
        {
          "output_type": "execute_result",
          "data": {
            "text/plain": [
              "(   Diabetes  HighBP  HighChol  CholCheck   BMI  Smoker  Stroke  \\\n",
              " 0       0.0     1.0       0.0        1.0  26.0     0.0     0.0   \n",
              " 1       0.0     1.0       1.0        1.0  26.0     1.0     1.0   \n",
              " 2       0.0     0.0       0.0        1.0  26.0     0.0     0.0   \n",
              " 3       0.0     1.0       1.0        1.0  28.0     1.0     0.0   \n",
              " 4       0.0     0.0       0.0        1.0  29.0     1.0     0.0   \n",
              " \n",
              "    HeartDiseaseorAttack  PhysActivity  Fruits  ...  AnyHealthcare  \\\n",
              " 0                   0.0           1.0     0.0  ...            1.0   \n",
              " 1                   0.0           0.0     1.0  ...            1.0   \n",
              " 2                   0.0           1.0     1.0  ...            1.0   \n",
              " 3                   0.0           1.0     1.0  ...            1.0   \n",
              " 4                   0.0           1.0     1.0  ...            1.0   \n",
              " \n",
              "    NoDocbcCost  GenHlth  MentHlth  PhysHlth  DiffWalk  Sex   Age  Education  \\\n",
              " 0          0.0      3.0       5.0      30.0       0.0  1.0   4.0        6.0   \n",
              " 1          0.0      3.0       0.0       0.0       0.0  1.0  12.0        6.0   \n",
              " 2          0.0      1.0       0.0      10.0       0.0  1.0  13.0        6.0   \n",
              " 3          0.0      3.0       0.0       3.0       0.0  1.0  11.0        6.0   \n",
              " 4          0.0      2.0       0.0       0.0       0.0  0.0   8.0        5.0   \n",
              " \n",
              "    Income  \n",
              " 0     8.0  \n",
              " 1     8.0  \n",
              " 2     8.0  \n",
              " 3     8.0  \n",
              " 4     8.0  \n",
              " \n",
              " [5 rows x 22 columns],\n",
              " (137828, 22))"
            ]
          },
          "metadata": {},
          "execution_count": 2
        }
      ]
    },
    {
      "cell_type": "markdown",
      "source": [
        "# Removing Features\n",
        "\n",
        "Here we remove features deemed irrelevant for modeling purposes. We specify a list of columns to be removed and then drop these columns from the combined DataFrame.\n",
        "\n",
        "We reverse the values of the \"General Health\" feature to make it more clear to the audience when graphed. This makes a value of 5 = \"excellent\" and value of 1 = \"poor\"."
      ],
      "metadata": {
        "id": "L14nD7M7MdeE"
      }
    },
    {
      "cell_type": "code",
      "source": [
        "# Remove irrelevant features from the combined dataset\n",
        "columns_to_remove = [\"CholCheck\", \"AnyHealthcare\", \"NoDocbcCost\", \"Education\", \"Income\"]\n",
        "reduced_df = combined_df.drop(columns=columns_to_remove)\n",
        "\n",
        "# Reverse the values of 'GenHlth'\n",
        "reduced_df[\"GenHlth\"] = 6 - reduced_df[\"GenHlth\"]\n",
        "\n",
        "# Display the first few rows of the reduced dataframe to verify the removal\n",
        "reduced_df.head()"
      ],
      "metadata": {
        "execution": {
          "iopub.status.busy": "2024-03-16T22:11:17.318818Z",
          "iopub.execute_input": "2024-03-16T22:11:17.319304Z",
          "iopub.status.idle": "2024-03-16T22:11:17.364463Z",
          "shell.execute_reply.started": "2024-03-16T22:11:17.319263Z",
          "shell.execute_reply": "2024-03-16T22:11:17.363378Z"
        },
        "trusted": true,
        "id": "bdbV6p2LMdeE",
        "outputId": "b7ce7c1c-77b5-4e69-d268-67a69adcc9af",
        "colab": {
          "base_uri": "https://localhost:8080/",
          "height": 226
        }
      },
      "execution_count": 3,
      "outputs": [
        {
          "output_type": "execute_result",
          "data": {
            "text/plain": [
              "   Diabetes  HighBP  HighChol   BMI  Smoker  Stroke  HeartDiseaseorAttack  \\\n",
              "0       0.0     1.0       0.0  26.0     0.0     0.0                   0.0   \n",
              "1       0.0     1.0       1.0  26.0     1.0     1.0                   0.0   \n",
              "2       0.0     0.0       0.0  26.0     0.0     0.0                   0.0   \n",
              "3       0.0     1.0       1.0  28.0     1.0     0.0                   0.0   \n",
              "4       0.0     0.0       0.0  29.0     1.0     0.0                   0.0   \n",
              "\n",
              "   PhysActivity  Fruits  Veggies  HvyAlcoholConsump  GenHlth  MentHlth  \\\n",
              "0           1.0     0.0      1.0                0.0      3.0       5.0   \n",
              "1           0.0     1.0      0.0                0.0      3.0       0.0   \n",
              "2           1.0     1.0      1.0                0.0      5.0       0.0   \n",
              "3           1.0     1.0      1.0                0.0      3.0       0.0   \n",
              "4           1.0     1.0      1.0                0.0      4.0       0.0   \n",
              "\n",
              "   PhysHlth  DiffWalk  Sex   Age  \n",
              "0      30.0       0.0  1.0   4.0  \n",
              "1       0.0       0.0  1.0  12.0  \n",
              "2      10.0       0.0  1.0  13.0  \n",
              "3       3.0       0.0  1.0  11.0  \n",
              "4       0.0       0.0  0.0   8.0  "
            ],
            "text/html": [
              "\n",
              "  <div id=\"df-2c1695c0-5bc4-4287-a303-52f20d12c071\" class=\"colab-df-container\">\n",
              "    <div>\n",
              "<style scoped>\n",
              "    .dataframe tbody tr th:only-of-type {\n",
              "        vertical-align: middle;\n",
              "    }\n",
              "\n",
              "    .dataframe tbody tr th {\n",
              "        vertical-align: top;\n",
              "    }\n",
              "\n",
              "    .dataframe thead th {\n",
              "        text-align: right;\n",
              "    }\n",
              "</style>\n",
              "<table border=\"1\" class=\"dataframe\">\n",
              "  <thead>\n",
              "    <tr style=\"text-align: right;\">\n",
              "      <th></th>\n",
              "      <th>Diabetes</th>\n",
              "      <th>HighBP</th>\n",
              "      <th>HighChol</th>\n",
              "      <th>BMI</th>\n",
              "      <th>Smoker</th>\n",
              "      <th>Stroke</th>\n",
              "      <th>HeartDiseaseorAttack</th>\n",
              "      <th>PhysActivity</th>\n",
              "      <th>Fruits</th>\n",
              "      <th>Veggies</th>\n",
              "      <th>HvyAlcoholConsump</th>\n",
              "      <th>GenHlth</th>\n",
              "      <th>MentHlth</th>\n",
              "      <th>PhysHlth</th>\n",
              "      <th>DiffWalk</th>\n",
              "      <th>Sex</th>\n",
              "      <th>Age</th>\n",
              "    </tr>\n",
              "  </thead>\n",
              "  <tbody>\n",
              "    <tr>\n",
              "      <th>0</th>\n",
              "      <td>0.0</td>\n",
              "      <td>1.0</td>\n",
              "      <td>0.0</td>\n",
              "      <td>26.0</td>\n",
              "      <td>0.0</td>\n",
              "      <td>0.0</td>\n",
              "      <td>0.0</td>\n",
              "      <td>1.0</td>\n",
              "      <td>0.0</td>\n",
              "      <td>1.0</td>\n",
              "      <td>0.0</td>\n",
              "      <td>3.0</td>\n",
              "      <td>5.0</td>\n",
              "      <td>30.0</td>\n",
              "      <td>0.0</td>\n",
              "      <td>1.0</td>\n",
              "      <td>4.0</td>\n",
              "    </tr>\n",
              "    <tr>\n",
              "      <th>1</th>\n",
              "      <td>0.0</td>\n",
              "      <td>1.0</td>\n",
              "      <td>1.0</td>\n",
              "      <td>26.0</td>\n",
              "      <td>1.0</td>\n",
              "      <td>1.0</td>\n",
              "      <td>0.0</td>\n",
              "      <td>0.0</td>\n",
              "      <td>1.0</td>\n",
              "      <td>0.0</td>\n",
              "      <td>0.0</td>\n",
              "      <td>3.0</td>\n",
              "      <td>0.0</td>\n",
              "      <td>0.0</td>\n",
              "      <td>0.0</td>\n",
              "      <td>1.0</td>\n",
              "      <td>12.0</td>\n",
              "    </tr>\n",
              "    <tr>\n",
              "      <th>2</th>\n",
              "      <td>0.0</td>\n",
              "      <td>0.0</td>\n",
              "      <td>0.0</td>\n",
              "      <td>26.0</td>\n",
              "      <td>0.0</td>\n",
              "      <td>0.0</td>\n",
              "      <td>0.0</td>\n",
              "      <td>1.0</td>\n",
              "      <td>1.0</td>\n",
              "      <td>1.0</td>\n",
              "      <td>0.0</td>\n",
              "      <td>5.0</td>\n",
              "      <td>0.0</td>\n",
              "      <td>10.0</td>\n",
              "      <td>0.0</td>\n",
              "      <td>1.0</td>\n",
              "      <td>13.0</td>\n",
              "    </tr>\n",
              "    <tr>\n",
              "      <th>3</th>\n",
              "      <td>0.0</td>\n",
              "      <td>1.0</td>\n",
              "      <td>1.0</td>\n",
              "      <td>28.0</td>\n",
              "      <td>1.0</td>\n",
              "      <td>0.0</td>\n",
              "      <td>0.0</td>\n",
              "      <td>1.0</td>\n",
              "      <td>1.0</td>\n",
              "      <td>1.0</td>\n",
              "      <td>0.0</td>\n",
              "      <td>3.0</td>\n",
              "      <td>0.0</td>\n",
              "      <td>3.0</td>\n",
              "      <td>0.0</td>\n",
              "      <td>1.0</td>\n",
              "      <td>11.0</td>\n",
              "    </tr>\n",
              "    <tr>\n",
              "      <th>4</th>\n",
              "      <td>0.0</td>\n",
              "      <td>0.0</td>\n",
              "      <td>0.0</td>\n",
              "      <td>29.0</td>\n",
              "      <td>1.0</td>\n",
              "      <td>0.0</td>\n",
              "      <td>0.0</td>\n",
              "      <td>1.0</td>\n",
              "      <td>1.0</td>\n",
              "      <td>1.0</td>\n",
              "      <td>0.0</td>\n",
              "      <td>4.0</td>\n",
              "      <td>0.0</td>\n",
              "      <td>0.0</td>\n",
              "      <td>0.0</td>\n",
              "      <td>0.0</td>\n",
              "      <td>8.0</td>\n",
              "    </tr>\n",
              "  </tbody>\n",
              "</table>\n",
              "</div>\n",
              "    <div class=\"colab-df-buttons\">\n",
              "\n",
              "  <div class=\"colab-df-container\">\n",
              "    <button class=\"colab-df-convert\" onclick=\"convertToInteractive('df-2c1695c0-5bc4-4287-a303-52f20d12c071')\"\n",
              "            title=\"Convert this dataframe to an interactive table.\"\n",
              "            style=\"display:none;\">\n",
              "\n",
              "  <svg xmlns=\"http://www.w3.org/2000/svg\" height=\"24px\" viewBox=\"0 -960 960 960\">\n",
              "    <path d=\"M120-120v-720h720v720H120Zm60-500h600v-160H180v160Zm220 220h160v-160H400v160Zm0 220h160v-160H400v160ZM180-400h160v-160H180v160Zm440 0h160v-160H620v160ZM180-180h160v-160H180v160Zm440 0h160v-160H620v160Z\"/>\n",
              "  </svg>\n",
              "    </button>\n",
              "\n",
              "  <style>\n",
              "    .colab-df-container {\n",
              "      display:flex;\n",
              "      gap: 12px;\n",
              "    }\n",
              "\n",
              "    .colab-df-convert {\n",
              "      background-color: #E8F0FE;\n",
              "      border: none;\n",
              "      border-radius: 50%;\n",
              "      cursor: pointer;\n",
              "      display: none;\n",
              "      fill: #1967D2;\n",
              "      height: 32px;\n",
              "      padding: 0 0 0 0;\n",
              "      width: 32px;\n",
              "    }\n",
              "\n",
              "    .colab-df-convert:hover {\n",
              "      background-color: #E2EBFA;\n",
              "      box-shadow: 0px 1px 2px rgba(60, 64, 67, 0.3), 0px 1px 3px 1px rgba(60, 64, 67, 0.15);\n",
              "      fill: #174EA6;\n",
              "    }\n",
              "\n",
              "    .colab-df-buttons div {\n",
              "      margin-bottom: 4px;\n",
              "    }\n",
              "\n",
              "    [theme=dark] .colab-df-convert {\n",
              "      background-color: #3B4455;\n",
              "      fill: #D2E3FC;\n",
              "    }\n",
              "\n",
              "    [theme=dark] .colab-df-convert:hover {\n",
              "      background-color: #434B5C;\n",
              "      box-shadow: 0px 1px 3px 1px rgba(0, 0, 0, 0.15);\n",
              "      filter: drop-shadow(0px 1px 2px rgba(0, 0, 0, 0.3));\n",
              "      fill: #FFFFFF;\n",
              "    }\n",
              "  </style>\n",
              "\n",
              "    <script>\n",
              "      const buttonEl =\n",
              "        document.querySelector('#df-2c1695c0-5bc4-4287-a303-52f20d12c071 button.colab-df-convert');\n",
              "      buttonEl.style.display =\n",
              "        google.colab.kernel.accessAllowed ? 'block' : 'none';\n",
              "\n",
              "      async function convertToInteractive(key) {\n",
              "        const element = document.querySelector('#df-2c1695c0-5bc4-4287-a303-52f20d12c071');\n",
              "        const dataTable =\n",
              "          await google.colab.kernel.invokeFunction('convertToInteractive',\n",
              "                                                    [key], {});\n",
              "        if (!dataTable) return;\n",
              "\n",
              "        const docLinkHtml = 'Like what you see? Visit the ' +\n",
              "          '<a target=\"_blank\" href=https://colab.research.google.com/notebooks/data_table.ipynb>data table notebook</a>'\n",
              "          + ' to learn more about interactive tables.';\n",
              "        element.innerHTML = '';\n",
              "        dataTable['output_type'] = 'display_data';\n",
              "        await google.colab.output.renderOutput(dataTable, element);\n",
              "        const docLink = document.createElement('div');\n",
              "        docLink.innerHTML = docLinkHtml;\n",
              "        element.appendChild(docLink);\n",
              "      }\n",
              "    </script>\n",
              "  </div>\n",
              "\n",
              "\n",
              "<div id=\"df-c33e0e83-a33f-41c3-a290-3d33bfd3e98b\">\n",
              "  <button class=\"colab-df-quickchart\" onclick=\"quickchart('df-c33e0e83-a33f-41c3-a290-3d33bfd3e98b')\"\n",
              "            title=\"Suggest charts\"\n",
              "            style=\"display:none;\">\n",
              "\n",
              "<svg xmlns=\"http://www.w3.org/2000/svg\" height=\"24px\"viewBox=\"0 0 24 24\"\n",
              "     width=\"24px\">\n",
              "    <g>\n",
              "        <path d=\"M19 3H5c-1.1 0-2 .9-2 2v14c0 1.1.9 2 2 2h14c1.1 0 2-.9 2-2V5c0-1.1-.9-2-2-2zM9 17H7v-7h2v7zm4 0h-2V7h2v10zm4 0h-2v-4h2v4z\"/>\n",
              "    </g>\n",
              "</svg>\n",
              "  </button>\n",
              "\n",
              "<style>\n",
              "  .colab-df-quickchart {\n",
              "      --bg-color: #E8F0FE;\n",
              "      --fill-color: #1967D2;\n",
              "      --hover-bg-color: #E2EBFA;\n",
              "      --hover-fill-color: #174EA6;\n",
              "      --disabled-fill-color: #AAA;\n",
              "      --disabled-bg-color: #DDD;\n",
              "  }\n",
              "\n",
              "  [theme=dark] .colab-df-quickchart {\n",
              "      --bg-color: #3B4455;\n",
              "      --fill-color: #D2E3FC;\n",
              "      --hover-bg-color: #434B5C;\n",
              "      --hover-fill-color: #FFFFFF;\n",
              "      --disabled-bg-color: #3B4455;\n",
              "      --disabled-fill-color: #666;\n",
              "  }\n",
              "\n",
              "  .colab-df-quickchart {\n",
              "    background-color: var(--bg-color);\n",
              "    border: none;\n",
              "    border-radius: 50%;\n",
              "    cursor: pointer;\n",
              "    display: none;\n",
              "    fill: var(--fill-color);\n",
              "    height: 32px;\n",
              "    padding: 0;\n",
              "    width: 32px;\n",
              "  }\n",
              "\n",
              "  .colab-df-quickchart:hover {\n",
              "    background-color: var(--hover-bg-color);\n",
              "    box-shadow: 0 1px 2px rgba(60, 64, 67, 0.3), 0 1px 3px 1px rgba(60, 64, 67, 0.15);\n",
              "    fill: var(--button-hover-fill-color);\n",
              "  }\n",
              "\n",
              "  .colab-df-quickchart-complete:disabled,\n",
              "  .colab-df-quickchart-complete:disabled:hover {\n",
              "    background-color: var(--disabled-bg-color);\n",
              "    fill: var(--disabled-fill-color);\n",
              "    box-shadow: none;\n",
              "  }\n",
              "\n",
              "  .colab-df-spinner {\n",
              "    border: 2px solid var(--fill-color);\n",
              "    border-color: transparent;\n",
              "    border-bottom-color: var(--fill-color);\n",
              "    animation:\n",
              "      spin 1s steps(1) infinite;\n",
              "  }\n",
              "\n",
              "  @keyframes spin {\n",
              "    0% {\n",
              "      border-color: transparent;\n",
              "      border-bottom-color: var(--fill-color);\n",
              "      border-left-color: var(--fill-color);\n",
              "    }\n",
              "    20% {\n",
              "      border-color: transparent;\n",
              "      border-left-color: var(--fill-color);\n",
              "      border-top-color: var(--fill-color);\n",
              "    }\n",
              "    30% {\n",
              "      border-color: transparent;\n",
              "      border-left-color: var(--fill-color);\n",
              "      border-top-color: var(--fill-color);\n",
              "      border-right-color: var(--fill-color);\n",
              "    }\n",
              "    40% {\n",
              "      border-color: transparent;\n",
              "      border-right-color: var(--fill-color);\n",
              "      border-top-color: var(--fill-color);\n",
              "    }\n",
              "    60% {\n",
              "      border-color: transparent;\n",
              "      border-right-color: var(--fill-color);\n",
              "    }\n",
              "    80% {\n",
              "      border-color: transparent;\n",
              "      border-right-color: var(--fill-color);\n",
              "      border-bottom-color: var(--fill-color);\n",
              "    }\n",
              "    90% {\n",
              "      border-color: transparent;\n",
              "      border-bottom-color: var(--fill-color);\n",
              "    }\n",
              "  }\n",
              "</style>\n",
              "\n",
              "  <script>\n",
              "    async function quickchart(key) {\n",
              "      const quickchartButtonEl =\n",
              "        document.querySelector('#' + key + ' button');\n",
              "      quickchartButtonEl.disabled = true;  // To prevent multiple clicks.\n",
              "      quickchartButtonEl.classList.add('colab-df-spinner');\n",
              "      try {\n",
              "        const charts = await google.colab.kernel.invokeFunction(\n",
              "            'suggestCharts', [key], {});\n",
              "      } catch (error) {\n",
              "        console.error('Error during call to suggestCharts:', error);\n",
              "      }\n",
              "      quickchartButtonEl.classList.remove('colab-df-spinner');\n",
              "      quickchartButtonEl.classList.add('colab-df-quickchart-complete');\n",
              "    }\n",
              "    (() => {\n",
              "      let quickchartButtonEl =\n",
              "        document.querySelector('#df-c33e0e83-a33f-41c3-a290-3d33bfd3e98b button');\n",
              "      quickchartButtonEl.style.display =\n",
              "        google.colab.kernel.accessAllowed ? 'block' : 'none';\n",
              "    })();\n",
              "  </script>\n",
              "</div>\n",
              "    </div>\n",
              "  </div>\n"
            ],
            "application/vnd.google.colaboratory.intrinsic+json": {
              "type": "dataframe",
              "variable_name": "reduced_df"
            }
          },
          "metadata": {},
          "execution_count": 3
        }
      ]
    },
    {
      "cell_type": "markdown",
      "source": [
        "# Check for Missing Values\n",
        "\n",
        "Here we check for missing values in the combined dataset. Note there are *NO* missing values found."
      ],
      "metadata": {
        "id": "ofFxwF3WMdeE"
      }
    },
    {
      "cell_type": "code",
      "source": [
        "# Check for missing values in the reduced dataset\n",
        "missing_values = reduced_df.isnull().sum()\n",
        "\n",
        "missing_values  ## no missing values found"
      ],
      "metadata": {
        "execution": {
          "iopub.status.busy": "2024-03-16T22:11:17.365698Z",
          "iopub.execute_input": "2024-03-16T22:11:17.365983Z",
          "iopub.status.idle": "2024-03-16T22:11:17.380326Z",
          "shell.execute_reply.started": "2024-03-16T22:11:17.365959Z",
          "shell.execute_reply": "2024-03-16T22:11:17.379321Z"
        },
        "trusted": true,
        "id": "A-c43dsGMdeF",
        "outputId": "a686e93e-67c2-48d1-f0b0-501e972f0c8c",
        "colab": {
          "base_uri": "https://localhost:8080/"
        }
      },
      "execution_count": 4,
      "outputs": [
        {
          "output_type": "execute_result",
          "data": {
            "text/plain": [
              "Diabetes                0\n",
              "HighBP                  0\n",
              "HighChol                0\n",
              "BMI                     0\n",
              "Smoker                  0\n",
              "Stroke                  0\n",
              "HeartDiseaseorAttack    0\n",
              "PhysActivity            0\n",
              "Fruits                  0\n",
              "Veggies                 0\n",
              "HvyAlcoholConsump       0\n",
              "GenHlth                 0\n",
              "MentHlth                0\n",
              "PhysHlth                0\n",
              "DiffWalk                0\n",
              "Sex                     0\n",
              "Age                     0\n",
              "dtype: int64"
            ]
          },
          "metadata": {},
          "execution_count": 4
        }
      ]
    },
    {
      "cell_type": "markdown",
      "source": [
        "# Data Type Optimization Analysis\n",
        "\n",
        "Here we perform a preliminary analysis aimed at optimizing data storage and processing efficiency by examining the range of values for selected features within the reduced dataset. Here we see that all numerical values are well within the range of an 8-bit integer (this dataset has no numbers with decimal values).\n",
        "\n",
        "We also calculate the memory used before we adjust the data types-- this is our baseline for memory usage."
      ],
      "metadata": {
        "id": "mvDnkUw7MdeG"
      }
    },
    {
      "cell_type": "code",
      "source": [
        "# Check range of values of specified features to determine suitable data types\n",
        "features_to_optimize = [\"BMI\", \"GenHlth\", \"MentHlth\", \"PhysHlth\", \"Age\"]\n",
        "data_types_optimization = (\n",
        "    reduced_df[features_to_optimize].describe().loc[[\"min\", \"max\"]]\n",
        ")\n",
        "\n",
        "# Memory used before reducing data types\n",
        "memory_before = reduced_df.memory_usage(index=True).sum()\n",
        "\n",
        "data_types_optimization"
      ],
      "metadata": {
        "execution": {
          "iopub.status.busy": "2024-03-16T22:11:17.383826Z",
          "iopub.execute_input": "2024-03-16T22:11:17.38423Z",
          "iopub.status.idle": "2024-03-16T22:11:17.448051Z",
          "shell.execute_reply.started": "2024-03-16T22:11:17.384201Z",
          "shell.execute_reply": "2024-03-16T22:11:17.447249Z"
        },
        "trusted": true,
        "id": "4e-9YBffMdeH",
        "outputId": "16abf1d1-9813-4145-9dfc-331fd38fa3f8",
        "colab": {
          "base_uri": "https://localhost:8080/",
          "height": 112
        }
      },
      "execution_count": 5,
      "outputs": [
        {
          "output_type": "execute_result",
          "data": {
            "text/plain": [
              "      BMI  GenHlth  MentHlth  PhysHlth   Age\n",
              "min  12.0      1.0       0.0       0.0   1.0\n",
              "max  99.0      5.0      30.0      30.0  13.0"
            ],
            "text/html": [
              "\n",
              "  <div id=\"df-6bcfd9a1-c62e-4485-928e-ea967132f3cd\" class=\"colab-df-container\">\n",
              "    <div>\n",
              "<style scoped>\n",
              "    .dataframe tbody tr th:only-of-type {\n",
              "        vertical-align: middle;\n",
              "    }\n",
              "\n",
              "    .dataframe tbody tr th {\n",
              "        vertical-align: top;\n",
              "    }\n",
              "\n",
              "    .dataframe thead th {\n",
              "        text-align: right;\n",
              "    }\n",
              "</style>\n",
              "<table border=\"1\" class=\"dataframe\">\n",
              "  <thead>\n",
              "    <tr style=\"text-align: right;\">\n",
              "      <th></th>\n",
              "      <th>BMI</th>\n",
              "      <th>GenHlth</th>\n",
              "      <th>MentHlth</th>\n",
              "      <th>PhysHlth</th>\n",
              "      <th>Age</th>\n",
              "    </tr>\n",
              "  </thead>\n",
              "  <tbody>\n",
              "    <tr>\n",
              "      <th>min</th>\n",
              "      <td>12.0</td>\n",
              "      <td>1.0</td>\n",
              "      <td>0.0</td>\n",
              "      <td>0.0</td>\n",
              "      <td>1.0</td>\n",
              "    </tr>\n",
              "    <tr>\n",
              "      <th>max</th>\n",
              "      <td>99.0</td>\n",
              "      <td>5.0</td>\n",
              "      <td>30.0</td>\n",
              "      <td>30.0</td>\n",
              "      <td>13.0</td>\n",
              "    </tr>\n",
              "  </tbody>\n",
              "</table>\n",
              "</div>\n",
              "    <div class=\"colab-df-buttons\">\n",
              "\n",
              "  <div class=\"colab-df-container\">\n",
              "    <button class=\"colab-df-convert\" onclick=\"convertToInteractive('df-6bcfd9a1-c62e-4485-928e-ea967132f3cd')\"\n",
              "            title=\"Convert this dataframe to an interactive table.\"\n",
              "            style=\"display:none;\">\n",
              "\n",
              "  <svg xmlns=\"http://www.w3.org/2000/svg\" height=\"24px\" viewBox=\"0 -960 960 960\">\n",
              "    <path d=\"M120-120v-720h720v720H120Zm60-500h600v-160H180v160Zm220 220h160v-160H400v160Zm0 220h160v-160H400v160ZM180-400h160v-160H180v160Zm440 0h160v-160H620v160ZM180-180h160v-160H180v160Zm440 0h160v-160H620v160Z\"/>\n",
              "  </svg>\n",
              "    </button>\n",
              "\n",
              "  <style>\n",
              "    .colab-df-container {\n",
              "      display:flex;\n",
              "      gap: 12px;\n",
              "    }\n",
              "\n",
              "    .colab-df-convert {\n",
              "      background-color: #E8F0FE;\n",
              "      border: none;\n",
              "      border-radius: 50%;\n",
              "      cursor: pointer;\n",
              "      display: none;\n",
              "      fill: #1967D2;\n",
              "      height: 32px;\n",
              "      padding: 0 0 0 0;\n",
              "      width: 32px;\n",
              "    }\n",
              "\n",
              "    .colab-df-convert:hover {\n",
              "      background-color: #E2EBFA;\n",
              "      box-shadow: 0px 1px 2px rgba(60, 64, 67, 0.3), 0px 1px 3px 1px rgba(60, 64, 67, 0.15);\n",
              "      fill: #174EA6;\n",
              "    }\n",
              "\n",
              "    .colab-df-buttons div {\n",
              "      margin-bottom: 4px;\n",
              "    }\n",
              "\n",
              "    [theme=dark] .colab-df-convert {\n",
              "      background-color: #3B4455;\n",
              "      fill: #D2E3FC;\n",
              "    }\n",
              "\n",
              "    [theme=dark] .colab-df-convert:hover {\n",
              "      background-color: #434B5C;\n",
              "      box-shadow: 0px 1px 3px 1px rgba(0, 0, 0, 0.15);\n",
              "      filter: drop-shadow(0px 1px 2px rgba(0, 0, 0, 0.3));\n",
              "      fill: #FFFFFF;\n",
              "    }\n",
              "  </style>\n",
              "\n",
              "    <script>\n",
              "      const buttonEl =\n",
              "        document.querySelector('#df-6bcfd9a1-c62e-4485-928e-ea967132f3cd button.colab-df-convert');\n",
              "      buttonEl.style.display =\n",
              "        google.colab.kernel.accessAllowed ? 'block' : 'none';\n",
              "\n",
              "      async function convertToInteractive(key) {\n",
              "        const element = document.querySelector('#df-6bcfd9a1-c62e-4485-928e-ea967132f3cd');\n",
              "        const dataTable =\n",
              "          await google.colab.kernel.invokeFunction('convertToInteractive',\n",
              "                                                    [key], {});\n",
              "        if (!dataTable) return;\n",
              "\n",
              "        const docLinkHtml = 'Like what you see? Visit the ' +\n",
              "          '<a target=\"_blank\" href=https://colab.research.google.com/notebooks/data_table.ipynb>data table notebook</a>'\n",
              "          + ' to learn more about interactive tables.';\n",
              "        element.innerHTML = '';\n",
              "        dataTable['output_type'] = 'display_data';\n",
              "        await google.colab.output.renderOutput(dataTable, element);\n",
              "        const docLink = document.createElement('div');\n",
              "        docLink.innerHTML = docLinkHtml;\n",
              "        element.appendChild(docLink);\n",
              "      }\n",
              "    </script>\n",
              "  </div>\n",
              "\n",
              "\n",
              "<div id=\"df-92381213-043a-45fa-acf4-b50ff1ff8187\">\n",
              "  <button class=\"colab-df-quickchart\" onclick=\"quickchart('df-92381213-043a-45fa-acf4-b50ff1ff8187')\"\n",
              "            title=\"Suggest charts\"\n",
              "            style=\"display:none;\">\n",
              "\n",
              "<svg xmlns=\"http://www.w3.org/2000/svg\" height=\"24px\"viewBox=\"0 0 24 24\"\n",
              "     width=\"24px\">\n",
              "    <g>\n",
              "        <path d=\"M19 3H5c-1.1 0-2 .9-2 2v14c0 1.1.9 2 2 2h14c1.1 0 2-.9 2-2V5c0-1.1-.9-2-2-2zM9 17H7v-7h2v7zm4 0h-2V7h2v10zm4 0h-2v-4h2v4z\"/>\n",
              "    </g>\n",
              "</svg>\n",
              "  </button>\n",
              "\n",
              "<style>\n",
              "  .colab-df-quickchart {\n",
              "      --bg-color: #E8F0FE;\n",
              "      --fill-color: #1967D2;\n",
              "      --hover-bg-color: #E2EBFA;\n",
              "      --hover-fill-color: #174EA6;\n",
              "      --disabled-fill-color: #AAA;\n",
              "      --disabled-bg-color: #DDD;\n",
              "  }\n",
              "\n",
              "  [theme=dark] .colab-df-quickchart {\n",
              "      --bg-color: #3B4455;\n",
              "      --fill-color: #D2E3FC;\n",
              "      --hover-bg-color: #434B5C;\n",
              "      --hover-fill-color: #FFFFFF;\n",
              "      --disabled-bg-color: #3B4455;\n",
              "      --disabled-fill-color: #666;\n",
              "  }\n",
              "\n",
              "  .colab-df-quickchart {\n",
              "    background-color: var(--bg-color);\n",
              "    border: none;\n",
              "    border-radius: 50%;\n",
              "    cursor: pointer;\n",
              "    display: none;\n",
              "    fill: var(--fill-color);\n",
              "    height: 32px;\n",
              "    padding: 0;\n",
              "    width: 32px;\n",
              "  }\n",
              "\n",
              "  .colab-df-quickchart:hover {\n",
              "    background-color: var(--hover-bg-color);\n",
              "    box-shadow: 0 1px 2px rgba(60, 64, 67, 0.3), 0 1px 3px 1px rgba(60, 64, 67, 0.15);\n",
              "    fill: var(--button-hover-fill-color);\n",
              "  }\n",
              "\n",
              "  .colab-df-quickchart-complete:disabled,\n",
              "  .colab-df-quickchart-complete:disabled:hover {\n",
              "    background-color: var(--disabled-bg-color);\n",
              "    fill: var(--disabled-fill-color);\n",
              "    box-shadow: none;\n",
              "  }\n",
              "\n",
              "  .colab-df-spinner {\n",
              "    border: 2px solid var(--fill-color);\n",
              "    border-color: transparent;\n",
              "    border-bottom-color: var(--fill-color);\n",
              "    animation:\n",
              "      spin 1s steps(1) infinite;\n",
              "  }\n",
              "\n",
              "  @keyframes spin {\n",
              "    0% {\n",
              "      border-color: transparent;\n",
              "      border-bottom-color: var(--fill-color);\n",
              "      border-left-color: var(--fill-color);\n",
              "    }\n",
              "    20% {\n",
              "      border-color: transparent;\n",
              "      border-left-color: var(--fill-color);\n",
              "      border-top-color: var(--fill-color);\n",
              "    }\n",
              "    30% {\n",
              "      border-color: transparent;\n",
              "      border-left-color: var(--fill-color);\n",
              "      border-top-color: var(--fill-color);\n",
              "      border-right-color: var(--fill-color);\n",
              "    }\n",
              "    40% {\n",
              "      border-color: transparent;\n",
              "      border-right-color: var(--fill-color);\n",
              "      border-top-color: var(--fill-color);\n",
              "    }\n",
              "    60% {\n",
              "      border-color: transparent;\n",
              "      border-right-color: var(--fill-color);\n",
              "    }\n",
              "    80% {\n",
              "      border-color: transparent;\n",
              "      border-right-color: var(--fill-color);\n",
              "      border-bottom-color: var(--fill-color);\n",
              "    }\n",
              "    90% {\n",
              "      border-color: transparent;\n",
              "      border-bottom-color: var(--fill-color);\n",
              "    }\n",
              "  }\n",
              "</style>\n",
              "\n",
              "  <script>\n",
              "    async function quickchart(key) {\n",
              "      const quickchartButtonEl =\n",
              "        document.querySelector('#' + key + ' button');\n",
              "      quickchartButtonEl.disabled = true;  // To prevent multiple clicks.\n",
              "      quickchartButtonEl.classList.add('colab-df-spinner');\n",
              "      try {\n",
              "        const charts = await google.colab.kernel.invokeFunction(\n",
              "            'suggestCharts', [key], {});\n",
              "      } catch (error) {\n",
              "        console.error('Error during call to suggestCharts:', error);\n",
              "      }\n",
              "      quickchartButtonEl.classList.remove('colab-df-spinner');\n",
              "      quickchartButtonEl.classList.add('colab-df-quickchart-complete');\n",
              "    }\n",
              "    (() => {\n",
              "      let quickchartButtonEl =\n",
              "        document.querySelector('#df-92381213-043a-45fa-acf4-b50ff1ff8187 button');\n",
              "      quickchartButtonEl.style.display =\n",
              "        google.colab.kernel.accessAllowed ? 'block' : 'none';\n",
              "    })();\n",
              "  </script>\n",
              "</div>\n",
              "    </div>\n",
              "  </div>\n"
            ],
            "application/vnd.google.colaboratory.intrinsic+json": {
              "type": "dataframe",
              "variable_name": "data_types_optimization",
              "summary": "{\n  \"name\": \"data_types_optimization\",\n  \"rows\": 2,\n  \"fields\": [\n    {\n      \"column\": \"BMI\",\n      \"properties\": {\n        \"dtype\": \"number\",\n        \"std\": 61.518289963229634,\n        \"min\": 12.0,\n        \"max\": 99.0,\n        \"num_unique_values\": 2,\n        \"samples\": [\n          99.0,\n          12.0\n        ],\n        \"semantic_type\": \"\",\n        \"description\": \"\"\n      }\n    },\n    {\n      \"column\": \"GenHlth\",\n      \"properties\": {\n        \"dtype\": \"number\",\n        \"std\": 2.8284271247461903,\n        \"min\": 1.0,\n        \"max\": 5.0,\n        \"num_unique_values\": 2,\n        \"samples\": [\n          5.0,\n          1.0\n        ],\n        \"semantic_type\": \"\",\n        \"description\": \"\"\n      }\n    },\n    {\n      \"column\": \"MentHlth\",\n      \"properties\": {\n        \"dtype\": \"number\",\n        \"std\": 21.213203435596427,\n        \"min\": 0.0,\n        \"max\": 30.0,\n        \"num_unique_values\": 2,\n        \"samples\": [\n          30.0,\n          0.0\n        ],\n        \"semantic_type\": \"\",\n        \"description\": \"\"\n      }\n    },\n    {\n      \"column\": \"PhysHlth\",\n      \"properties\": {\n        \"dtype\": \"number\",\n        \"std\": 21.213203435596427,\n        \"min\": 0.0,\n        \"max\": 30.0,\n        \"num_unique_values\": 2,\n        \"samples\": [\n          30.0,\n          0.0\n        ],\n        \"semantic_type\": \"\",\n        \"description\": \"\"\n      }\n    },\n    {\n      \"column\": \"Age\",\n      \"properties\": {\n        \"dtype\": \"number\",\n        \"std\": 8.48528137423857,\n        \"min\": 1.0,\n        \"max\": 13.0,\n        \"num_unique_values\": 2,\n        \"samples\": [\n          13.0,\n          1.0\n        ],\n        \"semantic_type\": \"\",\n        \"description\": \"\"\n      }\n    }\n  ]\n}"
            }
          },
          "metadata": {},
          "execution_count": 5
        }
      ]
    },
    {
      "cell_type": "markdown",
      "source": [
        "# Data Type Conversion for Efficiency\n",
        "\n",
        "We enhance the dataset's memory efficiency by converting specified binary columns to boolean data types. We print the memory usage before and after the operation to demonstrate the effectiveness of this optimization in reducing the dataset's memory consumption."
      ],
      "metadata": {
        "id": "wEKt73JqMdeI"
      }
    },
    {
      "cell_type": "code",
      "source": [
        "# scale data types down to reduce memory footprint\n",
        "reduced_df[\"BMI\"] = reduced_df[\"BMI\"].astype(\"float32\")\n",
        "reduced_df[\"GenHlth\"] = reduced_df[\"GenHlth\"].astype(\"int8\")\n",
        "reduced_df[\"MentHlth\"] = reduced_df[\"MentHlth\"].astype(\"int8\")\n",
        "reduced_df[\"PhysHlth\"] = reduced_df[\"PhysHlth\"].astype(\"int8\")\n",
        "reduced_df[\"Age\"] = reduced_df[\"Age\"].astype(\"int8\")\n",
        "\n",
        "# convert 1/0 binary columns to boolean values\n",
        "binary_columns = [\n",
        "    \"Diabetes\",\n",
        "    \"HighBP\",\n",
        "    \"HighChol\",\n",
        "    \"Smoker\",\n",
        "    \"Stroke\",\n",
        "    \"HeartDiseaseorAttack\",\n",
        "    \"PhysActivity\",\n",
        "    \"Fruits\",\n",
        "    \"Veggies\",\n",
        "    \"HvyAlcoholConsump\",\n",
        "    \"DiffWalk\",\n",
        "    \"Sex\",\n",
        "]\n",
        "for column in binary_columns:\n",
        "    reduced_df[column] = reduced_df[column].astype(\"bool\")\n",
        "\n",
        "# memory size after data type reduction\n",
        "memory_after = reduced_df.memory_usage(index=True).sum()\n",
        "\n",
        "print(\"Dataframe memory used before:\", memory_before)\n",
        "print(\"Dataframe memory used after:  \", memory_after)"
      ],
      "metadata": {
        "jupyter": {
          "source_hidden": true
        },
        "execution": {
          "iopub.status.busy": "2024-03-16T22:11:17.450513Z",
          "iopub.execute_input": "2024-03-16T22:11:17.451158Z",
          "iopub.status.idle": "2024-03-16T22:11:17.474581Z",
          "shell.execute_reply.started": "2024-03-16T22:11:17.451128Z",
          "shell.execute_reply": "2024-03-16T22:11:17.473388Z"
        },
        "trusted": true,
        "id": "GHcsaBPyMdeI",
        "outputId": "0e26cc49-7abd-4344-fc12-aaf2c1c1d0f3",
        "colab": {
          "base_uri": "https://localhost:8080/"
        }
      },
      "execution_count": 6,
      "outputs": [
        {
          "output_type": "stream",
          "name": "stdout",
          "text": [
            "Dataframe memory used before: 18744736\n",
            "Dataframe memory used after:   2756688\n"
          ]
        }
      ]
    },
    {
      "cell_type": "markdown",
      "source": [
        "# Logistic Regression Model for Diabetes Prediction\n",
        "\n",
        "Here we prepare data for machine learning, specifically using a logistic regression model to predict diabetes. First, numerical columns are identified and scaled using MinMaxScaler to ensure all features contribute equally to the model without bias from varying scales. A logistic regression model is then initialized with specific parameters. The dataset is split into features (X_log) and the target variable (y_log). The data is further divided into training and test sets to evaluate the model's performance on unseen data.\n",
        "\n",
        "After training the logistic regression model, predictions are made on the test set. The model's effectiveness is assessed using accuracy, confusion matrix, and classification report, providing a comprehensive overview of its predictive capabilities in distinguishing between diabetic and non-diabetic individuals."
      ],
      "metadata": {
        "id": "Cb56yC3JMdeI"
      }
    },
    {
      "cell_type": "code",
      "source": [
        "# copy Dataframe for Logistic model\n",
        "log_df = reduced_df.copy(deep=True)\n",
        "\n",
        "# Selecting numerical columns (excluding binary/boolean columns)\n",
        "numerical_columns = [\"BMI\", \"GenHlth\", \"MentHlth\", \"PhysHlth\", \"Age\"]\n",
        "\n",
        "# Initialize the MinMaxScaler\n",
        "scaler = MinMaxScaler()\n",
        "\n",
        "# Fit and transform the numerical features\n",
        "log_df[numerical_columns] = scaler.fit_transform(log_df[numerical_columns])\n",
        "\n",
        "mylog_model = linear_model.LogisticRegression(solver=\"saga\", max_iter=1000)\n",
        "\n",
        "# 'X' is the feature set and 'y' is the target variable\n",
        "X_log = log_df.drop(\"Diabetes\", axis=1)\n",
        "y_log = log_df[\"Diabetes\"].astype(\"bool\")  # Ensuring the target is boolean\n",
        "\n",
        "# Splitting the dataset into the Training set and Test set\n",
        "X_log_train, X_log_test, y_log_train, y_log_test = model_selection.train_test_split(\n",
        "    X_log, y_log, test_size=0.25, random_state=42\n",
        ")\n",
        "\n",
        "# Train the model and output prediction of test data\n",
        "mylog_model.fit(X_log_train, y_log_train)\n",
        "y_pred_log = mylog_model.predict(X_log_test)\n",
        "\n",
        "# Evaluate the model\n",
        "accuracy_log = accuracy_score(y_log_test, y_pred_log)\n",
        "conf_matrix_log = confusion_matrix(y_log_test, y_pred_log)\n",
        "class_report_log = classification_report(y_log_test, y_pred_log)\n",
        "\n",
        "print(\"\\nLogistic Regression (single) prediction results:\", \"\\n\")\n",
        "print(f\"Accuracy: {round(accuracy_log*100,2)} %\", \"\\n\")\n",
        "print(\"Confusion Matrix:\")\n",
        "print(conf_matrix_log, \"\\n\")\n",
        "print(\"Classification Report:\")\n",
        "print(class_report_log)"
      ],
      "metadata": {
        "tags": [],
        "execution": {
          "iopub.status.busy": "2024-03-16T22:11:17.47591Z",
          "iopub.execute_input": "2024-03-16T22:11:17.47622Z",
          "iopub.status.idle": "2024-03-16T22:11:18.508659Z",
          "shell.execute_reply.started": "2024-03-16T22:11:17.476194Z",
          "shell.execute_reply": "2024-03-16T22:11:18.507569Z"
        },
        "trusted": true,
        "id": "JxxgKGq1MdeJ",
        "outputId": "470f38fe-3b0b-4ff1-a504-9ad8703e274f",
        "colab": {
          "base_uri": "https://localhost:8080/"
        }
      },
      "execution_count": 7,
      "outputs": [
        {
          "output_type": "stream",
          "name": "stdout",
          "text": [
            "\n",
            "Logistic Regression (single) prediction results: \n",
            "\n",
            "Accuracy: 74.59 % \n",
            "\n",
            "Confusion Matrix:\n",
            "[[12557  4656]\n",
            " [ 4101 13143]] \n",
            "\n",
            "Classification Report:\n",
            "              precision    recall  f1-score   support\n",
            "\n",
            "       False       0.75      0.73      0.74     17213\n",
            "        True       0.74      0.76      0.75     17244\n",
            "\n",
            "    accuracy                           0.75     34457\n",
            "   macro avg       0.75      0.75      0.75     34457\n",
            "weighted avg       0.75      0.75      0.75     34457\n",
            "\n"
          ]
        }
      ]
    },
    {
      "cell_type": "markdown",
      "source": [
        "# Exporting the Model\n",
        "\n",
        "To save the trained model, we can use the joblib library. Here we show how to save and load the model."
      ],
      "metadata": {
        "id": "MXe4PtXVMdeJ"
      }
    },
    {
      "cell_type": "code",
      "source": [
        "import joblib\n",
        "\n",
        "# Save the model to a file\n",
        "joblib.dump(mylog_model, 'diabetes-classifier-log_model.pkl')\n",
        "\n",
        "# Later, load the model from the file with the following:\n",
        "# mylog_model = joblib.load('my_model_filename.pkl')"
      ],
      "metadata": {
        "execution": {
          "iopub.status.busy": "2024-03-16T22:11:18.510141Z",
          "iopub.execute_input": "2024-03-16T22:11:18.511293Z",
          "iopub.status.idle": "2024-03-16T22:11:18.520971Z",
          "shell.execute_reply.started": "2024-03-16T22:11:18.51125Z",
          "shell.execute_reply": "2024-03-16T22:11:18.519579Z"
        },
        "trusted": true,
        "id": "sHEWyYjbMdeK",
        "outputId": "14af5d34-d460-44d9-d2c0-16b5c23ad8ea",
        "colab": {
          "base_uri": "https://localhost:8080/"
        }
      },
      "execution_count": 8,
      "outputs": [
        {
          "output_type": "execute_result",
          "data": {
            "text/plain": [
              "['diabetes-classifier-log_model.pkl']"
            ]
          },
          "metadata": {},
          "execution_count": 8
        }
      ]
    },
    {
      "cell_type": "markdown",
      "source": [
        "# Patient Outcome Prediction\n",
        "\n",
        "This here is the objective of this project: to predict whether or not a patient is at risk of diabetes. The user enters the various health indicators, clicks the button and gets a prediction printed below.\n",
        "\n",
        "### Age Category-number to Year-range\n",
        "\n",
        "|*Category*|1|2|3|4|5|6|7|8|9|10|11|12|13|\n",
        "|--|--|--|--|--|--|--|--|--|--|--|--|--|--|\n",
        "|***Age range***|18-24|25-29|30-34|35-39|40-44|45-49|50-54|55-59|60-64|65-69|70-74|75-79|80+|"
      ],
      "metadata": {
        "id": "ymSp9SDiMdeK"
      }
    },
    {
      "cell_type": "code",
      "source": [
        "# USER INTERFACE: form for input for patient prediction\n",
        "import ipywidgets as widgets\n",
        "\n",
        "# 'features_dict' is a dictionary mapping feature to description\n",
        "features_dict = {\n",
        "    \"Sex\": \"Sex:\",\n",
        "    \"Age\": \"Age category (1 = 18-24, 13 = 80 or older; see table):\",\n",
        "    \"BMI\": \"Body Mass Index:\",\n",
        "    \"HighBP\": \"High Blood Pressure\",\n",
        "    \"HighChol\": \"High Cholesterol\",\n",
        "    \"Smoker\": \"Have you smoked at least 100 cigarettes in your life?\",\n",
        "    \"HvyAlcoholConsump\": \"Heavy drinkers (drinks <14 for men, <7 for women per week\",\n",
        "    \"Stroke\": \"(Ever told) you had a Stroke?\",\n",
        "    \"HeartDiseaseorAttack\": \"Heart Disease or Attack (CHD or MI)\",\n",
        "    \"GenHlth\": \"General Health scale :\",\n",
        "    \"MentHlth\": \"How many past days was your Mental Health not good?\",\n",
        "    \"PhysHlth\": \"How many past days was your Physical Health not good?\",\n",
        "    \"DiffWalk\": \"Do you have Difficulty Walking or climbing stairs?\",\n",
        "    \"PhysActivity\": \"Physical Activity in past 30 days, not incl job\",\n",
        "    \"Fruits\": \"Eat 1 Fruit or more per day\",\n",
        "    \"Veggies\": \"Eat Veggies 1 or more per day\",\n",
        "}\n",
        "widgets_dict = {}\n",
        "\n",
        "# Create widgets for each feature\n",
        "for item in features_dict.keys():\n",
        "    if item in [\n",
        "        \"HighBP\",\n",
        "        \"HighChol\",\n",
        "        \"Smoker\",\n",
        "        \"Stroke\",\n",
        "        \"HeartDiseaseorAttack\",\n",
        "        \"PhysActivity\",\n",
        "        \"Fruits\",\n",
        "        \"Veggies\",\n",
        "        \"HvyAlcoholConsump\",\n",
        "        \"DiffWalk\",\n",
        "    ]:\n",
        "        # Binary features: create a dropdown with options 'Yes' and 'No'\n",
        "        widgets_dict[item + \"_label\"] = widgets.Label(\n",
        "            features_dict.get(item), layout={\"width\": \"max-content\"}\n",
        "        )\n",
        "        widgets_dict[item] = widgets.RadioButtons(\n",
        "            options={\"No\": 0, \"Yes\": 1},\n",
        "            value=0,\n",
        "        )\n",
        "    if item in [\"Sex\"]:\n",
        "        # Create a dropdown with options 'Male' and 'Female'\n",
        "        widgets_dict[item + \"_label\"] = widgets.Label(\n",
        "            features_dict.get(item), layout={\"width\": \"max-content\"}\n",
        "        )\n",
        "        widgets_dict[item] = widgets.Dropdown(\n",
        "            options=[(\"Female\", 0), (\"Male\", 1)],\n",
        "            value=0,\n",
        "        )\n",
        "    # Numerical features: create float sliders\n",
        "    if item in [\"BMI\"]:\n",
        "        widgets_dict[item + \"_label\"] = widgets.Label(\n",
        "            features_dict.get(item), layout={\"width\": \"max-content\"}\n",
        "        )\n",
        "        widgets_dict[item] = widgets.FloatSlider(\n",
        "            value=20.0,\n",
        "            min=10,\n",
        "            max=50.0,\n",
        "            step=0.1,\n",
        "        )\n",
        "    if item in [\"GenHlth\"]:\n",
        "        widgets_dict[item + \"_label\"] = widgets.Label(\n",
        "            features_dict.get(item), layout={\"width\": \"max-content\"}\n",
        "        )\n",
        "        widgets_dict[item] = widgets.FloatSlider(\n",
        "            value=3,\n",
        "            min=1,\n",
        "            max=5,\n",
        "            step=1,\n",
        "        )\n",
        "    if item in [\"MentHlth\", \"PhysHlth\"]:\n",
        "        widgets_dict[item + \"_label\"] = widgets.Label(\n",
        "            features_dict.get(item), layout={\"width\": \"max-content\"}\n",
        "        )\n",
        "        widgets_dict[item] = widgets.FloatSlider(\n",
        "            value=0,\n",
        "            min=0,\n",
        "            max=30,\n",
        "            step=1,\n",
        "        )\n",
        "    if item in [\"Age\"]:\n",
        "        widgets_dict[item + \"_label\"] = widgets.Label(\n",
        "            features_dict.get(item), layout={\"width\": \"max-content\"}\n",
        "        )\n",
        "        widgets_dict[item] = widgets.FloatSlider(\n",
        "            value=8,\n",
        "            min=1,\n",
        "            max=13,\n",
        "            step=1,\n",
        "        )\n",
        "\n",
        "# Button to make prediction\n",
        "predict_btn = widgets.Button(description=\"Predict Patient Risk\")\n",
        "\n",
        "# Output widget to display prediction result\n",
        "output = widgets.Output()\n",
        "\n",
        "\n",
        "def on_predict_btn_clicked(b):\n",
        "    # Prepare the input for the model\n",
        "    input_data = [widgets_dict[feature].value for feature in features_dict.keys()]\n",
        "    input_data = np.array(input_data).reshape(1, -1)\n",
        "\n",
        "    # Create a DataFrame with input_data and assign column names using features\n",
        "    input_df = pd.DataFrame(input_data, columns=features_dict.keys())\n",
        "\n",
        "    # Ensure the DataFrame columns are in the correct order\n",
        "    input_df = input_df[X_log.columns]\n",
        "\n",
        "    # Apply the same scaling to the input as was done to the training data\n",
        "    input_df[numerical_columns] = scaler.transform(input_df[numerical_columns])\n",
        "\n",
        "    #### Make prediction ####\n",
        "    prediction = mylog_model.predict(input_df)\n",
        "\n",
        "    # Display prediction\n",
        "    with output:\n",
        "        output.clear_output()\n",
        "        if prediction[0] == 0:\n",
        "            print(\"Prediction: Not at risk of diabetes\")\n",
        "        else:\n",
        "            print(\"Prediction: At risk of diabetes\")\n",
        "\n",
        "\n",
        "predict_btn.on_click(on_predict_btn_clicked)\n",
        "\n",
        "# Display widgets\n",
        "for widget in widgets_dict.values():\n",
        "    display(widget)\n",
        "display(predict_btn, output)"
      ],
      "metadata": {
        "execution": {
          "iopub.status.busy": "2024-03-16T22:13:14.730095Z",
          "iopub.execute_input": "2024-03-16T22:13:14.730511Z",
          "iopub.status.idle": "2024-03-16T22:13:14.913068Z",
          "shell.execute_reply.started": "2024-03-16T22:13:14.730481Z",
          "shell.execute_reply": "2024-03-16T22:13:14.911907Z"
        },
        "trusted": true,
        "id": "ejo37xPQMdeL",
        "outputId": "cfeaada9-1bda-496e-f49d-60ae604db18b",
        "colab": {
          "base_uri": "https://localhost:8080/",
          "height": 1000,
          "referenced_widgets": [
            "3b0d40c96aa64836934d73d80bba737f",
            "65be0b86dfb44669aa618454eead0231",
            "70aa0802cc0a4204bbb6ff8c4a9222ef",
            "edea8c09daa042d799bba0a26ee7df8c",
            "32f788b04b814a0ba79734b0e466ae01",
            "9c0b7d2f56364d4eb6fe04e92a1aecbd",
            "c9c9a899381040f7bd95d6e0804d4523",
            "15761848f7194d38890bb4784e429e38",
            "03242fcc82694c0b9b8bd5f936eaa6d8",
            "23304d1cf3b6422da06ff9fbe2e0c6dd",
            "562d3095704b4117879630a5c834f282",
            "5da87ed9d25f4de48df4bd371f9a1739",
            "40e3ed690c60452788067f3a907b6d14",
            "d4d099c33ee94b6b819c3d8365893f0d",
            "b9a6454a6f4543509159fdea58aa5852",
            "f5f61ba460734c28b8d075bb39277361",
            "0c97704438af427faccbf00558689517",
            "182b12caa9874c9d85bb5df6f1a169f9",
            "8ffccf7416e14be2bfcbbfef24845c04",
            "61afdbfdb0674ded8c7b8403900392a7",
            "0e8f5a6a6fe3461090a0171ce20c4ec1",
            "86449dce805a4c78b1b677de8b3f2624",
            "09aa90d4b58d4f93a582f2d367d237e8",
            "91db0d3805c7436886eea9300557f3c2",
            "322822d1915f4cc4bf5b6fc8d98552e1",
            "0fd3f61731934f9382d8789110f268e6",
            "5edac3ee9f0448db9395457235305ed4",
            "4e2ca21510ce4035a08b54e592181427",
            "e6a79cfb504248618aa316d80d6761da",
            "5aefefdb99664d9c86a1cdfdd77afe99",
            "ffa866d0bf1f4f618763d736b33e595a",
            "a2eb0509865840e18afeb0068e7de40a",
            "a3b4a5faa3db42c6a04d90fd791c0563",
            "104725e43b894c3781d6f66df179e050",
            "fb1e92817db2413eb335c1464b4c4455",
            "7f05b96f9a664a95bf8ee3ef01f9f4fd",
            "b4ee22c91ccb4b3cb3b87793a6479830",
            "2181a17b7ed34d9799a52d0358d08f9a",
            "b1719fa64e38461497bd5665c61f9d6b",
            "8cb833c6c64a46e48f92ff3a73bbd08c",
            "0589ab4122804ce8a7893d9071543aab",
            "3fb3ee02d3544c4b98618b6a6b9f22a6",
            "727db6e7636f4c9881ddc33de6082993",
            "728ce6ad2bc844a0af6d9078900db54d",
            "be03cd3debc74fa4a976bb54905fa0ed",
            "73125e7d62f44f908a7d8ad2758f255e",
            "43ccd6c23f7b49ed965e7f6878efa5fc",
            "e9670e2f0b0f44d5bee24494e8bb53d1",
            "d2ff9e3bfb9f426387c6d4879151d9fe",
            "551e5f60d4b4415687b15991abef5769",
            "4079a98cc252401487e92d2bba9e5e37",
            "8cd6adb0192b4b109e472b844bf9ce17",
            "13e8447310ff49339afeef0489fbbfad",
            "75fd21e2f9de43a7bef601c9f81cf5c7",
            "ae94572b55de4d29a4d09163890b6e12",
            "916d03bf6b8a4781a6e2acc49c4974f9",
            "22e33bbcdee2403fa6403eef6fdb5952",
            "2161ec6787cb449eb424bd706df2dddd",
            "33424d5c1b7043ca950b1ee48b8ca68b",
            "d0520545711d4cb3bfecc9dbfa356f20",
            "40cc5da24b5f4989b5dead68e672f052",
            "eb32224721a84d46bfa3fa679e668e15",
            "bb4d088c727b459d819b63bf5a7d7fb3",
            "7ea7d21fa6c143e68df1e20404447407",
            "ea5903f98767474bace3e443f16d0684",
            "25a4b6f86ee0405b974ef73821c9d67a",
            "628cf2317f1a4444bad3d0df73e49484",
            "6bf63e9d039e4181832a4efc837262e3",
            "a6e4407ca56e46039d8e5ceb3fa020b1",
            "237ac7cbfdfb4f6eb238ed2e97439408",
            "e7de513f71e5441ba421db703ea21674",
            "8b2484c09b564d21b82882629349ee67",
            "49b53262b375481ab63f8767ae04c001",
            "3b1652ff744743fa9293a21c3ba83205",
            "4770a0ef53e04851807929f7df475b1f",
            "67c8b8df713d40b5bec18daae484e202",
            "6f12d80728a2412a92646572e38bff1d",
            "815ca81227674300a2910003b2b11f92",
            "2df37ddca04c420aa492fa67100426c5",
            "7ef7e3a3d91d4702b048831db6eeea37",
            "cc29192ae256495783484d2e9cc5749a",
            "212c60b09345456d9196147e2e58269e",
            "50cb5a249e3b42f5a5a4f8536e8ada32",
            "992543a98ecf4c0f98711d4048198e65",
            "a60eb8aed8004be4917ceb88a0db29d4",
            "4dbecbbf860048ac86ff947e94192a75",
            "e816469c7a6c4617844f2b6d8007dad5",
            "c4a8989a3da649aab8c6d088b1208a0a",
            "068b64fc69ac46009d80003bd9fcfa6c",
            "3d9f728069854c6c82a6c1ee150c8bd8",
            "91308ccbd9de4cce9d564f6c07cf3ccf",
            "b0bf7865f49d4b759b491a9cd426ba32",
            "7f94c642edae41abb27dcb4dbaa66e73",
            "39a68c0165834876ad6d99b307146c0c",
            "3e402b62ab84464d8ac10809fb3f2ff2",
            "97c77f50b95f41c7a4dc88155140ef05",
            "9fe27a48e173453892ec7959d218c8af",
            "e107fdb31b224203a9df227dc6e227ac",
            "5f98bbedca424439b4397b4aac8a0721",
            "f3cca0eed8194823bc6f03ffa9a0724d",
            "f6a9f90f77954da3b58a0ab865edaf49"
          ]
        }
      },
      "execution_count": 9,
      "outputs": [
        {
          "output_type": "display_data",
          "data": {
            "text/plain": [
              "Label(value='Sex:', layout=Layout(width='max-content'))"
            ],
            "application/vnd.jupyter.widget-view+json": {
              "version_major": 2,
              "version_minor": 0,
              "model_id": "3b0d40c96aa64836934d73d80bba737f"
            }
          },
          "metadata": {}
        },
        {
          "output_type": "display_data",
          "data": {
            "text/plain": [
              "Dropdown(options=(('Female', 0), ('Male', 1)), value=0)"
            ],
            "application/vnd.jupyter.widget-view+json": {
              "version_major": 2,
              "version_minor": 0,
              "model_id": "edea8c09daa042d799bba0a26ee7df8c"
            }
          },
          "metadata": {}
        },
        {
          "output_type": "display_data",
          "data": {
            "text/plain": [
              "Label(value='Age category (1 = 18-24, 13 = 80 or older; see table):', layout=Layout(width='max-content'))"
            ],
            "application/vnd.jupyter.widget-view+json": {
              "version_major": 2,
              "version_minor": 0,
              "model_id": "c9c9a899381040f7bd95d6e0804d4523"
            }
          },
          "metadata": {}
        },
        {
          "output_type": "display_data",
          "data": {
            "text/plain": [
              "FloatSlider(value=8.0, max=13.0, min=1.0, step=1.0)"
            ],
            "application/vnd.jupyter.widget-view+json": {
              "version_major": 2,
              "version_minor": 0,
              "model_id": "23304d1cf3b6422da06ff9fbe2e0c6dd"
            }
          },
          "metadata": {}
        },
        {
          "output_type": "display_data",
          "data": {
            "text/plain": [
              "Label(value='Body Mass Index:', layout=Layout(width='max-content'))"
            ],
            "application/vnd.jupyter.widget-view+json": {
              "version_major": 2,
              "version_minor": 0,
              "model_id": "40e3ed690c60452788067f3a907b6d14"
            }
          },
          "metadata": {}
        },
        {
          "output_type": "display_data",
          "data": {
            "text/plain": [
              "FloatSlider(value=20.0, max=50.0, min=10.0)"
            ],
            "application/vnd.jupyter.widget-view+json": {
              "version_major": 2,
              "version_minor": 0,
              "model_id": "f5f61ba460734c28b8d075bb39277361"
            }
          },
          "metadata": {}
        },
        {
          "output_type": "display_data",
          "data": {
            "text/plain": [
              "Label(value='High Blood Pressure', layout=Layout(width='max-content'))"
            ],
            "application/vnd.jupyter.widget-view+json": {
              "version_major": 2,
              "version_minor": 0,
              "model_id": "8ffccf7416e14be2bfcbbfef24845c04"
            }
          },
          "metadata": {}
        },
        {
          "output_type": "display_data",
          "data": {
            "text/plain": [
              "RadioButtons(options={'No': 0, 'Yes': 1}, value=0)"
            ],
            "application/vnd.jupyter.widget-view+json": {
              "version_major": 2,
              "version_minor": 0,
              "model_id": "86449dce805a4c78b1b677de8b3f2624"
            }
          },
          "metadata": {}
        },
        {
          "output_type": "display_data",
          "data": {
            "text/plain": [
              "Label(value='High Cholesterol', layout=Layout(width='max-content'))"
            ],
            "application/vnd.jupyter.widget-view+json": {
              "version_major": 2,
              "version_minor": 0,
              "model_id": "322822d1915f4cc4bf5b6fc8d98552e1"
            }
          },
          "metadata": {}
        },
        {
          "output_type": "display_data",
          "data": {
            "text/plain": [
              "RadioButtons(options={'No': 0, 'Yes': 1}, value=0)"
            ],
            "application/vnd.jupyter.widget-view+json": {
              "version_major": 2,
              "version_minor": 0,
              "model_id": "4e2ca21510ce4035a08b54e592181427"
            }
          },
          "metadata": {}
        },
        {
          "output_type": "display_data",
          "data": {
            "text/plain": [
              "Label(value='Have you smoked at least 100 cigarettes in your life?', layout=Layout(width='max-content'))"
            ],
            "application/vnd.jupyter.widget-view+json": {
              "version_major": 2,
              "version_minor": 0,
              "model_id": "ffa866d0bf1f4f618763d736b33e595a"
            }
          },
          "metadata": {}
        },
        {
          "output_type": "display_data",
          "data": {
            "text/plain": [
              "RadioButtons(options={'No': 0, 'Yes': 1}, value=0)"
            ],
            "application/vnd.jupyter.widget-view+json": {
              "version_major": 2,
              "version_minor": 0,
              "model_id": "104725e43b894c3781d6f66df179e050"
            }
          },
          "metadata": {}
        },
        {
          "output_type": "display_data",
          "data": {
            "text/plain": [
              "Label(value='Heavy drinkers (drinks <14 for men, <7 for women per week', layout=Layout(width='max-content'))"
            ],
            "application/vnd.jupyter.widget-view+json": {
              "version_major": 2,
              "version_minor": 0,
              "model_id": "b4ee22c91ccb4b3cb3b87793a6479830"
            }
          },
          "metadata": {}
        },
        {
          "output_type": "display_data",
          "data": {
            "text/plain": [
              "RadioButtons(options={'No': 0, 'Yes': 1}, value=0)"
            ],
            "application/vnd.jupyter.widget-view+json": {
              "version_major": 2,
              "version_minor": 0,
              "model_id": "8cb833c6c64a46e48f92ff3a73bbd08c"
            }
          },
          "metadata": {}
        },
        {
          "output_type": "display_data",
          "data": {
            "text/plain": [
              "Label(value='(Ever told) you had a Stroke?', layout=Layout(width='max-content'))"
            ],
            "application/vnd.jupyter.widget-view+json": {
              "version_major": 2,
              "version_minor": 0,
              "model_id": "727db6e7636f4c9881ddc33de6082993"
            }
          },
          "metadata": {}
        },
        {
          "output_type": "display_data",
          "data": {
            "text/plain": [
              "RadioButtons(options={'No': 0, 'Yes': 1}, value=0)"
            ],
            "application/vnd.jupyter.widget-view+json": {
              "version_major": 2,
              "version_minor": 0,
              "model_id": "73125e7d62f44f908a7d8ad2758f255e"
            }
          },
          "metadata": {}
        },
        {
          "output_type": "display_data",
          "data": {
            "text/plain": [
              "Label(value='Heart Disease or Attack (CHD or MI)', layout=Layout(width='max-content'))"
            ],
            "application/vnd.jupyter.widget-view+json": {
              "version_major": 2,
              "version_minor": 0,
              "model_id": "d2ff9e3bfb9f426387c6d4879151d9fe"
            }
          },
          "metadata": {}
        },
        {
          "output_type": "display_data",
          "data": {
            "text/plain": [
              "RadioButtons(options={'No': 0, 'Yes': 1}, value=0)"
            ],
            "application/vnd.jupyter.widget-view+json": {
              "version_major": 2,
              "version_minor": 0,
              "model_id": "8cd6adb0192b4b109e472b844bf9ce17"
            }
          },
          "metadata": {}
        },
        {
          "output_type": "display_data",
          "data": {
            "text/plain": [
              "Label(value='General Health scale :', layout=Layout(width='max-content'))"
            ],
            "application/vnd.jupyter.widget-view+json": {
              "version_major": 2,
              "version_minor": 0,
              "model_id": "ae94572b55de4d29a4d09163890b6e12"
            }
          },
          "metadata": {}
        },
        {
          "output_type": "display_data",
          "data": {
            "text/plain": [
              "FloatSlider(value=3.0, max=5.0, min=1.0, step=1.0)"
            ],
            "application/vnd.jupyter.widget-view+json": {
              "version_major": 2,
              "version_minor": 0,
              "model_id": "2161ec6787cb449eb424bd706df2dddd"
            }
          },
          "metadata": {}
        },
        {
          "output_type": "display_data",
          "data": {
            "text/plain": [
              "Label(value='How many past days was your Mental Health not good?', layout=Layout(width='max-content'))"
            ],
            "application/vnd.jupyter.widget-view+json": {
              "version_major": 2,
              "version_minor": 0,
              "model_id": "40cc5da24b5f4989b5dead68e672f052"
            }
          },
          "metadata": {}
        },
        {
          "output_type": "display_data",
          "data": {
            "text/plain": [
              "FloatSlider(value=0.0, max=30.0, step=1.0)"
            ],
            "application/vnd.jupyter.widget-view+json": {
              "version_major": 2,
              "version_minor": 0,
              "model_id": "7ea7d21fa6c143e68df1e20404447407"
            }
          },
          "metadata": {}
        },
        {
          "output_type": "display_data",
          "data": {
            "text/plain": [
              "Label(value='How many past days was your Physical Health not good?', layout=Layout(width='max-content'))"
            ],
            "application/vnd.jupyter.widget-view+json": {
              "version_major": 2,
              "version_minor": 0,
              "model_id": "628cf2317f1a4444bad3d0df73e49484"
            }
          },
          "metadata": {}
        },
        {
          "output_type": "display_data",
          "data": {
            "text/plain": [
              "FloatSlider(value=0.0, max=30.0, step=1.0)"
            ],
            "application/vnd.jupyter.widget-view+json": {
              "version_major": 2,
              "version_minor": 0,
              "model_id": "237ac7cbfdfb4f6eb238ed2e97439408"
            }
          },
          "metadata": {}
        },
        {
          "output_type": "display_data",
          "data": {
            "text/plain": [
              "Label(value='Do you have Difficulty Walking or climbing stairs?', layout=Layout(width='max-content'))"
            ],
            "application/vnd.jupyter.widget-view+json": {
              "version_major": 2,
              "version_minor": 0,
              "model_id": "49b53262b375481ab63f8767ae04c001"
            }
          },
          "metadata": {}
        },
        {
          "output_type": "display_data",
          "data": {
            "text/plain": [
              "RadioButtons(options={'No': 0, 'Yes': 1}, value=0)"
            ],
            "application/vnd.jupyter.widget-view+json": {
              "version_major": 2,
              "version_minor": 0,
              "model_id": "67c8b8df713d40b5bec18daae484e202"
            }
          },
          "metadata": {}
        },
        {
          "output_type": "display_data",
          "data": {
            "text/plain": [
              "Label(value='Physical Activity in past 30 days, not incl job', layout=Layout(width='max-content'))"
            ],
            "application/vnd.jupyter.widget-view+json": {
              "version_major": 2,
              "version_minor": 0,
              "model_id": "2df37ddca04c420aa492fa67100426c5"
            }
          },
          "metadata": {}
        },
        {
          "output_type": "display_data",
          "data": {
            "text/plain": [
              "RadioButtons(options={'No': 0, 'Yes': 1}, value=0)"
            ],
            "application/vnd.jupyter.widget-view+json": {
              "version_major": 2,
              "version_minor": 0,
              "model_id": "212c60b09345456d9196147e2e58269e"
            }
          },
          "metadata": {}
        },
        {
          "output_type": "display_data",
          "data": {
            "text/plain": [
              "Label(value='Eat 1 Fruit or more per day', layout=Layout(width='max-content'))"
            ],
            "application/vnd.jupyter.widget-view+json": {
              "version_major": 2,
              "version_minor": 0,
              "model_id": "a60eb8aed8004be4917ceb88a0db29d4"
            }
          },
          "metadata": {}
        },
        {
          "output_type": "display_data",
          "data": {
            "text/plain": [
              "RadioButtons(options={'No': 0, 'Yes': 1}, value=0)"
            ],
            "application/vnd.jupyter.widget-view+json": {
              "version_major": 2,
              "version_minor": 0,
              "model_id": "c4a8989a3da649aab8c6d088b1208a0a"
            }
          },
          "metadata": {}
        },
        {
          "output_type": "display_data",
          "data": {
            "text/plain": [
              "Label(value='Eat Veggies 1 or more per day', layout=Layout(width='max-content'))"
            ],
            "application/vnd.jupyter.widget-view+json": {
              "version_major": 2,
              "version_minor": 0,
              "model_id": "91308ccbd9de4cce9d564f6c07cf3ccf"
            }
          },
          "metadata": {}
        },
        {
          "output_type": "display_data",
          "data": {
            "text/plain": [
              "RadioButtons(options={'No': 0, 'Yes': 1}, value=0)"
            ],
            "application/vnd.jupyter.widget-view+json": {
              "version_major": 2,
              "version_minor": 0,
              "model_id": "39a68c0165834876ad6d99b307146c0c"
            }
          },
          "metadata": {}
        },
        {
          "output_type": "display_data",
          "data": {
            "text/plain": [
              "Button(description='Predict Patient Risk', style=ButtonStyle())"
            ],
            "application/vnd.jupyter.widget-view+json": {
              "version_major": 2,
              "version_minor": 0,
              "model_id": "9fe27a48e173453892ec7959d218c8af"
            }
          },
          "metadata": {}
        },
        {
          "output_type": "display_data",
          "data": {
            "text/plain": [
              "Output()"
            ],
            "application/vnd.jupyter.widget-view+json": {
              "version_major": 2,
              "version_minor": 0,
              "model_id": "f3cca0eed8194823bc6f03ffa9a0724d"
            }
          },
          "metadata": {}
        }
      ]
    },
    {
      "cell_type": "markdown",
      "source": [
        "# Data Exploration\n",
        "\n",
        "Next we generate some visuals to explore some possible relationships in the data. We will look at Histograms and Scatterplots.\n",
        "\n",
        "## Histogram Figure 1.a\n",
        "\n",
        "Here we generate a histogram that compares the distribution of general health ratings (GenHlth) between individuals with and without diabetes (Diabetes status) in the dataset. For each group, we display the frequency of respondents across five health rating categories, ranging from poor to excellent health, after these ratings have been reversed so that higher numbers indicate better health. The histogram for individuals without diabetes is shown in blue, while the histogram for those with diabetes is in orange, allowing for a visual comparison of how general health perceptions differ between these two groups. This visualization aids in understanding whether there's a noticeable difference in self-reported general health status among individuals based on their diabetes condition."
      ],
      "metadata": {
        "id": "OBnq5rZdMdeL"
      }
    },
    {
      "cell_type": "code",
      "source": [
        "# Filter the dataset by Diabetes status\n",
        "gen_health_no_diabetes = reduced_df[reduced_df[\"Diabetes\"] == False][\"GenHlth\"]\n",
        "gen_health_with_diabetes = reduced_df[reduced_df[\"Diabetes\"] == True][\"GenHlth\"]\n",
        "\n",
        "# Plot histograms\n",
        "plt.hist(\n",
        "    gen_health_no_diabetes, bins=5, alpha=0.5, label=\"No Diabetes\", edgecolor=\"black\"\n",
        ")\n",
        "plt.hist(\n",
        "    gen_health_with_diabetes, bins=5, alpha=0.5, label=\"Diabetes\", edgecolor=\"black\"\n",
        ")\n",
        "\n",
        "# Add legend\n",
        "plt.legend()\n",
        "\n",
        "# Add titles and labels as needed\n",
        "plt.title(\"General Health by Diabetes Status\")\n",
        "plt.xlabel(\"General Health Rating\")\n",
        "plt.ylabel(\"Frequency\")\n",
        "\n",
        "# Set x-axis to display integer values from 1 to 5\n",
        "plt.xticks(range(1, 6))\n",
        "\n",
        "# Show the plot\n",
        "plt.show()"
      ],
      "metadata": {
        "tags": [],
        "jupyter": {
          "source_hidden": true
        },
        "execution": {
          "iopub.status.busy": "2024-03-16T22:11:18.710017Z",
          "iopub.execute_input": "2024-03-16T22:11:18.710485Z",
          "iopub.status.idle": "2024-03-16T22:11:19.090889Z",
          "shell.execute_reply.started": "2024-03-16T22:11:18.710444Z",
          "shell.execute_reply": "2024-03-16T22:11:19.089873Z"
        },
        "trusted": true,
        "id": "mDsuXvKEMdeL",
        "outputId": "5b94a6db-5e65-4311-91db-e1f8bef73887",
        "colab": {
          "base_uri": "https://localhost:8080/",
          "height": 472
        }
      },
      "execution_count": 10,
      "outputs": [
        {
          "output_type": "display_data",
          "data": {
            "text/plain": [
              "<Figure size 640x480 with 1 Axes>"
            ],
            "image/png": "[encoded data removed]"
          },
          "metadata": {}
        }
      ]
    },
    {
      "cell_type": "markdown",
      "source": [
        "## Histogram Figure 1.b\n",
        "\n",
        "Analysis of physical health comparing diabetics to non-diabetics."
      ],
      "metadata": {
        "id": "XUmTJ0wAMdeM"
      }
    },
    {
      "cell_type": "code",
      "source": [
        "# Filter the dataset by Diabetes status\n",
        "phys_health_no_diabetes = reduced_df[reduced_df[\"Diabetes\"] == False][\"PhysHlth\"]\n",
        "phys_health_with_diabetes = reduced_df[reduced_df[\"Diabetes\"] == True][\"PhysHlth\"]\n",
        "\n",
        "# Plot histograms\n",
        "plt.hist(\n",
        "    phys_health_no_diabetes, alpha=0.5, label=\"No Diabetes\", bins=6, edgecolor=\"black\"\n",
        ")\n",
        "plt.hist(\n",
        "    phys_health_with_diabetes, alpha=0.5, label=\"Diabetes\", bins=6, edgecolor=\"black\"\n",
        ")\n",
        "\n",
        "# Add legend\n",
        "plt.legend()\n",
        "\n",
        "# Add titles and labels as needed\n",
        "plt.title(\"Physical Health by Diabetes Status\")\n",
        "plt.xlabel(\"Poor Physical Health Days\")\n",
        "plt.ylabel(\"Frequency\")\n",
        "\n",
        "# Show the plot\n",
        "plt.show()"
      ],
      "metadata": {
        "tags": [],
        "jupyter": {
          "source_hidden": true
        },
        "execution": {
          "iopub.status.busy": "2024-03-16T22:11:19.09314Z",
          "iopub.execute_input": "2024-03-16T22:11:19.093474Z",
          "iopub.status.idle": "2024-03-16T22:11:19.444961Z",
          "shell.execute_reply.started": "2024-03-16T22:11:19.093445Z",
          "shell.execute_reply": "2024-03-16T22:11:19.44418Z"
        },
        "trusted": true,
        "id": "45xecSFdMdeM",
        "outputId": "7ead3d88-8525-4ec8-82da-255bcf6283ec",
        "colab": {
          "base_uri": "https://localhost:8080/",
          "height": 472
        }
      },
      "execution_count": 11,
      "outputs": [
        {
          "output_type": "display_data",
          "data": {
            "text/plain": [
              "<Figure size 640x480 with 1 Axes>"
            ],
            "image/png": "[encoded data removed]"
          },
          "metadata": {}
        }
      ]
    },
    {
      "cell_type": "markdown",
      "source": [
        "## Histogram Figure 1.c\n",
        "\n",
        "Analysis of mental health comparing diabetics to non-diabetics."
      ],
      "metadata": {
        "tags": [],
        "id": "mf4J3CtKMdeM"
      }
    },
    {
      "cell_type": "code",
      "source": [
        "# Filter the dataset by Diabetes status\n",
        "phys_health_no_diabetes = reduced_df[reduced_df[\"Diabetes\"] == False][\"MentHlth\"]\n",
        "phys_health_with_diabetes = reduced_df[reduced_df[\"Diabetes\"] == True][\"MentHlth\"]\n",
        "\n",
        "# Plot histograms\n",
        "plt.hist(\n",
        "    phys_health_no_diabetes, alpha=0.5, label=\"No Diabetes\", bins=6, edgecolor=\"black\"\n",
        ")\n",
        "plt.hist(\n",
        "    phys_health_with_diabetes, alpha=0.5, label=\"Diabetes\", bins=6, edgecolor=\"black\"\n",
        ")\n",
        "\n",
        "# Add legend\n",
        "plt.legend()\n",
        "\n",
        "# Add titles and labels as needed\n",
        "plt.title(\"Mental Health by Diabetes Status\")\n",
        "plt.xlabel(\"Poor Mental Health Days\")\n",
        "plt.ylabel(\"Frequency\")\n",
        "\n",
        "# Show the plot\n",
        "plt.show()"
      ],
      "metadata": {
        "tags": [],
        "jupyter": {
          "source_hidden": true
        },
        "execution": {
          "iopub.status.busy": "2024-03-16T22:11:19.44602Z",
          "iopub.execute_input": "2024-03-16T22:11:19.44696Z",
          "iopub.status.idle": "2024-03-16T22:11:19.805021Z",
          "shell.execute_reply.started": "2024-03-16T22:11:19.446873Z",
          "shell.execute_reply": "2024-03-16T22:11:19.803924Z"
        },
        "trusted": true,
        "id": "oH_pq_TaMdeN",
        "outputId": "9ce0679b-78ab-467e-b499-820b3c3f4af6",
        "colab": {
          "base_uri": "https://localhost:8080/",
          "height": 472
        }
      },
      "execution_count": 12,
      "outputs": [
        {
          "output_type": "display_data",
          "data": {
            "text/plain": [
              "<Figure size 640x480 with 1 Axes>"
            ],
            "image/png": "[encoded data removed]"
          },
          "metadata": {}
        }
      ]
    },
    {
      "cell_type": "markdown",
      "source": [
        "## Histogram Figure 1.d\n",
        "\n",
        "### Age distribution\n",
        "\n",
        "Here we provide a visual distribution analysis of the Age feature. Of note, the data was collected using a 13-level age category where 1 = 18-24, 9 = 60-64, and 13 = 80 or older."
      ],
      "metadata": {
        "id": "MRsxs4uKMdeN"
      }
    },
    {
      "cell_type": "code",
      "source": [
        "# Plot Age histogram\n",
        "graph_histograms = reduced_df.hist(column=\"Age\", grid=True, bins=13)\n",
        "\n",
        "# Calculate the tick positions for 13 bins\n",
        "tick_positions = range(1, 14)\n",
        "\n",
        "# Set the x-axis ticks\n",
        "plt.xticks(tick_positions)\n",
        "\n",
        "# Optionally, set x-axis and y-axis labels\n",
        "plt.xlabel(\"Age Category\")\n",
        "plt.ylabel(\"Frequency\")\n",
        "\n",
        "# Show the plot\n",
        "plt.show()"
      ],
      "metadata": {
        "tags": [],
        "jupyter": {
          "source_hidden": true
        },
        "execution": {
          "iopub.status.busy": "2024-03-16T22:11:19.806491Z",
          "iopub.execute_input": "2024-03-16T22:11:19.806911Z",
          "iopub.status.idle": "2024-03-16T22:11:20.181236Z",
          "shell.execute_reply.started": "2024-03-16T22:11:19.806872Z",
          "shell.execute_reply": "2024-03-16T22:11:20.179937Z"
        },
        "trusted": true,
        "id": "kFChz9qBMdeN",
        "outputId": "019e712b-9f11-407a-9f14-6919152178d9",
        "colab": {
          "base_uri": "https://localhost:8080/",
          "height": 472
        }
      },
      "execution_count": 13,
      "outputs": [
        {
          "output_type": "display_data",
          "data": {
            "text/plain": [
              "<Figure size 640x480 with 1 Axes>"
            ],
            "image/png": "[encoded data removed]"
          },
          "metadata": {}
        }
      ]
    },
    {
      "cell_type": "markdown",
      "source": [
        "## Scatterplot figure 2.a\n",
        "\n",
        "### BMI over Age\n",
        "\n",
        "Here we see that diabetics have a higher BMI on average."
      ],
      "metadata": {
        "id": "8XDJGZ1TMdeO"
      }
    },
    {
      "cell_type": "code",
      "source": [
        "# Copy the DataFrame to avoid modifying the original data\n",
        "plot_df = reduced_df.copy()\n",
        "\n",
        "# Map True/False to Male/Female\n",
        "plot_df[\"Sex\"] = plot_df[\"Sex\"].map({True: \"Male\", False: \"Female\"})\n",
        "\n",
        "# Age/BMI Scatterplot\n",
        "sns.lmplot(\n",
        "    data=plot_df,\n",
        "    x=\"Age\",\n",
        "    y=\"BMI\",\n",
        "    col=\"Sex\",\n",
        "    hue=\"Diabetes\",\n",
        "    x_bins=1000,\n",
        "    fit_reg=False,\n",
        ")"
      ],
      "metadata": {
        "tags": [],
        "jupyter": {
          "source_hidden": true
        },
        "execution": {
          "iopub.status.busy": "2024-03-16T22:11:20.182626Z",
          "iopub.execute_input": "2024-03-16T22:11:20.182961Z",
          "iopub.status.idle": "2024-03-16T22:11:25.464012Z",
          "shell.execute_reply.started": "2024-03-16T22:11:20.182923Z",
          "shell.execute_reply": "2024-03-16T22:11:25.463031Z"
        },
        "trusted": true,
        "id": "1f7g8d2mMdeO",
        "outputId": "945b52c4-cfad-40e0-c3ec-51311ffbfe3a",
        "colab": {
          "base_uri": "https://localhost:8080/",
          "height": 525
        }
      },
      "execution_count": 14,
      "outputs": [
        {
          "output_type": "execute_result",
          "data": {
            "text/plain": [
              "<seaborn.axisgrid.FacetGrid at 0x7995167d46d0>"
            ]
          },
          "metadata": {},
          "execution_count": 14
        },
        {
          "output_type": "display_data",
          "data": {
            "text/plain": [
              "<Figure size 1084.88x500 with 2 Axes>"
            ],
            "image/png": "[encoded data removed]"
          },
          "metadata": {}
        }
      ]
    },
    {
      "cell_type": "markdown",
      "source": [
        "## Scatterplot figure 2.b\n",
        "\n",
        "### General Health over Age\n",
        "\n",
        "The general health indicator is on a scale of 1 to 5, with a score of 5 as excellent. Here we see that diabetics have poorer general health. We also see a trend in healthy people where the older one gets, the poorer their overall health. Diabetics do not show this trend."
      ],
      "metadata": {
        "id": "o9CJtN-nMdeO"
      }
    },
    {
      "cell_type": "code",
      "source": [
        "# Age/General-Health Scatterplot\n",
        "sns.lmplot(data=reduced_df, x=\"Age\", y=\"GenHlth\", hue=\"Diabetes\", x_bins=1000)"
      ],
      "metadata": {
        "tags": [],
        "jupyter": {
          "source_hidden": true
        },
        "execution": {
          "iopub.status.busy": "2024-03-16T22:11:25.467529Z",
          "iopub.execute_input": "2024-03-16T22:11:25.467881Z",
          "iopub.status.idle": "2024-03-16T22:11:43.699329Z",
          "shell.execute_reply.started": "2024-03-16T22:11:25.467847Z",
          "shell.execute_reply": "2024-03-16T22:11:43.69824Z"
        },
        "trusted": true,
        "id": "QzlCG6qdMdeO",
        "outputId": "28bd6ce2-f2b8-4760-85d6-123e1eb033ec",
        "colab": {
          "base_uri": "https://localhost:8080/",
          "height": 524
        }
      },
      "execution_count": 15,
      "outputs": [
        {
          "output_type": "execute_result",
          "data": {
            "text/plain": [
              "<seaborn.axisgrid.FacetGrid at 0x79951626b8b0>"
            ]
          },
          "metadata": {},
          "execution_count": 15
        },
        {
          "output_type": "display_data",
          "data": {
            "text/plain": [
              "<Figure size 584.875x500 with 1 Axes>"
            ],
            "image/png": "[encoded data removed]"
          },
          "metadata": {}
        }
      ]
    },
    {
      "cell_type": "markdown",
      "source": [
        "## Scatterplot figure 2.c\n",
        "\n",
        "### Physical Health as compared to Mental health\n",
        "\n",
        "Here we see a trend that the more days per month of poor mental health an individual has, the more days on average of physical health they will experience. Of note is diabetics have a similar distribution of poor mental health days, but significantly more days per month of poor physical health."
      ],
      "metadata": {
        "id": "Pv1xLl_LMdeO"
      }
    },
    {
      "cell_type": "code",
      "source": [
        "# Health Scatterplot\n",
        "sns.lmplot(data=reduced_df, x=\"MentHlth\", y=\"PhysHlth\", hue=\"Diabetes\", x_bins=1000)"
      ],
      "metadata": {
        "tags": [],
        "jupyter": {
          "source_hidden": true
        },
        "execution": {
          "iopub.status.busy": "2024-03-16T22:11:43.700973Z",
          "iopub.execute_input": "2024-03-16T22:11:43.701458Z",
          "iopub.status.idle": "2024-03-16T22:12:02.927467Z",
          "shell.execute_reply.started": "2024-03-16T22:11:43.701419Z",
          "shell.execute_reply": "2024-03-16T22:12:02.926357Z"
        },
        "trusted": true,
        "id": "kTrbidIjMdeP",
        "outputId": "c3cb9688-e154-4a23-f226-7e2f3fae2d5a",
        "colab": {
          "base_uri": "https://localhost:8080/",
          "height": 524
        }
      },
      "execution_count": 16,
      "outputs": [
        {
          "output_type": "execute_result",
          "data": {
            "text/plain": [
              "<seaborn.axisgrid.FacetGrid at 0x799516641ed0>"
            ]
          },
          "metadata": {},
          "execution_count": 16
        },
        {
          "output_type": "display_data",
          "data": {
            "text/plain": [
              "<Figure size 584.875x500 with 1 Axes>"
            ],
            "image/png": "[encoded data removed]"
          },
          "metadata": {}
        }
      ]
    },
    {
      "cell_type": "markdown",
      "source": [
        "# Random Forest Model for Comparison\n",
        "\n",
        "Here we set up a second model using the Random Forest algorithm to compare with our Logistic Regression model. The steps are much the same as before, however we do not need to scale the numerical data."
      ],
      "metadata": {
        "id": "OAVhhziBMdeP"
      }
    },
    {
      "cell_type": "code",
      "source": [
        "# 'X' is the set of features and 'y' is the target variable\n",
        "X_rf = reduced_df.drop(\"Diabetes\", axis=1)\n",
        "y_rf = reduced_df[\"Diabetes\"].astype(\"bool\")  # Ensuring the target is boolean\n",
        "\n",
        "# Splitting the dataset into the Training set and Test set\n",
        "X_rf_train, X_rf_test, y_rf_train, y_rf_test = train_test_split(\n",
        "    X_rf, y_rf, test_size=0.25, random_state=42\n",
        ")\n",
        "\n",
        "# Creating a Random Forest Classifier -- You can adjust parameters\n",
        "rf_classifier = RandomForestClassifier(n_estimators=100, random_state=42)\n",
        "\n",
        "# Fitting Random Forest to the Training set\n",
        "rf_classifier.fit(X_rf_train, y_rf_train)\n",
        "\n",
        "# Predicting the Test set results\n",
        "y_pred_rf = rf_classifier.predict(X_rf_test)\n",
        "\n",
        "accuracy_rf = accuracy_score(y_rf_test, y_pred_rf)\n",
        "conf_matrix_rf = confusion_matrix(y_rf_test, y_pred_rf)\n",
        "class_report_rf = classification_report(y_rf_test, y_pred_rf)\n",
        "\n",
        "# Evaluate the model\n",
        "print(\"\\nRandom Forest (single) prediction results:\", \"\\n\")\n",
        "print(f\"Accuracy: {round(accuracy_rf*100,2)} %\", \"\\n\")\n",
        "print(\"Confusion Matrix:\")\n",
        "print(conf_matrix_rf, \"\\n\")\n",
        "print(\"Classification Report:\")\n",
        "print(class_report_rf)"
      ],
      "metadata": {
        "tags": [],
        "execution": {
          "iopub.status.busy": "2024-03-16T22:12:02.929015Z",
          "iopub.execute_input": "2024-03-16T22:12:02.930077Z",
          "iopub.status.idle": "2024-03-16T22:12:20.974195Z",
          "shell.execute_reply.started": "2024-03-16T22:12:02.930044Z",
          "shell.execute_reply": "2024-03-16T22:12:20.972952Z"
        },
        "trusted": true,
        "id": "V-n71G-LMdeP",
        "outputId": "ac97d7cb-1630-4d85-9fea-b1dfe08c2e6b",
        "colab": {
          "base_uri": "https://localhost:8080/"
        }
      },
      "execution_count": 17,
      "outputs": [
        {
          "output_type": "stream",
          "name": "stdout",
          "text": [
            "\n",
            "Random Forest (single) prediction results: \n",
            "\n",
            "Accuracy: 72.13 % \n",
            "\n",
            "Confusion Matrix:\n",
            "[[11906  5307]\n",
            " [ 4297 12947]] \n",
            "\n",
            "Classification Report:\n",
            "              precision    recall  f1-score   support\n",
            "\n",
            "       False       0.73      0.69      0.71     17213\n",
            "        True       0.71      0.75      0.73     17244\n",
            "\n",
            "    accuracy                           0.72     34457\n",
            "   macro avg       0.72      0.72      0.72     34457\n",
            "weighted avg       0.72      0.72      0.72     34457\n",
            "\n"
          ]
        }
      ]
    },
    {
      "cell_type": "markdown",
      "source": [
        "# Cross-Validation of Models\n",
        "\n",
        "Next we perform a cross-validation process on the logistic regression and Random Forest models to verify their reliability across different subsets of the dataset. By utilizing the KFold method with 5 splits and shuffling enabled, the dataset is divided into distinct subsets to conduct multiple training and testing cycles. The average of these scores is calculated and displayed, offering a robust measure of the model's overall performance. This approach helps to ensure that the model's predictive accuracy is not overly dependent on any particular partition of the data, thereby increasing confidence in its generalizability."
      ],
      "metadata": {
        "id": "zyVCZBQaMdeR"
      }
    },
    {
      "cell_type": "code",
      "source": [
        "# Verify model by averaging different test/train splits\n",
        "k_folds = KFold(n_splits=5, shuffle=True)\n",
        "# The number of folds determines the test/train split for each iteration.\n",
        "# So 5 folds has 5 different mutually exclusive training sets.\n",
        "# That's a 1 to 4 (or .20 to .80) testing/training split for each of the 5 iterations.\n",
        "\n",
        "# This is the average score. Print 'scores' to see array of individual iteration scores.\n",
        "log_scores = cross_val_score(mylog_model, X_log, y_log)\n",
        "rf_scores = cross_val_score(rf_classifier, X_rf, y_rf)\n",
        "\n",
        "# Output average scores\n",
        "print(\n",
        "    \"Logistic Regression Average Prediction Score: \",\n",
        "    round(log_scores.mean() * 100, 2),\n",
        "    \"%\",\n",
        ")\n",
        "print(\"Random Forest Average Prediction Score: \", round(rf_scores.mean() * 100, 2), \"%\")"
      ],
      "metadata": {
        "tags": [],
        "jupyter": {
          "source_hidden": true
        },
        "execution": {
          "iopub.status.busy": "2024-03-16T22:12:20.97528Z",
          "iopub.execute_input": "2024-03-16T22:12:20.975604Z",
          "iopub.status.idle": "2024-03-16T22:13:09.764565Z",
          "shell.execute_reply.started": "2024-03-16T22:12:20.975577Z",
          "shell.execute_reply": "2024-03-16T22:13:09.762336Z"
        },
        "trusted": true,
        "id": "dDYGPlXcMdeR",
        "outputId": "21cfec2d-5715-4d6f-de7f-1e10ec970c28",
        "colab": {
          "base_uri": "https://localhost:8080/"
        }
      },
      "execution_count": 18,
      "outputs": [
        {
          "output_type": "stream",
          "name": "stdout",
          "text": [
            "Logistic Regression Average Prediction Score:  74.26 %\n",
            "Random Forest Average Prediction Score:  71.89 %\n"
          ]
        }
      ]
    },
    {
      "cell_type": "markdown",
      "source": [
        "# Confusion Matrix Visual\n",
        "\n",
        "Confusion matrixes are used to evaluate the performance in classifying diabetic and non-diabetic individuals. Here we look at the Logistic Regression model, because it proved to be more accurate. More importantly, it had less false-negative outcomes compared to the random forest model (4101 vs 4297)."
      ],
      "metadata": {
        "tags": [],
        "id": "V2cxJQzPMdeR"
      }
    },
    {
      "cell_type": "code",
      "source": [
        "# Plot confusion matrix\n",
        "graph_confusion_matrix = ConfusionMatrixDisplay.from_predictions(y_log_test, y_pred_log)"
      ],
      "metadata": {
        "tags": [],
        "jupyter": {
          "source_hidden": true
        },
        "execution": {
          "iopub.status.busy": "2024-03-16T22:13:09.765791Z",
          "iopub.status.idle": "2024-03-16T22:13:09.766486Z",
          "shell.execute_reply.started": "2024-03-16T22:13:09.766077Z",
          "shell.execute_reply": "2024-03-16T22:13:09.766203Z"
        },
        "trusted": true,
        "id": "zoO9XUoIMdeR",
        "outputId": "04366445-59da-4018-8ea5-5631ac86a4ea",
        "colab": {
          "base_uri": "https://localhost:8080/",
          "height": 449
        }
      },
      "execution_count": 19,
      "outputs": [
        {
          "output_type": "display_data",
          "data": {
            "text/plain": [
              "<Figure size 640x480 with 2 Axes>"
            ],
            "image/png": "[encoded data removed]"
          },
          "metadata": {}
        }
      ]
    },
    {
      "cell_type": "markdown",
      "source": [
        "# Watermark\n",
        "\n",
        "Dependences to record the computational environment for reproducability."
      ],
      "metadata": {
        "id": "JqWCuy5lZ-Fe"
      }
    },
    {
      "cell_type": "code",
      "source": [
        "# install and load watermark extension\n",
        "!pip --quiet install watermark\n",
        "%load_ext watermark\n",
        "\n",
        "# time stamp\n",
        "%watermark -untz\n",
        "# python, ipython, packages and machine characteristics\n",
        "%watermark -v -m\n",
        "%watermark -iv -p watermark\n",
        "\n",
        "# author, github repo\n",
        "%watermark -a \"Joseph Curtis\" -gu \"joseph-curtis\""
      ],
      "metadata": {
        "id": "ocrwtUdFZt_O",
        "outputId": "d90179ed-7b19-4937-d2c4-7e800eee2391",
        "colab": {
          "base_uri": "https://localhost:8080/"
        }
      },
      "execution_count": 20,
      "outputs": [
        {
          "output_type": "stream",
          "name": "stdout",
          "text": [
            "Last updated: Mon Mar 18 2024 07:36:32UTC\n",
            "\n",
            "Python implementation: CPython\n",
            "Python version       : 3.10.12\n",
            "IPython version      : 7.34.0\n",
            "\n",
            "Compiler    : GCC 11.4.0\n",
            "OS          : Linux\n",
            "Release     : 6.1.58+\n",
            "Machine     : x86_64\n",
            "Processor   : x86_64\n",
            "CPU cores   : 2\n",
            "Architecture: 64bit\n",
            "\n",
            "watermark: 2.4.3\n",
            "\n",
            "seaborn   : 0.13.1\n",
            "sys       : 3.10.12 (main, Nov 20 2023, 15:14:05) [GCC 11.4.0]\n",
            "tarfile   : 0.9.0\n",
            "matplotlib: 3.7.1\n",
            "pandas    : 1.5.3\n",
            "ipywidgets: 7.7.1\n",
            "joblib    : 1.3.2\n",
            "numpy     : 1.25.2\n",
            "sklearn   : 1.2.2\n",
            "\n",
            "Author: Joseph Curtis\n",
            "\n",
            "Github username: joseph-curtis\n",
            "\n"
          ]
        }
      ]
    }
  ]
}