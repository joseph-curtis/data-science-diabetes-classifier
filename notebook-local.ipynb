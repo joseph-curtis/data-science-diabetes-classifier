{
 "cells": [
  {
   "cell_type": "markdown",
   "metadata": {
    "tags": []
   },
   "source": [
    "<a href=\"https://mybinder.org/v2/gh/joseph-curtis/data-science-diabetes-classifier.git/HEAD?labpath=notebook-local.ipynb\" target=\"_blank\"><img align=\"left\" alt=\"Binder\" title=\"Open in Binder\" width=\"164\" height=\"30\" src=\"https://mybinder.org/badge_logo.svg\" /></a>"
   ]
  },
  {
   "cell_type": "markdown",
   "metadata": {},
   "source": [
    "# At-Risk Diabetes Classifier\n",
    "\n",
    "**Author:** Joseph Curtis\n",
    "\n",
    "# Overview\n",
    "\n",
    "This notebook presents the At-Risk Diabetes Classifier, a machine learning project aimed at identifying individuals at risk of diabetes based on a variety of health indicators. By analyzing a dataset with features such as BMI, age, smoking status, physical activity, and more, we develop and train a supervised model to predict the likelihood of diabetes.\n",
    "\n",
    "The project demonstrates:\n",
    "- Data preprocessing and cleaning techniques.\n",
    "- Exploratory data analysis (EDA) to understand the relationships within the data.\n",
    "- Feature selection and engineering to prepare the data for modeling.\n",
    "- Evaluation and comparison of different machine learning models, including Logistic Regression and Random Forest, to find the most effective predictor of diabetes risk.\n",
    "\n",
    "This work is part of an ongoing exploration into how data science can be applied to healthcare data to predict disease risk and support early intervention strategies.\n",
    "\n",
    "For more information, source code, and related resources, please visit the project's GitHub repository at [github.com/joseph-curtis](https://github.com/joseph-curtis/data-science-diabetes-classifier)\n",
    "\n",
    "- <a href=\"https://github.com/joseph-curtis/data-science-diabetes-classifier\" target=\"_blank\"><img align=\"left\" alt=\"Github\" title=\"Open in Github\" width=\"144\" height=\"42\" src=\"https://img.shields.io/badge/GitHub-372a4a?style=for-the-badge&logo=github&logoColor=white\" /></a>"
   ]
  },
  {
   "cell_type": "markdown",
   "metadata": {},
   "source": [
    "# Data Preparation and Initial Analysis\n",
    "\n",
    "Here we focus on preparing and analyzing health indicator data for diabetes from the years 2015 and 2021. The goal is to combine these datasets to form a comprehensive view of the data, which can later be used for machine learning modeling. The following steps are taken:\n",
    "\n",
    "1. Import Libraries\n",
    "2. Load the Data\n",
    "3. Combine the DataFrames\n",
    "4. Rename the column 'Diabetes_binary' for brevity"
   ]
  },
  {
   "cell_type": "code",
   "execution_count": 1,
   "metadata": {
    "jupyter": {
     "source_hidden": true
    }
   },
   "outputs": [
    {
     "data": {
      "text/plain": [
       "(   Diabetes  HighBP  HighChol  CholCheck   BMI  Smoker  Stroke  \\\n",
       " 0       0.0     1.0       0.0        1.0  26.0     0.0     0.0   \n",
       " 1       0.0     1.0       1.0        1.0  26.0     1.0     1.0   \n",
       " 2       0.0     0.0       0.0        1.0  26.0     0.0     0.0   \n",
       " 3       0.0     1.0       1.0        1.0  28.0     1.0     0.0   \n",
       " 4       0.0     0.0       0.0        1.0  29.0     1.0     0.0   \n",
       " \n",
       "    HeartDiseaseorAttack  PhysActivity  Fruits  ...  AnyHealthcare  \\\n",
       " 0                   0.0           1.0     0.0  ...            1.0   \n",
       " 1                   0.0           0.0     1.0  ...            1.0   \n",
       " 2                   0.0           1.0     1.0  ...            1.0   \n",
       " 3                   0.0           1.0     1.0  ...            1.0   \n",
       " 4                   0.0           1.0     1.0  ...            1.0   \n",
       " \n",
       "    NoDocbcCost  GenHlth  MentHlth  PhysHlth  DiffWalk  Sex   Age  Education  \\\n",
       " 0          0.0      3.0       5.0      30.0       0.0  1.0   4.0        6.0   \n",
       " 1          0.0      3.0       0.0       0.0       0.0  1.0  12.0        6.0   \n",
       " 2          0.0      1.0       0.0      10.0       0.0  1.0  13.0        6.0   \n",
       " 3          0.0      3.0       0.0       3.0       0.0  1.0  11.0        6.0   \n",
       " 4          0.0      2.0       0.0       0.0       0.0  0.0   8.0        5.0   \n",
       " \n",
       "    Income  \n",
       " 0     8.0  \n",
       " 1     8.0  \n",
       " 2     8.0  \n",
       " 3     8.0  \n",
       " 4     8.0  \n",
       " \n",
       " [5 rows x 22 columns],\n",
       " (137828, 22))"
      ]
     },
     "execution_count": 1,
     "metadata": {},
     "output_type": "execute_result"
    }
   ],
   "source": [
    "# import Libraries\n",
    "import matplotlib.pyplot as plt\n",
    "import numpy as np\n",
    "import pandas as pd\n",
    "import seaborn as sns\n",
    "from IPython.display import display\n",
    "from matplotlib import pyplot\n",
    "from pandas.plotting import scatter_matrix\n",
    "from sklearn import linear_model, metrics, model_selection\n",
    "from sklearn.ensemble import RandomForestClassifier\n",
    "from sklearn.linear_model import LogisticRegression\n",
    "from sklearn.metrics import (\n",
    "    ConfusionMatrixDisplay,\n",
    "    accuracy_score,\n",
    "    classification_report,\n",
    "    confusion_matrix,\n",
    ")\n",
    "from sklearn.model_selection import KFold, cross_val_score, train_test_split\n",
    "from sklearn.preprocessing import MinMaxScaler\n",
    "\n",
    "# file names and urls\n",
    "filepath_2015 = \"data/BRFSS2015.csv\"\n",
    "filepath_2021 = \"data/BRFSS2021.csv\"\n",
    "df1 = pd.read_csv(filepath_2015)\n",
    "df2 = pd.read_csv(filepath_2021)\n",
    "\n",
    "# Combine the two DataFrames\n",
    "combined_df = pd.concat([df1, df2], axis=0).reset_index(drop=True)\n",
    "\n",
    "# Rename the 'Diabetes_binary' column to 'Diabetes'\n",
    "combined_df.rename(columns={\"Diabetes_binary\": \"Diabetes\"}, inplace=True)\n",
    "\n",
    "# Display the first few rows of the combined dataframe\n",
    "# and its shape to verify the combination\n",
    "combined_df_info = combined_df.head(), combined_df.shape\n",
    "\n",
    "combined_df_info  # output"
   ]
  },
  {
   "cell_type": "markdown",
   "metadata": {},
   "source": [
    "# Removing Features\n",
    "\n",
    "Here we remove features deemed irrelevant for modeling purposes. We specify a list of columns to be removed and then drop these columns from the combined DataFrame.\n",
    "\n",
    "We reverse the values of the \"General Health\" feature to make it more clear to the audience when graphed. This makes a value of 5 = \"excellent\" and value of 1 = \"poor\"."
   ]
  },
  {
   "cell_type": "code",
   "execution_count": 2,
   "metadata": {},
   "outputs": [
    {
     "data": {
      "text/html": [
       "<div>\n",
       "<style scoped>\n",
       "    .dataframe tbody tr th:only-of-type {\n",
       "        vertical-align: middle;\n",
       "    }\n",
       "\n",
       "    .dataframe tbody tr th {\n",
       "        vertical-align: top;\n",
       "    }\n",
       "\n",
       "    .dataframe thead th {\n",
       "        text-align: right;\n",
       "    }\n",
       "</style>\n",
       "<table border=\"1\" class=\"dataframe\">\n",
       "  <thead>\n",
       "    <tr style=\"text-align: right;\">\n",
       "      <th></th>\n",
       "      <th>Diabetes</th>\n",
       "      <th>HighBP</th>\n",
       "      <th>HighChol</th>\n",
       "      <th>BMI</th>\n",
       "      <th>Smoker</th>\n",
       "      <th>Stroke</th>\n",
       "      <th>HeartDiseaseorAttack</th>\n",
       "      <th>PhysActivity</th>\n",
       "      <th>Fruits</th>\n",
       "      <th>Veggies</th>\n",
       "      <th>HvyAlcoholConsump</th>\n",
       "      <th>GenHlth</th>\n",
       "      <th>MentHlth</th>\n",
       "      <th>PhysHlth</th>\n",
       "      <th>DiffWalk</th>\n",
       "      <th>Sex</th>\n",
       "      <th>Age</th>\n",
       "    </tr>\n",
       "  </thead>\n",
       "  <tbody>\n",
       "    <tr>\n",
       "      <th>0</th>\n",
       "      <td>0.0</td>\n",
       "      <td>1.0</td>\n",
       "      <td>0.0</td>\n",
       "      <td>26.0</td>\n",
       "      <td>0.0</td>\n",
       "      <td>0.0</td>\n",
       "      <td>0.0</td>\n",
       "      <td>1.0</td>\n",
       "      <td>0.0</td>\n",
       "      <td>1.0</td>\n",
       "      <td>0.0</td>\n",
       "      <td>3.0</td>\n",
       "      <td>5.0</td>\n",
       "      <td>30.0</td>\n",
       "      <td>0.0</td>\n",
       "      <td>1.0</td>\n",
       "      <td>4.0</td>\n",
       "    </tr>\n",
       "    <tr>\n",
       "      <th>1</th>\n",
       "      <td>0.0</td>\n",
       "      <td>1.0</td>\n",
       "      <td>1.0</td>\n",
       "      <td>26.0</td>\n",
       "      <td>1.0</td>\n",
       "      <td>1.0</td>\n",
       "      <td>0.0</td>\n",
       "      <td>0.0</td>\n",
       "      <td>1.0</td>\n",
       "      <td>0.0</td>\n",
       "      <td>0.0</td>\n",
       "      <td>3.0</td>\n",
       "      <td>0.0</td>\n",
       "      <td>0.0</td>\n",
       "      <td>0.0</td>\n",
       "      <td>1.0</td>\n",
       "      <td>12.0</td>\n",
       "    </tr>\n",
       "    <tr>\n",
       "      <th>2</th>\n",
       "      <td>0.0</td>\n",
       "      <td>0.0</td>\n",
       "      <td>0.0</td>\n",
       "      <td>26.0</td>\n",
       "      <td>0.0</td>\n",
       "      <td>0.0</td>\n",
       "      <td>0.0</td>\n",
       "      <td>1.0</td>\n",
       "      <td>1.0</td>\n",
       "      <td>1.0</td>\n",
       "      <td>0.0</td>\n",
       "      <td>5.0</td>\n",
       "      <td>0.0</td>\n",
       "      <td>10.0</td>\n",
       "      <td>0.0</td>\n",
       "      <td>1.0</td>\n",
       "      <td>13.0</td>\n",
       "    </tr>\n",
       "    <tr>\n",
       "      <th>3</th>\n",
       "      <td>0.0</td>\n",
       "      <td>1.0</td>\n",
       "      <td>1.0</td>\n",
       "      <td>28.0</td>\n",
       "      <td>1.0</td>\n",
       "      <td>0.0</td>\n",
       "      <td>0.0</td>\n",
       "      <td>1.0</td>\n",
       "      <td>1.0</td>\n",
       "      <td>1.0</td>\n",
       "      <td>0.0</td>\n",
       "      <td>3.0</td>\n",
       "      <td>0.0</td>\n",
       "      <td>3.0</td>\n",
       "      <td>0.0</td>\n",
       "      <td>1.0</td>\n",
       "      <td>11.0</td>\n",
       "    </tr>\n",
       "    <tr>\n",
       "      <th>4</th>\n",
       "      <td>0.0</td>\n",
       "      <td>0.0</td>\n",
       "      <td>0.0</td>\n",
       "      <td>29.0</td>\n",
       "      <td>1.0</td>\n",
       "      <td>0.0</td>\n",
       "      <td>0.0</td>\n",
       "      <td>1.0</td>\n",
       "      <td>1.0</td>\n",
       "      <td>1.0</td>\n",
       "      <td>0.0</td>\n",
       "      <td>4.0</td>\n",
       "      <td>0.0</td>\n",
       "      <td>0.0</td>\n",
       "      <td>0.0</td>\n",
       "      <td>0.0</td>\n",
       "      <td>8.0</td>\n",
       "    </tr>\n",
       "  </tbody>\n",
       "</table>\n",
       "</div>"
      ],
      "text/plain": [
       "   Diabetes  HighBP  HighChol   BMI  Smoker  Stroke  HeartDiseaseorAttack  \\\n",
       "0       0.0     1.0       0.0  26.0     0.0     0.0                   0.0   \n",
       "1       0.0     1.0       1.0  26.0     1.0     1.0                   0.0   \n",
       "2       0.0     0.0       0.0  26.0     0.0     0.0                   0.0   \n",
       "3       0.0     1.0       1.0  28.0     1.0     0.0                   0.0   \n",
       "4       0.0     0.0       0.0  29.0     1.0     0.0                   0.0   \n",
       "\n",
       "   PhysActivity  Fruits  Veggies  HvyAlcoholConsump  GenHlth  MentHlth  \\\n",
       "0           1.0     0.0      1.0                0.0      3.0       5.0   \n",
       "1           0.0     1.0      0.0                0.0      3.0       0.0   \n",
       "2           1.0     1.0      1.0                0.0      5.0       0.0   \n",
       "3           1.0     1.0      1.0                0.0      3.0       0.0   \n",
       "4           1.0     1.0      1.0                0.0      4.0       0.0   \n",
       "\n",
       "   PhysHlth  DiffWalk  Sex   Age  \n",
       "0      30.0       0.0  1.0   4.0  \n",
       "1       0.0       0.0  1.0  12.0  \n",
       "2      10.0       0.0  1.0  13.0  \n",
       "3       3.0       0.0  1.0  11.0  \n",
       "4       0.0       0.0  0.0   8.0  "
      ]
     },
     "execution_count": 2,
     "metadata": {},
     "output_type": "execute_result"
    }
   ],
   "source": [
    "# Remove irrelevant features from the combined dataset\n",
    "columns_to_remove = [\"CholCheck\", \"AnyHealthcare\", \"NoDocbcCost\", \"Education\", \"Income\"]\n",
    "reduced_df = combined_df.drop(columns=columns_to_remove)\n",
    "\n",
    "# Reverse the values of 'GenHlth'\n",
    "reduced_df[\"GenHlth\"] = 6 - reduced_df[\"GenHlth\"]\n",
    "\n",
    "# Display the first few rows of the reduced dataframe to verify the removal\n",
    "reduced_df.head()"
   ]
  },
  {
   "cell_type": "markdown",
   "metadata": {},
   "source": [
    "# Check for Missing Values\n",
    "\n",
    "Here we check for missing values in the combined dataset. Note there are *NO* missing values found."
   ]
  },
  {
   "cell_type": "code",
   "execution_count": 3,
   "metadata": {},
   "outputs": [
    {
     "data": {
      "text/plain": [
       "Diabetes                0\n",
       "HighBP                  0\n",
       "HighChol                0\n",
       "BMI                     0\n",
       "Smoker                  0\n",
       "Stroke                  0\n",
       "HeartDiseaseorAttack    0\n",
       "PhysActivity            0\n",
       "Fruits                  0\n",
       "Veggies                 0\n",
       "HvyAlcoholConsump       0\n",
       "GenHlth                 0\n",
       "MentHlth                0\n",
       "PhysHlth                0\n",
       "DiffWalk                0\n",
       "Sex                     0\n",
       "Age                     0\n",
       "dtype: int64"
      ]
     },
     "execution_count": 3,
     "metadata": {},
     "output_type": "execute_result"
    }
   ],
   "source": [
    "# Check for missing values in the reduced dataset\n",
    "missing_values = reduced_df.isnull().sum()\n",
    "\n",
    "missing_values  ## no missing values found"
   ]
  },
  {
   "cell_type": "markdown",
   "metadata": {},
   "source": [
    "# Data Type Optimization Analysis\n",
    "\n",
    "Here we perform a preliminary analysis aimed at optimizing data storage and processing efficiency by examining the range of values for selected features within the reduced dataset. Here we see that all numerical values are well within the range of an 8-bit integer (this dataset has no numbers with decimal values).\n",
    "\n",
    "We also calculate the memory used before we adjust the data types-- this is our baseline for memory usage."
   ]
  },
  {
   "cell_type": "code",
   "execution_count": 4,
   "metadata": {},
   "outputs": [
    {
     "data": {
      "text/html": [
       "<div>\n",
       "<style scoped>\n",
       "    .dataframe tbody tr th:only-of-type {\n",
       "        vertical-align: middle;\n",
       "    }\n",
       "\n",
       "    .dataframe tbody tr th {\n",
       "        vertical-align: top;\n",
       "    }\n",
       "\n",
       "    .dataframe thead th {\n",
       "        text-align: right;\n",
       "    }\n",
       "</style>\n",
       "<table border=\"1\" class=\"dataframe\">\n",
       "  <thead>\n",
       "    <tr style=\"text-align: right;\">\n",
       "      <th></th>\n",
       "      <th>BMI</th>\n",
       "      <th>GenHlth</th>\n",
       "      <th>MentHlth</th>\n",
       "      <th>PhysHlth</th>\n",
       "      <th>Age</th>\n",
       "    </tr>\n",
       "  </thead>\n",
       "  <tbody>\n",
       "    <tr>\n",
       "      <th>min</th>\n",
       "      <td>12.0</td>\n",
       "      <td>1.0</td>\n",
       "      <td>0.0</td>\n",
       "      <td>0.0</td>\n",
       "      <td>1.0</td>\n",
       "    </tr>\n",
       "    <tr>\n",
       "      <th>max</th>\n",
       "      <td>99.0</td>\n",
       "      <td>5.0</td>\n",
       "      <td>30.0</td>\n",
       "      <td>30.0</td>\n",
       "      <td>13.0</td>\n",
       "    </tr>\n",
       "  </tbody>\n",
       "</table>\n",
       "</div>"
      ],
      "text/plain": [
       "      BMI  GenHlth  MentHlth  PhysHlth   Age\n",
       "min  12.0      1.0       0.0       0.0   1.0\n",
       "max  99.0      5.0      30.0      30.0  13.0"
      ]
     },
     "execution_count": 4,
     "metadata": {},
     "output_type": "execute_result"
    }
   ],
   "source": [
    "# Check range of values of specified features to determine suitable data types\n",
    "features_to_optimize = [\"BMI\", \"GenHlth\", \"MentHlth\", \"PhysHlth\", \"Age\"]\n",
    "data_types_optimization = (\n",
    "    reduced_df[features_to_optimize].describe().loc[[\"min\", \"max\"]]\n",
    ")\n",
    "\n",
    "# Memory used before reducing data types\n",
    "memory_before = reduced_df.memory_usage(index=True).sum()\n",
    "\n",
    "data_types_optimization"
   ]
  },
  {
   "cell_type": "markdown",
   "metadata": {},
   "source": [
    "# Data Type Conversion for Efficiency\n",
    "\n",
    "We enhance the dataset's memory efficiency by converting specified binary columns to boolean data types. We print the memory usage before and after the operation to demonstrate the effectiveness of this optimization in reducing the dataset's memory consumption."
   ]
  },
  {
   "cell_type": "code",
   "execution_count": 5,
   "metadata": {
    "jupyter": {
     "source_hidden": true
    }
   },
   "outputs": [
    {
     "name": "stdout",
     "output_type": "stream",
     "text": [
      "Dataframe memory used before: 18744740\n",
      "Dataframe memory used after:   2756692\n"
     ]
    }
   ],
   "source": [
    "# scale data types down to reduce memory footprint\n",
    "reduced_df[\"BMI\"] = reduced_df[\"BMI\"].astype(\"float32\")\n",
    "reduced_df[\"GenHlth\"] = reduced_df[\"GenHlth\"].astype(\"int8\")\n",
    "reduced_df[\"MentHlth\"] = reduced_df[\"MentHlth\"].astype(\"int8\")\n",
    "reduced_df[\"PhysHlth\"] = reduced_df[\"PhysHlth\"].astype(\"int8\")\n",
    "reduced_df[\"Age\"] = reduced_df[\"Age\"].astype(\"int8\")\n",
    "\n",
    "# convert 1/0 binary columns to boolean values\n",
    "binary_columns = [\n",
    "    \"Diabetes\",\n",
    "    \"HighBP\",\n",
    "    \"HighChol\",\n",
    "    \"Smoker\",\n",
    "    \"Stroke\",\n",
    "    \"HeartDiseaseorAttack\",\n",
    "    \"PhysActivity\",\n",
    "    \"Fruits\",\n",
    "    \"Veggies\",\n",
    "    \"HvyAlcoholConsump\",\n",
    "    \"DiffWalk\",\n",
    "    \"Sex\",\n",
    "]\n",
    "for column in binary_columns:\n",
    "    reduced_df[column] = reduced_df[column].astype(\"bool\")\n",
    "\n",
    "# memory size after data type reduction\n",
    "memory_after = reduced_df.memory_usage(index=True).sum()\n",
    "\n",
    "print(\"Dataframe memory used before:\", memory_before)\n",
    "print(\"Dataframe memory used after:  \", memory_after)"
   ]
  },
  {
   "cell_type": "markdown",
   "metadata": {},
   "source": [
    "# Data Exploration\n",
    "\n",
    "Next we generate some visuals to explore some possible relationships in the data. We will look at Histograms and Scatterplots."
   ]
  },
  {
   "cell_type": "markdown",
   "metadata": {},
   "source": [
    "# Histogram Figure 1.a\n",
    "\n",
    "Here we generate a histogram that compares the distribution of general health ratings (GenHlth) between individuals with and without diabetes (Diabetes status) in the dataset. For each group, we display the frequency of respondents across five health rating categories, ranging from poor to excellent health, after these ratings have been reversed so that higher numbers indicate better health. The histogram for individuals without diabetes is shown in blue, while the histogram for those with diabetes is in orange, allowing for a visual comparison of how general health perceptions differ between these two groups. This visualization aids in understanding whether there's a noticeable difference in self-reported general health status among individuals based on their diabetes condition."
   ]
  },
  {
   "cell_type": "code",
   "execution_count": 6,
   "metadata": {
    "jupyter": {
     "source_hidden": true
    },
    "tags": []
   },
   "outputs": [
    {
     "data": {
      "image/png": "[encoded data removed]",
      "text/plain": [
       "<Figure size 640x480 with 1 Axes>"
      ]
     },
     "metadata": {},
     "output_type": "display_data"
    }
   ],
   "source": [
    "# Filter the dataset by Diabetes status\n",
    "gen_health_no_diabetes = reduced_df[reduced_df[\"Diabetes\"] == False][\"GenHlth\"]\n",
    "gen_health_with_diabetes = reduced_df[reduced_df[\"Diabetes\"] == True][\"GenHlth\"]\n",
    "\n",
    "# Plot histograms\n",
    "plt.hist(\n",
    "    gen_health_no_diabetes, bins=5, alpha=0.5, label=\"No Diabetes\", edgecolor=\"black\"\n",
    ")\n",
    "plt.hist(\n",
    "    gen_health_with_diabetes, bins=5, alpha=0.5, label=\"Diabetes\", edgecolor=\"black\"\n",
    ")\n",
    "\n",
    "# Add legend\n",
    "plt.legend()\n",
    "\n",
    "# Add titles and labels as needed\n",
    "plt.title(\"General Health by Diabetes Status\")\n",
    "plt.xlabel(\"General Health Rating\")\n",
    "plt.ylabel(\"Frequency\")\n",
    "\n",
    "# Set x-axis to display integer values from 1 to 5\n",
    "plt.xticks(range(1, 6))\n",
    "\n",
    "# Show the plot\n",
    "plt.show()"
   ]
  },
  {
   "cell_type": "markdown",
   "metadata": {},
   "source": [
    "# Histogram Figure 1.b\n",
    "\n",
    "Analysis of physical health comparing diabetics to non-diabetics. "
   ]
  },
  {
   "cell_type": "code",
   "execution_count": 7,
   "metadata": {
    "jupyter": {
     "source_hidden": true
    },
    "tags": []
   },
   "outputs": [
    {
     "data": {
      "image/png": "[encoded data removed]",
      "text/plain": [
       "<Figure size 640x480 with 1 Axes>"
      ]
     },
     "metadata": {},
     "output_type": "display_data"
    }
   ],
   "source": [
    "# Filter the dataset by Diabetes status\n",
    "phys_health_no_diabetes = reduced_df[reduced_df[\"Diabetes\"] == False][\"PhysHlth\"]\n",
    "phys_health_with_diabetes = reduced_df[reduced_df[\"Diabetes\"] == True][\"PhysHlth\"]\n",
    "\n",
    "# Plot histograms\n",
    "plt.hist(\n",
    "    phys_health_no_diabetes, alpha=0.5, label=\"No Diabetes\", bins=6, edgecolor=\"black\"\n",
    ")\n",
    "plt.hist(\n",
    "    phys_health_with_diabetes, alpha=0.5, label=\"Diabetes\", bins=6, edgecolor=\"black\"\n",
    ")\n",
    "\n",
    "# Add legend\n",
    "plt.legend()\n",
    "\n",
    "# Add titles and labels as needed\n",
    "plt.title(\"Physical Health by Diabetes Status\")\n",
    "plt.xlabel(\"Poor Physical Health Days\")\n",
    "plt.ylabel(\"Frequency\")\n",
    "\n",
    "# Show the plot\n",
    "plt.show()"
   ]
  },
  {
   "cell_type": "markdown",
   "metadata": {
    "tags": []
   },
   "source": [
    "# Histogram Figure 1.c\n",
    "\n",
    "Analysis of mental health comparing diabetics to non-diabetics. "
   ]
  },
  {
   "cell_type": "code",
   "execution_count": 8,
   "metadata": {
    "jupyter": {
     "source_hidden": true
    },
    "tags": []
   },
   "outputs": [
    {
     "data": {
      "image/png": "[encoded data removed]",
      "text/plain": [
       "<Figure size 640x480 with 1 Axes>"
      ]
     },
     "metadata": {},
     "output_type": "display_data"
    }
   ],
   "source": [
    "# Filter the dataset by Diabetes status\n",
    "phys_health_no_diabetes = reduced_df[reduced_df[\"Diabetes\"] == False][\"MentHlth\"]\n",
    "phys_health_with_diabetes = reduced_df[reduced_df[\"Diabetes\"] == True][\"MentHlth\"]\n",
    "\n",
    "# Plot histograms\n",
    "plt.hist(\n",
    "    phys_health_no_diabetes, alpha=0.5, label=\"No Diabetes\", bins=6, edgecolor=\"black\"\n",
    ")\n",
    "plt.hist(\n",
    "    phys_health_with_diabetes, alpha=0.5, label=\"Diabetes\", bins=6, edgecolor=\"black\"\n",
    ")\n",
    "\n",
    "# Add legend\n",
    "plt.legend()\n",
    "\n",
    "# Add titles and labels as needed\n",
    "plt.title(\"Mental Health by Diabetes Status\")\n",
    "plt.xlabel(\"Poor Mental Health Days\")\n",
    "plt.ylabel(\"Frequency\")\n",
    "\n",
    "# Show the plot\n",
    "plt.show()"
   ]
  },
  {
   "cell_type": "markdown",
   "metadata": {},
   "source": [
    "# Histogram Figure 1.d\n",
    "\n",
    "## Age distribution\n",
    "\n",
    "Here we provide a visual distribution analysis of the Age feature. Of note, the data was collected using a 13-level age category where 1 = 18-24, 9 = 60-64, and 13 = 80 or older."
   ]
  },
  {
   "cell_type": "code",
   "execution_count": 9,
   "metadata": {
    "jupyter": {
     "source_hidden": true
    },
    "tags": []
   },
   "outputs": [
    {
     "data": {
      "image/png": "[encoded data removed]",
      "text/plain": [
       "<Figure size 640x480 with 1 Axes>"
      ]
     },
     "metadata": {},
     "output_type": "display_data"
    }
   ],
   "source": [
    "# Plot Age histogram\n",
    "graph_histograms = reduced_df.hist(column=\"Age\", grid=True, bins=13)\n",
    "\n",
    "# Calculate the tick positions for 13 bins\n",
    "tick_positions = range(1, 14)\n",
    "\n",
    "# Set the x-axis ticks\n",
    "plt.xticks(tick_positions)\n",
    "\n",
    "# Optionally, set x-axis and y-axis labels\n",
    "plt.xlabel(\"Age Category\")\n",
    "plt.ylabel(\"Frequency\")\n",
    "\n",
    "# Show the plot\n",
    "plt.show()"
   ]
  },
  {
   "cell_type": "markdown",
   "metadata": {},
   "source": [
    "# Scatterplot figure 2.a\n",
    "\n",
    "### BMI over Age\n",
    "\n",
    "Here we see that diabetics have a higher BMI on average."
   ]
  },
  {
   "cell_type": "code",
   "execution_count": 10,
   "metadata": {
    "jupyter": {
     "source_hidden": true
    },
    "tags": []
   },
   "outputs": [
    {
     "data": {
      "text/plain": [
       "<seaborn.axisgrid.FacetGrid at 0x1b4969dbf50>"
      ]
     },
     "execution_count": 10,
     "metadata": {},
     "output_type": "execute_result"
    },
    {
     "data": {
      "image/png": "[encoded data removed]",
      "text/plain": [
       "<Figure size 1084.88x500 with 2 Axes>"
      ]
     },
     "metadata": {},
     "output_type": "display_data"
    }
   ],
   "source": [
    "# Copy the DataFrame to avoid modifying the original data\n",
    "plot_df = reduced_df.copy()\n",
    "\n",
    "# Map True/False to Male/Female\n",
    "plot_df[\"Sex\"] = plot_df[\"Sex\"].map({True: \"Male\", False: \"Female\"})\n",
    "\n",
    "# Age/BMI Scatterplot\n",
    "sns.lmplot(\n",
    "    data=plot_df,\n",
    "    x=\"Age\",\n",
    "    y=\"BMI\",\n",
    "    col=\"Sex\",\n",
    "    hue=\"Diabetes\",\n",
    "    x_bins=1000,\n",
    "    fit_reg=False,\n",
    ")"
   ]
  },
  {
   "cell_type": "markdown",
   "metadata": {},
   "source": [
    "# Scatterplot figure 2.b\n",
    "\n",
    "### General Health over Age\n",
    "\n",
    "The general health indicator is actually reversed; a score of 5 is poor, a score of 1 is excellent. Here we see that diabetics have poorer general health. We also see a trend in healthy people where the older one gets, the poorer their overall health. Diabetics do not show this trend."
   ]
  },
  {
   "cell_type": "code",
   "execution_count": 11,
   "metadata": {
    "jupyter": {
     "source_hidden": true
    },
    "tags": []
   },
   "outputs": [
    {
     "data": {
      "text/plain": [
       "<seaborn.axisgrid.FacetGrid at 0x1b4997da010>"
      ]
     },
     "execution_count": 11,
     "metadata": {},
     "output_type": "execute_result"
    },
    {
     "data": {
      "image/png": "[encoded data removed]",
      "text/plain": [
       "<Figure size 584.875x500 with 1 Axes>"
      ]
     },
     "metadata": {},
     "output_type": "display_data"
    }
   ],
   "source": [
    "# Age/General-Health Scatterplot\n",
    "sns.lmplot(data=reduced_df, x=\"Age\", y=\"GenHlth\", hue=\"Diabetes\", x_bins=1000)"
   ]
  },
  {
   "cell_type": "markdown",
   "metadata": {},
   "source": [
    "# Scatterplot figure 2.c\n",
    "\n",
    "### Physical Health as compared to Mental health\n",
    "\n",
    "Here we see a trend that the more days per month of poor mental health an individual has, the more days on average of physical health they will experience. Of note is diabetics have a similar distribution of poor mental health days, but significantly more days per month of poor physical health."
   ]
  },
  {
   "cell_type": "code",
   "execution_count": 12,
   "metadata": {
    "jupyter": {
     "source_hidden": true
    },
    "tags": []
   },
   "outputs": [
    {
     "data": {
      "text/plain": [
       "<seaborn.axisgrid.FacetGrid at 0x1b49775a350>"
      ]
     },
     "execution_count": 12,
     "metadata": {},
     "output_type": "execute_result"
    },
    {
     "data": {
      "image/png": "[encoded data removed]",
      "text/plain": [
       "<Figure size 584.875x500 with 1 Axes>"
      ]
     },
     "metadata": {},
     "output_type": "display_data"
    }
   ],
   "source": [
    "# Health Scatterplot\n",
    "sns.lmplot(data=reduced_df, x=\"MentHlth\", y=\"PhysHlth\", hue=\"Diabetes\", x_bins=1000)"
   ]
  },
  {
   "cell_type": "markdown",
   "metadata": {},
   "source": [
    "# Logistic Regression Model for Diabetes Prediction\n",
    "\n",
    "Here we prepare data for machine learning, specifically using a logistic regression model to predict diabetes. First, numerical columns are identified and scaled using MinMaxScaler to ensure all features contribute equally to the model without bias from varying scales. A logistic regression model is then initialized with specific parameters. The dataset is split into features (X_log) and the target variable (y_log). The data is further divided into training and test sets to evaluate the model's performance on unseen data.\n",
    "\n",
    "After training the logistic regression model, predictions are made on the test set. The model's effectiveness is assessed using accuracy, confusion matrix, and classification report, providing a comprehensive overview of its predictive capabilities in distinguishing between diabetic and non-diabetic individuals."
   ]
  },
  {
   "cell_type": "code",
   "execution_count": 13,
   "metadata": {
    "tags": []
   },
   "outputs": [
    {
     "name": "stdout",
     "output_type": "stream",
     "text": [
      "\n",
      "Logistic Regression (single) prediction results: \n",
      "\n",
      "Accuracy: 74.58 % \n",
      "\n",
      "Confusion Matrix:\n",
      "[[12556  4657]\n",
      " [ 4101 13143]] \n",
      "\n",
      "Classification Report:\n",
      "              precision    recall  f1-score   support\n",
      "\n",
      "       False       0.75      0.73      0.74     17213\n",
      "        True       0.74      0.76      0.75     17244\n",
      "\n",
      "    accuracy                           0.75     34457\n",
      "   macro avg       0.75      0.75      0.75     34457\n",
      "weighted avg       0.75      0.75      0.75     34457\n",
      "\n"
     ]
    }
   ],
   "source": [
    "# copy Dataframe for Logistic model\n",
    "log_df = reduced_df.copy(deep=True)\n",
    "\n",
    "# Selecting numerical columns (excluding binary/boolean columns)\n",
    "numerical_columns = [\"BMI\", \"GenHlth\", \"MentHlth\", \"PhysHlth\", \"Age\"]\n",
    "\n",
    "# Initialize the MinMaxScaler\n",
    "scaler = MinMaxScaler()\n",
    "\n",
    "# Fit and transform the numerical features\n",
    "log_df[numerical_columns] = scaler.fit_transform(log_df[numerical_columns])\n",
    "\n",
    "mylog_model = linear_model.LogisticRegression(solver=\"saga\", max_iter=1000)\n",
    "\n",
    "# 'X' is the feature set and 'y' is the target variable\n",
    "X_log = log_df.drop(\"Diabetes\", axis=1)\n",
    "y_log = log_df[\"Diabetes\"].astype(\"bool\")  # Ensuring the target is boolean\n",
    "\n",
    "# Splitting the dataset into the Training set and Test set\n",
    "X_log_train, X_log_test, y_log_train, y_log_test = model_selection.train_test_split(\n",
    "    X_log, y_log, test_size=0.25, random_state=42\n",
    ")\n",
    "\n",
    "# Train the model and output prediction of test data\n",
    "mylog_model.fit(X_log_train, y_log_train)\n",
    "y_pred_log = mylog_model.predict(X_log_test)\n",
    "\n",
    "# Evaluate the model\n",
    "accuracy_log = accuracy_score(y_log_test, y_pred_log)\n",
    "conf_matrix_log = confusion_matrix(y_log_test, y_pred_log)\n",
    "class_report_log = classification_report(y_log_test, y_pred_log)\n",
    "\n",
    "print(\"\\nLogistic Regression (single) prediction results:\", \"\\n\")\n",
    "print(f\"Accuracy: {round(accuracy_log*100,2)} %\", \"\\n\")\n",
    "print(\"Confusion Matrix:\")\n",
    "print(conf_matrix_log, \"\\n\")\n",
    "print(\"Classification Report:\")\n",
    "print(class_report_log)"
   ]
  },
  {
   "cell_type": "markdown",
   "metadata": {},
   "source": [
    "# Random Forest Model for Comparison\n",
    "\n",
    "Here we set up a second model using the Random Forest algorithm to compare with our Logistic Regression model. The steps are much the same as before, however we do not need to scale the numerical data."
   ]
  },
  {
   "cell_type": "code",
   "execution_count": 14,
   "metadata": {
    "tags": []
   },
   "outputs": [
    {
     "name": "stdout",
     "output_type": "stream",
     "text": [
      "\n",
      "Random Forest (single) prediction results: \n",
      "\n",
      "Accuracy: 72.13 % \n",
      "\n",
      "Confusion Matrix:\n",
      "[[11906  5307]\n",
      " [ 4297 12947]] \n",
      "\n",
      "Classification Report:\n",
      "              precision    recall  f1-score   support\n",
      "\n",
      "       False       0.73      0.69      0.71     17213\n",
      "        True       0.71      0.75      0.73     17244\n",
      "\n",
      "    accuracy                           0.72     34457\n",
      "   macro avg       0.72      0.72      0.72     34457\n",
      "weighted avg       0.72      0.72      0.72     34457\n",
      "\n"
     ]
    }
   ],
   "source": [
    "# 'X' is the set of features and 'y' is the target variable\n",
    "X_rf = reduced_df.drop(\"Diabetes\", axis=1)\n",
    "y_rf = reduced_df[\"Diabetes\"].astype(\"bool\")  # Ensuring the target is boolean\n",
    "\n",
    "# Splitting the dataset into the Training set and Test set\n",
    "X_rf_train, X_rf_test, y_rf_train, y_rf_test = train_test_split(\n",
    "    X_rf, y_rf, test_size=0.25, random_state=42\n",
    ")\n",
    "\n",
    "# Creating a Random Forest Classifier -- You can adjust parameters\n",
    "rf_classifier = RandomForestClassifier(n_estimators=100, random_state=42)\n",
    "\n",
    "# Fitting Random Forest to the Training set\n",
    "rf_classifier.fit(X_rf_train, y_rf_train)\n",
    "\n",
    "# Predicting the Test set results\n",
    "y_pred_rf = rf_classifier.predict(X_rf_test)\n",
    "\n",
    "accuracy_rf = accuracy_score(y_rf_test, y_pred_rf)\n",
    "conf_matrix_rf = confusion_matrix(y_rf_test, y_pred_rf)\n",
    "class_report_rf = classification_report(y_rf_test, y_pred_rf)\n",
    "\n",
    "# Evaluate the model\n",
    "print(\"\\nRandom Forest (single) prediction results:\", \"\\n\")\n",
    "print(f\"Accuracy: {round(accuracy_rf*100,2)} %\", \"\\n\")\n",
    "print(\"Confusion Matrix:\")\n",
    "print(conf_matrix_rf, \"\\n\")\n",
    "print(\"Classification Report:\")\n",
    "print(class_report_rf)"
   ]
  },
  {
   "cell_type": "markdown",
   "metadata": {},
   "source": [
    "# Cross-Validation of Models\n",
    "\n",
    "Next we perform a cross-validation process on the logistic regression and Random Forest models to verify their reliability across different subsets of the dataset. By utilizing the KFold method with 5 splits and shuffling enabled, the dataset is divided into distinct subsets to conduct multiple training and testing cycles. The average of these scores is calculated and displayed, offering a robust measure of the model's overall performance. This approach helps to ensure that the model's predictive accuracy is not overly dependent on any particular partition of the data, thereby increasing confidence in its generalizability."
   ]
  },
  {
   "cell_type": "code",
   "execution_count": 15,
   "metadata": {
    "jupyter": {
     "source_hidden": true
    },
    "tags": []
   },
   "outputs": [
    {
     "name": "stdout",
     "output_type": "stream",
     "text": [
      "Logistic Regression Average Prediction Score:  74.25 %\n",
      "Random Forest Average Prediction Score:  71.89 %\n"
     ]
    }
   ],
   "source": [
    "# Verify model by averaging different test/train splits\n",
    "k_folds = KFold(n_splits=5, shuffle=True)\n",
    "# The number of folds determines the test/train split for each iteration.\n",
    "# So 5 folds has 5 different mutually exclusive training sets.\n",
    "# That's a 1 to 4 (or .20 to .80) testing/training split for each of the 5 iterations.\n",
    "\n",
    "# This is the average score. Print 'scores' to see array of individual iteration scores.\n",
    "log_scores = cross_val_score(mylog_model, X_log, y_log)\n",
    "rf_scores = cross_val_score(rf_classifier, X_rf, y_rf)\n",
    "\n",
    "# Output average scores\n",
    "print(\n",
    "    \"Logistic Regression Average Prediction Score: \",\n",
    "    round(log_scores.mean() * 100, 2),\n",
    "    \"%\",\n",
    ")\n",
    "print(\"Random Forest Average Prediction Score: \", round(rf_scores.mean() * 100, 2), \"%\")"
   ]
  },
  {
   "cell_type": "markdown",
   "metadata": {
    "tags": []
   },
   "source": [
    "# Confusion Matrix Visual\n",
    "\n",
    "Confusion matrixes are used to evaluate the performance in classifying diabetic and non-diabetic individuals. Here we look at the Logistic Regression model, because it proved to be more accurate. More importantly, it had less false-negative outcomes compared to the random forest model (4101 vs 4297)."
   ]
  },
  {
   "cell_type": "code",
   "execution_count": 16,
   "metadata": {
    "jupyter": {
     "source_hidden": true
    },
    "tags": []
   },
   "outputs": [
    {
     "data": {
      "image/png": "[encoded data removed]",
      "text/plain": [
       "<Figure size 640x480 with 2 Axes>"
      ]
     },
     "metadata": {},
     "output_type": "display_data"
    }
   ],
   "source": [
    "# Plot confusion matrix\n",
    "graph_confusion_matrix = ConfusionMatrixDisplay.from_predictions(y_log_test, y_pred_log)"
   ]
  },
  {
   "cell_type": "markdown",
   "metadata": {},
   "source": [
    "# Patient Outcome Prediction\n",
    "\n",
    "This here is the objective of this project: to predict whether or not a patient is at risk of diabetes. The user enters the various health indicators, clicks the button and gets a prediction printed below."
   ]
  },
  {
   "cell_type": "code",
   "execution_count": 17,
   "metadata": {
    "jupyter": {
     "source_hidden": true
    }
   },
   "outputs": [
    {
     "data": {
      "application/vnd.jupyter.widget-view+json": {
       "model_id": "1e92fe1111c8457e8cfb7d338131382e",
       "version_major": 2,
       "version_minor": 0
      },
      "text/plain": [
       "RadioButtons(description='Sex : ', options={'Female': 0, 'Male': 1}, value=0)"
      ]
     },
     "metadata": {},
     "output_type": "display_data"
    },
    {
     "data": {
      "application/vnd.jupyter.widget-view+json": {
       "model_id": "4020a230264c4fa2951001e77be18ea2",
       "version_major": 2,
       "version_minor": 0
      },
      "text/plain": [
       "Label(value='Age category (1 = 18-24, 4 = 35-39, 8 = 55-59, 13 = 80 or older) :')"
      ]
     },
     "metadata": {},
     "output_type": "display_data"
    },
    {
     "data": {
      "application/vnd.jupyter.widget-view+json": {
       "model_id": "a90b2b54a8544cb483237a7eb2d310db",
       "version_major": 2,
       "version_minor": 0
      },
      "text/plain": [
       "FloatSlider(value=8.0, max=13.0, min=1.0, step=1.0)"
      ]
     },
     "metadata": {},
     "output_type": "display_data"
    },
    {
     "data": {
      "application/vnd.jupyter.widget-view+json": {
       "model_id": "b32fb218288242ce80c8ee191ec18cd1",
       "version_major": 2,
       "version_minor": 0
      },
      "text/plain": [
       "Label(value='Body Mass Index :')"
      ]
     },
     "metadata": {},
     "output_type": "display_data"
    },
    {
     "data": {
      "application/vnd.jupyter.widget-view+json": {
       "model_id": "4fe1b354d88942418a221ec51958ff3a",
       "version_major": 2,
       "version_minor": 0
      },
      "text/plain": [
       "FloatSlider(value=20.0, max=50.0, min=10.0)"
      ]
     },
     "metadata": {},
     "output_type": "display_data"
    },
    {
     "data": {
      "application/vnd.jupyter.widget-view+json": {
       "model_id": "a44b41d52e9249559c69064c90f76795",
       "version_major": 2,
       "version_minor": 0
      },
      "text/plain": [
       "RadioButtons(description='High Blood Pressure : ', options={'No': 0, 'Yes': 1}, value=0)"
      ]
     },
     "metadata": {},
     "output_type": "display_data"
    },
    {
     "data": {
      "application/vnd.jupyter.widget-view+json": {
       "model_id": "e4bded36ed284c46b5cb6336f3256cef",
       "version_major": 2,
       "version_minor": 0
      },
      "text/plain": [
       "RadioButtons(description='High Cholesterol : ', options={'No': 0, 'Yes': 1}, value=0)"
      ]
     },
     "metadata": {},
     "output_type": "display_data"
    },
    {
     "data": {
      "application/vnd.jupyter.widget-view+json": {
       "model_id": "6653ff52c6cd46b9b87190e0a4eef9ef",
       "version_major": 2,
       "version_minor": 0
      },
      "text/plain": [
       "RadioButtons(description='Have you smoked at least 100 cigarettes in your life? : ', options={'No': 0, 'Yes': …"
      ]
     },
     "metadata": {},
     "output_type": "display_data"
    },
    {
     "data": {
      "application/vnd.jupyter.widget-view+json": {
       "model_id": "b66b1448bce44b4899e9c0339769f7d7",
       "version_major": 2,
       "version_minor": 0
      },
      "text/plain": [
       "RadioButtons(description='Heavy drinkers (drinks <14 for men, <7 for women per week : ', options={'No': 0, 'Ye…"
      ]
     },
     "metadata": {},
     "output_type": "display_data"
    },
    {
     "data": {
      "application/vnd.jupyter.widget-view+json": {
       "model_id": "e846f370cc41438e9c641365b18eef32",
       "version_major": 2,
       "version_minor": 0
      },
      "text/plain": [
       "RadioButtons(description='(Ever told) you had a Stroke? : ', options={'No': 0, 'Yes': 1}, value=0)"
      ]
     },
     "metadata": {},
     "output_type": "display_data"
    },
    {
     "data": {
      "application/vnd.jupyter.widget-view+json": {
       "model_id": "0575e793acf34473bd0b96f9846ce6bd",
       "version_major": 2,
       "version_minor": 0
      },
      "text/plain": [
       "RadioButtons(description='Heart Disease or Attack (CHD or MI) : ', options={'No': 0, 'Yes': 1}, value=0)"
      ]
     },
     "metadata": {},
     "output_type": "display_data"
    },
    {
     "data": {
      "application/vnd.jupyter.widget-view+json": {
       "model_id": "e6bd1fa7284446f9996087364cd5b76e",
       "version_major": 2,
       "version_minor": 0
      },
      "text/plain": [
       "Label(value='General Health scale :')"
      ]
     },
     "metadata": {},
     "output_type": "display_data"
    },
    {
     "data": {
      "application/vnd.jupyter.widget-view+json": {
       "model_id": "a980b171b6f1456b914baf800a281d54",
       "version_major": 2,
       "version_minor": 0
      },
      "text/plain": [
       "FloatSlider(value=3.0, max=5.0, min=1.0, step=1.0)"
      ]
     },
     "metadata": {},
     "output_type": "display_data"
    },
    {
     "data": {
      "application/vnd.jupyter.widget-view+json": {
       "model_id": "4f2dac7d09cd44e2bbae5a81b25d75ac",
       "version_major": 2,
       "version_minor": 0
      },
      "text/plain": [
       "Label(value='How many past days was your Mental Health not good?')"
      ]
     },
     "metadata": {},
     "output_type": "display_data"
    },
    {
     "data": {
      "application/vnd.jupyter.widget-view+json": {
       "model_id": "f12181ecda2348739cb278d5fc7ea0a8",
       "version_major": 2,
       "version_minor": 0
      },
      "text/plain": [
       "FloatSlider(value=0.0, max=30.0, step=1.0)"
      ]
     },
     "metadata": {},
     "output_type": "display_data"
    },
    {
     "data": {
      "application/vnd.jupyter.widget-view+json": {
       "model_id": "07e4efe3755e46ba9021d2db9af3d4b9",
       "version_major": 2,
       "version_minor": 0
      },
      "text/plain": [
       "Label(value='How many past days was your Physical Health not good?')"
      ]
     },
     "metadata": {},
     "output_type": "display_data"
    },
    {
     "data": {
      "application/vnd.jupyter.widget-view+json": {
       "model_id": "f43c02e443174527b7e041fce713fce0",
       "version_major": 2,
       "version_minor": 0
      },
      "text/plain": [
       "FloatSlider(value=0.0, max=30.0, step=1.0)"
      ]
     },
     "metadata": {},
     "output_type": "display_data"
    },
    {
     "data": {
      "application/vnd.jupyter.widget-view+json": {
       "model_id": "d125736b7b20458fbbfb13ab90fbe3bc",
       "version_major": 2,
       "version_minor": 0
      },
      "text/plain": [
       "RadioButtons(description='Do you have Difficulty Walking or climbing stairs? : ', options={'No': 0, 'Yes': 1},…"
      ]
     },
     "metadata": {},
     "output_type": "display_data"
    },
    {
     "data": {
      "application/vnd.jupyter.widget-view+json": {
       "model_id": "e4e7ba85e6684e488dd928f37e88963e",
       "version_major": 2,
       "version_minor": 0
      },
      "text/plain": [
       "RadioButtons(description='Physical Activity in past 30 days, not incl job : ', options={'No': 0, 'Yes': 1}, va…"
      ]
     },
     "metadata": {},
     "output_type": "display_data"
    },
    {
     "data": {
      "application/vnd.jupyter.widget-view+json": {
       "model_id": "2d2ba867c60e4925a13da44ef9611afc",
       "version_major": 2,
       "version_minor": 0
      },
      "text/plain": [
       "RadioButtons(description='Eat 1 Fruit or more per day : ', options={'No': 0, 'Yes': 1}, value=0)"
      ]
     },
     "metadata": {},
     "output_type": "display_data"
    },
    {
     "data": {
      "application/vnd.jupyter.widget-view+json": {
       "model_id": "6670585272a14208ac57a88d2a92e016",
       "version_major": 2,
       "version_minor": 0
      },
      "text/plain": [
       "RadioButtons(description='Eat Veggies 1 or more per day : ', options={'No': 0, 'Yes': 1}, value=0)"
      ]
     },
     "metadata": {},
     "output_type": "display_data"
    },
    {
     "data": {
      "application/vnd.jupyter.widget-view+json": {
       "model_id": "bb4399b61e8c442ea266a6d2204b45c6",
       "version_major": 2,
       "version_minor": 0
      },
      "text/plain": [
       "Button(description='Predict Patient Risk', style=ButtonStyle())"
      ]
     },
     "metadata": {},
     "output_type": "display_data"
    },
    {
     "data": {
      "application/vnd.jupyter.widget-view+json": {
       "model_id": "38c04d7218d1406985b12bfcbfd1d3d3",
       "version_major": 2,
       "version_minor": 0
      },
      "text/plain": [
       "Output()"
      ]
     },
     "metadata": {},
     "output_type": "display_data"
    }
   ],
   "source": [
    "# USER INTERFACE: form for input for patient prediction\n",
    "import ipywidgets as widgets\n",
    "\n",
    "# Map string labels to numerical values\n",
    "yesno_options_dict = {\"No\": 0, \"Yes\": 1}\n",
    "mf_options_dict = {\"Female\": 0, \"Male\": 1}\n",
    "\n",
    "# 'features' is the list of features used by your model.\n",
    "features = [\n",
    "    \"HighBP\",\n",
    "    \"HighChol\",\n",
    "    \"BMI\",\n",
    "    \"Smoker\",\n",
    "    \"Stroke\",\n",
    "    \"HeartDiseaseorAttack\",\n",
    "    \"PhysActivity\",\n",
    "    \"Fruits\",\n",
    "    \"Veggies\",\n",
    "    \"HvyAlcoholConsump\",\n",
    "    \"GenHlth\",\n",
    "    \"MentHlth\",\n",
    "    \"PhysHlth\",\n",
    "    \"DiffWalk\",\n",
    "    \"Sex\",\n",
    "    \"Age\",\n",
    "]\n",
    "\n",
    "# 'widget_items' is a dictionary mapping feature to description\n",
    "widget_items = {\n",
    "    \"Sex\": \"Sex\",\n",
    "    \"Age_label\": \"Age category (1 = 18-24, 4 = 35-39, 8 = 55-59, 13 = 80 or older) :\",\n",
    "    \"Age\": \"\",\n",
    "    \"BMI_label\": \"Body Mass Index :\",\n",
    "    \"BMI\": \"\",\n",
    "    \"HighBP\": \"High Blood Pressure\",\n",
    "    \"HighChol\": \"High Cholesterol\",\n",
    "    \"Smoker\": \"Have you smoked at least 100 cigarettes in your life?\",\n",
    "    \"HvyAlcoholConsump\": \"Heavy drinkers (drinks <14 for men, <7 for women per week\",\n",
    "    \"Stroke\": \"(Ever told) you had a Stroke?\",\n",
    "    \"HeartDiseaseorAttack\": \"Heart Disease or Attack (CHD or MI)\",\n",
    "    \"GenHlth_label\": \"General Health scale :\",\n",
    "    \"GenHlth\": \"\",\n",
    "    \"MentHlth_label\": \"How many past days was your Mental Health not good?\",\n",
    "    \"MentHlth\": \"\",\n",
    "    \"PhysHlth_label\": \"How many past days was your Physical Health not good?\",\n",
    "    \"PhysHlth\": \"\",\n",
    "    \"DiffWalk\": \"Do you have Difficulty Walking or climbing stairs?\",\n",
    "    \"PhysActivity\": \"Physical Activity in past 30 days, not incl job\",\n",
    "    \"Fruits\": \"Eat 1 Fruit or more per day\",\n",
    "    \"Veggies\": \"Eat Veggies 1 or more per day\",\n",
    "}\n",
    "widgets_dict = {}\n",
    "\n",
    "# Create widgets for each feature\n",
    "for item in widget_items.keys():\n",
    "    if item in [\n",
    "        \"HighBP\",\n",
    "        \"HighChol\",\n",
    "        \"Smoker\",\n",
    "        \"Stroke\",\n",
    "        \"HeartDiseaseorAttack\",\n",
    "        \"PhysActivity\",\n",
    "        \"Fruits\",\n",
    "        \"Veggies\",\n",
    "        \"HvyAlcoholConsump\",\n",
    "        \"DiffWalk\",\n",
    "    ]:\n",
    "        # Binary features: create a dropdown with options 'Yes' and 'No'\n",
    "        widgets_dict[item] = widgets.RadioButtons(\n",
    "            options=yesno_options_dict,\n",
    "            value=0,\n",
    "            description=widget_items.get(item) + \" : \",\n",
    "        )\n",
    "    if item in [\"Sex\"]:\n",
    "        # Create a dropdown with options 'Male' and 'Female'\n",
    "        widgets_dict[item] = widgets.RadioButtons(\n",
    "            options=mf_options_dict,\n",
    "            value=0,\n",
    "            description=widget_items.get(item) + \" : \",\n",
    "        )\n",
    "    # Numerical features: create float sliders\n",
    "    if item in [\"BMI\"]:\n",
    "        widgets_dict[item] = widgets.FloatSlider(\n",
    "            value=20.0,\n",
    "            min=10,\n",
    "            max=50.0,\n",
    "            step=0.1,\n",
    "            description=widget_items.get(item),\n",
    "        )\n",
    "    if item in [\"GenHlth\"]:\n",
    "        widgets_dict[item] = widgets.FloatSlider(\n",
    "            value=3,\n",
    "            min=1,\n",
    "            max=5,\n",
    "            step=1,\n",
    "            description=widget_items.get(item),\n",
    "        )\n",
    "    if item in [\"MentHlth\", \"PhysHlth\"]:\n",
    "        widgets_dict[item] = widgets.FloatSlider(\n",
    "            value=0,\n",
    "            min=0,\n",
    "            max=30,\n",
    "            step=1,\n",
    "            description=widget_items.get(item),\n",
    "        )\n",
    "    if item in [\"Age\"]:\n",
    "        widgets_dict[item] = widgets.FloatSlider(\n",
    "            value=8,\n",
    "            min=1,\n",
    "            max=13,\n",
    "            step=1,\n",
    "            description=widget_items.get(item),\n",
    "        )\n",
    "    if item in [\n",
    "        \"Age_label\",\n",
    "        \"BMI_label\",\n",
    "        \"GenHlth_label\",\n",
    "        \"MentHlth_label\",\n",
    "        \"PhysHlth_label\",\n",
    "    ]:\n",
    "        widgets_dict[item] = widgets.Label(widget_items.get(item))\n",
    "\n",
    "# Button to make prediction\n",
    "predict_btn = widgets.Button(description=\"Predict Patient Risk\")\n",
    "\n",
    "# Output widget to display prediction result\n",
    "output = widgets.Output()\n",
    "\n",
    "\n",
    "def on_predict_btn_clicked(b):\n",
    "    # Prepare the input for the model\n",
    "    input_data = [widgets_dict[feature].value for feature in features]\n",
    "    input_data = np.array(input_data).reshape(1, -1)\n",
    "\n",
    "    # Create a DataFrame with input_data and assign column names using features\n",
    "    input_df = pd.DataFrame(input_data, columns=features)\n",
    "\n",
    "    # Ensure the DataFrame columns are in the correct order\n",
    "    input_df = input_df[X_log.columns]\n",
    "\n",
    "    # Apply the same scaling to the input as was done to the training data\n",
    "    input_df[numerical_columns] = scaler.transform(input_df[numerical_columns])\n",
    "\n",
    "    #### Make prediction ####\n",
    "    prediction = mylog_model.predict(input_df)\n",
    "\n",
    "    # Display prediction\n",
    "    with output:\n",
    "        output.clear_output()\n",
    "        if prediction[0] == 0:\n",
    "            print(\"Prediction: Not at risk of diabetes\")\n",
    "        else:\n",
    "            print(\"Prediction: At risk of diabetes\")\n",
    "\n",
    "\n",
    "predict_btn.on_click(on_predict_btn_clicked)\n",
    "\n",
    "# Display widgets\n",
    "for widget in widgets_dict.values():\n",
    "    display(widget)\n",
    "display(predict_btn, output)"
   ]
  },
  {
   "cell_type": "markdown",
   "metadata": {},
   "source": [
    "# Watermark\n",
    "\n",
    "Dependences to record the computational environment for reproducability."
   ]
  },
  {
   "cell_type": "code",
   "execution_count": 18,
   "metadata": {
    "jupyter": {
     "source_hidden": true
    }
   },
   "outputs": [
    {
     "name": "stdout",
     "output_type": "stream",
     "text": [
      "Last updated: Tue Mar 12 2024 10:02:12Pacific Daylight Time\n",
      "\n",
      "Python implementation: CPython\n",
      "Python version       : 3.11.7\n",
      "IPython version      : 8.20.0\n",
      "\n",
      "Compiler    : MSC v.1916 64 bit (AMD64)\n",
      "OS          : Windows\n",
      "Release     : 10\n",
      "Machine     : AMD64\n",
      "Processor   : AMD64 Family 23 Model 1 Stepping 1, AuthenticAMD\n",
      "CPU cores   : 16\n",
      "Architecture: 64bit\n",
      "\n",
      "watermark: 2.4.3\n",
      "\n",
      "numpy     : 1.26.3\n",
      "seaborn   : 0.12.2\n",
      "pandas    : 2.1.4\n",
      "matplotlib: 3.8.0\n",
      "ipywidgets: 8.1.2\n",
      "sklearn   : 1.4.1.post1\n",
      "\n",
      "Author: Joseph Curtis\n",
      "\n",
      "Github username: joseph-curtis\n",
      "\n"
     ]
    }
   ],
   "source": [
    "# install and load watermark extension\n",
    "!pip --quiet install watermark\n",
    "%load_ext watermark\n",
    "\n",
    "# time stamp\n",
    "%watermark -untz\n",
    "# python, ipython, packages and machine characteristics\n",
    "%watermark -v -m\n",
    "%watermark -iv -p watermark\n",
    "\n",
    "# author, github repo\n",
    "%watermark -a \"Joseph Curtis\" -gu \"joseph-curtis\""
   ]
  }
 ],
 "metadata": {
  "kaggle": {
   "accelerator": "none",
   "dataSources": [
    {
     "datasetId": 1703281,
     "sourceId": 2789260,
     "sourceType": "datasetVersion"
    },
    {
     "datasetId": 4066291,
     "sourceId": 7062872,
     "sourceType": "datasetVersion"
    }
   ],
   "dockerImageVersionId": 30664,
   "isGpuEnabled": false,
   "isInternetEnabled": false,
   "language": "python",
   "sourceType": "notebook"
  },
  "kernelspec": {
   "display_name": "Python 3 (ipykernel)",
   "language": "python",
   "name": "python3"
  },
  "language_info": {
   "codemirror_mode": {
    "name": "ipython",
    "version": 3
   },
   "file_extension": ".py",
   "mimetype": "text/x-python",
   "name": "python",
   "nbconvert_exporter": "python",
   "pygments_lexer": "ipython3",
   "version": "3.11.7"
  }
 },
 "nbformat": 4,
 "nbformat_minor": 4
}
